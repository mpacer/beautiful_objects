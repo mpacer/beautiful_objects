{
 "cells": [
  {
   "cell_type": "code",
   "execution_count": 1,
   "metadata": {},
   "outputs": [],
   "source": [
    "from display_xml import XML\n",
    "from allofplos import Article, Corpus, starterdir"
   ]
  },
  {
   "cell_type": "code",
   "execution_count": 2,
   "metadata": {},
   "outputs": [],
   "source": [
    "corpus = Corpus(starterdir)\n",
    "article = corpus[0]"
   ]
  },
  {
   "cell_type": "code",
   "execution_count": 3,
   "metadata": {
    "scrolled": true
   },
   "outputs": [
    {
     "data": {
      "text/html": [
       "<div> \n",
       "<span style=\"display:inline-flex;\">Title: <span style=\"display:inline-flex;margin-left:.5em;\"><a href=\"http://journals.plos.org/plosbiology/article?id=10.1371/journal.pbio.0020188\"><em>Taking the Stem Cell Debate to the Public</em></a></span></span></br>\n",
       "<span>DOI: <span><span><a href=\"https://doi.org/10.1371/journal.pbio.0020188\"><code>10.1371/journal.pbio.0020188</code></a></span> \n",
       "</div>\n"
      ],
      "text/plain": [
       "DOI: 10.1371/journal.pbio.0020188\n",
       "Title: Taking the Stem Cell Debate to the Public"
      ]
     },
     "execution_count": 3,
     "metadata": {},
     "output_type": "execute_result"
    }
   ],
   "source": [
    "article"
   ]
  },
  {
   "cell_type": "markdown",
   "metadata": {},
   "source": [
    "## Displaying xml content"
   ]
  },
  {
   "cell_type": "code",
   "execution_count": 4,
   "metadata": {},
   "outputs": [
    {
     "data": {
      "text/html": [
       "\n",
       "    <div class=ac5adeb63-3ea0-4d8e-a52f-606d0c03f0b4> \n",
       "        <style>\n",
       "            div.ac5adeb63-3ea0-4d8e-a52f-606d0c03f0b4 .hll { background-color: #ffffcc }\n",
       "div.ac5adeb63-3ea0-4d8e-a52f-606d0c03f0b4 .c { color: #408080; font-style: italic } /* Comment */\n",
       "div.ac5adeb63-3ea0-4d8e-a52f-606d0c03f0b4 .err { border: 1px solid #FF0000 } /* Error */\n",
       "div.ac5adeb63-3ea0-4d8e-a52f-606d0c03f0b4 .k { color: #008000; font-weight: bold } /* Keyword */\n",
       "div.ac5adeb63-3ea0-4d8e-a52f-606d0c03f0b4 .o { color: #666666 } /* Operator */\n",
       "div.ac5adeb63-3ea0-4d8e-a52f-606d0c03f0b4 .ch { color: #408080; font-style: italic } /* Comment.Hashbang */\n",
       "div.ac5adeb63-3ea0-4d8e-a52f-606d0c03f0b4 .cm { color: #408080; font-style: italic } /* Comment.Multiline */\n",
       "div.ac5adeb63-3ea0-4d8e-a52f-606d0c03f0b4 .cp { color: #BC7A00 } /* Comment.Preproc */\n",
       "div.ac5adeb63-3ea0-4d8e-a52f-606d0c03f0b4 .cpf { color: #408080; font-style: italic } /* Comment.PreprocFile */\n",
       "div.ac5adeb63-3ea0-4d8e-a52f-606d0c03f0b4 .c1 { color: #408080; font-style: italic } /* Comment.Single */\n",
       "div.ac5adeb63-3ea0-4d8e-a52f-606d0c03f0b4 .cs { color: #408080; font-style: italic } /* Comment.Special */\n",
       "div.ac5adeb63-3ea0-4d8e-a52f-606d0c03f0b4 .gd { color: #A00000 } /* Generic.Deleted */\n",
       "div.ac5adeb63-3ea0-4d8e-a52f-606d0c03f0b4 .ge { font-style: italic } /* Generic.Emph */\n",
       "div.ac5adeb63-3ea0-4d8e-a52f-606d0c03f0b4 .gr { color: #FF0000 } /* Generic.Error */\n",
       "div.ac5adeb63-3ea0-4d8e-a52f-606d0c03f0b4 .gh { color: #000080; font-weight: bold } /* Generic.Heading */\n",
       "div.ac5adeb63-3ea0-4d8e-a52f-606d0c03f0b4 .gi { color: #00A000 } /* Generic.Inserted */\n",
       "div.ac5adeb63-3ea0-4d8e-a52f-606d0c03f0b4 .go { color: #888888 } /* Generic.Output */\n",
       "div.ac5adeb63-3ea0-4d8e-a52f-606d0c03f0b4 .gp { color: #000080; font-weight: bold } /* Generic.Prompt */\n",
       "div.ac5adeb63-3ea0-4d8e-a52f-606d0c03f0b4 .gs { font-weight: bold } /* Generic.Strong */\n",
       "div.ac5adeb63-3ea0-4d8e-a52f-606d0c03f0b4 .gu { color: #800080; font-weight: bold } /* Generic.Subheading */\n",
       "div.ac5adeb63-3ea0-4d8e-a52f-606d0c03f0b4 .gt { color: #0044DD } /* Generic.Traceback */\n",
       "div.ac5adeb63-3ea0-4d8e-a52f-606d0c03f0b4 .kc { color: #008000; font-weight: bold } /* Keyword.Constant */\n",
       "div.ac5adeb63-3ea0-4d8e-a52f-606d0c03f0b4 .kd { color: #008000; font-weight: bold } /* Keyword.Declaration */\n",
       "div.ac5adeb63-3ea0-4d8e-a52f-606d0c03f0b4 .kn { color: #008000; font-weight: bold } /* Keyword.Namespace */\n",
       "div.ac5adeb63-3ea0-4d8e-a52f-606d0c03f0b4 .kp { color: #008000 } /* Keyword.Pseudo */\n",
       "div.ac5adeb63-3ea0-4d8e-a52f-606d0c03f0b4 .kr { color: #008000; font-weight: bold } /* Keyword.Reserved */\n",
       "div.ac5adeb63-3ea0-4d8e-a52f-606d0c03f0b4 .kt { color: #B00040 } /* Keyword.Type */\n",
       "div.ac5adeb63-3ea0-4d8e-a52f-606d0c03f0b4 .m { color: #666666 } /* Literal.Number */\n",
       "div.ac5adeb63-3ea0-4d8e-a52f-606d0c03f0b4 .s { color: #BA2121 } /* Literal.String */\n",
       "div.ac5adeb63-3ea0-4d8e-a52f-606d0c03f0b4 .na { color: #7D9029 } /* Name.Attribute */\n",
       "div.ac5adeb63-3ea0-4d8e-a52f-606d0c03f0b4 .nb { color: #008000 } /* Name.Builtin */\n",
       "div.ac5adeb63-3ea0-4d8e-a52f-606d0c03f0b4 .nc { color: #0000FF; font-weight: bold } /* Name.Class */\n",
       "div.ac5adeb63-3ea0-4d8e-a52f-606d0c03f0b4 .no { color: #880000 } /* Name.Constant */\n",
       "div.ac5adeb63-3ea0-4d8e-a52f-606d0c03f0b4 .nd { color: #AA22FF } /* Name.Decorator */\n",
       "div.ac5adeb63-3ea0-4d8e-a52f-606d0c03f0b4 .ni { color: #999999; font-weight: bold } /* Name.Entity */\n",
       "div.ac5adeb63-3ea0-4d8e-a52f-606d0c03f0b4 .ne { color: #D2413A; font-weight: bold } /* Name.Exception */\n",
       "div.ac5adeb63-3ea0-4d8e-a52f-606d0c03f0b4 .nf { color: #0000FF } /* Name.Function */\n",
       "div.ac5adeb63-3ea0-4d8e-a52f-606d0c03f0b4 .nl { color: #A0A000 } /* Name.Label */\n",
       "div.ac5adeb63-3ea0-4d8e-a52f-606d0c03f0b4 .nn { color: #0000FF; font-weight: bold } /* Name.Namespace */\n",
       "div.ac5adeb63-3ea0-4d8e-a52f-606d0c03f0b4 .nt { color: #008000; font-weight: bold } /* Name.Tag */\n",
       "div.ac5adeb63-3ea0-4d8e-a52f-606d0c03f0b4 .nv { color: #19177C } /* Name.Variable */\n",
       "div.ac5adeb63-3ea0-4d8e-a52f-606d0c03f0b4 .ow { color: #AA22FF; font-weight: bold } /* Operator.Word */\n",
       "div.ac5adeb63-3ea0-4d8e-a52f-606d0c03f0b4 .w { color: #bbbbbb } /* Text.Whitespace */\n",
       "div.ac5adeb63-3ea0-4d8e-a52f-606d0c03f0b4 .mb { color: #666666 } /* Literal.Number.Bin */\n",
       "div.ac5adeb63-3ea0-4d8e-a52f-606d0c03f0b4 .mf { color: #666666 } /* Literal.Number.Float */\n",
       "div.ac5adeb63-3ea0-4d8e-a52f-606d0c03f0b4 .mh { color: #666666 } /* Literal.Number.Hex */\n",
       "div.ac5adeb63-3ea0-4d8e-a52f-606d0c03f0b4 .mi { color: #666666 } /* Literal.Number.Integer */\n",
       "div.ac5adeb63-3ea0-4d8e-a52f-606d0c03f0b4 .mo { color: #666666 } /* Literal.Number.Oct */\n",
       "div.ac5adeb63-3ea0-4d8e-a52f-606d0c03f0b4 .sa { color: #BA2121 } /* Literal.String.Affix */\n",
       "div.ac5adeb63-3ea0-4d8e-a52f-606d0c03f0b4 .sb { color: #BA2121 } /* Literal.String.Backtick */\n",
       "div.ac5adeb63-3ea0-4d8e-a52f-606d0c03f0b4 .sc { color: #BA2121 } /* Literal.String.Char */\n",
       "div.ac5adeb63-3ea0-4d8e-a52f-606d0c03f0b4 .dl { color: #BA2121 } /* Literal.String.Delimiter */\n",
       "div.ac5adeb63-3ea0-4d8e-a52f-606d0c03f0b4 .sd { color: #BA2121; font-style: italic } /* Literal.String.Doc */\n",
       "div.ac5adeb63-3ea0-4d8e-a52f-606d0c03f0b4 .s2 { color: #BA2121 } /* Literal.String.Double */\n",
       "div.ac5adeb63-3ea0-4d8e-a52f-606d0c03f0b4 .se { color: #BB6622; font-weight: bold } /* Literal.String.Escape */\n",
       "div.ac5adeb63-3ea0-4d8e-a52f-606d0c03f0b4 .sh { color: #BA2121 } /* Literal.String.Heredoc */\n",
       "div.ac5adeb63-3ea0-4d8e-a52f-606d0c03f0b4 .si { color: #BB6688; font-weight: bold } /* Literal.String.Interpol */\n",
       "div.ac5adeb63-3ea0-4d8e-a52f-606d0c03f0b4 .sx { color: #008000 } /* Literal.String.Other */\n",
       "div.ac5adeb63-3ea0-4d8e-a52f-606d0c03f0b4 .sr { color: #BB6688 } /* Literal.String.Regex */\n",
       "div.ac5adeb63-3ea0-4d8e-a52f-606d0c03f0b4 .s1 { color: #BA2121 } /* Literal.String.Single */\n",
       "div.ac5adeb63-3ea0-4d8e-a52f-606d0c03f0b4 .ss { color: #19177C } /* Literal.String.Symbol */\n",
       "div.ac5adeb63-3ea0-4d8e-a52f-606d0c03f0b4 .bp { color: #008000 } /* Name.Builtin.Pseudo */\n",
       "div.ac5adeb63-3ea0-4d8e-a52f-606d0c03f0b4 .fm { color: #0000FF } /* Name.Function.Magic */\n",
       "div.ac5adeb63-3ea0-4d8e-a52f-606d0c03f0b4 .vc { color: #19177C } /* Name.Variable.Class */\n",
       "div.ac5adeb63-3ea0-4d8e-a52f-606d0c03f0b4 .vg { color: #19177C } /* Name.Variable.Global */\n",
       "div.ac5adeb63-3ea0-4d8e-a52f-606d0c03f0b4 .vi { color: #19177C } /* Name.Variable.Instance */\n",
       "div.ac5adeb63-3ea0-4d8e-a52f-606d0c03f0b4 .vm { color: #19177C } /* Name.Variable.Magic */\n",
       "div.ac5adeb63-3ea0-4d8e-a52f-606d0c03f0b4 .il { color: #666666 } /* Literal.Number.Integer.Long */\n",
       "div.ac5adeb63-3ea0-4d8e-a52f-606d0c03f0b4 pre{\n",
       "            font-size: 1em;\n",
       "            line-height: 1.25em;\n",
       "            }\n",
       "        </style>\n",
       "        <div class=\"highlight\"><pre><span></span><span class=\"nt\">&lt;body</span> <span class=\"na\">xmlns:mml=</span><span class=\"s\">&quot;http://www.w3.org/1998/Math/MathML&quot;</span> <span class=\"na\">xmlns:xlink=</span><span class=\"s\">&quot;http://www.w3.org/1999/xlink&quot;</span><span class=\"nt\">&gt;</span>\n",
       "    <span class=\"nt\">&lt;sec</span> <span class=\"na\">id=</span><span class=\"s\">&quot;s1&quot;</span><span class=\"nt\">&gt;</span>\n",
       "      <span class=\"nt\">&lt;title/&gt;</span>\n",
       "      <span class=\"nt\">&lt;p&gt;</span>In their essay in the April 2004 issue of <span class=\"nt\">&lt;italic&gt;</span>PLoS Biology<span class=\"nt\">&lt;/italic&gt;</span>, Elizabeth <span class=\"nt\">&lt;xref</span> <span class=\"na\">ref-type=</span><span class=\"s\">&quot;bibr&quot;</span> <span class=\"na\">rid=</span><span class=\"s\">&quot;pbio-0020188-Blackburn1&quot;</span><span class=\"nt\">&gt;</span>Blackburn and Janet Rowley (2004)<span class=\"nt\">&lt;/xref&gt;</span>, two distinguished cellular biologists and members of the President&#39;s Council on Bioethics, strongly question the scientific foundation of two reports from the Council (<span class=\"nt\">&lt;xref</span> <span class=\"na\">ref-type=</span><span class=\"s\">&quot;bibr&quot;</span> <span class=\"na\">rid=</span><span class=\"s\">&quot;pbio-0020188-PCB1&quot;</span><span class=\"nt\">&gt;</span>President&#39;s Council on Bioethics 2003<span class=\"nt\">&lt;/xref&gt;</span>, <span class=\"nt\">&lt;xref</span> <span class=\"na\">ref-type=</span><span class=\"s\">&quot;bibr&quot;</span> <span class=\"na\">rid=</span><span class=\"s\">&quot;pbio-0020188-PCB2&quot;</span><span class=\"nt\">&gt;</span>2004<span class=\"nt\">&lt;/xref&gt;</span>). The Council on Bioethics was formed by executive order “to advise the President on bioethical issues that may emerge as a consequence of advances in biomedical science and technology.” An open discussion between ethicists and scientists is critical to the advisory system. The recent administrative dismissal of Dr. Blackburn from the Council is very alarming. By stacking the deck with conservative opinions, and not accurately discussing the scientific issues, the Bioethics Council has become irrelevant to the scientific community and presents a jaundiced view to the public.<span class=\"nt\">&lt;/p&gt;</span>\n",
       "      <span class=\"nt\">&lt;p&gt;</span>Stem cell research and its applications have the potential to revolutionize human health care. Recent polls show support for embryonic stem cell research, even with conservative voters. The public, as the major benefactor of biomedical research and the target population of beneficial clinical advances, has the right to a fact-based discussion of the science regarding stem cells. It is therefore time that the debate on stem cell research, with its risks and benefits, be taken to the public. A debate on stem cell research restricted to the President&#39;s Council on Bioethics is a disservice to the public.<span class=\"nt\">&lt;/p&gt;</span>\n",
       "      <span class=\"nt\">&lt;p&gt;</span>Nearly three decades ago, the advent of recombinant DNA technology and in vitro fertilization (IVF) techniques, raised similar concerns regarding research. Contrary to apprehensive expectations, recombinant DNA technology has boosted enormous advances in the health care and pharmaceutical industry. IVF evolved to be a widely accepted, safe medical procedure, with over one million healthy babies born by IVF and related treatments. Similarly, once stem cells are successfully used in the clinic, most of today&#39;s political and ethical issues will evaporate.<span class=\"nt\">&lt;/p&gt;</span>\n",
       "      <span class=\"nt\">&lt;p&gt;</span>The International Society for Stem Cell Research (ISSCR), a society whose membership encompasses the bulk of the stem cell research brain trust, holds the position that research on both adult and embryonic stem cells will guarantee the fastest progress in scientific discovery and clinical advances. The ISSCR also strongly opposes reproductive cloning and supports the National Academy of Science&#39;s proposal to develop voluntary guidelines to encourage responsible practices in human embryonic stem cell research.<span class=\"nt\">&lt;/p&gt;</span>\n",
       "      <span class=\"nt\">&lt;p&gt;</span>One of the original recommendations of the President&#39;s Council on Bioethics was a four-year moratorium on stem cell research. The purpose of this moratorium was theoretically to open a large, national discourse on the topic of stem cell research, a debate intended to bring all sides into thoughtful reflection on the issue. To that end, the ISSCR has repeatedly and consistently offered an open forum for all sides in the debate at our conferences, and has carefully offered invitations to join our society and to speak at our annual meeting to members of the President&#39;s Council, including colleagues whose opposition to stem cell research has been clear. None have accepted. Dr. Kass, in particular, has received several direct appeals but has turned down every such opportunity to make his case to the researchers who arguably are his discourse partners, from whom he could learn much, and whom he should be actively engaged in teaching. It is tragic that voices of dissent and debate are stilled, for it is this very quality of open debate that is at the heart of both the scientific method and an ethically directed American democracy—surely a goal that we all share.<span class=\"nt\">&lt;/p&gt;</span>\n",
       "    <span class=\"nt\">&lt;/sec&gt;</span>\n",
       "  <span class=\"nt\">&lt;/body&gt;</span>\n",
       "  \n",
       "</pre></div>\n",
       "\n",
       "    </div>\n",
       "    "
      ],
      "text/plain": [
       "<body xmlns:mml=\"http://www.w3.org/1998/Math/MathML\" xmlns:xlink=\"http://www.w3.org/1999/xlink\">\n",
       "    <sec id=\"s1\">\n",
       "      <title/>\n",
       "      <p>In their essay in the April 2004 issue of <italic>PLoS Biology</italic>, Elizabeth <xref ref-type=\"bibr\" rid=\"pbio-0020188-Blackburn1\">Blackburn and Janet Rowley (2004)</xref>, two distinguished cellular biologists and members of the President's Council on Bioethics, strongly question the scientific foundation of two reports from the Council (<xref ref-type=\"bibr\" rid=\"pbio-0020188-PCB1\">President's Council on Bioethics 2003</xref>, <xref ref-type=\"bibr\" rid=\"pbio-0020188-PCB2\">2004</xref>). The Council on Bioethics was formed by executive order “to advise the President on bioethical issues that may emerge as a consequence of advances in biomedical science and technology.” An open discussion between ethicists and scientists is critical to the advisory system. The recent administrative dismissal of Dr. Blackburn from the Council is very alarming. By stacking the deck with conservative opinions, and not accurately discussing the scientific issues, the Bioethics Council has become irrelevant to the scientific community and presents a jaundiced view to the public.</p>\n",
       "      <p>Stem cell research and its applications have the potential to revolutionize human health care. Recent polls show support for embryonic stem cell research, even with conservative voters. The public, as the major benefactor of biomedical research and the target population of beneficial clinical advances, has the right to a fact-based discussion of the science regarding stem cells. It is therefore time that the debate on stem cell research, with its risks and benefits, be taken to the public. A debate on stem cell research restricted to the President's Council on Bioethics is a disservice to the public.</p>\n",
       "      <p>Nearly three decades ago, the advent of recombinant DNA technology and in vitro fertilization (IVF) techniques, raised similar concerns regarding research. Contrary to apprehensive expectations, recombinant DNA technology has boosted enormous advances in the health care and pharmaceutical industry. IVF evolved to be a widely accepted, safe medical procedure, with over one million healthy babies born by IVF and related treatments. Similarly, once stem cells are successfully used in the clinic, most of today's political and ethical issues will evaporate.</p>\n",
       "      <p>The International Society for Stem Cell Research (ISSCR), a society whose membership encompasses the bulk of the stem cell research brain trust, holds the position that research on both adult and embryonic stem cells will guarantee the fastest progress in scientific discovery and clinical advances. The ISSCR also strongly opposes reproductive cloning and supports the National Academy of Science's proposal to develop voluntary guidelines to encourage responsible practices in human embryonic stem cell research.</p>\n",
       "      <p>One of the original recommendations of the President's Council on Bioethics was a four-year moratorium on stem cell research. The purpose of this moratorium was theoretically to open a large, national discourse on the topic of stem cell research, a debate intended to bring all sides into thoughtful reflection on the issue. To that end, the ISSCR has repeatedly and consistently offered an open forum for all sides in the debate at our conferences, and has carefully offered invitations to join our society and to speak at our annual meeting to members of the President's Council, including colleagues whose opposition to stem cell research has been clear. None have accepted. Dr. Kass, in particular, has received several direct appeals but has turned down every such opportunity to make his case to the researchers who arguably are his discourse partners, from whom he could learn much, and whom he should be actively engaged in teaching. It is tragic that voices of dissent and debate are stilled, for it is this very quality of open debate that is at the heart of both the scientific method and an ethically directed American democracy—surely a goal that we all share.</p>\n",
       "    </sec>\n",
       "  </body>\n",
       "  \n"
      ]
     },
     "execution_count": 4,
     "metadata": {
      "text/plain": {
       "display_xml": {
        "style": "default"
       }
      }
     },
     "output_type": "execute_result"
    }
   ],
   "source": [
    "XML(article.body)"
   ]
  },
  {
   "cell_type": "markdown",
   "metadata": {},
   "source": [
    "## Overwriting existing display functions"
   ]
  },
  {
   "cell_type": "code",
   "execution_count": 5,
   "metadata": {},
   "outputs": [],
   "source": [
    "def xml_article(art):\n",
    "    return XML(art.body)._repr_html_()\n",
    "\n",
    "html = get_ipython().display_formatter.formatters['text/html']\n",
    "\n",
    "html.for_type(Article, xml_article)"
   ]
  },
  {
   "cell_type": "code",
   "execution_count": 6,
   "metadata": {},
   "outputs": [
    {
     "data": {
      "text/html": [
       "\n",
       "    <div class=a2cd7d3cc-a005-41ad-ad82-fcc580235a0f> \n",
       "        <style>\n",
       "            div.a2cd7d3cc-a005-41ad-ad82-fcc580235a0f .hll { background-color: #ffffcc }\n",
       "div.a2cd7d3cc-a005-41ad-ad82-fcc580235a0f .c { color: #408080; font-style: italic } /* Comment */\n",
       "div.a2cd7d3cc-a005-41ad-ad82-fcc580235a0f .err { border: 1px solid #FF0000 } /* Error */\n",
       "div.a2cd7d3cc-a005-41ad-ad82-fcc580235a0f .k { color: #008000; font-weight: bold } /* Keyword */\n",
       "div.a2cd7d3cc-a005-41ad-ad82-fcc580235a0f .o { color: #666666 } /* Operator */\n",
       "div.a2cd7d3cc-a005-41ad-ad82-fcc580235a0f .ch { color: #408080; font-style: italic } /* Comment.Hashbang */\n",
       "div.a2cd7d3cc-a005-41ad-ad82-fcc580235a0f .cm { color: #408080; font-style: italic } /* Comment.Multiline */\n",
       "div.a2cd7d3cc-a005-41ad-ad82-fcc580235a0f .cp { color: #BC7A00 } /* Comment.Preproc */\n",
       "div.a2cd7d3cc-a005-41ad-ad82-fcc580235a0f .cpf { color: #408080; font-style: italic } /* Comment.PreprocFile */\n",
       "div.a2cd7d3cc-a005-41ad-ad82-fcc580235a0f .c1 { color: #408080; font-style: italic } /* Comment.Single */\n",
       "div.a2cd7d3cc-a005-41ad-ad82-fcc580235a0f .cs { color: #408080; font-style: italic } /* Comment.Special */\n",
       "div.a2cd7d3cc-a005-41ad-ad82-fcc580235a0f .gd { color: #A00000 } /* Generic.Deleted */\n",
       "div.a2cd7d3cc-a005-41ad-ad82-fcc580235a0f .ge { font-style: italic } /* Generic.Emph */\n",
       "div.a2cd7d3cc-a005-41ad-ad82-fcc580235a0f .gr { color: #FF0000 } /* Generic.Error */\n",
       "div.a2cd7d3cc-a005-41ad-ad82-fcc580235a0f .gh { color: #000080; font-weight: bold } /* Generic.Heading */\n",
       "div.a2cd7d3cc-a005-41ad-ad82-fcc580235a0f .gi { color: #00A000 } /* Generic.Inserted */\n",
       "div.a2cd7d3cc-a005-41ad-ad82-fcc580235a0f .go { color: #888888 } /* Generic.Output */\n",
       "div.a2cd7d3cc-a005-41ad-ad82-fcc580235a0f .gp { color: #000080; font-weight: bold } /* Generic.Prompt */\n",
       "div.a2cd7d3cc-a005-41ad-ad82-fcc580235a0f .gs { font-weight: bold } /* Generic.Strong */\n",
       "div.a2cd7d3cc-a005-41ad-ad82-fcc580235a0f .gu { color: #800080; font-weight: bold } /* Generic.Subheading */\n",
       "div.a2cd7d3cc-a005-41ad-ad82-fcc580235a0f .gt { color: #0044DD } /* Generic.Traceback */\n",
       "div.a2cd7d3cc-a005-41ad-ad82-fcc580235a0f .kc { color: #008000; font-weight: bold } /* Keyword.Constant */\n",
       "div.a2cd7d3cc-a005-41ad-ad82-fcc580235a0f .kd { color: #008000; font-weight: bold } /* Keyword.Declaration */\n",
       "div.a2cd7d3cc-a005-41ad-ad82-fcc580235a0f .kn { color: #008000; font-weight: bold } /* Keyword.Namespace */\n",
       "div.a2cd7d3cc-a005-41ad-ad82-fcc580235a0f .kp { color: #008000 } /* Keyword.Pseudo */\n",
       "div.a2cd7d3cc-a005-41ad-ad82-fcc580235a0f .kr { color: #008000; font-weight: bold } /* Keyword.Reserved */\n",
       "div.a2cd7d3cc-a005-41ad-ad82-fcc580235a0f .kt { color: #B00040 } /* Keyword.Type */\n",
       "div.a2cd7d3cc-a005-41ad-ad82-fcc580235a0f .m { color: #666666 } /* Literal.Number */\n",
       "div.a2cd7d3cc-a005-41ad-ad82-fcc580235a0f .s { color: #BA2121 } /* Literal.String */\n",
       "div.a2cd7d3cc-a005-41ad-ad82-fcc580235a0f .na { color: #7D9029 } /* Name.Attribute */\n",
       "div.a2cd7d3cc-a005-41ad-ad82-fcc580235a0f .nb { color: #008000 } /* Name.Builtin */\n",
       "div.a2cd7d3cc-a005-41ad-ad82-fcc580235a0f .nc { color: #0000FF; font-weight: bold } /* Name.Class */\n",
       "div.a2cd7d3cc-a005-41ad-ad82-fcc580235a0f .no { color: #880000 } /* Name.Constant */\n",
       "div.a2cd7d3cc-a005-41ad-ad82-fcc580235a0f .nd { color: #AA22FF } /* Name.Decorator */\n",
       "div.a2cd7d3cc-a005-41ad-ad82-fcc580235a0f .ni { color: #999999; font-weight: bold } /* Name.Entity */\n",
       "div.a2cd7d3cc-a005-41ad-ad82-fcc580235a0f .ne { color: #D2413A; font-weight: bold } /* Name.Exception */\n",
       "div.a2cd7d3cc-a005-41ad-ad82-fcc580235a0f .nf { color: #0000FF } /* Name.Function */\n",
       "div.a2cd7d3cc-a005-41ad-ad82-fcc580235a0f .nl { color: #A0A000 } /* Name.Label */\n",
       "div.a2cd7d3cc-a005-41ad-ad82-fcc580235a0f .nn { color: #0000FF; font-weight: bold } /* Name.Namespace */\n",
       "div.a2cd7d3cc-a005-41ad-ad82-fcc580235a0f .nt { color: #008000; font-weight: bold } /* Name.Tag */\n",
       "div.a2cd7d3cc-a005-41ad-ad82-fcc580235a0f .nv { color: #19177C } /* Name.Variable */\n",
       "div.a2cd7d3cc-a005-41ad-ad82-fcc580235a0f .ow { color: #AA22FF; font-weight: bold } /* Operator.Word */\n",
       "div.a2cd7d3cc-a005-41ad-ad82-fcc580235a0f .w { color: #bbbbbb } /* Text.Whitespace */\n",
       "div.a2cd7d3cc-a005-41ad-ad82-fcc580235a0f .mb { color: #666666 } /* Literal.Number.Bin */\n",
       "div.a2cd7d3cc-a005-41ad-ad82-fcc580235a0f .mf { color: #666666 } /* Literal.Number.Float */\n",
       "div.a2cd7d3cc-a005-41ad-ad82-fcc580235a0f .mh { color: #666666 } /* Literal.Number.Hex */\n",
       "div.a2cd7d3cc-a005-41ad-ad82-fcc580235a0f .mi { color: #666666 } /* Literal.Number.Integer */\n",
       "div.a2cd7d3cc-a005-41ad-ad82-fcc580235a0f .mo { color: #666666 } /* Literal.Number.Oct */\n",
       "div.a2cd7d3cc-a005-41ad-ad82-fcc580235a0f .sa { color: #BA2121 } /* Literal.String.Affix */\n",
       "div.a2cd7d3cc-a005-41ad-ad82-fcc580235a0f .sb { color: #BA2121 } /* Literal.String.Backtick */\n",
       "div.a2cd7d3cc-a005-41ad-ad82-fcc580235a0f .sc { color: #BA2121 } /* Literal.String.Char */\n",
       "div.a2cd7d3cc-a005-41ad-ad82-fcc580235a0f .dl { color: #BA2121 } /* Literal.String.Delimiter */\n",
       "div.a2cd7d3cc-a005-41ad-ad82-fcc580235a0f .sd { color: #BA2121; font-style: italic } /* Literal.String.Doc */\n",
       "div.a2cd7d3cc-a005-41ad-ad82-fcc580235a0f .s2 { color: #BA2121 } /* Literal.String.Double */\n",
       "div.a2cd7d3cc-a005-41ad-ad82-fcc580235a0f .se { color: #BB6622; font-weight: bold } /* Literal.String.Escape */\n",
       "div.a2cd7d3cc-a005-41ad-ad82-fcc580235a0f .sh { color: #BA2121 } /* Literal.String.Heredoc */\n",
       "div.a2cd7d3cc-a005-41ad-ad82-fcc580235a0f .si { color: #BB6688; font-weight: bold } /* Literal.String.Interpol */\n",
       "div.a2cd7d3cc-a005-41ad-ad82-fcc580235a0f .sx { color: #008000 } /* Literal.String.Other */\n",
       "div.a2cd7d3cc-a005-41ad-ad82-fcc580235a0f .sr { color: #BB6688 } /* Literal.String.Regex */\n",
       "div.a2cd7d3cc-a005-41ad-ad82-fcc580235a0f .s1 { color: #BA2121 } /* Literal.String.Single */\n",
       "div.a2cd7d3cc-a005-41ad-ad82-fcc580235a0f .ss { color: #19177C } /* Literal.String.Symbol */\n",
       "div.a2cd7d3cc-a005-41ad-ad82-fcc580235a0f .bp { color: #008000 } /* Name.Builtin.Pseudo */\n",
       "div.a2cd7d3cc-a005-41ad-ad82-fcc580235a0f .fm { color: #0000FF } /* Name.Function.Magic */\n",
       "div.a2cd7d3cc-a005-41ad-ad82-fcc580235a0f .vc { color: #19177C } /* Name.Variable.Class */\n",
       "div.a2cd7d3cc-a005-41ad-ad82-fcc580235a0f .vg { color: #19177C } /* Name.Variable.Global */\n",
       "div.a2cd7d3cc-a005-41ad-ad82-fcc580235a0f .vi { color: #19177C } /* Name.Variable.Instance */\n",
       "div.a2cd7d3cc-a005-41ad-ad82-fcc580235a0f .vm { color: #19177C } /* Name.Variable.Magic */\n",
       "div.a2cd7d3cc-a005-41ad-ad82-fcc580235a0f .il { color: #666666 } /* Literal.Number.Integer.Long */\n",
       "div.a2cd7d3cc-a005-41ad-ad82-fcc580235a0f pre{\n",
       "            font-size: 1em;\n",
       "            line-height: 1.25em;\n",
       "            }\n",
       "        </style>\n",
       "        <div class=\"highlight\"><pre><span></span><span class=\"nt\">&lt;body</span> <span class=\"na\">xmlns:mml=</span><span class=\"s\">&quot;http://www.w3.org/1998/Math/MathML&quot;</span> <span class=\"na\">xmlns:xlink=</span><span class=\"s\">&quot;http://www.w3.org/1999/xlink&quot;</span><span class=\"nt\">&gt;</span>\n",
       "    <span class=\"nt\">&lt;sec</span> <span class=\"na\">id=</span><span class=\"s\">&quot;s1&quot;</span><span class=\"nt\">&gt;</span>\n",
       "      <span class=\"nt\">&lt;title/&gt;</span>\n",
       "      <span class=\"nt\">&lt;p&gt;</span>In their essay in the April 2004 issue of <span class=\"nt\">&lt;italic&gt;</span>PLoS Biology<span class=\"nt\">&lt;/italic&gt;</span>, Elizabeth <span class=\"nt\">&lt;xref</span> <span class=\"na\">ref-type=</span><span class=\"s\">&quot;bibr&quot;</span> <span class=\"na\">rid=</span><span class=\"s\">&quot;pbio-0020188-Blackburn1&quot;</span><span class=\"nt\">&gt;</span>Blackburn and Janet Rowley (2004)<span class=\"nt\">&lt;/xref&gt;</span>, two distinguished cellular biologists and members of the President&#39;s Council on Bioethics, strongly question the scientific foundation of two reports from the Council (<span class=\"nt\">&lt;xref</span> <span class=\"na\">ref-type=</span><span class=\"s\">&quot;bibr&quot;</span> <span class=\"na\">rid=</span><span class=\"s\">&quot;pbio-0020188-PCB1&quot;</span><span class=\"nt\">&gt;</span>President&#39;s Council on Bioethics 2003<span class=\"nt\">&lt;/xref&gt;</span>, <span class=\"nt\">&lt;xref</span> <span class=\"na\">ref-type=</span><span class=\"s\">&quot;bibr&quot;</span> <span class=\"na\">rid=</span><span class=\"s\">&quot;pbio-0020188-PCB2&quot;</span><span class=\"nt\">&gt;</span>2004<span class=\"nt\">&lt;/xref&gt;</span>). The Council on Bioethics was formed by executive order “to advise the President on bioethical issues that may emerge as a consequence of advances in biomedical science and technology.” An open discussion between ethicists and scientists is critical to the advisory system. The recent administrative dismissal of Dr. Blackburn from the Council is very alarming. By stacking the deck with conservative opinions, and not accurately discussing the scientific issues, the Bioethics Council has become irrelevant to the scientific community and presents a jaundiced view to the public.<span class=\"nt\">&lt;/p&gt;</span>\n",
       "      <span class=\"nt\">&lt;p&gt;</span>Stem cell research and its applications have the potential to revolutionize human health care. Recent polls show support for embryonic stem cell research, even with conservative voters. The public, as the major benefactor of biomedical research and the target population of beneficial clinical advances, has the right to a fact-based discussion of the science regarding stem cells. It is therefore time that the debate on stem cell research, with its risks and benefits, be taken to the public. A debate on stem cell research restricted to the President&#39;s Council on Bioethics is a disservice to the public.<span class=\"nt\">&lt;/p&gt;</span>\n",
       "      <span class=\"nt\">&lt;p&gt;</span>Nearly three decades ago, the advent of recombinant DNA technology and in vitro fertilization (IVF) techniques, raised similar concerns regarding research. Contrary to apprehensive expectations, recombinant DNA technology has boosted enormous advances in the health care and pharmaceutical industry. IVF evolved to be a widely accepted, safe medical procedure, with over one million healthy babies born by IVF and related treatments. Similarly, once stem cells are successfully used in the clinic, most of today&#39;s political and ethical issues will evaporate.<span class=\"nt\">&lt;/p&gt;</span>\n",
       "      <span class=\"nt\">&lt;p&gt;</span>The International Society for Stem Cell Research (ISSCR), a society whose membership encompasses the bulk of the stem cell research brain trust, holds the position that research on both adult and embryonic stem cells will guarantee the fastest progress in scientific discovery and clinical advances. The ISSCR also strongly opposes reproductive cloning and supports the National Academy of Science&#39;s proposal to develop voluntary guidelines to encourage responsible practices in human embryonic stem cell research.<span class=\"nt\">&lt;/p&gt;</span>\n",
       "      <span class=\"nt\">&lt;p&gt;</span>One of the original recommendations of the President&#39;s Council on Bioethics was a four-year moratorium on stem cell research. The purpose of this moratorium was theoretically to open a large, national discourse on the topic of stem cell research, a debate intended to bring all sides into thoughtful reflection on the issue. To that end, the ISSCR has repeatedly and consistently offered an open forum for all sides in the debate at our conferences, and has carefully offered invitations to join our society and to speak at our annual meeting to members of the President&#39;s Council, including colleagues whose opposition to stem cell research has been clear. None have accepted. Dr. Kass, in particular, has received several direct appeals but has turned down every such opportunity to make his case to the researchers who arguably are his discourse partners, from whom he could learn much, and whom he should be actively engaged in teaching. It is tragic that voices of dissent and debate are stilled, for it is this very quality of open debate that is at the heart of both the scientific method and an ethically directed American democracy—surely a goal that we all share.<span class=\"nt\">&lt;/p&gt;</span>\n",
       "    <span class=\"nt\">&lt;/sec&gt;</span>\n",
       "  <span class=\"nt\">&lt;/body&gt;</span>\n",
       "  \n",
       "</pre></div>\n",
       "\n",
       "    </div>\n",
       "    "
      ],
      "text/plain": [
       "DOI: 10.1371/journal.pbio.0020188\n",
       "Title: Taking the Stem Cell Debate to the Public"
      ]
     },
     "execution_count": 6,
     "metadata": {},
     "output_type": "execute_result"
    }
   ],
   "source": [
    "article"
   ]
  }
 ],
 "metadata": {
  "kernelspec": {
   "display_name": "Python 3",
   "language": "python",
   "name": "python3"
  },
  "language_info": {
   "codemirror_mode": {
    "name": "ipython",
    "version": 3
   },
   "file_extension": ".py",
   "mimetype": "text/x-python",
   "name": "python",
   "nbconvert_exporter": "python",
   "pygments_lexer": "ipython3",
   "version": "3.6.5"
  }
 },
 "nbformat": 4,
 "nbformat_minor": 2
}
