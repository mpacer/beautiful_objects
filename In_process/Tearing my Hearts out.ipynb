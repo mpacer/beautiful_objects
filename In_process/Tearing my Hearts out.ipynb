{
 "cells": [
  {
   "cell_type": "code",
   "execution_count": 277,
   "metadata": {},
   "outputs": [],
   "source": [
    "import math\n",
    "import numpy as np\n",
    "\n",
    "from sympy import symbols, sin, cos, pi, Point, Line, Point2D, diff, oo\n",
    "from sympy.simplify import simplify\n",
    "\n",
    "\n"
   ]
  },
  {
   "cell_type": "code",
   "execution_count": 390,
   "metadata": {},
   "outputs": [],
   "source": [
    "t, u = symbols('t, u')\n",
    "# x = 16*np.sin(t)**3\n",
    "# y = 13*np.cos(t) - 5*(np.cos(2*t)) -2*np.cos(3*t) - np.cos(4*t)\n",
    "x1 = 16*(sin(t)**3)\n",
    "y1 = 13*cos(t) - 5*(cos(2*t)) -2*cos(3*t) - cos(4*t)\n",
    "x2 = 16*(sin(u)**3)\n",
    "y2 = 13*cos(u) - 5*(cos(2*u)) -2*cos(3*u) - cos(4*u)"
   ]
  },
  {
   "cell_type": "code",
   "execution_count": 316,
   "metadata": {},
   "outputs": [],
   "source": [
    "from sympy.plotting import plot_parametric\n",
    "from sympy.plotting.plot import Parametric2DLineSeries, flat"
   ]
  },
  {
   "cell_type": "code",
   "execution_count": 317,
   "metadata": {},
   "outputs": [],
   "source": [
    "from sympy import sympify, Expr, Tuple, Dummy, Symbol\n",
    "from sympy.external import import_module\n",
    "from sympy.core.compatibility import range, Callable\n",
    "from sympy.utilities.iterables import is_sequence\n",
    "from sympy.plotting.experimental_lambdify import (vectorized_lambdify, lambdify)"
   ]
  },
  {
   "cell_type": "code",
   "execution_count": null,
   "metadata": {},
   "outputs": [],
   "source": []
  },
  {
   "cell_type": "code",
   "execution_count": null,
   "metadata": {},
   "outputs": [],
   "source": [
    "class ParametricSVG:\n",
    "    def __init__(self, expr_x, expr_y):\n",
    "        for param in expr_x.atoms():\n",
    "            if type(param):\n",
    "                t = param\n",
    "                if t not in expr_y.atoms():\n",
    "                    raise \n",
    "                break\n",
    "            \n",
    "        for param in expr_y.atoms():\n",
    "            if type(param):\n",
    "                t = param\n",
    "                break"
   ]
  },
  {
   "cell_type": "code",
   "execution_count": 741,
   "metadata": {},
   "outputs": [
    {
     "name": "stdout",
     "output_type": "stream",
     "text": [
      "<class 'sympy.core.numbers.Integer'>\n",
      "<class 'sympy.core.numbers.Integer'>\n",
      "<class 'sympy.core.symbol.Symbol'>\n"
     ]
    }
   ],
   "source": [
    "for x in x1.atoms():\n",
    "    print(type(x))"
   ]
  },
  {
   "cell_type": "code",
   "execution_count": 366,
   "metadata": {},
   "outputs": [],
   "source": [
    "class MyParametricLine(Parametric2DLineSeries):\n",
    "    def get_segments(self):\n",
    "        \"\"\"\n",
    "        Adaptively gets segments for plotting.\n",
    "\n",
    "        The adaptive sampling is done by recursively checking if three\n",
    "        points are almost collinear. If they are not collinear, then more\n",
    "        points are added between those points.\n",
    "\n",
    "        References\n",
    "        ==========\n",
    "        [1] Adaptive polygonal approximation of parametric curves,\n",
    "            Luiz Henrique de Figueiredo.\n",
    "\n",
    "        \"\"\"\n",
    "        if not self.adaptive:\n",
    "            return super(Parametric2DLineSeries, self).get_segments()\n",
    "\n",
    "        f_x = lambdify([self.var], self.expr_x)\n",
    "        f_y = lambdify([self.var], self.expr_y)\n",
    "        list_segments = []\n",
    "        point_list = []\n",
    "\n",
    "        def sample(param_p, param_q, p, q, depth):\n",
    "            \"\"\" Samples recursively if three points are almost collinear.\n",
    "            For depth < 6, points are added irrespective of whether they\n",
    "            satisfy the collinearity condition or not. The maximum depth\n",
    "            allowed is 12.\n",
    "            \"\"\"\n",
    "            #Randomly sample to avoid aliasing.\n",
    "            np = import_module('numpy')\n",
    "            random = 0.45 + np.random.rand() * 0.1\n",
    "            param_new = param_p + random * (param_q - param_p)\n",
    "            xnew = f_x(param_new)\n",
    "            ynew = f_y(param_new)\n",
    "            new_point = np.array([xnew, ynew])\n",
    "\n",
    "            #Maximum depth\n",
    "            if depth > self.depth:\n",
    "                list_segments.append([p, q])\n",
    "                point_list.append(param_p)\n",
    "                \n",
    "            #Sample irrespective of whether the line is flat till the\n",
    "            #depth of 6. We are not using linspace to avoid aliasing.\n",
    "            elif depth < 6:\n",
    "                sample(param_p, param_new, p, new_point, depth + 1)\n",
    "                sample(param_new, param_q, new_point, q, depth + 1)\n",
    "\n",
    "            #Sample ten points if complex values are encountered\n",
    "            #at both ends. If there is a real value in between, then\n",
    "            #sample those points further.\n",
    "            elif ((p[0] is None and q[1] is None) or\n",
    "                    (p[1] is None and q[1] is None)):\n",
    "                param_array = np.linspace(param_p, param_q, 10)\n",
    "                x_array = list(map(f_x, param_array))\n",
    "                y_array = list(map(f_y, param_array))\n",
    "                if any(x is not None and y is not None\n",
    "                        for x, y in zip(x_array, y_array)):\n",
    "                    for i in range(len(y_array) - 1):\n",
    "                        if ((x_array[i] is not None and y_array[i] is not None) or\n",
    "                                (x_array[i + 1] is not None and y_array[i + 1] is not None)):\n",
    "                            point_a = [x_array[i], y_array[i]]\n",
    "                            point_b = [x_array[i + 1], y_array[i + 1]]\n",
    "                            sample(param_array[i], param_array[i], point_a,\n",
    "                                   point_b, depth + 1)\n",
    "\n",
    "            #Sample further if one of the end points in None( ie a complex\n",
    "            #value) or the three points are not almost collinear.\n",
    "            elif (p[0] is None or p[1] is None\n",
    "                    or q[1] is None or q[0] is None\n",
    "                    or not flat(p, new_point, q)):\n",
    "                sample(param_p, param_new, p, new_point, depth + 1)\n",
    "                sample(param_new, param_q, new_point, q, depth + 1)\n",
    "            else:\n",
    "                list_segments.append([p, q])\n",
    "                point_list.append(param_p)\n",
    "\n",
    "        f_start_x = f_x(self.start)\n",
    "        f_start_y = f_y(self.start)\n",
    "        start = [f_start_x, f_start_y]\n",
    "        f_end_x = f_x(self.end)\n",
    "        f_end_y = f_y(self.end)\n",
    "        end = [f_end_x, f_end_y]\n",
    "        sample(self.start, self.end, start, end, 0)\n",
    "        return list_segments, point_list"
   ]
  },
  {
   "cell_type": "code",
   "execution_count": 426,
   "metadata": {},
   "outputs": [
    {
     "data": {
      "image/png": "[encoded data removed]",
      "text/plain": [
       "<Figure size 432x288 with 1 Axes>"
      ]
     },
     "metadata": {
      "needs_background": "light"
     },
     "output_type": "display_data"
    },
    {
     "data": {
      "text/plain": [
       "<sympy.plotting.plot.Plot at 0x10ccc7908>"
      ]
     },
     "execution_count": 426,
     "metadata": {},
     "output_type": "execute_result"
    }
   ],
   "source": [
    "plot_parametric(x1, y1, (t,0,pi))\n"
   ]
  },
  {
   "cell_type": "code",
   "execution_count": 368,
   "metadata": {},
   "outputs": [],
   "source": [
    "hi = flahp.get_segments()"
   ]
  },
  {
   "cell_type": "code",
   "execution_count": 370,
   "metadata": {},
   "outputs": [
    {
     "data": {
      "text/plain": [
       "[-3.141592653589793,\n",
       " -3.0952381074936635,\n",
       " -3.0397490947097294,\n",
       " -2.9935992025241274,\n",
       " -2.9404460679542948,\n",
       " -2.887679304132927,\n",
       " -2.8444542442969794,\n",
       " -2.803613844705966,\n",
       " -2.7572036942188314,\n",
       " -2.7048730752502275,\n",
       " -2.653349948637029,\n",
       " -2.595422352949893,\n",
       " -2.5333677696638057,\n",
       " -2.414657105895927,\n",
       " -2.2898217648863195,\n",
       " -2.1761610944312895,\n",
       " -2.075596496667219,\n",
       " -1.96120803758488,\n",
       " -1.899780206731615,\n",
       " -1.8446303160557673,\n",
       " -1.811931010433601,\n",
       " -1.7788637984365103,\n",
       " -1.7477659519478423,\n",
       " -1.7187362887751414,\n",
       " -1.696610967481566,\n",
       " -1.672072658723116,\n",
       " -1.6441036671303306,\n",
       " -1.615489488080656,\n",
       " -1.5887325503665952,\n",
       " -1.563364178637743,\n",
       " -1.5305566143661422,\n",
       " -1.5014031751854755,\n",
       " -1.4720249841403845,\n",
       " -1.4394429978551748,\n",
       " -1.4117971314169127,\n",
       " -1.3844248189465105,\n",
       " -1.3610351389241284,\n",
       " -1.340954217458306,\n",
       " -1.3207664814932512,\n",
       " -1.2968749791669862,\n",
       " -1.273245365876058,\n",
       " -1.2468986479612612,\n",
       " -1.2227522971432847,\n",
       " -1.194421582947264,\n",
       " -1.1724619920357566,\n",
       " -1.1517924792673044,\n",
       " -1.1294011969092486,\n",
       " -1.1082897991940215,\n",
       " -1.0850207024710636,\n",
       " -1.0620537198798545,\n",
       " -1.0325411034794323,\n",
       " -1.0057921644050543,\n",
       " -0.9733614350414331,\n",
       " -0.9433345926610881,\n",
       " -0.9119545416812697,\n",
       " -0.8842749182991093,\n",
       " -0.8582650164920407,\n",
       " -0.8302059776588975,\n",
       " -0.8060521652450625,\n",
       " -0.7779304401887442,\n",
       " -0.7530252083726168,\n",
       " -0.7263092655036341,\n",
       " -0.6987293375293545,\n",
       " -0.6713576858758102,\n",
       " -0.6395828530010391,\n",
       " -0.6126265352663367,\n",
       " -0.580222982302376,\n",
       " -0.5437641613575391,\n",
       " -0.5012386689994471,\n",
       " -0.4530721641916428,\n",
       " -0.40370968822949593,\n",
       " -0.36063123087581483,\n",
       " -0.3161251169343403,\n",
       " -0.27344660619228456,\n",
       " -0.2293107433553946,\n",
       " -0.19171309105330503,\n",
       " -0.1431285858489856,\n",
       " -0.08664418784680901,\n",
       " -0.03690324573480338,\n",
       " 0.008463225447818828,\n",
       " 0.06084623357332056,\n",
       " 0.11582092621769725,\n",
       " 0.16957341913109866,\n",
       " 0.21685700900756943,\n",
       " 0.25178007348360554,\n",
       " 0.289915547788152,\n",
       " 0.33472453224109283,\n",
       " 0.3750023402455459,\n",
       " 0.4252204926356926,\n",
       " 0.471422742642355,\n",
       " 0.5186802045066189,\n",
       " 0.5650872438708745,\n",
       " 0.6073880918749708,\n",
       " 0.6500443480565048,\n",
       " 0.6894025039664743,\n",
       " 0.7111618881752665,\n",
       " 0.7328488427572706,\n",
       " 0.7546547595013041,\n",
       " 0.7734140786813105,\n",
       " 0.7931059631059681,\n",
       " 0.8123915771673801,\n",
       " 0.8347692326143846,\n",
       " 0.8607308645279432,\n",
       " 0.8831522543349754,\n",
       " 0.906849991074329,\n",
       " 0.92871852682631,\n",
       " 0.9484728545592795,\n",
       " 0.9725211204030884,\n",
       " 0.9950627581494356,\n",
       " 1.0161826595664296,\n",
       " 1.0400658850197166,\n",
       " 1.0617241285375392,\n",
       " 1.0843523118493545,\n",
       " 1.1214235512999653,\n",
       " 1.157503103329296,\n",
       " 1.1791235157712063,\n",
       " 1.2015058459080878,\n",
       " 1.221324595388985,\n",
       " 1.2422407102072501,\n",
       " 1.2627029007063597,\n",
       " 1.2867928645164226,\n",
       " 1.305889549444628,\n",
       " 1.325308884114933,\n",
       " 1.362467434919041,\n",
       " 1.3817887891084473,\n",
       " 1.3992560497541806,\n",
       " 1.4215587544121386,\n",
       " 1.4417519881922884,\n",
       " 1.4604993686789132,\n",
       " 1.480137611753524,\n",
       " 1.4992678582021501,\n",
       " 1.5170986439562715,\n",
       " 1.538533732384741,\n",
       " 1.5603364437155083,\n",
       " 1.5880774800342605,\n",
       " 1.6149474148184064,\n",
       " 1.6405822368868999,\n",
       " 1.663739819612467,\n",
       " 1.6854741439215866,\n",
       " 1.7085630459057808,\n",
       " 1.728953428637526,\n",
       " 1.752641247832847,\n",
       " 1.7959283803335888,\n",
       " 1.8375919795498088,\n",
       " 1.8855453589963784,\n",
       " 1.9270407267334169,\n",
       " 2.0044189406067403,\n",
       " 2.0880479420981937,\n",
       " 2.181762668101765,\n",
       " 2.276953338416747,\n",
       " 2.3731414357623732,\n",
       " 2.454321677392858,\n",
       " 2.570098212162673,\n",
       " 2.61893149513818,\n",
       " 2.67027187916071,\n",
       " 2.7346325024750233,\n",
       " 2.7879267837777832,\n",
       " 2.84122110406607,\n",
       " 2.897038723809277,\n",
       " 2.9300525461146285,\n",
       " 2.9655278420416114,\n",
       " 2.996925255018307,\n",
       " 3.0263590202100468,\n",
       " 3.084836539678614]"
      ]
     },
     "execution_count": 370,
     "metadata": {},
     "output_type": "execute_result"
    }
   ],
   "source": [
    "hi[1]"
   ]
  },
  {
   "cell_type": "code",
   "execution_count": 258,
   "metadata": {},
   "outputs": [
    {
     "data": {
      "text/plain": [
       "t"
      ]
     },
     "execution_count": 258,
     "metadata": {},
     "output_type": "execute_result"
    }
   ],
   "source": [
    "t"
   ]
  },
  {
   "cell_type": "code",
   "execution_count": 436,
   "metadata": {},
   "outputs": [
    {
     "ename": "AttributeError",
     "evalue": "'Symbol' object has no attribute 'sin'",
     "output_type": "error",
     "traceback": [
      "\u001b[0;31m---------------------------------------------------------------------------\u001b[0m",
      "\u001b[0;31mAttributeError\u001b[0m                            Traceback (most recent call last)",
      "\u001b[0;32m<ipython-input-436-7afd358f4a85>\u001b[0m in \u001b[0;36m<module>\u001b[0;34m()\u001b[0m\n\u001b[0;32m----> 1\u001b[0;31m \u001b[0mx\u001b[0m \u001b[0;34m=\u001b[0m \u001b[0;36m16\u001b[0m\u001b[0;34m*\u001b[0m\u001b[0mnp\u001b[0m\u001b[0;34m.\u001b[0m\u001b[0msin\u001b[0m\u001b[0;34m(\u001b[0m\u001b[0mt\u001b[0m\u001b[0;34m)\u001b[0m\u001b[0;34m**\u001b[0m\u001b[0;36m3\u001b[0m\u001b[0;34m\u001b[0m\u001b[0m\n\u001b[0m\u001b[1;32m      2\u001b[0m \u001b[0my\u001b[0m \u001b[0;34m=\u001b[0m \u001b[0;34m-\u001b[0m\u001b[0;34m(\u001b[0m\u001b[0;36m13\u001b[0m\u001b[0;34m*\u001b[0m\u001b[0mnp\u001b[0m\u001b[0;34m.\u001b[0m\u001b[0mcos\u001b[0m\u001b[0;34m(\u001b[0m\u001b[0mt\u001b[0m\u001b[0;34m)\u001b[0m \u001b[0;34m-\u001b[0m \u001b[0;36m5\u001b[0m\u001b[0;34m*\u001b[0m\u001b[0;34m(\u001b[0m\u001b[0mnp\u001b[0m\u001b[0;34m.\u001b[0m\u001b[0mcos\u001b[0m\u001b[0;34m(\u001b[0m\u001b[0;36m2\u001b[0m\u001b[0;34m*\u001b[0m\u001b[0mt\u001b[0m\u001b[0;34m)\u001b[0m\u001b[0;34m)\u001b[0m \u001b[0;34m-\u001b[0m\u001b[0;36m2\u001b[0m\u001b[0;34m*\u001b[0m\u001b[0mnp\u001b[0m\u001b[0;34m.\u001b[0m\u001b[0mcos\u001b[0m\u001b[0;34m(\u001b[0m\u001b[0;36m3\u001b[0m\u001b[0;34m*\u001b[0m\u001b[0mt\u001b[0m\u001b[0;34m)\u001b[0m \u001b[0;34m-\u001b[0m \u001b[0mnp\u001b[0m\u001b[0;34m.\u001b[0m\u001b[0mcos\u001b[0m\u001b[0;34m(\u001b[0m\u001b[0;36m4\u001b[0m\u001b[0;34m*\u001b[0m\u001b[0mt\u001b[0m\u001b[0;34m)\u001b[0m\u001b[0;34m)\u001b[0m\u001b[0;34m\u001b[0m\u001b[0m\n",
      "\u001b[0;31mAttributeError\u001b[0m: 'Symbol' object has no attribute 'sin'"
     ]
    }
   ],
   "source": [
    "x = 16*np.sin(t)**3\n",
    "y = (13*np.cos(t) - 5*(np.cos(2*t)) -2*np.cos(3*t) - np.cos(4*t))\n"
   ]
  },
  {
   "cell_type": "code",
   "execution_count": 392,
   "metadata": {},
   "outputs": [],
   "source": [
    "g = diff(y1, t)/diff(x1, t)\n",
    "h = diff(y2, u)/diff(x2, u)\n",
    "\n"
   ]
  },
  {
   "cell_type": "code",
   "execution_count": 405,
   "metadata": {},
   "outputs": [],
   "source": [
    "p1 = Point(x1,y1)\n",
    "p2 = Point(x2,y2)\n",
    "l1 = Line(p1, slope=g)\n",
    "l2 = Line(p2, slope=h)\n"
   ]
  },
  {
   "cell_type": "code",
   "execution_count": 386,
   "metadata": {},
   "outputs": [
    {
     "data": {
      "text/plain": [
       "[Point2D(16*(-2*(-cos(2*t) + 1)**3*sin(t) - 42*(-cos(2*t) + 1)**2*sin(t) + 19*(-cos(2*t) + 1)**2*sin(2*t) + 3*(-cos(2*t) + 1)**2*sin(5*t) + 439*sin(t)/4 + 99*sin(2*t)/4 - 123*sin(3*t)/2 + 8*sin(5*t) - 33*sin(6*t)/4 + 25*sin(7*t)/4 - sin(9*t))*sin(t)/(-64*sin(t)**5 + 24*sin(t) + 20*sin(2*t) - 34*sin(3*t) - 19*sin(4*t) + 10*sin(5*t) + 6*sin(6*t) + 4*sin(7*t)), 0)]"
      ]
     },
     "execution_count": 386,
     "metadata": {},
     "output_type": "execute_result"
    }
   ],
   "source": [
    "l1.intersection(Line(Point(0,0), Point(1,0)))"
   ]
  },
  {
   "cell_type": "code",
   "execution_count": 294,
   "metadata": {},
   "outputs": [
    {
     "data": {
      "text/plain": [
       "(-48*sin(t)**2*cos(t)/(-13*sin(t) + 10*sin(2*t) + 6*sin(3*t) + 4*sin(4*t)),\n",
       " 1,\n",
       " (-16*(-cos(2*t) + 1)**3*sin(2*t) - 130*(-cos(2*t) + 1)**2*sin(t) + 204*(-cos(2*t) + 1)**2*sin(2*t) + 12*(-cos(2*t) + 1)**2*sin(3*t) + 627*sin(t)/2 - 87*sin(2*t)/2 - 595*sin(3*t)/2 + 53*sin(4*t) + 37*sin(5*t) + 6*sin(6*t) + 4*sin(7*t))/(-13*sin(t) + 10*sin(2*t) + 6*sin(3*t) + 4*sin(4*t)))"
      ]
     },
     "execution_count": 294,
     "metadata": {},
     "output_type": "execute_result"
    }
   ],
   "source": [
    "l1.coefficients"
   ]
  },
  {
   "cell_type": "code",
   "execution_count": 406,
   "metadata": {},
   "outputs": [],
   "source": [
    "# int_line = l1.intersection(l2)"
   ]
  },
  {
   "cell_type": "code",
   "execution_count": 442,
   "metadata": {},
   "outputs": [],
   "source": [
    "# int_line = [Point2D((-768*((-13*sin(t) + 10*sin(2*t) + 6*sin(3*t) + 4*sin(4*t))*sin(u)**2*cos(u) - (-13*sin(u) + 10*sin(2*u) + 6*sin(3*u) + 4*sin(4*u))*sin(t)**2*cos(t))*(sin(t)**3 - sin(u)**3) + 768*((-13*sin(t) + 10*sin(2*t) + 6*sin(3*t) + 4*sin(4*t))*sin(u)**2*cos(u) - (-13*sin(u) + 10*sin(2*u) + 6*sin(3*u) + 4*sin(4*u))*sin(t)**2*cos(t))*sin(t)**3 - 768*(sin(t)**3 - sin(u)**3)*(-13*sin(u) + 10*sin(2*u) + 6*sin(3*u) + 4*sin(4*u))*sin(t)**2*cos(t) + (-13*sin(t) + 10*sin(2*t) + 6*sin(3*t) + 4*sin(4*t))*(-13*sin(u) + 10*sin(2*u) + 6*sin(3*u) + 4*sin(4*u))*(13*cos(t) - 5*cos(2*t) - 2*cos(3*t) - cos(4*t) - 13*cos(u) + 5*cos(2*u) + 2*cos(3*u) + cos(4*u)))/(48*((-13*sin(t) + 10*sin(2*t) + 6*sin(3*t) + 4*sin(4*t))*sin(u)**2*cos(u) - (-13*sin(u) + 10*sin(2*u) + 6*sin(3*u) + 4*sin(4*u))*sin(t)**2*cos(t))), (((-13*sin(t) + 10*sin(2*t) + 6*sin(3*t) + 4*sin(4*t))*sin(u)**2*cos(u) - (-13*sin(u) + 10*sin(2*u) + 6*sin(3*u) + 4*sin(4*u))*sin(t)**2*cos(t))*(-13*sin(t) + 10*sin(2*t) + 6*sin(3*t) + 4*sin(4*t))*(13*cos(t) - 5*cos(2*t) - 2*cos(3*t) - cos(4*t)) - (768*((-13*sin(t) + 10*sin(2*t) + 6*sin(3*t) + 4*sin(4*t))*sin(u)**2*cos(u) - (-13*sin(u) + 10*sin(2*u) + 6*sin(3*u) + 4*sin(4*u))*sin(t)**2*cos(t))*(sin(t)**3 - sin(u)**3) + 768*(sin(t)**3 - sin(u)**3)*(-13*sin(u) + 10*sin(2*u) + 6*sin(3*u) + 4*sin(4*u))*sin(t)**2*cos(t) - (-13*sin(t) + 10*sin(2*t) + 6*sin(3*t) + 4*sin(4*t))*(-13*sin(u) + 10*sin(2*u) + 6*sin(3*u) + 4*sin(4*u))*(13*cos(t) - 5*cos(2*t) - 2*cos(3*t) - cos(4*t) - 13*cos(u) + 5*cos(2*u) + 2*cos(3*u) + cos(4*u)))*sin(t)**2*cos(t))/(((-13*sin(t) + 10*sin(2*t) + 6*sin(3*t) + 4*sin(4*t))*sin(u)**2*cos(u) - (-13*sin(u) + 10*sin(2*u) + 6*sin(3*u) + 4*sin(4*u))*sin(t)**2*cos(t))*(-13*sin(t) + 10*sin(2*t) + 6*sin(3*t) + 4*sin(4*t))))]\n",
    "int_line = [Point2D(16*sin(t)**3 + ((16*sin(t)**3 - 16*sin(u)**3)*(2*sin(t)/3 + 13/(24*sin(2*t)) - 3/(4*sin(t)) - sin(3*t)/(2*(cos(t) - cos(3*t)))) - (16*sin(t)**3 - 16*sin(u)**3)*(2*sin(t)/3 - 2*sin(u)/3 - 13/(24*sin(2*u)) + 3/(4*sin(u)) + 13/(24*sin(2*t)) - 3/(4*sin(t)) + sin(3*u)/(2*(cos(u) - cos(3*u))) - sin(3*t)/(2*(cos(t) - cos(3*t)))) + 13*cos(t) - 5*cos(2*t) - 2*cos(3*t) - cos(4*t) - 13*cos(u) + 5*cos(2*u) + 2*cos(3*u) + cos(4*u))/(2*sin(t)/3 - 2*sin(u)/3 - 13/(24*sin(2*u)) + 3/(4*sin(u)) + 13/(24*sin(2*t)) - 3/(4*sin(t)) + sin(3*u)/(2*(cos(u) - cos(3*u))) - sin(3*t)/(2*(cos(t) - cos(3*t)))), -(2*sin(t)/3 + 13/(24*sin(2*t)) - 3/(4*sin(t)) - sin(3*t)/(2*(cos(t) - cos(3*t))))*((16*sin(t)**3 - 16*sin(u)**3)*(2*sin(t)/3 + 13/(24*sin(2*t)) - 3/(4*sin(t)) - sin(3*t)/(2*(cos(t) - cos(3*t)))) - (16*sin(t)**3 - 16*sin(u)**3)*(2*sin(t)/3 - 2*sin(u)/3 - 13/(24*sin(2*u)) + 3/(4*sin(u)) + 13/(24*sin(2*t)) - 3/(4*sin(t)) + sin(3*u)/(2*(cos(u) - cos(3*u))) - sin(3*t)/(2*(cos(t) - cos(3*t)))) + 13*cos(t) - 5*cos(2*t) - 2*cos(3*t) - cos(4*t) - 13*cos(u) + 5*cos(2*u) + 2*cos(3*u) + cos(4*u))/(2*sin(t)/3 - 2*sin(u)/3 - 13/(24*sin(2*u)) + 3/(4*sin(u)) + 13/(24*sin(2*t)) - 3/(4*sin(t)) + sin(3*u)/(2*(cos(u) - cos(3*u))) - sin(3*t)/(2*(cos(t) - cos(3*t)))) + 13*cos(t) - 5*cos(2*t) - 2*cos(3*t) - cos(4*t))]\n"
   ]
  },
  {
   "cell_type": "code",
   "execution_count": 407,
   "metadata": {},
   "outputs": [
    {
     "data": {
      "text/plain": [
       "[Point2D(16*sin(t)**3 + ((16*sin(t)**3 - 16*sin(u)**3)*(2*sin(t)/3 + 13/(24*sin(2*t)) - 3/(4*sin(t)) - sin(3*t)/(2*(cos(t) - cos(3*t)))) - (16*sin(t)**3 - 16*sin(u)**3)*(2*sin(t)/3 - 2*sin(u)/3 - 13/(24*sin(2*u)) + 3/(4*sin(u)) + 13/(24*sin(2*t)) - 3/(4*sin(t)) + sin(3*u)/(2*(cos(u) - cos(3*u))) - sin(3*t)/(2*(cos(t) - cos(3*t)))) + 13*cos(t) - 5*cos(2*t) - 2*cos(3*t) - cos(4*t) - 13*cos(u) + 5*cos(2*u) + 2*cos(3*u) + cos(4*u))/(2*sin(t)/3 - 2*sin(u)/3 - 13/(24*sin(2*u)) + 3/(4*sin(u)) + 13/(24*sin(2*t)) - 3/(4*sin(t)) + sin(3*u)/(2*(cos(u) - cos(3*u))) - sin(3*t)/(2*(cos(t) - cos(3*t)))), -(2*sin(t)/3 + 13/(24*sin(2*t)) - 3/(4*sin(t)) - sin(3*t)/(2*(cos(t) - cos(3*t))))*((16*sin(t)**3 - 16*sin(u)**3)*(2*sin(t)/3 + 13/(24*sin(2*t)) - 3/(4*sin(t)) - sin(3*t)/(2*(cos(t) - cos(3*t)))) - (16*sin(t)**3 - 16*sin(u)**3)*(2*sin(t)/3 - 2*sin(u)/3 - 13/(24*sin(2*u)) + 3/(4*sin(u)) + 13/(24*sin(2*t)) - 3/(4*sin(t)) + sin(3*u)/(2*(cos(u) - cos(3*u))) - sin(3*t)/(2*(cos(t) - cos(3*t)))) + 13*cos(t) - 5*cos(2*t) - 2*cos(3*t) - cos(4*t) - 13*cos(u) + 5*cos(2*u) + 2*cos(3*u) + cos(4*u))/(2*sin(t)/3 - 2*sin(u)/3 - 13/(24*sin(2*u)) + 3/(4*sin(u)) + 13/(24*sin(2*t)) - 3/(4*sin(t)) + sin(3*u)/(2*(cos(u) - cos(3*u))) - sin(3*t)/(2*(cos(t) - cos(3*t)))) + 13*cos(t) - 5*cos(2*t) - 2*cos(3*t) - cos(4*t))]"
      ]
     },
     "execution_count": 407,
     "metadata": {},
     "output_type": "execute_result"
    }
   ],
   "source": [
    "int_line"
   ]
  },
  {
   "cell_type": "code",
   "execution_count": null,
   "metadata": {},
   "outputs": [],
   "source": [
    "int_point = int_line[0]\n",
    "def get_intersection_points(min_t, max_t, steps=100):\n",
    "    \"\"\"\n",
    "    num_cycles: \n",
    "        how many times does the spiral go around (this will be rounded up to give a complete segment)\n",
    "    angle_change:\n",
    "        how large is the change in angle for each quadratic segment\n",
    "    \"\"\"\n",
    "#     t_range = np.linspace(min_t, max_t, num=steps, endpoint=True)\n",
    "    flahp = MyParametricLine(x1,y1, (t,min_t,max_t), nb_of_points=steps)\n",
    "    t_range = flahp.get_segments()[1]\n",
    "\n",
    "\n",
    "    for i, t2 in enumerate(t_range[:-1]):\n",
    "        u = t_range[i+1]\n",
    "        try:             \n",
    "            yield {\"int_point\": int_point.subs({\"t\":t2, \"u\":u}),\n",
    "                   \"t\": t,\n",
    "                   \"u\": u,\n",
    "                  }\n",
    "        except ValueError:\n",
    "            t3 = t2+0.0000001\n",
    "            yield {\"int_point\": int_point.subs({\"t\":t3, \"u\":u}),\n",
    "                       \"t\": t,\n",
    "                       \"u\": u,\n",
    "                      }\n",
    "\n",
    "\n",
    "        \n",
    "\n",
    " "
   ]
  },
  {
   "cell_type": "code",
   "execution_count": null,
   "metadata": {},
   "outputs": [],
   "source": [
    "       \n",
    "def get_quad_control_points(min_t, max_t, steps=100):\n",
    "    for x in get_intersection_points(min_t, max_t, steps=steps):\n",
    "        yield (tuple(map(float, x['int_point'].args)), \n",
    "               tuple(map(float, p2.subs({'u':x['u']}).args))\n",
    "              )"
   ]
  },
  {
   "cell_type": "code",
   "execution_count": 2,
   "metadata": {},
   "outputs": [],
   "source": [
    "import json\n",
    "def store_data(fname, quad_points, initial_point):\n",
    "    data = {\"quad_points\": quad_points,\n",
    "     \"initial_point\": initial_point\n",
    "    }\n",
    "    with open(fname, \"w\") as fp:\n",
    "        json.dump(data, fp)\n",
    "\n",
    "def load_data(fname):\n",
    "    with open(fname, \"r\") as fp:\n",
    "        return json.load(fp)"
   ]
  },
  {
   "cell_type": "code",
   "execution_count": null,
   "metadata": {},
   "outputs": [],
   "source": [
    "t_0 = 0\n",
    "t_max = 2*pi\n",
    "quad_iter = get_quad_control_points(min_t=t_0, max_t=t_max, steps=10)\n",
    "quad_points = list(quad_iter)\n",
    "initial_point = list(map(float, p1.subs({\"t\":t_0}).args))"
   ]
  },
  {
   "cell_type": "code",
   "execution_count": 1231,
   "metadata": {},
   "outputs": [],
   "source": [
    "store_data('heart_quads.json', quad_points, initial_point)"
   ]
  },
  {
   "cell_type": "code",
   "execution_count": 1234,
   "metadata": {},
   "outputs": [],
   "source": [
    "hullo = load_data(\"heart_quads.json\")['quad_points']"
   ]
  },
  {
   "cell_type": "code",
   "execution_count": 1233,
   "metadata": {},
   "outputs": [
    {
     "data": {
      "text/plain": [
       "[[[2.26480878769362e-09, 5.01935203545116],\n",
       "  [0.00240468499265089, 5.05784209373124]],\n",
       " [[0.00617678614768245, 5.11821945317385],\n",
       "  [0.0144892681784808, 5.19071052417724]],\n",
       " [[0.0249796452381706, 5.28219447150715],\n",
       "  [0.0416669391001586, 5.38322902221801]],\n",
       " [[0.0625689845764014, 5.50978212250472],\n",
       "  [0.0921242540272451, 5.64469196933818]],\n",
       " [[0.129325564905271, 5.81450341906648],\n",
       "  [0.178888071354544, 5.99135494886849]],\n",
       " [[0.227032997926876, 6.16314819595208],\n",
       "  [0.285852572783466, 6.33796304924934]],\n",
       " [[0.345659522697073, 6.51571243286517],\n",
       "  [0.415701700411068, 6.69417844133358]],\n",
       " [[0.487743067528425, 6.87773834271958],\n",
       "  [0.569888188951648, 7.06019887319993]],\n",
       " [[0.692043825721294, 7.33153065651206],\n",
       "  [0.834806300015498, 7.59665683949396]],\n",
       " [[0.918421740467044, 7.75194024064588], [1.00862101667763, 7.90415568501767]],\n",
       " [[1.12167926629051, 8.09494670272544], [1.24449884261148, 8.27994312284276]],\n",
       " [[1.44189780344349, 8.57727439675439], [1.66250874377508, 8.85670281234556]],\n",
       " [[1.80054060640138, 9.03153559541965], [1.94694688614682, 9.19842404729501]],\n",
       " [[2.08999423977703, 9.36148366081515], [2.24054566891579, 9.51639833059041]],\n",
       " [[2.48490085256662, 9.76783534981824], [2.74741879975013, 9.99621086079807]],\n",
       " [[3.01662696842382, 10.2304064795754], [3.30291999709097, 10.4385942042024]],\n",
       " [[3.46972317871875, 10.5598908176942], [3.64179542494331, 10.6719572214367]],\n",
       " [[3.79857226878001, 10.7740621074039], [3.95941554482475, 10.8683033405894]],\n",
       " [[4.13334243392154, 10.9702105195257], [4.31166833497306, 11.0627149706127]],\n",
       " [[4.47604708828145, 11.1479845038409], [4.64386151028959, 11.2251070150907]],\n",
       " [[4.80544594869858, 11.299366411392], [4.96995032351617, 11.3659501831024]],\n",
       " [[5.16725965014621, 11.4458118838945], [5.36835311845226, 11.5144650549576]],\n",
       " [[5.56561833961004, 11.5818112650908], [5.7660857806164, 11.6382214352365]],\n",
       " [[5.93594304380552, 11.6860181101922], [6.10780540394526, 11.7258795037075]],\n",
       " [[6.3802811445957, 11.7890769525997], [6.65689783599178, 11.8321328272072]],\n",
       " [[6.88756600251257, 11.8680367330906], [7.12039035026157, 11.8898178268749]],\n",
       " [[7.33575429714658, 11.9099654719568], [7.5524023719199, 11.9179755377665]],\n",
       " [[7.78903411552322, 11.9267244539104], [8.02650188595541, 11.9209696911957]],\n",
       " [[8.31148267851657, 11.9140635041521], [8.59647282523938, 11.8863060110558]],\n",
       " [[8.84172783653293, 11.8624186438571], [9.08605624824551, 11.8231757557194]],\n",
       " [[9.29602775102361, 11.7894511138005], [9.5047004646898, 11.7444820539865]],\n",
       " [[9.73546771599974, 11.6947516117789], [9.96389320433066, 11.631434414029]],\n",
       " [[10.2137994798527, 11.5621629628359], [10.4598847954114, 11.4769149350853]],\n",
       " [[10.7426952738113, 11.3789447028671], [11.0189146985215, 11.2604175545564]],\n",
       " [[11.2783606307036, 11.14908799649], [11.5305552606758, 11.0202359184706]],\n",
       " [[11.8305962880828, 10.8669380077389], [12.1182124982183, 10.6899608334626]],\n",
       " [[12.3086605446971, 10.5727735681955], [12.4928101128895, 10.4457122376404]],\n",
       " [[12.7138340887796, 10.2932079405257], [12.9247407405014, 10.1272078034175]],\n",
       " [[13.1164494580624, 9.97631795172166], [13.2989309836935, 9.81495653041487]],\n",
       " [[13.4993501715355, 9.63773352169933], [13.6876496499027, 9.44875874377583]],\n",
       " [[13.8259025844505, 9.31000999189398], [13.9571663998683, 9.16537567684822]],\n",
       " [[14.0895559130142, 9.01950100078341], [14.2144709921875, 8.86804150073268]],\n",
       " [[14.3647042289743, 8.68588374135466], [14.50359102542, 8.496302620215]],\n",
       " [[14.6242491373507, 8.33160373796121], [14.7359701511584, 8.16180777241553]],\n",
       " [[14.8556947497797, 7.9798477889744], [14.9647911861361, 7.79259020255814]],\n",
       " [[15.0815966885041, 7.5921004598673], [15.1858302302757, 7.38620717426887]],\n",
       " [[15.2838990649354, 7.19249108020058], [15.3705462405702, 6.99456656547992]],\n",
       " [[15.4710479022511, 6.76499482847765], [15.555848418953, 6.53053381443338]],\n",
       " [[15.6293410875024, 6.32733734508333], [15.6908398354807, 6.12101489646327]],\n",
       " [[15.7582996840502, 5.89469352248478], [15.811151998362, 5.66520400901477]],\n",
       " [[15.858001700426, 5.46177837907041], [15.8932743283624, 5.25628456535619]],\n",
       " [[15.9234569772515, 5.08044431780161], [15.9451194504346, 4.90333416558016]],\n",
       " [[15.9730560934491, 4.67492704627213], [15.9867773968648, 4.44479362169134]],\n",
       " [[16.0034165941822, 4.16572133934909], [15.9991176647554, 3.88472444785707]],\n",
       " [[15.9950908430473, 3.62151371089842], [15.9726972179107, 3.35708697651958]],\n",
       " [[15.9526619394994, 3.12050789606779], [15.9179459679384, 2.88322942110747]],\n",
       " [[15.882312030686, 2.63967678789829], [15.83124032874, 2.39559405324708]],\n",
       " [[15.7875158480249, 2.1866252815493], [15.7324953373768, 1.97736550244011]],\n",
       " [[15.6648912559291, 1.72024656653811], [15.5802540161198, 1.46276838245011]],\n",
       " [[15.4968741501039, 1.20911530326591], [15.3969639315714, 0.955118442554341]],\n",
       " [[15.3045821236361, 0.720260691795003],\n",
       "  [15.1980404233408, 0.485042552463534]],\n",
       " [[15.0759331774567, 0.215459477516022],\n",
       "  [14.935136668034, -0.0547900505028633]],\n",
       " [[14.7784251600096, -0.355587358989756],\n",
       "  [14.5983261379963, -0.657651595836769]],\n",
       " [[14.4326365303214, -0.935548190367364],\n",
       "  [14.2468180712942, -1.21507534194023]],\n",
       " [[13.9287667177733, -1.69352075241799],\n",
       "  [13.5495204141351, -2.17993676735823]],\n",
       " [[13.228806301099, -2.59128021171493], [12.8611063340419, -3.0124517446707]],\n",
       " [[12.1591087582907, -3.81653502342836],\n",
       "  [11.2483797084418, -4.69658759121086]],\n",
       " [[10.4733210891135, -5.44553957449827],\n",
       "  [9.42454171069957, -6.36494199823616]],\n",
       " [[8.84072932123853, -6.87673555265406], [7.788610883906, -7.77268471082305]],\n",
       " [[6.43199730758967, -8.92793182800395],\n",
       "  [5.86781215340663, -9.42143310902599]],\n",
       " [[4.99911290579133, -10.1812974697638],\n",
       "  [4.33114177564245, -10.8099404645036]],\n",
       " [[3.70609091742599, -11.3981902041088],\n",
       "  [3.18523060681885, -11.9373159451196]],\n",
       " [[2.65398052055043, -12.4871958084704], [2.2119638126538, -13.0054355175612]],\n",
       " [[1.84652002656313, -13.4338977860892],\n",
       "  [1.53818480616621, -13.8451114872961]],\n",
       " [[1.35658899707246, -14.0872981719213],\n",
       "  [1.19468144267213, -14.3236430665681]],\n",
       " [[1.01229440141544, -14.5898829354267],\n",
       "  [0.855250034700979, -14.8481696259238]],\n",
       " [[0.710327112506176, -15.0865204992088],\n",
       "  [0.587635439099838, -15.317016364333]],\n",
       " [[0.482522452421447, -15.5144878644567],\n",
       "  [0.394395445017321, -15.7049318068687]],\n",
       " [[0.31840843950407, -15.869141001397],\n",
       "  [0.255658210448299, -16.0268054813404]],\n",
       " [[0.189432844334108, -16.1932014939857],\n",
       "  [0.138853346014398, -16.3499815211115]],\n",
       " [[0.0926197731189966, -16.4932905900716],\n",
       "  [0.0605744460923479, -16.625013082467]],\n",
       " [[0.0353801389730772, -16.7285744199802],\n",
       "  [0.0199590858880895, -16.820733667613]],\n",
       " [[0.00867700999654953, -16.8881575731122],\n",
       "  [0.00346592649802561, -16.9441272743669]],\n",
       " [[0.000399281055259889, -16.9770646144295],\n",
       "  [2.49345880547808e-05, -16.9979165809901]],\n",
       " [[0.000120167169769384, -16.9926119052863],\n",
       "  [-0.00120639179482519, -16.9723446290242]],\n",
       " [[-0.00426775812446953, -16.9255728240776],\n",
       "  [-0.0129503651544767, -16.86557788734]],\n",
       " [[-0.0227183511665687, -16.7980832165775],\n",
       "  [-0.0385454062196693, -16.7222898015959]],\n",
       " [[-0.06004549711036, -16.6193290609179],\n",
       "  [-0.0915669504606278, -16.5067117118991]],\n",
       " [[-0.132286979305915, -16.3612304217578],\n",
       "  [-0.188273154562518, -16.204902779091]],\n",
       " [[-0.258831712369531, -16.0078853375281],\n",
       "  [-0.351810097949509, -15.7987840090959]],\n",
       " [[-0.440000005976105, -15.6004516030464],\n",
       "  [-0.547194072845051, -15.3939437422104]],\n",
       " [[-0.651340977758142, -15.193306195987],\n",
       "  [-0.772699085783482, -14.9863772240217]],\n",
       " [[-0.910246809839973, -14.7518431694101],\n",
       "  [-1.0692413762151, -14.5103646821128]],\n",
       " [[-1.22417112561029, -14.2750597759499],\n",
       "  [-1.39908931791318, -14.0337431312646]],\n",
       " [[-1.76797104341055, -13.5248349433239],\n",
       "  [-2.22583196061482, -12.9891937151164]],\n",
       " [[-2.65281454964278, -12.4896763511826],\n",
       "  [-3.16250584273345, -11.960865339223]],\n",
       " [[-3.75455354091074, -11.3466085397729],\n",
       "  [-4.48484292020919, -10.6660006846297]],\n",
       " [[-5.15417223354364, -10.0422057873649],\n",
       "  [-6.03462845747207, -9.27588577364818]],\n",
       " [[-6.5518613566613, -8.82570334364281],\n",
       "  [-7.72688839874177, -7.82524124839609]],\n",
       " [[-9.00011940672614, -6.74116461325269],\n",
       "  [-9.66659027493077, -6.1518575057301]],\n",
       " [[-10.6800142168527, -5.25576742827941],\n",
       "  [-11.4416925502921, -4.5083632999628]],\n",
       " [[-11.9256928826451, -4.03343335824615],\n",
       "  [-12.3453337586718, -3.58350021932445]],\n",
       " [[-12.8421226311087, -3.05085006647637],\n",
       "  [-13.2630306985554, -2.53794032909005]],\n",
       " [[-13.5888635034756, -2.14088731127246],\n",
       "  [-13.8734126595931, -1.7506997108797]],\n",
       " [[-14.1158142868982, -1.41830684568896],\n",
       "  [-14.3296155195759, -1.08906603538983]],\n",
       " [[-14.6222670714185, -0.638400560466284],\n",
       "  [-14.8629035091692, -0.191196762642277]],\n",
       " [[-14.9849831812171, 0.035678657752151],\n",
       "  [-15.093879517273, 0.262018849814471]],\n",
       " [[-15.1989501677438, 0.48040738398381],\n",
       "  [-15.2918143665365, 0.698434979814885]],\n",
       " [[-15.4099383650006, 0.975767813457227],\n",
       "  [-15.5083731080758, 1.25265889367945]],\n",
       " [[-15.596037025423, 1.49925228146578], [-15.6680979222918, 1.74552862415746]],\n",
       " [[-15.7452025309944, 2.00904242791343],\n",
       "  [-15.8044279558644, 2.27213565719569]],\n",
       " [[-15.8673099421169, 2.55147218982739],\n",
       "  [-15.9099982659839, 2.83015436556823]],\n",
       " [[-15.9467996846554, 3.07040505935725],\n",
       "  [-15.9685614040832, 3.30996314026493]],\n",
       " [[-15.9881495049069, 3.52559352082962],\n",
       "  [-15.9955342067788, 3.74046434121497]],\n",
       " [[-16.0051232678424, 4.01947484877545], [-15.9941254637899, 4.2967472393645]],\n",
       " [[-15.9844330208493, 4.54110936947305], [-15.958768035937, 4.78366431573383]],\n",
       " [[-15.9275621653641, 5.07858513044192],\n",
       "  [-15.8728386332033, 5.37000215623899]],\n",
       " [[-15.8278093231867, 5.60979493058336],\n",
       "  [-15.7669750538715, 5.84656658453498]],\n",
       " [[-15.721016172269, 6.02544208568407], [-15.6661182996239, 6.20226632422338]],\n",
       " [[-15.6208315317082, 6.34813351117917],\n",
       "  [-15.5695193619767, 6.49241673134215]],\n",
       " [[-15.4613890101118, 6.79646537021361],\n",
       "  [-15.3269801205853, 7.09222815454625]],\n",
       " [[-15.2212449367798, 7.32489529787583],\n",
       "  [-15.0996951958763, 7.55142914467109]],\n",
       " [[-14.9588348202878, 7.81395247467492], [-14.7974725228564, 8.0668861942751]],\n",
       " [[-14.6745800019696, 8.25951894005113],\n",
       "  [-14.5402766384116, 8.44582208248948]],\n",
       " [[-14.3933701098356, 8.64960810238759],\n",
       "  [-14.2334198263091, 8.84498132868387]],\n",
       " [[-14.0945594532161, 9.01459402644063],\n",
       "  [-13.9463689488664, 9.17725000648766]],\n",
       " [[-13.7735280755873, 9.36696257787514], [-13.588753931665, 9.54638613301087]],\n",
       " [[-13.4189681105967, 9.71125538896335], [-13.23982095404, 9.86674014639278]],\n",
       " [[-13.0625216805617, 10.0206210957701],\n",
       "  [-12.8767644199624, 10.1646925661538]],\n",
       " [[-12.6944389535778, 10.3061023713246],\n",
       "  [-12.5046728111778, 10.4375123135825]],\n",
       " [[-12.3142699757146, 10.5693631553476],\n",
       "  [-12.1171076375409, 10.6906405650386]],\n",
       " [[-11.9213331232265, 10.811064304174], [-11.7196291899761, 10.9206103014377]],\n",
       " [[-11.509884893371, 11.0345230436026], [-11.2945462865961, 11.1362305693748]],\n",
       " [[-11.0736106685721, 11.2405816441808],\n",
       "  [-10.8476757705343, 11.3316650627413]],\n",
       " [[-10.6451233054253, 11.4133220848312],\n",
       "  [-10.4392342246826, 11.4840381672923]],\n",
       " [[-10.2480502354789, 11.5497035376801], [-10.0545178054937, 11.605752174849]],\n",
       " [[-9.87842747053587, 11.6567494330024], [-9.70078839955957, 11.699669661687]],\n",
       " [[-9.51646003889087, 11.7442061217657],\n",
       "  [-9.33086927650686, 11.7799481442673]],\n",
       " [[-9.13248730736292, 11.8181535630821], [-8.933139388093, 11.846219406851]],\n",
       " [[-8.71465712197788, 11.8769791417381],\n",
       "  [-8.49561748097842, 11.8954757888015]],\n",
       " [[-8.29291726492743, 11.9125926647188],\n",
       "  [-8.09024399409492, 11.9191639457214]],\n",
       " [[-7.78610008904026, 11.9290252118723], [-7.4833331334596, 11.915111810162]],\n",
       " [[-7.17318452623145, 11.9008591908364],\n",
       "  [-6.86609005385436, 11.8617329844013]],\n",
       " [[-6.59503326929163, 11.8271982575912],\n",
       "  [-6.32749985800465, 11.7734249707618]],\n",
       " [[-6.065591016902, 11.7207822030116], [-5.80803820752765, 11.6498970887622]],\n",
       " [[-5.55929013948285, 11.5814352643096],\n",
       "  [-5.31546652781383, 11.4961928265364]],\n",
       " [[-5.10668790644988, 11.4232023621669],\n",
       "  [-4.90208243255889, 11.3381020157274]],\n",
       " [[-4.65361227556304, 11.2347572906909],\n",
       "  [-4.41212777878246, 11.1139056578479]],\n",
       " [[-4.19936350048537, 11.0074271435513],\n",
       "  [-3.99268182769649, 10.8876853593409]],\n",
       " [[-3.75270580423463, 10.7486543711102],\n",
       "  [-3.52182577913573, 10.5922682144105]],\n",
       " [[-3.32874675879168, 10.4614864981576],\n",
       "  [-3.14265200973488, 10.3189846901617]],\n",
       " [[-2.96546888319985, 10.183306945327], [-2.79512566366148, 10.0373935236474]],\n",
       " [[-2.59954871236449, 9.869865269557], [-2.41370491741605, 9.68946420864727]],\n",
       " [[-2.19513433610818, 9.47729481788262],\n",
       "  [-1.99121915187079, 9.24849308724242]],\n",
       " [[-1.80560573104341, 9.04022673339448], [-1.63321108031305, 8.8193835024801]],\n",
       " [[-1.48460042648279, 8.62900835568098],\n",
       "  [-1.34656919353414, 8.43025073001946]],\n",
       " [[-1.22862003028138, 8.26041021540489],\n",
       "  [-1.11890397474925, 8.08517660112203]],\n",
       " [[-0.95801857573265, 7.82821758251459],\n",
       "  [-0.816175270753006, 7.56186513162384]],\n",
       " [[-0.660837400706088, 7.27017267275816],\n",
       "  [-0.530605965747761, 6.97155652900988]],\n",
       " [[-0.428580116785493, 6.73761481140916],\n",
       "  [-0.343519030901754, 6.5029591230879]],\n",
       " [[-0.261963346200934, 6.27797368901832],\n",
       "  [-0.197516475528564, 6.05656345647983]],\n",
       " [[-0.136184858928778, 5.84585582472599],\n",
       "  [-0.0920712402436369, 5.64444995400555]],\n",
       " [[-0.0534506179297929, 5.46812299882186],\n",
       "  [-0.0298383755424187, 5.30751615628668]],\n",
       " [[-0.0115789781484796, 5.18331854244193],\n",
       "  [-0.00400653952455051, 5.08123174112462]]]"
      ]
     },
     "execution_count": 1233,
     "metadata": {},
     "output_type": "execute_result"
    }
   ],
   "source": [
    "hullo"
   ]
  },
  {
   "cell_type": "code",
   "execution_count": 1198,
   "metadata": {},
   "outputs": [
    {
     "data": {
      "text/plain": [
       "[((2.26480878769362e-09, 5.01935203545116),\n",
       "  (0.00240468499265089, 5.05784209373124)),\n",
       " ((0.00617678614768245, 5.11821945317385),\n",
       "  (0.0144892681784808, 5.19071052417724)),\n",
       " ((0.0249796452381706, 5.28219447150715),\n",
       "  (0.0416669391001586, 5.38322902221801)),\n",
       " ((0.0625689845764014, 5.50978212250472),\n",
       "  (0.0921242540272451, 5.64469196933818)),\n",
       " ((0.129325564905271, 5.81450341906648),\n",
       "  (0.178888071354544, 5.99135494886849)),\n",
       " ((0.227032997926876, 6.16314819595208),\n",
       "  (0.285852572783466, 6.33796304924934)),\n",
       " ((0.345659522697073, 6.51571243286517),\n",
       "  (0.415701700411068, 6.69417844133358)),\n",
       " ((0.487743067528425, 6.87773834271958),\n",
       "  (0.569888188951648, 7.06019887319993)),\n",
       " ((0.692043825721294, 7.33153065651206),\n",
       "  (0.834806300015498, 7.59665683949396)),\n",
       " ((0.918421740467044, 7.75194024064588), (1.00862101667763, 7.90415568501767)),\n",
       " ((1.12167926629051, 8.09494670272544), (1.24449884261148, 8.27994312284276)),\n",
       " ((1.44189780344349, 8.57727439675439), (1.66250874377508, 8.85670281234556)),\n",
       " ((1.80054060640138, 9.03153559541965), (1.94694688614682, 9.19842404729501)),\n",
       " ((2.08999423977703, 9.36148366081515), (2.24054566891579, 9.51639833059041)),\n",
       " ((2.48490085256662, 9.76783534981824), (2.74741879975013, 9.99621086079807)),\n",
       " ((3.01662696842382, 10.2304064795754), (3.30291999709097, 10.4385942042024)),\n",
       " ((3.46972317871875, 10.5598908176942), (3.64179542494331, 10.6719572214367)),\n",
       " ((3.79857226878001, 10.7740621074039), (3.95941554482475, 10.8683033405894)),\n",
       " ((4.13334243392154, 10.9702105195257), (4.31166833497306, 11.0627149706127)),\n",
       " ((4.47604708828145, 11.1479845038409), (4.64386151028959, 11.2251070150907)),\n",
       " ((4.80544594869858, 11.299366411392), (4.96995032351617, 11.3659501831024)),\n",
       " ((5.16725965014621, 11.4458118838945), (5.36835311845226, 11.5144650549576)),\n",
       " ((5.56561833961004, 11.5818112650908), (5.7660857806164, 11.6382214352365)),\n",
       " ((5.93594304380552, 11.6860181101922), (6.10780540394526, 11.7258795037075)),\n",
       " ((6.3802811445957, 11.7890769525997), (6.65689783599178, 11.8321328272072)),\n",
       " ((6.88756600251257, 11.8680367330906), (7.12039035026157, 11.8898178268749)),\n",
       " ((7.33575429714658, 11.9099654719568), (7.5524023719199, 11.9179755377665)),\n",
       " ((7.78903411552322, 11.9267244539104), (8.02650188595541, 11.9209696911957)),\n",
       " ((8.31148267851657, 11.9140635041521), (8.59647282523938, 11.8863060110558)),\n",
       " ((8.84172783653293, 11.8624186438571), (9.08605624824551, 11.8231757557194)),\n",
       " ((9.29602775102361, 11.7894511138005), (9.5047004646898, 11.7444820539865)),\n",
       " ((9.73546771599974, 11.6947516117789), (9.96389320433066, 11.631434414029)),\n",
       " ((10.2137994798527, 11.5621629628359), (10.4598847954114, 11.4769149350853)),\n",
       " ((10.7426952738113, 11.3789447028671), (11.0189146985215, 11.2604175545564)),\n",
       " ((11.2783606307036, 11.14908799649), (11.5305552606758, 11.0202359184706)),\n",
       " ((11.8305962880828, 10.8669380077389), (12.1182124982183, 10.6899608334626)),\n",
       " ((12.3086605446971, 10.5727735681955), (12.4928101128895, 10.4457122376404)),\n",
       " ((12.7138340887796, 10.2932079405257), (12.9247407405014, 10.1272078034175)),\n",
       " ((13.1164494580624, 9.97631795172166), (13.2989309836935, 9.81495653041487)),\n",
       " ((13.4993501715355, 9.63773352169933), (13.6876496499027, 9.44875874377583)),\n",
       " ((13.8259025844505, 9.31000999189398), (13.9571663998683, 9.16537567684822)),\n",
       " ((14.0895559130142, 9.01950100078341), (14.2144709921875, 8.86804150073268)),\n",
       " ((14.3647042289743, 8.68588374135466), (14.50359102542, 8.496302620215)),\n",
       " ((14.6242491373507, 8.33160373796121), (14.7359701511584, 8.16180777241553)),\n",
       " ((14.8556947497797, 7.9798477889744), (14.9647911861361, 7.79259020255814)),\n",
       " ((15.0815966885041, 7.5921004598673), (15.1858302302757, 7.38620717426887)),\n",
       " ((15.2838990649354, 7.19249108020058), (15.3705462405702, 6.99456656547992)),\n",
       " ((15.4710479022511, 6.76499482847765), (15.555848418953, 6.53053381443338)),\n",
       " ((15.6293410875024, 6.32733734508333), (15.6908398354807, 6.12101489646327)),\n",
       " ((15.7582996840502, 5.89469352248478), (15.811151998362, 5.66520400901477)),\n",
       " ((15.858001700426, 5.46177837907041), (15.8932743283624, 5.25628456535619)),\n",
       " ((15.9234569772515, 5.08044431780161), (15.9451194504346, 4.90333416558016)),\n",
       " ((15.9730560934491, 4.67492704627213), (15.9867773968648, 4.44479362169134)),\n",
       " ((16.0034165941822, 4.16572133934909), (15.9991176647554, 3.88472444785707)),\n",
       " ((15.9950908430473, 3.62151371089842), (15.9726972179107, 3.35708697651958)),\n",
       " ((15.9526619394994, 3.12050789606779), (15.9179459679384, 2.88322942110747)),\n",
       " ((15.882312030686, 2.63967678789829), (15.83124032874, 2.39559405324708)),\n",
       " ((15.7875158480249, 2.1866252815493), (15.7324953373768, 1.97736550244011)),\n",
       " ((15.6648912559291, 1.72024656653811), (15.5802540161198, 1.46276838245011)),\n",
       " ((15.4968741501039, 1.20911530326591), (15.3969639315714, 0.955118442554341)),\n",
       " ((15.3045821236361, 0.720260691795003),\n",
       "  (15.1980404233408, 0.485042552463534)),\n",
       " ((15.0759331774567, 0.215459477516022),\n",
       "  (14.935136668034, -0.0547900505028633)),\n",
       " ((14.7784251600096, -0.355587358989756),\n",
       "  (14.5983261379963, -0.657651595836769)),\n",
       " ((14.4326365303214, -0.935548190367364),\n",
       "  (14.2468180712942, -1.21507534194023)),\n",
       " ((13.9287667177733, -1.69352075241799),\n",
       "  (13.5495204141351, -2.17993676735823)),\n",
       " ((13.228806301099, -2.59128021171493), (12.8611063340419, -3.0124517446707)),\n",
       " ((12.1591087582907, -3.81653502342836),\n",
       "  (11.2483797084418, -4.69658759121086)),\n",
       " ((10.4733210891135, -5.44553957449827),\n",
       "  (9.42454171069957, -6.36494199823616)),\n",
       " ((8.84072932123853, -6.87673555265406), (7.788610883906, -7.77268471082305)),\n",
       " ((6.43199730758967, -8.92793182800395),\n",
       "  (5.86781215340663, -9.42143310902599)),\n",
       " ((4.99911290579133, -10.1812974697638),\n",
       "  (4.33114177564245, -10.8099404645036)),\n",
       " ((3.70609091742599, -11.3981902041088),\n",
       "  (3.18523060681885, -11.9373159451196)),\n",
       " ((2.65398052055043, -12.4871958084704), (2.2119638126538, -13.0054355175612)),\n",
       " ((1.84652002656313, -13.4338977860892),\n",
       "  (1.53818480616621, -13.8451114872961)),\n",
       " ((1.35658899707246, -14.0872981719213),\n",
       "  (1.19468144267213, -14.3236430665681)),\n",
       " ((1.01229440141544, -14.5898829354267),\n",
       "  (0.855250034700979, -14.8481696259238)),\n",
       " ((0.710327112506176, -15.0865204992088),\n",
       "  (0.587635439099838, -15.317016364333)),\n",
       " ((0.482522452421447, -15.5144878644567),\n",
       "  (0.394395445017321, -15.7049318068687)),\n",
       " ((0.31840843950407, -15.869141001397),\n",
       "  (0.255658210448299, -16.0268054813404)),\n",
       " ((0.189432844334108, -16.1932014939857),\n",
       "  (0.138853346014398, -16.3499815211115)),\n",
       " ((0.0926197731189966, -16.4932905900716),\n",
       "  (0.0605744460923479, -16.625013082467)),\n",
       " ((0.0353801389730772, -16.7285744199802),\n",
       "  (0.0199590858880895, -16.820733667613)),\n",
       " ((0.00867700999654953, -16.8881575731122),\n",
       "  (0.00346592649802561, -16.9441272743669)),\n",
       " ((0.000399281055259889, -16.9770646144295),\n",
       "  (2.49345880547808e-05, -16.9979165809901)),\n",
       " ((0.000120167169769384, -16.9926119052863),\n",
       "  (-0.00120639179482519, -16.9723446290242)),\n",
       " ((-0.00426775812446953, -16.9255728240776),\n",
       "  (-0.0129503651544767, -16.86557788734)),\n",
       " ((-0.0227183511665687, -16.7980832165775),\n",
       "  (-0.0385454062196693, -16.7222898015959)),\n",
       " ((-0.06004549711036, -16.6193290609179),\n",
       "  (-0.0915669504606278, -16.5067117118991)),\n",
       " ((-0.132286979305915, -16.3612304217578),\n",
       "  (-0.188273154562518, -16.204902779091)),\n",
       " ((-0.258831712369531, -16.0078853375281),\n",
       "  (-0.351810097949509, -15.7987840090959)),\n",
       " ((-0.440000005976105, -15.6004516030464),\n",
       "  (-0.547194072845051, -15.3939437422104)),\n",
       " ((-0.651340977758142, -15.193306195987),\n",
       "  (-0.772699085783482, -14.9863772240217)),\n",
       " ((-0.910246809839973, -14.7518431694101),\n",
       "  (-1.0692413762151, -14.5103646821128)),\n",
       " ((-1.22417112561029, -14.2750597759499),\n",
       "  (-1.39908931791318, -14.0337431312646)),\n",
       " ((-1.76797104341055, -13.5248349433239),\n",
       "  (-2.22583196061482, -12.9891937151164)),\n",
       " ((-2.65281454964278, -12.4896763511826),\n",
       "  (-3.16250584273345, -11.960865339223)),\n",
       " ((-3.75455354091074, -11.3466085397729),\n",
       "  (-4.48484292020919, -10.6660006846297)),\n",
       " ((-5.15417223354364, -10.0422057873649),\n",
       "  (-6.03462845747207, -9.27588577364818)),\n",
       " ((-6.5518613566613, -8.82570334364281),\n",
       "  (-7.72688839874177, -7.82524124839609)),\n",
       " ((-9.00011940672614, -6.74116461325269),\n",
       "  (-9.66659027493077, -6.1518575057301)),\n",
       " ((-10.6800142168527, -5.25576742827941),\n",
       "  (-11.4416925502921, -4.5083632999628)),\n",
       " ((-11.9256928826451, -4.03343335824615),\n",
       "  (-12.3453337586718, -3.58350021932445)),\n",
       " ((-12.8421226311087, -3.05085006647637),\n",
       "  (-13.2630306985554, -2.53794032909005)),\n",
       " ((-13.5888635034756, -2.14088731127246),\n",
       "  (-13.8734126595931, -1.7506997108797)),\n",
       " ((-14.1158142868982, -1.41830684568896),\n",
       "  (-14.3296155195759, -1.08906603538983)),\n",
       " ((-14.6222670714185, -0.638400560466284),\n",
       "  (-14.8629035091692, -0.191196762642277)),\n",
       " ((-14.9849831812171, 0.035678657752151),\n",
       "  (-15.093879517273, 0.262018849814471)),\n",
       " ((-15.1989501677438, 0.48040738398381),\n",
       "  (-15.2918143665365, 0.698434979814885)),\n",
       " ((-15.4099383650006, 0.975767813457227),\n",
       "  (-15.5083731080758, 1.25265889367945)),\n",
       " ((-15.596037025423, 1.49925228146578), (-15.6680979222918, 1.74552862415746)),\n",
       " ((-15.7452025309944, 2.00904242791343),\n",
       "  (-15.8044279558644, 2.27213565719569)),\n",
       " ((-15.8673099421169, 2.55147218982739),\n",
       "  (-15.9099982659839, 2.83015436556823)),\n",
       " ((-15.9467996846554, 3.07040505935725),\n",
       "  (-15.9685614040832, 3.30996314026493)),\n",
       " ((-15.9881495049069, 3.52559352082962),\n",
       "  (-15.9955342067788, 3.74046434121497)),\n",
       " ((-16.0051232678424, 4.01947484877545), (-15.9941254637899, 4.2967472393645)),\n",
       " ((-15.9844330208493, 4.54110936947305), (-15.958768035937, 4.78366431573383)),\n",
       " ((-15.9275621653641, 5.07858513044192),\n",
       "  (-15.8728386332033, 5.37000215623899)),\n",
       " ((-15.8278093231867, 5.60979493058336),\n",
       "  (-15.7669750538715, 5.84656658453498)),\n",
       " ((-15.721016172269, 6.02544208568407), (-15.6661182996239, 6.20226632422338)),\n",
       " ((-15.6208315317082, 6.34813351117917),\n",
       "  (-15.5695193619767, 6.49241673134215)),\n",
       " ((-15.4613890101118, 6.79646537021361),\n",
       "  (-15.3269801205853, 7.09222815454625)),\n",
       " ((-15.2212449367798, 7.32489529787583),\n",
       "  (-15.0996951958763, 7.55142914467109)),\n",
       " ((-14.9588348202878, 7.81395247467492), (-14.7974725228564, 8.0668861942751)),\n",
       " ((-14.6745800019696, 8.25951894005113),\n",
       "  (-14.5402766384116, 8.44582208248948)),\n",
       " ((-14.3933701098356, 8.64960810238759),\n",
       "  (-14.2334198263091, 8.84498132868387)),\n",
       " ((-14.0945594532161, 9.01459402644063),\n",
       "  (-13.9463689488664, 9.17725000648766)),\n",
       " ((-13.7735280755873, 9.36696257787514), (-13.588753931665, 9.54638613301087)),\n",
       " ((-13.4189681105967, 9.71125538896335), (-13.23982095404, 9.86674014639278)),\n",
       " ((-13.0625216805617, 10.0206210957701),\n",
       "  (-12.8767644199624, 10.1646925661538)),\n",
       " ((-12.6944389535778, 10.3061023713246),\n",
       "  (-12.5046728111778, 10.4375123135825)),\n",
       " ((-12.3142699757146, 10.5693631553476),\n",
       "  (-12.1171076375409, 10.6906405650386)),\n",
       " ((-11.9213331232265, 10.811064304174), (-11.7196291899761, 10.9206103014377)),\n",
       " ((-11.509884893371, 11.0345230436026), (-11.2945462865961, 11.1362305693748)),\n",
       " ((-11.0736106685721, 11.2405816441808),\n",
       "  (-10.8476757705343, 11.3316650627413)),\n",
       " ((-10.6451233054253, 11.4133220848312),\n",
       "  (-10.4392342246826, 11.4840381672923)),\n",
       " ((-10.2480502354789, 11.5497035376801), (-10.0545178054937, 11.605752174849)),\n",
       " ((-9.87842747053587, 11.6567494330024), (-9.70078839955957, 11.699669661687)),\n",
       " ((-9.51646003889087, 11.7442061217657),\n",
       "  (-9.33086927650686, 11.7799481442673)),\n",
       " ((-9.13248730736292, 11.8181535630821), (-8.933139388093, 11.846219406851)),\n",
       " ((-8.71465712197788, 11.8769791417381),\n",
       "  (-8.49561748097842, 11.8954757888015)),\n",
       " ((-8.29291726492743, 11.9125926647188),\n",
       "  (-8.09024399409492, 11.9191639457214)),\n",
       " ((-7.78610008904026, 11.9290252118723), (-7.4833331334596, 11.915111810162)),\n",
       " ((-7.17318452623145, 11.9008591908364),\n",
       "  (-6.86609005385436, 11.8617329844013)),\n",
       " ((-6.59503326929163, 11.8271982575912),\n",
       "  (-6.32749985800465, 11.7734249707618)),\n",
       " ((-6.065591016902, 11.7207822030116), (-5.80803820752765, 11.6498970887622)),\n",
       " ((-5.55929013948285, 11.5814352643096),\n",
       "  (-5.31546652781383, 11.4961928265364)),\n",
       " ((-5.10668790644988, 11.4232023621669),\n",
       "  (-4.90208243255889, 11.3381020157274)),\n",
       " ((-4.65361227556304, 11.2347572906909),\n",
       "  (-4.41212777878246, 11.1139056578479)),\n",
       " ((-4.19936350048537, 11.0074271435513),\n",
       "  (-3.99268182769649, 10.8876853593409)),\n",
       " ((-3.75270580423463, 10.7486543711102),\n",
       "  (-3.52182577913573, 10.5922682144105)),\n",
       " ((-3.32874675879168, 10.4614864981576),\n",
       "  (-3.14265200973488, 10.3189846901617)),\n",
       " ((-2.96546888319985, 10.183306945327), (-2.79512566366148, 10.0373935236474)),\n",
       " ((-2.59954871236449, 9.869865269557), (-2.41370491741605, 9.68946420864727)),\n",
       " ((-2.19513433610818, 9.47729481788262),\n",
       "  (-1.99121915187079, 9.24849308724242)),\n",
       " ((-1.80560573104341, 9.04022673339448), (-1.63321108031305, 8.8193835024801)),\n",
       " ((-1.48460042648279, 8.62900835568098),\n",
       "  (-1.34656919353414, 8.43025073001946)),\n",
       " ((-1.22862003028138, 8.26041021540489),\n",
       "  (-1.11890397474925, 8.08517660112203)),\n",
       " ((-0.95801857573265, 7.82821758251459),\n",
       "  (-0.816175270753006, 7.56186513162384)),\n",
       " ((-0.660837400706088, 7.27017267275816),\n",
       "  (-0.530605965747761, 6.97155652900988)),\n",
       " ((-0.428580116785493, 6.73761481140916),\n",
       "  (-0.343519030901754, 6.5029591230879)),\n",
       " ((-0.261963346200934, 6.27797368901832),\n",
       "  (-0.197516475528564, 6.05656345647983)),\n",
       " ((-0.136184858928778, 5.84585582472599),\n",
       "  (-0.0920712402436369, 5.64444995400555)),\n",
       " ((-0.0534506179297929, 5.46812299882186),\n",
       "  (-0.0298383755424187, 5.30751615628668)),\n",
       " ((-0.0115789781484796, 5.18331854244193),\n",
       "  (-0.00400653952455051, 5.08123174112462))]"
      ]
     },
     "execution_count": 1198,
     "metadata": {},
     "output_type": "execute_result"
    }
   ],
   "source": [
    "quad_points"
   ]
  },
  {
   "cell_type": "code",
   "execution_count": 21,
   "metadata": {},
   "outputs": [],
   "source": [
    "import json\n",
    "import math\n",
    "\n",
    "import numpy as np\n",
    "\n",
    "from uuid import uuid4\n",
    "\n",
    "from vdom.svg import *\n",
    "from vdom.svg import g as group"
   ]
  },
  {
   "cell_type": "code",
   "execution_count": 5,
   "metadata": {},
   "outputs": [],
   "source": [
    "\n",
    "def store_data(fname, quad_points, initial_point):\n",
    "    data = {\"quad_points\": quad_points,\n",
    "     \"initial_point\": initial_point\n",
    "    }\n",
    "    with open(fname, \"w\") as fp:\n",
    "        json.dump(data, fp)\n",
    "\n",
    "def load_data(fname):\n",
    "    with open(fname, \"r\") as fp:\n",
    "        return json.load(fp)"
   ]
  },
  {
   "cell_type": "code",
   "execution_count": 8,
   "metadata": {},
   "outputs": [],
   "source": [
    "# quads = quad_points\n",
    "data = load_data('heart_quads.json')\n",
    "quads = data['quad_points']\n",
    "initial_point = data['initial_point']\n",
    "center = 0\n",
    "\n",
    "# d = f'M{center+initial_point[0]},{center+initial_point[1]} {\" \".join(\"Q\"+\",\".join(map(str, (q+center for q in quad[0])))+\" \"+\",\".join(map(str, (q+center for q in quad[1]))) for quad in quads)} '\n",
    "d = f'M{initial_point[0]},{initial_point[1]} {\" \".join(\"Q\"+\",\".join(map(str, (q for q in quad[0])))+\" \"+\",\".join(map(str, (q for q in quad[1]))) for quad in quads)} '\n",
    "def gen_id():\n",
    "    return f\"{uuid4()}\".replace(\"-\",\"\")\n",
    "\n",
    "myid = gen_id()"
   ]
  },
  {
   "cell_type": "code",
   "execution_count": 9,
   "metadata": {},
   "outputs": [],
   "source": []
  },
  {
   "cell_type": "code",
   "execution_count": 385,
   "metadata": {},
   "outputs": [],
   "source": [
    "def gen_heart(myid=None):\n",
    "    if myid is None:\n",
    "        myid = gen_id()\n",
    "    d = f'M{initial_point[0]},{initial_point[1]} {\" \".join(\"Q\"+\",\".join(map(str, (q for q in quad[0])))+\" \"+\",\".join(map(str, (q for q in quad[1]))) for quad in quads)} Z'\n",
    "    my_heart = path(\n",
    "        id=f\"{myid}\",\n",
    "        fill=\"none\", \n",
    "        stroke=\"red\",\n",
    "        d=d,\n",
    "        transform = \"scale(1.25 -1.25)\",\n",
    "        **{\"stroke-width\": \".5\"}\n",
    "        )\n",
    "\n",
    "    \n",
    "    return my_heart\n"
   ]
  },
  {
   "cell_type": "code",
   "execution_count": 11,
   "metadata": {},
   "outputs": [],
   "source": [
    "def grid():\n",
    "    \n",
    "    return group(\n",
    "        line(x1=\"-50%\", y1=\"0%\", x2=\"50%\", y2=\"0%\", stroke=\"black\", **{\"stroke-width\":\".25\"}),\n",
    "        line(x1=\"0%\", y1=\"-50%\", x2=\"0%\", y2=\"50%\", stroke=\"black\", **{\"stroke-width\":\".25\"}),\n",
    "    )\n"
   ]
  },
  {
   "cell_type": "code",
   "execution_count": 12,
   "metadata": {},
   "outputs": [
    {
     "data": {
      "application/vdom.v1+json": {
       "attributes": {
        "viewBox": "-25 -25 50 50"
       },
       "children": [
        {
         "attributes": {
          "d": "M0.0,5.0 Q2.26480878769362e-09,5.01935203545116 0.00240468499265089,5.05784209373124 Q0.00617678614768245,5.11821945317385 0.0144892681784808,5.19071052417724 Q0.0249796452381706,5.28219447150715 0.0416669391001586,5.38322902221801 Q0.0625689845764014,5.50978212250472 0.0921242540272451,5.64469196933818 Q0.129325564905271,5.81450341906648 0.178888071354544,5.99135494886849 Q0.227032997926876,6.16314819595208 0.285852572783466,6.33796304924934 Q0.345659522697073,6.51571243286517 0.415701700411068,6.69417844133358 Q0.487743067528425,6.87773834271958 0.569888188951648,7.06019887319993 Q0.692043825721294,7.33153065651206 0.834806300015498,7.59665683949396 Q0.918421740467044,7.75194024064588 1.00862101667763,7.90415568501767 Q1.12167926629051,8.09494670272544 1.24449884261148,8.27994312284276 Q1.44189780344349,8.57727439675439 1.66250874377508,8.85670281234556 Q1.80054060640138,9.03153559541965 1.94694688614682,9.19842404729501 Q2.08999423977703,9.36148366081515 2.24054566891579,9.51639833059041 Q2.48490085256662,9.76783534981824 2.74741879975013,9.99621086079807 Q3.01662696842382,10.2304064795754 3.30291999709097,10.4385942042024 Q3.46972317871875,10.5598908176942 3.64179542494331,10.6719572214367 Q3.79857226878001,10.7740621074039 3.95941554482475,10.8683033405894 Q4.13334243392154,10.9702105195257 4.31166833497306,11.0627149706127 Q4.47604708828145,11.1479845038409 4.64386151028959,11.2251070150907 Q4.80544594869858,11.299366411392 4.96995032351617,11.3659501831024 Q5.16725965014621,11.4458118838945 5.36835311845226,11.5144650549576 Q5.56561833961004,11.5818112650908 5.7660857806164,11.6382214352365 Q5.93594304380552,11.6860181101922 6.10780540394526,11.7258795037075 Q6.3802811445957,11.7890769525997 6.65689783599178,11.8321328272072 Q6.88756600251257,11.8680367330906 7.12039035026157,11.8898178268749 Q7.33575429714658,11.9099654719568 7.5524023719199,11.9179755377665 Q7.78903411552322,11.9267244539104 8.02650188595541,11.9209696911957 Q8.31148267851657,11.9140635041521 8.59647282523938,11.8863060110558 Q8.84172783653293,11.8624186438571 9.08605624824551,11.8231757557194 Q9.29602775102361,11.7894511138005 9.5047004646898,11.7444820539865 Q9.73546771599974,11.6947516117789 9.96389320433066,11.631434414029 Q10.2137994798527,11.5621629628359 10.4598847954114,11.4769149350853 Q10.7426952738113,11.3789447028671 11.0189146985215,11.2604175545564 Q11.2783606307036,11.14908799649 11.5305552606758,11.0202359184706 Q11.8305962880828,10.8669380077389 12.1182124982183,10.6899608334626 Q12.3086605446971,10.5727735681955 12.4928101128895,10.4457122376404 Q12.7138340887796,10.2932079405257 12.9247407405014,10.1272078034175 Q13.1164494580624,9.97631795172166 13.2989309836935,9.81495653041487 Q13.4993501715355,9.63773352169933 13.6876496499027,9.44875874377583 Q13.8259025844505,9.31000999189398 13.9571663998683,9.16537567684822 Q14.0895559130142,9.01950100078341 14.2144709921875,8.86804150073268 Q14.3647042289743,8.68588374135466 14.50359102542,8.496302620215 Q14.6242491373507,8.33160373796121 14.7359701511584,8.16180777241553 Q14.8556947497797,7.9798477889744 14.9647911861361,7.79259020255814 Q15.0815966885041,7.5921004598673 15.1858302302757,7.38620717426887 Q15.2838990649354,7.19249108020058 15.3705462405702,6.99456656547992 Q15.4710479022511,6.76499482847765 15.555848418953,6.53053381443338 Q15.6293410875024,6.32733734508333 15.6908398354807,6.12101489646327 Q15.7582996840502,5.89469352248478 15.811151998362,5.66520400901477 Q15.858001700426,5.46177837907041 15.8932743283624,5.25628456535619 Q15.9234569772515,5.08044431780161 15.9451194504346,4.90333416558016 Q15.9730560934491,4.67492704627213 15.9867773968648,4.44479362169134 Q16.0034165941822,4.16572133934909 15.9991176647554,3.88472444785707 Q15.9950908430473,3.62151371089842 15.9726972179107,3.35708697651958 Q15.9526619394994,3.12050789606779 15.9179459679384,2.88322942110747 Q15.882312030686,2.63967678789829 15.83124032874,2.39559405324708 Q15.7875158480249,2.1866252815493 15.7324953373768,1.97736550244011 Q15.6648912559291,1.72024656653811 15.5802540161198,1.46276838245011 Q15.4968741501039,1.20911530326591 15.3969639315714,0.955118442554341 Q15.3045821236361,0.720260691795003 15.1980404233408,0.485042552463534 Q15.0759331774567,0.215459477516022 14.935136668034,-0.0547900505028633 Q14.7784251600096,-0.355587358989756 14.5983261379963,-0.657651595836769 Q14.4326365303214,-0.935548190367364 14.2468180712942,-1.21507534194023 Q13.9287667177733,-1.69352075241799 13.5495204141351,-2.17993676735823 Q13.228806301099,-2.59128021171493 12.8611063340419,-3.0124517446707 Q12.1591087582907,-3.81653502342836 11.2483797084418,-4.69658759121086 Q10.4733210891135,-5.44553957449827 9.42454171069957,-6.36494199823616 Q8.84072932123853,-6.87673555265406 7.788610883906,-7.77268471082305 Q6.43199730758967,-8.92793182800395 5.86781215340663,-9.42143310902599 Q4.99911290579133,-10.1812974697638 4.33114177564245,-10.8099404645036 Q3.70609091742599,-11.3981902041088 3.18523060681885,-11.9373159451196 Q2.65398052055043,-12.4871958084704 2.2119638126538,-13.0054355175612 Q1.84652002656313,-13.4338977860892 1.53818480616621,-13.8451114872961 Q1.35658899707246,-14.0872981719213 1.19468144267213,-14.3236430665681 Q1.01229440141544,-14.5898829354267 0.855250034700979,-14.8481696259238 Q0.710327112506176,-15.0865204992088 0.587635439099838,-15.317016364333 Q0.482522452421447,-15.5144878644567 0.394395445017321,-15.7049318068687 Q0.31840843950407,-15.869141001397 0.255658210448299,-16.0268054813404 Q0.189432844334108,-16.1932014939857 0.138853346014398,-16.3499815211115 Q0.0926197731189966,-16.4932905900716 0.0605744460923479,-16.625013082467 Q0.0353801389730772,-16.7285744199802 0.0199590858880895,-16.820733667613 Q0.00867700999654953,-16.8881575731122 0.00346592649802561,-16.9441272743669 Q0.000399281055259889,-16.9770646144295 2.49345880547808e-05,-16.9979165809901 Q0.000120167169769384,-16.9926119052863 -0.00120639179482519,-16.9723446290242 Q-0.00426775812446953,-16.9255728240776 -0.0129503651544767,-16.86557788734 Q-0.0227183511665687,-16.7980832165775 -0.0385454062196693,-16.7222898015959 Q-0.06004549711036,-16.6193290609179 -0.0915669504606278,-16.5067117118991 Q-0.132286979305915,-16.3612304217578 -0.188273154562518,-16.204902779091 Q-0.258831712369531,-16.0078853375281 -0.351810097949509,-15.7987840090959 Q-0.440000005976105,-15.6004516030464 -0.547194072845051,-15.3939437422104 Q-0.651340977758142,-15.193306195987 -0.772699085783482,-14.9863772240217 Q-0.910246809839973,-14.7518431694101 -1.0692413762151,-14.5103646821128 Q-1.22417112561029,-14.2750597759499 -1.39908931791318,-14.0337431312646 Q-1.76797104341055,-13.5248349433239 -2.22583196061482,-12.9891937151164 Q-2.65281454964278,-12.4896763511826 -3.16250584273345,-11.960865339223 Q-3.75455354091074,-11.3466085397729 -4.48484292020919,-10.6660006846297 Q-5.15417223354364,-10.0422057873649 -6.03462845747207,-9.27588577364818 Q-6.5518613566613,-8.82570334364281 -7.72688839874177,-7.82524124839609 Q-9.00011940672614,-6.74116461325269 -9.66659027493077,-6.1518575057301 Q-10.6800142168527,-5.25576742827941 -11.4416925502921,-4.5083632999628 Q-11.9256928826451,-4.03343335824615 -12.3453337586718,-3.58350021932445 Q-12.8421226311087,-3.05085006647637 -13.2630306985554,-2.53794032909005 Q-13.5888635034756,-2.14088731127246 -13.8734126595931,-1.7506997108797 Q-14.1158142868982,-1.41830684568896 -14.3296155195759,-1.08906603538983 Q-14.6222670714185,-0.638400560466284 -14.8629035091692,-0.191196762642277 Q-14.9849831812171,0.035678657752151 -15.093879517273,0.262018849814471 Q-15.1989501677438,0.48040738398381 -15.2918143665365,0.698434979814885 Q-15.4099383650006,0.975767813457227 -15.5083731080758,1.25265889367945 Q-15.596037025423,1.49925228146578 -15.6680979222918,1.74552862415746 Q-15.7452025309944,2.00904242791343 -15.8044279558644,2.27213565719569 Q-15.8673099421169,2.55147218982739 -15.9099982659839,2.83015436556823 Q-15.9467996846554,3.07040505935725 -15.9685614040832,3.30996314026493 Q-15.9881495049069,3.52559352082962 -15.9955342067788,3.74046434121497 Q-16.0051232678424,4.01947484877545 -15.9941254637899,4.2967472393645 Q-15.9844330208493,4.54110936947305 -15.958768035937,4.78366431573383 Q-15.9275621653641,5.07858513044192 -15.8728386332033,5.37000215623899 Q-15.8278093231867,5.60979493058336 -15.7669750538715,5.84656658453498 Q-15.721016172269,6.02544208568407 -15.6661182996239,6.20226632422338 Q-15.6208315317082,6.34813351117917 -15.5695193619767,6.49241673134215 Q-15.4613890101118,6.79646537021361 -15.3269801205853,7.09222815454625 Q-15.2212449367798,7.32489529787583 -15.0996951958763,7.55142914467109 Q-14.9588348202878,7.81395247467492 -14.7974725228564,8.0668861942751 Q-14.6745800019696,8.25951894005113 -14.5402766384116,8.44582208248948 Q-14.3933701098356,8.64960810238759 -14.2334198263091,8.84498132868387 Q-14.0945594532161,9.01459402644063 -13.9463689488664,9.17725000648766 Q-13.7735280755873,9.36696257787514 -13.588753931665,9.54638613301087 Q-13.4189681105967,9.71125538896335 -13.23982095404,9.86674014639278 Q-13.0625216805617,10.0206210957701 -12.8767644199624,10.1646925661538 Q-12.6944389535778,10.3061023713246 -12.5046728111778,10.4375123135825 Q-12.3142699757146,10.5693631553476 -12.1171076375409,10.6906405650386 Q-11.9213331232265,10.811064304174 -11.7196291899761,10.9206103014377 Q-11.509884893371,11.0345230436026 -11.2945462865961,11.1362305693748 Q-11.0736106685721,11.2405816441808 -10.8476757705343,11.3316650627413 Q-10.6451233054253,11.4133220848312 -10.4392342246826,11.4840381672923 Q-10.2480502354789,11.5497035376801 -10.0545178054937,11.605752174849 Q-9.87842747053587,11.6567494330024 -9.70078839955957,11.699669661687 Q-9.51646003889087,11.7442061217657 -9.33086927650686,11.7799481442673 Q-9.13248730736292,11.8181535630821 -8.933139388093,11.846219406851 Q-8.71465712197788,11.8769791417381 -8.49561748097842,11.8954757888015 Q-8.29291726492743,11.9125926647188 -8.09024399409492,11.9191639457214 Q-7.78610008904026,11.9290252118723 -7.4833331334596,11.915111810162 Q-7.17318452623145,11.9008591908364 -6.86609005385436,11.8617329844013 Q-6.59503326929163,11.8271982575912 -6.32749985800465,11.7734249707618 Q-6.065591016902,11.7207822030116 -5.80803820752765,11.6498970887622 Q-5.55929013948285,11.5814352643096 -5.31546652781383,11.4961928265364 Q-5.10668790644988,11.4232023621669 -4.90208243255889,11.3381020157274 Q-4.65361227556304,11.2347572906909 -4.41212777878246,11.1139056578479 Q-4.19936350048537,11.0074271435513 -3.99268182769649,10.8876853593409 Q-3.75270580423463,10.7486543711102 -3.52182577913573,10.5922682144105 Q-3.32874675879168,10.4614864981576 -3.14265200973488,10.3189846901617 Q-2.96546888319985,10.183306945327 -2.79512566366148,10.0373935236474 Q-2.59954871236449,9.869865269557 -2.41370491741605,9.68946420864727 Q-2.19513433610818,9.47729481788262 -1.99121915187079,9.24849308724242 Q-1.80560573104341,9.04022673339448 -1.63321108031305,8.8193835024801 Q-1.48460042648279,8.62900835568098 -1.34656919353414,8.43025073001946 Q-1.22862003028138,8.26041021540489 -1.11890397474925,8.08517660112203 Q-0.95801857573265,7.82821758251459 -0.816175270753006,7.56186513162384 Q-0.660837400706088,7.27017267275816 -0.530605965747761,6.97155652900988 Q-0.428580116785493,6.73761481140916 -0.343519030901754,6.5029591230879 Q-0.261963346200934,6.27797368901832 -0.197516475528564,6.05656345647983 Q-0.136184858928778,5.84585582472599 -0.0920712402436369,5.64444995400555 Q-0.0534506179297929,5.46812299882186 -0.0298383755424187,5.30751615628668 Q-0.0115789781484796,5.18331854244193 -0.00400653952455051,5.08123174112462 Z",
          "fill": "none",
          "id": "3eb92264dbdb42209be261fe0dc9ea7a",
          "stroke": "red",
          "stroke-width": ".5",
          "transform": "scale(1.25 -1.25)"
         },
         "children": [],
         "tagName": "path"
        },
        {
         "attributes": {},
         "children": [
          {
           "attributes": {
            "stroke": "black",
            "stroke-width": ".25",
            "x1": "-50%",
            "x2": "50%",
            "y1": "0%",
            "y2": "0%"
           },
           "children": [],
           "tagName": "line"
          },
          {
           "attributes": {
            "stroke": "black",
            "stroke-width": ".25",
            "x1": "0%",
            "x2": "0%",
            "y1": "-50%",
            "y2": "50%"
           },
           "children": [],
           "tagName": "line"
          }
         ],
         "tagName": "g"
        }
       ],
       "tagName": "svg"
      },
      "text/html": [
       "<svg viewBox=\"-25 -25 50 50\"><path d=\"M0.0,5.0 Q2.26480878769362e-09,5.01935203545116 0.00240468499265089,5.05784209373124 Q0.00617678614768245,5.11821945317385 0.0144892681784808,5.19071052417724 Q0.0249796452381706,5.28219447150715 0.0416669391001586,5.38322902221801 Q0.0625689845764014,5.50978212250472 0.0921242540272451,5.64469196933818 Q0.129325564905271,5.81450341906648 0.178888071354544,5.99135494886849 Q0.227032997926876,6.16314819595208 0.285852572783466,6.33796304924934 Q0.345659522697073,6.51571243286517 0.415701700411068,6.69417844133358 Q0.487743067528425,6.87773834271958 0.569888188951648,7.06019887319993 Q0.692043825721294,7.33153065651206 0.834806300015498,7.59665683949396 Q0.918421740467044,7.75194024064588 1.00862101667763,7.90415568501767 Q1.12167926629051,8.09494670272544 1.24449884261148,8.27994312284276 Q1.44189780344349,8.57727439675439 1.66250874377508,8.85670281234556 Q1.80054060640138,9.03153559541965 1.94694688614682,9.19842404729501 Q2.08999423977703,9.36148366081515 2.24054566891579,9.51639833059041 Q2.48490085256662,9.76783534981824 2.74741879975013,9.99621086079807 Q3.01662696842382,10.2304064795754 3.30291999709097,10.4385942042024 Q3.46972317871875,10.5598908176942 3.64179542494331,10.6719572214367 Q3.79857226878001,10.7740621074039 3.95941554482475,10.8683033405894 Q4.13334243392154,10.9702105195257 4.31166833497306,11.0627149706127 Q4.47604708828145,11.1479845038409 4.64386151028959,11.2251070150907 Q4.80544594869858,11.299366411392 4.96995032351617,11.3659501831024 Q5.16725965014621,11.4458118838945 5.36835311845226,11.5144650549576 Q5.56561833961004,11.5818112650908 5.7660857806164,11.6382214352365 Q5.93594304380552,11.6860181101922 6.10780540394526,11.7258795037075 Q6.3802811445957,11.7890769525997 6.65689783599178,11.8321328272072 Q6.88756600251257,11.8680367330906 7.12039035026157,11.8898178268749 Q7.33575429714658,11.9099654719568 7.5524023719199,11.9179755377665 Q7.78903411552322,11.9267244539104 8.02650188595541,11.9209696911957 Q8.31148267851657,11.9140635041521 8.59647282523938,11.8863060110558 Q8.84172783653293,11.8624186438571 9.08605624824551,11.8231757557194 Q9.29602775102361,11.7894511138005 9.5047004646898,11.7444820539865 Q9.73546771599974,11.6947516117789 9.96389320433066,11.631434414029 Q10.2137994798527,11.5621629628359 10.4598847954114,11.4769149350853 Q10.7426952738113,11.3789447028671 11.0189146985215,11.2604175545564 Q11.2783606307036,11.14908799649 11.5305552606758,11.0202359184706 Q11.8305962880828,10.8669380077389 12.1182124982183,10.6899608334626 Q12.3086605446971,10.5727735681955 12.4928101128895,10.4457122376404 Q12.7138340887796,10.2932079405257 12.9247407405014,10.1272078034175 Q13.1164494580624,9.97631795172166 13.2989309836935,9.81495653041487 Q13.4993501715355,9.63773352169933 13.6876496499027,9.44875874377583 Q13.8259025844505,9.31000999189398 13.9571663998683,9.16537567684822 Q14.0895559130142,9.01950100078341 14.2144709921875,8.86804150073268 Q14.3647042289743,8.68588374135466 14.50359102542,8.496302620215 Q14.6242491373507,8.33160373796121 14.7359701511584,8.16180777241553 Q14.8556947497797,7.9798477889744 14.9647911861361,7.79259020255814 Q15.0815966885041,7.5921004598673 15.1858302302757,7.38620717426887 Q15.2838990649354,7.19249108020058 15.3705462405702,6.99456656547992 Q15.4710479022511,6.76499482847765 15.555848418953,6.53053381443338 Q15.6293410875024,6.32733734508333 15.6908398354807,6.12101489646327 Q15.7582996840502,5.89469352248478 15.811151998362,5.66520400901477 Q15.858001700426,5.46177837907041 15.8932743283624,5.25628456535619 Q15.9234569772515,5.08044431780161 15.9451194504346,4.90333416558016 Q15.9730560934491,4.67492704627213 15.9867773968648,4.44479362169134 Q16.0034165941822,4.16572133934909 15.9991176647554,3.88472444785707 Q15.9950908430473,3.62151371089842 15.9726972179107,3.35708697651958 Q15.9526619394994,3.12050789606779 15.9179459679384,2.88322942110747 Q15.882312030686,2.63967678789829 15.83124032874,2.39559405324708 Q15.7875158480249,2.1866252815493 15.7324953373768,1.97736550244011 Q15.6648912559291,1.72024656653811 15.5802540161198,1.46276838245011 Q15.4968741501039,1.20911530326591 15.3969639315714,0.955118442554341 Q15.3045821236361,0.720260691795003 15.1980404233408,0.485042552463534 Q15.0759331774567,0.215459477516022 14.935136668034,-0.0547900505028633 Q14.7784251600096,-0.355587358989756 14.5983261379963,-0.657651595836769 Q14.4326365303214,-0.935548190367364 14.2468180712942,-1.21507534194023 Q13.9287667177733,-1.69352075241799 13.5495204141351,-2.17993676735823 Q13.228806301099,-2.59128021171493 12.8611063340419,-3.0124517446707 Q12.1591087582907,-3.81653502342836 11.2483797084418,-4.69658759121086 Q10.4733210891135,-5.44553957449827 9.42454171069957,-6.36494199823616 Q8.84072932123853,-6.87673555265406 7.788610883906,-7.77268471082305 Q6.43199730758967,-8.92793182800395 5.86781215340663,-9.42143310902599 Q4.99911290579133,-10.1812974697638 4.33114177564245,-10.8099404645036 Q3.70609091742599,-11.3981902041088 3.18523060681885,-11.9373159451196 Q2.65398052055043,-12.4871958084704 2.2119638126538,-13.0054355175612 Q1.84652002656313,-13.4338977860892 1.53818480616621,-13.8451114872961 Q1.35658899707246,-14.0872981719213 1.19468144267213,-14.3236430665681 Q1.01229440141544,-14.5898829354267 0.855250034700979,-14.8481696259238 Q0.710327112506176,-15.0865204992088 0.587635439099838,-15.317016364333 Q0.482522452421447,-15.5144878644567 0.394395445017321,-15.7049318068687 Q0.31840843950407,-15.869141001397 0.255658210448299,-16.0268054813404 Q0.189432844334108,-16.1932014939857 0.138853346014398,-16.3499815211115 Q0.0926197731189966,-16.4932905900716 0.0605744460923479,-16.625013082467 Q0.0353801389730772,-16.7285744199802 0.0199590858880895,-16.820733667613 Q0.00867700999654953,-16.8881575731122 0.00346592649802561,-16.9441272743669 Q0.000399281055259889,-16.9770646144295 2.49345880547808e-05,-16.9979165809901 Q0.000120167169769384,-16.9926119052863 -0.00120639179482519,-16.9723446290242 Q-0.00426775812446953,-16.9255728240776 -0.0129503651544767,-16.86557788734 Q-0.0227183511665687,-16.7980832165775 -0.0385454062196693,-16.7222898015959 Q-0.06004549711036,-16.6193290609179 -0.0915669504606278,-16.5067117118991 Q-0.132286979305915,-16.3612304217578 -0.188273154562518,-16.204902779091 Q-0.258831712369531,-16.0078853375281 -0.351810097949509,-15.7987840090959 Q-0.440000005976105,-15.6004516030464 -0.547194072845051,-15.3939437422104 Q-0.651340977758142,-15.193306195987 -0.772699085783482,-14.9863772240217 Q-0.910246809839973,-14.7518431694101 -1.0692413762151,-14.5103646821128 Q-1.22417112561029,-14.2750597759499 -1.39908931791318,-14.0337431312646 Q-1.76797104341055,-13.5248349433239 -2.22583196061482,-12.9891937151164 Q-2.65281454964278,-12.4896763511826 -3.16250584273345,-11.960865339223 Q-3.75455354091074,-11.3466085397729 -4.48484292020919,-10.6660006846297 Q-5.15417223354364,-10.0422057873649 -6.03462845747207,-9.27588577364818 Q-6.5518613566613,-8.82570334364281 -7.72688839874177,-7.82524124839609 Q-9.00011940672614,-6.74116461325269 -9.66659027493077,-6.1518575057301 Q-10.6800142168527,-5.25576742827941 -11.4416925502921,-4.5083632999628 Q-11.9256928826451,-4.03343335824615 -12.3453337586718,-3.58350021932445 Q-12.8421226311087,-3.05085006647637 -13.2630306985554,-2.53794032909005 Q-13.5888635034756,-2.14088731127246 -13.8734126595931,-1.7506997108797 Q-14.1158142868982,-1.41830684568896 -14.3296155195759,-1.08906603538983 Q-14.6222670714185,-0.638400560466284 -14.8629035091692,-0.191196762642277 Q-14.9849831812171,0.035678657752151 -15.093879517273,0.262018849814471 Q-15.1989501677438,0.48040738398381 -15.2918143665365,0.698434979814885 Q-15.4099383650006,0.975767813457227 -15.5083731080758,1.25265889367945 Q-15.596037025423,1.49925228146578 -15.6680979222918,1.74552862415746 Q-15.7452025309944,2.00904242791343 -15.8044279558644,2.27213565719569 Q-15.8673099421169,2.55147218982739 -15.9099982659839,2.83015436556823 Q-15.9467996846554,3.07040505935725 -15.9685614040832,3.30996314026493 Q-15.9881495049069,3.52559352082962 -15.9955342067788,3.74046434121497 Q-16.0051232678424,4.01947484877545 -15.9941254637899,4.2967472393645 Q-15.9844330208493,4.54110936947305 -15.958768035937,4.78366431573383 Q-15.9275621653641,5.07858513044192 -15.8728386332033,5.37000215623899 Q-15.8278093231867,5.60979493058336 -15.7669750538715,5.84656658453498 Q-15.721016172269,6.02544208568407 -15.6661182996239,6.20226632422338 Q-15.6208315317082,6.34813351117917 -15.5695193619767,6.49241673134215 Q-15.4613890101118,6.79646537021361 -15.3269801205853,7.09222815454625 Q-15.2212449367798,7.32489529787583 -15.0996951958763,7.55142914467109 Q-14.9588348202878,7.81395247467492 -14.7974725228564,8.0668861942751 Q-14.6745800019696,8.25951894005113 -14.5402766384116,8.44582208248948 Q-14.3933701098356,8.64960810238759 -14.2334198263091,8.84498132868387 Q-14.0945594532161,9.01459402644063 -13.9463689488664,9.17725000648766 Q-13.7735280755873,9.36696257787514 -13.588753931665,9.54638613301087 Q-13.4189681105967,9.71125538896335 -13.23982095404,9.86674014639278 Q-13.0625216805617,10.0206210957701 -12.8767644199624,10.1646925661538 Q-12.6944389535778,10.3061023713246 -12.5046728111778,10.4375123135825 Q-12.3142699757146,10.5693631553476 -12.1171076375409,10.6906405650386 Q-11.9213331232265,10.811064304174 -11.7196291899761,10.9206103014377 Q-11.509884893371,11.0345230436026 -11.2945462865961,11.1362305693748 Q-11.0736106685721,11.2405816441808 -10.8476757705343,11.3316650627413 Q-10.6451233054253,11.4133220848312 -10.4392342246826,11.4840381672923 Q-10.2480502354789,11.5497035376801 -10.0545178054937,11.605752174849 Q-9.87842747053587,11.6567494330024 -9.70078839955957,11.699669661687 Q-9.51646003889087,11.7442061217657 -9.33086927650686,11.7799481442673 Q-9.13248730736292,11.8181535630821 -8.933139388093,11.846219406851 Q-8.71465712197788,11.8769791417381 -8.49561748097842,11.8954757888015 Q-8.29291726492743,11.9125926647188 -8.09024399409492,11.9191639457214 Q-7.78610008904026,11.9290252118723 -7.4833331334596,11.915111810162 Q-7.17318452623145,11.9008591908364 -6.86609005385436,11.8617329844013 Q-6.59503326929163,11.8271982575912 -6.32749985800465,11.7734249707618 Q-6.065591016902,11.7207822030116 -5.80803820752765,11.6498970887622 Q-5.55929013948285,11.5814352643096 -5.31546652781383,11.4961928265364 Q-5.10668790644988,11.4232023621669 -4.90208243255889,11.3381020157274 Q-4.65361227556304,11.2347572906909 -4.41212777878246,11.1139056578479 Q-4.19936350048537,11.0074271435513 -3.99268182769649,10.8876853593409 Q-3.75270580423463,10.7486543711102 -3.52182577913573,10.5922682144105 Q-3.32874675879168,10.4614864981576 -3.14265200973488,10.3189846901617 Q-2.96546888319985,10.183306945327 -2.79512566366148,10.0373935236474 Q-2.59954871236449,9.869865269557 -2.41370491741605,9.68946420864727 Q-2.19513433610818,9.47729481788262 -1.99121915187079,9.24849308724242 Q-1.80560573104341,9.04022673339448 -1.63321108031305,8.8193835024801 Q-1.48460042648279,8.62900835568098 -1.34656919353414,8.43025073001946 Q-1.22862003028138,8.26041021540489 -1.11890397474925,8.08517660112203 Q-0.95801857573265,7.82821758251459 -0.816175270753006,7.56186513162384 Q-0.660837400706088,7.27017267275816 -0.530605965747761,6.97155652900988 Q-0.428580116785493,6.73761481140916 -0.343519030901754,6.5029591230879 Q-0.261963346200934,6.27797368901832 -0.197516475528564,6.05656345647983 Q-0.136184858928778,5.84585582472599 -0.0920712402436369,5.64444995400555 Q-0.0534506179297929,5.46812299882186 -0.0298383755424187,5.30751615628668 Q-0.0115789781484796,5.18331854244193 -0.00400653952455051,5.08123174112462 Z\" fill=\"none\" id=\"3eb92264dbdb42209be261fe0dc9ea7a\" stroke=\"red\" stroke-width=\".5\" transform=\"scale(1.25 -1.25)\"></path><g><line stroke=\"black\" stroke-width=\".25\" x1=\"-50%\" x2=\"50%\" y1=\"0%\" y2=\"0%\"></line><line stroke=\"black\" stroke-width=\".25\" x1=\"0%\" x2=\"0%\" y1=\"-50%\" y2=\"50%\"></line></g></svg>"
      ],
      "text/plain": [
       "<svg viewBox=\"-25 -25 50 50\"><path d=\"M0.0,5.0 Q2.26480878769362e-09,5.01935203545116 0.00240468499265089,5.05784209373124 Q0.00617678614768245,5.11821945317385 0.0144892681784808,5.19071052417724 Q0.0249796452381706,5.28219447150715 0.0416669391001586,5.38322902221801 Q0.0625689845764014,5.50978212250472 0.0921242540272451,5.64469196933818 Q0.129325564905271,5.81450341906648 0.178888071354544,5.99135494886849 Q0.227032997926876,6.16314819595208 0.285852572783466,6.33796304924934 Q0.345659522697073,6.51571243286517 0.415701700411068,6.69417844133358 Q0.487743067528425,6.87773834271958 0.569888188951648,7.06019887319993 Q0.692043825721294,7.33153065651206 0.834806300015498,7.59665683949396 Q0.918421740467044,7.75194024064588 1.00862101667763,7.90415568501767 Q1.12167926629051,8.09494670272544 1.24449884261148,8.27994312284276 Q1.44189780344349,8.57727439675439 1.66250874377508,8.85670281234556 Q1.80054060640138,9.03153559541965 1.94694688614682,9.19842404729501 Q2.08999423977703,9.36148366081515 2.24054566891579,9.51639833059041 Q2.48490085256662,9.76783534981824 2.74741879975013,9.99621086079807 Q3.01662696842382,10.2304064795754 3.30291999709097,10.4385942042024 Q3.46972317871875,10.5598908176942 3.64179542494331,10.6719572214367 Q3.79857226878001,10.7740621074039 3.95941554482475,10.8683033405894 Q4.13334243392154,10.9702105195257 4.31166833497306,11.0627149706127 Q4.47604708828145,11.1479845038409 4.64386151028959,11.2251070150907 Q4.80544594869858,11.299366411392 4.96995032351617,11.3659501831024 Q5.16725965014621,11.4458118838945 5.36835311845226,11.5144650549576 Q5.56561833961004,11.5818112650908 5.7660857806164,11.6382214352365 Q5.93594304380552,11.6860181101922 6.10780540394526,11.7258795037075 Q6.3802811445957,11.7890769525997 6.65689783599178,11.8321328272072 Q6.88756600251257,11.8680367330906 7.12039035026157,11.8898178268749 Q7.33575429714658,11.9099654719568 7.5524023719199,11.9179755377665 Q7.78903411552322,11.9267244539104 8.02650188595541,11.9209696911957 Q8.31148267851657,11.9140635041521 8.59647282523938,11.8863060110558 Q8.84172783653293,11.8624186438571 9.08605624824551,11.8231757557194 Q9.29602775102361,11.7894511138005 9.5047004646898,11.7444820539865 Q9.73546771599974,11.6947516117789 9.96389320433066,11.631434414029 Q10.2137994798527,11.5621629628359 10.4598847954114,11.4769149350853 Q10.7426952738113,11.3789447028671 11.0189146985215,11.2604175545564 Q11.2783606307036,11.14908799649 11.5305552606758,11.0202359184706 Q11.8305962880828,10.8669380077389 12.1182124982183,10.6899608334626 Q12.3086605446971,10.5727735681955 12.4928101128895,10.4457122376404 Q12.7138340887796,10.2932079405257 12.9247407405014,10.1272078034175 Q13.1164494580624,9.97631795172166 13.2989309836935,9.81495653041487 Q13.4993501715355,9.63773352169933 13.6876496499027,9.44875874377583 Q13.8259025844505,9.31000999189398 13.9571663998683,9.16537567684822 Q14.0895559130142,9.01950100078341 14.2144709921875,8.86804150073268 Q14.3647042289743,8.68588374135466 14.50359102542,8.496302620215 Q14.6242491373507,8.33160373796121 14.7359701511584,8.16180777241553 Q14.8556947497797,7.9798477889744 14.9647911861361,7.79259020255814 Q15.0815966885041,7.5921004598673 15.1858302302757,7.38620717426887 Q15.2838990649354,7.19249108020058 15.3705462405702,6.99456656547992 Q15.4710479022511,6.76499482847765 15.555848418953,6.53053381443338 Q15.6293410875024,6.32733734508333 15.6908398354807,6.12101489646327 Q15.7582996840502,5.89469352248478 15.811151998362,5.66520400901477 Q15.858001700426,5.46177837907041 15.8932743283624,5.25628456535619 Q15.9234569772515,5.08044431780161 15.9451194504346,4.90333416558016 Q15.9730560934491,4.67492704627213 15.9867773968648,4.44479362169134 Q16.0034165941822,4.16572133934909 15.9991176647554,3.88472444785707 Q15.9950908430473,3.62151371089842 15.9726972179107,3.35708697651958 Q15.9526619394994,3.12050789606779 15.9179459679384,2.88322942110747 Q15.882312030686,2.63967678789829 15.83124032874,2.39559405324708 Q15.7875158480249,2.1866252815493 15.7324953373768,1.97736550244011 Q15.6648912559291,1.72024656653811 15.5802540161198,1.46276838245011 Q15.4968741501039,1.20911530326591 15.3969639315714,0.955118442554341 Q15.3045821236361,0.720260691795003 15.1980404233408,0.485042552463534 Q15.0759331774567,0.215459477516022 14.935136668034,-0.0547900505028633 Q14.7784251600096,-0.355587358989756 14.5983261379963,-0.657651595836769 Q14.4326365303214,-0.935548190367364 14.2468180712942,-1.21507534194023 Q13.9287667177733,-1.69352075241799 13.5495204141351,-2.17993676735823 Q13.228806301099,-2.59128021171493 12.8611063340419,-3.0124517446707 Q12.1591087582907,-3.81653502342836 11.2483797084418,-4.69658759121086 Q10.4733210891135,-5.44553957449827 9.42454171069957,-6.36494199823616 Q8.84072932123853,-6.87673555265406 7.788610883906,-7.77268471082305 Q6.43199730758967,-8.92793182800395 5.86781215340663,-9.42143310902599 Q4.99911290579133,-10.1812974697638 4.33114177564245,-10.8099404645036 Q3.70609091742599,-11.3981902041088 3.18523060681885,-11.9373159451196 Q2.65398052055043,-12.4871958084704 2.2119638126538,-13.0054355175612 Q1.84652002656313,-13.4338977860892 1.53818480616621,-13.8451114872961 Q1.35658899707246,-14.0872981719213 1.19468144267213,-14.3236430665681 Q1.01229440141544,-14.5898829354267 0.855250034700979,-14.8481696259238 Q0.710327112506176,-15.0865204992088 0.587635439099838,-15.317016364333 Q0.482522452421447,-15.5144878644567 0.394395445017321,-15.7049318068687 Q0.31840843950407,-15.869141001397 0.255658210448299,-16.0268054813404 Q0.189432844334108,-16.1932014939857 0.138853346014398,-16.3499815211115 Q0.0926197731189966,-16.4932905900716 0.0605744460923479,-16.625013082467 Q0.0353801389730772,-16.7285744199802 0.0199590858880895,-16.820733667613 Q0.00867700999654953,-16.8881575731122 0.00346592649802561,-16.9441272743669 Q0.000399281055259889,-16.9770646144295 2.49345880547808e-05,-16.9979165809901 Q0.000120167169769384,-16.9926119052863 -0.00120639179482519,-16.9723446290242 Q-0.00426775812446953,-16.9255728240776 -0.0129503651544767,-16.86557788734 Q-0.0227183511665687,-16.7980832165775 -0.0385454062196693,-16.7222898015959 Q-0.06004549711036,-16.6193290609179 -0.0915669504606278,-16.5067117118991 Q-0.132286979305915,-16.3612304217578 -0.188273154562518,-16.204902779091 Q-0.258831712369531,-16.0078853375281 -0.351810097949509,-15.7987840090959 Q-0.440000005976105,-15.6004516030464 -0.547194072845051,-15.3939437422104 Q-0.651340977758142,-15.193306195987 -0.772699085783482,-14.9863772240217 Q-0.910246809839973,-14.7518431694101 -1.0692413762151,-14.5103646821128 Q-1.22417112561029,-14.2750597759499 -1.39908931791318,-14.0337431312646 Q-1.76797104341055,-13.5248349433239 -2.22583196061482,-12.9891937151164 Q-2.65281454964278,-12.4896763511826 -3.16250584273345,-11.960865339223 Q-3.75455354091074,-11.3466085397729 -4.48484292020919,-10.6660006846297 Q-5.15417223354364,-10.0422057873649 -6.03462845747207,-9.27588577364818 Q-6.5518613566613,-8.82570334364281 -7.72688839874177,-7.82524124839609 Q-9.00011940672614,-6.74116461325269 -9.66659027493077,-6.1518575057301 Q-10.6800142168527,-5.25576742827941 -11.4416925502921,-4.5083632999628 Q-11.9256928826451,-4.03343335824615 -12.3453337586718,-3.58350021932445 Q-12.8421226311087,-3.05085006647637 -13.2630306985554,-2.53794032909005 Q-13.5888635034756,-2.14088731127246 -13.8734126595931,-1.7506997108797 Q-14.1158142868982,-1.41830684568896 -14.3296155195759,-1.08906603538983 Q-14.6222670714185,-0.638400560466284 -14.8629035091692,-0.191196762642277 Q-14.9849831812171,0.035678657752151 -15.093879517273,0.262018849814471 Q-15.1989501677438,0.48040738398381 -15.2918143665365,0.698434979814885 Q-15.4099383650006,0.975767813457227 -15.5083731080758,1.25265889367945 Q-15.596037025423,1.49925228146578 -15.6680979222918,1.74552862415746 Q-15.7452025309944,2.00904242791343 -15.8044279558644,2.27213565719569 Q-15.8673099421169,2.55147218982739 -15.9099982659839,2.83015436556823 Q-15.9467996846554,3.07040505935725 -15.9685614040832,3.30996314026493 Q-15.9881495049069,3.52559352082962 -15.9955342067788,3.74046434121497 Q-16.0051232678424,4.01947484877545 -15.9941254637899,4.2967472393645 Q-15.9844330208493,4.54110936947305 -15.958768035937,4.78366431573383 Q-15.9275621653641,5.07858513044192 -15.8728386332033,5.37000215623899 Q-15.8278093231867,5.60979493058336 -15.7669750538715,5.84656658453498 Q-15.721016172269,6.02544208568407 -15.6661182996239,6.20226632422338 Q-15.6208315317082,6.34813351117917 -15.5695193619767,6.49241673134215 Q-15.4613890101118,6.79646537021361 -15.3269801205853,7.09222815454625 Q-15.2212449367798,7.32489529787583 -15.0996951958763,7.55142914467109 Q-14.9588348202878,7.81395247467492 -14.7974725228564,8.0668861942751 Q-14.6745800019696,8.25951894005113 -14.5402766384116,8.44582208248948 Q-14.3933701098356,8.64960810238759 -14.2334198263091,8.84498132868387 Q-14.0945594532161,9.01459402644063 -13.9463689488664,9.17725000648766 Q-13.7735280755873,9.36696257787514 -13.588753931665,9.54638613301087 Q-13.4189681105967,9.71125538896335 -13.23982095404,9.86674014639278 Q-13.0625216805617,10.0206210957701 -12.8767644199624,10.1646925661538 Q-12.6944389535778,10.3061023713246 -12.5046728111778,10.4375123135825 Q-12.3142699757146,10.5693631553476 -12.1171076375409,10.6906405650386 Q-11.9213331232265,10.811064304174 -11.7196291899761,10.9206103014377 Q-11.509884893371,11.0345230436026 -11.2945462865961,11.1362305693748 Q-11.0736106685721,11.2405816441808 -10.8476757705343,11.3316650627413 Q-10.6451233054253,11.4133220848312 -10.4392342246826,11.4840381672923 Q-10.2480502354789,11.5497035376801 -10.0545178054937,11.605752174849 Q-9.87842747053587,11.6567494330024 -9.70078839955957,11.699669661687 Q-9.51646003889087,11.7442061217657 -9.33086927650686,11.7799481442673 Q-9.13248730736292,11.8181535630821 -8.933139388093,11.846219406851 Q-8.71465712197788,11.8769791417381 -8.49561748097842,11.8954757888015 Q-8.29291726492743,11.9125926647188 -8.09024399409492,11.9191639457214 Q-7.78610008904026,11.9290252118723 -7.4833331334596,11.915111810162 Q-7.17318452623145,11.9008591908364 -6.86609005385436,11.8617329844013 Q-6.59503326929163,11.8271982575912 -6.32749985800465,11.7734249707618 Q-6.065591016902,11.7207822030116 -5.80803820752765,11.6498970887622 Q-5.55929013948285,11.5814352643096 -5.31546652781383,11.4961928265364 Q-5.10668790644988,11.4232023621669 -4.90208243255889,11.3381020157274 Q-4.65361227556304,11.2347572906909 -4.41212777878246,11.1139056578479 Q-4.19936350048537,11.0074271435513 -3.99268182769649,10.8876853593409 Q-3.75270580423463,10.7486543711102 -3.52182577913573,10.5922682144105 Q-3.32874675879168,10.4614864981576 -3.14265200973488,10.3189846901617 Q-2.96546888319985,10.183306945327 -2.79512566366148,10.0373935236474 Q-2.59954871236449,9.869865269557 -2.41370491741605,9.68946420864727 Q-2.19513433610818,9.47729481788262 -1.99121915187079,9.24849308724242 Q-1.80560573104341,9.04022673339448 -1.63321108031305,8.8193835024801 Q-1.48460042648279,8.62900835568098 -1.34656919353414,8.43025073001946 Q-1.22862003028138,8.26041021540489 -1.11890397474925,8.08517660112203 Q-0.95801857573265,7.82821758251459 -0.816175270753006,7.56186513162384 Q-0.660837400706088,7.27017267275816 -0.530605965747761,6.97155652900988 Q-0.428580116785493,6.73761481140916 -0.343519030901754,6.5029591230879 Q-0.261963346200934,6.27797368901832 -0.197516475528564,6.05656345647983 Q-0.136184858928778,5.84585582472599 -0.0920712402436369,5.64444995400555 Q-0.0534506179297929,5.46812299882186 -0.0298383755424187,5.30751615628668 Q-0.0115789781484796,5.18331854244193 -0.00400653952455051,5.08123174112462 Z\" fill=\"none\" id=\"3eb92264dbdb42209be261fe0dc9ea7a\" stroke=\"red\" stroke-width=\".5\" transform=\"scale(1.25 -1.25)\"></path><g><line stroke=\"black\" stroke-width=\".25\" x1=\"-50%\" x2=\"50%\" y1=\"0%\" y2=\"0%\"></line><line stroke=\"black\" stroke-width=\".25\" x1=\"0%\" x2=\"0%\" y1=\"-50%\" y2=\"50%\"></line></g></svg>"
      ]
     },
     "metadata": {},
     "output_type": "display_data"
    }
   ],
   "source": [
    "a_heart = svg(gen_heart(),\n",
    "              grid(),\n",
    "              viewBox=\"-25 -25 50 50\",)\n",
    "display(a_heart)"
   ]
  },
  {
   "cell_type": "code",
   "execution_count": 14,
   "metadata": {},
   "outputs": [],
   "source": [
    "blue_heart = svg(clipPath(\n",
    "        gen_heart(),\n",
    "        **{\"id\":\"clipid\", \"fill\":\"green\", }),\n",
    "    rect(\n",
    "        x=\"-20\", \n",
    "        y=\"-20\", \n",
    "        fill='blue', \n",
    "        width=\"50\", \n",
    "        height=\"50\", \n",
    "        style={\n",
    "#             \"transform\": \"scaleY(-1)\", \n",
    "            \"clip-path\": \"url(#clipid)\"\n",
    "        },\n",
    "        ),\n",
    "     style = {\"transform\": \"scaleY(-1)\"},\n",
    "     viewBox=\"-20 -20 50 50\",\n",
    ")"
   ]
  },
  {
   "cell_type": "code",
   "execution_count": 833,
   "metadata": {},
   "outputs": [],
   "source": [
    "import cairosvg"
   ]
  },
  {
   "cell_type": "code",
   "execution_count": 15,
   "metadata": {},
   "outputs": [
    {
     "data": {
      "text/plain": [
       "b'<svg style=\"transform: scaleY(-1)\" viewBox=\"-20 -20 50 50\"><clipPath fill=\"green\" id=\"clipid\"><path d=\"M0.0,5.0 Q2.26480878769362e-09,5.01935203545116 0.00240468499265089,5.05784209373124 Q0.00617678614768245,5.11821945317385 0.0144892681784808,5.19071052417724 Q0.0249796452381706,5.28219447150715 0.0416669391001586,5.38322902221801 Q0.0625689845764014,5.50978212250472 0.0921242540272451,5.64469196933818 Q0.129325564905271,5.81450341906648 0.178888071354544,5.99135494886849 Q0.227032997926876,6.16314819595208 0.285852572783466,6.33796304924934 Q0.345659522697073,6.51571243286517 0.415701700411068,6.69417844133358 Q0.487743067528425,6.87773834271958 0.569888188951648,7.06019887319993 Q0.692043825721294,7.33153065651206 0.834806300015498,7.59665683949396 Q0.918421740467044,7.75194024064588 1.00862101667763,7.90415568501767 Q1.12167926629051,8.09494670272544 1.24449884261148,8.27994312284276 Q1.44189780344349,8.57727439675439 1.66250874377508,8.85670281234556 Q1.80054060640138,9.03153559541965 1.94694688614682,9.19842404729501 Q2.08999423977703,9.36148366081515 2.24054566891579,9.51639833059041 Q2.48490085256662,9.76783534981824 2.74741879975013,9.99621086079807 Q3.01662696842382,10.2304064795754 3.30291999709097,10.4385942042024 Q3.46972317871875,10.5598908176942 3.64179542494331,10.6719572214367 Q3.79857226878001,10.7740621074039 3.95941554482475,10.8683033405894 Q4.13334243392154,10.9702105195257 4.31166833497306,11.0627149706127 Q4.47604708828145,11.1479845038409 4.64386151028959,11.2251070150907 Q4.80544594869858,11.299366411392 4.96995032351617,11.3659501831024 Q5.16725965014621,11.4458118838945 5.36835311845226,11.5144650549576 Q5.56561833961004,11.5818112650908 5.7660857806164,11.6382214352365 Q5.93594304380552,11.6860181101922 6.10780540394526,11.7258795037075 Q6.3802811445957,11.7890769525997 6.65689783599178,11.8321328272072 Q6.88756600251257,11.8680367330906 7.12039035026157,11.8898178268749 Q7.33575429714658,11.9099654719568 7.5524023719199,11.9179755377665 Q7.78903411552322,11.9267244539104 8.02650188595541,11.9209696911957 Q8.31148267851657,11.9140635041521 8.59647282523938,11.8863060110558 Q8.84172783653293,11.8624186438571 9.08605624824551,11.8231757557194 Q9.29602775102361,11.7894511138005 9.5047004646898,11.7444820539865 Q9.73546771599974,11.6947516117789 9.96389320433066,11.631434414029 Q10.2137994798527,11.5621629628359 10.4598847954114,11.4769149350853 Q10.7426952738113,11.3789447028671 11.0189146985215,11.2604175545564 Q11.2783606307036,11.14908799649 11.5305552606758,11.0202359184706 Q11.8305962880828,10.8669380077389 12.1182124982183,10.6899608334626 Q12.3086605446971,10.5727735681955 12.4928101128895,10.4457122376404 Q12.7138340887796,10.2932079405257 12.9247407405014,10.1272078034175 Q13.1164494580624,9.97631795172166 13.2989309836935,9.81495653041487 Q13.4993501715355,9.63773352169933 13.6876496499027,9.44875874377583 Q13.8259025844505,9.31000999189398 13.9571663998683,9.16537567684822 Q14.0895559130142,9.01950100078341 14.2144709921875,8.86804150073268 Q14.3647042289743,8.68588374135466 14.50359102542,8.496302620215 Q14.6242491373507,8.33160373796121 14.7359701511584,8.16180777241553 Q14.8556947497797,7.9798477889744 14.9647911861361,7.79259020255814 Q15.0815966885041,7.5921004598673 15.1858302302757,7.38620717426887 Q15.2838990649354,7.19249108020058 15.3705462405702,6.99456656547992 Q15.4710479022511,6.76499482847765 15.555848418953,6.53053381443338 Q15.6293410875024,6.32733734508333 15.6908398354807,6.12101489646327 Q15.7582996840502,5.89469352248478 15.811151998362,5.66520400901477 Q15.858001700426,5.46177837907041 15.8932743283624,5.25628456535619 Q15.9234569772515,5.08044431780161 15.9451194504346,4.90333416558016 Q15.9730560934491,4.67492704627213 15.9867773968648,4.44479362169134 Q16.0034165941822,4.16572133934909 15.9991176647554,3.88472444785707 Q15.9950908430473,3.62151371089842 15.9726972179107,3.35708697651958 Q15.9526619394994,3.12050789606779 15.9179459679384,2.88322942110747 Q15.882312030686,2.63967678789829 15.83124032874,2.39559405324708 Q15.7875158480249,2.1866252815493 15.7324953373768,1.97736550244011 Q15.6648912559291,1.72024656653811 15.5802540161198,1.46276838245011 Q15.4968741501039,1.20911530326591 15.3969639315714,0.955118442554341 Q15.3045821236361,0.720260691795003 15.1980404233408,0.485042552463534 Q15.0759331774567,0.215459477516022 14.935136668034,-0.0547900505028633 Q14.7784251600096,-0.355587358989756 14.5983261379963,-0.657651595836769 Q14.4326365303214,-0.935548190367364 14.2468180712942,-1.21507534194023 Q13.9287667177733,-1.69352075241799 13.5495204141351,-2.17993676735823 Q13.228806301099,-2.59128021171493 12.8611063340419,-3.0124517446707 Q12.1591087582907,-3.81653502342836 11.2483797084418,-4.69658759121086 Q10.4733210891135,-5.44553957449827 9.42454171069957,-6.36494199823616 Q8.84072932123853,-6.87673555265406 7.788610883906,-7.77268471082305 Q6.43199730758967,-8.92793182800395 5.86781215340663,-9.42143310902599 Q4.99911290579133,-10.1812974697638 4.33114177564245,-10.8099404645036 Q3.70609091742599,-11.3981902041088 3.18523060681885,-11.9373159451196 Q2.65398052055043,-12.4871958084704 2.2119638126538,-13.0054355175612 Q1.84652002656313,-13.4338977860892 1.53818480616621,-13.8451114872961 Q1.35658899707246,-14.0872981719213 1.19468144267213,-14.3236430665681 Q1.01229440141544,-14.5898829354267 0.855250034700979,-14.8481696259238 Q0.710327112506176,-15.0865204992088 0.587635439099838,-15.317016364333 Q0.482522452421447,-15.5144878644567 0.394395445017321,-15.7049318068687 Q0.31840843950407,-15.869141001397 0.255658210448299,-16.0268054813404 Q0.189432844334108,-16.1932014939857 0.138853346014398,-16.3499815211115 Q0.0926197731189966,-16.4932905900716 0.0605744460923479,-16.625013082467 Q0.0353801389730772,-16.7285744199802 0.0199590858880895,-16.820733667613 Q0.00867700999654953,-16.8881575731122 0.00346592649802561,-16.9441272743669 Q0.000399281055259889,-16.9770646144295 2.49345880547808e-05,-16.9979165809901 Q0.000120167169769384,-16.9926119052863 -0.00120639179482519,-16.9723446290242 Q-0.00426775812446953,-16.9255728240776 -0.0129503651544767,-16.86557788734 Q-0.0227183511665687,-16.7980832165775 -0.0385454062196693,-16.7222898015959 Q-0.06004549711036,-16.6193290609179 -0.0915669504606278,-16.5067117118991 Q-0.132286979305915,-16.3612304217578 -0.188273154562518,-16.204902779091 Q-0.258831712369531,-16.0078853375281 -0.351810097949509,-15.7987840090959 Q-0.440000005976105,-15.6004516030464 -0.547194072845051,-15.3939437422104 Q-0.651340977758142,-15.193306195987 -0.772699085783482,-14.9863772240217 Q-0.910246809839973,-14.7518431694101 -1.0692413762151,-14.5103646821128 Q-1.22417112561029,-14.2750597759499 -1.39908931791318,-14.0337431312646 Q-1.76797104341055,-13.5248349433239 -2.22583196061482,-12.9891937151164 Q-2.65281454964278,-12.4896763511826 -3.16250584273345,-11.960865339223 Q-3.75455354091074,-11.3466085397729 -4.48484292020919,-10.6660006846297 Q-5.15417223354364,-10.0422057873649 -6.03462845747207,-9.27588577364818 Q-6.5518613566613,-8.82570334364281 -7.72688839874177,-7.82524124839609 Q-9.00011940672614,-6.74116461325269 -9.66659027493077,-6.1518575057301 Q-10.6800142168527,-5.25576742827941 -11.4416925502921,-4.5083632999628 Q-11.9256928826451,-4.03343335824615 -12.3453337586718,-3.58350021932445 Q-12.8421226311087,-3.05085006647637 -13.2630306985554,-2.53794032909005 Q-13.5888635034756,-2.14088731127246 -13.8734126595931,-1.7506997108797 Q-14.1158142868982,-1.41830684568896 -14.3296155195759,-1.08906603538983 Q-14.6222670714185,-0.638400560466284 -14.8629035091692,-0.191196762642277 Q-14.9849831812171,0.035678657752151 -15.093879517273,0.262018849814471 Q-15.1989501677438,0.48040738398381 -15.2918143665365,0.698434979814885 Q-15.4099383650006,0.975767813457227 -15.5083731080758,1.25265889367945 Q-15.596037025423,1.49925228146578 -15.6680979222918,1.74552862415746 Q-15.7452025309944,2.00904242791343 -15.8044279558644,2.27213565719569 Q-15.8673099421169,2.55147218982739 -15.9099982659839,2.83015436556823 Q-15.9467996846554,3.07040505935725 -15.9685614040832,3.30996314026493 Q-15.9881495049069,3.52559352082962 -15.9955342067788,3.74046434121497 Q-16.0051232678424,4.01947484877545 -15.9941254637899,4.2967472393645 Q-15.9844330208493,4.54110936947305 -15.958768035937,4.78366431573383 Q-15.9275621653641,5.07858513044192 -15.8728386332033,5.37000215623899 Q-15.8278093231867,5.60979493058336 -15.7669750538715,5.84656658453498 Q-15.721016172269,6.02544208568407 -15.6661182996239,6.20226632422338 Q-15.6208315317082,6.34813351117917 -15.5695193619767,6.49241673134215 Q-15.4613890101118,6.79646537021361 -15.3269801205853,7.09222815454625 Q-15.2212449367798,7.32489529787583 -15.0996951958763,7.55142914467109 Q-14.9588348202878,7.81395247467492 -14.7974725228564,8.0668861942751 Q-14.6745800019696,8.25951894005113 -14.5402766384116,8.44582208248948 Q-14.3933701098356,8.64960810238759 -14.2334198263091,8.84498132868387 Q-14.0945594532161,9.01459402644063 -13.9463689488664,9.17725000648766 Q-13.7735280755873,9.36696257787514 -13.588753931665,9.54638613301087 Q-13.4189681105967,9.71125538896335 -13.23982095404,9.86674014639278 Q-13.0625216805617,10.0206210957701 -12.8767644199624,10.1646925661538 Q-12.6944389535778,10.3061023713246 -12.5046728111778,10.4375123135825 Q-12.3142699757146,10.5693631553476 -12.1171076375409,10.6906405650386 Q-11.9213331232265,10.811064304174 -11.7196291899761,10.9206103014377 Q-11.509884893371,11.0345230436026 -11.2945462865961,11.1362305693748 Q-11.0736106685721,11.2405816441808 -10.8476757705343,11.3316650627413 Q-10.6451233054253,11.4133220848312 -10.4392342246826,11.4840381672923 Q-10.2480502354789,11.5497035376801 -10.0545178054937,11.605752174849 Q-9.87842747053587,11.6567494330024 -9.70078839955957,11.699669661687 Q-9.51646003889087,11.7442061217657 -9.33086927650686,11.7799481442673 Q-9.13248730736292,11.8181535630821 -8.933139388093,11.846219406851 Q-8.71465712197788,11.8769791417381 -8.49561748097842,11.8954757888015 Q-8.29291726492743,11.9125926647188 -8.09024399409492,11.9191639457214 Q-7.78610008904026,11.9290252118723 -7.4833331334596,11.915111810162 Q-7.17318452623145,11.9008591908364 -6.86609005385436,11.8617329844013 Q-6.59503326929163,11.8271982575912 -6.32749985800465,11.7734249707618 Q-6.065591016902,11.7207822030116 -5.80803820752765,11.6498970887622 Q-5.55929013948285,11.5814352643096 -5.31546652781383,11.4961928265364 Q-5.10668790644988,11.4232023621669 -4.90208243255889,11.3381020157274 Q-4.65361227556304,11.2347572906909 -4.41212777878246,11.1139056578479 Q-4.19936350048537,11.0074271435513 -3.99268182769649,10.8876853593409 Q-3.75270580423463,10.7486543711102 -3.52182577913573,10.5922682144105 Q-3.32874675879168,10.4614864981576 -3.14265200973488,10.3189846901617 Q-2.96546888319985,10.183306945327 -2.79512566366148,10.0373935236474 Q-2.59954871236449,9.869865269557 -2.41370491741605,9.68946420864727 Q-2.19513433610818,9.47729481788262 -1.99121915187079,9.24849308724242 Q-1.80560573104341,9.04022673339448 -1.63321108031305,8.8193835024801 Q-1.48460042648279,8.62900835568098 -1.34656919353414,8.43025073001946 Q-1.22862003028138,8.26041021540489 -1.11890397474925,8.08517660112203 Q-0.95801857573265,7.82821758251459 -0.816175270753006,7.56186513162384 Q-0.660837400706088,7.27017267275816 -0.530605965747761,6.97155652900988 Q-0.428580116785493,6.73761481140916 -0.343519030901754,6.5029591230879 Q-0.261963346200934,6.27797368901832 -0.197516475528564,6.05656345647983 Q-0.136184858928778,5.84585582472599 -0.0920712402436369,5.64444995400555 Q-0.0534506179297929,5.46812299882186 -0.0298383755424187,5.30751615628668 Q-0.0115789781484796,5.18331854244193 -0.00400653952455051,5.08123174112462 Z\" fill=\"none\" id=\"99abaa3a5df84e9db41dbbe5a1e1d225\" stroke=\"red\" stroke-width=\".5\" transform=\"scale(1.25 -1.25)\"></path></clipPath><rect style=\"clip-path: url(#clipid)\" fill=\"blue\" height=\"50\" width=\"50\" x=\"-20\" y=\"-20\"></rect></svg>'"
      ]
     },
     "execution_count": 15,
     "metadata": {},
     "output_type": "execute_result"
    }
   ],
   "source": [
    "blue_heart.to_html().encode('utf-8')"
   ]
  },
  {
   "cell_type": "code",
   "execution_count": 722,
   "metadata": {},
   "outputs": [],
   "source": [
    "from IPython.display import display_png"
   ]
  },
  {
   "cell_type": "code",
   "execution_count": 876,
   "metadata": {},
   "outputs": [
    {
     "data": {
      "image/png": "[encoded data removed]"
     },
     "metadata": {},
     "output_type": "display_data"
    }
   ],
   "source": [
    "blah = cairosvg.svg2png(blue_heart.to_html().encode('utf-8'))\n",
    "display_png(blah, raw=True)"
   ]
  },
  {
   "cell_type": "code",
   "execution_count": 31,
   "metadata": {},
   "outputs": [],
   "source": [
    "total_height = 30\n",
    "trans = ['lightblue', 'pink', 'white',  'pink', 'lightblue']\n",
    "\n",
    "def flag(color_list, total_height=30, clipid=\"clipid\", symbol=None, **kwargs):\n",
    "    height_perc = 73\n",
    "    shift = 5\n",
    "    div_heights = np.linspace(-height_perc/2+shift,height_perc/2+shift, num=len(color_list), endpoint=False)\n",
    "    internal = [rect(x=\"-25\", y=f\"{this_h}%\", \n",
    "                     width=\"50\", height=f\"{height_perc/len(color_list)}%\", \n",
    "                     fill=color_list[i],\n",
    "                     stroke=color_list[i]\n",
    "                    ) \n",
    "                for i, this_h in enumerate(div_heights)]\n",
    "    if symbol:\n",
    "        internal.append(symbol)\n",
    "    return group(*internal, \n",
    "#                  style={\"clip-path\": f\"url(#{clipid})\"}, \n",
    "                 **kwargs)"
   ]
  },
  {
   "cell_type": "code",
   "execution_count": 34,
   "metadata": {},
   "outputs": [],
   "source": [
    "trans = ['lightskyblue', 'lightpink', 'white',  'lightpink', 'lightskyblue']\n",
    "genderqueer = ['forestgreen', 'white', 'purple']\n",
    "rainbow = ['red', 'orange', 'yellow', 'green', 'blue', 'purple', 'brown', 'black']\n",
    "agender = ['black', 'lightgrey', 'white', 'chartreuse', 'white', 'lightgrey', 'black']\n",
    "ace = ['black','lightgrey','white', 'purple']\n",
    "bi = ['deeppink', 'deeppink', 'mediumpurple', 'blue','blue']\n",
    "enby = ['#ffef00', 'white', '#9C59D1', 'black']\n",
    "genderfluid = ['#ff75a2', \"white\",\"#be18d6\", 'black', 'mediumblue']\n",
    "pan = ['deeppink', \"gold\", \"deepskyblue\"]\n",
    "polysexual = [\"#f61cb9\", \"#07d569\", 'dodgerblue']\n",
    "aromantic = [\"#3da542\", \"#a7d379\", \"white\", \"lightgrey\", \"black\"]\n",
    "lipstick = [\"#A60061\", \"#B95393\", \"#D260A7\", \"#EDEDEB\", \"#E5ABD0\", \"#C74D52\", \"#8C1D00\"]\n",
    "intersex = [\"gold\"]\n",
    "polyamory = [\"blue\", \"red\", \"black\"]\n",
    "\n",
    "int_symbol = circle(cx=\"0\", cy=\"2\", r=\"5\", fill=\"transparent\", stroke=\"purple\", **{\"stroke-width\":\"2.5\"})\n",
    "poly_symbol = text(\"π\", y=\"4.5\", fill=\"yellow\", **{'text-anchor': \"middle\", \"font-family\": \"Minion Pro\"})\n",
    "bear_symbol = path(d=\"M98.9 24.4c-5.7 0-11.5 1.3-16.3 4.4C61.2 42.6 91.1 48.3 96 51.1c4.7 2.7 22.4 22.9 29.7-8.4 2.2-9.7-12.2-18.3-26.8-18.3m45.4 11.2c-17.7 1.9-.8 43 23.6 44.4 16.5.9 28.9-39.3-23.6-44.4m-94.4 8.9C34.2 44 43.7 73.3 69 83.6c5.1 2.1 14.2-4.7 14.4-16 .1-4.2-7.1-22.2-33.5-23.1m61 17.7c-7.1-.1-14.6 3-22.8 11.5-28.9 30.3 13.8 35.5 10.6 51.9-9.7 48.5-.9 52.5 8.3 55.6 11.7 3.9 33.8-33.4 43.1-40.4 12.4-9.4 77.9-42.2 62.4-58.8-22.3-23.8-27 7.3-57.7-1-14.6-3.9-28.3-18.8-43.9-18.8M54.4 96.5c-2.8-.1-5.5.4-8.1 1.6-11.5 5.2 10.8 36.5 20.9 37.4 12.4 1.1 17.4-8.9 17.6-14.7.3-7.6-15.4-24-30.4-24.3m4 46.7c-4.5.1-8 1.2-9.6 3.3-4.1 6.2 21.6 30.4 28.7 32 6.5 1.5 12.6-13 11.4-18.7-2.2-10.4-19.2-16.7-30.5-16.6\",\n",
    "                   transform = \"scale(.1 .1) translate(-120,-100) \"\n",
    "                  ) \n",
    "\n",
    "\n",
    "\n",
    "colors =  [trans, genderqueer, rainbow, agender, ace, bi, enby, genderfluid, pan, polysexual, aromantic, lipstick, intersex, polyamory]\n",
    "symbols = [*[None]*12, int_symbol, poly_symbol]"
   ]
  },
  {
   "cell_type": "code",
   "execution_count": 43,
   "metadata": {},
   "outputs": [],
   "source": []
  },
  {
   "cell_type": "code",
   "execution_count": 36,
   "metadata": {},
   "outputs": [],
   "source": []
  },
  {
   "cell_type": "code",
   "execution_count": 1336,
   "metadata": {},
   "outputs": [],
   "source": [
    "# symbols = [*[None]*12, int_symbol, poly_symbol]"
   ]
  },
  {
   "cell_type": "code",
   "execution_count": 37,
   "metadata": {},
   "outputs": [],
   "source": []
  },
  {
   "cell_type": "code",
   "execution_count": 39,
   "metadata": {},
   "outputs": [
    {
     "data": {
      "application/vdom.v1+json": {
       "attributes": {
        "viewBox": "200 0 500 500",
        "width": "360"
       },
       "children": [
        {
         "attributes": {
          "id": "clipid3",
          "stroke": "black"
         },
         "children": [
          {
           "attributes": {
            "d": "M0.0,5.0 Q2.26480878769362e-09,5.01935203545116 0.00240468499265089,5.05784209373124 Q0.00617678614768245,5.11821945317385 0.0144892681784808,5.19071052417724 Q0.0249796452381706,5.28219447150715 0.0416669391001586,5.38322902221801 Q0.0625689845764014,5.50978212250472 0.0921242540272451,5.64469196933818 Q0.129325564905271,5.81450341906648 0.178888071354544,5.99135494886849 Q0.227032997926876,6.16314819595208 0.285852572783466,6.33796304924934 Q0.345659522697073,6.51571243286517 0.415701700411068,6.69417844133358 Q0.487743067528425,6.87773834271958 0.569888188951648,7.06019887319993 Q0.692043825721294,7.33153065651206 0.834806300015498,7.59665683949396 Q0.918421740467044,7.75194024064588 1.00862101667763,7.90415568501767 Q1.12167926629051,8.09494670272544 1.24449884261148,8.27994312284276 Q1.44189780344349,8.57727439675439 1.66250874377508,8.85670281234556 Q1.80054060640138,9.03153559541965 1.94694688614682,9.19842404729501 Q2.08999423977703,9.36148366081515 2.24054566891579,9.51639833059041 Q2.48490085256662,9.76783534981824 2.74741879975013,9.99621086079807 Q3.01662696842382,10.2304064795754 3.30291999709097,10.4385942042024 Q3.46972317871875,10.5598908176942 3.64179542494331,10.6719572214367 Q3.79857226878001,10.7740621074039 3.95941554482475,10.8683033405894 Q4.13334243392154,10.9702105195257 4.31166833497306,11.0627149706127 Q4.47604708828145,11.1479845038409 4.64386151028959,11.2251070150907 Q4.80544594869858,11.299366411392 4.96995032351617,11.3659501831024 Q5.16725965014621,11.4458118838945 5.36835311845226,11.5144650549576 Q5.56561833961004,11.5818112650908 5.7660857806164,11.6382214352365 Q5.93594304380552,11.6860181101922 6.10780540394526,11.7258795037075 Q6.3802811445957,11.7890769525997 6.65689783599178,11.8321328272072 Q6.88756600251257,11.8680367330906 7.12039035026157,11.8898178268749 Q7.33575429714658,11.9099654719568 7.5524023719199,11.9179755377665 Q7.78903411552322,11.9267244539104 8.02650188595541,11.9209696911957 Q8.31148267851657,11.9140635041521 8.59647282523938,11.8863060110558 Q8.84172783653293,11.8624186438571 9.08605624824551,11.8231757557194 Q9.29602775102361,11.7894511138005 9.5047004646898,11.7444820539865 Q9.73546771599974,11.6947516117789 9.96389320433066,11.631434414029 Q10.2137994798527,11.5621629628359 10.4598847954114,11.4769149350853 Q10.7426952738113,11.3789447028671 11.0189146985215,11.2604175545564 Q11.2783606307036,11.14908799649 11.5305552606758,11.0202359184706 Q11.8305962880828,10.8669380077389 12.1182124982183,10.6899608334626 Q12.3086605446971,10.5727735681955 12.4928101128895,10.4457122376404 Q12.7138340887796,10.2932079405257 12.9247407405014,10.1272078034175 Q13.1164494580624,9.97631795172166 13.2989309836935,9.81495653041487 Q13.4993501715355,9.63773352169933 13.6876496499027,9.44875874377583 Q13.8259025844505,9.31000999189398 13.9571663998683,9.16537567684822 Q14.0895559130142,9.01950100078341 14.2144709921875,8.86804150073268 Q14.3647042289743,8.68588374135466 14.50359102542,8.496302620215 Q14.6242491373507,8.33160373796121 14.7359701511584,8.16180777241553 Q14.8556947497797,7.9798477889744 14.9647911861361,7.79259020255814 Q15.0815966885041,7.5921004598673 15.1858302302757,7.38620717426887 Q15.2838990649354,7.19249108020058 15.3705462405702,6.99456656547992 Q15.4710479022511,6.76499482847765 15.555848418953,6.53053381443338 Q15.6293410875024,6.32733734508333 15.6908398354807,6.12101489646327 Q15.7582996840502,5.89469352248478 15.811151998362,5.66520400901477 Q15.858001700426,5.46177837907041 15.8932743283624,5.25628456535619 Q15.9234569772515,5.08044431780161 15.9451194504346,4.90333416558016 Q15.9730560934491,4.67492704627213 15.9867773968648,4.44479362169134 Q16.0034165941822,4.16572133934909 15.9991176647554,3.88472444785707 Q15.9950908430473,3.62151371089842 15.9726972179107,3.35708697651958 Q15.9526619394994,3.12050789606779 15.9179459679384,2.88322942110747 Q15.882312030686,2.63967678789829 15.83124032874,2.39559405324708 Q15.7875158480249,2.1866252815493 15.7324953373768,1.97736550244011 Q15.6648912559291,1.72024656653811 15.5802540161198,1.46276838245011 Q15.4968741501039,1.20911530326591 15.3969639315714,0.955118442554341 Q15.3045821236361,0.720260691795003 15.1980404233408,0.485042552463534 Q15.0759331774567,0.215459477516022 14.935136668034,-0.0547900505028633 Q14.7784251600096,-0.355587358989756 14.5983261379963,-0.657651595836769 Q14.4326365303214,-0.935548190367364 14.2468180712942,-1.21507534194023 Q13.9287667177733,-1.69352075241799 13.5495204141351,-2.17993676735823 Q13.228806301099,-2.59128021171493 12.8611063340419,-3.0124517446707 Q12.1591087582907,-3.81653502342836 11.2483797084418,-4.69658759121086 Q10.4733210891135,-5.44553957449827 9.42454171069957,-6.36494199823616 Q8.84072932123853,-6.87673555265406 7.788610883906,-7.77268471082305 Q6.43199730758967,-8.92793182800395 5.86781215340663,-9.42143310902599 Q4.99911290579133,-10.1812974697638 4.33114177564245,-10.8099404645036 Q3.70609091742599,-11.3981902041088 3.18523060681885,-11.9373159451196 Q2.65398052055043,-12.4871958084704 2.2119638126538,-13.0054355175612 Q1.84652002656313,-13.4338977860892 1.53818480616621,-13.8451114872961 Q1.35658899707246,-14.0872981719213 1.19468144267213,-14.3236430665681 Q1.01229440141544,-14.5898829354267 0.855250034700979,-14.8481696259238 Q0.710327112506176,-15.0865204992088 0.587635439099838,-15.317016364333 Q0.482522452421447,-15.5144878644567 0.394395445017321,-15.7049318068687 Q0.31840843950407,-15.869141001397 0.255658210448299,-16.0268054813404 Q0.189432844334108,-16.1932014939857 0.138853346014398,-16.3499815211115 Q0.0926197731189966,-16.4932905900716 0.0605744460923479,-16.625013082467 Q0.0353801389730772,-16.7285744199802 0.0199590858880895,-16.820733667613 Q0.00867700999654953,-16.8881575731122 0.00346592649802561,-16.9441272743669 Q0.000399281055259889,-16.9770646144295 2.49345880547808e-05,-16.9979165809901 Q0.000120167169769384,-16.9926119052863 -0.00120639179482519,-16.9723446290242 Q-0.00426775812446953,-16.9255728240776 -0.0129503651544767,-16.86557788734 Q-0.0227183511665687,-16.7980832165775 -0.0385454062196693,-16.7222898015959 Q-0.06004549711036,-16.6193290609179 -0.0915669504606278,-16.5067117118991 Q-0.132286979305915,-16.3612304217578 -0.188273154562518,-16.204902779091 Q-0.258831712369531,-16.0078853375281 -0.351810097949509,-15.7987840090959 Q-0.440000005976105,-15.6004516030464 -0.547194072845051,-15.3939437422104 Q-0.651340977758142,-15.193306195987 -0.772699085783482,-14.9863772240217 Q-0.910246809839973,-14.7518431694101 -1.0692413762151,-14.5103646821128 Q-1.22417112561029,-14.2750597759499 -1.39908931791318,-14.0337431312646 Q-1.76797104341055,-13.5248349433239 -2.22583196061482,-12.9891937151164 Q-2.65281454964278,-12.4896763511826 -3.16250584273345,-11.960865339223 Q-3.75455354091074,-11.3466085397729 -4.48484292020919,-10.6660006846297 Q-5.15417223354364,-10.0422057873649 -6.03462845747207,-9.27588577364818 Q-6.5518613566613,-8.82570334364281 -7.72688839874177,-7.82524124839609 Q-9.00011940672614,-6.74116461325269 -9.66659027493077,-6.1518575057301 Q-10.6800142168527,-5.25576742827941 -11.4416925502921,-4.5083632999628 Q-11.9256928826451,-4.03343335824615 -12.3453337586718,-3.58350021932445 Q-12.8421226311087,-3.05085006647637 -13.2630306985554,-2.53794032909005 Q-13.5888635034756,-2.14088731127246 -13.8734126595931,-1.7506997108797 Q-14.1158142868982,-1.41830684568896 -14.3296155195759,-1.08906603538983 Q-14.6222670714185,-0.638400560466284 -14.8629035091692,-0.191196762642277 Q-14.9849831812171,0.035678657752151 -15.093879517273,0.262018849814471 Q-15.1989501677438,0.48040738398381 -15.2918143665365,0.698434979814885 Q-15.4099383650006,0.975767813457227 -15.5083731080758,1.25265889367945 Q-15.596037025423,1.49925228146578 -15.6680979222918,1.74552862415746 Q-15.7452025309944,2.00904242791343 -15.8044279558644,2.27213565719569 Q-15.8673099421169,2.55147218982739 -15.9099982659839,2.83015436556823 Q-15.9467996846554,3.07040505935725 -15.9685614040832,3.30996314026493 Q-15.9881495049069,3.52559352082962 -15.9955342067788,3.74046434121497 Q-16.0051232678424,4.01947484877545 -15.9941254637899,4.2967472393645 Q-15.9844330208493,4.54110936947305 -15.958768035937,4.78366431573383 Q-15.9275621653641,5.07858513044192 -15.8728386332033,5.37000215623899 Q-15.8278093231867,5.60979493058336 -15.7669750538715,5.84656658453498 Q-15.721016172269,6.02544208568407 -15.6661182996239,6.20226632422338 Q-15.6208315317082,6.34813351117917 -15.5695193619767,6.49241673134215 Q-15.4613890101118,6.79646537021361 -15.3269801205853,7.09222815454625 Q-15.2212449367798,7.32489529787583 -15.0996951958763,7.55142914467109 Q-14.9588348202878,7.81395247467492 -14.7974725228564,8.0668861942751 Q-14.6745800019696,8.25951894005113 -14.5402766384116,8.44582208248948 Q-14.3933701098356,8.64960810238759 -14.2334198263091,8.84498132868387 Q-14.0945594532161,9.01459402644063 -13.9463689488664,9.17725000648766 Q-13.7735280755873,9.36696257787514 -13.588753931665,9.54638613301087 Q-13.4189681105967,9.71125538896335 -13.23982095404,9.86674014639278 Q-13.0625216805617,10.0206210957701 -12.8767644199624,10.1646925661538 Q-12.6944389535778,10.3061023713246 -12.5046728111778,10.4375123135825 Q-12.3142699757146,10.5693631553476 -12.1171076375409,10.6906405650386 Q-11.9213331232265,10.811064304174 -11.7196291899761,10.9206103014377 Q-11.509884893371,11.0345230436026 -11.2945462865961,11.1362305693748 Q-11.0736106685721,11.2405816441808 -10.8476757705343,11.3316650627413 Q-10.6451233054253,11.4133220848312 -10.4392342246826,11.4840381672923 Q-10.2480502354789,11.5497035376801 -10.0545178054937,11.605752174849 Q-9.87842747053587,11.6567494330024 -9.70078839955957,11.699669661687 Q-9.51646003889087,11.7442061217657 -9.33086927650686,11.7799481442673 Q-9.13248730736292,11.8181535630821 -8.933139388093,11.846219406851 Q-8.71465712197788,11.8769791417381 -8.49561748097842,11.8954757888015 Q-8.29291726492743,11.9125926647188 -8.09024399409492,11.9191639457214 Q-7.78610008904026,11.9290252118723 -7.4833331334596,11.915111810162 Q-7.17318452623145,11.9008591908364 -6.86609005385436,11.8617329844013 Q-6.59503326929163,11.8271982575912 -6.32749985800465,11.7734249707618 Q-6.065591016902,11.7207822030116 -5.80803820752765,11.6498970887622 Q-5.55929013948285,11.5814352643096 -5.31546652781383,11.4961928265364 Q-5.10668790644988,11.4232023621669 -4.90208243255889,11.3381020157274 Q-4.65361227556304,11.2347572906909 -4.41212777878246,11.1139056578479 Q-4.19936350048537,11.0074271435513 -3.99268182769649,10.8876853593409 Q-3.75270580423463,10.7486543711102 -3.52182577913573,10.5922682144105 Q-3.32874675879168,10.4614864981576 -3.14265200973488,10.3189846901617 Q-2.96546888319985,10.183306945327 -2.79512566366148,10.0373935236474 Q-2.59954871236449,9.869865269557 -2.41370491741605,9.68946420864727 Q-2.19513433610818,9.47729481788262 -1.99121915187079,9.24849308724242 Q-1.80560573104341,9.04022673339448 -1.63321108031305,8.8193835024801 Q-1.48460042648279,8.62900835568098 -1.34656919353414,8.43025073001946 Q-1.22862003028138,8.26041021540489 -1.11890397474925,8.08517660112203 Q-0.95801857573265,7.82821758251459 -0.816175270753006,7.56186513162384 Q-0.660837400706088,7.27017267275816 -0.530605965747761,6.97155652900988 Q-0.428580116785493,6.73761481140916 -0.343519030901754,6.5029591230879 Q-0.261963346200934,6.27797368901832 -0.197516475528564,6.05656345647983 Q-0.136184858928778,5.84585582472599 -0.0920712402436369,5.64444995400555 Q-0.0534506179297929,5.46812299882186 -0.0298383755424187,5.30751615628668 Q-0.0115789781484796,5.18331854244193 -0.00400653952455051,5.08123174112462 Z",
            "fill": "none",
            "id": "bca9aa674fdf4b2bb226e1fab9a4624e",
            "stroke": "red",
            "stroke-width": ".5",
            "transform": "scale(1.25 -1.25)"
           },
           "children": [],
           "tagName": "path"
          }
         ],
         "tagName": "clipPath"
        },
        {
         "attributes": {
          "height": "100",
          "viewBox": "-25 -25 50 50",
          "x": "0",
          "y": "0"
         },
         "children": [
          {
           "attributes": {
            "style": {
             "clip-path": "url(#clipid3)"
            }
           },
           "children": [
            {
             "attributes": {},
             "children": [
              {
               "attributes": {
                "fill": "lightskyblue",
                "height": "14.6%",
                "stroke": "lightskyblue",
                "width": "50",
                "x": "-25",
                "y": "-31.5%"
               },
               "children": [],
               "tagName": "rect"
              },
              {
               "attributes": {
                "fill": "lightpink",
                "height": "14.6%",
                "stroke": "lightpink",
                "width": "50",
                "x": "-25",
                "y": "-16.9%"
               },
               "children": [],
               "tagName": "rect"
              },
              {
               "attributes": {
                "fill": "white",
                "height": "14.6%",
                "stroke": "white",
                "width": "50",
                "x": "-25",
                "y": "-2.3000000000000007%"
               },
               "children": [],
               "tagName": "rect"
              },
              {
               "attributes": {
                "fill": "lightpink",
                "height": "14.6%",
                "stroke": "lightpink",
                "width": "50",
                "x": "-25",
                "y": "12.299999999999997%"
               },
               "children": [],
               "tagName": "rect"
              },
              {
               "attributes": {
                "fill": "lightskyblue",
                "height": "14.6%",
                "stroke": "lightskyblue",
                "width": "50",
                "x": "-25",
                "y": "26.9%"
               },
               "children": [],
               "tagName": "rect"
              }
             ],
             "tagName": "g"
            }
           ],
           "tagName": "g"
          }
         ],
         "tagName": "svg"
        },
        {
         "attributes": {
          "height": "100",
          "viewBox": "-25 -25 50 50",
          "x": "90",
          "y": "0"
         },
         "children": [
          {
           "attributes": {
            "style": {
             "clip-path": "url(#clipid3)"
            }
           },
           "children": [
            {
             "attributes": {},
             "children": [
              {
               "attributes": {
                "fill": "forestgreen",
                "height": "24.333333333333332%",
                "stroke": "forestgreen",
                "width": "50",
                "x": "-25",
                "y": "-31.5%"
               },
               "children": [],
               "tagName": "rect"
              },
              {
               "attributes": {
                "fill": "white",
                "height": "24.333333333333332%",
                "stroke": "white",
                "width": "50",
                "x": "-25",
                "y": "-7.166666666666668%"
               },
               "children": [],
               "tagName": "rect"
              },
              {
               "attributes": {
                "fill": "purple",
                "height": "24.333333333333332%",
                "stroke": "purple",
                "width": "50",
                "x": "-25",
                "y": "17.166666666666664%"
               },
               "children": [],
               "tagName": "rect"
              }
             ],
             "tagName": "g"
            }
           ],
           "tagName": "g"
          }
         ],
         "tagName": "svg"
        },
        {
         "attributes": {
          "height": "100",
          "viewBox": "-25 -25 50 50",
          "x": "180",
          "y": "0"
         },
         "children": [
          {
           "attributes": {
            "style": {
             "clip-path": "url(#clipid3)"
            }
           },
           "children": [
            {
             "attributes": {},
             "children": [
              {
               "attributes": {
                "fill": "red",
                "height": "9.125%",
                "stroke": "red",
                "width": "50",
                "x": "-25",
                "y": "-31.5%"
               },
               "children": [],
               "tagName": "rect"
              },
              {
               "attributes": {
                "fill": "orange",
                "height": "9.125%",
                "stroke": "orange",
                "width": "50",
                "x": "-25",
                "y": "-22.375%"
               },
               "children": [],
               "tagName": "rect"
              },
              {
               "attributes": {
                "fill": "yellow",
                "height": "9.125%",
                "stroke": "yellow",
                "width": "50",
                "x": "-25",
                "y": "-13.25%"
               },
               "children": [],
               "tagName": "rect"
              },
              {
               "attributes": {
                "fill": "green",
                "height": "9.125%",
                "stroke": "green",
                "width": "50",
                "x": "-25",
                "y": "-4.125%"
               },
               "children": [],
               "tagName": "rect"
              },
              {
               "attributes": {
                "fill": "blue",
                "height": "9.125%",
                "stroke": "blue",
                "width": "50",
                "x": "-25",
                "y": "5.0%"
               },
               "children": [],
               "tagName": "rect"
              },
              {
               "attributes": {
                "fill": "purple",
                "height": "9.125%",
                "stroke": "purple",
                "width": "50",
                "x": "-25",
                "y": "14.125%"
               },
               "children": [],
               "tagName": "rect"
              },
              {
               "attributes": {
                "fill": "brown",
                "height": "9.125%",
                "stroke": "brown",
                "width": "50",
                "x": "-25",
                "y": "23.25%"
               },
               "children": [],
               "tagName": "rect"
              },
              {
               "attributes": {
                "fill": "black",
                "height": "9.125%",
                "stroke": "black",
                "width": "50",
                "x": "-25",
                "y": "32.375%"
               },
               "children": [],
               "tagName": "rect"
              }
             ],
             "tagName": "g"
            }
           ],
           "tagName": "g"
          }
         ],
         "tagName": "svg"
        },
        {
         "attributes": {
          "height": "100",
          "viewBox": "-25 -25 50 50",
          "x": "0",
          "y": "90"
         },
         "children": [
          {
           "attributes": {
            "style": {
             "clip-path": "url(#clipid3)"
            }
           },
           "children": [
            {
             "attributes": {},
             "children": [
              {
               "attributes": {
                "fill": "black",
                "height": "10.428571428571429%",
                "stroke": "black",
                "width": "50",
                "x": "-25",
                "y": "-31.5%"
               },
               "children": [],
               "tagName": "rect"
              },
              {
               "attributes": {
                "fill": "lightgrey",
                "height": "10.428571428571429%",
                "stroke": "lightgrey",
                "width": "50",
                "x": "-25",
                "y": "-21.07142857142857%"
               },
               "children": [],
               "tagName": "rect"
              },
              {
               "attributes": {
                "fill": "white",
                "height": "10.428571428571429%",
                "stroke": "white",
                "width": "50",
                "x": "-25",
                "y": "-10.642857142857142%"
               },
               "children": [],
               "tagName": "rect"
              },
              {
               "attributes": {
                "fill": "chartreuse",
                "height": "10.428571428571429%",
                "stroke": "chartreuse",
                "width": "50",
                "x": "-25",
                "y": "-0.2142857142857153%"
               },
               "children": [],
               "tagName": "rect"
              },
              {
               "attributes": {
                "fill": "white",
                "height": "10.428571428571429%",
                "stroke": "white",
                "width": "50",
                "x": "-25",
                "y": "10.214285714285715%"
               },
               "children": [],
               "tagName": "rect"
              },
              {
               "attributes": {
                "fill": "lightgrey",
                "height": "10.428571428571429%",
                "stroke": "lightgrey",
                "width": "50",
                "x": "-25",
                "y": "20.642857142857146%"
               },
               "children": [],
               "tagName": "rect"
              },
              {
               "attributes": {
                "fill": "black",
                "height": "10.428571428571429%",
                "stroke": "black",
                "width": "50",
                "x": "-25",
                "y": "31.07142857142857%"
               },
               "children": [],
               "tagName": "rect"
              }
             ],
             "tagName": "g"
            }
           ],
           "tagName": "g"
          }
         ],
         "tagName": "svg"
        },
        {
         "attributes": {
          "height": "100",
          "viewBox": "-25 -25 50 50",
          "x": "90",
          "y": "90"
         },
         "children": [
          {
           "attributes": {
            "style": {
             "clip-path": "url(#clipid3)"
            }
           },
           "children": [
            {
             "attributes": {},
             "children": [
              {
               "attributes": {
                "fill": "black",
                "height": "18.25%",
                "stroke": "black",
                "width": "50",
                "x": "-25",
                "y": "-31.5%"
               },
               "children": [],
               "tagName": "rect"
              },
              {
               "attributes": {
                "fill": "lightgrey",
                "height": "18.25%",
                "stroke": "lightgrey",
                "width": "50",
                "x": "-25",
                "y": "-13.25%"
               },
               "children": [],
               "tagName": "rect"
              },
              {
               "attributes": {
                "fill": "white",
                "height": "18.25%",
                "stroke": "white",
                "width": "50",
                "x": "-25",
                "y": "5.0%"
               },
               "children": [],
               "tagName": "rect"
              },
              {
               "attributes": {
                "fill": "purple",
                "height": "18.25%",
                "stroke": "purple",
                "width": "50",
                "x": "-25",
                "y": "23.25%"
               },
               "children": [],
               "tagName": "rect"
              }
             ],
             "tagName": "g"
            }
           ],
           "tagName": "g"
          }
         ],
         "tagName": "svg"
        },
        {
         "attributes": {
          "height": "100",
          "viewBox": "-25 -25 50 50",
          "x": "180",
          "y": "90"
         },
         "children": [
          {
           "attributes": {
            "style": {
             "clip-path": "url(#clipid3)"
            }
           },
           "children": [
            {
             "attributes": {},
             "children": [
              {
               "attributes": {
                "fill": "deeppink",
                "height": "14.6%",
                "stroke": "deeppink",
                "width": "50",
                "x": "-25",
                "y": "-31.5%"
               },
               "children": [],
               "tagName": "rect"
              },
              {
               "attributes": {
                "fill": "deeppink",
                "height": "14.6%",
                "stroke": "deeppink",
                "width": "50",
                "x": "-25",
                "y": "-16.9%"
               },
               "children": [],
               "tagName": "rect"
              },
              {
               "attributes": {
                "fill": "mediumpurple",
                "height": "14.6%",
                "stroke": "mediumpurple",
                "width": "50",
                "x": "-25",
                "y": "-2.3000000000000007%"
               },
               "children": [],
               "tagName": "rect"
              },
              {
               "attributes": {
                "fill": "blue",
                "height": "14.6%",
                "stroke": "blue",
                "width": "50",
                "x": "-25",
                "y": "12.299999999999997%"
               },
               "children": [],
               "tagName": "rect"
              },
              {
               "attributes": {
                "fill": "blue",
                "height": "14.6%",
                "stroke": "blue",
                "width": "50",
                "x": "-25",
                "y": "26.9%"
               },
               "children": [],
               "tagName": "rect"
              }
             ],
             "tagName": "g"
            }
           ],
           "tagName": "g"
          }
         ],
         "tagName": "svg"
        },
        {
         "attributes": {
          "height": "100",
          "viewBox": "-25 -25 50 50",
          "x": "0",
          "y": "180"
         },
         "children": [
          {
           "attributes": {
            "style": {
             "clip-path": "url(#clipid3)"
            }
           },
           "children": [
            {
             "attributes": {},
             "children": [
              {
               "attributes": {
                "fill": "#ffef00",
                "height": "18.25%",
                "stroke": "#ffef00",
                "width": "50",
                "x": "-25",
                "y": "-31.5%"
               },
               "children": [],
               "tagName": "rect"
              },
              {
               "attributes": {
                "fill": "white",
                "height": "18.25%",
                "stroke": "white",
                "width": "50",
                "x": "-25",
                "y": "-13.25%"
               },
               "children": [],
               "tagName": "rect"
              },
              {
               "attributes": {
                "fill": "#9C59D1",
                "height": "18.25%",
                "stroke": "#9C59D1",
                "width": "50",
                "x": "-25",
                "y": "5.0%"
               },
               "children": [],
               "tagName": "rect"
              },
              {
               "attributes": {
                "fill": "black",
                "height": "18.25%",
                "stroke": "black",
                "width": "50",
                "x": "-25",
                "y": "23.25%"
               },
               "children": [],
               "tagName": "rect"
              }
             ],
             "tagName": "g"
            }
           ],
           "tagName": "g"
          }
         ],
         "tagName": "svg"
        },
        {
         "attributes": {
          "height": "100",
          "viewBox": "-25 -25 50 50",
          "x": "90",
          "y": "180"
         },
         "children": [
          {
           "attributes": {
            "style": {
             "clip-path": "url(#clipid3)"
            }
           },
           "children": [
            {
             "attributes": {},
             "children": [
              {
               "attributes": {
                "fill": "#ff75a2",
                "height": "14.6%",
                "stroke": "#ff75a2",
                "width": "50",
                "x": "-25",
                "y": "-31.5%"
               },
               "children": [],
               "tagName": "rect"
              },
              {
               "attributes": {
                "fill": "white",
                "height": "14.6%",
                "stroke": "white",
                "width": "50",
                "x": "-25",
                "y": "-16.9%"
               },
               "children": [],
               "tagName": "rect"
              },
              {
               "attributes": {
                "fill": "#be18d6",
                "height": "14.6%",
                "stroke": "#be18d6",
                "width": "50",
                "x": "-25",
                "y": "-2.3000000000000007%"
               },
               "children": [],
               "tagName": "rect"
              },
              {
               "attributes": {
                "fill": "black",
                "height": "14.6%",
                "stroke": "black",
                "width": "50",
                "x": "-25",
                "y": "12.299999999999997%"
               },
               "children": [],
               "tagName": "rect"
              },
              {
               "attributes": {
                "fill": "mediumblue",
                "height": "14.6%",
                "stroke": "mediumblue",
                "width": "50",
                "x": "-25",
                "y": "26.9%"
               },
               "children": [],
               "tagName": "rect"
              }
             ],
             "tagName": "g"
            }
           ],
           "tagName": "g"
          }
         ],
         "tagName": "svg"
        },
        {
         "attributes": {
          "height": "100",
          "viewBox": "-25 -25 50 50",
          "x": "180",
          "y": "180"
         },
         "children": [
          {
           "attributes": {
            "style": {
             "clip-path": "url(#clipid3)"
            }
           },
           "children": [
            {
             "attributes": {},
             "children": [
              {
               "attributes": {
                "fill": "deeppink",
                "height": "24.333333333333332%",
                "stroke": "deeppink",
                "width": "50",
                "x": "-25",
                "y": "-31.5%"
               },
               "children": [],
               "tagName": "rect"
              },
              {
               "attributes": {
                "fill": "gold",
                "height": "24.333333333333332%",
                "stroke": "gold",
                "width": "50",
                "x": "-25",
                "y": "-7.166666666666668%"
               },
               "children": [],
               "tagName": "rect"
              },
              {
               "attributes": {
                "fill": "deepskyblue",
                "height": "24.333333333333332%",
                "stroke": "deepskyblue",
                "width": "50",
                "x": "-25",
                "y": "17.166666666666664%"
               },
               "children": [],
               "tagName": "rect"
              }
             ],
             "tagName": "g"
            }
           ],
           "tagName": "g"
          }
         ],
         "tagName": "svg"
        },
        {
         "attributes": {
          "height": "100",
          "viewBox": "-25 -25 50 50",
          "x": "0",
          "y": "270"
         },
         "children": [
          {
           "attributes": {
            "style": {
             "clip-path": "url(#clipid3)"
            }
           },
           "children": [
            {
             "attributes": {},
             "children": [
              {
               "attributes": {
                "fill": "#f61cb9",
                "height": "24.333333333333332%",
                "stroke": "#f61cb9",
                "width": "50",
                "x": "-25",
                "y": "-31.5%"
               },
               "children": [],
               "tagName": "rect"
              },
              {
               "attributes": {
                "fill": "#07d569",
                "height": "24.333333333333332%",
                "stroke": "#07d569",
                "width": "50",
                "x": "-25",
                "y": "-7.166666666666668%"
               },
               "children": [],
               "tagName": "rect"
              },
              {
               "attributes": {
                "fill": "dodgerblue",
                "height": "24.333333333333332%",
                "stroke": "dodgerblue",
                "width": "50",
                "x": "-25",
                "y": "17.166666666666664%"
               },
               "children": [],
               "tagName": "rect"
              }
             ],
             "tagName": "g"
            }
           ],
           "tagName": "g"
          }
         ],
         "tagName": "svg"
        },
        {
         "attributes": {
          "height": "100",
          "viewBox": "-25 -25 50 50",
          "x": "90",
          "y": "270"
         },
         "children": [
          {
           "attributes": {
            "style": {
             "clip-path": "url(#clipid3)"
            }
           },
           "children": [
            {
             "attributes": {},
             "children": [
              {
               "attributes": {
                "fill": "#3da542",
                "height": "14.6%",
                "stroke": "#3da542",
                "width": "50",
                "x": "-25",
                "y": "-31.5%"
               },
               "children": [],
               "tagName": "rect"
              },
              {
               "attributes": {
                "fill": "#a7d379",
                "height": "14.6%",
                "stroke": "#a7d379",
                "width": "50",
                "x": "-25",
                "y": "-16.9%"
               },
               "children": [],
               "tagName": "rect"
              },
              {
               "attributes": {
                "fill": "white",
                "height": "14.6%",
                "stroke": "white",
                "width": "50",
                "x": "-25",
                "y": "-2.3000000000000007%"
               },
               "children": [],
               "tagName": "rect"
              },
              {
               "attributes": {
                "fill": "lightgrey",
                "height": "14.6%",
                "stroke": "lightgrey",
                "width": "50",
                "x": "-25",
                "y": "12.299999999999997%"
               },
               "children": [],
               "tagName": "rect"
              },
              {
               "attributes": {
                "fill": "black",
                "height": "14.6%",
                "stroke": "black",
                "width": "50",
                "x": "-25",
                "y": "26.9%"
               },
               "children": [],
               "tagName": "rect"
              }
             ],
             "tagName": "g"
            }
           ],
           "tagName": "g"
          }
         ],
         "tagName": "svg"
        },
        {
         "attributes": {
          "height": "100",
          "viewBox": "-25 -25 50 50",
          "x": "180",
          "y": "270"
         },
         "children": [
          {
           "attributes": {
            "style": {
             "clip-path": "url(#clipid3)"
            }
           },
           "children": [
            {
             "attributes": {},
             "children": [
              {
               "attributes": {
                "fill": "#A60061",
                "height": "10.428571428571429%",
                "stroke": "#A60061",
                "width": "50",
                "x": "-25",
                "y": "-31.5%"
               },
               "children": [],
               "tagName": "rect"
              },
              {
               "attributes": {
                "fill": "#B95393",
                "height": "10.428571428571429%",
                "stroke": "#B95393",
                "width": "50",
                "x": "-25",
                "y": "-21.07142857142857%"
               },
               "children": [],
               "tagName": "rect"
              },
              {
               "attributes": {
                "fill": "#D260A7",
                "height": "10.428571428571429%",
                "stroke": "#D260A7",
                "width": "50",
                "x": "-25",
                "y": "-10.642857142857142%"
               },
               "children": [],
               "tagName": "rect"
              },
              {
               "attributes": {
                "fill": "#EDEDEB",
                "height": "10.428571428571429%",
                "stroke": "#EDEDEB",
                "width": "50",
                "x": "-25",
                "y": "-0.2142857142857153%"
               },
               "children": [],
               "tagName": "rect"
              },
              {
               "attributes": {
                "fill": "#E5ABD0",
                "height": "10.428571428571429%",
                "stroke": "#E5ABD0",
                "width": "50",
                "x": "-25",
                "y": "10.214285714285715%"
               },
               "children": [],
               "tagName": "rect"
              },
              {
               "attributes": {
                "fill": "#C74D52",
                "height": "10.428571428571429%",
                "stroke": "#C74D52",
                "width": "50",
                "x": "-25",
                "y": "20.642857142857146%"
               },
               "children": [],
               "tagName": "rect"
              },
              {
               "attributes": {
                "fill": "#8C1D00",
                "height": "10.428571428571429%",
                "stroke": "#8C1D00",
                "width": "50",
                "x": "-25",
                "y": "31.07142857142857%"
               },
               "children": [],
               "tagName": "rect"
              }
             ],
             "tagName": "g"
            }
           ],
           "tagName": "g"
          }
         ],
         "tagName": "svg"
        },
        {
         "attributes": {
          "height": "100",
          "viewBox": "-25 -25 50 50",
          "x": "0",
          "y": "360"
         },
         "children": [
          {
           "attributes": {
            "style": {
             "clip-path": "url(#clipid3)"
            }
           },
           "children": [
            {
             "attributes": {},
             "children": [
              {
               "attributes": {
                "fill": "gold",
                "height": "73.0%",
                "stroke": "gold",
                "width": "50",
                "x": "-25",
                "y": "-31.5%"
               },
               "children": [],
               "tagName": "rect"
              },
              {
               "attributes": {
                "cx": "0",
                "cy": "2",
                "fill": "transparent",
                "r": "5",
                "stroke": "purple",
                "stroke-width": "2.5"
               },
               "children": [],
               "tagName": "circle"
              }
             ],
             "tagName": "g"
            }
           ],
           "tagName": "g"
          }
         ],
         "tagName": "svg"
        },
        {
         "attributes": {
          "height": "100",
          "viewBox": "-25 -25 50 50",
          "x": "90",
          "y": "360"
         },
         "children": [
          {
           "attributes": {
            "style": {
             "clip-path": "url(#clipid3)"
            }
           },
           "children": [
            {
             "attributes": {},
             "children": [
              {
               "attributes": {
                "fill": "blue",
                "height": "24.333333333333332%",
                "stroke": "blue",
                "width": "50",
                "x": "-25",
                "y": "-31.5%"
               },
               "children": [],
               "tagName": "rect"
              },
              {
               "attributes": {
                "fill": "red",
                "height": "24.333333333333332%",
                "stroke": "red",
                "width": "50",
                "x": "-25",
                "y": "-7.166666666666668%"
               },
               "children": [],
               "tagName": "rect"
              },
              {
               "attributes": {
                "fill": "black",
                "height": "24.333333333333332%",
                "stroke": "black",
                "width": "50",
                "x": "-25",
                "y": "17.166666666666664%"
               },
               "children": [],
               "tagName": "rect"
              },
              {
               "attributes": {
                "fill": "yellow",
                "font-family": "Minion Pro",
                "text-anchor": "middle",
                "y": "4.5"
               },
               "children": [
                "π"
               ],
               "tagName": "text"
              }
             ],
             "tagName": "g"
            }
           ],
           "tagName": "g"
          }
         ],
         "tagName": "svg"
        }
       ],
       "tagName": "svg"
      },
      "text/html": [
       "<svg viewBox=\"200 0 500 500\" width=\"360\"><clipPath id=\"clipid3\" stroke=\"black\"><path d=\"M0.0,5.0 Q2.26480878769362e-09,5.01935203545116 0.00240468499265089,5.05784209373124 Q0.00617678614768245,5.11821945317385 0.0144892681784808,5.19071052417724 Q0.0249796452381706,5.28219447150715 0.0416669391001586,5.38322902221801 Q0.0625689845764014,5.50978212250472 0.0921242540272451,5.64469196933818 Q0.129325564905271,5.81450341906648 0.178888071354544,5.99135494886849 Q0.227032997926876,6.16314819595208 0.285852572783466,6.33796304924934 Q0.345659522697073,6.51571243286517 0.415701700411068,6.69417844133358 Q0.487743067528425,6.87773834271958 0.569888188951648,7.06019887319993 Q0.692043825721294,7.33153065651206 0.834806300015498,7.59665683949396 Q0.918421740467044,7.75194024064588 1.00862101667763,7.90415568501767 Q1.12167926629051,8.09494670272544 1.24449884261148,8.27994312284276 Q1.44189780344349,8.57727439675439 1.66250874377508,8.85670281234556 Q1.80054060640138,9.03153559541965 1.94694688614682,9.19842404729501 Q2.08999423977703,9.36148366081515 2.24054566891579,9.51639833059041 Q2.48490085256662,9.76783534981824 2.74741879975013,9.99621086079807 Q3.01662696842382,10.2304064795754 3.30291999709097,10.4385942042024 Q3.46972317871875,10.5598908176942 3.64179542494331,10.6719572214367 Q3.79857226878001,10.7740621074039 3.95941554482475,10.8683033405894 Q4.13334243392154,10.9702105195257 4.31166833497306,11.0627149706127 Q4.47604708828145,11.1479845038409 4.64386151028959,11.2251070150907 Q4.80544594869858,11.299366411392 4.96995032351617,11.3659501831024 Q5.16725965014621,11.4458118838945 5.36835311845226,11.5144650549576 Q5.56561833961004,11.5818112650908 5.7660857806164,11.6382214352365 Q5.93594304380552,11.6860181101922 6.10780540394526,11.7258795037075 Q6.3802811445957,11.7890769525997 6.65689783599178,11.8321328272072 Q6.88756600251257,11.8680367330906 7.12039035026157,11.8898178268749 Q7.33575429714658,11.9099654719568 7.5524023719199,11.9179755377665 Q7.78903411552322,11.9267244539104 8.02650188595541,11.9209696911957 Q8.31148267851657,11.9140635041521 8.59647282523938,11.8863060110558 Q8.84172783653293,11.8624186438571 9.08605624824551,11.8231757557194 Q9.29602775102361,11.7894511138005 9.5047004646898,11.7444820539865 Q9.73546771599974,11.6947516117789 9.96389320433066,11.631434414029 Q10.2137994798527,11.5621629628359 10.4598847954114,11.4769149350853 Q10.7426952738113,11.3789447028671 11.0189146985215,11.2604175545564 Q11.2783606307036,11.14908799649 11.5305552606758,11.0202359184706 Q11.8305962880828,10.8669380077389 12.1182124982183,10.6899608334626 Q12.3086605446971,10.5727735681955 12.4928101128895,10.4457122376404 Q12.7138340887796,10.2932079405257 12.9247407405014,10.1272078034175 Q13.1164494580624,9.97631795172166 13.2989309836935,9.81495653041487 Q13.4993501715355,9.63773352169933 13.6876496499027,9.44875874377583 Q13.8259025844505,9.31000999189398 13.9571663998683,9.16537567684822 Q14.0895559130142,9.01950100078341 14.2144709921875,8.86804150073268 Q14.3647042289743,8.68588374135466 14.50359102542,8.496302620215 Q14.6242491373507,8.33160373796121 14.7359701511584,8.16180777241553 Q14.8556947497797,7.9798477889744 14.9647911861361,7.79259020255814 Q15.0815966885041,7.5921004598673 15.1858302302757,7.38620717426887 Q15.2838990649354,7.19249108020058 15.3705462405702,6.99456656547992 Q15.4710479022511,6.76499482847765 15.555848418953,6.53053381443338 Q15.6293410875024,6.32733734508333 15.6908398354807,6.12101489646327 Q15.7582996840502,5.89469352248478 15.811151998362,5.66520400901477 Q15.858001700426,5.46177837907041 15.8932743283624,5.25628456535619 Q15.9234569772515,5.08044431780161 15.9451194504346,4.90333416558016 Q15.9730560934491,4.67492704627213 15.9867773968648,4.44479362169134 Q16.0034165941822,4.16572133934909 15.9991176647554,3.88472444785707 Q15.9950908430473,3.62151371089842 15.9726972179107,3.35708697651958 Q15.9526619394994,3.12050789606779 15.9179459679384,2.88322942110747 Q15.882312030686,2.63967678789829 15.83124032874,2.39559405324708 Q15.7875158480249,2.1866252815493 15.7324953373768,1.97736550244011 Q15.6648912559291,1.72024656653811 15.5802540161198,1.46276838245011 Q15.4968741501039,1.20911530326591 15.3969639315714,0.955118442554341 Q15.3045821236361,0.720260691795003 15.1980404233408,0.485042552463534 Q15.0759331774567,0.215459477516022 14.935136668034,-0.0547900505028633 Q14.7784251600096,-0.355587358989756 14.5983261379963,-0.657651595836769 Q14.4326365303214,-0.935548190367364 14.2468180712942,-1.21507534194023 Q13.9287667177733,-1.69352075241799 13.5495204141351,-2.17993676735823 Q13.228806301099,-2.59128021171493 12.8611063340419,-3.0124517446707 Q12.1591087582907,-3.81653502342836 11.2483797084418,-4.69658759121086 Q10.4733210891135,-5.44553957449827 9.42454171069957,-6.36494199823616 Q8.84072932123853,-6.87673555265406 7.788610883906,-7.77268471082305 Q6.43199730758967,-8.92793182800395 5.86781215340663,-9.42143310902599 Q4.99911290579133,-10.1812974697638 4.33114177564245,-10.8099404645036 Q3.70609091742599,-11.3981902041088 3.18523060681885,-11.9373159451196 Q2.65398052055043,-12.4871958084704 2.2119638126538,-13.0054355175612 Q1.84652002656313,-13.4338977860892 1.53818480616621,-13.8451114872961 Q1.35658899707246,-14.0872981719213 1.19468144267213,-14.3236430665681 Q1.01229440141544,-14.5898829354267 0.855250034700979,-14.8481696259238 Q0.710327112506176,-15.0865204992088 0.587635439099838,-15.317016364333 Q0.482522452421447,-15.5144878644567 0.394395445017321,-15.7049318068687 Q0.31840843950407,-15.869141001397 0.255658210448299,-16.0268054813404 Q0.189432844334108,-16.1932014939857 0.138853346014398,-16.3499815211115 Q0.0926197731189966,-16.4932905900716 0.0605744460923479,-16.625013082467 Q0.0353801389730772,-16.7285744199802 0.0199590858880895,-16.820733667613 Q0.00867700999654953,-16.8881575731122 0.00346592649802561,-16.9441272743669 Q0.000399281055259889,-16.9770646144295 2.49345880547808e-05,-16.9979165809901 Q0.000120167169769384,-16.9926119052863 -0.00120639179482519,-16.9723446290242 Q-0.00426775812446953,-16.9255728240776 -0.0129503651544767,-16.86557788734 Q-0.0227183511665687,-16.7980832165775 -0.0385454062196693,-16.7222898015959 Q-0.06004549711036,-16.6193290609179 -0.0915669504606278,-16.5067117118991 Q-0.132286979305915,-16.3612304217578 -0.188273154562518,-16.204902779091 Q-0.258831712369531,-16.0078853375281 -0.351810097949509,-15.7987840090959 Q-0.440000005976105,-15.6004516030464 -0.547194072845051,-15.3939437422104 Q-0.651340977758142,-15.193306195987 -0.772699085783482,-14.9863772240217 Q-0.910246809839973,-14.7518431694101 -1.0692413762151,-14.5103646821128 Q-1.22417112561029,-14.2750597759499 -1.39908931791318,-14.0337431312646 Q-1.76797104341055,-13.5248349433239 -2.22583196061482,-12.9891937151164 Q-2.65281454964278,-12.4896763511826 -3.16250584273345,-11.960865339223 Q-3.75455354091074,-11.3466085397729 -4.48484292020919,-10.6660006846297 Q-5.15417223354364,-10.0422057873649 -6.03462845747207,-9.27588577364818 Q-6.5518613566613,-8.82570334364281 -7.72688839874177,-7.82524124839609 Q-9.00011940672614,-6.74116461325269 -9.66659027493077,-6.1518575057301 Q-10.6800142168527,-5.25576742827941 -11.4416925502921,-4.5083632999628 Q-11.9256928826451,-4.03343335824615 -12.3453337586718,-3.58350021932445 Q-12.8421226311087,-3.05085006647637 -13.2630306985554,-2.53794032909005 Q-13.5888635034756,-2.14088731127246 -13.8734126595931,-1.7506997108797 Q-14.1158142868982,-1.41830684568896 -14.3296155195759,-1.08906603538983 Q-14.6222670714185,-0.638400560466284 -14.8629035091692,-0.191196762642277 Q-14.9849831812171,0.035678657752151 -15.093879517273,0.262018849814471 Q-15.1989501677438,0.48040738398381 -15.2918143665365,0.698434979814885 Q-15.4099383650006,0.975767813457227 -15.5083731080758,1.25265889367945 Q-15.596037025423,1.49925228146578 -15.6680979222918,1.74552862415746 Q-15.7452025309944,2.00904242791343 -15.8044279558644,2.27213565719569 Q-15.8673099421169,2.55147218982739 -15.9099982659839,2.83015436556823 Q-15.9467996846554,3.07040505935725 -15.9685614040832,3.30996314026493 Q-15.9881495049069,3.52559352082962 -15.9955342067788,3.74046434121497 Q-16.0051232678424,4.01947484877545 -15.9941254637899,4.2967472393645 Q-15.9844330208493,4.54110936947305 -15.958768035937,4.78366431573383 Q-15.9275621653641,5.07858513044192 -15.8728386332033,5.37000215623899 Q-15.8278093231867,5.60979493058336 -15.7669750538715,5.84656658453498 Q-15.721016172269,6.02544208568407 -15.6661182996239,6.20226632422338 Q-15.6208315317082,6.34813351117917 -15.5695193619767,6.49241673134215 Q-15.4613890101118,6.79646537021361 -15.3269801205853,7.09222815454625 Q-15.2212449367798,7.32489529787583 -15.0996951958763,7.55142914467109 Q-14.9588348202878,7.81395247467492 -14.7974725228564,8.0668861942751 Q-14.6745800019696,8.25951894005113 -14.5402766384116,8.44582208248948 Q-14.3933701098356,8.64960810238759 -14.2334198263091,8.84498132868387 Q-14.0945594532161,9.01459402644063 -13.9463689488664,9.17725000648766 Q-13.7735280755873,9.36696257787514 -13.588753931665,9.54638613301087 Q-13.4189681105967,9.71125538896335 -13.23982095404,9.86674014639278 Q-13.0625216805617,10.0206210957701 -12.8767644199624,10.1646925661538 Q-12.6944389535778,10.3061023713246 -12.5046728111778,10.4375123135825 Q-12.3142699757146,10.5693631553476 -12.1171076375409,10.6906405650386 Q-11.9213331232265,10.811064304174 -11.7196291899761,10.9206103014377 Q-11.509884893371,11.0345230436026 -11.2945462865961,11.1362305693748 Q-11.0736106685721,11.2405816441808 -10.8476757705343,11.3316650627413 Q-10.6451233054253,11.4133220848312 -10.4392342246826,11.4840381672923 Q-10.2480502354789,11.5497035376801 -10.0545178054937,11.605752174849 Q-9.87842747053587,11.6567494330024 -9.70078839955957,11.699669661687 Q-9.51646003889087,11.7442061217657 -9.33086927650686,11.7799481442673 Q-9.13248730736292,11.8181535630821 -8.933139388093,11.846219406851 Q-8.71465712197788,11.8769791417381 -8.49561748097842,11.8954757888015 Q-8.29291726492743,11.9125926647188 -8.09024399409492,11.9191639457214 Q-7.78610008904026,11.9290252118723 -7.4833331334596,11.915111810162 Q-7.17318452623145,11.9008591908364 -6.86609005385436,11.8617329844013 Q-6.59503326929163,11.8271982575912 -6.32749985800465,11.7734249707618 Q-6.065591016902,11.7207822030116 -5.80803820752765,11.6498970887622 Q-5.55929013948285,11.5814352643096 -5.31546652781383,11.4961928265364 Q-5.10668790644988,11.4232023621669 -4.90208243255889,11.3381020157274 Q-4.65361227556304,11.2347572906909 -4.41212777878246,11.1139056578479 Q-4.19936350048537,11.0074271435513 -3.99268182769649,10.8876853593409 Q-3.75270580423463,10.7486543711102 -3.52182577913573,10.5922682144105 Q-3.32874675879168,10.4614864981576 -3.14265200973488,10.3189846901617 Q-2.96546888319985,10.183306945327 -2.79512566366148,10.0373935236474 Q-2.59954871236449,9.869865269557 -2.41370491741605,9.68946420864727 Q-2.19513433610818,9.47729481788262 -1.99121915187079,9.24849308724242 Q-1.80560573104341,9.04022673339448 -1.63321108031305,8.8193835024801 Q-1.48460042648279,8.62900835568098 -1.34656919353414,8.43025073001946 Q-1.22862003028138,8.26041021540489 -1.11890397474925,8.08517660112203 Q-0.95801857573265,7.82821758251459 -0.816175270753006,7.56186513162384 Q-0.660837400706088,7.27017267275816 -0.530605965747761,6.97155652900988 Q-0.428580116785493,6.73761481140916 -0.343519030901754,6.5029591230879 Q-0.261963346200934,6.27797368901832 -0.197516475528564,6.05656345647983 Q-0.136184858928778,5.84585582472599 -0.0920712402436369,5.64444995400555 Q-0.0534506179297929,5.46812299882186 -0.0298383755424187,5.30751615628668 Q-0.0115789781484796,5.18331854244193 -0.00400653952455051,5.08123174112462 Z\" fill=\"none\" id=\"bca9aa674fdf4b2bb226e1fab9a4624e\" stroke=\"red\" stroke-width=\".5\" transform=\"scale(1.25 -1.25)\"></path></clipPath><svg height=\"100\" viewBox=\"-25 -25 50 50\" x=\"0\" y=\"0\"><g style=\"clip-path: url(#clipid3)\"><g><rect fill=\"lightskyblue\" height=\"14.6%\" stroke=\"lightskyblue\" width=\"50\" x=\"-25\" y=\"-31.5%\"></rect><rect fill=\"lightpink\" height=\"14.6%\" stroke=\"lightpink\" width=\"50\" x=\"-25\" y=\"-16.9%\"></rect><rect fill=\"white\" height=\"14.6%\" stroke=\"white\" width=\"50\" x=\"-25\" y=\"-2.3000000000000007%\"></rect><rect fill=\"lightpink\" height=\"14.6%\" stroke=\"lightpink\" width=\"50\" x=\"-25\" y=\"12.299999999999997%\"></rect><rect fill=\"lightskyblue\" height=\"14.6%\" stroke=\"lightskyblue\" width=\"50\" x=\"-25\" y=\"26.9%\"></rect></g></g></svg><svg height=\"100\" viewBox=\"-25 -25 50 50\" x=\"90\" y=\"0\"><g style=\"clip-path: url(#clipid3)\"><g><rect fill=\"forestgreen\" height=\"24.333333333333332%\" stroke=\"forestgreen\" width=\"50\" x=\"-25\" y=\"-31.5%\"></rect><rect fill=\"white\" height=\"24.333333333333332%\" stroke=\"white\" width=\"50\" x=\"-25\" y=\"-7.166666666666668%\"></rect><rect fill=\"purple\" height=\"24.333333333333332%\" stroke=\"purple\" width=\"50\" x=\"-25\" y=\"17.166666666666664%\"></rect></g></g></svg><svg height=\"100\" viewBox=\"-25 -25 50 50\" x=\"180\" y=\"0\"><g style=\"clip-path: url(#clipid3)\"><g><rect fill=\"red\" height=\"9.125%\" stroke=\"red\" width=\"50\" x=\"-25\" y=\"-31.5%\"></rect><rect fill=\"orange\" height=\"9.125%\" stroke=\"orange\" width=\"50\" x=\"-25\" y=\"-22.375%\"></rect><rect fill=\"yellow\" height=\"9.125%\" stroke=\"yellow\" width=\"50\" x=\"-25\" y=\"-13.25%\"></rect><rect fill=\"green\" height=\"9.125%\" stroke=\"green\" width=\"50\" x=\"-25\" y=\"-4.125%\"></rect><rect fill=\"blue\" height=\"9.125%\" stroke=\"blue\" width=\"50\" x=\"-25\" y=\"5.0%\"></rect><rect fill=\"purple\" height=\"9.125%\" stroke=\"purple\" width=\"50\" x=\"-25\" y=\"14.125%\"></rect><rect fill=\"brown\" height=\"9.125%\" stroke=\"brown\" width=\"50\" x=\"-25\" y=\"23.25%\"></rect><rect fill=\"black\" height=\"9.125%\" stroke=\"black\" width=\"50\" x=\"-25\" y=\"32.375%\"></rect></g></g></svg><svg height=\"100\" viewBox=\"-25 -25 50 50\" x=\"0\" y=\"90\"><g style=\"clip-path: url(#clipid3)\"><g><rect fill=\"black\" height=\"10.428571428571429%\" stroke=\"black\" width=\"50\" x=\"-25\" y=\"-31.5%\"></rect><rect fill=\"lightgrey\" height=\"10.428571428571429%\" stroke=\"lightgrey\" width=\"50\" x=\"-25\" y=\"-21.07142857142857%\"></rect><rect fill=\"white\" height=\"10.428571428571429%\" stroke=\"white\" width=\"50\" x=\"-25\" y=\"-10.642857142857142%\"></rect><rect fill=\"chartreuse\" height=\"10.428571428571429%\" stroke=\"chartreuse\" width=\"50\" x=\"-25\" y=\"-0.2142857142857153%\"></rect><rect fill=\"white\" height=\"10.428571428571429%\" stroke=\"white\" width=\"50\" x=\"-25\" y=\"10.214285714285715%\"></rect><rect fill=\"lightgrey\" height=\"10.428571428571429%\" stroke=\"lightgrey\" width=\"50\" x=\"-25\" y=\"20.642857142857146%\"></rect><rect fill=\"black\" height=\"10.428571428571429%\" stroke=\"black\" width=\"50\" x=\"-25\" y=\"31.07142857142857%\"></rect></g></g></svg><svg height=\"100\" viewBox=\"-25 -25 50 50\" x=\"90\" y=\"90\"><g style=\"clip-path: url(#clipid3)\"><g><rect fill=\"black\" height=\"18.25%\" stroke=\"black\" width=\"50\" x=\"-25\" y=\"-31.5%\"></rect><rect fill=\"lightgrey\" height=\"18.25%\" stroke=\"lightgrey\" width=\"50\" x=\"-25\" y=\"-13.25%\"></rect><rect fill=\"white\" height=\"18.25%\" stroke=\"white\" width=\"50\" x=\"-25\" y=\"5.0%\"></rect><rect fill=\"purple\" height=\"18.25%\" stroke=\"purple\" width=\"50\" x=\"-25\" y=\"23.25%\"></rect></g></g></svg><svg height=\"100\" viewBox=\"-25 -25 50 50\" x=\"180\" y=\"90\"><g style=\"clip-path: url(#clipid3)\"><g><rect fill=\"deeppink\" height=\"14.6%\" stroke=\"deeppink\" width=\"50\" x=\"-25\" y=\"-31.5%\"></rect><rect fill=\"deeppink\" height=\"14.6%\" stroke=\"deeppink\" width=\"50\" x=\"-25\" y=\"-16.9%\"></rect><rect fill=\"mediumpurple\" height=\"14.6%\" stroke=\"mediumpurple\" width=\"50\" x=\"-25\" y=\"-2.3000000000000007%\"></rect><rect fill=\"blue\" height=\"14.6%\" stroke=\"blue\" width=\"50\" x=\"-25\" y=\"12.299999999999997%\"></rect><rect fill=\"blue\" height=\"14.6%\" stroke=\"blue\" width=\"50\" x=\"-25\" y=\"26.9%\"></rect></g></g></svg><svg height=\"100\" viewBox=\"-25 -25 50 50\" x=\"0\" y=\"180\"><g style=\"clip-path: url(#clipid3)\"><g><rect fill=\"#ffef00\" height=\"18.25%\" stroke=\"#ffef00\" width=\"50\" x=\"-25\" y=\"-31.5%\"></rect><rect fill=\"white\" height=\"18.25%\" stroke=\"white\" width=\"50\" x=\"-25\" y=\"-13.25%\"></rect><rect fill=\"#9C59D1\" height=\"18.25%\" stroke=\"#9C59D1\" width=\"50\" x=\"-25\" y=\"5.0%\"></rect><rect fill=\"black\" height=\"18.25%\" stroke=\"black\" width=\"50\" x=\"-25\" y=\"23.25%\"></rect></g></g></svg><svg height=\"100\" viewBox=\"-25 -25 50 50\" x=\"90\" y=\"180\"><g style=\"clip-path: url(#clipid3)\"><g><rect fill=\"#ff75a2\" height=\"14.6%\" stroke=\"#ff75a2\" width=\"50\" x=\"-25\" y=\"-31.5%\"></rect><rect fill=\"white\" height=\"14.6%\" stroke=\"white\" width=\"50\" x=\"-25\" y=\"-16.9%\"></rect><rect fill=\"#be18d6\" height=\"14.6%\" stroke=\"#be18d6\" width=\"50\" x=\"-25\" y=\"-2.3000000000000007%\"></rect><rect fill=\"black\" height=\"14.6%\" stroke=\"black\" width=\"50\" x=\"-25\" y=\"12.299999999999997%\"></rect><rect fill=\"mediumblue\" height=\"14.6%\" stroke=\"mediumblue\" width=\"50\" x=\"-25\" y=\"26.9%\"></rect></g></g></svg><svg height=\"100\" viewBox=\"-25 -25 50 50\" x=\"180\" y=\"180\"><g style=\"clip-path: url(#clipid3)\"><g><rect fill=\"deeppink\" height=\"24.333333333333332%\" stroke=\"deeppink\" width=\"50\" x=\"-25\" y=\"-31.5%\"></rect><rect fill=\"gold\" height=\"24.333333333333332%\" stroke=\"gold\" width=\"50\" x=\"-25\" y=\"-7.166666666666668%\"></rect><rect fill=\"deepskyblue\" height=\"24.333333333333332%\" stroke=\"deepskyblue\" width=\"50\" x=\"-25\" y=\"17.166666666666664%\"></rect></g></g></svg><svg height=\"100\" viewBox=\"-25 -25 50 50\" x=\"0\" y=\"270\"><g style=\"clip-path: url(#clipid3)\"><g><rect fill=\"#f61cb9\" height=\"24.333333333333332%\" stroke=\"#f61cb9\" width=\"50\" x=\"-25\" y=\"-31.5%\"></rect><rect fill=\"#07d569\" height=\"24.333333333333332%\" stroke=\"#07d569\" width=\"50\" x=\"-25\" y=\"-7.166666666666668%\"></rect><rect fill=\"dodgerblue\" height=\"24.333333333333332%\" stroke=\"dodgerblue\" width=\"50\" x=\"-25\" y=\"17.166666666666664%\"></rect></g></g></svg><svg height=\"100\" viewBox=\"-25 -25 50 50\" x=\"90\" y=\"270\"><g style=\"clip-path: url(#clipid3)\"><g><rect fill=\"#3da542\" height=\"14.6%\" stroke=\"#3da542\" width=\"50\" x=\"-25\" y=\"-31.5%\"></rect><rect fill=\"#a7d379\" height=\"14.6%\" stroke=\"#a7d379\" width=\"50\" x=\"-25\" y=\"-16.9%\"></rect><rect fill=\"white\" height=\"14.6%\" stroke=\"white\" width=\"50\" x=\"-25\" y=\"-2.3000000000000007%\"></rect><rect fill=\"lightgrey\" height=\"14.6%\" stroke=\"lightgrey\" width=\"50\" x=\"-25\" y=\"12.299999999999997%\"></rect><rect fill=\"black\" height=\"14.6%\" stroke=\"black\" width=\"50\" x=\"-25\" y=\"26.9%\"></rect></g></g></svg><svg height=\"100\" viewBox=\"-25 -25 50 50\" x=\"180\" y=\"270\"><g style=\"clip-path: url(#clipid3)\"><g><rect fill=\"#A60061\" height=\"10.428571428571429%\" stroke=\"#A60061\" width=\"50\" x=\"-25\" y=\"-31.5%\"></rect><rect fill=\"#B95393\" height=\"10.428571428571429%\" stroke=\"#B95393\" width=\"50\" x=\"-25\" y=\"-21.07142857142857%\"></rect><rect fill=\"#D260A7\" height=\"10.428571428571429%\" stroke=\"#D260A7\" width=\"50\" x=\"-25\" y=\"-10.642857142857142%\"></rect><rect fill=\"#EDEDEB\" height=\"10.428571428571429%\" stroke=\"#EDEDEB\" width=\"50\" x=\"-25\" y=\"-0.2142857142857153%\"></rect><rect fill=\"#E5ABD0\" height=\"10.428571428571429%\" stroke=\"#E5ABD0\" width=\"50\" x=\"-25\" y=\"10.214285714285715%\"></rect><rect fill=\"#C74D52\" height=\"10.428571428571429%\" stroke=\"#C74D52\" width=\"50\" x=\"-25\" y=\"20.642857142857146%\"></rect><rect fill=\"#8C1D00\" height=\"10.428571428571429%\" stroke=\"#8C1D00\" width=\"50\" x=\"-25\" y=\"31.07142857142857%\"></rect></g></g></svg><svg height=\"100\" viewBox=\"-25 -25 50 50\" x=\"0\" y=\"360\"><g style=\"clip-path: url(#clipid3)\"><g><rect fill=\"gold\" height=\"73.0%\" stroke=\"gold\" width=\"50\" x=\"-25\" y=\"-31.5%\"></rect><circle cx=\"0\" cy=\"2\" fill=\"transparent\" r=\"5\" stroke=\"purple\" stroke-width=\"2.5\"></circle></g></g></svg><svg height=\"100\" viewBox=\"-25 -25 50 50\" x=\"90\" y=\"360\"><g style=\"clip-path: url(#clipid3)\"><g><rect fill=\"blue\" height=\"24.333333333333332%\" stroke=\"blue\" width=\"50\" x=\"-25\" y=\"-31.5%\"></rect><rect fill=\"red\" height=\"24.333333333333332%\" stroke=\"red\" width=\"50\" x=\"-25\" y=\"-7.166666666666668%\"></rect><rect fill=\"black\" height=\"24.333333333333332%\" stroke=\"black\" width=\"50\" x=\"-25\" y=\"17.166666666666664%\"></rect><text fill=\"yellow\" font-family=\"Minion Pro\" text-anchor=\"middle\" y=\"4.5\">π</text></g></g></svg></svg>"
      ],
      "text/plain": [
       "<svg viewBox=\"200 0 500 500\" width=\"360\"><clipPath id=\"clipid3\" stroke=\"black\"><path d=\"M0.0,5.0 Q2.26480878769362e-09,5.01935203545116 0.00240468499265089,5.05784209373124 Q0.00617678614768245,5.11821945317385 0.0144892681784808,5.19071052417724 Q0.0249796452381706,5.28219447150715 0.0416669391001586,5.38322902221801 Q0.0625689845764014,5.50978212250472 0.0921242540272451,5.64469196933818 Q0.129325564905271,5.81450341906648 0.178888071354544,5.99135494886849 Q0.227032997926876,6.16314819595208 0.285852572783466,6.33796304924934 Q0.345659522697073,6.51571243286517 0.415701700411068,6.69417844133358 Q0.487743067528425,6.87773834271958 0.569888188951648,7.06019887319993 Q0.692043825721294,7.33153065651206 0.834806300015498,7.59665683949396 Q0.918421740467044,7.75194024064588 1.00862101667763,7.90415568501767 Q1.12167926629051,8.09494670272544 1.24449884261148,8.27994312284276 Q1.44189780344349,8.57727439675439 1.66250874377508,8.85670281234556 Q1.80054060640138,9.03153559541965 1.94694688614682,9.19842404729501 Q2.08999423977703,9.36148366081515 2.24054566891579,9.51639833059041 Q2.48490085256662,9.76783534981824 2.74741879975013,9.99621086079807 Q3.01662696842382,10.2304064795754 3.30291999709097,10.4385942042024 Q3.46972317871875,10.5598908176942 3.64179542494331,10.6719572214367 Q3.79857226878001,10.7740621074039 3.95941554482475,10.8683033405894 Q4.13334243392154,10.9702105195257 4.31166833497306,11.0627149706127 Q4.47604708828145,11.1479845038409 4.64386151028959,11.2251070150907 Q4.80544594869858,11.299366411392 4.96995032351617,11.3659501831024 Q5.16725965014621,11.4458118838945 5.36835311845226,11.5144650549576 Q5.56561833961004,11.5818112650908 5.7660857806164,11.6382214352365 Q5.93594304380552,11.6860181101922 6.10780540394526,11.7258795037075 Q6.3802811445957,11.7890769525997 6.65689783599178,11.8321328272072 Q6.88756600251257,11.8680367330906 7.12039035026157,11.8898178268749 Q7.33575429714658,11.9099654719568 7.5524023719199,11.9179755377665 Q7.78903411552322,11.9267244539104 8.02650188595541,11.9209696911957 Q8.31148267851657,11.9140635041521 8.59647282523938,11.8863060110558 Q8.84172783653293,11.8624186438571 9.08605624824551,11.8231757557194 Q9.29602775102361,11.7894511138005 9.5047004646898,11.7444820539865 Q9.73546771599974,11.6947516117789 9.96389320433066,11.631434414029 Q10.2137994798527,11.5621629628359 10.4598847954114,11.4769149350853 Q10.7426952738113,11.3789447028671 11.0189146985215,11.2604175545564 Q11.2783606307036,11.14908799649 11.5305552606758,11.0202359184706 Q11.8305962880828,10.8669380077389 12.1182124982183,10.6899608334626 Q12.3086605446971,10.5727735681955 12.4928101128895,10.4457122376404 Q12.7138340887796,10.2932079405257 12.9247407405014,10.1272078034175 Q13.1164494580624,9.97631795172166 13.2989309836935,9.81495653041487 Q13.4993501715355,9.63773352169933 13.6876496499027,9.44875874377583 Q13.8259025844505,9.31000999189398 13.9571663998683,9.16537567684822 Q14.0895559130142,9.01950100078341 14.2144709921875,8.86804150073268 Q14.3647042289743,8.68588374135466 14.50359102542,8.496302620215 Q14.6242491373507,8.33160373796121 14.7359701511584,8.16180777241553 Q14.8556947497797,7.9798477889744 14.9647911861361,7.79259020255814 Q15.0815966885041,7.5921004598673 15.1858302302757,7.38620717426887 Q15.2838990649354,7.19249108020058 15.3705462405702,6.99456656547992 Q15.4710479022511,6.76499482847765 15.555848418953,6.53053381443338 Q15.6293410875024,6.32733734508333 15.6908398354807,6.12101489646327 Q15.7582996840502,5.89469352248478 15.811151998362,5.66520400901477 Q15.858001700426,5.46177837907041 15.8932743283624,5.25628456535619 Q15.9234569772515,5.08044431780161 15.9451194504346,4.90333416558016 Q15.9730560934491,4.67492704627213 15.9867773968648,4.44479362169134 Q16.0034165941822,4.16572133934909 15.9991176647554,3.88472444785707 Q15.9950908430473,3.62151371089842 15.9726972179107,3.35708697651958 Q15.9526619394994,3.12050789606779 15.9179459679384,2.88322942110747 Q15.882312030686,2.63967678789829 15.83124032874,2.39559405324708 Q15.7875158480249,2.1866252815493 15.7324953373768,1.97736550244011 Q15.6648912559291,1.72024656653811 15.5802540161198,1.46276838245011 Q15.4968741501039,1.20911530326591 15.3969639315714,0.955118442554341 Q15.3045821236361,0.720260691795003 15.1980404233408,0.485042552463534 Q15.0759331774567,0.215459477516022 14.935136668034,-0.0547900505028633 Q14.7784251600096,-0.355587358989756 14.5983261379963,-0.657651595836769 Q14.4326365303214,-0.935548190367364 14.2468180712942,-1.21507534194023 Q13.9287667177733,-1.69352075241799 13.5495204141351,-2.17993676735823 Q13.228806301099,-2.59128021171493 12.8611063340419,-3.0124517446707 Q12.1591087582907,-3.81653502342836 11.2483797084418,-4.69658759121086 Q10.4733210891135,-5.44553957449827 9.42454171069957,-6.36494199823616 Q8.84072932123853,-6.87673555265406 7.788610883906,-7.77268471082305 Q6.43199730758967,-8.92793182800395 5.86781215340663,-9.42143310902599 Q4.99911290579133,-10.1812974697638 4.33114177564245,-10.8099404645036 Q3.70609091742599,-11.3981902041088 3.18523060681885,-11.9373159451196 Q2.65398052055043,-12.4871958084704 2.2119638126538,-13.0054355175612 Q1.84652002656313,-13.4338977860892 1.53818480616621,-13.8451114872961 Q1.35658899707246,-14.0872981719213 1.19468144267213,-14.3236430665681 Q1.01229440141544,-14.5898829354267 0.855250034700979,-14.8481696259238 Q0.710327112506176,-15.0865204992088 0.587635439099838,-15.317016364333 Q0.482522452421447,-15.5144878644567 0.394395445017321,-15.7049318068687 Q0.31840843950407,-15.869141001397 0.255658210448299,-16.0268054813404 Q0.189432844334108,-16.1932014939857 0.138853346014398,-16.3499815211115 Q0.0926197731189966,-16.4932905900716 0.0605744460923479,-16.625013082467 Q0.0353801389730772,-16.7285744199802 0.0199590858880895,-16.820733667613 Q0.00867700999654953,-16.8881575731122 0.00346592649802561,-16.9441272743669 Q0.000399281055259889,-16.9770646144295 2.49345880547808e-05,-16.9979165809901 Q0.000120167169769384,-16.9926119052863 -0.00120639179482519,-16.9723446290242 Q-0.00426775812446953,-16.9255728240776 -0.0129503651544767,-16.86557788734 Q-0.0227183511665687,-16.7980832165775 -0.0385454062196693,-16.7222898015959 Q-0.06004549711036,-16.6193290609179 -0.0915669504606278,-16.5067117118991 Q-0.132286979305915,-16.3612304217578 -0.188273154562518,-16.204902779091 Q-0.258831712369531,-16.0078853375281 -0.351810097949509,-15.7987840090959 Q-0.440000005976105,-15.6004516030464 -0.547194072845051,-15.3939437422104 Q-0.651340977758142,-15.193306195987 -0.772699085783482,-14.9863772240217 Q-0.910246809839973,-14.7518431694101 -1.0692413762151,-14.5103646821128 Q-1.22417112561029,-14.2750597759499 -1.39908931791318,-14.0337431312646 Q-1.76797104341055,-13.5248349433239 -2.22583196061482,-12.9891937151164 Q-2.65281454964278,-12.4896763511826 -3.16250584273345,-11.960865339223 Q-3.75455354091074,-11.3466085397729 -4.48484292020919,-10.6660006846297 Q-5.15417223354364,-10.0422057873649 -6.03462845747207,-9.27588577364818 Q-6.5518613566613,-8.82570334364281 -7.72688839874177,-7.82524124839609 Q-9.00011940672614,-6.74116461325269 -9.66659027493077,-6.1518575057301 Q-10.6800142168527,-5.25576742827941 -11.4416925502921,-4.5083632999628 Q-11.9256928826451,-4.03343335824615 -12.3453337586718,-3.58350021932445 Q-12.8421226311087,-3.05085006647637 -13.2630306985554,-2.53794032909005 Q-13.5888635034756,-2.14088731127246 -13.8734126595931,-1.7506997108797 Q-14.1158142868982,-1.41830684568896 -14.3296155195759,-1.08906603538983 Q-14.6222670714185,-0.638400560466284 -14.8629035091692,-0.191196762642277 Q-14.9849831812171,0.035678657752151 -15.093879517273,0.262018849814471 Q-15.1989501677438,0.48040738398381 -15.2918143665365,0.698434979814885 Q-15.4099383650006,0.975767813457227 -15.5083731080758,1.25265889367945 Q-15.596037025423,1.49925228146578 -15.6680979222918,1.74552862415746 Q-15.7452025309944,2.00904242791343 -15.8044279558644,2.27213565719569 Q-15.8673099421169,2.55147218982739 -15.9099982659839,2.83015436556823 Q-15.9467996846554,3.07040505935725 -15.9685614040832,3.30996314026493 Q-15.9881495049069,3.52559352082962 -15.9955342067788,3.74046434121497 Q-16.0051232678424,4.01947484877545 -15.9941254637899,4.2967472393645 Q-15.9844330208493,4.54110936947305 -15.958768035937,4.78366431573383 Q-15.9275621653641,5.07858513044192 -15.8728386332033,5.37000215623899 Q-15.8278093231867,5.60979493058336 -15.7669750538715,5.84656658453498 Q-15.721016172269,6.02544208568407 -15.6661182996239,6.20226632422338 Q-15.6208315317082,6.34813351117917 -15.5695193619767,6.49241673134215 Q-15.4613890101118,6.79646537021361 -15.3269801205853,7.09222815454625 Q-15.2212449367798,7.32489529787583 -15.0996951958763,7.55142914467109 Q-14.9588348202878,7.81395247467492 -14.7974725228564,8.0668861942751 Q-14.6745800019696,8.25951894005113 -14.5402766384116,8.44582208248948 Q-14.3933701098356,8.64960810238759 -14.2334198263091,8.84498132868387 Q-14.0945594532161,9.01459402644063 -13.9463689488664,9.17725000648766 Q-13.7735280755873,9.36696257787514 -13.588753931665,9.54638613301087 Q-13.4189681105967,9.71125538896335 -13.23982095404,9.86674014639278 Q-13.0625216805617,10.0206210957701 -12.8767644199624,10.1646925661538 Q-12.6944389535778,10.3061023713246 -12.5046728111778,10.4375123135825 Q-12.3142699757146,10.5693631553476 -12.1171076375409,10.6906405650386 Q-11.9213331232265,10.811064304174 -11.7196291899761,10.9206103014377 Q-11.509884893371,11.0345230436026 -11.2945462865961,11.1362305693748 Q-11.0736106685721,11.2405816441808 -10.8476757705343,11.3316650627413 Q-10.6451233054253,11.4133220848312 -10.4392342246826,11.4840381672923 Q-10.2480502354789,11.5497035376801 -10.0545178054937,11.605752174849 Q-9.87842747053587,11.6567494330024 -9.70078839955957,11.699669661687 Q-9.51646003889087,11.7442061217657 -9.33086927650686,11.7799481442673 Q-9.13248730736292,11.8181535630821 -8.933139388093,11.846219406851 Q-8.71465712197788,11.8769791417381 -8.49561748097842,11.8954757888015 Q-8.29291726492743,11.9125926647188 -8.09024399409492,11.9191639457214 Q-7.78610008904026,11.9290252118723 -7.4833331334596,11.915111810162 Q-7.17318452623145,11.9008591908364 -6.86609005385436,11.8617329844013 Q-6.59503326929163,11.8271982575912 -6.32749985800465,11.7734249707618 Q-6.065591016902,11.7207822030116 -5.80803820752765,11.6498970887622 Q-5.55929013948285,11.5814352643096 -5.31546652781383,11.4961928265364 Q-5.10668790644988,11.4232023621669 -4.90208243255889,11.3381020157274 Q-4.65361227556304,11.2347572906909 -4.41212777878246,11.1139056578479 Q-4.19936350048537,11.0074271435513 -3.99268182769649,10.8876853593409 Q-3.75270580423463,10.7486543711102 -3.52182577913573,10.5922682144105 Q-3.32874675879168,10.4614864981576 -3.14265200973488,10.3189846901617 Q-2.96546888319985,10.183306945327 -2.79512566366148,10.0373935236474 Q-2.59954871236449,9.869865269557 -2.41370491741605,9.68946420864727 Q-2.19513433610818,9.47729481788262 -1.99121915187079,9.24849308724242 Q-1.80560573104341,9.04022673339448 -1.63321108031305,8.8193835024801 Q-1.48460042648279,8.62900835568098 -1.34656919353414,8.43025073001946 Q-1.22862003028138,8.26041021540489 -1.11890397474925,8.08517660112203 Q-0.95801857573265,7.82821758251459 -0.816175270753006,7.56186513162384 Q-0.660837400706088,7.27017267275816 -0.530605965747761,6.97155652900988 Q-0.428580116785493,6.73761481140916 -0.343519030901754,6.5029591230879 Q-0.261963346200934,6.27797368901832 -0.197516475528564,6.05656345647983 Q-0.136184858928778,5.84585582472599 -0.0920712402436369,5.64444995400555 Q-0.0534506179297929,5.46812299882186 -0.0298383755424187,5.30751615628668 Q-0.0115789781484796,5.18331854244193 -0.00400653952455051,5.08123174112462 Z\" fill=\"none\" id=\"bca9aa674fdf4b2bb226e1fab9a4624e\" stroke=\"red\" stroke-width=\".5\" transform=\"scale(1.25 -1.25)\"></path></clipPath><svg height=\"100\" viewBox=\"-25 -25 50 50\" x=\"0\" y=\"0\"><g style=\"clip-path: url(#clipid3)\"><g><rect fill=\"lightskyblue\" height=\"14.6%\" stroke=\"lightskyblue\" width=\"50\" x=\"-25\" y=\"-31.5%\"></rect><rect fill=\"lightpink\" height=\"14.6%\" stroke=\"lightpink\" width=\"50\" x=\"-25\" y=\"-16.9%\"></rect><rect fill=\"white\" height=\"14.6%\" stroke=\"white\" width=\"50\" x=\"-25\" y=\"-2.3000000000000007%\"></rect><rect fill=\"lightpink\" height=\"14.6%\" stroke=\"lightpink\" width=\"50\" x=\"-25\" y=\"12.299999999999997%\"></rect><rect fill=\"lightskyblue\" height=\"14.6%\" stroke=\"lightskyblue\" width=\"50\" x=\"-25\" y=\"26.9%\"></rect></g></g></svg><svg height=\"100\" viewBox=\"-25 -25 50 50\" x=\"90\" y=\"0\"><g style=\"clip-path: url(#clipid3)\"><g><rect fill=\"forestgreen\" height=\"24.333333333333332%\" stroke=\"forestgreen\" width=\"50\" x=\"-25\" y=\"-31.5%\"></rect><rect fill=\"white\" height=\"24.333333333333332%\" stroke=\"white\" width=\"50\" x=\"-25\" y=\"-7.166666666666668%\"></rect><rect fill=\"purple\" height=\"24.333333333333332%\" stroke=\"purple\" width=\"50\" x=\"-25\" y=\"17.166666666666664%\"></rect></g></g></svg><svg height=\"100\" viewBox=\"-25 -25 50 50\" x=\"180\" y=\"0\"><g style=\"clip-path: url(#clipid3)\"><g><rect fill=\"red\" height=\"9.125%\" stroke=\"red\" width=\"50\" x=\"-25\" y=\"-31.5%\"></rect><rect fill=\"orange\" height=\"9.125%\" stroke=\"orange\" width=\"50\" x=\"-25\" y=\"-22.375%\"></rect><rect fill=\"yellow\" height=\"9.125%\" stroke=\"yellow\" width=\"50\" x=\"-25\" y=\"-13.25%\"></rect><rect fill=\"green\" height=\"9.125%\" stroke=\"green\" width=\"50\" x=\"-25\" y=\"-4.125%\"></rect><rect fill=\"blue\" height=\"9.125%\" stroke=\"blue\" width=\"50\" x=\"-25\" y=\"5.0%\"></rect><rect fill=\"purple\" height=\"9.125%\" stroke=\"purple\" width=\"50\" x=\"-25\" y=\"14.125%\"></rect><rect fill=\"brown\" height=\"9.125%\" stroke=\"brown\" width=\"50\" x=\"-25\" y=\"23.25%\"></rect><rect fill=\"black\" height=\"9.125%\" stroke=\"black\" width=\"50\" x=\"-25\" y=\"32.375%\"></rect></g></g></svg><svg height=\"100\" viewBox=\"-25 -25 50 50\" x=\"0\" y=\"90\"><g style=\"clip-path: url(#clipid3)\"><g><rect fill=\"black\" height=\"10.428571428571429%\" stroke=\"black\" width=\"50\" x=\"-25\" y=\"-31.5%\"></rect><rect fill=\"lightgrey\" height=\"10.428571428571429%\" stroke=\"lightgrey\" width=\"50\" x=\"-25\" y=\"-21.07142857142857%\"></rect><rect fill=\"white\" height=\"10.428571428571429%\" stroke=\"white\" width=\"50\" x=\"-25\" y=\"-10.642857142857142%\"></rect><rect fill=\"chartreuse\" height=\"10.428571428571429%\" stroke=\"chartreuse\" width=\"50\" x=\"-25\" y=\"-0.2142857142857153%\"></rect><rect fill=\"white\" height=\"10.428571428571429%\" stroke=\"white\" width=\"50\" x=\"-25\" y=\"10.214285714285715%\"></rect><rect fill=\"lightgrey\" height=\"10.428571428571429%\" stroke=\"lightgrey\" width=\"50\" x=\"-25\" y=\"20.642857142857146%\"></rect><rect fill=\"black\" height=\"10.428571428571429%\" stroke=\"black\" width=\"50\" x=\"-25\" y=\"31.07142857142857%\"></rect></g></g></svg><svg height=\"100\" viewBox=\"-25 -25 50 50\" x=\"90\" y=\"90\"><g style=\"clip-path: url(#clipid3)\"><g><rect fill=\"black\" height=\"18.25%\" stroke=\"black\" width=\"50\" x=\"-25\" y=\"-31.5%\"></rect><rect fill=\"lightgrey\" height=\"18.25%\" stroke=\"lightgrey\" width=\"50\" x=\"-25\" y=\"-13.25%\"></rect><rect fill=\"white\" height=\"18.25%\" stroke=\"white\" width=\"50\" x=\"-25\" y=\"5.0%\"></rect><rect fill=\"purple\" height=\"18.25%\" stroke=\"purple\" width=\"50\" x=\"-25\" y=\"23.25%\"></rect></g></g></svg><svg height=\"100\" viewBox=\"-25 -25 50 50\" x=\"180\" y=\"90\"><g style=\"clip-path: url(#clipid3)\"><g><rect fill=\"deeppink\" height=\"14.6%\" stroke=\"deeppink\" width=\"50\" x=\"-25\" y=\"-31.5%\"></rect><rect fill=\"deeppink\" height=\"14.6%\" stroke=\"deeppink\" width=\"50\" x=\"-25\" y=\"-16.9%\"></rect><rect fill=\"mediumpurple\" height=\"14.6%\" stroke=\"mediumpurple\" width=\"50\" x=\"-25\" y=\"-2.3000000000000007%\"></rect><rect fill=\"blue\" height=\"14.6%\" stroke=\"blue\" width=\"50\" x=\"-25\" y=\"12.299999999999997%\"></rect><rect fill=\"blue\" height=\"14.6%\" stroke=\"blue\" width=\"50\" x=\"-25\" y=\"26.9%\"></rect></g></g></svg><svg height=\"100\" viewBox=\"-25 -25 50 50\" x=\"0\" y=\"180\"><g style=\"clip-path: url(#clipid3)\"><g><rect fill=\"#ffef00\" height=\"18.25%\" stroke=\"#ffef00\" width=\"50\" x=\"-25\" y=\"-31.5%\"></rect><rect fill=\"white\" height=\"18.25%\" stroke=\"white\" width=\"50\" x=\"-25\" y=\"-13.25%\"></rect><rect fill=\"#9C59D1\" height=\"18.25%\" stroke=\"#9C59D1\" width=\"50\" x=\"-25\" y=\"5.0%\"></rect><rect fill=\"black\" height=\"18.25%\" stroke=\"black\" width=\"50\" x=\"-25\" y=\"23.25%\"></rect></g></g></svg><svg height=\"100\" viewBox=\"-25 -25 50 50\" x=\"90\" y=\"180\"><g style=\"clip-path: url(#clipid3)\"><g><rect fill=\"#ff75a2\" height=\"14.6%\" stroke=\"#ff75a2\" width=\"50\" x=\"-25\" y=\"-31.5%\"></rect><rect fill=\"white\" height=\"14.6%\" stroke=\"white\" width=\"50\" x=\"-25\" y=\"-16.9%\"></rect><rect fill=\"#be18d6\" height=\"14.6%\" stroke=\"#be18d6\" width=\"50\" x=\"-25\" y=\"-2.3000000000000007%\"></rect><rect fill=\"black\" height=\"14.6%\" stroke=\"black\" width=\"50\" x=\"-25\" y=\"12.299999999999997%\"></rect><rect fill=\"mediumblue\" height=\"14.6%\" stroke=\"mediumblue\" width=\"50\" x=\"-25\" y=\"26.9%\"></rect></g></g></svg><svg height=\"100\" viewBox=\"-25 -25 50 50\" x=\"180\" y=\"180\"><g style=\"clip-path: url(#clipid3)\"><g><rect fill=\"deeppink\" height=\"24.333333333333332%\" stroke=\"deeppink\" width=\"50\" x=\"-25\" y=\"-31.5%\"></rect><rect fill=\"gold\" height=\"24.333333333333332%\" stroke=\"gold\" width=\"50\" x=\"-25\" y=\"-7.166666666666668%\"></rect><rect fill=\"deepskyblue\" height=\"24.333333333333332%\" stroke=\"deepskyblue\" width=\"50\" x=\"-25\" y=\"17.166666666666664%\"></rect></g></g></svg><svg height=\"100\" viewBox=\"-25 -25 50 50\" x=\"0\" y=\"270\"><g style=\"clip-path: url(#clipid3)\"><g><rect fill=\"#f61cb9\" height=\"24.333333333333332%\" stroke=\"#f61cb9\" width=\"50\" x=\"-25\" y=\"-31.5%\"></rect><rect fill=\"#07d569\" height=\"24.333333333333332%\" stroke=\"#07d569\" width=\"50\" x=\"-25\" y=\"-7.166666666666668%\"></rect><rect fill=\"dodgerblue\" height=\"24.333333333333332%\" stroke=\"dodgerblue\" width=\"50\" x=\"-25\" y=\"17.166666666666664%\"></rect></g></g></svg><svg height=\"100\" viewBox=\"-25 -25 50 50\" x=\"90\" y=\"270\"><g style=\"clip-path: url(#clipid3)\"><g><rect fill=\"#3da542\" height=\"14.6%\" stroke=\"#3da542\" width=\"50\" x=\"-25\" y=\"-31.5%\"></rect><rect fill=\"#a7d379\" height=\"14.6%\" stroke=\"#a7d379\" width=\"50\" x=\"-25\" y=\"-16.9%\"></rect><rect fill=\"white\" height=\"14.6%\" stroke=\"white\" width=\"50\" x=\"-25\" y=\"-2.3000000000000007%\"></rect><rect fill=\"lightgrey\" height=\"14.6%\" stroke=\"lightgrey\" width=\"50\" x=\"-25\" y=\"12.299999999999997%\"></rect><rect fill=\"black\" height=\"14.6%\" stroke=\"black\" width=\"50\" x=\"-25\" y=\"26.9%\"></rect></g></g></svg><svg height=\"100\" viewBox=\"-25 -25 50 50\" x=\"180\" y=\"270\"><g style=\"clip-path: url(#clipid3)\"><g><rect fill=\"#A60061\" height=\"10.428571428571429%\" stroke=\"#A60061\" width=\"50\" x=\"-25\" y=\"-31.5%\"></rect><rect fill=\"#B95393\" height=\"10.428571428571429%\" stroke=\"#B95393\" width=\"50\" x=\"-25\" y=\"-21.07142857142857%\"></rect><rect fill=\"#D260A7\" height=\"10.428571428571429%\" stroke=\"#D260A7\" width=\"50\" x=\"-25\" y=\"-10.642857142857142%\"></rect><rect fill=\"#EDEDEB\" height=\"10.428571428571429%\" stroke=\"#EDEDEB\" width=\"50\" x=\"-25\" y=\"-0.2142857142857153%\"></rect><rect fill=\"#E5ABD0\" height=\"10.428571428571429%\" stroke=\"#E5ABD0\" width=\"50\" x=\"-25\" y=\"10.214285714285715%\"></rect><rect fill=\"#C74D52\" height=\"10.428571428571429%\" stroke=\"#C74D52\" width=\"50\" x=\"-25\" y=\"20.642857142857146%\"></rect><rect fill=\"#8C1D00\" height=\"10.428571428571429%\" stroke=\"#8C1D00\" width=\"50\" x=\"-25\" y=\"31.07142857142857%\"></rect></g></g></svg><svg height=\"100\" viewBox=\"-25 -25 50 50\" x=\"0\" y=\"360\"><g style=\"clip-path: url(#clipid3)\"><g><rect fill=\"gold\" height=\"73.0%\" stroke=\"gold\" width=\"50\" x=\"-25\" y=\"-31.5%\"></rect><circle cx=\"0\" cy=\"2\" fill=\"transparent\" r=\"5\" stroke=\"purple\" stroke-width=\"2.5\"></circle></g></g></svg><svg height=\"100\" viewBox=\"-25 -25 50 50\" x=\"90\" y=\"360\"><g style=\"clip-path: url(#clipid3)\"><g><rect fill=\"blue\" height=\"24.333333333333332%\" stroke=\"blue\" width=\"50\" x=\"-25\" y=\"-31.5%\"></rect><rect fill=\"red\" height=\"24.333333333333332%\" stroke=\"red\" width=\"50\" x=\"-25\" y=\"-7.166666666666668%\"></rect><rect fill=\"black\" height=\"24.333333333333332%\" stroke=\"black\" width=\"50\" x=\"-25\" y=\"17.166666666666664%\"></rect><text fill=\"yellow\" font-family=\"Minion Pro\" text-anchor=\"middle\" y=\"4.5\">π</text></g></g></svg></svg>"
      ]
     },
     "execution_count": 39,
     "metadata": {},
     "output_type": "execute_result"
    }
   ],
   "source": [
    "heart_list = [clipPath(\n",
    "            gen_heart(),\n",
    "            **{\"id\":\"clipid3\", \"stroke\": \"black\"}),]\n",
    "for idx, color in enumerate(colors):\n",
    "    heart_list.append(svg(\n",
    "        group(flag(color, clipid=\"clipid3\", symbol = symbols[idx]), style={\"clip-path\":\"url(#clipid3)\"}), \n",
    "        x = f\"{90*(idx%3)}\",\n",
    "        y = f\"{0+90*math.floor(idx/3)}\",\n",
    "        height=\"100\",\n",
    "        viewBox=\"-25 -25 50 50\"))\n",
    "\n",
    "svg(*heart_list, width=f\"{90*4}\", viewBox=\"200 0 500 500\")\n",
    "    "
   ]
  },
  {
   "cell_type": "code",
   "execution_count": 33,
   "metadata": {},
   "outputs": [
    {
     "ename": "NameError",
     "evalue": "name 'colors' is not defined",
     "output_type": "error",
     "traceback": [
      "\u001b[0;31m---------------------------------------------------------------------------\u001b[0m",
      "\u001b[0;31mNameError\u001b[0m                                 Traceback (most recent call last)",
      "\u001b[0;32m<ipython-input-33-25a99d51b755>\u001b[0m in \u001b[0;36m<module>\u001b[0;34m\u001b[0m\n\u001b[1;32m      2\u001b[0m             \u001b[0mgen_heart\u001b[0m\u001b[0;34m(\u001b[0m\u001b[0;34m)\u001b[0m\u001b[0;34m,\u001b[0m\u001b[0;34m\u001b[0m\u001b[0m\n\u001b[1;32m      3\u001b[0m             **{\"id\":\"clipid3\", \"stroke\": \"black\"}),]\n\u001b[0;32m----> 4\u001b[0;31m \u001b[0;32mfor\u001b[0m \u001b[0midx\u001b[0m\u001b[0;34m,\u001b[0m \u001b[0mcolor\u001b[0m \u001b[0;32min\u001b[0m \u001b[0menumerate\u001b[0m\u001b[0;34m(\u001b[0m\u001b[0mcolors\u001b[0m\u001b[0;34m)\u001b[0m\u001b[0;34m:\u001b[0m\u001b[0;34m\u001b[0m\u001b[0m\n\u001b[0m\u001b[1;32m      5\u001b[0m     heart_list.append(svg(\n\u001b[1;32m      6\u001b[0m         \u001b[0mgrouping\u001b[0m\u001b[0;34m(\u001b[0m\u001b[0mflag\u001b[0m\u001b[0;34m(\u001b[0m\u001b[0mcolor\u001b[0m\u001b[0;34m,\u001b[0m \u001b[0mclipid\u001b[0m\u001b[0;34m=\u001b[0m\u001b[0;34m\"clipid3\"\u001b[0m\u001b[0;34m,\u001b[0m \u001b[0msymbol\u001b[0m \u001b[0;34m=\u001b[0m \u001b[0msymbols\u001b[0m\u001b[0;34m[\u001b[0m\u001b[0midx\u001b[0m\u001b[0;34m]\u001b[0m\u001b[0;34m)\u001b[0m\u001b[0;34m,\u001b[0m \u001b[0mstyle\u001b[0m\u001b[0;34m=\u001b[0m\u001b[0;34m{\u001b[0m\u001b[0;34m\"clip-path\"\u001b[0m\u001b[0;34m:\u001b[0m\u001b[0;34m\"url(#clipid3)\"\u001b[0m\u001b[0;34m}\u001b[0m\u001b[0;34m)\u001b[0m\u001b[0;34m,\u001b[0m\u001b[0;34m\u001b[0m\u001b[0m\n",
      "\u001b[0;31mNameError\u001b[0m: name 'colors' is not defined"
     ]
    }
   ],
   "source": [
    "heart_list = [clipPath(\n",
    "            gen_heart(),\n",
    "            **{\"id\":\"clipid3\", \"stroke\": \"black\"}),]\n",
    "for idx, color in enumerate(colors):\n",
    "    heart_list.append(svg(\n",
    "        grouping(flag(color, clipid=\"clipid3\", symbol = symbols[idx]), style={\"clip-path\":\"url(#clipid3)\"}), \n",
    "        x = f\"{90*(idx%3)}\",\n",
    "        y = f\"{0+90*math.floor(idx/3)}\",\n",
    "        height=\"100\",\n",
    "        viewBox=\"-25 -25 50 50\"))\n",
    "\n",
    "svg(*heart_list, width=f\"{90*4}\", viewBox=\"200 0 500 500\")\n",
    "    "
   ]
  },
  {
   "cell_type": "code",
   "execution_count": 32,
   "metadata": {},
   "outputs": [
    {
     "ename": "TypeError",
     "evalue": "list indices must be integers or slices, not str",
     "output_type": "error",
     "traceback": [
      "\u001b[0;31m---------------------------------------------------------------------------\u001b[0m",
      "\u001b[0;31mTypeError\u001b[0m                                 Traceback (most recent call last)",
      "\u001b[0;32m<ipython-input-32-c777201d0d3d>\u001b[0m in \u001b[0;36m<module>\u001b[0;34m\u001b[0m\n\u001b[1;32m      3\u001b[0m \u001b[0;32mfor\u001b[0m \u001b[0mflag_def\u001b[0m \u001b[0;32min\u001b[0m \u001b[0mflag_defs\u001b[0m\u001b[0;34m:\u001b[0m\u001b[0;34m\u001b[0m\u001b[0m\n\u001b[1;32m      4\u001b[0m     heart_list.append(svg(\n\u001b[0;32m----> 5\u001b[0;31m         \u001b[0mflag\u001b[0m\u001b[0;34m(\u001b[0m\u001b[0mflag_def\u001b[0m\u001b[0;34m[\u001b[0m\u001b[0;34m'colors'\u001b[0m\u001b[0;34m]\u001b[0m\u001b[0;34m,\u001b[0m \u001b[0mclipid\u001b[0m\u001b[0;34m=\u001b[0m\u001b[0;34m\"clipid3\"\u001b[0m\u001b[0;34m,\u001b[0m \u001b[0msymbol\u001b[0m\u001b[0;34m=\u001b[0m\u001b[0mflag_def\u001b[0m\u001b[0;34m.\u001b[0m\u001b[0mget\u001b[0m\u001b[0;34m(\u001b[0m\u001b[0;34m\"symbol\"\u001b[0m\u001b[0;34m)\u001b[0m\u001b[0;34m)\u001b[0m\u001b[0;34m,\u001b[0m\u001b[0;34m\u001b[0m\u001b[0m\n\u001b[0m\u001b[1;32m      6\u001b[0m         \u001b[0mx\u001b[0m \u001b[0;34m=\u001b[0m \u001b[0;34mf\"{90*(idx%3)}\"\u001b[0m\u001b[0;34m,\u001b[0m\u001b[0;34m\u001b[0m\u001b[0m\n\u001b[1;32m      7\u001b[0m         \u001b[0my\u001b[0m \u001b[0;34m=\u001b[0m \u001b[0;34mf\"{0+90*math.floor(idx/3)}\"\u001b[0m\u001b[0;34m,\u001b[0m\u001b[0;34m\u001b[0m\u001b[0m\n",
      "\u001b[0;31mTypeError\u001b[0m: list indices must be integers or slices, not str"
     ]
    }
   ],
   "source": [
    "flag_defs = [trans, genderqueer, rainbow, agender, ace, bi, enby, genderfluid, pan, polysexual, aromantic, lipstick, intersex, polyamory]\n",
    "\n",
    "for flag_def in flag_defs:\n",
    "    heart_list.append(svg(\n",
    "        flag(flag_def['colors'], clipid=\"clipid3\", symbol=flag_def.get(\"symbol\")), \n",
    "        x = f\"{90*(idx%3)}\",\n",
    "        y = f\"{0+90*math.floor(idx/3)}\",\n",
    "        height=\"100\",\n",
    "        viewBox=\"-25 -25 50 50\"))\n",
    "svg(*heart_list, width=f\"{90*4}\", viewBox=\"200 0 500 500\")\n"
   ]
  },
  {
   "cell_type": "code",
   "execution_count": null,
   "metadata": {},
   "outputs": [],
   "source": []
  },
  {
   "cell_type": "code",
   "execution_count": 419,
   "metadata": {},
   "outputs": [],
   "source": [
    "class Flag:\n",
    "    \n",
    "    def __init__(self, name, colors, symbol=None):\n",
    "        self.name = name\n",
    "        self.colors = colors\n",
    "        self.symbol = symbol\n",
    "        self.num = len(colors)\n",
    "        \n",
    "    def flag(self, height_perc=73, shift=5, **kwargs):\n",
    "        height_perc = height_perc\n",
    "        shift = shift\n",
    "        div_heights = np.linspace(-height_perc/2+shift,\n",
    "                                  height_perc/2+shift, \n",
    "                                  self.num, \n",
    "                                  endpoint=False)\n",
    "        internal = [rect(x=\"-25\", y=f\"{this_h}%\", \n",
    "                         width=\"50\", height=f\"{height_perc/self.num}%\", \n",
    "                         fill=self.colors[i],\n",
    "                         stroke=self.colors[i]\n",
    "                        ) \n",
    "                    for i, this_h in enumerate(div_heights)]\n",
    "        if self.symbol:\n",
    "            internal.append(self.symbol)\n",
    "        return group(*internal, \n",
    "                     **kwargs)\n",
    "    \n",
    "    def _repr_mimebundle_(self, include=None, exclude=None):\n",
    "        viewer = svg(self.flag(), viewBox=\"-25 -25 50 50\")\n",
    "        return {**viewer._repr_mimebundle_(None, None),\n",
    "                \"text/html\": viewer._repr_html_()\n",
    "               }\n",
    "    \n",
    "class Clip:\n",
    "    \n",
    "    def __init__(self, *shapes, clipid=\"clipid\", **kwargs):\n",
    "        self.clipid = clipid\n",
    "        self.shapes = shapes\n",
    "        self.kwargs = kwargs\n",
    "    \n",
    "    def clipper(self):\n",
    "        return clipPath(*self.shapes, \n",
    "                        **{\"id\":self.clipid}, **self.kwargs)\n",
    "    \n",
    "    def clip(self, *targets, **kwargs):\n",
    "        return group(*targets, style={\"clip-path\":f\"url(#{self.clipid})\"})\n",
    "    \n",
    "    def show_clip(self, *targets, edge=False, clip=True, style = None, **kwargs):\n",
    "        if style is not None:\n",
    "            style = {}\n",
    "\n",
    "        outline = self.shapes if edge else [\"\"]\n",
    "        to_display = [self.clip(*targets, **kwargs)] if clip else targets\n",
    "        \n",
    "        return svg(*to_display,\n",
    "                   *outline,\n",
    "                   viewBox=\"-25 -25 50 50\")\n"
   ]
  },
  {
   "cell_type": "code",
   "execution_count": 413,
   "metadata": {},
   "outputs": [],
   "source": [
    "trans = {\"name\":\"trans\" ,\"colors\":['lightskyblue', 'lightpink', 'white',  'lightpink', 'lightskyblue']}\n",
    "genderqueer = {\"name\": \"genderqueer\", \"colors\":['forestgreen', 'white', 'purple']}\n",
    "rainbow = {\"name\": \"rainbow\", \"colors\":['red', 'orange', 'yellow', 'green', 'blue', 'purple', 'brown', 'black']}\n",
    "agender = {\"name\": \"agender\", \"colors\":['black', 'lightgrey', 'white', 'chartreuse', 'white', 'lightgrey', 'black']}\n",
    "ace = {\"name\": \"ace\", \"colors\":['black','lightgrey','white', 'purple']}\n",
    "bi = {\"name\": \"bi\", \"colors\":['deeppink', 'deeppink', 'mediumpurple', 'blue','blue']}\n",
    "enby = {\"name\": \"enby\", \"colors\":['#ffef00', 'white', '#9C59D1', 'black']}\n",
    "genderfluid = {\"name\": \"genderfluid\", \"colors\":['#ff75a2', \"white\",\"#be18d6\", 'black', 'mediumblue']}\n",
    "pan = {\"name\": \"pan\", \"colors\":['deeppink', \"gold\", \"deepskyblue\"]}\n",
    "polysexual = {\"name\": \"polysexual\", \"colors\":[\"#f61cb9\", \"#07d569\", 'dodgerblue']}\n",
    "aromantic = {\"name\": \"aromantic\", \"colors\":[\"#3da542\", \"#a7d379\", \"white\", \"lightgrey\", \"black\"]}\n",
    "lipstick = {\"name\": \"lipstick\", \"colors\":[\"#A60061\", \"#B95393\", \"#D260A7\", \"#EDEDEB\", \"#E5ABD0\", \"#C74D52\", \"#8C1D00\"]}\n",
    "intersex = {\"name\": \"intersex\", \"colors\":[\"gold\"], \"symbol\":circle(cx=\"0\", cy=\"2\", r=\"5\", fill=\"transparent\", stroke=\"purple\", **{\"stroke-width\":\"2.5\"})}\n",
    "polyamory = {\"name\": \"polyamory\", \"colors\":[\"blue\", \"red\", \"black\"], \"symbol\":text(\"π\", y=\"4.5\", fill=\"yellow\", **{'text-anchor': \"middle\", \"font-family\": \"Minion Pro\"})}\n",
    "bear = {\"name\": \"bear\", \"colors\": [\"#623804\", \"chocolate\", \"#fedd63\", \"moccasin\", \"white\", \"dimgray\", \"black\"], }\n",
    "lesbian = {\"name\": \"lesbian\", \"colors\":[\"purple\"]}\n",
    "\n",
    "intersex['symbol'] = circle(cx=\"0\", cy=\"2\", r=\"5\", fill=\"transparent\", stroke=\"purple\", **{\"stroke-width\":\"2.5\"})\n",
    "polyamory['symbol'] = text(\"π\", y=\"4.5\", fill=\"yellow\", **{'text-anchor': \"middle\", \"font-family\": \"Minion Pro\"})\n",
    "bear['symbol'] = path(d=\"M98.9 24.4c-5.7 0-11.5 1.3-16.3 4.4C61.2 42.6 91.1 48.3 96 51.1c4.7 2.7 22.4 22.9 29.7-8.4 2.2-9.7-12.2-18.3-26.8-18.3m45.4 11.2c-17.7 1.9-.8 43 23.6 44.4 16.5.9 28.9-39.3-23.6-44.4m-94.4 8.9C34.2 44 43.7 73.3 69 83.6c5.1 2.1 14.2-4.7 14.4-16 .1-4.2-7.1-22.2-33.5-23.1m61 17.7c-7.1-.1-14.6 3-22.8 11.5-28.9 30.3 13.8 35.5 10.6 51.9-9.7 48.5-.9 52.5 8.3 55.6 11.7 3.9 33.8-33.4 43.1-40.4 12.4-9.4 77.9-42.2 62.4-58.8-22.3-23.8-27 7.3-57.7-1-14.6-3.9-28.3-18.8-43.9-18.8M54.4 96.5c-2.8-.1-5.5.4-8.1 1.6-11.5 5.2 10.8 36.5 20.9 37.4 12.4 1.1 17.4-8.9 17.6-14.7.3-7.6-15.4-24-30.4-24.3m4 46.7c-4.5.1-8 1.2-9.6 3.3-4.1 6.2 21.6 30.4 28.7 32 6.5 1.5 12.6-13 11.4-18.7-2.2-10.4-19.2-16.7-30.5-16.6\",\n",
    "                   transform = \"scale(.08 .08) translate(-120,-80) \") \n",
    "lesbian['symbol'] = group(path(d=\"M500 550L211.325 50h577.35z\", fill=\"black\"),\n",
    "                       path(d=\"M479.667 132.374a162.687 162.687 0 0 1-108.732-62.373 162.687 162.687 0 0 0 0 198.075 162.687 162.687 0 0 1 108.732-62.373zm40.672 73.329a162.687 162.687 0 0 1 108.732 62.373 162.687 162.687 0 0 0 0-198.075 162.687 162.687 0 0 1-108.732 62.373zm-4.067-91.571a16.269 8.134 0 0 0-32.538 0v347.743a16.269 8.134 0 0 0 32.538 0z\", \n",
    "                            fill=\"white\"), \n",
    "                       transform = \"scale(.04, .04) translate(-500 -150)\")\n",
    "\n",
    "\n",
    "\n",
    "\n",
    "flag_defs = [trans, lesbian, genderqueer, rainbow, agender, ace, bi, enby, genderfluid, pan, polysexual, aromantic, lipstick, bear, intersex, polyamory]"
   ]
  },
  {
   "cell_type": "code",
   "execution_count": 414,
   "metadata": {},
   "outputs": [
    {
     "data": {
      "application/vdom.v1+json": {
       "attributes": {
        "viewBox": "200 0 700 700",
        "width": "450"
       },
       "children": [
        {
         "attributes": {
          "id": "uniquid"
         },
         "children": [
          {
           "attributes": {
            "d": "M0.0,5.0 Q2.26480878769362e-09,5.01935203545116 0.00240468499265089,5.05784209373124 Q0.00617678614768245,5.11821945317385 0.0144892681784808,5.19071052417724 Q0.0249796452381706,5.28219447150715 0.0416669391001586,5.38322902221801 Q0.0625689845764014,5.50978212250472 0.0921242540272451,5.64469196933818 Q0.129325564905271,5.81450341906648 0.178888071354544,5.99135494886849 Q0.227032997926876,6.16314819595208 0.285852572783466,6.33796304924934 Q0.345659522697073,6.51571243286517 0.415701700411068,6.69417844133358 Q0.487743067528425,6.87773834271958 0.569888188951648,7.06019887319993 Q0.692043825721294,7.33153065651206 0.834806300015498,7.59665683949396 Q0.918421740467044,7.75194024064588 1.00862101667763,7.90415568501767 Q1.12167926629051,8.09494670272544 1.24449884261148,8.27994312284276 Q1.44189780344349,8.57727439675439 1.66250874377508,8.85670281234556 Q1.80054060640138,9.03153559541965 1.94694688614682,9.19842404729501 Q2.08999423977703,9.36148366081515 2.24054566891579,9.51639833059041 Q2.48490085256662,9.76783534981824 2.74741879975013,9.99621086079807 Q3.01662696842382,10.2304064795754 3.30291999709097,10.4385942042024 Q3.46972317871875,10.5598908176942 3.64179542494331,10.6719572214367 Q3.79857226878001,10.7740621074039 3.95941554482475,10.8683033405894 Q4.13334243392154,10.9702105195257 4.31166833497306,11.0627149706127 Q4.47604708828145,11.1479845038409 4.64386151028959,11.2251070150907 Q4.80544594869858,11.299366411392 4.96995032351617,11.3659501831024 Q5.16725965014621,11.4458118838945 5.36835311845226,11.5144650549576 Q5.56561833961004,11.5818112650908 5.7660857806164,11.6382214352365 Q5.93594304380552,11.6860181101922 6.10780540394526,11.7258795037075 Q6.3802811445957,11.7890769525997 6.65689783599178,11.8321328272072 Q6.88756600251257,11.8680367330906 7.12039035026157,11.8898178268749 Q7.33575429714658,11.9099654719568 7.5524023719199,11.9179755377665 Q7.78903411552322,11.9267244539104 8.02650188595541,11.9209696911957 Q8.31148267851657,11.9140635041521 8.59647282523938,11.8863060110558 Q8.84172783653293,11.8624186438571 9.08605624824551,11.8231757557194 Q9.29602775102361,11.7894511138005 9.5047004646898,11.7444820539865 Q9.73546771599974,11.6947516117789 9.96389320433066,11.631434414029 Q10.2137994798527,11.5621629628359 10.4598847954114,11.4769149350853 Q10.7426952738113,11.3789447028671 11.0189146985215,11.2604175545564 Q11.2783606307036,11.14908799649 11.5305552606758,11.0202359184706 Q11.8305962880828,10.8669380077389 12.1182124982183,10.6899608334626 Q12.3086605446971,10.5727735681955 12.4928101128895,10.4457122376404 Q12.7138340887796,10.2932079405257 12.9247407405014,10.1272078034175 Q13.1164494580624,9.97631795172166 13.2989309836935,9.81495653041487 Q13.4993501715355,9.63773352169933 13.6876496499027,9.44875874377583 Q13.8259025844505,9.31000999189398 13.9571663998683,9.16537567684822 Q14.0895559130142,9.01950100078341 14.2144709921875,8.86804150073268 Q14.3647042289743,8.68588374135466 14.50359102542,8.496302620215 Q14.6242491373507,8.33160373796121 14.7359701511584,8.16180777241553 Q14.8556947497797,7.9798477889744 14.9647911861361,7.79259020255814 Q15.0815966885041,7.5921004598673 15.1858302302757,7.38620717426887 Q15.2838990649354,7.19249108020058 15.3705462405702,6.99456656547992 Q15.4710479022511,6.76499482847765 15.555848418953,6.53053381443338 Q15.6293410875024,6.32733734508333 15.6908398354807,6.12101489646327 Q15.7582996840502,5.89469352248478 15.811151998362,5.66520400901477 Q15.858001700426,5.46177837907041 15.8932743283624,5.25628456535619 Q15.9234569772515,5.08044431780161 15.9451194504346,4.90333416558016 Q15.9730560934491,4.67492704627213 15.9867773968648,4.44479362169134 Q16.0034165941822,4.16572133934909 15.9991176647554,3.88472444785707 Q15.9950908430473,3.62151371089842 15.9726972179107,3.35708697651958 Q15.9526619394994,3.12050789606779 15.9179459679384,2.88322942110747 Q15.882312030686,2.63967678789829 15.83124032874,2.39559405324708 Q15.7875158480249,2.1866252815493 15.7324953373768,1.97736550244011 Q15.6648912559291,1.72024656653811 15.5802540161198,1.46276838245011 Q15.4968741501039,1.20911530326591 15.3969639315714,0.955118442554341 Q15.3045821236361,0.720260691795003 15.1980404233408,0.485042552463534 Q15.0759331774567,0.215459477516022 14.935136668034,-0.0547900505028633 Q14.7784251600096,-0.355587358989756 14.5983261379963,-0.657651595836769 Q14.4326365303214,-0.935548190367364 14.2468180712942,-1.21507534194023 Q13.9287667177733,-1.69352075241799 13.5495204141351,-2.17993676735823 Q13.228806301099,-2.59128021171493 12.8611063340419,-3.0124517446707 Q12.1591087582907,-3.81653502342836 11.2483797084418,-4.69658759121086 Q10.4733210891135,-5.44553957449827 9.42454171069957,-6.36494199823616 Q8.84072932123853,-6.87673555265406 7.788610883906,-7.77268471082305 Q6.43199730758967,-8.92793182800395 5.86781215340663,-9.42143310902599 Q4.99911290579133,-10.1812974697638 4.33114177564245,-10.8099404645036 Q3.70609091742599,-11.3981902041088 3.18523060681885,-11.9373159451196 Q2.65398052055043,-12.4871958084704 2.2119638126538,-13.0054355175612 Q1.84652002656313,-13.4338977860892 1.53818480616621,-13.8451114872961 Q1.35658899707246,-14.0872981719213 1.19468144267213,-14.3236430665681 Q1.01229440141544,-14.5898829354267 0.855250034700979,-14.8481696259238 Q0.710327112506176,-15.0865204992088 0.587635439099838,-15.317016364333 Q0.482522452421447,-15.5144878644567 0.394395445017321,-15.7049318068687 Q0.31840843950407,-15.869141001397 0.255658210448299,-16.0268054813404 Q0.189432844334108,-16.1932014939857 0.138853346014398,-16.3499815211115 Q0.0926197731189966,-16.4932905900716 0.0605744460923479,-16.625013082467 Q0.0353801389730772,-16.7285744199802 0.0199590858880895,-16.820733667613 Q0.00867700999654953,-16.8881575731122 0.00346592649802561,-16.9441272743669 Q0.000399281055259889,-16.9770646144295 2.49345880547808e-05,-16.9979165809901 Q0.000120167169769384,-16.9926119052863 -0.00120639179482519,-16.9723446290242 Q-0.00426775812446953,-16.9255728240776 -0.0129503651544767,-16.86557788734 Q-0.0227183511665687,-16.7980832165775 -0.0385454062196693,-16.7222898015959 Q-0.06004549711036,-16.6193290609179 -0.0915669504606278,-16.5067117118991 Q-0.132286979305915,-16.3612304217578 -0.188273154562518,-16.204902779091 Q-0.258831712369531,-16.0078853375281 -0.351810097949509,-15.7987840090959 Q-0.440000005976105,-15.6004516030464 -0.547194072845051,-15.3939437422104 Q-0.651340977758142,-15.193306195987 -0.772699085783482,-14.9863772240217 Q-0.910246809839973,-14.7518431694101 -1.0692413762151,-14.5103646821128 Q-1.22417112561029,-14.2750597759499 -1.39908931791318,-14.0337431312646 Q-1.76797104341055,-13.5248349433239 -2.22583196061482,-12.9891937151164 Q-2.65281454964278,-12.4896763511826 -3.16250584273345,-11.960865339223 Q-3.75455354091074,-11.3466085397729 -4.48484292020919,-10.6660006846297 Q-5.15417223354364,-10.0422057873649 -6.03462845747207,-9.27588577364818 Q-6.5518613566613,-8.82570334364281 -7.72688839874177,-7.82524124839609 Q-9.00011940672614,-6.74116461325269 -9.66659027493077,-6.1518575057301 Q-10.6800142168527,-5.25576742827941 -11.4416925502921,-4.5083632999628 Q-11.9256928826451,-4.03343335824615 -12.3453337586718,-3.58350021932445 Q-12.8421226311087,-3.05085006647637 -13.2630306985554,-2.53794032909005 Q-13.5888635034756,-2.14088731127246 -13.8734126595931,-1.7506997108797 Q-14.1158142868982,-1.41830684568896 -14.3296155195759,-1.08906603538983 Q-14.6222670714185,-0.638400560466284 -14.8629035091692,-0.191196762642277 Q-14.9849831812171,0.035678657752151 -15.093879517273,0.262018849814471 Q-15.1989501677438,0.48040738398381 -15.2918143665365,0.698434979814885 Q-15.4099383650006,0.975767813457227 -15.5083731080758,1.25265889367945 Q-15.596037025423,1.49925228146578 -15.6680979222918,1.74552862415746 Q-15.7452025309944,2.00904242791343 -15.8044279558644,2.27213565719569 Q-15.8673099421169,2.55147218982739 -15.9099982659839,2.83015436556823 Q-15.9467996846554,3.07040505935725 -15.9685614040832,3.30996314026493 Q-15.9881495049069,3.52559352082962 -15.9955342067788,3.74046434121497 Q-16.0051232678424,4.01947484877545 -15.9941254637899,4.2967472393645 Q-15.9844330208493,4.54110936947305 -15.958768035937,4.78366431573383 Q-15.9275621653641,5.07858513044192 -15.8728386332033,5.37000215623899 Q-15.8278093231867,5.60979493058336 -15.7669750538715,5.84656658453498 Q-15.721016172269,6.02544208568407 -15.6661182996239,6.20226632422338 Q-15.6208315317082,6.34813351117917 -15.5695193619767,6.49241673134215 Q-15.4613890101118,6.79646537021361 -15.3269801205853,7.09222815454625 Q-15.2212449367798,7.32489529787583 -15.0996951958763,7.55142914467109 Q-14.9588348202878,7.81395247467492 -14.7974725228564,8.0668861942751 Q-14.6745800019696,8.25951894005113 -14.5402766384116,8.44582208248948 Q-14.3933701098356,8.64960810238759 -14.2334198263091,8.84498132868387 Q-14.0945594532161,9.01459402644063 -13.9463689488664,9.17725000648766 Q-13.7735280755873,9.36696257787514 -13.588753931665,9.54638613301087 Q-13.4189681105967,9.71125538896335 -13.23982095404,9.86674014639278 Q-13.0625216805617,10.0206210957701 -12.8767644199624,10.1646925661538 Q-12.6944389535778,10.3061023713246 -12.5046728111778,10.4375123135825 Q-12.3142699757146,10.5693631553476 -12.1171076375409,10.6906405650386 Q-11.9213331232265,10.811064304174 -11.7196291899761,10.9206103014377 Q-11.509884893371,11.0345230436026 -11.2945462865961,11.1362305693748 Q-11.0736106685721,11.2405816441808 -10.8476757705343,11.3316650627413 Q-10.6451233054253,11.4133220848312 -10.4392342246826,11.4840381672923 Q-10.2480502354789,11.5497035376801 -10.0545178054937,11.605752174849 Q-9.87842747053587,11.6567494330024 -9.70078839955957,11.699669661687 Q-9.51646003889087,11.7442061217657 -9.33086927650686,11.7799481442673 Q-9.13248730736292,11.8181535630821 -8.933139388093,11.846219406851 Q-8.71465712197788,11.8769791417381 -8.49561748097842,11.8954757888015 Q-8.29291726492743,11.9125926647188 -8.09024399409492,11.9191639457214 Q-7.78610008904026,11.9290252118723 -7.4833331334596,11.915111810162 Q-7.17318452623145,11.9008591908364 -6.86609005385436,11.8617329844013 Q-6.59503326929163,11.8271982575912 -6.32749985800465,11.7734249707618 Q-6.065591016902,11.7207822030116 -5.80803820752765,11.6498970887622 Q-5.55929013948285,11.5814352643096 -5.31546652781383,11.4961928265364 Q-5.10668790644988,11.4232023621669 -4.90208243255889,11.3381020157274 Q-4.65361227556304,11.2347572906909 -4.41212777878246,11.1139056578479 Q-4.19936350048537,11.0074271435513 -3.99268182769649,10.8876853593409 Q-3.75270580423463,10.7486543711102 -3.52182577913573,10.5922682144105 Q-3.32874675879168,10.4614864981576 -3.14265200973488,10.3189846901617 Q-2.96546888319985,10.183306945327 -2.79512566366148,10.0373935236474 Q-2.59954871236449,9.869865269557 -2.41370491741605,9.68946420864727 Q-2.19513433610818,9.47729481788262 -1.99121915187079,9.24849308724242 Q-1.80560573104341,9.04022673339448 -1.63321108031305,8.8193835024801 Q-1.48460042648279,8.62900835568098 -1.34656919353414,8.43025073001946 Q-1.22862003028138,8.26041021540489 -1.11890397474925,8.08517660112203 Q-0.95801857573265,7.82821758251459 -0.816175270753006,7.56186513162384 Q-0.660837400706088,7.27017267275816 -0.530605965747761,6.97155652900988 Q-0.428580116785493,6.73761481140916 -0.343519030901754,6.5029591230879 Q-0.261963346200934,6.27797368901832 -0.197516475528564,6.05656345647983 Q-0.136184858928778,5.84585582472599 -0.0920712402436369,5.64444995400555 Q-0.0534506179297929,5.46812299882186 -0.0298383755424187,5.30751615628668 Q-0.0115789781484796,5.18331854244193 -0.00400653952455051,5.08123174112462 Z",
            "fill": "none",
            "id": "22760fadc5104d7f887046ac72e101bb",
            "stroke": "red",
            "stroke-width": ".5",
            "transform": "scale(1.25 -1.25)"
           },
           "children": [],
           "tagName": "path"
          }
         ],
         "tagName": "clipPath"
        },
        {
         "attributes": {
          "height": "100",
          "viewBox": "-25 -25 50 50",
          "x": "0",
          "y": "0"
         },
         "children": [
          {
           "attributes": {
            "style": {
             "clip-path": "url(#uniquid)"
            }
           },
           "children": [
            {
             "attributes": {},
             "children": [
              {
               "attributes": {
                "fill": "lightskyblue",
                "height": "14.6%",
                "stroke": "lightskyblue",
                "width": "50",
                "x": "-25",
                "y": "-31.5%"
               },
               "children": [],
               "tagName": "rect"
              },
              {
               "attributes": {
                "fill": "lightpink",
                "height": "14.6%",
                "stroke": "lightpink",
                "width": "50",
                "x": "-25",
                "y": "-16.9%"
               },
               "children": [],
               "tagName": "rect"
              },
              {
               "attributes": {
                "fill": "white",
                "height": "14.6%",
                "stroke": "white",
                "width": "50",
                "x": "-25",
                "y": "-2.3000000000000007%"
               },
               "children": [],
               "tagName": "rect"
              },
              {
               "attributes": {
                "fill": "lightpink",
                "height": "14.6%",
                "stroke": "lightpink",
                "width": "50",
                "x": "-25",
                "y": "12.299999999999997%"
               },
               "children": [],
               "tagName": "rect"
              },
              {
               "attributes": {
                "fill": "lightskyblue",
                "height": "14.6%",
                "stroke": "lightskyblue",
                "width": "50",
                "x": "-25",
                "y": "26.9%"
               },
               "children": [],
               "tagName": "rect"
              }
             ],
             "tagName": "g"
            }
           ],
           "tagName": "g"
          }
         ],
         "tagName": "svg"
        },
        {
         "attributes": {
          "height": "100",
          "viewBox": "-25 -25 50 50",
          "x": "120",
          "y": "0"
         },
         "children": [
          {
           "attributes": {
            "style": {
             "clip-path": "url(#uniquid)"
            }
           },
           "children": [
            {
             "attributes": {},
             "children": [
              {
               "attributes": {
                "fill": "purple",
                "height": "73.0%",
                "stroke": "purple",
                "width": "50",
                "x": "-25",
                "y": "-31.5%"
               },
               "children": [],
               "tagName": "rect"
              },
              {
               "attributes": {
                "transform": "scale(.04, .04) translate(-500 -150)"
               },
               "children": [
                {
                 "attributes": {
                  "d": "M500 550L211.325 50h577.35z",
                  "fill": "black"
                 },
                 "children": [],
                 "tagName": "path"
                },
                {
                 "attributes": {
                  "d": "M479.667 132.374a162.687 162.687 0 0 1-108.732-62.373 162.687 162.687 0 0 0 0 198.075 162.687 162.687 0 0 1 108.732-62.373zm40.672 73.329a162.687 162.687 0 0 1 108.732 62.373 162.687 162.687 0 0 0 0-198.075 162.687 162.687 0 0 1-108.732 62.373zm-4.067-91.571a16.269 8.134 0 0 0-32.538 0v347.743a16.269 8.134 0 0 0 32.538 0z",
                  "fill": "white"
                 },
                 "children": [],
                 "tagName": "path"
                }
               ],
               "tagName": "g"
              }
             ],
             "tagName": "g"
            }
           ],
           "tagName": "g"
          }
         ],
         "tagName": "svg"
        },
        {
         "attributes": {
          "height": "100",
          "viewBox": "-25 -25 50 50",
          "x": "240",
          "y": "0"
         },
         "children": [
          {
           "attributes": {
            "style": {
             "clip-path": "url(#uniquid)"
            }
           },
           "children": [
            {
             "attributes": {},
             "children": [
              {
               "attributes": {
                "fill": "forestgreen",
                "height": "24.333333333333332%",
                "stroke": "forestgreen",
                "width": "50",
                "x": "-25",
                "y": "-31.5%"
               },
               "children": [],
               "tagName": "rect"
              },
              {
               "attributes": {
                "fill": "white",
                "height": "24.333333333333332%",
                "stroke": "white",
                "width": "50",
                "x": "-25",
                "y": "-7.166666666666668%"
               },
               "children": [],
               "tagName": "rect"
              },
              {
               "attributes": {
                "fill": "purple",
                "height": "24.333333333333332%",
                "stroke": "purple",
                "width": "50",
                "x": "-25",
                "y": "17.166666666666664%"
               },
               "children": [],
               "tagName": "rect"
              }
             ],
             "tagName": "g"
            }
           ],
           "tagName": "g"
          }
         ],
         "tagName": "svg"
        },
        {
         "attributes": {
          "height": "100",
          "viewBox": "-25 -25 50 50",
          "x": "360",
          "y": "0"
         },
         "children": [
          {
           "attributes": {
            "style": {
             "clip-path": "url(#uniquid)"
            }
           },
           "children": [
            {
             "attributes": {},
             "children": [
              {
               "attributes": {
                "fill": "red",
                "height": "9.125%",
                "stroke": "red",
                "width": "50",
                "x": "-25",
                "y": "-31.5%"
               },
               "children": [],
               "tagName": "rect"
              },
              {
               "attributes": {
                "fill": "orange",
                "height": "9.125%",
                "stroke": "orange",
                "width": "50",
                "x": "-25",
                "y": "-22.375%"
               },
               "children": [],
               "tagName": "rect"
              },
              {
               "attributes": {
                "fill": "yellow",
                "height": "9.125%",
                "stroke": "yellow",
                "width": "50",
                "x": "-25",
                "y": "-13.25%"
               },
               "children": [],
               "tagName": "rect"
              },
              {
               "attributes": {
                "fill": "green",
                "height": "9.125%",
                "stroke": "green",
                "width": "50",
                "x": "-25",
                "y": "-4.125%"
               },
               "children": [],
               "tagName": "rect"
              },
              {
               "attributes": {
                "fill": "blue",
                "height": "9.125%",
                "stroke": "blue",
                "width": "50",
                "x": "-25",
                "y": "5.0%"
               },
               "children": [],
               "tagName": "rect"
              },
              {
               "attributes": {
                "fill": "purple",
                "height": "9.125%",
                "stroke": "purple",
                "width": "50",
                "x": "-25",
                "y": "14.125%"
               },
               "children": [],
               "tagName": "rect"
              },
              {
               "attributes": {
                "fill": "brown",
                "height": "9.125%",
                "stroke": "brown",
                "width": "50",
                "x": "-25",
                "y": "23.25%"
               },
               "children": [],
               "tagName": "rect"
              },
              {
               "attributes": {
                "fill": "black",
                "height": "9.125%",
                "stroke": "black",
                "width": "50",
                "x": "-25",
                "y": "32.375%"
               },
               "children": [],
               "tagName": "rect"
              }
             ],
             "tagName": "g"
            }
           ],
           "tagName": "g"
          }
         ],
         "tagName": "svg"
        },
        {
         "attributes": {
          "height": "100",
          "viewBox": "-25 -25 50 50",
          "x": "0",
          "y": "90"
         },
         "children": [
          {
           "attributes": {
            "style": {
             "clip-path": "url(#uniquid)"
            }
           },
           "children": [
            {
             "attributes": {},
             "children": [
              {
               "attributes": {
                "fill": "black",
                "height": "10.428571428571429%",
                "stroke": "black",
                "width": "50",
                "x": "-25",
                "y": "-31.5%"
               },
               "children": [],
               "tagName": "rect"
              },
              {
               "attributes": {
                "fill": "lightgrey",
                "height": "10.428571428571429%",
                "stroke": "lightgrey",
                "width": "50",
                "x": "-25",
                "y": "-21.07142857142857%"
               },
               "children": [],
               "tagName": "rect"
              },
              {
               "attributes": {
                "fill": "white",
                "height": "10.428571428571429%",
                "stroke": "white",
                "width": "50",
                "x": "-25",
                "y": "-10.642857142857142%"
               },
               "children": [],
               "tagName": "rect"
              },
              {
               "attributes": {
                "fill": "chartreuse",
                "height": "10.428571428571429%",
                "stroke": "chartreuse",
                "width": "50",
                "x": "-25",
                "y": "-0.2142857142857153%"
               },
               "children": [],
               "tagName": "rect"
              },
              {
               "attributes": {
                "fill": "white",
                "height": "10.428571428571429%",
                "stroke": "white",
                "width": "50",
                "x": "-25",
                "y": "10.214285714285715%"
               },
               "children": [],
               "tagName": "rect"
              },
              {
               "attributes": {
                "fill": "lightgrey",
                "height": "10.428571428571429%",
                "stroke": "lightgrey",
                "width": "50",
                "x": "-25",
                "y": "20.642857142857146%"
               },
               "children": [],
               "tagName": "rect"
              },
              {
               "attributes": {
                "fill": "black",
                "height": "10.428571428571429%",
                "stroke": "black",
                "width": "50",
                "x": "-25",
                "y": "31.07142857142857%"
               },
               "children": [],
               "tagName": "rect"
              }
             ],
             "tagName": "g"
            }
           ],
           "tagName": "g"
          }
         ],
         "tagName": "svg"
        },
        {
         "attributes": {
          "height": "100",
          "viewBox": "-25 -25 50 50",
          "x": "120",
          "y": "90"
         },
         "children": [
          {
           "attributes": {
            "style": {
             "clip-path": "url(#uniquid)"
            }
           },
           "children": [
            {
             "attributes": {},
             "children": [
              {
               "attributes": {
                "fill": "black",
                "height": "18.25%",
                "stroke": "black",
                "width": "50",
                "x": "-25",
                "y": "-31.5%"
               },
               "children": [],
               "tagName": "rect"
              },
              {
               "attributes": {
                "fill": "lightgrey",
                "height": "18.25%",
                "stroke": "lightgrey",
                "width": "50",
                "x": "-25",
                "y": "-13.25%"
               },
               "children": [],
               "tagName": "rect"
              },
              {
               "attributes": {
                "fill": "white",
                "height": "18.25%",
                "stroke": "white",
                "width": "50",
                "x": "-25",
                "y": "5.0%"
               },
               "children": [],
               "tagName": "rect"
              },
              {
               "attributes": {
                "fill": "purple",
                "height": "18.25%",
                "stroke": "purple",
                "width": "50",
                "x": "-25",
                "y": "23.25%"
               },
               "children": [],
               "tagName": "rect"
              }
             ],
             "tagName": "g"
            }
           ],
           "tagName": "g"
          }
         ],
         "tagName": "svg"
        },
        {
         "attributes": {
          "height": "100",
          "viewBox": "-25 -25 50 50",
          "x": "240",
          "y": "90"
         },
         "children": [
          {
           "attributes": {
            "style": {
             "clip-path": "url(#uniquid)"
            }
           },
           "children": [
            {
             "attributes": {},
             "children": [
              {
               "attributes": {
                "fill": "deeppink",
                "height": "14.6%",
                "stroke": "deeppink",
                "width": "50",
                "x": "-25",
                "y": "-31.5%"
               },
               "children": [],
               "tagName": "rect"
              },
              {
               "attributes": {
                "fill": "deeppink",
                "height": "14.6%",
                "stroke": "deeppink",
                "width": "50",
                "x": "-25",
                "y": "-16.9%"
               },
               "children": [],
               "tagName": "rect"
              },
              {
               "attributes": {
                "fill": "mediumpurple",
                "height": "14.6%",
                "stroke": "mediumpurple",
                "width": "50",
                "x": "-25",
                "y": "-2.3000000000000007%"
               },
               "children": [],
               "tagName": "rect"
              },
              {
               "attributes": {
                "fill": "blue",
                "height": "14.6%",
                "stroke": "blue",
                "width": "50",
                "x": "-25",
                "y": "12.299999999999997%"
               },
               "children": [],
               "tagName": "rect"
              },
              {
               "attributes": {
                "fill": "blue",
                "height": "14.6%",
                "stroke": "blue",
                "width": "50",
                "x": "-25",
                "y": "26.9%"
               },
               "children": [],
               "tagName": "rect"
              }
             ],
             "tagName": "g"
            }
           ],
           "tagName": "g"
          }
         ],
         "tagName": "svg"
        },
        {
         "attributes": {
          "height": "100",
          "viewBox": "-25 -25 50 50",
          "x": "360",
          "y": "90"
         },
         "children": [
          {
           "attributes": {
            "style": {
             "clip-path": "url(#uniquid)"
            }
           },
           "children": [
            {
             "attributes": {},
             "children": [
              {
               "attributes": {
                "fill": "#ffef00",
                "height": "18.25%",
                "stroke": "#ffef00",
                "width": "50",
                "x": "-25",
                "y": "-31.5%"
               },
               "children": [],
               "tagName": "rect"
              },
              {
               "attributes": {
                "fill": "white",
                "height": "18.25%",
                "stroke": "white",
                "width": "50",
                "x": "-25",
                "y": "-13.25%"
               },
               "children": [],
               "tagName": "rect"
              },
              {
               "attributes": {
                "fill": "#9C59D1",
                "height": "18.25%",
                "stroke": "#9C59D1",
                "width": "50",
                "x": "-25",
                "y": "5.0%"
               },
               "children": [],
               "tagName": "rect"
              },
              {
               "attributes": {
                "fill": "black",
                "height": "18.25%",
                "stroke": "black",
                "width": "50",
                "x": "-25",
                "y": "23.25%"
               },
               "children": [],
               "tagName": "rect"
              }
             ],
             "tagName": "g"
            }
           ],
           "tagName": "g"
          }
         ],
         "tagName": "svg"
        },
        {
         "attributes": {
          "height": "100",
          "viewBox": "-25 -25 50 50",
          "x": "0",
          "y": "180"
         },
         "children": [
          {
           "attributes": {
            "style": {
             "clip-path": "url(#uniquid)"
            }
           },
           "children": [
            {
             "attributes": {},
             "children": [
              {
               "attributes": {
                "fill": "#ff75a2",
                "height": "14.6%",
                "stroke": "#ff75a2",
                "width": "50",
                "x": "-25",
                "y": "-31.5%"
               },
               "children": [],
               "tagName": "rect"
              },
              {
               "attributes": {
                "fill": "white",
                "height": "14.6%",
                "stroke": "white",
                "width": "50",
                "x": "-25",
                "y": "-16.9%"
               },
               "children": [],
               "tagName": "rect"
              },
              {
               "attributes": {
                "fill": "#be18d6",
                "height": "14.6%",
                "stroke": "#be18d6",
                "width": "50",
                "x": "-25",
                "y": "-2.3000000000000007%"
               },
               "children": [],
               "tagName": "rect"
              },
              {
               "attributes": {
                "fill": "black",
                "height": "14.6%",
                "stroke": "black",
                "width": "50",
                "x": "-25",
                "y": "12.299999999999997%"
               },
               "children": [],
               "tagName": "rect"
              },
              {
               "attributes": {
                "fill": "mediumblue",
                "height": "14.6%",
                "stroke": "mediumblue",
                "width": "50",
                "x": "-25",
                "y": "26.9%"
               },
               "children": [],
               "tagName": "rect"
              }
             ],
             "tagName": "g"
            }
           ],
           "tagName": "g"
          }
         ],
         "tagName": "svg"
        },
        {
         "attributes": {
          "height": "100",
          "viewBox": "-25 -25 50 50",
          "x": "120",
          "y": "180"
         },
         "children": [
          {
           "attributes": {
            "style": {
             "clip-path": "url(#uniquid)"
            }
           },
           "children": [
            {
             "attributes": {},
             "children": [
              {
               "attributes": {
                "fill": "deeppink",
                "height": "24.333333333333332%",
                "stroke": "deeppink",
                "width": "50",
                "x": "-25",
                "y": "-31.5%"
               },
               "children": [],
               "tagName": "rect"
              },
              {
               "attributes": {
                "fill": "gold",
                "height": "24.333333333333332%",
                "stroke": "gold",
                "width": "50",
                "x": "-25",
                "y": "-7.166666666666668%"
               },
               "children": [],
               "tagName": "rect"
              },
              {
               "attributes": {
                "fill": "deepskyblue",
                "height": "24.333333333333332%",
                "stroke": "deepskyblue",
                "width": "50",
                "x": "-25",
                "y": "17.166666666666664%"
               },
               "children": [],
               "tagName": "rect"
              }
             ],
             "tagName": "g"
            }
           ],
           "tagName": "g"
          }
         ],
         "tagName": "svg"
        },
        {
         "attributes": {
          "height": "100",
          "viewBox": "-25 -25 50 50",
          "x": "240",
          "y": "180"
         },
         "children": [
          {
           "attributes": {
            "style": {
             "clip-path": "url(#uniquid)"
            }
           },
           "children": [
            {
             "attributes": {},
             "children": [
              {
               "attributes": {
                "fill": "#f61cb9",
                "height": "24.333333333333332%",
                "stroke": "#f61cb9",
                "width": "50",
                "x": "-25",
                "y": "-31.5%"
               },
               "children": [],
               "tagName": "rect"
              },
              {
               "attributes": {
                "fill": "#07d569",
                "height": "24.333333333333332%",
                "stroke": "#07d569",
                "width": "50",
                "x": "-25",
                "y": "-7.166666666666668%"
               },
               "children": [],
               "tagName": "rect"
              },
              {
               "attributes": {
                "fill": "dodgerblue",
                "height": "24.333333333333332%",
                "stroke": "dodgerblue",
                "width": "50",
                "x": "-25",
                "y": "17.166666666666664%"
               },
               "children": [],
               "tagName": "rect"
              }
             ],
             "tagName": "g"
            }
           ],
           "tagName": "g"
          }
         ],
         "tagName": "svg"
        },
        {
         "attributes": {
          "height": "100",
          "viewBox": "-25 -25 50 50",
          "x": "360",
          "y": "180"
         },
         "children": [
          {
           "attributes": {
            "style": {
             "clip-path": "url(#uniquid)"
            }
           },
           "children": [
            {
             "attributes": {},
             "children": [
              {
               "attributes": {
                "fill": "#3da542",
                "height": "14.6%",
                "stroke": "#3da542",
                "width": "50",
                "x": "-25",
                "y": "-31.5%"
               },
               "children": [],
               "tagName": "rect"
              },
              {
               "attributes": {
                "fill": "#a7d379",
                "height": "14.6%",
                "stroke": "#a7d379",
                "width": "50",
                "x": "-25",
                "y": "-16.9%"
               },
               "children": [],
               "tagName": "rect"
              },
              {
               "attributes": {
                "fill": "white",
                "height": "14.6%",
                "stroke": "white",
                "width": "50",
                "x": "-25",
                "y": "-2.3000000000000007%"
               },
               "children": [],
               "tagName": "rect"
              },
              {
               "attributes": {
                "fill": "lightgrey",
                "height": "14.6%",
                "stroke": "lightgrey",
                "width": "50",
                "x": "-25",
                "y": "12.299999999999997%"
               },
               "children": [],
               "tagName": "rect"
              },
              {
               "attributes": {
                "fill": "black",
                "height": "14.6%",
                "stroke": "black",
                "width": "50",
                "x": "-25",
                "y": "26.9%"
               },
               "children": [],
               "tagName": "rect"
              }
             ],
             "tagName": "g"
            }
           ],
           "tagName": "g"
          }
         ],
         "tagName": "svg"
        },
        {
         "attributes": {
          "height": "100",
          "viewBox": "-25 -25 50 50",
          "x": "0",
          "y": "270"
         },
         "children": [
          {
           "attributes": {
            "style": {
             "clip-path": "url(#uniquid)"
            }
           },
           "children": [
            {
             "attributes": {},
             "children": [
              {
               "attributes": {
                "fill": "#A60061",
                "height": "10.428571428571429%",
                "stroke": "#A60061",
                "width": "50",
                "x": "-25",
                "y": "-31.5%"
               },
               "children": [],
               "tagName": "rect"
              },
              {
               "attributes": {
                "fill": "#B95393",
                "height": "10.428571428571429%",
                "stroke": "#B95393",
                "width": "50",
                "x": "-25",
                "y": "-21.07142857142857%"
               },
               "children": [],
               "tagName": "rect"
              },
              {
               "attributes": {
                "fill": "#D260A7",
                "height": "10.428571428571429%",
                "stroke": "#D260A7",
                "width": "50",
                "x": "-25",
                "y": "-10.642857142857142%"
               },
               "children": [],
               "tagName": "rect"
              },
              {
               "attributes": {
                "fill": "#EDEDEB",
                "height": "10.428571428571429%",
                "stroke": "#EDEDEB",
                "width": "50",
                "x": "-25",
                "y": "-0.2142857142857153%"
               },
               "children": [],
               "tagName": "rect"
              },
              {
               "attributes": {
                "fill": "#E5ABD0",
                "height": "10.428571428571429%",
                "stroke": "#E5ABD0",
                "width": "50",
                "x": "-25",
                "y": "10.214285714285715%"
               },
               "children": [],
               "tagName": "rect"
              },
              {
               "attributes": {
                "fill": "#C74D52",
                "height": "10.428571428571429%",
                "stroke": "#C74D52",
                "width": "50",
                "x": "-25",
                "y": "20.642857142857146%"
               },
               "children": [],
               "tagName": "rect"
              },
              {
               "attributes": {
                "fill": "#8C1D00",
                "height": "10.428571428571429%",
                "stroke": "#8C1D00",
                "width": "50",
                "x": "-25",
                "y": "31.07142857142857%"
               },
               "children": [],
               "tagName": "rect"
              }
             ],
             "tagName": "g"
            }
           ],
           "tagName": "g"
          }
         ],
         "tagName": "svg"
        },
        {
         "attributes": {
          "height": "100",
          "viewBox": "-25 -25 50 50",
          "x": "120",
          "y": "270"
         },
         "children": [
          {
           "attributes": {
            "style": {
             "clip-path": "url(#uniquid)"
            }
           },
           "children": [
            {
             "attributes": {},
             "children": [
              {
               "attributes": {
                "fill": "#623804",
                "height": "10.428571428571429%",
                "stroke": "#623804",
                "width": "50",
                "x": "-25",
                "y": "-31.5%"
               },
               "children": [],
               "tagName": "rect"
              },
              {
               "attributes": {
                "fill": "chocolate",
                "height": "10.428571428571429%",
                "stroke": "chocolate",
                "width": "50",
                "x": "-25",
                "y": "-21.07142857142857%"
               },
               "children": [],
               "tagName": "rect"
              },
              {
               "attributes": {
                "fill": "#fedd63",
                "height": "10.428571428571429%",
                "stroke": "#fedd63",
                "width": "50",
                "x": "-25",
                "y": "-10.642857142857142%"
               },
               "children": [],
               "tagName": "rect"
              },
              {
               "attributes": {
                "fill": "moccasin",
                "height": "10.428571428571429%",
                "stroke": "moccasin",
                "width": "50",
                "x": "-25",
                "y": "-0.2142857142857153%"
               },
               "children": [],
               "tagName": "rect"
              },
              {
               "attributes": {
                "fill": "white",
                "height": "10.428571428571429%",
                "stroke": "white",
                "width": "50",
                "x": "-25",
                "y": "10.214285714285715%"
               },
               "children": [],
               "tagName": "rect"
              },
              {
               "attributes": {
                "fill": "dimgray",
                "height": "10.428571428571429%",
                "stroke": "dimgray",
                "width": "50",
                "x": "-25",
                "y": "20.642857142857146%"
               },
               "children": [],
               "tagName": "rect"
              },
              {
               "attributes": {
                "fill": "black",
                "height": "10.428571428571429%",
                "stroke": "black",
                "width": "50",
                "x": "-25",
                "y": "31.07142857142857%"
               },
               "children": [],
               "tagName": "rect"
              },
              {
               "attributes": {
                "d": "M98.9 24.4c-5.7 0-11.5 1.3-16.3 4.4C61.2 42.6 91.1 48.3 96 51.1c4.7 2.7 22.4 22.9 29.7-8.4 2.2-9.7-12.2-18.3-26.8-18.3m45.4 11.2c-17.7 1.9-.8 43 23.6 44.4 16.5.9 28.9-39.3-23.6-44.4m-94.4 8.9C34.2 44 43.7 73.3 69 83.6c5.1 2.1 14.2-4.7 14.4-16 .1-4.2-7.1-22.2-33.5-23.1m61 17.7c-7.1-.1-14.6 3-22.8 11.5-28.9 30.3 13.8 35.5 10.6 51.9-9.7 48.5-.9 52.5 8.3 55.6 11.7 3.9 33.8-33.4 43.1-40.4 12.4-9.4 77.9-42.2 62.4-58.8-22.3-23.8-27 7.3-57.7-1-14.6-3.9-28.3-18.8-43.9-18.8M54.4 96.5c-2.8-.1-5.5.4-8.1 1.6-11.5 5.2 10.8 36.5 20.9 37.4 12.4 1.1 17.4-8.9 17.6-14.7.3-7.6-15.4-24-30.4-24.3m4 46.7c-4.5.1-8 1.2-9.6 3.3-4.1 6.2 21.6 30.4 28.7 32 6.5 1.5 12.6-13 11.4-18.7-2.2-10.4-19.2-16.7-30.5-16.6",
                "transform": "scale(.08 .08) translate(-120,-80) "
               },
               "children": [],
               "tagName": "path"
              }
             ],
             "tagName": "g"
            }
           ],
           "tagName": "g"
          }
         ],
         "tagName": "svg"
        },
        {
         "attributes": {
          "height": "100",
          "viewBox": "-25 -25 50 50",
          "x": "240",
          "y": "270"
         },
         "children": [
          {
           "attributes": {
            "style": {
             "clip-path": "url(#uniquid)"
            }
           },
           "children": [
            {
             "attributes": {},
             "children": [
              {
               "attributes": {
                "fill": "gold",
                "height": "73.0%",
                "stroke": "gold",
                "width": "50",
                "x": "-25",
                "y": "-31.5%"
               },
               "children": [],
               "tagName": "rect"
              },
              {
               "attributes": {
                "cx": "0",
                "cy": "2",
                "fill": "transparent",
                "r": "5",
                "stroke": "purple",
                "stroke-width": "2.5"
               },
               "children": [],
               "tagName": "circle"
              }
             ],
             "tagName": "g"
            }
           ],
           "tagName": "g"
          }
         ],
         "tagName": "svg"
        },
        {
         "attributes": {
          "height": "100",
          "viewBox": "-25 -25 50 50",
          "x": "360",
          "y": "270"
         },
         "children": [
          {
           "attributes": {
            "style": {
             "clip-path": "url(#uniquid)"
            }
           },
           "children": [
            {
             "attributes": {},
             "children": [
              {
               "attributes": {
                "fill": "blue",
                "height": "24.333333333333332%",
                "stroke": "blue",
                "width": "50",
                "x": "-25",
                "y": "-31.5%"
               },
               "children": [],
               "tagName": "rect"
              },
              {
               "attributes": {
                "fill": "red",
                "height": "24.333333333333332%",
                "stroke": "red",
                "width": "50",
                "x": "-25",
                "y": "-7.166666666666668%"
               },
               "children": [],
               "tagName": "rect"
              },
              {
               "attributes": {
                "fill": "black",
                "height": "24.333333333333332%",
                "stroke": "black",
                "width": "50",
                "x": "-25",
                "y": "17.166666666666664%"
               },
               "children": [],
               "tagName": "rect"
              },
              {
               "attributes": {
                "fill": "yellow",
                "font-family": "Minion Pro",
                "text-anchor": "middle",
                "y": "4.5"
               },
               "children": [
                "π"
               ],
               "tagName": "text"
              }
             ],
             "tagName": "g"
            }
           ],
           "tagName": "g"
          }
         ],
         "tagName": "svg"
        }
       ],
       "tagName": "svg"
      },
      "text/html": [
       "<svg viewBox=\"200 0 700 700\" width=\"450\"><clipPath id=\"uniquid\"><path d=\"M0.0,5.0 Q2.26480878769362e-09,5.01935203545116 0.00240468499265089,5.05784209373124 Q0.00617678614768245,5.11821945317385 0.0144892681784808,5.19071052417724 Q0.0249796452381706,5.28219447150715 0.0416669391001586,5.38322902221801 Q0.0625689845764014,5.50978212250472 0.0921242540272451,5.64469196933818 Q0.129325564905271,5.81450341906648 0.178888071354544,5.99135494886849 Q0.227032997926876,6.16314819595208 0.285852572783466,6.33796304924934 Q0.345659522697073,6.51571243286517 0.415701700411068,6.69417844133358 Q0.487743067528425,6.87773834271958 0.569888188951648,7.06019887319993 Q0.692043825721294,7.33153065651206 0.834806300015498,7.59665683949396 Q0.918421740467044,7.75194024064588 1.00862101667763,7.90415568501767 Q1.12167926629051,8.09494670272544 1.24449884261148,8.27994312284276 Q1.44189780344349,8.57727439675439 1.66250874377508,8.85670281234556 Q1.80054060640138,9.03153559541965 1.94694688614682,9.19842404729501 Q2.08999423977703,9.36148366081515 2.24054566891579,9.51639833059041 Q2.48490085256662,9.76783534981824 2.74741879975013,9.99621086079807 Q3.01662696842382,10.2304064795754 3.30291999709097,10.4385942042024 Q3.46972317871875,10.5598908176942 3.64179542494331,10.6719572214367 Q3.79857226878001,10.7740621074039 3.95941554482475,10.8683033405894 Q4.13334243392154,10.9702105195257 4.31166833497306,11.0627149706127 Q4.47604708828145,11.1479845038409 4.64386151028959,11.2251070150907 Q4.80544594869858,11.299366411392 4.96995032351617,11.3659501831024 Q5.16725965014621,11.4458118838945 5.36835311845226,11.5144650549576 Q5.56561833961004,11.5818112650908 5.7660857806164,11.6382214352365 Q5.93594304380552,11.6860181101922 6.10780540394526,11.7258795037075 Q6.3802811445957,11.7890769525997 6.65689783599178,11.8321328272072 Q6.88756600251257,11.8680367330906 7.12039035026157,11.8898178268749 Q7.33575429714658,11.9099654719568 7.5524023719199,11.9179755377665 Q7.78903411552322,11.9267244539104 8.02650188595541,11.9209696911957 Q8.31148267851657,11.9140635041521 8.59647282523938,11.8863060110558 Q8.84172783653293,11.8624186438571 9.08605624824551,11.8231757557194 Q9.29602775102361,11.7894511138005 9.5047004646898,11.7444820539865 Q9.73546771599974,11.6947516117789 9.96389320433066,11.631434414029 Q10.2137994798527,11.5621629628359 10.4598847954114,11.4769149350853 Q10.7426952738113,11.3789447028671 11.0189146985215,11.2604175545564 Q11.2783606307036,11.14908799649 11.5305552606758,11.0202359184706 Q11.8305962880828,10.8669380077389 12.1182124982183,10.6899608334626 Q12.3086605446971,10.5727735681955 12.4928101128895,10.4457122376404 Q12.7138340887796,10.2932079405257 12.9247407405014,10.1272078034175 Q13.1164494580624,9.97631795172166 13.2989309836935,9.81495653041487 Q13.4993501715355,9.63773352169933 13.6876496499027,9.44875874377583 Q13.8259025844505,9.31000999189398 13.9571663998683,9.16537567684822 Q14.0895559130142,9.01950100078341 14.2144709921875,8.86804150073268 Q14.3647042289743,8.68588374135466 14.50359102542,8.496302620215 Q14.6242491373507,8.33160373796121 14.7359701511584,8.16180777241553 Q14.8556947497797,7.9798477889744 14.9647911861361,7.79259020255814 Q15.0815966885041,7.5921004598673 15.1858302302757,7.38620717426887 Q15.2838990649354,7.19249108020058 15.3705462405702,6.99456656547992 Q15.4710479022511,6.76499482847765 15.555848418953,6.53053381443338 Q15.6293410875024,6.32733734508333 15.6908398354807,6.12101489646327 Q15.7582996840502,5.89469352248478 15.811151998362,5.66520400901477 Q15.858001700426,5.46177837907041 15.8932743283624,5.25628456535619 Q15.9234569772515,5.08044431780161 15.9451194504346,4.90333416558016 Q15.9730560934491,4.67492704627213 15.9867773968648,4.44479362169134 Q16.0034165941822,4.16572133934909 15.9991176647554,3.88472444785707 Q15.9950908430473,3.62151371089842 15.9726972179107,3.35708697651958 Q15.9526619394994,3.12050789606779 15.9179459679384,2.88322942110747 Q15.882312030686,2.63967678789829 15.83124032874,2.39559405324708 Q15.7875158480249,2.1866252815493 15.7324953373768,1.97736550244011 Q15.6648912559291,1.72024656653811 15.5802540161198,1.46276838245011 Q15.4968741501039,1.20911530326591 15.3969639315714,0.955118442554341 Q15.3045821236361,0.720260691795003 15.1980404233408,0.485042552463534 Q15.0759331774567,0.215459477516022 14.935136668034,-0.0547900505028633 Q14.7784251600096,-0.355587358989756 14.5983261379963,-0.657651595836769 Q14.4326365303214,-0.935548190367364 14.2468180712942,-1.21507534194023 Q13.9287667177733,-1.69352075241799 13.5495204141351,-2.17993676735823 Q13.228806301099,-2.59128021171493 12.8611063340419,-3.0124517446707 Q12.1591087582907,-3.81653502342836 11.2483797084418,-4.69658759121086 Q10.4733210891135,-5.44553957449827 9.42454171069957,-6.36494199823616 Q8.84072932123853,-6.87673555265406 7.788610883906,-7.77268471082305 Q6.43199730758967,-8.92793182800395 5.86781215340663,-9.42143310902599 Q4.99911290579133,-10.1812974697638 4.33114177564245,-10.8099404645036 Q3.70609091742599,-11.3981902041088 3.18523060681885,-11.9373159451196 Q2.65398052055043,-12.4871958084704 2.2119638126538,-13.0054355175612 Q1.84652002656313,-13.4338977860892 1.53818480616621,-13.8451114872961 Q1.35658899707246,-14.0872981719213 1.19468144267213,-14.3236430665681 Q1.01229440141544,-14.5898829354267 0.855250034700979,-14.8481696259238 Q0.710327112506176,-15.0865204992088 0.587635439099838,-15.317016364333 Q0.482522452421447,-15.5144878644567 0.394395445017321,-15.7049318068687 Q0.31840843950407,-15.869141001397 0.255658210448299,-16.0268054813404 Q0.189432844334108,-16.1932014939857 0.138853346014398,-16.3499815211115 Q0.0926197731189966,-16.4932905900716 0.0605744460923479,-16.625013082467 Q0.0353801389730772,-16.7285744199802 0.0199590858880895,-16.820733667613 Q0.00867700999654953,-16.8881575731122 0.00346592649802561,-16.9441272743669 Q0.000399281055259889,-16.9770646144295 2.49345880547808e-05,-16.9979165809901 Q0.000120167169769384,-16.9926119052863 -0.00120639179482519,-16.9723446290242 Q-0.00426775812446953,-16.9255728240776 -0.0129503651544767,-16.86557788734 Q-0.0227183511665687,-16.7980832165775 -0.0385454062196693,-16.7222898015959 Q-0.06004549711036,-16.6193290609179 -0.0915669504606278,-16.5067117118991 Q-0.132286979305915,-16.3612304217578 -0.188273154562518,-16.204902779091 Q-0.258831712369531,-16.0078853375281 -0.351810097949509,-15.7987840090959 Q-0.440000005976105,-15.6004516030464 -0.547194072845051,-15.3939437422104 Q-0.651340977758142,-15.193306195987 -0.772699085783482,-14.9863772240217 Q-0.910246809839973,-14.7518431694101 -1.0692413762151,-14.5103646821128 Q-1.22417112561029,-14.2750597759499 -1.39908931791318,-14.0337431312646 Q-1.76797104341055,-13.5248349433239 -2.22583196061482,-12.9891937151164 Q-2.65281454964278,-12.4896763511826 -3.16250584273345,-11.960865339223 Q-3.75455354091074,-11.3466085397729 -4.48484292020919,-10.6660006846297 Q-5.15417223354364,-10.0422057873649 -6.03462845747207,-9.27588577364818 Q-6.5518613566613,-8.82570334364281 -7.72688839874177,-7.82524124839609 Q-9.00011940672614,-6.74116461325269 -9.66659027493077,-6.1518575057301 Q-10.6800142168527,-5.25576742827941 -11.4416925502921,-4.5083632999628 Q-11.9256928826451,-4.03343335824615 -12.3453337586718,-3.58350021932445 Q-12.8421226311087,-3.05085006647637 -13.2630306985554,-2.53794032909005 Q-13.5888635034756,-2.14088731127246 -13.8734126595931,-1.7506997108797 Q-14.1158142868982,-1.41830684568896 -14.3296155195759,-1.08906603538983 Q-14.6222670714185,-0.638400560466284 -14.8629035091692,-0.191196762642277 Q-14.9849831812171,0.035678657752151 -15.093879517273,0.262018849814471 Q-15.1989501677438,0.48040738398381 -15.2918143665365,0.698434979814885 Q-15.4099383650006,0.975767813457227 -15.5083731080758,1.25265889367945 Q-15.596037025423,1.49925228146578 -15.6680979222918,1.74552862415746 Q-15.7452025309944,2.00904242791343 -15.8044279558644,2.27213565719569 Q-15.8673099421169,2.55147218982739 -15.9099982659839,2.83015436556823 Q-15.9467996846554,3.07040505935725 -15.9685614040832,3.30996314026493 Q-15.9881495049069,3.52559352082962 -15.9955342067788,3.74046434121497 Q-16.0051232678424,4.01947484877545 -15.9941254637899,4.2967472393645 Q-15.9844330208493,4.54110936947305 -15.958768035937,4.78366431573383 Q-15.9275621653641,5.07858513044192 -15.8728386332033,5.37000215623899 Q-15.8278093231867,5.60979493058336 -15.7669750538715,5.84656658453498 Q-15.721016172269,6.02544208568407 -15.6661182996239,6.20226632422338 Q-15.6208315317082,6.34813351117917 -15.5695193619767,6.49241673134215 Q-15.4613890101118,6.79646537021361 -15.3269801205853,7.09222815454625 Q-15.2212449367798,7.32489529787583 -15.0996951958763,7.55142914467109 Q-14.9588348202878,7.81395247467492 -14.7974725228564,8.0668861942751 Q-14.6745800019696,8.25951894005113 -14.5402766384116,8.44582208248948 Q-14.3933701098356,8.64960810238759 -14.2334198263091,8.84498132868387 Q-14.0945594532161,9.01459402644063 -13.9463689488664,9.17725000648766 Q-13.7735280755873,9.36696257787514 -13.588753931665,9.54638613301087 Q-13.4189681105967,9.71125538896335 -13.23982095404,9.86674014639278 Q-13.0625216805617,10.0206210957701 -12.8767644199624,10.1646925661538 Q-12.6944389535778,10.3061023713246 -12.5046728111778,10.4375123135825 Q-12.3142699757146,10.5693631553476 -12.1171076375409,10.6906405650386 Q-11.9213331232265,10.811064304174 -11.7196291899761,10.9206103014377 Q-11.509884893371,11.0345230436026 -11.2945462865961,11.1362305693748 Q-11.0736106685721,11.2405816441808 -10.8476757705343,11.3316650627413 Q-10.6451233054253,11.4133220848312 -10.4392342246826,11.4840381672923 Q-10.2480502354789,11.5497035376801 -10.0545178054937,11.605752174849 Q-9.87842747053587,11.6567494330024 -9.70078839955957,11.699669661687 Q-9.51646003889087,11.7442061217657 -9.33086927650686,11.7799481442673 Q-9.13248730736292,11.8181535630821 -8.933139388093,11.846219406851 Q-8.71465712197788,11.8769791417381 -8.49561748097842,11.8954757888015 Q-8.29291726492743,11.9125926647188 -8.09024399409492,11.9191639457214 Q-7.78610008904026,11.9290252118723 -7.4833331334596,11.915111810162 Q-7.17318452623145,11.9008591908364 -6.86609005385436,11.8617329844013 Q-6.59503326929163,11.8271982575912 -6.32749985800465,11.7734249707618 Q-6.065591016902,11.7207822030116 -5.80803820752765,11.6498970887622 Q-5.55929013948285,11.5814352643096 -5.31546652781383,11.4961928265364 Q-5.10668790644988,11.4232023621669 -4.90208243255889,11.3381020157274 Q-4.65361227556304,11.2347572906909 -4.41212777878246,11.1139056578479 Q-4.19936350048537,11.0074271435513 -3.99268182769649,10.8876853593409 Q-3.75270580423463,10.7486543711102 -3.52182577913573,10.5922682144105 Q-3.32874675879168,10.4614864981576 -3.14265200973488,10.3189846901617 Q-2.96546888319985,10.183306945327 -2.79512566366148,10.0373935236474 Q-2.59954871236449,9.869865269557 -2.41370491741605,9.68946420864727 Q-2.19513433610818,9.47729481788262 -1.99121915187079,9.24849308724242 Q-1.80560573104341,9.04022673339448 -1.63321108031305,8.8193835024801 Q-1.48460042648279,8.62900835568098 -1.34656919353414,8.43025073001946 Q-1.22862003028138,8.26041021540489 -1.11890397474925,8.08517660112203 Q-0.95801857573265,7.82821758251459 -0.816175270753006,7.56186513162384 Q-0.660837400706088,7.27017267275816 -0.530605965747761,6.97155652900988 Q-0.428580116785493,6.73761481140916 -0.343519030901754,6.5029591230879 Q-0.261963346200934,6.27797368901832 -0.197516475528564,6.05656345647983 Q-0.136184858928778,5.84585582472599 -0.0920712402436369,5.64444995400555 Q-0.0534506179297929,5.46812299882186 -0.0298383755424187,5.30751615628668 Q-0.0115789781484796,5.18331854244193 -0.00400653952455051,5.08123174112462 Z\" fill=\"none\" id=\"22760fadc5104d7f887046ac72e101bb\" stroke=\"red\" stroke-width=\".5\" transform=\"scale(1.25 -1.25)\"></path></clipPath><svg height=\"100\" viewBox=\"-25 -25 50 50\" x=\"0\" y=\"0\"><g style=\"clip-path: url(#uniquid)\"><g><rect fill=\"lightskyblue\" height=\"14.6%\" stroke=\"lightskyblue\" width=\"50\" x=\"-25\" y=\"-31.5%\"></rect><rect fill=\"lightpink\" height=\"14.6%\" stroke=\"lightpink\" width=\"50\" x=\"-25\" y=\"-16.9%\"></rect><rect fill=\"white\" height=\"14.6%\" stroke=\"white\" width=\"50\" x=\"-25\" y=\"-2.3000000000000007%\"></rect><rect fill=\"lightpink\" height=\"14.6%\" stroke=\"lightpink\" width=\"50\" x=\"-25\" y=\"12.299999999999997%\"></rect><rect fill=\"lightskyblue\" height=\"14.6%\" stroke=\"lightskyblue\" width=\"50\" x=\"-25\" y=\"26.9%\"></rect></g></g></svg><svg height=\"100\" viewBox=\"-25 -25 50 50\" x=\"120\" y=\"0\"><g style=\"clip-path: url(#uniquid)\"><g><rect fill=\"purple\" height=\"73.0%\" stroke=\"purple\" width=\"50\" x=\"-25\" y=\"-31.5%\"></rect><g transform=\"scale(.04, .04) translate(-500 -150)\"><path d=\"M500 550L211.325 50h577.35z\" fill=\"black\"></path><path d=\"M479.667 132.374a162.687 162.687 0 0 1-108.732-62.373 162.687 162.687 0 0 0 0 198.075 162.687 162.687 0 0 1 108.732-62.373zm40.672 73.329a162.687 162.687 0 0 1 108.732 62.373 162.687 162.687 0 0 0 0-198.075 162.687 162.687 0 0 1-108.732 62.373zm-4.067-91.571a16.269 8.134 0 0 0-32.538 0v347.743a16.269 8.134 0 0 0 32.538 0z\" fill=\"white\"></path></g></g></g></svg><svg height=\"100\" viewBox=\"-25 -25 50 50\" x=\"240\" y=\"0\"><g style=\"clip-path: url(#uniquid)\"><g><rect fill=\"forestgreen\" height=\"24.333333333333332%\" stroke=\"forestgreen\" width=\"50\" x=\"-25\" y=\"-31.5%\"></rect><rect fill=\"white\" height=\"24.333333333333332%\" stroke=\"white\" width=\"50\" x=\"-25\" y=\"-7.166666666666668%\"></rect><rect fill=\"purple\" height=\"24.333333333333332%\" stroke=\"purple\" width=\"50\" x=\"-25\" y=\"17.166666666666664%\"></rect></g></g></svg><svg height=\"100\" viewBox=\"-25 -25 50 50\" x=\"360\" y=\"0\"><g style=\"clip-path: url(#uniquid)\"><g><rect fill=\"red\" height=\"9.125%\" stroke=\"red\" width=\"50\" x=\"-25\" y=\"-31.5%\"></rect><rect fill=\"orange\" height=\"9.125%\" stroke=\"orange\" width=\"50\" x=\"-25\" y=\"-22.375%\"></rect><rect fill=\"yellow\" height=\"9.125%\" stroke=\"yellow\" width=\"50\" x=\"-25\" y=\"-13.25%\"></rect><rect fill=\"green\" height=\"9.125%\" stroke=\"green\" width=\"50\" x=\"-25\" y=\"-4.125%\"></rect><rect fill=\"blue\" height=\"9.125%\" stroke=\"blue\" width=\"50\" x=\"-25\" y=\"5.0%\"></rect><rect fill=\"purple\" height=\"9.125%\" stroke=\"purple\" width=\"50\" x=\"-25\" y=\"14.125%\"></rect><rect fill=\"brown\" height=\"9.125%\" stroke=\"brown\" width=\"50\" x=\"-25\" y=\"23.25%\"></rect><rect fill=\"black\" height=\"9.125%\" stroke=\"black\" width=\"50\" x=\"-25\" y=\"32.375%\"></rect></g></g></svg><svg height=\"100\" viewBox=\"-25 -25 50 50\" x=\"0\" y=\"90\"><g style=\"clip-path: url(#uniquid)\"><g><rect fill=\"black\" height=\"10.428571428571429%\" stroke=\"black\" width=\"50\" x=\"-25\" y=\"-31.5%\"></rect><rect fill=\"lightgrey\" height=\"10.428571428571429%\" stroke=\"lightgrey\" width=\"50\" x=\"-25\" y=\"-21.07142857142857%\"></rect><rect fill=\"white\" height=\"10.428571428571429%\" stroke=\"white\" width=\"50\" x=\"-25\" y=\"-10.642857142857142%\"></rect><rect fill=\"chartreuse\" height=\"10.428571428571429%\" stroke=\"chartreuse\" width=\"50\" x=\"-25\" y=\"-0.2142857142857153%\"></rect><rect fill=\"white\" height=\"10.428571428571429%\" stroke=\"white\" width=\"50\" x=\"-25\" y=\"10.214285714285715%\"></rect><rect fill=\"lightgrey\" height=\"10.428571428571429%\" stroke=\"lightgrey\" width=\"50\" x=\"-25\" y=\"20.642857142857146%\"></rect><rect fill=\"black\" height=\"10.428571428571429%\" stroke=\"black\" width=\"50\" x=\"-25\" y=\"31.07142857142857%\"></rect></g></g></svg><svg height=\"100\" viewBox=\"-25 -25 50 50\" x=\"120\" y=\"90\"><g style=\"clip-path: url(#uniquid)\"><g><rect fill=\"black\" height=\"18.25%\" stroke=\"black\" width=\"50\" x=\"-25\" y=\"-31.5%\"></rect><rect fill=\"lightgrey\" height=\"18.25%\" stroke=\"lightgrey\" width=\"50\" x=\"-25\" y=\"-13.25%\"></rect><rect fill=\"white\" height=\"18.25%\" stroke=\"white\" width=\"50\" x=\"-25\" y=\"5.0%\"></rect><rect fill=\"purple\" height=\"18.25%\" stroke=\"purple\" width=\"50\" x=\"-25\" y=\"23.25%\"></rect></g></g></svg><svg height=\"100\" viewBox=\"-25 -25 50 50\" x=\"240\" y=\"90\"><g style=\"clip-path: url(#uniquid)\"><g><rect fill=\"deeppink\" height=\"14.6%\" stroke=\"deeppink\" width=\"50\" x=\"-25\" y=\"-31.5%\"></rect><rect fill=\"deeppink\" height=\"14.6%\" stroke=\"deeppink\" width=\"50\" x=\"-25\" y=\"-16.9%\"></rect><rect fill=\"mediumpurple\" height=\"14.6%\" stroke=\"mediumpurple\" width=\"50\" x=\"-25\" y=\"-2.3000000000000007%\"></rect><rect fill=\"blue\" height=\"14.6%\" stroke=\"blue\" width=\"50\" x=\"-25\" y=\"12.299999999999997%\"></rect><rect fill=\"blue\" height=\"14.6%\" stroke=\"blue\" width=\"50\" x=\"-25\" y=\"26.9%\"></rect></g></g></svg><svg height=\"100\" viewBox=\"-25 -25 50 50\" x=\"360\" y=\"90\"><g style=\"clip-path: url(#uniquid)\"><g><rect fill=\"#ffef00\" height=\"18.25%\" stroke=\"#ffef00\" width=\"50\" x=\"-25\" y=\"-31.5%\"></rect><rect fill=\"white\" height=\"18.25%\" stroke=\"white\" width=\"50\" x=\"-25\" y=\"-13.25%\"></rect><rect fill=\"#9C59D1\" height=\"18.25%\" stroke=\"#9C59D1\" width=\"50\" x=\"-25\" y=\"5.0%\"></rect><rect fill=\"black\" height=\"18.25%\" stroke=\"black\" width=\"50\" x=\"-25\" y=\"23.25%\"></rect></g></g></svg><svg height=\"100\" viewBox=\"-25 -25 50 50\" x=\"0\" y=\"180\"><g style=\"clip-path: url(#uniquid)\"><g><rect fill=\"#ff75a2\" height=\"14.6%\" stroke=\"#ff75a2\" width=\"50\" x=\"-25\" y=\"-31.5%\"></rect><rect fill=\"white\" height=\"14.6%\" stroke=\"white\" width=\"50\" x=\"-25\" y=\"-16.9%\"></rect><rect fill=\"#be18d6\" height=\"14.6%\" stroke=\"#be18d6\" width=\"50\" x=\"-25\" y=\"-2.3000000000000007%\"></rect><rect fill=\"black\" height=\"14.6%\" stroke=\"black\" width=\"50\" x=\"-25\" y=\"12.299999999999997%\"></rect><rect fill=\"mediumblue\" height=\"14.6%\" stroke=\"mediumblue\" width=\"50\" x=\"-25\" y=\"26.9%\"></rect></g></g></svg><svg height=\"100\" viewBox=\"-25 -25 50 50\" x=\"120\" y=\"180\"><g style=\"clip-path: url(#uniquid)\"><g><rect fill=\"deeppink\" height=\"24.333333333333332%\" stroke=\"deeppink\" width=\"50\" x=\"-25\" y=\"-31.5%\"></rect><rect fill=\"gold\" height=\"24.333333333333332%\" stroke=\"gold\" width=\"50\" x=\"-25\" y=\"-7.166666666666668%\"></rect><rect fill=\"deepskyblue\" height=\"24.333333333333332%\" stroke=\"deepskyblue\" width=\"50\" x=\"-25\" y=\"17.166666666666664%\"></rect></g></g></svg><svg height=\"100\" viewBox=\"-25 -25 50 50\" x=\"240\" y=\"180\"><g style=\"clip-path: url(#uniquid)\"><g><rect fill=\"#f61cb9\" height=\"24.333333333333332%\" stroke=\"#f61cb9\" width=\"50\" x=\"-25\" y=\"-31.5%\"></rect><rect fill=\"#07d569\" height=\"24.333333333333332%\" stroke=\"#07d569\" width=\"50\" x=\"-25\" y=\"-7.166666666666668%\"></rect><rect fill=\"dodgerblue\" height=\"24.333333333333332%\" stroke=\"dodgerblue\" width=\"50\" x=\"-25\" y=\"17.166666666666664%\"></rect></g></g></svg><svg height=\"100\" viewBox=\"-25 -25 50 50\" x=\"360\" y=\"180\"><g style=\"clip-path: url(#uniquid)\"><g><rect fill=\"#3da542\" height=\"14.6%\" stroke=\"#3da542\" width=\"50\" x=\"-25\" y=\"-31.5%\"></rect><rect fill=\"#a7d379\" height=\"14.6%\" stroke=\"#a7d379\" width=\"50\" x=\"-25\" y=\"-16.9%\"></rect><rect fill=\"white\" height=\"14.6%\" stroke=\"white\" width=\"50\" x=\"-25\" y=\"-2.3000000000000007%\"></rect><rect fill=\"lightgrey\" height=\"14.6%\" stroke=\"lightgrey\" width=\"50\" x=\"-25\" y=\"12.299999999999997%\"></rect><rect fill=\"black\" height=\"14.6%\" stroke=\"black\" width=\"50\" x=\"-25\" y=\"26.9%\"></rect></g></g></svg><svg height=\"100\" viewBox=\"-25 -25 50 50\" x=\"0\" y=\"270\"><g style=\"clip-path: url(#uniquid)\"><g><rect fill=\"#A60061\" height=\"10.428571428571429%\" stroke=\"#A60061\" width=\"50\" x=\"-25\" y=\"-31.5%\"></rect><rect fill=\"#B95393\" height=\"10.428571428571429%\" stroke=\"#B95393\" width=\"50\" x=\"-25\" y=\"-21.07142857142857%\"></rect><rect fill=\"#D260A7\" height=\"10.428571428571429%\" stroke=\"#D260A7\" width=\"50\" x=\"-25\" y=\"-10.642857142857142%\"></rect><rect fill=\"#EDEDEB\" height=\"10.428571428571429%\" stroke=\"#EDEDEB\" width=\"50\" x=\"-25\" y=\"-0.2142857142857153%\"></rect><rect fill=\"#E5ABD0\" height=\"10.428571428571429%\" stroke=\"#E5ABD0\" width=\"50\" x=\"-25\" y=\"10.214285714285715%\"></rect><rect fill=\"#C74D52\" height=\"10.428571428571429%\" stroke=\"#C74D52\" width=\"50\" x=\"-25\" y=\"20.642857142857146%\"></rect><rect fill=\"#8C1D00\" height=\"10.428571428571429%\" stroke=\"#8C1D00\" width=\"50\" x=\"-25\" y=\"31.07142857142857%\"></rect></g></g></svg><svg height=\"100\" viewBox=\"-25 -25 50 50\" x=\"120\" y=\"270\"><g style=\"clip-path: url(#uniquid)\"><g><rect fill=\"#623804\" height=\"10.428571428571429%\" stroke=\"#623804\" width=\"50\" x=\"-25\" y=\"-31.5%\"></rect><rect fill=\"chocolate\" height=\"10.428571428571429%\" stroke=\"chocolate\" width=\"50\" x=\"-25\" y=\"-21.07142857142857%\"></rect><rect fill=\"#fedd63\" height=\"10.428571428571429%\" stroke=\"#fedd63\" width=\"50\" x=\"-25\" y=\"-10.642857142857142%\"></rect><rect fill=\"moccasin\" height=\"10.428571428571429%\" stroke=\"moccasin\" width=\"50\" x=\"-25\" y=\"-0.2142857142857153%\"></rect><rect fill=\"white\" height=\"10.428571428571429%\" stroke=\"white\" width=\"50\" x=\"-25\" y=\"10.214285714285715%\"></rect><rect fill=\"dimgray\" height=\"10.428571428571429%\" stroke=\"dimgray\" width=\"50\" x=\"-25\" y=\"20.642857142857146%\"></rect><rect fill=\"black\" height=\"10.428571428571429%\" stroke=\"black\" width=\"50\" x=\"-25\" y=\"31.07142857142857%\"></rect><path d=\"M98.9 24.4c-5.7 0-11.5 1.3-16.3 4.4C61.2 42.6 91.1 48.3 96 51.1c4.7 2.7 22.4 22.9 29.7-8.4 2.2-9.7-12.2-18.3-26.8-18.3m45.4 11.2c-17.7 1.9-.8 43 23.6 44.4 16.5.9 28.9-39.3-23.6-44.4m-94.4 8.9C34.2 44 43.7 73.3 69 83.6c5.1 2.1 14.2-4.7 14.4-16 .1-4.2-7.1-22.2-33.5-23.1m61 17.7c-7.1-.1-14.6 3-22.8 11.5-28.9 30.3 13.8 35.5 10.6 51.9-9.7 48.5-.9 52.5 8.3 55.6 11.7 3.9 33.8-33.4 43.1-40.4 12.4-9.4 77.9-42.2 62.4-58.8-22.3-23.8-27 7.3-57.7-1-14.6-3.9-28.3-18.8-43.9-18.8M54.4 96.5c-2.8-.1-5.5.4-8.1 1.6-11.5 5.2 10.8 36.5 20.9 37.4 12.4 1.1 17.4-8.9 17.6-14.7.3-7.6-15.4-24-30.4-24.3m4 46.7c-4.5.1-8 1.2-9.6 3.3-4.1 6.2 21.6 30.4 28.7 32 6.5 1.5 12.6-13 11.4-18.7-2.2-10.4-19.2-16.7-30.5-16.6\" transform=\"scale(.08 .08) translate(-120,-80) \"></path></g></g></svg><svg height=\"100\" viewBox=\"-25 -25 50 50\" x=\"240\" y=\"270\"><g style=\"clip-path: url(#uniquid)\"><g><rect fill=\"gold\" height=\"73.0%\" stroke=\"gold\" width=\"50\" x=\"-25\" y=\"-31.5%\"></rect><circle cx=\"0\" cy=\"2\" fill=\"transparent\" r=\"5\" stroke=\"purple\" stroke-width=\"2.5\"></circle></g></g></svg><svg height=\"100\" viewBox=\"-25 -25 50 50\" x=\"360\" y=\"270\"><g style=\"clip-path: url(#uniquid)\"><g><rect fill=\"blue\" height=\"24.333333333333332%\" stroke=\"blue\" width=\"50\" x=\"-25\" y=\"-31.5%\"></rect><rect fill=\"red\" height=\"24.333333333333332%\" stroke=\"red\" width=\"50\" x=\"-25\" y=\"-7.166666666666668%\"></rect><rect fill=\"black\" height=\"24.333333333333332%\" stroke=\"black\" width=\"50\" x=\"-25\" y=\"17.166666666666664%\"></rect><text fill=\"yellow\" font-family=\"Minion Pro\" text-anchor=\"middle\" y=\"4.5\">π</text></g></g></svg></svg>"
      ],
      "text/plain": [
       "<svg viewBox=\"200 0 700 700\" width=\"450\"><clipPath id=\"uniquid\"><path d=\"M0.0,5.0 Q2.26480878769362e-09,5.01935203545116 0.00240468499265089,5.05784209373124 Q0.00617678614768245,5.11821945317385 0.0144892681784808,5.19071052417724 Q0.0249796452381706,5.28219447150715 0.0416669391001586,5.38322902221801 Q0.0625689845764014,5.50978212250472 0.0921242540272451,5.64469196933818 Q0.129325564905271,5.81450341906648 0.178888071354544,5.99135494886849 Q0.227032997926876,6.16314819595208 0.285852572783466,6.33796304924934 Q0.345659522697073,6.51571243286517 0.415701700411068,6.69417844133358 Q0.487743067528425,6.87773834271958 0.569888188951648,7.06019887319993 Q0.692043825721294,7.33153065651206 0.834806300015498,7.59665683949396 Q0.918421740467044,7.75194024064588 1.00862101667763,7.90415568501767 Q1.12167926629051,8.09494670272544 1.24449884261148,8.27994312284276 Q1.44189780344349,8.57727439675439 1.66250874377508,8.85670281234556 Q1.80054060640138,9.03153559541965 1.94694688614682,9.19842404729501 Q2.08999423977703,9.36148366081515 2.24054566891579,9.51639833059041 Q2.48490085256662,9.76783534981824 2.74741879975013,9.99621086079807 Q3.01662696842382,10.2304064795754 3.30291999709097,10.4385942042024 Q3.46972317871875,10.5598908176942 3.64179542494331,10.6719572214367 Q3.79857226878001,10.7740621074039 3.95941554482475,10.8683033405894 Q4.13334243392154,10.9702105195257 4.31166833497306,11.0627149706127 Q4.47604708828145,11.1479845038409 4.64386151028959,11.2251070150907 Q4.80544594869858,11.299366411392 4.96995032351617,11.3659501831024 Q5.16725965014621,11.4458118838945 5.36835311845226,11.5144650549576 Q5.56561833961004,11.5818112650908 5.7660857806164,11.6382214352365 Q5.93594304380552,11.6860181101922 6.10780540394526,11.7258795037075 Q6.3802811445957,11.7890769525997 6.65689783599178,11.8321328272072 Q6.88756600251257,11.8680367330906 7.12039035026157,11.8898178268749 Q7.33575429714658,11.9099654719568 7.5524023719199,11.9179755377665 Q7.78903411552322,11.9267244539104 8.02650188595541,11.9209696911957 Q8.31148267851657,11.9140635041521 8.59647282523938,11.8863060110558 Q8.84172783653293,11.8624186438571 9.08605624824551,11.8231757557194 Q9.29602775102361,11.7894511138005 9.5047004646898,11.7444820539865 Q9.73546771599974,11.6947516117789 9.96389320433066,11.631434414029 Q10.2137994798527,11.5621629628359 10.4598847954114,11.4769149350853 Q10.7426952738113,11.3789447028671 11.0189146985215,11.2604175545564 Q11.2783606307036,11.14908799649 11.5305552606758,11.0202359184706 Q11.8305962880828,10.8669380077389 12.1182124982183,10.6899608334626 Q12.3086605446971,10.5727735681955 12.4928101128895,10.4457122376404 Q12.7138340887796,10.2932079405257 12.9247407405014,10.1272078034175 Q13.1164494580624,9.97631795172166 13.2989309836935,9.81495653041487 Q13.4993501715355,9.63773352169933 13.6876496499027,9.44875874377583 Q13.8259025844505,9.31000999189398 13.9571663998683,9.16537567684822 Q14.0895559130142,9.01950100078341 14.2144709921875,8.86804150073268 Q14.3647042289743,8.68588374135466 14.50359102542,8.496302620215 Q14.6242491373507,8.33160373796121 14.7359701511584,8.16180777241553 Q14.8556947497797,7.9798477889744 14.9647911861361,7.79259020255814 Q15.0815966885041,7.5921004598673 15.1858302302757,7.38620717426887 Q15.2838990649354,7.19249108020058 15.3705462405702,6.99456656547992 Q15.4710479022511,6.76499482847765 15.555848418953,6.53053381443338 Q15.6293410875024,6.32733734508333 15.6908398354807,6.12101489646327 Q15.7582996840502,5.89469352248478 15.811151998362,5.66520400901477 Q15.858001700426,5.46177837907041 15.8932743283624,5.25628456535619 Q15.9234569772515,5.08044431780161 15.9451194504346,4.90333416558016 Q15.9730560934491,4.67492704627213 15.9867773968648,4.44479362169134 Q16.0034165941822,4.16572133934909 15.9991176647554,3.88472444785707 Q15.9950908430473,3.62151371089842 15.9726972179107,3.35708697651958 Q15.9526619394994,3.12050789606779 15.9179459679384,2.88322942110747 Q15.882312030686,2.63967678789829 15.83124032874,2.39559405324708 Q15.7875158480249,2.1866252815493 15.7324953373768,1.97736550244011 Q15.6648912559291,1.72024656653811 15.5802540161198,1.46276838245011 Q15.4968741501039,1.20911530326591 15.3969639315714,0.955118442554341 Q15.3045821236361,0.720260691795003 15.1980404233408,0.485042552463534 Q15.0759331774567,0.215459477516022 14.935136668034,-0.0547900505028633 Q14.7784251600096,-0.355587358989756 14.5983261379963,-0.657651595836769 Q14.4326365303214,-0.935548190367364 14.2468180712942,-1.21507534194023 Q13.9287667177733,-1.69352075241799 13.5495204141351,-2.17993676735823 Q13.228806301099,-2.59128021171493 12.8611063340419,-3.0124517446707 Q12.1591087582907,-3.81653502342836 11.2483797084418,-4.69658759121086 Q10.4733210891135,-5.44553957449827 9.42454171069957,-6.36494199823616 Q8.84072932123853,-6.87673555265406 7.788610883906,-7.77268471082305 Q6.43199730758967,-8.92793182800395 5.86781215340663,-9.42143310902599 Q4.99911290579133,-10.1812974697638 4.33114177564245,-10.8099404645036 Q3.70609091742599,-11.3981902041088 3.18523060681885,-11.9373159451196 Q2.65398052055043,-12.4871958084704 2.2119638126538,-13.0054355175612 Q1.84652002656313,-13.4338977860892 1.53818480616621,-13.8451114872961 Q1.35658899707246,-14.0872981719213 1.19468144267213,-14.3236430665681 Q1.01229440141544,-14.5898829354267 0.855250034700979,-14.8481696259238 Q0.710327112506176,-15.0865204992088 0.587635439099838,-15.317016364333 Q0.482522452421447,-15.5144878644567 0.394395445017321,-15.7049318068687 Q0.31840843950407,-15.869141001397 0.255658210448299,-16.0268054813404 Q0.189432844334108,-16.1932014939857 0.138853346014398,-16.3499815211115 Q0.0926197731189966,-16.4932905900716 0.0605744460923479,-16.625013082467 Q0.0353801389730772,-16.7285744199802 0.0199590858880895,-16.820733667613 Q0.00867700999654953,-16.8881575731122 0.00346592649802561,-16.9441272743669 Q0.000399281055259889,-16.9770646144295 2.49345880547808e-05,-16.9979165809901 Q0.000120167169769384,-16.9926119052863 -0.00120639179482519,-16.9723446290242 Q-0.00426775812446953,-16.9255728240776 -0.0129503651544767,-16.86557788734 Q-0.0227183511665687,-16.7980832165775 -0.0385454062196693,-16.7222898015959 Q-0.06004549711036,-16.6193290609179 -0.0915669504606278,-16.5067117118991 Q-0.132286979305915,-16.3612304217578 -0.188273154562518,-16.204902779091 Q-0.258831712369531,-16.0078853375281 -0.351810097949509,-15.7987840090959 Q-0.440000005976105,-15.6004516030464 -0.547194072845051,-15.3939437422104 Q-0.651340977758142,-15.193306195987 -0.772699085783482,-14.9863772240217 Q-0.910246809839973,-14.7518431694101 -1.0692413762151,-14.5103646821128 Q-1.22417112561029,-14.2750597759499 -1.39908931791318,-14.0337431312646 Q-1.76797104341055,-13.5248349433239 -2.22583196061482,-12.9891937151164 Q-2.65281454964278,-12.4896763511826 -3.16250584273345,-11.960865339223 Q-3.75455354091074,-11.3466085397729 -4.48484292020919,-10.6660006846297 Q-5.15417223354364,-10.0422057873649 -6.03462845747207,-9.27588577364818 Q-6.5518613566613,-8.82570334364281 -7.72688839874177,-7.82524124839609 Q-9.00011940672614,-6.74116461325269 -9.66659027493077,-6.1518575057301 Q-10.6800142168527,-5.25576742827941 -11.4416925502921,-4.5083632999628 Q-11.9256928826451,-4.03343335824615 -12.3453337586718,-3.58350021932445 Q-12.8421226311087,-3.05085006647637 -13.2630306985554,-2.53794032909005 Q-13.5888635034756,-2.14088731127246 -13.8734126595931,-1.7506997108797 Q-14.1158142868982,-1.41830684568896 -14.3296155195759,-1.08906603538983 Q-14.6222670714185,-0.638400560466284 -14.8629035091692,-0.191196762642277 Q-14.9849831812171,0.035678657752151 -15.093879517273,0.262018849814471 Q-15.1989501677438,0.48040738398381 -15.2918143665365,0.698434979814885 Q-15.4099383650006,0.975767813457227 -15.5083731080758,1.25265889367945 Q-15.596037025423,1.49925228146578 -15.6680979222918,1.74552862415746 Q-15.7452025309944,2.00904242791343 -15.8044279558644,2.27213565719569 Q-15.8673099421169,2.55147218982739 -15.9099982659839,2.83015436556823 Q-15.9467996846554,3.07040505935725 -15.9685614040832,3.30996314026493 Q-15.9881495049069,3.52559352082962 -15.9955342067788,3.74046434121497 Q-16.0051232678424,4.01947484877545 -15.9941254637899,4.2967472393645 Q-15.9844330208493,4.54110936947305 -15.958768035937,4.78366431573383 Q-15.9275621653641,5.07858513044192 -15.8728386332033,5.37000215623899 Q-15.8278093231867,5.60979493058336 -15.7669750538715,5.84656658453498 Q-15.721016172269,6.02544208568407 -15.6661182996239,6.20226632422338 Q-15.6208315317082,6.34813351117917 -15.5695193619767,6.49241673134215 Q-15.4613890101118,6.79646537021361 -15.3269801205853,7.09222815454625 Q-15.2212449367798,7.32489529787583 -15.0996951958763,7.55142914467109 Q-14.9588348202878,7.81395247467492 -14.7974725228564,8.0668861942751 Q-14.6745800019696,8.25951894005113 -14.5402766384116,8.44582208248948 Q-14.3933701098356,8.64960810238759 -14.2334198263091,8.84498132868387 Q-14.0945594532161,9.01459402644063 -13.9463689488664,9.17725000648766 Q-13.7735280755873,9.36696257787514 -13.588753931665,9.54638613301087 Q-13.4189681105967,9.71125538896335 -13.23982095404,9.86674014639278 Q-13.0625216805617,10.0206210957701 -12.8767644199624,10.1646925661538 Q-12.6944389535778,10.3061023713246 -12.5046728111778,10.4375123135825 Q-12.3142699757146,10.5693631553476 -12.1171076375409,10.6906405650386 Q-11.9213331232265,10.811064304174 -11.7196291899761,10.9206103014377 Q-11.509884893371,11.0345230436026 -11.2945462865961,11.1362305693748 Q-11.0736106685721,11.2405816441808 -10.8476757705343,11.3316650627413 Q-10.6451233054253,11.4133220848312 -10.4392342246826,11.4840381672923 Q-10.2480502354789,11.5497035376801 -10.0545178054937,11.605752174849 Q-9.87842747053587,11.6567494330024 -9.70078839955957,11.699669661687 Q-9.51646003889087,11.7442061217657 -9.33086927650686,11.7799481442673 Q-9.13248730736292,11.8181535630821 -8.933139388093,11.846219406851 Q-8.71465712197788,11.8769791417381 -8.49561748097842,11.8954757888015 Q-8.29291726492743,11.9125926647188 -8.09024399409492,11.9191639457214 Q-7.78610008904026,11.9290252118723 -7.4833331334596,11.915111810162 Q-7.17318452623145,11.9008591908364 -6.86609005385436,11.8617329844013 Q-6.59503326929163,11.8271982575912 -6.32749985800465,11.7734249707618 Q-6.065591016902,11.7207822030116 -5.80803820752765,11.6498970887622 Q-5.55929013948285,11.5814352643096 -5.31546652781383,11.4961928265364 Q-5.10668790644988,11.4232023621669 -4.90208243255889,11.3381020157274 Q-4.65361227556304,11.2347572906909 -4.41212777878246,11.1139056578479 Q-4.19936350048537,11.0074271435513 -3.99268182769649,10.8876853593409 Q-3.75270580423463,10.7486543711102 -3.52182577913573,10.5922682144105 Q-3.32874675879168,10.4614864981576 -3.14265200973488,10.3189846901617 Q-2.96546888319985,10.183306945327 -2.79512566366148,10.0373935236474 Q-2.59954871236449,9.869865269557 -2.41370491741605,9.68946420864727 Q-2.19513433610818,9.47729481788262 -1.99121915187079,9.24849308724242 Q-1.80560573104341,9.04022673339448 -1.63321108031305,8.8193835024801 Q-1.48460042648279,8.62900835568098 -1.34656919353414,8.43025073001946 Q-1.22862003028138,8.26041021540489 -1.11890397474925,8.08517660112203 Q-0.95801857573265,7.82821758251459 -0.816175270753006,7.56186513162384 Q-0.660837400706088,7.27017267275816 -0.530605965747761,6.97155652900988 Q-0.428580116785493,6.73761481140916 -0.343519030901754,6.5029591230879 Q-0.261963346200934,6.27797368901832 -0.197516475528564,6.05656345647983 Q-0.136184858928778,5.84585582472599 -0.0920712402436369,5.64444995400555 Q-0.0534506179297929,5.46812299882186 -0.0298383755424187,5.30751615628668 Q-0.0115789781484796,5.18331854244193 -0.00400653952455051,5.08123174112462 Z\" fill=\"none\" id=\"22760fadc5104d7f887046ac72e101bb\" stroke=\"red\" stroke-width=\".5\" transform=\"scale(1.25 -1.25)\"></path></clipPath><svg height=\"100\" viewBox=\"-25 -25 50 50\" x=\"0\" y=\"0\"><g style=\"clip-path: url(#uniquid)\"><g><rect fill=\"lightskyblue\" height=\"14.6%\" stroke=\"lightskyblue\" width=\"50\" x=\"-25\" y=\"-31.5%\"></rect><rect fill=\"lightpink\" height=\"14.6%\" stroke=\"lightpink\" width=\"50\" x=\"-25\" y=\"-16.9%\"></rect><rect fill=\"white\" height=\"14.6%\" stroke=\"white\" width=\"50\" x=\"-25\" y=\"-2.3000000000000007%\"></rect><rect fill=\"lightpink\" height=\"14.6%\" stroke=\"lightpink\" width=\"50\" x=\"-25\" y=\"12.299999999999997%\"></rect><rect fill=\"lightskyblue\" height=\"14.6%\" stroke=\"lightskyblue\" width=\"50\" x=\"-25\" y=\"26.9%\"></rect></g></g></svg><svg height=\"100\" viewBox=\"-25 -25 50 50\" x=\"120\" y=\"0\"><g style=\"clip-path: url(#uniquid)\"><g><rect fill=\"purple\" height=\"73.0%\" stroke=\"purple\" width=\"50\" x=\"-25\" y=\"-31.5%\"></rect><g transform=\"scale(.04, .04) translate(-500 -150)\"><path d=\"M500 550L211.325 50h577.35z\" fill=\"black\"></path><path d=\"M479.667 132.374a162.687 162.687 0 0 1-108.732-62.373 162.687 162.687 0 0 0 0 198.075 162.687 162.687 0 0 1 108.732-62.373zm40.672 73.329a162.687 162.687 0 0 1 108.732 62.373 162.687 162.687 0 0 0 0-198.075 162.687 162.687 0 0 1-108.732 62.373zm-4.067-91.571a16.269 8.134 0 0 0-32.538 0v347.743a16.269 8.134 0 0 0 32.538 0z\" fill=\"white\"></path></g></g></g></svg><svg height=\"100\" viewBox=\"-25 -25 50 50\" x=\"240\" y=\"0\"><g style=\"clip-path: url(#uniquid)\"><g><rect fill=\"forestgreen\" height=\"24.333333333333332%\" stroke=\"forestgreen\" width=\"50\" x=\"-25\" y=\"-31.5%\"></rect><rect fill=\"white\" height=\"24.333333333333332%\" stroke=\"white\" width=\"50\" x=\"-25\" y=\"-7.166666666666668%\"></rect><rect fill=\"purple\" height=\"24.333333333333332%\" stroke=\"purple\" width=\"50\" x=\"-25\" y=\"17.166666666666664%\"></rect></g></g></svg><svg height=\"100\" viewBox=\"-25 -25 50 50\" x=\"360\" y=\"0\"><g style=\"clip-path: url(#uniquid)\"><g><rect fill=\"red\" height=\"9.125%\" stroke=\"red\" width=\"50\" x=\"-25\" y=\"-31.5%\"></rect><rect fill=\"orange\" height=\"9.125%\" stroke=\"orange\" width=\"50\" x=\"-25\" y=\"-22.375%\"></rect><rect fill=\"yellow\" height=\"9.125%\" stroke=\"yellow\" width=\"50\" x=\"-25\" y=\"-13.25%\"></rect><rect fill=\"green\" height=\"9.125%\" stroke=\"green\" width=\"50\" x=\"-25\" y=\"-4.125%\"></rect><rect fill=\"blue\" height=\"9.125%\" stroke=\"blue\" width=\"50\" x=\"-25\" y=\"5.0%\"></rect><rect fill=\"purple\" height=\"9.125%\" stroke=\"purple\" width=\"50\" x=\"-25\" y=\"14.125%\"></rect><rect fill=\"brown\" height=\"9.125%\" stroke=\"brown\" width=\"50\" x=\"-25\" y=\"23.25%\"></rect><rect fill=\"black\" height=\"9.125%\" stroke=\"black\" width=\"50\" x=\"-25\" y=\"32.375%\"></rect></g></g></svg><svg height=\"100\" viewBox=\"-25 -25 50 50\" x=\"0\" y=\"90\"><g style=\"clip-path: url(#uniquid)\"><g><rect fill=\"black\" height=\"10.428571428571429%\" stroke=\"black\" width=\"50\" x=\"-25\" y=\"-31.5%\"></rect><rect fill=\"lightgrey\" height=\"10.428571428571429%\" stroke=\"lightgrey\" width=\"50\" x=\"-25\" y=\"-21.07142857142857%\"></rect><rect fill=\"white\" height=\"10.428571428571429%\" stroke=\"white\" width=\"50\" x=\"-25\" y=\"-10.642857142857142%\"></rect><rect fill=\"chartreuse\" height=\"10.428571428571429%\" stroke=\"chartreuse\" width=\"50\" x=\"-25\" y=\"-0.2142857142857153%\"></rect><rect fill=\"white\" height=\"10.428571428571429%\" stroke=\"white\" width=\"50\" x=\"-25\" y=\"10.214285714285715%\"></rect><rect fill=\"lightgrey\" height=\"10.428571428571429%\" stroke=\"lightgrey\" width=\"50\" x=\"-25\" y=\"20.642857142857146%\"></rect><rect fill=\"black\" height=\"10.428571428571429%\" stroke=\"black\" width=\"50\" x=\"-25\" y=\"31.07142857142857%\"></rect></g></g></svg><svg height=\"100\" viewBox=\"-25 -25 50 50\" x=\"120\" y=\"90\"><g style=\"clip-path: url(#uniquid)\"><g><rect fill=\"black\" height=\"18.25%\" stroke=\"black\" width=\"50\" x=\"-25\" y=\"-31.5%\"></rect><rect fill=\"lightgrey\" height=\"18.25%\" stroke=\"lightgrey\" width=\"50\" x=\"-25\" y=\"-13.25%\"></rect><rect fill=\"white\" height=\"18.25%\" stroke=\"white\" width=\"50\" x=\"-25\" y=\"5.0%\"></rect><rect fill=\"purple\" height=\"18.25%\" stroke=\"purple\" width=\"50\" x=\"-25\" y=\"23.25%\"></rect></g></g></svg><svg height=\"100\" viewBox=\"-25 -25 50 50\" x=\"240\" y=\"90\"><g style=\"clip-path: url(#uniquid)\"><g><rect fill=\"deeppink\" height=\"14.6%\" stroke=\"deeppink\" width=\"50\" x=\"-25\" y=\"-31.5%\"></rect><rect fill=\"deeppink\" height=\"14.6%\" stroke=\"deeppink\" width=\"50\" x=\"-25\" y=\"-16.9%\"></rect><rect fill=\"mediumpurple\" height=\"14.6%\" stroke=\"mediumpurple\" width=\"50\" x=\"-25\" y=\"-2.3000000000000007%\"></rect><rect fill=\"blue\" height=\"14.6%\" stroke=\"blue\" width=\"50\" x=\"-25\" y=\"12.299999999999997%\"></rect><rect fill=\"blue\" height=\"14.6%\" stroke=\"blue\" width=\"50\" x=\"-25\" y=\"26.9%\"></rect></g></g></svg><svg height=\"100\" viewBox=\"-25 -25 50 50\" x=\"360\" y=\"90\"><g style=\"clip-path: url(#uniquid)\"><g><rect fill=\"#ffef00\" height=\"18.25%\" stroke=\"#ffef00\" width=\"50\" x=\"-25\" y=\"-31.5%\"></rect><rect fill=\"white\" height=\"18.25%\" stroke=\"white\" width=\"50\" x=\"-25\" y=\"-13.25%\"></rect><rect fill=\"#9C59D1\" height=\"18.25%\" stroke=\"#9C59D1\" width=\"50\" x=\"-25\" y=\"5.0%\"></rect><rect fill=\"black\" height=\"18.25%\" stroke=\"black\" width=\"50\" x=\"-25\" y=\"23.25%\"></rect></g></g></svg><svg height=\"100\" viewBox=\"-25 -25 50 50\" x=\"0\" y=\"180\"><g style=\"clip-path: url(#uniquid)\"><g><rect fill=\"#ff75a2\" height=\"14.6%\" stroke=\"#ff75a2\" width=\"50\" x=\"-25\" y=\"-31.5%\"></rect><rect fill=\"white\" height=\"14.6%\" stroke=\"white\" width=\"50\" x=\"-25\" y=\"-16.9%\"></rect><rect fill=\"#be18d6\" height=\"14.6%\" stroke=\"#be18d6\" width=\"50\" x=\"-25\" y=\"-2.3000000000000007%\"></rect><rect fill=\"black\" height=\"14.6%\" stroke=\"black\" width=\"50\" x=\"-25\" y=\"12.299999999999997%\"></rect><rect fill=\"mediumblue\" height=\"14.6%\" stroke=\"mediumblue\" width=\"50\" x=\"-25\" y=\"26.9%\"></rect></g></g></svg><svg height=\"100\" viewBox=\"-25 -25 50 50\" x=\"120\" y=\"180\"><g style=\"clip-path: url(#uniquid)\"><g><rect fill=\"deeppink\" height=\"24.333333333333332%\" stroke=\"deeppink\" width=\"50\" x=\"-25\" y=\"-31.5%\"></rect><rect fill=\"gold\" height=\"24.333333333333332%\" stroke=\"gold\" width=\"50\" x=\"-25\" y=\"-7.166666666666668%\"></rect><rect fill=\"deepskyblue\" height=\"24.333333333333332%\" stroke=\"deepskyblue\" width=\"50\" x=\"-25\" y=\"17.166666666666664%\"></rect></g></g></svg><svg height=\"100\" viewBox=\"-25 -25 50 50\" x=\"240\" y=\"180\"><g style=\"clip-path: url(#uniquid)\"><g><rect fill=\"#f61cb9\" height=\"24.333333333333332%\" stroke=\"#f61cb9\" width=\"50\" x=\"-25\" y=\"-31.5%\"></rect><rect fill=\"#07d569\" height=\"24.333333333333332%\" stroke=\"#07d569\" width=\"50\" x=\"-25\" y=\"-7.166666666666668%\"></rect><rect fill=\"dodgerblue\" height=\"24.333333333333332%\" stroke=\"dodgerblue\" width=\"50\" x=\"-25\" y=\"17.166666666666664%\"></rect></g></g></svg><svg height=\"100\" viewBox=\"-25 -25 50 50\" x=\"360\" y=\"180\"><g style=\"clip-path: url(#uniquid)\"><g><rect fill=\"#3da542\" height=\"14.6%\" stroke=\"#3da542\" width=\"50\" x=\"-25\" y=\"-31.5%\"></rect><rect fill=\"#a7d379\" height=\"14.6%\" stroke=\"#a7d379\" width=\"50\" x=\"-25\" y=\"-16.9%\"></rect><rect fill=\"white\" height=\"14.6%\" stroke=\"white\" width=\"50\" x=\"-25\" y=\"-2.3000000000000007%\"></rect><rect fill=\"lightgrey\" height=\"14.6%\" stroke=\"lightgrey\" width=\"50\" x=\"-25\" y=\"12.299999999999997%\"></rect><rect fill=\"black\" height=\"14.6%\" stroke=\"black\" width=\"50\" x=\"-25\" y=\"26.9%\"></rect></g></g></svg><svg height=\"100\" viewBox=\"-25 -25 50 50\" x=\"0\" y=\"270\"><g style=\"clip-path: url(#uniquid)\"><g><rect fill=\"#A60061\" height=\"10.428571428571429%\" stroke=\"#A60061\" width=\"50\" x=\"-25\" y=\"-31.5%\"></rect><rect fill=\"#B95393\" height=\"10.428571428571429%\" stroke=\"#B95393\" width=\"50\" x=\"-25\" y=\"-21.07142857142857%\"></rect><rect fill=\"#D260A7\" height=\"10.428571428571429%\" stroke=\"#D260A7\" width=\"50\" x=\"-25\" y=\"-10.642857142857142%\"></rect><rect fill=\"#EDEDEB\" height=\"10.428571428571429%\" stroke=\"#EDEDEB\" width=\"50\" x=\"-25\" y=\"-0.2142857142857153%\"></rect><rect fill=\"#E5ABD0\" height=\"10.428571428571429%\" stroke=\"#E5ABD0\" width=\"50\" x=\"-25\" y=\"10.214285714285715%\"></rect><rect fill=\"#C74D52\" height=\"10.428571428571429%\" stroke=\"#C74D52\" width=\"50\" x=\"-25\" y=\"20.642857142857146%\"></rect><rect fill=\"#8C1D00\" height=\"10.428571428571429%\" stroke=\"#8C1D00\" width=\"50\" x=\"-25\" y=\"31.07142857142857%\"></rect></g></g></svg><svg height=\"100\" viewBox=\"-25 -25 50 50\" x=\"120\" y=\"270\"><g style=\"clip-path: url(#uniquid)\"><g><rect fill=\"#623804\" height=\"10.428571428571429%\" stroke=\"#623804\" width=\"50\" x=\"-25\" y=\"-31.5%\"></rect><rect fill=\"chocolate\" height=\"10.428571428571429%\" stroke=\"chocolate\" width=\"50\" x=\"-25\" y=\"-21.07142857142857%\"></rect><rect fill=\"#fedd63\" height=\"10.428571428571429%\" stroke=\"#fedd63\" width=\"50\" x=\"-25\" y=\"-10.642857142857142%\"></rect><rect fill=\"moccasin\" height=\"10.428571428571429%\" stroke=\"moccasin\" width=\"50\" x=\"-25\" y=\"-0.2142857142857153%\"></rect><rect fill=\"white\" height=\"10.428571428571429%\" stroke=\"white\" width=\"50\" x=\"-25\" y=\"10.214285714285715%\"></rect><rect fill=\"dimgray\" height=\"10.428571428571429%\" stroke=\"dimgray\" width=\"50\" x=\"-25\" y=\"20.642857142857146%\"></rect><rect fill=\"black\" height=\"10.428571428571429%\" stroke=\"black\" width=\"50\" x=\"-25\" y=\"31.07142857142857%\"></rect><path d=\"M98.9 24.4c-5.7 0-11.5 1.3-16.3 4.4C61.2 42.6 91.1 48.3 96 51.1c4.7 2.7 22.4 22.9 29.7-8.4 2.2-9.7-12.2-18.3-26.8-18.3m45.4 11.2c-17.7 1.9-.8 43 23.6 44.4 16.5.9 28.9-39.3-23.6-44.4m-94.4 8.9C34.2 44 43.7 73.3 69 83.6c5.1 2.1 14.2-4.7 14.4-16 .1-4.2-7.1-22.2-33.5-23.1m61 17.7c-7.1-.1-14.6 3-22.8 11.5-28.9 30.3 13.8 35.5 10.6 51.9-9.7 48.5-.9 52.5 8.3 55.6 11.7 3.9 33.8-33.4 43.1-40.4 12.4-9.4 77.9-42.2 62.4-58.8-22.3-23.8-27 7.3-57.7-1-14.6-3.9-28.3-18.8-43.9-18.8M54.4 96.5c-2.8-.1-5.5.4-8.1 1.6-11.5 5.2 10.8 36.5 20.9 37.4 12.4 1.1 17.4-8.9 17.6-14.7.3-7.6-15.4-24-30.4-24.3m4 46.7c-4.5.1-8 1.2-9.6 3.3-4.1 6.2 21.6 30.4 28.7 32 6.5 1.5 12.6-13 11.4-18.7-2.2-10.4-19.2-16.7-30.5-16.6\" transform=\"scale(.08 .08) translate(-120,-80) \"></path></g></g></svg><svg height=\"100\" viewBox=\"-25 -25 50 50\" x=\"240\" y=\"270\"><g style=\"clip-path: url(#uniquid)\"><g><rect fill=\"gold\" height=\"73.0%\" stroke=\"gold\" width=\"50\" x=\"-25\" y=\"-31.5%\"></rect><circle cx=\"0\" cy=\"2\" fill=\"transparent\" r=\"5\" stroke=\"purple\" stroke-width=\"2.5\"></circle></g></g></svg><svg height=\"100\" viewBox=\"-25 -25 50 50\" x=\"360\" y=\"270\"><g style=\"clip-path: url(#uniquid)\"><g><rect fill=\"blue\" height=\"24.333333333333332%\" stroke=\"blue\" width=\"50\" x=\"-25\" y=\"-31.5%\"></rect><rect fill=\"red\" height=\"24.333333333333332%\" stroke=\"red\" width=\"50\" x=\"-25\" y=\"-7.166666666666668%\"></rect><rect fill=\"black\" height=\"24.333333333333332%\" stroke=\"black\" width=\"50\" x=\"-25\" y=\"17.166666666666664%\"></rect><text fill=\"yellow\" font-family=\"Minion Pro\" text-anchor=\"middle\" y=\"4.5\">π</text></g></g></svg></svg>"
      ]
     },
     "execution_count": 414,
     "metadata": {},
     "output_type": "execute_result"
    }
   ],
   "source": [
    "heart = Clip(gen_heart(), clipid=\"uniquid\")\n",
    "flag_list = [heart.clipper()]\n",
    "coord_list = []\n",
    "for idx, flag_def in enumerate(flag_defs):\n",
    "    flag_list.append(svg(\n",
    "        heart.clip(\n",
    "            Flag(**flag_def).flag(),\n",
    "        ), \n",
    "        x = f\"{120*(idx%4)}\",\n",
    "        y = f\"{0+90*math.floor(idx/4)}\",\n",
    "        height=\"100\",\n",
    "        viewBox=\"-25 -25 50 50\"))\n",
    "#     coord_list.append(dict(x = f\"{120*(idx%3)}\",\n",
    "#         y = f\"{0+90*math.floor(idx/3)}\"))\n",
    "    \n",
    "svg(*flag_list, width=f\"{90*5}\", viewBox=\"200 0 700 700\")\n"
   ]
  },
  {
   "cell_type": "code",
   "execution_count": 422,
   "metadata": {},
   "outputs": [],
   "source": [
    "\n",
    "heart_coords = [\n",
    "    {'x': \"60\", \"y\":\"0\"},\n",
    "    {'x': \"180\", \"y\":\"0\"},\n",
    "    {'x': \"345\", \"y\":\"0\"},\n",
    "    {'x': \"465\", \"y\":\"0\"},\n",
    "    {'x': \"0\", \"y\":\"120\"},\n",
    "    {'x': \"130\", \"y\":\"120\"},\n",
    "    {'x': \"260\", \"y\":\"120\"},\n",
    "    {'x': \"390\", \"y\":\"120\"},\n",
    "    {'x': \"520\", \"y\":\"120\"},\n",
    "    {'x': \"40\", \"y\":\"240\"},\n",
    "    {'x': \"185\", \"y\":\"240\"},\n",
    "    {'x': \"335\", \"y\":\"240\"},\n",
    "    {'x': \"480\", \"y\":\"240\"},\n",
    "    {'x': \"170\", \"y\":\"360\"},\n",
    "    {'x': \"355\", \"y\":\"360\"},\n",
    "    {'x': \"260\", \"y\":\"480\"},\n",
    "\n",
    "]"
   ]
  },
  {
   "cell_type": "code",
   "execution_count": null,
   "metadata": {},
   "outputs": [],
   "source": []
  },
  {
   "cell_type": "code",
   "execution_count": 425,
   "metadata": {},
   "outputs": [
    {
     "data": {
      "application/vdom.v1+json": {
       "attributes": {
        "viewBox": "250 0 700 700",
        "width": "360"
       },
       "children": [
        {
         "attributes": {
          "id": "newid"
         },
         "children": [
          {
           "attributes": {
            "d": "M0.0,5.0 Q2.26480878769362e-09,5.01935203545116 0.00240468499265089,5.05784209373124 Q0.00617678614768245,5.11821945317385 0.0144892681784808,5.19071052417724 Q0.0249796452381706,5.28219447150715 0.0416669391001586,5.38322902221801 Q0.0625689845764014,5.50978212250472 0.0921242540272451,5.64469196933818 Q0.129325564905271,5.81450341906648 0.178888071354544,5.99135494886849 Q0.227032997926876,6.16314819595208 0.285852572783466,6.33796304924934 Q0.345659522697073,6.51571243286517 0.415701700411068,6.69417844133358 Q0.487743067528425,6.87773834271958 0.569888188951648,7.06019887319993 Q0.692043825721294,7.33153065651206 0.834806300015498,7.59665683949396 Q0.918421740467044,7.75194024064588 1.00862101667763,7.90415568501767 Q1.12167926629051,8.09494670272544 1.24449884261148,8.27994312284276 Q1.44189780344349,8.57727439675439 1.66250874377508,8.85670281234556 Q1.80054060640138,9.03153559541965 1.94694688614682,9.19842404729501 Q2.08999423977703,9.36148366081515 2.24054566891579,9.51639833059041 Q2.48490085256662,9.76783534981824 2.74741879975013,9.99621086079807 Q3.01662696842382,10.2304064795754 3.30291999709097,10.4385942042024 Q3.46972317871875,10.5598908176942 3.64179542494331,10.6719572214367 Q3.79857226878001,10.7740621074039 3.95941554482475,10.8683033405894 Q4.13334243392154,10.9702105195257 4.31166833497306,11.0627149706127 Q4.47604708828145,11.1479845038409 4.64386151028959,11.2251070150907 Q4.80544594869858,11.299366411392 4.96995032351617,11.3659501831024 Q5.16725965014621,11.4458118838945 5.36835311845226,11.5144650549576 Q5.56561833961004,11.5818112650908 5.7660857806164,11.6382214352365 Q5.93594304380552,11.6860181101922 6.10780540394526,11.7258795037075 Q6.3802811445957,11.7890769525997 6.65689783599178,11.8321328272072 Q6.88756600251257,11.8680367330906 7.12039035026157,11.8898178268749 Q7.33575429714658,11.9099654719568 7.5524023719199,11.9179755377665 Q7.78903411552322,11.9267244539104 8.02650188595541,11.9209696911957 Q8.31148267851657,11.9140635041521 8.59647282523938,11.8863060110558 Q8.84172783653293,11.8624186438571 9.08605624824551,11.8231757557194 Q9.29602775102361,11.7894511138005 9.5047004646898,11.7444820539865 Q9.73546771599974,11.6947516117789 9.96389320433066,11.631434414029 Q10.2137994798527,11.5621629628359 10.4598847954114,11.4769149350853 Q10.7426952738113,11.3789447028671 11.0189146985215,11.2604175545564 Q11.2783606307036,11.14908799649 11.5305552606758,11.0202359184706 Q11.8305962880828,10.8669380077389 12.1182124982183,10.6899608334626 Q12.3086605446971,10.5727735681955 12.4928101128895,10.4457122376404 Q12.7138340887796,10.2932079405257 12.9247407405014,10.1272078034175 Q13.1164494580624,9.97631795172166 13.2989309836935,9.81495653041487 Q13.4993501715355,9.63773352169933 13.6876496499027,9.44875874377583 Q13.8259025844505,9.31000999189398 13.9571663998683,9.16537567684822 Q14.0895559130142,9.01950100078341 14.2144709921875,8.86804150073268 Q14.3647042289743,8.68588374135466 14.50359102542,8.496302620215 Q14.6242491373507,8.33160373796121 14.7359701511584,8.16180777241553 Q14.8556947497797,7.9798477889744 14.9647911861361,7.79259020255814 Q15.0815966885041,7.5921004598673 15.1858302302757,7.38620717426887 Q15.2838990649354,7.19249108020058 15.3705462405702,6.99456656547992 Q15.4710479022511,6.76499482847765 15.555848418953,6.53053381443338 Q15.6293410875024,6.32733734508333 15.6908398354807,6.12101489646327 Q15.7582996840502,5.89469352248478 15.811151998362,5.66520400901477 Q15.858001700426,5.46177837907041 15.8932743283624,5.25628456535619 Q15.9234569772515,5.08044431780161 15.9451194504346,4.90333416558016 Q15.9730560934491,4.67492704627213 15.9867773968648,4.44479362169134 Q16.0034165941822,4.16572133934909 15.9991176647554,3.88472444785707 Q15.9950908430473,3.62151371089842 15.9726972179107,3.35708697651958 Q15.9526619394994,3.12050789606779 15.9179459679384,2.88322942110747 Q15.882312030686,2.63967678789829 15.83124032874,2.39559405324708 Q15.7875158480249,2.1866252815493 15.7324953373768,1.97736550244011 Q15.6648912559291,1.72024656653811 15.5802540161198,1.46276838245011 Q15.4968741501039,1.20911530326591 15.3969639315714,0.955118442554341 Q15.3045821236361,0.720260691795003 15.1980404233408,0.485042552463534 Q15.0759331774567,0.215459477516022 14.935136668034,-0.0547900505028633 Q14.7784251600096,-0.355587358989756 14.5983261379963,-0.657651595836769 Q14.4326365303214,-0.935548190367364 14.2468180712942,-1.21507534194023 Q13.9287667177733,-1.69352075241799 13.5495204141351,-2.17993676735823 Q13.228806301099,-2.59128021171493 12.8611063340419,-3.0124517446707 Q12.1591087582907,-3.81653502342836 11.2483797084418,-4.69658759121086 Q10.4733210891135,-5.44553957449827 9.42454171069957,-6.36494199823616 Q8.84072932123853,-6.87673555265406 7.788610883906,-7.77268471082305 Q6.43199730758967,-8.92793182800395 5.86781215340663,-9.42143310902599 Q4.99911290579133,-10.1812974697638 4.33114177564245,-10.8099404645036 Q3.70609091742599,-11.3981902041088 3.18523060681885,-11.9373159451196 Q2.65398052055043,-12.4871958084704 2.2119638126538,-13.0054355175612 Q1.84652002656313,-13.4338977860892 1.53818480616621,-13.8451114872961 Q1.35658899707246,-14.0872981719213 1.19468144267213,-14.3236430665681 Q1.01229440141544,-14.5898829354267 0.855250034700979,-14.8481696259238 Q0.710327112506176,-15.0865204992088 0.587635439099838,-15.317016364333 Q0.482522452421447,-15.5144878644567 0.394395445017321,-15.7049318068687 Q0.31840843950407,-15.869141001397 0.255658210448299,-16.0268054813404 Q0.189432844334108,-16.1932014939857 0.138853346014398,-16.3499815211115 Q0.0926197731189966,-16.4932905900716 0.0605744460923479,-16.625013082467 Q0.0353801389730772,-16.7285744199802 0.0199590858880895,-16.820733667613 Q0.00867700999654953,-16.8881575731122 0.00346592649802561,-16.9441272743669 Q0.000399281055259889,-16.9770646144295 2.49345880547808e-05,-16.9979165809901 Q0.000120167169769384,-16.9926119052863 -0.00120639179482519,-16.9723446290242 Q-0.00426775812446953,-16.9255728240776 -0.0129503651544767,-16.86557788734 Q-0.0227183511665687,-16.7980832165775 -0.0385454062196693,-16.7222898015959 Q-0.06004549711036,-16.6193290609179 -0.0915669504606278,-16.5067117118991 Q-0.132286979305915,-16.3612304217578 -0.188273154562518,-16.204902779091 Q-0.258831712369531,-16.0078853375281 -0.351810097949509,-15.7987840090959 Q-0.440000005976105,-15.6004516030464 -0.547194072845051,-15.3939437422104 Q-0.651340977758142,-15.193306195987 -0.772699085783482,-14.9863772240217 Q-0.910246809839973,-14.7518431694101 -1.0692413762151,-14.5103646821128 Q-1.22417112561029,-14.2750597759499 -1.39908931791318,-14.0337431312646 Q-1.76797104341055,-13.5248349433239 -2.22583196061482,-12.9891937151164 Q-2.65281454964278,-12.4896763511826 -3.16250584273345,-11.960865339223 Q-3.75455354091074,-11.3466085397729 -4.48484292020919,-10.6660006846297 Q-5.15417223354364,-10.0422057873649 -6.03462845747207,-9.27588577364818 Q-6.5518613566613,-8.82570334364281 -7.72688839874177,-7.82524124839609 Q-9.00011940672614,-6.74116461325269 -9.66659027493077,-6.1518575057301 Q-10.6800142168527,-5.25576742827941 -11.4416925502921,-4.5083632999628 Q-11.9256928826451,-4.03343335824615 -12.3453337586718,-3.58350021932445 Q-12.8421226311087,-3.05085006647637 -13.2630306985554,-2.53794032909005 Q-13.5888635034756,-2.14088731127246 -13.8734126595931,-1.7506997108797 Q-14.1158142868982,-1.41830684568896 -14.3296155195759,-1.08906603538983 Q-14.6222670714185,-0.638400560466284 -14.8629035091692,-0.191196762642277 Q-14.9849831812171,0.035678657752151 -15.093879517273,0.262018849814471 Q-15.1989501677438,0.48040738398381 -15.2918143665365,0.698434979814885 Q-15.4099383650006,0.975767813457227 -15.5083731080758,1.25265889367945 Q-15.596037025423,1.49925228146578 -15.6680979222918,1.74552862415746 Q-15.7452025309944,2.00904242791343 -15.8044279558644,2.27213565719569 Q-15.8673099421169,2.55147218982739 -15.9099982659839,2.83015436556823 Q-15.9467996846554,3.07040505935725 -15.9685614040832,3.30996314026493 Q-15.9881495049069,3.52559352082962 -15.9955342067788,3.74046434121497 Q-16.0051232678424,4.01947484877545 -15.9941254637899,4.2967472393645 Q-15.9844330208493,4.54110936947305 -15.958768035937,4.78366431573383 Q-15.9275621653641,5.07858513044192 -15.8728386332033,5.37000215623899 Q-15.8278093231867,5.60979493058336 -15.7669750538715,5.84656658453498 Q-15.721016172269,6.02544208568407 -15.6661182996239,6.20226632422338 Q-15.6208315317082,6.34813351117917 -15.5695193619767,6.49241673134215 Q-15.4613890101118,6.79646537021361 -15.3269801205853,7.09222815454625 Q-15.2212449367798,7.32489529787583 -15.0996951958763,7.55142914467109 Q-14.9588348202878,7.81395247467492 -14.7974725228564,8.0668861942751 Q-14.6745800019696,8.25951894005113 -14.5402766384116,8.44582208248948 Q-14.3933701098356,8.64960810238759 -14.2334198263091,8.84498132868387 Q-14.0945594532161,9.01459402644063 -13.9463689488664,9.17725000648766 Q-13.7735280755873,9.36696257787514 -13.588753931665,9.54638613301087 Q-13.4189681105967,9.71125538896335 -13.23982095404,9.86674014639278 Q-13.0625216805617,10.0206210957701 -12.8767644199624,10.1646925661538 Q-12.6944389535778,10.3061023713246 -12.5046728111778,10.4375123135825 Q-12.3142699757146,10.5693631553476 -12.1171076375409,10.6906405650386 Q-11.9213331232265,10.811064304174 -11.7196291899761,10.9206103014377 Q-11.509884893371,11.0345230436026 -11.2945462865961,11.1362305693748 Q-11.0736106685721,11.2405816441808 -10.8476757705343,11.3316650627413 Q-10.6451233054253,11.4133220848312 -10.4392342246826,11.4840381672923 Q-10.2480502354789,11.5497035376801 -10.0545178054937,11.605752174849 Q-9.87842747053587,11.6567494330024 -9.70078839955957,11.699669661687 Q-9.51646003889087,11.7442061217657 -9.33086927650686,11.7799481442673 Q-9.13248730736292,11.8181535630821 -8.933139388093,11.846219406851 Q-8.71465712197788,11.8769791417381 -8.49561748097842,11.8954757888015 Q-8.29291726492743,11.9125926647188 -8.09024399409492,11.9191639457214 Q-7.78610008904026,11.9290252118723 -7.4833331334596,11.915111810162 Q-7.17318452623145,11.9008591908364 -6.86609005385436,11.8617329844013 Q-6.59503326929163,11.8271982575912 -6.32749985800465,11.7734249707618 Q-6.065591016902,11.7207822030116 -5.80803820752765,11.6498970887622 Q-5.55929013948285,11.5814352643096 -5.31546652781383,11.4961928265364 Q-5.10668790644988,11.4232023621669 -4.90208243255889,11.3381020157274 Q-4.65361227556304,11.2347572906909 -4.41212777878246,11.1139056578479 Q-4.19936350048537,11.0074271435513 -3.99268182769649,10.8876853593409 Q-3.75270580423463,10.7486543711102 -3.52182577913573,10.5922682144105 Q-3.32874675879168,10.4614864981576 -3.14265200973488,10.3189846901617 Q-2.96546888319985,10.183306945327 -2.79512566366148,10.0373935236474 Q-2.59954871236449,9.869865269557 -2.41370491741605,9.68946420864727 Q-2.19513433610818,9.47729481788262 -1.99121915187079,9.24849308724242 Q-1.80560573104341,9.04022673339448 -1.63321108031305,8.8193835024801 Q-1.48460042648279,8.62900835568098 -1.34656919353414,8.43025073001946 Q-1.22862003028138,8.26041021540489 -1.11890397474925,8.08517660112203 Q-0.95801857573265,7.82821758251459 -0.816175270753006,7.56186513162384 Q-0.660837400706088,7.27017267275816 -0.530605965747761,6.97155652900988 Q-0.428580116785493,6.73761481140916 -0.343519030901754,6.5029591230879 Q-0.261963346200934,6.27797368901832 -0.197516475528564,6.05656345647983 Q-0.136184858928778,5.84585582472599 -0.0920712402436369,5.64444995400555 Q-0.0534506179297929,5.46812299882186 -0.0298383755424187,5.30751615628668 Q-0.0115789781484796,5.18331854244193 -0.00400653952455051,5.08123174112462 Z",
            "fill": "none",
            "id": "05e1dfb34cca41a18abfb2ef81e5d929",
            "stroke": "red",
            "stroke-width": ".5",
            "transform": "scale(1.25 -1.25)"
           },
           "children": [],
           "tagName": "path"
          }
         ],
         "tagName": "clipPath"
        },
        {
         "attributes": {
          "height": "100",
          "viewBox": "-25 -25 50 50",
          "x": "60",
          "y": "0"
         },
         "children": [
          {
           "attributes": {
            "style": {
             "clip-path": "url(#newid)"
            }
           },
           "children": [
            {
             "attributes": {},
             "children": [
              {
               "attributes": {
                "fill": "lightskyblue",
                "height": "14.6%",
                "stroke": "lightskyblue",
                "width": "50",
                "x": "-25",
                "y": "-31.5%"
               },
               "children": [],
               "tagName": "rect"
              },
              {
               "attributes": {
                "fill": "lightpink",
                "height": "14.6%",
                "stroke": "lightpink",
                "width": "50",
                "x": "-25",
                "y": "-16.9%"
               },
               "children": [],
               "tagName": "rect"
              },
              {
               "attributes": {
                "fill": "white",
                "height": "14.6%",
                "stroke": "white",
                "width": "50",
                "x": "-25",
                "y": "-2.3000000000000007%"
               },
               "children": [],
               "tagName": "rect"
              },
              {
               "attributes": {
                "fill": "lightpink",
                "height": "14.6%",
                "stroke": "lightpink",
                "width": "50",
                "x": "-25",
                "y": "12.299999999999997%"
               },
               "children": [],
               "tagName": "rect"
              },
              {
               "attributes": {
                "fill": "lightskyblue",
                "height": "14.6%",
                "stroke": "lightskyblue",
                "width": "50",
                "x": "-25",
                "y": "26.9%"
               },
               "children": [],
               "tagName": "rect"
              }
             ],
             "tagName": "g"
            }
           ],
           "tagName": "g"
          }
         ],
         "tagName": "svg"
        },
        {
         "attributes": {
          "height": "100",
          "viewBox": "-25 -25 50 50",
          "x": "180",
          "y": "0"
         },
         "children": [
          {
           "attributes": {
            "style": {
             "clip-path": "url(#newid)"
            }
           },
           "children": [
            {
             "attributes": {},
             "children": [
              {
               "attributes": {
                "fill": "purple",
                "height": "73.0%",
                "stroke": "purple",
                "width": "50",
                "x": "-25",
                "y": "-31.5%"
               },
               "children": [],
               "tagName": "rect"
              },
              {
               "attributes": {
                "transform": "scale(.04, .04) translate(-500 -150)"
               },
               "children": [
                {
                 "attributes": {
                  "d": "M500 550L211.325 50h577.35z",
                  "fill": "black"
                 },
                 "children": [],
                 "tagName": "path"
                },
                {
                 "attributes": {
                  "d": "M479.667 132.374a162.687 162.687 0 0 1-108.732-62.373 162.687 162.687 0 0 0 0 198.075 162.687 162.687 0 0 1 108.732-62.373zm40.672 73.329a162.687 162.687 0 0 1 108.732 62.373 162.687 162.687 0 0 0 0-198.075 162.687 162.687 0 0 1-108.732 62.373zm-4.067-91.571a16.269 8.134 0 0 0-32.538 0v347.743a16.269 8.134 0 0 0 32.538 0z",
                  "fill": "white"
                 },
                 "children": [],
                 "tagName": "path"
                }
               ],
               "tagName": "g"
              }
             ],
             "tagName": "g"
            }
           ],
           "tagName": "g"
          }
         ],
         "tagName": "svg"
        },
        {
         "attributes": {
          "height": "100",
          "viewBox": "-25 -25 50 50",
          "x": "345",
          "y": "0"
         },
         "children": [
          {
           "attributes": {
            "style": {
             "clip-path": "url(#newid)"
            }
           },
           "children": [
            {
             "attributes": {},
             "children": [
              {
               "attributes": {
                "fill": "forestgreen",
                "height": "24.333333333333332%",
                "stroke": "forestgreen",
                "width": "50",
                "x": "-25",
                "y": "-31.5%"
               },
               "children": [],
               "tagName": "rect"
              },
              {
               "attributes": {
                "fill": "white",
                "height": "24.333333333333332%",
                "stroke": "white",
                "width": "50",
                "x": "-25",
                "y": "-7.166666666666668%"
               },
               "children": [],
               "tagName": "rect"
              },
              {
               "attributes": {
                "fill": "purple",
                "height": "24.333333333333332%",
                "stroke": "purple",
                "width": "50",
                "x": "-25",
                "y": "17.166666666666664%"
               },
               "children": [],
               "tagName": "rect"
              }
             ],
             "tagName": "g"
            }
           ],
           "tagName": "g"
          }
         ],
         "tagName": "svg"
        },
        {
         "attributes": {
          "height": "100",
          "viewBox": "-25 -25 50 50",
          "x": "465",
          "y": "0"
         },
         "children": [
          {
           "attributes": {
            "style": {
             "clip-path": "url(#newid)"
            }
           },
           "children": [
            {
             "attributes": {},
             "children": [
              {
               "attributes": {
                "fill": "red",
                "height": "9.125%",
                "stroke": "red",
                "width": "50",
                "x": "-25",
                "y": "-31.5%"
               },
               "children": [],
               "tagName": "rect"
              },
              {
               "attributes": {
                "fill": "orange",
                "height": "9.125%",
                "stroke": "orange",
                "width": "50",
                "x": "-25",
                "y": "-22.375%"
               },
               "children": [],
               "tagName": "rect"
              },
              {
               "attributes": {
                "fill": "yellow",
                "height": "9.125%",
                "stroke": "yellow",
                "width": "50",
                "x": "-25",
                "y": "-13.25%"
               },
               "children": [],
               "tagName": "rect"
              },
              {
               "attributes": {
                "fill": "green",
                "height": "9.125%",
                "stroke": "green",
                "width": "50",
                "x": "-25",
                "y": "-4.125%"
               },
               "children": [],
               "tagName": "rect"
              },
              {
               "attributes": {
                "fill": "blue",
                "height": "9.125%",
                "stroke": "blue",
                "width": "50",
                "x": "-25",
                "y": "5.0%"
               },
               "children": [],
               "tagName": "rect"
              },
              {
               "attributes": {
                "fill": "purple",
                "height": "9.125%",
                "stroke": "purple",
                "width": "50",
                "x": "-25",
                "y": "14.125%"
               },
               "children": [],
               "tagName": "rect"
              },
              {
               "attributes": {
                "fill": "brown",
                "height": "9.125%",
                "stroke": "brown",
                "width": "50",
                "x": "-25",
                "y": "23.25%"
               },
               "children": [],
               "tagName": "rect"
              },
              {
               "attributes": {
                "fill": "black",
                "height": "9.125%",
                "stroke": "black",
                "width": "50",
                "x": "-25",
                "y": "32.375%"
               },
               "children": [],
               "tagName": "rect"
              }
             ],
             "tagName": "g"
            }
           ],
           "tagName": "g"
          }
         ],
         "tagName": "svg"
        },
        {
         "attributes": {
          "height": "100",
          "viewBox": "-25 -25 50 50",
          "x": "0",
          "y": "120"
         },
         "children": [
          {
           "attributes": {
            "style": {
             "clip-path": "url(#newid)"
            }
           },
           "children": [
            {
             "attributes": {},
             "children": [
              {
               "attributes": {
                "fill": "black",
                "height": "10.428571428571429%",
                "stroke": "black",
                "width": "50",
                "x": "-25",
                "y": "-31.5%"
               },
               "children": [],
               "tagName": "rect"
              },
              {
               "attributes": {
                "fill": "lightgrey",
                "height": "10.428571428571429%",
                "stroke": "lightgrey",
                "width": "50",
                "x": "-25",
                "y": "-21.07142857142857%"
               },
               "children": [],
               "tagName": "rect"
              },
              {
               "attributes": {
                "fill": "white",
                "height": "10.428571428571429%",
                "stroke": "white",
                "width": "50",
                "x": "-25",
                "y": "-10.642857142857142%"
               },
               "children": [],
               "tagName": "rect"
              },
              {
               "attributes": {
                "fill": "chartreuse",
                "height": "10.428571428571429%",
                "stroke": "chartreuse",
                "width": "50",
                "x": "-25",
                "y": "-0.2142857142857153%"
               },
               "children": [],
               "tagName": "rect"
              },
              {
               "attributes": {
                "fill": "white",
                "height": "10.428571428571429%",
                "stroke": "white",
                "width": "50",
                "x": "-25",
                "y": "10.214285714285715%"
               },
               "children": [],
               "tagName": "rect"
              },
              {
               "attributes": {
                "fill": "lightgrey",
                "height": "10.428571428571429%",
                "stroke": "lightgrey",
                "width": "50",
                "x": "-25",
                "y": "20.642857142857146%"
               },
               "children": [],
               "tagName": "rect"
              },
              {
               "attributes": {
                "fill": "black",
                "height": "10.428571428571429%",
                "stroke": "black",
                "width": "50",
                "x": "-25",
                "y": "31.07142857142857%"
               },
               "children": [],
               "tagName": "rect"
              }
             ],
             "tagName": "g"
            }
           ],
           "tagName": "g"
          }
         ],
         "tagName": "svg"
        },
        {
         "attributes": {
          "height": "100",
          "viewBox": "-25 -25 50 50",
          "x": "130",
          "y": "120"
         },
         "children": [
          {
           "attributes": {
            "style": {
             "clip-path": "url(#newid)"
            }
           },
           "children": [
            {
             "attributes": {},
             "children": [
              {
               "attributes": {
                "fill": "black",
                "height": "18.25%",
                "stroke": "black",
                "width": "50",
                "x": "-25",
                "y": "-31.5%"
               },
               "children": [],
               "tagName": "rect"
              },
              {
               "attributes": {
                "fill": "lightgrey",
                "height": "18.25%",
                "stroke": "lightgrey",
                "width": "50",
                "x": "-25",
                "y": "-13.25%"
               },
               "children": [],
               "tagName": "rect"
              },
              {
               "attributes": {
                "fill": "white",
                "height": "18.25%",
                "stroke": "white",
                "width": "50",
                "x": "-25",
                "y": "5.0%"
               },
               "children": [],
               "tagName": "rect"
              },
              {
               "attributes": {
                "fill": "purple",
                "height": "18.25%",
                "stroke": "purple",
                "width": "50",
                "x": "-25",
                "y": "23.25%"
               },
               "children": [],
               "tagName": "rect"
              }
             ],
             "tagName": "g"
            }
           ],
           "tagName": "g"
          }
         ],
         "tagName": "svg"
        },
        {
         "attributes": {
          "height": "100",
          "viewBox": "-25 -25 50 50",
          "x": "260",
          "y": "120"
         },
         "children": [
          {
           "attributes": {
            "style": {
             "clip-path": "url(#newid)"
            }
           },
           "children": [
            {
             "attributes": {},
             "children": [
              {
               "attributes": {
                "fill": "deeppink",
                "height": "14.6%",
                "stroke": "deeppink",
                "width": "50",
                "x": "-25",
                "y": "-31.5%"
               },
               "children": [],
               "tagName": "rect"
              },
              {
               "attributes": {
                "fill": "deeppink",
                "height": "14.6%",
                "stroke": "deeppink",
                "width": "50",
                "x": "-25",
                "y": "-16.9%"
               },
               "children": [],
               "tagName": "rect"
              },
              {
               "attributes": {
                "fill": "mediumpurple",
                "height": "14.6%",
                "stroke": "mediumpurple",
                "width": "50",
                "x": "-25",
                "y": "-2.3000000000000007%"
               },
               "children": [],
               "tagName": "rect"
              },
              {
               "attributes": {
                "fill": "blue",
                "height": "14.6%",
                "stroke": "blue",
                "width": "50",
                "x": "-25",
                "y": "12.299999999999997%"
               },
               "children": [],
               "tagName": "rect"
              },
              {
               "attributes": {
                "fill": "blue",
                "height": "14.6%",
                "stroke": "blue",
                "width": "50",
                "x": "-25",
                "y": "26.9%"
               },
               "children": [],
               "tagName": "rect"
              }
             ],
             "tagName": "g"
            }
           ],
           "tagName": "g"
          }
         ],
         "tagName": "svg"
        },
        {
         "attributes": {
          "height": "100",
          "viewBox": "-25 -25 50 50",
          "x": "390",
          "y": "120"
         },
         "children": [
          {
           "attributes": {
            "style": {
             "clip-path": "url(#newid)"
            }
           },
           "children": [
            {
             "attributes": {},
             "children": [
              {
               "attributes": {
                "fill": "#ffef00",
                "height": "18.25%",
                "stroke": "#ffef00",
                "width": "50",
                "x": "-25",
                "y": "-31.5%"
               },
               "children": [],
               "tagName": "rect"
              },
              {
               "attributes": {
                "fill": "white",
                "height": "18.25%",
                "stroke": "white",
                "width": "50",
                "x": "-25",
                "y": "-13.25%"
               },
               "children": [],
               "tagName": "rect"
              },
              {
               "attributes": {
                "fill": "#9C59D1",
                "height": "18.25%",
                "stroke": "#9C59D1",
                "width": "50",
                "x": "-25",
                "y": "5.0%"
               },
               "children": [],
               "tagName": "rect"
              },
              {
               "attributes": {
                "fill": "black",
                "height": "18.25%",
                "stroke": "black",
                "width": "50",
                "x": "-25",
                "y": "23.25%"
               },
               "children": [],
               "tagName": "rect"
              }
             ],
             "tagName": "g"
            }
           ],
           "tagName": "g"
          }
         ],
         "tagName": "svg"
        },
        {
         "attributes": {
          "height": "100",
          "viewBox": "-25 -25 50 50",
          "x": "520",
          "y": "120"
         },
         "children": [
          {
           "attributes": {
            "style": {
             "clip-path": "url(#newid)"
            }
           },
           "children": [
            {
             "attributes": {},
             "children": [
              {
               "attributes": {
                "fill": "#ff75a2",
                "height": "14.6%",
                "stroke": "#ff75a2",
                "width": "50",
                "x": "-25",
                "y": "-31.5%"
               },
               "children": [],
               "tagName": "rect"
              },
              {
               "attributes": {
                "fill": "white",
                "height": "14.6%",
                "stroke": "white",
                "width": "50",
                "x": "-25",
                "y": "-16.9%"
               },
               "children": [],
               "tagName": "rect"
              },
              {
               "attributes": {
                "fill": "#be18d6",
                "height": "14.6%",
                "stroke": "#be18d6",
                "width": "50",
                "x": "-25",
                "y": "-2.3000000000000007%"
               },
               "children": [],
               "tagName": "rect"
              },
              {
               "attributes": {
                "fill": "black",
                "height": "14.6%",
                "stroke": "black",
                "width": "50",
                "x": "-25",
                "y": "12.299999999999997%"
               },
               "children": [],
               "tagName": "rect"
              },
              {
               "attributes": {
                "fill": "mediumblue",
                "height": "14.6%",
                "stroke": "mediumblue",
                "width": "50",
                "x": "-25",
                "y": "26.9%"
               },
               "children": [],
               "tagName": "rect"
              }
             ],
             "tagName": "g"
            }
           ],
           "tagName": "g"
          }
         ],
         "tagName": "svg"
        },
        {
         "attributes": {
          "height": "100",
          "viewBox": "-25 -25 50 50",
          "x": "40",
          "y": "240"
         },
         "children": [
          {
           "attributes": {
            "style": {
             "clip-path": "url(#newid)"
            }
           },
           "children": [
            {
             "attributes": {},
             "children": [
              {
               "attributes": {
                "fill": "deeppink",
                "height": "24.333333333333332%",
                "stroke": "deeppink",
                "width": "50",
                "x": "-25",
                "y": "-31.5%"
               },
               "children": [],
               "tagName": "rect"
              },
              {
               "attributes": {
                "fill": "gold",
                "height": "24.333333333333332%",
                "stroke": "gold",
                "width": "50",
                "x": "-25",
                "y": "-7.166666666666668%"
               },
               "children": [],
               "tagName": "rect"
              },
              {
               "attributes": {
                "fill": "deepskyblue",
                "height": "24.333333333333332%",
                "stroke": "deepskyblue",
                "width": "50",
                "x": "-25",
                "y": "17.166666666666664%"
               },
               "children": [],
               "tagName": "rect"
              }
             ],
             "tagName": "g"
            }
           ],
           "tagName": "g"
          }
         ],
         "tagName": "svg"
        },
        {
         "attributes": {
          "height": "100",
          "viewBox": "-25 -25 50 50",
          "x": "185",
          "y": "240"
         },
         "children": [
          {
           "attributes": {
            "style": {
             "clip-path": "url(#newid)"
            }
           },
           "children": [
            {
             "attributes": {},
             "children": [
              {
               "attributes": {
                "fill": "#f61cb9",
                "height": "24.333333333333332%",
                "stroke": "#f61cb9",
                "width": "50",
                "x": "-25",
                "y": "-31.5%"
               },
               "children": [],
               "tagName": "rect"
              },
              {
               "attributes": {
                "fill": "#07d569",
                "height": "24.333333333333332%",
                "stroke": "#07d569",
                "width": "50",
                "x": "-25",
                "y": "-7.166666666666668%"
               },
               "children": [],
               "tagName": "rect"
              },
              {
               "attributes": {
                "fill": "dodgerblue",
                "height": "24.333333333333332%",
                "stroke": "dodgerblue",
                "width": "50",
                "x": "-25",
                "y": "17.166666666666664%"
               },
               "children": [],
               "tagName": "rect"
              }
             ],
             "tagName": "g"
            }
           ],
           "tagName": "g"
          }
         ],
         "tagName": "svg"
        },
        {
         "attributes": {
          "height": "100",
          "viewBox": "-25 -25 50 50",
          "x": "335",
          "y": "240"
         },
         "children": [
          {
           "attributes": {
            "style": {
             "clip-path": "url(#newid)"
            }
           },
           "children": [
            {
             "attributes": {},
             "children": [
              {
               "attributes": {
                "fill": "#3da542",
                "height": "14.6%",
                "stroke": "#3da542",
                "width": "50",
                "x": "-25",
                "y": "-31.5%"
               },
               "children": [],
               "tagName": "rect"
              },
              {
               "attributes": {
                "fill": "#a7d379",
                "height": "14.6%",
                "stroke": "#a7d379",
                "width": "50",
                "x": "-25",
                "y": "-16.9%"
               },
               "children": [],
               "tagName": "rect"
              },
              {
               "attributes": {
                "fill": "white",
                "height": "14.6%",
                "stroke": "white",
                "width": "50",
                "x": "-25",
                "y": "-2.3000000000000007%"
               },
               "children": [],
               "tagName": "rect"
              },
              {
               "attributes": {
                "fill": "lightgrey",
                "height": "14.6%",
                "stroke": "lightgrey",
                "width": "50",
                "x": "-25",
                "y": "12.299999999999997%"
               },
               "children": [],
               "tagName": "rect"
              },
              {
               "attributes": {
                "fill": "black",
                "height": "14.6%",
                "stroke": "black",
                "width": "50",
                "x": "-25",
                "y": "26.9%"
               },
               "children": [],
               "tagName": "rect"
              }
             ],
             "tagName": "g"
            }
           ],
           "tagName": "g"
          }
         ],
         "tagName": "svg"
        },
        {
         "attributes": {
          "height": "100",
          "viewBox": "-25 -25 50 50",
          "x": "480",
          "y": "240"
         },
         "children": [
          {
           "attributes": {
            "style": {
             "clip-path": "url(#newid)"
            }
           },
           "children": [
            {
             "attributes": {},
             "children": [
              {
               "attributes": {
                "fill": "#A60061",
                "height": "10.428571428571429%",
                "stroke": "#A60061",
                "width": "50",
                "x": "-25",
                "y": "-31.5%"
               },
               "children": [],
               "tagName": "rect"
              },
              {
               "attributes": {
                "fill": "#B95393",
                "height": "10.428571428571429%",
                "stroke": "#B95393",
                "width": "50",
                "x": "-25",
                "y": "-21.07142857142857%"
               },
               "children": [],
               "tagName": "rect"
              },
              {
               "attributes": {
                "fill": "#D260A7",
                "height": "10.428571428571429%",
                "stroke": "#D260A7",
                "width": "50",
                "x": "-25",
                "y": "-10.642857142857142%"
               },
               "children": [],
               "tagName": "rect"
              },
              {
               "attributes": {
                "fill": "#EDEDEB",
                "height": "10.428571428571429%",
                "stroke": "#EDEDEB",
                "width": "50",
                "x": "-25",
                "y": "-0.2142857142857153%"
               },
               "children": [],
               "tagName": "rect"
              },
              {
               "attributes": {
                "fill": "#E5ABD0",
                "height": "10.428571428571429%",
                "stroke": "#E5ABD0",
                "width": "50",
                "x": "-25",
                "y": "10.214285714285715%"
               },
               "children": [],
               "tagName": "rect"
              },
              {
               "attributes": {
                "fill": "#C74D52",
                "height": "10.428571428571429%",
                "stroke": "#C74D52",
                "width": "50",
                "x": "-25",
                "y": "20.642857142857146%"
               },
               "children": [],
               "tagName": "rect"
              },
              {
               "attributes": {
                "fill": "#8C1D00",
                "height": "10.428571428571429%",
                "stroke": "#8C1D00",
                "width": "50",
                "x": "-25",
                "y": "31.07142857142857%"
               },
               "children": [],
               "tagName": "rect"
              }
             ],
             "tagName": "g"
            }
           ],
           "tagName": "g"
          }
         ],
         "tagName": "svg"
        },
        {
         "attributes": {
          "height": "100",
          "viewBox": "-25 -25 50 50",
          "x": "170",
          "y": "360"
         },
         "children": [
          {
           "attributes": {
            "style": {
             "clip-path": "url(#newid)"
            }
           },
           "children": [
            {
             "attributes": {},
             "children": [
              {
               "attributes": {
                "fill": "#623804",
                "height": "10.428571428571429%",
                "stroke": "#623804",
                "width": "50",
                "x": "-25",
                "y": "-31.5%"
               },
               "children": [],
               "tagName": "rect"
              },
              {
               "attributes": {
                "fill": "chocolate",
                "height": "10.428571428571429%",
                "stroke": "chocolate",
                "width": "50",
                "x": "-25",
                "y": "-21.07142857142857%"
               },
               "children": [],
               "tagName": "rect"
              },
              {
               "attributes": {
                "fill": "#fedd63",
                "height": "10.428571428571429%",
                "stroke": "#fedd63",
                "width": "50",
                "x": "-25",
                "y": "-10.642857142857142%"
               },
               "children": [],
               "tagName": "rect"
              },
              {
               "attributes": {
                "fill": "moccasin",
                "height": "10.428571428571429%",
                "stroke": "moccasin",
                "width": "50",
                "x": "-25",
                "y": "-0.2142857142857153%"
               },
               "children": [],
               "tagName": "rect"
              },
              {
               "attributes": {
                "fill": "white",
                "height": "10.428571428571429%",
                "stroke": "white",
                "width": "50",
                "x": "-25",
                "y": "10.214285714285715%"
               },
               "children": [],
               "tagName": "rect"
              },
              {
               "attributes": {
                "fill": "dimgray",
                "height": "10.428571428571429%",
                "stroke": "dimgray",
                "width": "50",
                "x": "-25",
                "y": "20.642857142857146%"
               },
               "children": [],
               "tagName": "rect"
              },
              {
               "attributes": {
                "fill": "black",
                "height": "10.428571428571429%",
                "stroke": "black",
                "width": "50",
                "x": "-25",
                "y": "31.07142857142857%"
               },
               "children": [],
               "tagName": "rect"
              },
              {
               "attributes": {
                "d": "M98.9 24.4c-5.7 0-11.5 1.3-16.3 4.4C61.2 42.6 91.1 48.3 96 51.1c4.7 2.7 22.4 22.9 29.7-8.4 2.2-9.7-12.2-18.3-26.8-18.3m45.4 11.2c-17.7 1.9-.8 43 23.6 44.4 16.5.9 28.9-39.3-23.6-44.4m-94.4 8.9C34.2 44 43.7 73.3 69 83.6c5.1 2.1 14.2-4.7 14.4-16 .1-4.2-7.1-22.2-33.5-23.1m61 17.7c-7.1-.1-14.6 3-22.8 11.5-28.9 30.3 13.8 35.5 10.6 51.9-9.7 48.5-.9 52.5 8.3 55.6 11.7 3.9 33.8-33.4 43.1-40.4 12.4-9.4 77.9-42.2 62.4-58.8-22.3-23.8-27 7.3-57.7-1-14.6-3.9-28.3-18.8-43.9-18.8M54.4 96.5c-2.8-.1-5.5.4-8.1 1.6-11.5 5.2 10.8 36.5 20.9 37.4 12.4 1.1 17.4-8.9 17.6-14.7.3-7.6-15.4-24-30.4-24.3m4 46.7c-4.5.1-8 1.2-9.6 3.3-4.1 6.2 21.6 30.4 28.7 32 6.5 1.5 12.6-13 11.4-18.7-2.2-10.4-19.2-16.7-30.5-16.6",
                "transform": "scale(.08 .08) translate(-120,-80) "
               },
               "children": [],
               "tagName": "path"
              }
             ],
             "tagName": "g"
            }
           ],
           "tagName": "g"
          }
         ],
         "tagName": "svg"
        },
        {
         "attributes": {
          "height": "100",
          "viewBox": "-25 -25 50 50",
          "x": "355",
          "y": "360"
         },
         "children": [
          {
           "attributes": {
            "style": {
             "clip-path": "url(#newid)"
            }
           },
           "children": [
            {
             "attributes": {},
             "children": [
              {
               "attributes": {
                "fill": "gold",
                "height": "73.0%",
                "stroke": "gold",
                "width": "50",
                "x": "-25",
                "y": "-31.5%"
               },
               "children": [],
               "tagName": "rect"
              },
              {
               "attributes": {
                "cx": "0",
                "cy": "2",
                "fill": "transparent",
                "r": "5",
                "stroke": "purple",
                "stroke-width": "2.5"
               },
               "children": [],
               "tagName": "circle"
              }
             ],
             "tagName": "g"
            }
           ],
           "tagName": "g"
          }
         ],
         "tagName": "svg"
        },
        {
         "attributes": {
          "height": "100",
          "viewBox": "-25 -25 50 50",
          "x": "260",
          "y": "480"
         },
         "children": [
          {
           "attributes": {
            "style": {
             "clip-path": "url(#newid)"
            }
           },
           "children": [
            {
             "attributes": {},
             "children": [
              {
               "attributes": {
                "fill": "blue",
                "height": "24.333333333333332%",
                "stroke": "blue",
                "width": "50",
                "x": "-25",
                "y": "-31.5%"
               },
               "children": [],
               "tagName": "rect"
              },
              {
               "attributes": {
                "fill": "red",
                "height": "24.333333333333332%",
                "stroke": "red",
                "width": "50",
                "x": "-25",
                "y": "-7.166666666666668%"
               },
               "children": [],
               "tagName": "rect"
              },
              {
               "attributes": {
                "fill": "black",
                "height": "24.333333333333332%",
                "stroke": "black",
                "width": "50",
                "x": "-25",
                "y": "17.166666666666664%"
               },
               "children": [],
               "tagName": "rect"
              },
              {
               "attributes": {
                "fill": "yellow",
                "font-family": "Minion Pro",
                "text-anchor": "middle",
                "y": "4.5"
               },
               "children": [
                "π"
               ],
               "tagName": "text"
              }
             ],
             "tagName": "g"
            }
           ],
           "tagName": "g"
          }
         ],
         "tagName": "svg"
        }
       ],
       "tagName": "svg"
      },
      "text/html": [
       "<svg viewBox=\"250 0 700 700\" width=\"360\"><clipPath id=\"newid\"><path d=\"M0.0,5.0 Q2.26480878769362e-09,5.01935203545116 0.00240468499265089,5.05784209373124 Q0.00617678614768245,5.11821945317385 0.0144892681784808,5.19071052417724 Q0.0249796452381706,5.28219447150715 0.0416669391001586,5.38322902221801 Q0.0625689845764014,5.50978212250472 0.0921242540272451,5.64469196933818 Q0.129325564905271,5.81450341906648 0.178888071354544,5.99135494886849 Q0.227032997926876,6.16314819595208 0.285852572783466,6.33796304924934 Q0.345659522697073,6.51571243286517 0.415701700411068,6.69417844133358 Q0.487743067528425,6.87773834271958 0.569888188951648,7.06019887319993 Q0.692043825721294,7.33153065651206 0.834806300015498,7.59665683949396 Q0.918421740467044,7.75194024064588 1.00862101667763,7.90415568501767 Q1.12167926629051,8.09494670272544 1.24449884261148,8.27994312284276 Q1.44189780344349,8.57727439675439 1.66250874377508,8.85670281234556 Q1.80054060640138,9.03153559541965 1.94694688614682,9.19842404729501 Q2.08999423977703,9.36148366081515 2.24054566891579,9.51639833059041 Q2.48490085256662,9.76783534981824 2.74741879975013,9.99621086079807 Q3.01662696842382,10.2304064795754 3.30291999709097,10.4385942042024 Q3.46972317871875,10.5598908176942 3.64179542494331,10.6719572214367 Q3.79857226878001,10.7740621074039 3.95941554482475,10.8683033405894 Q4.13334243392154,10.9702105195257 4.31166833497306,11.0627149706127 Q4.47604708828145,11.1479845038409 4.64386151028959,11.2251070150907 Q4.80544594869858,11.299366411392 4.96995032351617,11.3659501831024 Q5.16725965014621,11.4458118838945 5.36835311845226,11.5144650549576 Q5.56561833961004,11.5818112650908 5.7660857806164,11.6382214352365 Q5.93594304380552,11.6860181101922 6.10780540394526,11.7258795037075 Q6.3802811445957,11.7890769525997 6.65689783599178,11.8321328272072 Q6.88756600251257,11.8680367330906 7.12039035026157,11.8898178268749 Q7.33575429714658,11.9099654719568 7.5524023719199,11.9179755377665 Q7.78903411552322,11.9267244539104 8.02650188595541,11.9209696911957 Q8.31148267851657,11.9140635041521 8.59647282523938,11.8863060110558 Q8.84172783653293,11.8624186438571 9.08605624824551,11.8231757557194 Q9.29602775102361,11.7894511138005 9.5047004646898,11.7444820539865 Q9.73546771599974,11.6947516117789 9.96389320433066,11.631434414029 Q10.2137994798527,11.5621629628359 10.4598847954114,11.4769149350853 Q10.7426952738113,11.3789447028671 11.0189146985215,11.2604175545564 Q11.2783606307036,11.14908799649 11.5305552606758,11.0202359184706 Q11.8305962880828,10.8669380077389 12.1182124982183,10.6899608334626 Q12.3086605446971,10.5727735681955 12.4928101128895,10.4457122376404 Q12.7138340887796,10.2932079405257 12.9247407405014,10.1272078034175 Q13.1164494580624,9.97631795172166 13.2989309836935,9.81495653041487 Q13.4993501715355,9.63773352169933 13.6876496499027,9.44875874377583 Q13.8259025844505,9.31000999189398 13.9571663998683,9.16537567684822 Q14.0895559130142,9.01950100078341 14.2144709921875,8.86804150073268 Q14.3647042289743,8.68588374135466 14.50359102542,8.496302620215 Q14.6242491373507,8.33160373796121 14.7359701511584,8.16180777241553 Q14.8556947497797,7.9798477889744 14.9647911861361,7.79259020255814 Q15.0815966885041,7.5921004598673 15.1858302302757,7.38620717426887 Q15.2838990649354,7.19249108020058 15.3705462405702,6.99456656547992 Q15.4710479022511,6.76499482847765 15.555848418953,6.53053381443338 Q15.6293410875024,6.32733734508333 15.6908398354807,6.12101489646327 Q15.7582996840502,5.89469352248478 15.811151998362,5.66520400901477 Q15.858001700426,5.46177837907041 15.8932743283624,5.25628456535619 Q15.9234569772515,5.08044431780161 15.9451194504346,4.90333416558016 Q15.9730560934491,4.67492704627213 15.9867773968648,4.44479362169134 Q16.0034165941822,4.16572133934909 15.9991176647554,3.88472444785707 Q15.9950908430473,3.62151371089842 15.9726972179107,3.35708697651958 Q15.9526619394994,3.12050789606779 15.9179459679384,2.88322942110747 Q15.882312030686,2.63967678789829 15.83124032874,2.39559405324708 Q15.7875158480249,2.1866252815493 15.7324953373768,1.97736550244011 Q15.6648912559291,1.72024656653811 15.5802540161198,1.46276838245011 Q15.4968741501039,1.20911530326591 15.3969639315714,0.955118442554341 Q15.3045821236361,0.720260691795003 15.1980404233408,0.485042552463534 Q15.0759331774567,0.215459477516022 14.935136668034,-0.0547900505028633 Q14.7784251600096,-0.355587358989756 14.5983261379963,-0.657651595836769 Q14.4326365303214,-0.935548190367364 14.2468180712942,-1.21507534194023 Q13.9287667177733,-1.69352075241799 13.5495204141351,-2.17993676735823 Q13.228806301099,-2.59128021171493 12.8611063340419,-3.0124517446707 Q12.1591087582907,-3.81653502342836 11.2483797084418,-4.69658759121086 Q10.4733210891135,-5.44553957449827 9.42454171069957,-6.36494199823616 Q8.84072932123853,-6.87673555265406 7.788610883906,-7.77268471082305 Q6.43199730758967,-8.92793182800395 5.86781215340663,-9.42143310902599 Q4.99911290579133,-10.1812974697638 4.33114177564245,-10.8099404645036 Q3.70609091742599,-11.3981902041088 3.18523060681885,-11.9373159451196 Q2.65398052055043,-12.4871958084704 2.2119638126538,-13.0054355175612 Q1.84652002656313,-13.4338977860892 1.53818480616621,-13.8451114872961 Q1.35658899707246,-14.0872981719213 1.19468144267213,-14.3236430665681 Q1.01229440141544,-14.5898829354267 0.855250034700979,-14.8481696259238 Q0.710327112506176,-15.0865204992088 0.587635439099838,-15.317016364333 Q0.482522452421447,-15.5144878644567 0.394395445017321,-15.7049318068687 Q0.31840843950407,-15.869141001397 0.255658210448299,-16.0268054813404 Q0.189432844334108,-16.1932014939857 0.138853346014398,-16.3499815211115 Q0.0926197731189966,-16.4932905900716 0.0605744460923479,-16.625013082467 Q0.0353801389730772,-16.7285744199802 0.0199590858880895,-16.820733667613 Q0.00867700999654953,-16.8881575731122 0.00346592649802561,-16.9441272743669 Q0.000399281055259889,-16.9770646144295 2.49345880547808e-05,-16.9979165809901 Q0.000120167169769384,-16.9926119052863 -0.00120639179482519,-16.9723446290242 Q-0.00426775812446953,-16.9255728240776 -0.0129503651544767,-16.86557788734 Q-0.0227183511665687,-16.7980832165775 -0.0385454062196693,-16.7222898015959 Q-0.06004549711036,-16.6193290609179 -0.0915669504606278,-16.5067117118991 Q-0.132286979305915,-16.3612304217578 -0.188273154562518,-16.204902779091 Q-0.258831712369531,-16.0078853375281 -0.351810097949509,-15.7987840090959 Q-0.440000005976105,-15.6004516030464 -0.547194072845051,-15.3939437422104 Q-0.651340977758142,-15.193306195987 -0.772699085783482,-14.9863772240217 Q-0.910246809839973,-14.7518431694101 -1.0692413762151,-14.5103646821128 Q-1.22417112561029,-14.2750597759499 -1.39908931791318,-14.0337431312646 Q-1.76797104341055,-13.5248349433239 -2.22583196061482,-12.9891937151164 Q-2.65281454964278,-12.4896763511826 -3.16250584273345,-11.960865339223 Q-3.75455354091074,-11.3466085397729 -4.48484292020919,-10.6660006846297 Q-5.15417223354364,-10.0422057873649 -6.03462845747207,-9.27588577364818 Q-6.5518613566613,-8.82570334364281 -7.72688839874177,-7.82524124839609 Q-9.00011940672614,-6.74116461325269 -9.66659027493077,-6.1518575057301 Q-10.6800142168527,-5.25576742827941 -11.4416925502921,-4.5083632999628 Q-11.9256928826451,-4.03343335824615 -12.3453337586718,-3.58350021932445 Q-12.8421226311087,-3.05085006647637 -13.2630306985554,-2.53794032909005 Q-13.5888635034756,-2.14088731127246 -13.8734126595931,-1.7506997108797 Q-14.1158142868982,-1.41830684568896 -14.3296155195759,-1.08906603538983 Q-14.6222670714185,-0.638400560466284 -14.8629035091692,-0.191196762642277 Q-14.9849831812171,0.035678657752151 -15.093879517273,0.262018849814471 Q-15.1989501677438,0.48040738398381 -15.2918143665365,0.698434979814885 Q-15.4099383650006,0.975767813457227 -15.5083731080758,1.25265889367945 Q-15.596037025423,1.49925228146578 -15.6680979222918,1.74552862415746 Q-15.7452025309944,2.00904242791343 -15.8044279558644,2.27213565719569 Q-15.8673099421169,2.55147218982739 -15.9099982659839,2.83015436556823 Q-15.9467996846554,3.07040505935725 -15.9685614040832,3.30996314026493 Q-15.9881495049069,3.52559352082962 -15.9955342067788,3.74046434121497 Q-16.0051232678424,4.01947484877545 -15.9941254637899,4.2967472393645 Q-15.9844330208493,4.54110936947305 -15.958768035937,4.78366431573383 Q-15.9275621653641,5.07858513044192 -15.8728386332033,5.37000215623899 Q-15.8278093231867,5.60979493058336 -15.7669750538715,5.84656658453498 Q-15.721016172269,6.02544208568407 -15.6661182996239,6.20226632422338 Q-15.6208315317082,6.34813351117917 -15.5695193619767,6.49241673134215 Q-15.4613890101118,6.79646537021361 -15.3269801205853,7.09222815454625 Q-15.2212449367798,7.32489529787583 -15.0996951958763,7.55142914467109 Q-14.9588348202878,7.81395247467492 -14.7974725228564,8.0668861942751 Q-14.6745800019696,8.25951894005113 -14.5402766384116,8.44582208248948 Q-14.3933701098356,8.64960810238759 -14.2334198263091,8.84498132868387 Q-14.0945594532161,9.01459402644063 -13.9463689488664,9.17725000648766 Q-13.7735280755873,9.36696257787514 -13.588753931665,9.54638613301087 Q-13.4189681105967,9.71125538896335 -13.23982095404,9.86674014639278 Q-13.0625216805617,10.0206210957701 -12.8767644199624,10.1646925661538 Q-12.6944389535778,10.3061023713246 -12.5046728111778,10.4375123135825 Q-12.3142699757146,10.5693631553476 -12.1171076375409,10.6906405650386 Q-11.9213331232265,10.811064304174 -11.7196291899761,10.9206103014377 Q-11.509884893371,11.0345230436026 -11.2945462865961,11.1362305693748 Q-11.0736106685721,11.2405816441808 -10.8476757705343,11.3316650627413 Q-10.6451233054253,11.4133220848312 -10.4392342246826,11.4840381672923 Q-10.2480502354789,11.5497035376801 -10.0545178054937,11.605752174849 Q-9.87842747053587,11.6567494330024 -9.70078839955957,11.699669661687 Q-9.51646003889087,11.7442061217657 -9.33086927650686,11.7799481442673 Q-9.13248730736292,11.8181535630821 -8.933139388093,11.846219406851 Q-8.71465712197788,11.8769791417381 -8.49561748097842,11.8954757888015 Q-8.29291726492743,11.9125926647188 -8.09024399409492,11.9191639457214 Q-7.78610008904026,11.9290252118723 -7.4833331334596,11.915111810162 Q-7.17318452623145,11.9008591908364 -6.86609005385436,11.8617329844013 Q-6.59503326929163,11.8271982575912 -6.32749985800465,11.7734249707618 Q-6.065591016902,11.7207822030116 -5.80803820752765,11.6498970887622 Q-5.55929013948285,11.5814352643096 -5.31546652781383,11.4961928265364 Q-5.10668790644988,11.4232023621669 -4.90208243255889,11.3381020157274 Q-4.65361227556304,11.2347572906909 -4.41212777878246,11.1139056578479 Q-4.19936350048537,11.0074271435513 -3.99268182769649,10.8876853593409 Q-3.75270580423463,10.7486543711102 -3.52182577913573,10.5922682144105 Q-3.32874675879168,10.4614864981576 -3.14265200973488,10.3189846901617 Q-2.96546888319985,10.183306945327 -2.79512566366148,10.0373935236474 Q-2.59954871236449,9.869865269557 -2.41370491741605,9.68946420864727 Q-2.19513433610818,9.47729481788262 -1.99121915187079,9.24849308724242 Q-1.80560573104341,9.04022673339448 -1.63321108031305,8.8193835024801 Q-1.48460042648279,8.62900835568098 -1.34656919353414,8.43025073001946 Q-1.22862003028138,8.26041021540489 -1.11890397474925,8.08517660112203 Q-0.95801857573265,7.82821758251459 -0.816175270753006,7.56186513162384 Q-0.660837400706088,7.27017267275816 -0.530605965747761,6.97155652900988 Q-0.428580116785493,6.73761481140916 -0.343519030901754,6.5029591230879 Q-0.261963346200934,6.27797368901832 -0.197516475528564,6.05656345647983 Q-0.136184858928778,5.84585582472599 -0.0920712402436369,5.64444995400555 Q-0.0534506179297929,5.46812299882186 -0.0298383755424187,5.30751615628668 Q-0.0115789781484796,5.18331854244193 -0.00400653952455051,5.08123174112462 Z\" fill=\"none\" id=\"05e1dfb34cca41a18abfb2ef81e5d929\" stroke=\"red\" stroke-width=\".5\" transform=\"scale(1.25 -1.25)\"></path></clipPath><svg height=\"100\" viewBox=\"-25 -25 50 50\" x=\"60\" y=\"0\"><g style=\"clip-path: url(#newid)\"><g><rect fill=\"lightskyblue\" height=\"14.6%\" stroke=\"lightskyblue\" width=\"50\" x=\"-25\" y=\"-31.5%\"></rect><rect fill=\"lightpink\" height=\"14.6%\" stroke=\"lightpink\" width=\"50\" x=\"-25\" y=\"-16.9%\"></rect><rect fill=\"white\" height=\"14.6%\" stroke=\"white\" width=\"50\" x=\"-25\" y=\"-2.3000000000000007%\"></rect><rect fill=\"lightpink\" height=\"14.6%\" stroke=\"lightpink\" width=\"50\" x=\"-25\" y=\"12.299999999999997%\"></rect><rect fill=\"lightskyblue\" height=\"14.6%\" stroke=\"lightskyblue\" width=\"50\" x=\"-25\" y=\"26.9%\"></rect></g></g></svg><svg height=\"100\" viewBox=\"-25 -25 50 50\" x=\"180\" y=\"0\"><g style=\"clip-path: url(#newid)\"><g><rect fill=\"purple\" height=\"73.0%\" stroke=\"purple\" width=\"50\" x=\"-25\" y=\"-31.5%\"></rect><g transform=\"scale(.04, .04) translate(-500 -150)\"><path d=\"M500 550L211.325 50h577.35z\" fill=\"black\"></path><path d=\"M479.667 132.374a162.687 162.687 0 0 1-108.732-62.373 162.687 162.687 0 0 0 0 198.075 162.687 162.687 0 0 1 108.732-62.373zm40.672 73.329a162.687 162.687 0 0 1 108.732 62.373 162.687 162.687 0 0 0 0-198.075 162.687 162.687 0 0 1-108.732 62.373zm-4.067-91.571a16.269 8.134 0 0 0-32.538 0v347.743a16.269 8.134 0 0 0 32.538 0z\" fill=\"white\"></path></g></g></g></svg><svg height=\"100\" viewBox=\"-25 -25 50 50\" x=\"345\" y=\"0\"><g style=\"clip-path: url(#newid)\"><g><rect fill=\"forestgreen\" height=\"24.333333333333332%\" stroke=\"forestgreen\" width=\"50\" x=\"-25\" y=\"-31.5%\"></rect><rect fill=\"white\" height=\"24.333333333333332%\" stroke=\"white\" width=\"50\" x=\"-25\" y=\"-7.166666666666668%\"></rect><rect fill=\"purple\" height=\"24.333333333333332%\" stroke=\"purple\" width=\"50\" x=\"-25\" y=\"17.166666666666664%\"></rect></g></g></svg><svg height=\"100\" viewBox=\"-25 -25 50 50\" x=\"465\" y=\"0\"><g style=\"clip-path: url(#newid)\"><g><rect fill=\"red\" height=\"9.125%\" stroke=\"red\" width=\"50\" x=\"-25\" y=\"-31.5%\"></rect><rect fill=\"orange\" height=\"9.125%\" stroke=\"orange\" width=\"50\" x=\"-25\" y=\"-22.375%\"></rect><rect fill=\"yellow\" height=\"9.125%\" stroke=\"yellow\" width=\"50\" x=\"-25\" y=\"-13.25%\"></rect><rect fill=\"green\" height=\"9.125%\" stroke=\"green\" width=\"50\" x=\"-25\" y=\"-4.125%\"></rect><rect fill=\"blue\" height=\"9.125%\" stroke=\"blue\" width=\"50\" x=\"-25\" y=\"5.0%\"></rect><rect fill=\"purple\" height=\"9.125%\" stroke=\"purple\" width=\"50\" x=\"-25\" y=\"14.125%\"></rect><rect fill=\"brown\" height=\"9.125%\" stroke=\"brown\" width=\"50\" x=\"-25\" y=\"23.25%\"></rect><rect fill=\"black\" height=\"9.125%\" stroke=\"black\" width=\"50\" x=\"-25\" y=\"32.375%\"></rect></g></g></svg><svg height=\"100\" viewBox=\"-25 -25 50 50\" x=\"0\" y=\"120\"><g style=\"clip-path: url(#newid)\"><g><rect fill=\"black\" height=\"10.428571428571429%\" stroke=\"black\" width=\"50\" x=\"-25\" y=\"-31.5%\"></rect><rect fill=\"lightgrey\" height=\"10.428571428571429%\" stroke=\"lightgrey\" width=\"50\" x=\"-25\" y=\"-21.07142857142857%\"></rect><rect fill=\"white\" height=\"10.428571428571429%\" stroke=\"white\" width=\"50\" x=\"-25\" y=\"-10.642857142857142%\"></rect><rect fill=\"chartreuse\" height=\"10.428571428571429%\" stroke=\"chartreuse\" width=\"50\" x=\"-25\" y=\"-0.2142857142857153%\"></rect><rect fill=\"white\" height=\"10.428571428571429%\" stroke=\"white\" width=\"50\" x=\"-25\" y=\"10.214285714285715%\"></rect><rect fill=\"lightgrey\" height=\"10.428571428571429%\" stroke=\"lightgrey\" width=\"50\" x=\"-25\" y=\"20.642857142857146%\"></rect><rect fill=\"black\" height=\"10.428571428571429%\" stroke=\"black\" width=\"50\" x=\"-25\" y=\"31.07142857142857%\"></rect></g></g></svg><svg height=\"100\" viewBox=\"-25 -25 50 50\" x=\"130\" y=\"120\"><g style=\"clip-path: url(#newid)\"><g><rect fill=\"black\" height=\"18.25%\" stroke=\"black\" width=\"50\" x=\"-25\" y=\"-31.5%\"></rect><rect fill=\"lightgrey\" height=\"18.25%\" stroke=\"lightgrey\" width=\"50\" x=\"-25\" y=\"-13.25%\"></rect><rect fill=\"white\" height=\"18.25%\" stroke=\"white\" width=\"50\" x=\"-25\" y=\"5.0%\"></rect><rect fill=\"purple\" height=\"18.25%\" stroke=\"purple\" width=\"50\" x=\"-25\" y=\"23.25%\"></rect></g></g></svg><svg height=\"100\" viewBox=\"-25 -25 50 50\" x=\"260\" y=\"120\"><g style=\"clip-path: url(#newid)\"><g><rect fill=\"deeppink\" height=\"14.6%\" stroke=\"deeppink\" width=\"50\" x=\"-25\" y=\"-31.5%\"></rect><rect fill=\"deeppink\" height=\"14.6%\" stroke=\"deeppink\" width=\"50\" x=\"-25\" y=\"-16.9%\"></rect><rect fill=\"mediumpurple\" height=\"14.6%\" stroke=\"mediumpurple\" width=\"50\" x=\"-25\" y=\"-2.3000000000000007%\"></rect><rect fill=\"blue\" height=\"14.6%\" stroke=\"blue\" width=\"50\" x=\"-25\" y=\"12.299999999999997%\"></rect><rect fill=\"blue\" height=\"14.6%\" stroke=\"blue\" width=\"50\" x=\"-25\" y=\"26.9%\"></rect></g></g></svg><svg height=\"100\" viewBox=\"-25 -25 50 50\" x=\"390\" y=\"120\"><g style=\"clip-path: url(#newid)\"><g><rect fill=\"#ffef00\" height=\"18.25%\" stroke=\"#ffef00\" width=\"50\" x=\"-25\" y=\"-31.5%\"></rect><rect fill=\"white\" height=\"18.25%\" stroke=\"white\" width=\"50\" x=\"-25\" y=\"-13.25%\"></rect><rect fill=\"#9C59D1\" height=\"18.25%\" stroke=\"#9C59D1\" width=\"50\" x=\"-25\" y=\"5.0%\"></rect><rect fill=\"black\" height=\"18.25%\" stroke=\"black\" width=\"50\" x=\"-25\" y=\"23.25%\"></rect></g></g></svg><svg height=\"100\" viewBox=\"-25 -25 50 50\" x=\"520\" y=\"120\"><g style=\"clip-path: url(#newid)\"><g><rect fill=\"#ff75a2\" height=\"14.6%\" stroke=\"#ff75a2\" width=\"50\" x=\"-25\" y=\"-31.5%\"></rect><rect fill=\"white\" height=\"14.6%\" stroke=\"white\" width=\"50\" x=\"-25\" y=\"-16.9%\"></rect><rect fill=\"#be18d6\" height=\"14.6%\" stroke=\"#be18d6\" width=\"50\" x=\"-25\" y=\"-2.3000000000000007%\"></rect><rect fill=\"black\" height=\"14.6%\" stroke=\"black\" width=\"50\" x=\"-25\" y=\"12.299999999999997%\"></rect><rect fill=\"mediumblue\" height=\"14.6%\" stroke=\"mediumblue\" width=\"50\" x=\"-25\" y=\"26.9%\"></rect></g></g></svg><svg height=\"100\" viewBox=\"-25 -25 50 50\" x=\"40\" y=\"240\"><g style=\"clip-path: url(#newid)\"><g><rect fill=\"deeppink\" height=\"24.333333333333332%\" stroke=\"deeppink\" width=\"50\" x=\"-25\" y=\"-31.5%\"></rect><rect fill=\"gold\" height=\"24.333333333333332%\" stroke=\"gold\" width=\"50\" x=\"-25\" y=\"-7.166666666666668%\"></rect><rect fill=\"deepskyblue\" height=\"24.333333333333332%\" stroke=\"deepskyblue\" width=\"50\" x=\"-25\" y=\"17.166666666666664%\"></rect></g></g></svg><svg height=\"100\" viewBox=\"-25 -25 50 50\" x=\"185\" y=\"240\"><g style=\"clip-path: url(#newid)\"><g><rect fill=\"#f61cb9\" height=\"24.333333333333332%\" stroke=\"#f61cb9\" width=\"50\" x=\"-25\" y=\"-31.5%\"></rect><rect fill=\"#07d569\" height=\"24.333333333333332%\" stroke=\"#07d569\" width=\"50\" x=\"-25\" y=\"-7.166666666666668%\"></rect><rect fill=\"dodgerblue\" height=\"24.333333333333332%\" stroke=\"dodgerblue\" width=\"50\" x=\"-25\" y=\"17.166666666666664%\"></rect></g></g></svg><svg height=\"100\" viewBox=\"-25 -25 50 50\" x=\"335\" y=\"240\"><g style=\"clip-path: url(#newid)\"><g><rect fill=\"#3da542\" height=\"14.6%\" stroke=\"#3da542\" width=\"50\" x=\"-25\" y=\"-31.5%\"></rect><rect fill=\"#a7d379\" height=\"14.6%\" stroke=\"#a7d379\" width=\"50\" x=\"-25\" y=\"-16.9%\"></rect><rect fill=\"white\" height=\"14.6%\" stroke=\"white\" width=\"50\" x=\"-25\" y=\"-2.3000000000000007%\"></rect><rect fill=\"lightgrey\" height=\"14.6%\" stroke=\"lightgrey\" width=\"50\" x=\"-25\" y=\"12.299999999999997%\"></rect><rect fill=\"black\" height=\"14.6%\" stroke=\"black\" width=\"50\" x=\"-25\" y=\"26.9%\"></rect></g></g></svg><svg height=\"100\" viewBox=\"-25 -25 50 50\" x=\"480\" y=\"240\"><g style=\"clip-path: url(#newid)\"><g><rect fill=\"#A60061\" height=\"10.428571428571429%\" stroke=\"#A60061\" width=\"50\" x=\"-25\" y=\"-31.5%\"></rect><rect fill=\"#B95393\" height=\"10.428571428571429%\" stroke=\"#B95393\" width=\"50\" x=\"-25\" y=\"-21.07142857142857%\"></rect><rect fill=\"#D260A7\" height=\"10.428571428571429%\" stroke=\"#D260A7\" width=\"50\" x=\"-25\" y=\"-10.642857142857142%\"></rect><rect fill=\"#EDEDEB\" height=\"10.428571428571429%\" stroke=\"#EDEDEB\" width=\"50\" x=\"-25\" y=\"-0.2142857142857153%\"></rect><rect fill=\"#E5ABD0\" height=\"10.428571428571429%\" stroke=\"#E5ABD0\" width=\"50\" x=\"-25\" y=\"10.214285714285715%\"></rect><rect fill=\"#C74D52\" height=\"10.428571428571429%\" stroke=\"#C74D52\" width=\"50\" x=\"-25\" y=\"20.642857142857146%\"></rect><rect fill=\"#8C1D00\" height=\"10.428571428571429%\" stroke=\"#8C1D00\" width=\"50\" x=\"-25\" y=\"31.07142857142857%\"></rect></g></g></svg><svg height=\"100\" viewBox=\"-25 -25 50 50\" x=\"170\" y=\"360\"><g style=\"clip-path: url(#newid)\"><g><rect fill=\"#623804\" height=\"10.428571428571429%\" stroke=\"#623804\" width=\"50\" x=\"-25\" y=\"-31.5%\"></rect><rect fill=\"chocolate\" height=\"10.428571428571429%\" stroke=\"chocolate\" width=\"50\" x=\"-25\" y=\"-21.07142857142857%\"></rect><rect fill=\"#fedd63\" height=\"10.428571428571429%\" stroke=\"#fedd63\" width=\"50\" x=\"-25\" y=\"-10.642857142857142%\"></rect><rect fill=\"moccasin\" height=\"10.428571428571429%\" stroke=\"moccasin\" width=\"50\" x=\"-25\" y=\"-0.2142857142857153%\"></rect><rect fill=\"white\" height=\"10.428571428571429%\" stroke=\"white\" width=\"50\" x=\"-25\" y=\"10.214285714285715%\"></rect><rect fill=\"dimgray\" height=\"10.428571428571429%\" stroke=\"dimgray\" width=\"50\" x=\"-25\" y=\"20.642857142857146%\"></rect><rect fill=\"black\" height=\"10.428571428571429%\" stroke=\"black\" width=\"50\" x=\"-25\" y=\"31.07142857142857%\"></rect><path d=\"M98.9 24.4c-5.7 0-11.5 1.3-16.3 4.4C61.2 42.6 91.1 48.3 96 51.1c4.7 2.7 22.4 22.9 29.7-8.4 2.2-9.7-12.2-18.3-26.8-18.3m45.4 11.2c-17.7 1.9-.8 43 23.6 44.4 16.5.9 28.9-39.3-23.6-44.4m-94.4 8.9C34.2 44 43.7 73.3 69 83.6c5.1 2.1 14.2-4.7 14.4-16 .1-4.2-7.1-22.2-33.5-23.1m61 17.7c-7.1-.1-14.6 3-22.8 11.5-28.9 30.3 13.8 35.5 10.6 51.9-9.7 48.5-.9 52.5 8.3 55.6 11.7 3.9 33.8-33.4 43.1-40.4 12.4-9.4 77.9-42.2 62.4-58.8-22.3-23.8-27 7.3-57.7-1-14.6-3.9-28.3-18.8-43.9-18.8M54.4 96.5c-2.8-.1-5.5.4-8.1 1.6-11.5 5.2 10.8 36.5 20.9 37.4 12.4 1.1 17.4-8.9 17.6-14.7.3-7.6-15.4-24-30.4-24.3m4 46.7c-4.5.1-8 1.2-9.6 3.3-4.1 6.2 21.6 30.4 28.7 32 6.5 1.5 12.6-13 11.4-18.7-2.2-10.4-19.2-16.7-30.5-16.6\" transform=\"scale(.08 .08) translate(-120,-80) \"></path></g></g></svg><svg height=\"100\" viewBox=\"-25 -25 50 50\" x=\"355\" y=\"360\"><g style=\"clip-path: url(#newid)\"><g><rect fill=\"gold\" height=\"73.0%\" stroke=\"gold\" width=\"50\" x=\"-25\" y=\"-31.5%\"></rect><circle cx=\"0\" cy=\"2\" fill=\"transparent\" r=\"5\" stroke=\"purple\" stroke-width=\"2.5\"></circle></g></g></svg><svg height=\"100\" viewBox=\"-25 -25 50 50\" x=\"260\" y=\"480\"><g style=\"clip-path: url(#newid)\"><g><rect fill=\"blue\" height=\"24.333333333333332%\" stroke=\"blue\" width=\"50\" x=\"-25\" y=\"-31.5%\"></rect><rect fill=\"red\" height=\"24.333333333333332%\" stroke=\"red\" width=\"50\" x=\"-25\" y=\"-7.166666666666668%\"></rect><rect fill=\"black\" height=\"24.333333333333332%\" stroke=\"black\" width=\"50\" x=\"-25\" y=\"17.166666666666664%\"></rect><text fill=\"yellow\" font-family=\"Minion Pro\" text-anchor=\"middle\" y=\"4.5\">π</text></g></g></svg></svg>"
      ],
      "text/plain": [
       "<svg viewBox=\"250 0 700 700\" width=\"360\"><clipPath id=\"newid\"><path d=\"M0.0,5.0 Q2.26480878769362e-09,5.01935203545116 0.00240468499265089,5.05784209373124 Q0.00617678614768245,5.11821945317385 0.0144892681784808,5.19071052417724 Q0.0249796452381706,5.28219447150715 0.0416669391001586,5.38322902221801 Q0.0625689845764014,5.50978212250472 0.0921242540272451,5.64469196933818 Q0.129325564905271,5.81450341906648 0.178888071354544,5.99135494886849 Q0.227032997926876,6.16314819595208 0.285852572783466,6.33796304924934 Q0.345659522697073,6.51571243286517 0.415701700411068,6.69417844133358 Q0.487743067528425,6.87773834271958 0.569888188951648,7.06019887319993 Q0.692043825721294,7.33153065651206 0.834806300015498,7.59665683949396 Q0.918421740467044,7.75194024064588 1.00862101667763,7.90415568501767 Q1.12167926629051,8.09494670272544 1.24449884261148,8.27994312284276 Q1.44189780344349,8.57727439675439 1.66250874377508,8.85670281234556 Q1.80054060640138,9.03153559541965 1.94694688614682,9.19842404729501 Q2.08999423977703,9.36148366081515 2.24054566891579,9.51639833059041 Q2.48490085256662,9.76783534981824 2.74741879975013,9.99621086079807 Q3.01662696842382,10.2304064795754 3.30291999709097,10.4385942042024 Q3.46972317871875,10.5598908176942 3.64179542494331,10.6719572214367 Q3.79857226878001,10.7740621074039 3.95941554482475,10.8683033405894 Q4.13334243392154,10.9702105195257 4.31166833497306,11.0627149706127 Q4.47604708828145,11.1479845038409 4.64386151028959,11.2251070150907 Q4.80544594869858,11.299366411392 4.96995032351617,11.3659501831024 Q5.16725965014621,11.4458118838945 5.36835311845226,11.5144650549576 Q5.56561833961004,11.5818112650908 5.7660857806164,11.6382214352365 Q5.93594304380552,11.6860181101922 6.10780540394526,11.7258795037075 Q6.3802811445957,11.7890769525997 6.65689783599178,11.8321328272072 Q6.88756600251257,11.8680367330906 7.12039035026157,11.8898178268749 Q7.33575429714658,11.9099654719568 7.5524023719199,11.9179755377665 Q7.78903411552322,11.9267244539104 8.02650188595541,11.9209696911957 Q8.31148267851657,11.9140635041521 8.59647282523938,11.8863060110558 Q8.84172783653293,11.8624186438571 9.08605624824551,11.8231757557194 Q9.29602775102361,11.7894511138005 9.5047004646898,11.7444820539865 Q9.73546771599974,11.6947516117789 9.96389320433066,11.631434414029 Q10.2137994798527,11.5621629628359 10.4598847954114,11.4769149350853 Q10.7426952738113,11.3789447028671 11.0189146985215,11.2604175545564 Q11.2783606307036,11.14908799649 11.5305552606758,11.0202359184706 Q11.8305962880828,10.8669380077389 12.1182124982183,10.6899608334626 Q12.3086605446971,10.5727735681955 12.4928101128895,10.4457122376404 Q12.7138340887796,10.2932079405257 12.9247407405014,10.1272078034175 Q13.1164494580624,9.97631795172166 13.2989309836935,9.81495653041487 Q13.4993501715355,9.63773352169933 13.6876496499027,9.44875874377583 Q13.8259025844505,9.31000999189398 13.9571663998683,9.16537567684822 Q14.0895559130142,9.01950100078341 14.2144709921875,8.86804150073268 Q14.3647042289743,8.68588374135466 14.50359102542,8.496302620215 Q14.6242491373507,8.33160373796121 14.7359701511584,8.16180777241553 Q14.8556947497797,7.9798477889744 14.9647911861361,7.79259020255814 Q15.0815966885041,7.5921004598673 15.1858302302757,7.38620717426887 Q15.2838990649354,7.19249108020058 15.3705462405702,6.99456656547992 Q15.4710479022511,6.76499482847765 15.555848418953,6.53053381443338 Q15.6293410875024,6.32733734508333 15.6908398354807,6.12101489646327 Q15.7582996840502,5.89469352248478 15.811151998362,5.66520400901477 Q15.858001700426,5.46177837907041 15.8932743283624,5.25628456535619 Q15.9234569772515,5.08044431780161 15.9451194504346,4.90333416558016 Q15.9730560934491,4.67492704627213 15.9867773968648,4.44479362169134 Q16.0034165941822,4.16572133934909 15.9991176647554,3.88472444785707 Q15.9950908430473,3.62151371089842 15.9726972179107,3.35708697651958 Q15.9526619394994,3.12050789606779 15.9179459679384,2.88322942110747 Q15.882312030686,2.63967678789829 15.83124032874,2.39559405324708 Q15.7875158480249,2.1866252815493 15.7324953373768,1.97736550244011 Q15.6648912559291,1.72024656653811 15.5802540161198,1.46276838245011 Q15.4968741501039,1.20911530326591 15.3969639315714,0.955118442554341 Q15.3045821236361,0.720260691795003 15.1980404233408,0.485042552463534 Q15.0759331774567,0.215459477516022 14.935136668034,-0.0547900505028633 Q14.7784251600096,-0.355587358989756 14.5983261379963,-0.657651595836769 Q14.4326365303214,-0.935548190367364 14.2468180712942,-1.21507534194023 Q13.9287667177733,-1.69352075241799 13.5495204141351,-2.17993676735823 Q13.228806301099,-2.59128021171493 12.8611063340419,-3.0124517446707 Q12.1591087582907,-3.81653502342836 11.2483797084418,-4.69658759121086 Q10.4733210891135,-5.44553957449827 9.42454171069957,-6.36494199823616 Q8.84072932123853,-6.87673555265406 7.788610883906,-7.77268471082305 Q6.43199730758967,-8.92793182800395 5.86781215340663,-9.42143310902599 Q4.99911290579133,-10.1812974697638 4.33114177564245,-10.8099404645036 Q3.70609091742599,-11.3981902041088 3.18523060681885,-11.9373159451196 Q2.65398052055043,-12.4871958084704 2.2119638126538,-13.0054355175612 Q1.84652002656313,-13.4338977860892 1.53818480616621,-13.8451114872961 Q1.35658899707246,-14.0872981719213 1.19468144267213,-14.3236430665681 Q1.01229440141544,-14.5898829354267 0.855250034700979,-14.8481696259238 Q0.710327112506176,-15.0865204992088 0.587635439099838,-15.317016364333 Q0.482522452421447,-15.5144878644567 0.394395445017321,-15.7049318068687 Q0.31840843950407,-15.869141001397 0.255658210448299,-16.0268054813404 Q0.189432844334108,-16.1932014939857 0.138853346014398,-16.3499815211115 Q0.0926197731189966,-16.4932905900716 0.0605744460923479,-16.625013082467 Q0.0353801389730772,-16.7285744199802 0.0199590858880895,-16.820733667613 Q0.00867700999654953,-16.8881575731122 0.00346592649802561,-16.9441272743669 Q0.000399281055259889,-16.9770646144295 2.49345880547808e-05,-16.9979165809901 Q0.000120167169769384,-16.9926119052863 -0.00120639179482519,-16.9723446290242 Q-0.00426775812446953,-16.9255728240776 -0.0129503651544767,-16.86557788734 Q-0.0227183511665687,-16.7980832165775 -0.0385454062196693,-16.7222898015959 Q-0.06004549711036,-16.6193290609179 -0.0915669504606278,-16.5067117118991 Q-0.132286979305915,-16.3612304217578 -0.188273154562518,-16.204902779091 Q-0.258831712369531,-16.0078853375281 -0.351810097949509,-15.7987840090959 Q-0.440000005976105,-15.6004516030464 -0.547194072845051,-15.3939437422104 Q-0.651340977758142,-15.193306195987 -0.772699085783482,-14.9863772240217 Q-0.910246809839973,-14.7518431694101 -1.0692413762151,-14.5103646821128 Q-1.22417112561029,-14.2750597759499 -1.39908931791318,-14.0337431312646 Q-1.76797104341055,-13.5248349433239 -2.22583196061482,-12.9891937151164 Q-2.65281454964278,-12.4896763511826 -3.16250584273345,-11.960865339223 Q-3.75455354091074,-11.3466085397729 -4.48484292020919,-10.6660006846297 Q-5.15417223354364,-10.0422057873649 -6.03462845747207,-9.27588577364818 Q-6.5518613566613,-8.82570334364281 -7.72688839874177,-7.82524124839609 Q-9.00011940672614,-6.74116461325269 -9.66659027493077,-6.1518575057301 Q-10.6800142168527,-5.25576742827941 -11.4416925502921,-4.5083632999628 Q-11.9256928826451,-4.03343335824615 -12.3453337586718,-3.58350021932445 Q-12.8421226311087,-3.05085006647637 -13.2630306985554,-2.53794032909005 Q-13.5888635034756,-2.14088731127246 -13.8734126595931,-1.7506997108797 Q-14.1158142868982,-1.41830684568896 -14.3296155195759,-1.08906603538983 Q-14.6222670714185,-0.638400560466284 -14.8629035091692,-0.191196762642277 Q-14.9849831812171,0.035678657752151 -15.093879517273,0.262018849814471 Q-15.1989501677438,0.48040738398381 -15.2918143665365,0.698434979814885 Q-15.4099383650006,0.975767813457227 -15.5083731080758,1.25265889367945 Q-15.596037025423,1.49925228146578 -15.6680979222918,1.74552862415746 Q-15.7452025309944,2.00904242791343 -15.8044279558644,2.27213565719569 Q-15.8673099421169,2.55147218982739 -15.9099982659839,2.83015436556823 Q-15.9467996846554,3.07040505935725 -15.9685614040832,3.30996314026493 Q-15.9881495049069,3.52559352082962 -15.9955342067788,3.74046434121497 Q-16.0051232678424,4.01947484877545 -15.9941254637899,4.2967472393645 Q-15.9844330208493,4.54110936947305 -15.958768035937,4.78366431573383 Q-15.9275621653641,5.07858513044192 -15.8728386332033,5.37000215623899 Q-15.8278093231867,5.60979493058336 -15.7669750538715,5.84656658453498 Q-15.721016172269,6.02544208568407 -15.6661182996239,6.20226632422338 Q-15.6208315317082,6.34813351117917 -15.5695193619767,6.49241673134215 Q-15.4613890101118,6.79646537021361 -15.3269801205853,7.09222815454625 Q-15.2212449367798,7.32489529787583 -15.0996951958763,7.55142914467109 Q-14.9588348202878,7.81395247467492 -14.7974725228564,8.0668861942751 Q-14.6745800019696,8.25951894005113 -14.5402766384116,8.44582208248948 Q-14.3933701098356,8.64960810238759 -14.2334198263091,8.84498132868387 Q-14.0945594532161,9.01459402644063 -13.9463689488664,9.17725000648766 Q-13.7735280755873,9.36696257787514 -13.588753931665,9.54638613301087 Q-13.4189681105967,9.71125538896335 -13.23982095404,9.86674014639278 Q-13.0625216805617,10.0206210957701 -12.8767644199624,10.1646925661538 Q-12.6944389535778,10.3061023713246 -12.5046728111778,10.4375123135825 Q-12.3142699757146,10.5693631553476 -12.1171076375409,10.6906405650386 Q-11.9213331232265,10.811064304174 -11.7196291899761,10.9206103014377 Q-11.509884893371,11.0345230436026 -11.2945462865961,11.1362305693748 Q-11.0736106685721,11.2405816441808 -10.8476757705343,11.3316650627413 Q-10.6451233054253,11.4133220848312 -10.4392342246826,11.4840381672923 Q-10.2480502354789,11.5497035376801 -10.0545178054937,11.605752174849 Q-9.87842747053587,11.6567494330024 -9.70078839955957,11.699669661687 Q-9.51646003889087,11.7442061217657 -9.33086927650686,11.7799481442673 Q-9.13248730736292,11.8181535630821 -8.933139388093,11.846219406851 Q-8.71465712197788,11.8769791417381 -8.49561748097842,11.8954757888015 Q-8.29291726492743,11.9125926647188 -8.09024399409492,11.9191639457214 Q-7.78610008904026,11.9290252118723 -7.4833331334596,11.915111810162 Q-7.17318452623145,11.9008591908364 -6.86609005385436,11.8617329844013 Q-6.59503326929163,11.8271982575912 -6.32749985800465,11.7734249707618 Q-6.065591016902,11.7207822030116 -5.80803820752765,11.6498970887622 Q-5.55929013948285,11.5814352643096 -5.31546652781383,11.4961928265364 Q-5.10668790644988,11.4232023621669 -4.90208243255889,11.3381020157274 Q-4.65361227556304,11.2347572906909 -4.41212777878246,11.1139056578479 Q-4.19936350048537,11.0074271435513 -3.99268182769649,10.8876853593409 Q-3.75270580423463,10.7486543711102 -3.52182577913573,10.5922682144105 Q-3.32874675879168,10.4614864981576 -3.14265200973488,10.3189846901617 Q-2.96546888319985,10.183306945327 -2.79512566366148,10.0373935236474 Q-2.59954871236449,9.869865269557 -2.41370491741605,9.68946420864727 Q-2.19513433610818,9.47729481788262 -1.99121915187079,9.24849308724242 Q-1.80560573104341,9.04022673339448 -1.63321108031305,8.8193835024801 Q-1.48460042648279,8.62900835568098 -1.34656919353414,8.43025073001946 Q-1.22862003028138,8.26041021540489 -1.11890397474925,8.08517660112203 Q-0.95801857573265,7.82821758251459 -0.816175270753006,7.56186513162384 Q-0.660837400706088,7.27017267275816 -0.530605965747761,6.97155652900988 Q-0.428580116785493,6.73761481140916 -0.343519030901754,6.5029591230879 Q-0.261963346200934,6.27797368901832 -0.197516475528564,6.05656345647983 Q-0.136184858928778,5.84585582472599 -0.0920712402436369,5.64444995400555 Q-0.0534506179297929,5.46812299882186 -0.0298383755424187,5.30751615628668 Q-0.0115789781484796,5.18331854244193 -0.00400653952455051,5.08123174112462 Z\" fill=\"none\" id=\"05e1dfb34cca41a18abfb2ef81e5d929\" stroke=\"red\" stroke-width=\".5\" transform=\"scale(1.25 -1.25)\"></path></clipPath><svg height=\"100\" viewBox=\"-25 -25 50 50\" x=\"60\" y=\"0\"><g style=\"clip-path: url(#newid)\"><g><rect fill=\"lightskyblue\" height=\"14.6%\" stroke=\"lightskyblue\" width=\"50\" x=\"-25\" y=\"-31.5%\"></rect><rect fill=\"lightpink\" height=\"14.6%\" stroke=\"lightpink\" width=\"50\" x=\"-25\" y=\"-16.9%\"></rect><rect fill=\"white\" height=\"14.6%\" stroke=\"white\" width=\"50\" x=\"-25\" y=\"-2.3000000000000007%\"></rect><rect fill=\"lightpink\" height=\"14.6%\" stroke=\"lightpink\" width=\"50\" x=\"-25\" y=\"12.299999999999997%\"></rect><rect fill=\"lightskyblue\" height=\"14.6%\" stroke=\"lightskyblue\" width=\"50\" x=\"-25\" y=\"26.9%\"></rect></g></g></svg><svg height=\"100\" viewBox=\"-25 -25 50 50\" x=\"180\" y=\"0\"><g style=\"clip-path: url(#newid)\"><g><rect fill=\"purple\" height=\"73.0%\" stroke=\"purple\" width=\"50\" x=\"-25\" y=\"-31.5%\"></rect><g transform=\"scale(.04, .04) translate(-500 -150)\"><path d=\"M500 550L211.325 50h577.35z\" fill=\"black\"></path><path d=\"M479.667 132.374a162.687 162.687 0 0 1-108.732-62.373 162.687 162.687 0 0 0 0 198.075 162.687 162.687 0 0 1 108.732-62.373zm40.672 73.329a162.687 162.687 0 0 1 108.732 62.373 162.687 162.687 0 0 0 0-198.075 162.687 162.687 0 0 1-108.732 62.373zm-4.067-91.571a16.269 8.134 0 0 0-32.538 0v347.743a16.269 8.134 0 0 0 32.538 0z\" fill=\"white\"></path></g></g></g></svg><svg height=\"100\" viewBox=\"-25 -25 50 50\" x=\"345\" y=\"0\"><g style=\"clip-path: url(#newid)\"><g><rect fill=\"forestgreen\" height=\"24.333333333333332%\" stroke=\"forestgreen\" width=\"50\" x=\"-25\" y=\"-31.5%\"></rect><rect fill=\"white\" height=\"24.333333333333332%\" stroke=\"white\" width=\"50\" x=\"-25\" y=\"-7.166666666666668%\"></rect><rect fill=\"purple\" height=\"24.333333333333332%\" stroke=\"purple\" width=\"50\" x=\"-25\" y=\"17.166666666666664%\"></rect></g></g></svg><svg height=\"100\" viewBox=\"-25 -25 50 50\" x=\"465\" y=\"0\"><g style=\"clip-path: url(#newid)\"><g><rect fill=\"red\" height=\"9.125%\" stroke=\"red\" width=\"50\" x=\"-25\" y=\"-31.5%\"></rect><rect fill=\"orange\" height=\"9.125%\" stroke=\"orange\" width=\"50\" x=\"-25\" y=\"-22.375%\"></rect><rect fill=\"yellow\" height=\"9.125%\" stroke=\"yellow\" width=\"50\" x=\"-25\" y=\"-13.25%\"></rect><rect fill=\"green\" height=\"9.125%\" stroke=\"green\" width=\"50\" x=\"-25\" y=\"-4.125%\"></rect><rect fill=\"blue\" height=\"9.125%\" stroke=\"blue\" width=\"50\" x=\"-25\" y=\"5.0%\"></rect><rect fill=\"purple\" height=\"9.125%\" stroke=\"purple\" width=\"50\" x=\"-25\" y=\"14.125%\"></rect><rect fill=\"brown\" height=\"9.125%\" stroke=\"brown\" width=\"50\" x=\"-25\" y=\"23.25%\"></rect><rect fill=\"black\" height=\"9.125%\" stroke=\"black\" width=\"50\" x=\"-25\" y=\"32.375%\"></rect></g></g></svg><svg height=\"100\" viewBox=\"-25 -25 50 50\" x=\"0\" y=\"120\"><g style=\"clip-path: url(#newid)\"><g><rect fill=\"black\" height=\"10.428571428571429%\" stroke=\"black\" width=\"50\" x=\"-25\" y=\"-31.5%\"></rect><rect fill=\"lightgrey\" height=\"10.428571428571429%\" stroke=\"lightgrey\" width=\"50\" x=\"-25\" y=\"-21.07142857142857%\"></rect><rect fill=\"white\" height=\"10.428571428571429%\" stroke=\"white\" width=\"50\" x=\"-25\" y=\"-10.642857142857142%\"></rect><rect fill=\"chartreuse\" height=\"10.428571428571429%\" stroke=\"chartreuse\" width=\"50\" x=\"-25\" y=\"-0.2142857142857153%\"></rect><rect fill=\"white\" height=\"10.428571428571429%\" stroke=\"white\" width=\"50\" x=\"-25\" y=\"10.214285714285715%\"></rect><rect fill=\"lightgrey\" height=\"10.428571428571429%\" stroke=\"lightgrey\" width=\"50\" x=\"-25\" y=\"20.642857142857146%\"></rect><rect fill=\"black\" height=\"10.428571428571429%\" stroke=\"black\" width=\"50\" x=\"-25\" y=\"31.07142857142857%\"></rect></g></g></svg><svg height=\"100\" viewBox=\"-25 -25 50 50\" x=\"130\" y=\"120\"><g style=\"clip-path: url(#newid)\"><g><rect fill=\"black\" height=\"18.25%\" stroke=\"black\" width=\"50\" x=\"-25\" y=\"-31.5%\"></rect><rect fill=\"lightgrey\" height=\"18.25%\" stroke=\"lightgrey\" width=\"50\" x=\"-25\" y=\"-13.25%\"></rect><rect fill=\"white\" height=\"18.25%\" stroke=\"white\" width=\"50\" x=\"-25\" y=\"5.0%\"></rect><rect fill=\"purple\" height=\"18.25%\" stroke=\"purple\" width=\"50\" x=\"-25\" y=\"23.25%\"></rect></g></g></svg><svg height=\"100\" viewBox=\"-25 -25 50 50\" x=\"260\" y=\"120\"><g style=\"clip-path: url(#newid)\"><g><rect fill=\"deeppink\" height=\"14.6%\" stroke=\"deeppink\" width=\"50\" x=\"-25\" y=\"-31.5%\"></rect><rect fill=\"deeppink\" height=\"14.6%\" stroke=\"deeppink\" width=\"50\" x=\"-25\" y=\"-16.9%\"></rect><rect fill=\"mediumpurple\" height=\"14.6%\" stroke=\"mediumpurple\" width=\"50\" x=\"-25\" y=\"-2.3000000000000007%\"></rect><rect fill=\"blue\" height=\"14.6%\" stroke=\"blue\" width=\"50\" x=\"-25\" y=\"12.299999999999997%\"></rect><rect fill=\"blue\" height=\"14.6%\" stroke=\"blue\" width=\"50\" x=\"-25\" y=\"26.9%\"></rect></g></g></svg><svg height=\"100\" viewBox=\"-25 -25 50 50\" x=\"390\" y=\"120\"><g style=\"clip-path: url(#newid)\"><g><rect fill=\"#ffef00\" height=\"18.25%\" stroke=\"#ffef00\" width=\"50\" x=\"-25\" y=\"-31.5%\"></rect><rect fill=\"white\" height=\"18.25%\" stroke=\"white\" width=\"50\" x=\"-25\" y=\"-13.25%\"></rect><rect fill=\"#9C59D1\" height=\"18.25%\" stroke=\"#9C59D1\" width=\"50\" x=\"-25\" y=\"5.0%\"></rect><rect fill=\"black\" height=\"18.25%\" stroke=\"black\" width=\"50\" x=\"-25\" y=\"23.25%\"></rect></g></g></svg><svg height=\"100\" viewBox=\"-25 -25 50 50\" x=\"520\" y=\"120\"><g style=\"clip-path: url(#newid)\"><g><rect fill=\"#ff75a2\" height=\"14.6%\" stroke=\"#ff75a2\" width=\"50\" x=\"-25\" y=\"-31.5%\"></rect><rect fill=\"white\" height=\"14.6%\" stroke=\"white\" width=\"50\" x=\"-25\" y=\"-16.9%\"></rect><rect fill=\"#be18d6\" height=\"14.6%\" stroke=\"#be18d6\" width=\"50\" x=\"-25\" y=\"-2.3000000000000007%\"></rect><rect fill=\"black\" height=\"14.6%\" stroke=\"black\" width=\"50\" x=\"-25\" y=\"12.299999999999997%\"></rect><rect fill=\"mediumblue\" height=\"14.6%\" stroke=\"mediumblue\" width=\"50\" x=\"-25\" y=\"26.9%\"></rect></g></g></svg><svg height=\"100\" viewBox=\"-25 -25 50 50\" x=\"40\" y=\"240\"><g style=\"clip-path: url(#newid)\"><g><rect fill=\"deeppink\" height=\"24.333333333333332%\" stroke=\"deeppink\" width=\"50\" x=\"-25\" y=\"-31.5%\"></rect><rect fill=\"gold\" height=\"24.333333333333332%\" stroke=\"gold\" width=\"50\" x=\"-25\" y=\"-7.166666666666668%\"></rect><rect fill=\"deepskyblue\" height=\"24.333333333333332%\" stroke=\"deepskyblue\" width=\"50\" x=\"-25\" y=\"17.166666666666664%\"></rect></g></g></svg><svg height=\"100\" viewBox=\"-25 -25 50 50\" x=\"185\" y=\"240\"><g style=\"clip-path: url(#newid)\"><g><rect fill=\"#f61cb9\" height=\"24.333333333333332%\" stroke=\"#f61cb9\" width=\"50\" x=\"-25\" y=\"-31.5%\"></rect><rect fill=\"#07d569\" height=\"24.333333333333332%\" stroke=\"#07d569\" width=\"50\" x=\"-25\" y=\"-7.166666666666668%\"></rect><rect fill=\"dodgerblue\" height=\"24.333333333333332%\" stroke=\"dodgerblue\" width=\"50\" x=\"-25\" y=\"17.166666666666664%\"></rect></g></g></svg><svg height=\"100\" viewBox=\"-25 -25 50 50\" x=\"335\" y=\"240\"><g style=\"clip-path: url(#newid)\"><g><rect fill=\"#3da542\" height=\"14.6%\" stroke=\"#3da542\" width=\"50\" x=\"-25\" y=\"-31.5%\"></rect><rect fill=\"#a7d379\" height=\"14.6%\" stroke=\"#a7d379\" width=\"50\" x=\"-25\" y=\"-16.9%\"></rect><rect fill=\"white\" height=\"14.6%\" stroke=\"white\" width=\"50\" x=\"-25\" y=\"-2.3000000000000007%\"></rect><rect fill=\"lightgrey\" height=\"14.6%\" stroke=\"lightgrey\" width=\"50\" x=\"-25\" y=\"12.299999999999997%\"></rect><rect fill=\"black\" height=\"14.6%\" stroke=\"black\" width=\"50\" x=\"-25\" y=\"26.9%\"></rect></g></g></svg><svg height=\"100\" viewBox=\"-25 -25 50 50\" x=\"480\" y=\"240\"><g style=\"clip-path: url(#newid)\"><g><rect fill=\"#A60061\" height=\"10.428571428571429%\" stroke=\"#A60061\" width=\"50\" x=\"-25\" y=\"-31.5%\"></rect><rect fill=\"#B95393\" height=\"10.428571428571429%\" stroke=\"#B95393\" width=\"50\" x=\"-25\" y=\"-21.07142857142857%\"></rect><rect fill=\"#D260A7\" height=\"10.428571428571429%\" stroke=\"#D260A7\" width=\"50\" x=\"-25\" y=\"-10.642857142857142%\"></rect><rect fill=\"#EDEDEB\" height=\"10.428571428571429%\" stroke=\"#EDEDEB\" width=\"50\" x=\"-25\" y=\"-0.2142857142857153%\"></rect><rect fill=\"#E5ABD0\" height=\"10.428571428571429%\" stroke=\"#E5ABD0\" width=\"50\" x=\"-25\" y=\"10.214285714285715%\"></rect><rect fill=\"#C74D52\" height=\"10.428571428571429%\" stroke=\"#C74D52\" width=\"50\" x=\"-25\" y=\"20.642857142857146%\"></rect><rect fill=\"#8C1D00\" height=\"10.428571428571429%\" stroke=\"#8C1D00\" width=\"50\" x=\"-25\" y=\"31.07142857142857%\"></rect></g></g></svg><svg height=\"100\" viewBox=\"-25 -25 50 50\" x=\"170\" y=\"360\"><g style=\"clip-path: url(#newid)\"><g><rect fill=\"#623804\" height=\"10.428571428571429%\" stroke=\"#623804\" width=\"50\" x=\"-25\" y=\"-31.5%\"></rect><rect fill=\"chocolate\" height=\"10.428571428571429%\" stroke=\"chocolate\" width=\"50\" x=\"-25\" y=\"-21.07142857142857%\"></rect><rect fill=\"#fedd63\" height=\"10.428571428571429%\" stroke=\"#fedd63\" width=\"50\" x=\"-25\" y=\"-10.642857142857142%\"></rect><rect fill=\"moccasin\" height=\"10.428571428571429%\" stroke=\"moccasin\" width=\"50\" x=\"-25\" y=\"-0.2142857142857153%\"></rect><rect fill=\"white\" height=\"10.428571428571429%\" stroke=\"white\" width=\"50\" x=\"-25\" y=\"10.214285714285715%\"></rect><rect fill=\"dimgray\" height=\"10.428571428571429%\" stroke=\"dimgray\" width=\"50\" x=\"-25\" y=\"20.642857142857146%\"></rect><rect fill=\"black\" height=\"10.428571428571429%\" stroke=\"black\" width=\"50\" x=\"-25\" y=\"31.07142857142857%\"></rect><path d=\"M98.9 24.4c-5.7 0-11.5 1.3-16.3 4.4C61.2 42.6 91.1 48.3 96 51.1c4.7 2.7 22.4 22.9 29.7-8.4 2.2-9.7-12.2-18.3-26.8-18.3m45.4 11.2c-17.7 1.9-.8 43 23.6 44.4 16.5.9 28.9-39.3-23.6-44.4m-94.4 8.9C34.2 44 43.7 73.3 69 83.6c5.1 2.1 14.2-4.7 14.4-16 .1-4.2-7.1-22.2-33.5-23.1m61 17.7c-7.1-.1-14.6 3-22.8 11.5-28.9 30.3 13.8 35.5 10.6 51.9-9.7 48.5-.9 52.5 8.3 55.6 11.7 3.9 33.8-33.4 43.1-40.4 12.4-9.4 77.9-42.2 62.4-58.8-22.3-23.8-27 7.3-57.7-1-14.6-3.9-28.3-18.8-43.9-18.8M54.4 96.5c-2.8-.1-5.5.4-8.1 1.6-11.5 5.2 10.8 36.5 20.9 37.4 12.4 1.1 17.4-8.9 17.6-14.7.3-7.6-15.4-24-30.4-24.3m4 46.7c-4.5.1-8 1.2-9.6 3.3-4.1 6.2 21.6 30.4 28.7 32 6.5 1.5 12.6-13 11.4-18.7-2.2-10.4-19.2-16.7-30.5-16.6\" transform=\"scale(.08 .08) translate(-120,-80) \"></path></g></g></svg><svg height=\"100\" viewBox=\"-25 -25 50 50\" x=\"355\" y=\"360\"><g style=\"clip-path: url(#newid)\"><g><rect fill=\"gold\" height=\"73.0%\" stroke=\"gold\" width=\"50\" x=\"-25\" y=\"-31.5%\"></rect><circle cx=\"0\" cy=\"2\" fill=\"transparent\" r=\"5\" stroke=\"purple\" stroke-width=\"2.5\"></circle></g></g></svg><svg height=\"100\" viewBox=\"-25 -25 50 50\" x=\"260\" y=\"480\"><g style=\"clip-path: url(#newid)\"><g><rect fill=\"blue\" height=\"24.333333333333332%\" stroke=\"blue\" width=\"50\" x=\"-25\" y=\"-31.5%\"></rect><rect fill=\"red\" height=\"24.333333333333332%\" stroke=\"red\" width=\"50\" x=\"-25\" y=\"-7.166666666666668%\"></rect><rect fill=\"black\" height=\"24.333333333333332%\" stroke=\"black\" width=\"50\" x=\"-25\" y=\"17.166666666666664%\"></rect><text fill=\"yellow\" font-family=\"Minion Pro\" text-anchor=\"middle\" y=\"4.5\">π</text></g></g></svg></svg>"
      ]
     },
     "execution_count": 425,
     "metadata": {},
     "output_type": "execute_result"
    }
   ],
   "source": [
    "heart = Clip(gen_heart(), clipid=\"newid\")\n",
    "flag_list = [heart.clipper()]\n",
    "coord_list = []\n",
    "\n",
    "for idx, flag_def in enumerate(flag_defs):\n",
    "    x = f\"{heart_coords[idx]['x']}\"\n",
    "    y = f\"{heart_coords[idx]['y']}\"\n",
    "    flag_list.append(svg(\n",
    "        heart.clip(\n",
    "            Flag(**flag_def).flag(),\n",
    "        ), \n",
    "        x = x,\n",
    "        y = y,\n",
    "        height=\"100\",\n",
    "        viewBox=\"-25 -25 50 50\")\n",
    "    )\n",
    "#     coord_list.append(dict(x = f\"{120*(idx%3)}\",\n",
    "#         y = f\"{0+90*math.floor(idx/3)}\"))\n",
    "    \n",
    "svg(*flag_list, width=f\"{90*4}\", viewBox=\"250 0 700 700\")\n"
   ]
  },
  {
   "cell_type": "code",
   "execution_count": 421,
   "metadata": {},
   "outputs": [
    {
     "data": {
      "application/vdom.v1+json": {
       "attributes": {
        "viewBox": "-25 -25 50 50"
       },
       "children": [
        {
         "attributes": {},
         "children": [
          {
           "attributes": {
            "fill": "lightskyblue",
            "height": "14.6%",
            "stroke": "lightskyblue",
            "width": "50",
            "x": "-25",
            "y": "-31.5%"
           },
           "children": [],
           "tagName": "rect"
          },
          {
           "attributes": {
            "fill": "lightpink",
            "height": "14.6%",
            "stroke": "lightpink",
            "width": "50",
            "x": "-25",
            "y": "-16.9%"
           },
           "children": [],
           "tagName": "rect"
          },
          {
           "attributes": {
            "fill": "white",
            "height": "14.6%",
            "stroke": "white",
            "width": "50",
            "x": "-25",
            "y": "-2.3000000000000007%"
           },
           "children": [],
           "tagName": "rect"
          },
          {
           "attributes": {
            "fill": "lightpink",
            "height": "14.6%",
            "stroke": "lightpink",
            "width": "50",
            "x": "-25",
            "y": "12.299999999999997%"
           },
           "children": [],
           "tagName": "rect"
          },
          {
           "attributes": {
            "fill": "lightskyblue",
            "height": "14.6%",
            "stroke": "lightskyblue",
            "width": "50",
            "x": "-25",
            "y": "26.9%"
           },
           "children": [],
           "tagName": "rect"
          }
         ],
         "tagName": "g"
        },
        {
         "attributes": {
          "d": "M0.0,5.0 Q2.26480878769362e-09,5.01935203545116 0.00240468499265089,5.05784209373124 Q0.00617678614768245,5.11821945317385 0.0144892681784808,5.19071052417724 Q0.0249796452381706,5.28219447150715 0.0416669391001586,5.38322902221801 Q0.0625689845764014,5.50978212250472 0.0921242540272451,5.64469196933818 Q0.129325564905271,5.81450341906648 0.178888071354544,5.99135494886849 Q0.227032997926876,6.16314819595208 0.285852572783466,6.33796304924934 Q0.345659522697073,6.51571243286517 0.415701700411068,6.69417844133358 Q0.487743067528425,6.87773834271958 0.569888188951648,7.06019887319993 Q0.692043825721294,7.33153065651206 0.834806300015498,7.59665683949396 Q0.918421740467044,7.75194024064588 1.00862101667763,7.90415568501767 Q1.12167926629051,8.09494670272544 1.24449884261148,8.27994312284276 Q1.44189780344349,8.57727439675439 1.66250874377508,8.85670281234556 Q1.80054060640138,9.03153559541965 1.94694688614682,9.19842404729501 Q2.08999423977703,9.36148366081515 2.24054566891579,9.51639833059041 Q2.48490085256662,9.76783534981824 2.74741879975013,9.99621086079807 Q3.01662696842382,10.2304064795754 3.30291999709097,10.4385942042024 Q3.46972317871875,10.5598908176942 3.64179542494331,10.6719572214367 Q3.79857226878001,10.7740621074039 3.95941554482475,10.8683033405894 Q4.13334243392154,10.9702105195257 4.31166833497306,11.0627149706127 Q4.47604708828145,11.1479845038409 4.64386151028959,11.2251070150907 Q4.80544594869858,11.299366411392 4.96995032351617,11.3659501831024 Q5.16725965014621,11.4458118838945 5.36835311845226,11.5144650549576 Q5.56561833961004,11.5818112650908 5.7660857806164,11.6382214352365 Q5.93594304380552,11.6860181101922 6.10780540394526,11.7258795037075 Q6.3802811445957,11.7890769525997 6.65689783599178,11.8321328272072 Q6.88756600251257,11.8680367330906 7.12039035026157,11.8898178268749 Q7.33575429714658,11.9099654719568 7.5524023719199,11.9179755377665 Q7.78903411552322,11.9267244539104 8.02650188595541,11.9209696911957 Q8.31148267851657,11.9140635041521 8.59647282523938,11.8863060110558 Q8.84172783653293,11.8624186438571 9.08605624824551,11.8231757557194 Q9.29602775102361,11.7894511138005 9.5047004646898,11.7444820539865 Q9.73546771599974,11.6947516117789 9.96389320433066,11.631434414029 Q10.2137994798527,11.5621629628359 10.4598847954114,11.4769149350853 Q10.7426952738113,11.3789447028671 11.0189146985215,11.2604175545564 Q11.2783606307036,11.14908799649 11.5305552606758,11.0202359184706 Q11.8305962880828,10.8669380077389 12.1182124982183,10.6899608334626 Q12.3086605446971,10.5727735681955 12.4928101128895,10.4457122376404 Q12.7138340887796,10.2932079405257 12.9247407405014,10.1272078034175 Q13.1164494580624,9.97631795172166 13.2989309836935,9.81495653041487 Q13.4993501715355,9.63773352169933 13.6876496499027,9.44875874377583 Q13.8259025844505,9.31000999189398 13.9571663998683,9.16537567684822 Q14.0895559130142,9.01950100078341 14.2144709921875,8.86804150073268 Q14.3647042289743,8.68588374135466 14.50359102542,8.496302620215 Q14.6242491373507,8.33160373796121 14.7359701511584,8.16180777241553 Q14.8556947497797,7.9798477889744 14.9647911861361,7.79259020255814 Q15.0815966885041,7.5921004598673 15.1858302302757,7.38620717426887 Q15.2838990649354,7.19249108020058 15.3705462405702,6.99456656547992 Q15.4710479022511,6.76499482847765 15.555848418953,6.53053381443338 Q15.6293410875024,6.32733734508333 15.6908398354807,6.12101489646327 Q15.7582996840502,5.89469352248478 15.811151998362,5.66520400901477 Q15.858001700426,5.46177837907041 15.8932743283624,5.25628456535619 Q15.9234569772515,5.08044431780161 15.9451194504346,4.90333416558016 Q15.9730560934491,4.67492704627213 15.9867773968648,4.44479362169134 Q16.0034165941822,4.16572133934909 15.9991176647554,3.88472444785707 Q15.9950908430473,3.62151371089842 15.9726972179107,3.35708697651958 Q15.9526619394994,3.12050789606779 15.9179459679384,2.88322942110747 Q15.882312030686,2.63967678789829 15.83124032874,2.39559405324708 Q15.7875158480249,2.1866252815493 15.7324953373768,1.97736550244011 Q15.6648912559291,1.72024656653811 15.5802540161198,1.46276838245011 Q15.4968741501039,1.20911530326591 15.3969639315714,0.955118442554341 Q15.3045821236361,0.720260691795003 15.1980404233408,0.485042552463534 Q15.0759331774567,0.215459477516022 14.935136668034,-0.0547900505028633 Q14.7784251600096,-0.355587358989756 14.5983261379963,-0.657651595836769 Q14.4326365303214,-0.935548190367364 14.2468180712942,-1.21507534194023 Q13.9287667177733,-1.69352075241799 13.5495204141351,-2.17993676735823 Q13.228806301099,-2.59128021171493 12.8611063340419,-3.0124517446707 Q12.1591087582907,-3.81653502342836 11.2483797084418,-4.69658759121086 Q10.4733210891135,-5.44553957449827 9.42454171069957,-6.36494199823616 Q8.84072932123853,-6.87673555265406 7.788610883906,-7.77268471082305 Q6.43199730758967,-8.92793182800395 5.86781215340663,-9.42143310902599 Q4.99911290579133,-10.1812974697638 4.33114177564245,-10.8099404645036 Q3.70609091742599,-11.3981902041088 3.18523060681885,-11.9373159451196 Q2.65398052055043,-12.4871958084704 2.2119638126538,-13.0054355175612 Q1.84652002656313,-13.4338977860892 1.53818480616621,-13.8451114872961 Q1.35658899707246,-14.0872981719213 1.19468144267213,-14.3236430665681 Q1.01229440141544,-14.5898829354267 0.855250034700979,-14.8481696259238 Q0.710327112506176,-15.0865204992088 0.587635439099838,-15.317016364333 Q0.482522452421447,-15.5144878644567 0.394395445017321,-15.7049318068687 Q0.31840843950407,-15.869141001397 0.255658210448299,-16.0268054813404 Q0.189432844334108,-16.1932014939857 0.138853346014398,-16.3499815211115 Q0.0926197731189966,-16.4932905900716 0.0605744460923479,-16.625013082467 Q0.0353801389730772,-16.7285744199802 0.0199590858880895,-16.820733667613 Q0.00867700999654953,-16.8881575731122 0.00346592649802561,-16.9441272743669 Q0.000399281055259889,-16.9770646144295 2.49345880547808e-05,-16.9979165809901 Q0.000120167169769384,-16.9926119052863 -0.00120639179482519,-16.9723446290242 Q-0.00426775812446953,-16.9255728240776 -0.0129503651544767,-16.86557788734 Q-0.0227183511665687,-16.7980832165775 -0.0385454062196693,-16.7222898015959 Q-0.06004549711036,-16.6193290609179 -0.0915669504606278,-16.5067117118991 Q-0.132286979305915,-16.3612304217578 -0.188273154562518,-16.204902779091 Q-0.258831712369531,-16.0078853375281 -0.351810097949509,-15.7987840090959 Q-0.440000005976105,-15.6004516030464 -0.547194072845051,-15.3939437422104 Q-0.651340977758142,-15.193306195987 -0.772699085783482,-14.9863772240217 Q-0.910246809839973,-14.7518431694101 -1.0692413762151,-14.5103646821128 Q-1.22417112561029,-14.2750597759499 -1.39908931791318,-14.0337431312646 Q-1.76797104341055,-13.5248349433239 -2.22583196061482,-12.9891937151164 Q-2.65281454964278,-12.4896763511826 -3.16250584273345,-11.960865339223 Q-3.75455354091074,-11.3466085397729 -4.48484292020919,-10.6660006846297 Q-5.15417223354364,-10.0422057873649 -6.03462845747207,-9.27588577364818 Q-6.5518613566613,-8.82570334364281 -7.72688839874177,-7.82524124839609 Q-9.00011940672614,-6.74116461325269 -9.66659027493077,-6.1518575057301 Q-10.6800142168527,-5.25576742827941 -11.4416925502921,-4.5083632999628 Q-11.9256928826451,-4.03343335824615 -12.3453337586718,-3.58350021932445 Q-12.8421226311087,-3.05085006647637 -13.2630306985554,-2.53794032909005 Q-13.5888635034756,-2.14088731127246 -13.8734126595931,-1.7506997108797 Q-14.1158142868982,-1.41830684568896 -14.3296155195759,-1.08906603538983 Q-14.6222670714185,-0.638400560466284 -14.8629035091692,-0.191196762642277 Q-14.9849831812171,0.035678657752151 -15.093879517273,0.262018849814471 Q-15.1989501677438,0.48040738398381 -15.2918143665365,0.698434979814885 Q-15.4099383650006,0.975767813457227 -15.5083731080758,1.25265889367945 Q-15.596037025423,1.49925228146578 -15.6680979222918,1.74552862415746 Q-15.7452025309944,2.00904242791343 -15.8044279558644,2.27213565719569 Q-15.8673099421169,2.55147218982739 -15.9099982659839,2.83015436556823 Q-15.9467996846554,3.07040505935725 -15.9685614040832,3.30996314026493 Q-15.9881495049069,3.52559352082962 -15.9955342067788,3.74046434121497 Q-16.0051232678424,4.01947484877545 -15.9941254637899,4.2967472393645 Q-15.9844330208493,4.54110936947305 -15.958768035937,4.78366431573383 Q-15.9275621653641,5.07858513044192 -15.8728386332033,5.37000215623899 Q-15.8278093231867,5.60979493058336 -15.7669750538715,5.84656658453498 Q-15.721016172269,6.02544208568407 -15.6661182996239,6.20226632422338 Q-15.6208315317082,6.34813351117917 -15.5695193619767,6.49241673134215 Q-15.4613890101118,6.79646537021361 -15.3269801205853,7.09222815454625 Q-15.2212449367798,7.32489529787583 -15.0996951958763,7.55142914467109 Q-14.9588348202878,7.81395247467492 -14.7974725228564,8.0668861942751 Q-14.6745800019696,8.25951894005113 -14.5402766384116,8.44582208248948 Q-14.3933701098356,8.64960810238759 -14.2334198263091,8.84498132868387 Q-14.0945594532161,9.01459402644063 -13.9463689488664,9.17725000648766 Q-13.7735280755873,9.36696257787514 -13.588753931665,9.54638613301087 Q-13.4189681105967,9.71125538896335 -13.23982095404,9.86674014639278 Q-13.0625216805617,10.0206210957701 -12.8767644199624,10.1646925661538 Q-12.6944389535778,10.3061023713246 -12.5046728111778,10.4375123135825 Q-12.3142699757146,10.5693631553476 -12.1171076375409,10.6906405650386 Q-11.9213331232265,10.811064304174 -11.7196291899761,10.9206103014377 Q-11.509884893371,11.0345230436026 -11.2945462865961,11.1362305693748 Q-11.0736106685721,11.2405816441808 -10.8476757705343,11.3316650627413 Q-10.6451233054253,11.4133220848312 -10.4392342246826,11.4840381672923 Q-10.2480502354789,11.5497035376801 -10.0545178054937,11.605752174849 Q-9.87842747053587,11.6567494330024 -9.70078839955957,11.699669661687 Q-9.51646003889087,11.7442061217657 -9.33086927650686,11.7799481442673 Q-9.13248730736292,11.8181535630821 -8.933139388093,11.846219406851 Q-8.71465712197788,11.8769791417381 -8.49561748097842,11.8954757888015 Q-8.29291726492743,11.9125926647188 -8.09024399409492,11.9191639457214 Q-7.78610008904026,11.9290252118723 -7.4833331334596,11.915111810162 Q-7.17318452623145,11.9008591908364 -6.86609005385436,11.8617329844013 Q-6.59503326929163,11.8271982575912 -6.32749985800465,11.7734249707618 Q-6.065591016902,11.7207822030116 -5.80803820752765,11.6498970887622 Q-5.55929013948285,11.5814352643096 -5.31546652781383,11.4961928265364 Q-5.10668790644988,11.4232023621669 -4.90208243255889,11.3381020157274 Q-4.65361227556304,11.2347572906909 -4.41212777878246,11.1139056578479 Q-4.19936350048537,11.0074271435513 -3.99268182769649,10.8876853593409 Q-3.75270580423463,10.7486543711102 -3.52182577913573,10.5922682144105 Q-3.32874675879168,10.4614864981576 -3.14265200973488,10.3189846901617 Q-2.96546888319985,10.183306945327 -2.79512566366148,10.0373935236474 Q-2.59954871236449,9.869865269557 -2.41370491741605,9.68946420864727 Q-2.19513433610818,9.47729481788262 -1.99121915187079,9.24849308724242 Q-1.80560573104341,9.04022673339448 -1.63321108031305,8.8193835024801 Q-1.48460042648279,8.62900835568098 -1.34656919353414,8.43025073001946 Q-1.22862003028138,8.26041021540489 -1.11890397474925,8.08517660112203 Q-0.95801857573265,7.82821758251459 -0.816175270753006,7.56186513162384 Q-0.660837400706088,7.27017267275816 -0.530605965747761,6.97155652900988 Q-0.428580116785493,6.73761481140916 -0.343519030901754,6.5029591230879 Q-0.261963346200934,6.27797368901832 -0.197516475528564,6.05656345647983 Q-0.136184858928778,5.84585582472599 -0.0920712402436369,5.64444995400555 Q-0.0534506179297929,5.46812299882186 -0.0298383755424187,5.30751615628668 Q-0.0115789781484796,5.18331854244193 -0.00400653952455051,5.08123174112462 Z",
          "fill": "none",
          "id": "66948955e7ee4b1f99a7d9dee2c79e0a",
          "stroke": "red",
          "stroke-width": ".5",
          "transform": "scale(1.25 -1.25)"
         },
         "children": [],
         "tagName": "path"
        }
       ],
       "tagName": "svg"
      },
      "text/html": [
       "<svg viewBox=\"-25 -25 50 50\"><g><rect fill=\"lightskyblue\" height=\"14.6%\" stroke=\"lightskyblue\" width=\"50\" x=\"-25\" y=\"-31.5%\"></rect><rect fill=\"lightpink\" height=\"14.6%\" stroke=\"lightpink\" width=\"50\" x=\"-25\" y=\"-16.9%\"></rect><rect fill=\"white\" height=\"14.6%\" stroke=\"white\" width=\"50\" x=\"-25\" y=\"-2.3000000000000007%\"></rect><rect fill=\"lightpink\" height=\"14.6%\" stroke=\"lightpink\" width=\"50\" x=\"-25\" y=\"12.299999999999997%\"></rect><rect fill=\"lightskyblue\" height=\"14.6%\" stroke=\"lightskyblue\" width=\"50\" x=\"-25\" y=\"26.9%\"></rect></g><path d=\"M0.0,5.0 Q2.26480878769362e-09,5.01935203545116 0.00240468499265089,5.05784209373124 Q0.00617678614768245,5.11821945317385 0.0144892681784808,5.19071052417724 Q0.0249796452381706,5.28219447150715 0.0416669391001586,5.38322902221801 Q0.0625689845764014,5.50978212250472 0.0921242540272451,5.64469196933818 Q0.129325564905271,5.81450341906648 0.178888071354544,5.99135494886849 Q0.227032997926876,6.16314819595208 0.285852572783466,6.33796304924934 Q0.345659522697073,6.51571243286517 0.415701700411068,6.69417844133358 Q0.487743067528425,6.87773834271958 0.569888188951648,7.06019887319993 Q0.692043825721294,7.33153065651206 0.834806300015498,7.59665683949396 Q0.918421740467044,7.75194024064588 1.00862101667763,7.90415568501767 Q1.12167926629051,8.09494670272544 1.24449884261148,8.27994312284276 Q1.44189780344349,8.57727439675439 1.66250874377508,8.85670281234556 Q1.80054060640138,9.03153559541965 1.94694688614682,9.19842404729501 Q2.08999423977703,9.36148366081515 2.24054566891579,9.51639833059041 Q2.48490085256662,9.76783534981824 2.74741879975013,9.99621086079807 Q3.01662696842382,10.2304064795754 3.30291999709097,10.4385942042024 Q3.46972317871875,10.5598908176942 3.64179542494331,10.6719572214367 Q3.79857226878001,10.7740621074039 3.95941554482475,10.8683033405894 Q4.13334243392154,10.9702105195257 4.31166833497306,11.0627149706127 Q4.47604708828145,11.1479845038409 4.64386151028959,11.2251070150907 Q4.80544594869858,11.299366411392 4.96995032351617,11.3659501831024 Q5.16725965014621,11.4458118838945 5.36835311845226,11.5144650549576 Q5.56561833961004,11.5818112650908 5.7660857806164,11.6382214352365 Q5.93594304380552,11.6860181101922 6.10780540394526,11.7258795037075 Q6.3802811445957,11.7890769525997 6.65689783599178,11.8321328272072 Q6.88756600251257,11.8680367330906 7.12039035026157,11.8898178268749 Q7.33575429714658,11.9099654719568 7.5524023719199,11.9179755377665 Q7.78903411552322,11.9267244539104 8.02650188595541,11.9209696911957 Q8.31148267851657,11.9140635041521 8.59647282523938,11.8863060110558 Q8.84172783653293,11.8624186438571 9.08605624824551,11.8231757557194 Q9.29602775102361,11.7894511138005 9.5047004646898,11.7444820539865 Q9.73546771599974,11.6947516117789 9.96389320433066,11.631434414029 Q10.2137994798527,11.5621629628359 10.4598847954114,11.4769149350853 Q10.7426952738113,11.3789447028671 11.0189146985215,11.2604175545564 Q11.2783606307036,11.14908799649 11.5305552606758,11.0202359184706 Q11.8305962880828,10.8669380077389 12.1182124982183,10.6899608334626 Q12.3086605446971,10.5727735681955 12.4928101128895,10.4457122376404 Q12.7138340887796,10.2932079405257 12.9247407405014,10.1272078034175 Q13.1164494580624,9.97631795172166 13.2989309836935,9.81495653041487 Q13.4993501715355,9.63773352169933 13.6876496499027,9.44875874377583 Q13.8259025844505,9.31000999189398 13.9571663998683,9.16537567684822 Q14.0895559130142,9.01950100078341 14.2144709921875,8.86804150073268 Q14.3647042289743,8.68588374135466 14.50359102542,8.496302620215 Q14.6242491373507,8.33160373796121 14.7359701511584,8.16180777241553 Q14.8556947497797,7.9798477889744 14.9647911861361,7.79259020255814 Q15.0815966885041,7.5921004598673 15.1858302302757,7.38620717426887 Q15.2838990649354,7.19249108020058 15.3705462405702,6.99456656547992 Q15.4710479022511,6.76499482847765 15.555848418953,6.53053381443338 Q15.6293410875024,6.32733734508333 15.6908398354807,6.12101489646327 Q15.7582996840502,5.89469352248478 15.811151998362,5.66520400901477 Q15.858001700426,5.46177837907041 15.8932743283624,5.25628456535619 Q15.9234569772515,5.08044431780161 15.9451194504346,4.90333416558016 Q15.9730560934491,4.67492704627213 15.9867773968648,4.44479362169134 Q16.0034165941822,4.16572133934909 15.9991176647554,3.88472444785707 Q15.9950908430473,3.62151371089842 15.9726972179107,3.35708697651958 Q15.9526619394994,3.12050789606779 15.9179459679384,2.88322942110747 Q15.882312030686,2.63967678789829 15.83124032874,2.39559405324708 Q15.7875158480249,2.1866252815493 15.7324953373768,1.97736550244011 Q15.6648912559291,1.72024656653811 15.5802540161198,1.46276838245011 Q15.4968741501039,1.20911530326591 15.3969639315714,0.955118442554341 Q15.3045821236361,0.720260691795003 15.1980404233408,0.485042552463534 Q15.0759331774567,0.215459477516022 14.935136668034,-0.0547900505028633 Q14.7784251600096,-0.355587358989756 14.5983261379963,-0.657651595836769 Q14.4326365303214,-0.935548190367364 14.2468180712942,-1.21507534194023 Q13.9287667177733,-1.69352075241799 13.5495204141351,-2.17993676735823 Q13.228806301099,-2.59128021171493 12.8611063340419,-3.0124517446707 Q12.1591087582907,-3.81653502342836 11.2483797084418,-4.69658759121086 Q10.4733210891135,-5.44553957449827 9.42454171069957,-6.36494199823616 Q8.84072932123853,-6.87673555265406 7.788610883906,-7.77268471082305 Q6.43199730758967,-8.92793182800395 5.86781215340663,-9.42143310902599 Q4.99911290579133,-10.1812974697638 4.33114177564245,-10.8099404645036 Q3.70609091742599,-11.3981902041088 3.18523060681885,-11.9373159451196 Q2.65398052055043,-12.4871958084704 2.2119638126538,-13.0054355175612 Q1.84652002656313,-13.4338977860892 1.53818480616621,-13.8451114872961 Q1.35658899707246,-14.0872981719213 1.19468144267213,-14.3236430665681 Q1.01229440141544,-14.5898829354267 0.855250034700979,-14.8481696259238 Q0.710327112506176,-15.0865204992088 0.587635439099838,-15.317016364333 Q0.482522452421447,-15.5144878644567 0.394395445017321,-15.7049318068687 Q0.31840843950407,-15.869141001397 0.255658210448299,-16.0268054813404 Q0.189432844334108,-16.1932014939857 0.138853346014398,-16.3499815211115 Q0.0926197731189966,-16.4932905900716 0.0605744460923479,-16.625013082467 Q0.0353801389730772,-16.7285744199802 0.0199590858880895,-16.820733667613 Q0.00867700999654953,-16.8881575731122 0.00346592649802561,-16.9441272743669 Q0.000399281055259889,-16.9770646144295 2.49345880547808e-05,-16.9979165809901 Q0.000120167169769384,-16.9926119052863 -0.00120639179482519,-16.9723446290242 Q-0.00426775812446953,-16.9255728240776 -0.0129503651544767,-16.86557788734 Q-0.0227183511665687,-16.7980832165775 -0.0385454062196693,-16.7222898015959 Q-0.06004549711036,-16.6193290609179 -0.0915669504606278,-16.5067117118991 Q-0.132286979305915,-16.3612304217578 -0.188273154562518,-16.204902779091 Q-0.258831712369531,-16.0078853375281 -0.351810097949509,-15.7987840090959 Q-0.440000005976105,-15.6004516030464 -0.547194072845051,-15.3939437422104 Q-0.651340977758142,-15.193306195987 -0.772699085783482,-14.9863772240217 Q-0.910246809839973,-14.7518431694101 -1.0692413762151,-14.5103646821128 Q-1.22417112561029,-14.2750597759499 -1.39908931791318,-14.0337431312646 Q-1.76797104341055,-13.5248349433239 -2.22583196061482,-12.9891937151164 Q-2.65281454964278,-12.4896763511826 -3.16250584273345,-11.960865339223 Q-3.75455354091074,-11.3466085397729 -4.48484292020919,-10.6660006846297 Q-5.15417223354364,-10.0422057873649 -6.03462845747207,-9.27588577364818 Q-6.5518613566613,-8.82570334364281 -7.72688839874177,-7.82524124839609 Q-9.00011940672614,-6.74116461325269 -9.66659027493077,-6.1518575057301 Q-10.6800142168527,-5.25576742827941 -11.4416925502921,-4.5083632999628 Q-11.9256928826451,-4.03343335824615 -12.3453337586718,-3.58350021932445 Q-12.8421226311087,-3.05085006647637 -13.2630306985554,-2.53794032909005 Q-13.5888635034756,-2.14088731127246 -13.8734126595931,-1.7506997108797 Q-14.1158142868982,-1.41830684568896 -14.3296155195759,-1.08906603538983 Q-14.6222670714185,-0.638400560466284 -14.8629035091692,-0.191196762642277 Q-14.9849831812171,0.035678657752151 -15.093879517273,0.262018849814471 Q-15.1989501677438,0.48040738398381 -15.2918143665365,0.698434979814885 Q-15.4099383650006,0.975767813457227 -15.5083731080758,1.25265889367945 Q-15.596037025423,1.49925228146578 -15.6680979222918,1.74552862415746 Q-15.7452025309944,2.00904242791343 -15.8044279558644,2.27213565719569 Q-15.8673099421169,2.55147218982739 -15.9099982659839,2.83015436556823 Q-15.9467996846554,3.07040505935725 -15.9685614040832,3.30996314026493 Q-15.9881495049069,3.52559352082962 -15.9955342067788,3.74046434121497 Q-16.0051232678424,4.01947484877545 -15.9941254637899,4.2967472393645 Q-15.9844330208493,4.54110936947305 -15.958768035937,4.78366431573383 Q-15.9275621653641,5.07858513044192 -15.8728386332033,5.37000215623899 Q-15.8278093231867,5.60979493058336 -15.7669750538715,5.84656658453498 Q-15.721016172269,6.02544208568407 -15.6661182996239,6.20226632422338 Q-15.6208315317082,6.34813351117917 -15.5695193619767,6.49241673134215 Q-15.4613890101118,6.79646537021361 -15.3269801205853,7.09222815454625 Q-15.2212449367798,7.32489529787583 -15.0996951958763,7.55142914467109 Q-14.9588348202878,7.81395247467492 -14.7974725228564,8.0668861942751 Q-14.6745800019696,8.25951894005113 -14.5402766384116,8.44582208248948 Q-14.3933701098356,8.64960810238759 -14.2334198263091,8.84498132868387 Q-14.0945594532161,9.01459402644063 -13.9463689488664,9.17725000648766 Q-13.7735280755873,9.36696257787514 -13.588753931665,9.54638613301087 Q-13.4189681105967,9.71125538896335 -13.23982095404,9.86674014639278 Q-13.0625216805617,10.0206210957701 -12.8767644199624,10.1646925661538 Q-12.6944389535778,10.3061023713246 -12.5046728111778,10.4375123135825 Q-12.3142699757146,10.5693631553476 -12.1171076375409,10.6906405650386 Q-11.9213331232265,10.811064304174 -11.7196291899761,10.9206103014377 Q-11.509884893371,11.0345230436026 -11.2945462865961,11.1362305693748 Q-11.0736106685721,11.2405816441808 -10.8476757705343,11.3316650627413 Q-10.6451233054253,11.4133220848312 -10.4392342246826,11.4840381672923 Q-10.2480502354789,11.5497035376801 -10.0545178054937,11.605752174849 Q-9.87842747053587,11.6567494330024 -9.70078839955957,11.699669661687 Q-9.51646003889087,11.7442061217657 -9.33086927650686,11.7799481442673 Q-9.13248730736292,11.8181535630821 -8.933139388093,11.846219406851 Q-8.71465712197788,11.8769791417381 -8.49561748097842,11.8954757888015 Q-8.29291726492743,11.9125926647188 -8.09024399409492,11.9191639457214 Q-7.78610008904026,11.9290252118723 -7.4833331334596,11.915111810162 Q-7.17318452623145,11.9008591908364 -6.86609005385436,11.8617329844013 Q-6.59503326929163,11.8271982575912 -6.32749985800465,11.7734249707618 Q-6.065591016902,11.7207822030116 -5.80803820752765,11.6498970887622 Q-5.55929013948285,11.5814352643096 -5.31546652781383,11.4961928265364 Q-5.10668790644988,11.4232023621669 -4.90208243255889,11.3381020157274 Q-4.65361227556304,11.2347572906909 -4.41212777878246,11.1139056578479 Q-4.19936350048537,11.0074271435513 -3.99268182769649,10.8876853593409 Q-3.75270580423463,10.7486543711102 -3.52182577913573,10.5922682144105 Q-3.32874675879168,10.4614864981576 -3.14265200973488,10.3189846901617 Q-2.96546888319985,10.183306945327 -2.79512566366148,10.0373935236474 Q-2.59954871236449,9.869865269557 -2.41370491741605,9.68946420864727 Q-2.19513433610818,9.47729481788262 -1.99121915187079,9.24849308724242 Q-1.80560573104341,9.04022673339448 -1.63321108031305,8.8193835024801 Q-1.48460042648279,8.62900835568098 -1.34656919353414,8.43025073001946 Q-1.22862003028138,8.26041021540489 -1.11890397474925,8.08517660112203 Q-0.95801857573265,7.82821758251459 -0.816175270753006,7.56186513162384 Q-0.660837400706088,7.27017267275816 -0.530605965747761,6.97155652900988 Q-0.428580116785493,6.73761481140916 -0.343519030901754,6.5029591230879 Q-0.261963346200934,6.27797368901832 -0.197516475528564,6.05656345647983 Q-0.136184858928778,5.84585582472599 -0.0920712402436369,5.64444995400555 Q-0.0534506179297929,5.46812299882186 -0.0298383755424187,5.30751615628668 Q-0.0115789781484796,5.18331854244193 -0.00400653952455051,5.08123174112462 Z\" fill=\"none\" id=\"66948955e7ee4b1f99a7d9dee2c79e0a\" stroke=\"red\" stroke-width=\".5\" transform=\"scale(1.25 -1.25)\"></path></svg>"
      ],
      "text/plain": [
       "<svg viewBox=\"-25 -25 50 50\"><g><rect fill=\"lightskyblue\" height=\"14.6%\" stroke=\"lightskyblue\" width=\"50\" x=\"-25\" y=\"-31.5%\"></rect><rect fill=\"lightpink\" height=\"14.6%\" stroke=\"lightpink\" width=\"50\" x=\"-25\" y=\"-16.9%\"></rect><rect fill=\"white\" height=\"14.6%\" stroke=\"white\" width=\"50\" x=\"-25\" y=\"-2.3000000000000007%\"></rect><rect fill=\"lightpink\" height=\"14.6%\" stroke=\"lightpink\" width=\"50\" x=\"-25\" y=\"12.299999999999997%\"></rect><rect fill=\"lightskyblue\" height=\"14.6%\" stroke=\"lightskyblue\" width=\"50\" x=\"-25\" y=\"26.9%\"></rect></g><path d=\"M0.0,5.0 Q2.26480878769362e-09,5.01935203545116 0.00240468499265089,5.05784209373124 Q0.00617678614768245,5.11821945317385 0.0144892681784808,5.19071052417724 Q0.0249796452381706,5.28219447150715 0.0416669391001586,5.38322902221801 Q0.0625689845764014,5.50978212250472 0.0921242540272451,5.64469196933818 Q0.129325564905271,5.81450341906648 0.178888071354544,5.99135494886849 Q0.227032997926876,6.16314819595208 0.285852572783466,6.33796304924934 Q0.345659522697073,6.51571243286517 0.415701700411068,6.69417844133358 Q0.487743067528425,6.87773834271958 0.569888188951648,7.06019887319993 Q0.692043825721294,7.33153065651206 0.834806300015498,7.59665683949396 Q0.918421740467044,7.75194024064588 1.00862101667763,7.90415568501767 Q1.12167926629051,8.09494670272544 1.24449884261148,8.27994312284276 Q1.44189780344349,8.57727439675439 1.66250874377508,8.85670281234556 Q1.80054060640138,9.03153559541965 1.94694688614682,9.19842404729501 Q2.08999423977703,9.36148366081515 2.24054566891579,9.51639833059041 Q2.48490085256662,9.76783534981824 2.74741879975013,9.99621086079807 Q3.01662696842382,10.2304064795754 3.30291999709097,10.4385942042024 Q3.46972317871875,10.5598908176942 3.64179542494331,10.6719572214367 Q3.79857226878001,10.7740621074039 3.95941554482475,10.8683033405894 Q4.13334243392154,10.9702105195257 4.31166833497306,11.0627149706127 Q4.47604708828145,11.1479845038409 4.64386151028959,11.2251070150907 Q4.80544594869858,11.299366411392 4.96995032351617,11.3659501831024 Q5.16725965014621,11.4458118838945 5.36835311845226,11.5144650549576 Q5.56561833961004,11.5818112650908 5.7660857806164,11.6382214352365 Q5.93594304380552,11.6860181101922 6.10780540394526,11.7258795037075 Q6.3802811445957,11.7890769525997 6.65689783599178,11.8321328272072 Q6.88756600251257,11.8680367330906 7.12039035026157,11.8898178268749 Q7.33575429714658,11.9099654719568 7.5524023719199,11.9179755377665 Q7.78903411552322,11.9267244539104 8.02650188595541,11.9209696911957 Q8.31148267851657,11.9140635041521 8.59647282523938,11.8863060110558 Q8.84172783653293,11.8624186438571 9.08605624824551,11.8231757557194 Q9.29602775102361,11.7894511138005 9.5047004646898,11.7444820539865 Q9.73546771599974,11.6947516117789 9.96389320433066,11.631434414029 Q10.2137994798527,11.5621629628359 10.4598847954114,11.4769149350853 Q10.7426952738113,11.3789447028671 11.0189146985215,11.2604175545564 Q11.2783606307036,11.14908799649 11.5305552606758,11.0202359184706 Q11.8305962880828,10.8669380077389 12.1182124982183,10.6899608334626 Q12.3086605446971,10.5727735681955 12.4928101128895,10.4457122376404 Q12.7138340887796,10.2932079405257 12.9247407405014,10.1272078034175 Q13.1164494580624,9.97631795172166 13.2989309836935,9.81495653041487 Q13.4993501715355,9.63773352169933 13.6876496499027,9.44875874377583 Q13.8259025844505,9.31000999189398 13.9571663998683,9.16537567684822 Q14.0895559130142,9.01950100078341 14.2144709921875,8.86804150073268 Q14.3647042289743,8.68588374135466 14.50359102542,8.496302620215 Q14.6242491373507,8.33160373796121 14.7359701511584,8.16180777241553 Q14.8556947497797,7.9798477889744 14.9647911861361,7.79259020255814 Q15.0815966885041,7.5921004598673 15.1858302302757,7.38620717426887 Q15.2838990649354,7.19249108020058 15.3705462405702,6.99456656547992 Q15.4710479022511,6.76499482847765 15.555848418953,6.53053381443338 Q15.6293410875024,6.32733734508333 15.6908398354807,6.12101489646327 Q15.7582996840502,5.89469352248478 15.811151998362,5.66520400901477 Q15.858001700426,5.46177837907041 15.8932743283624,5.25628456535619 Q15.9234569772515,5.08044431780161 15.9451194504346,4.90333416558016 Q15.9730560934491,4.67492704627213 15.9867773968648,4.44479362169134 Q16.0034165941822,4.16572133934909 15.9991176647554,3.88472444785707 Q15.9950908430473,3.62151371089842 15.9726972179107,3.35708697651958 Q15.9526619394994,3.12050789606779 15.9179459679384,2.88322942110747 Q15.882312030686,2.63967678789829 15.83124032874,2.39559405324708 Q15.7875158480249,2.1866252815493 15.7324953373768,1.97736550244011 Q15.6648912559291,1.72024656653811 15.5802540161198,1.46276838245011 Q15.4968741501039,1.20911530326591 15.3969639315714,0.955118442554341 Q15.3045821236361,0.720260691795003 15.1980404233408,0.485042552463534 Q15.0759331774567,0.215459477516022 14.935136668034,-0.0547900505028633 Q14.7784251600096,-0.355587358989756 14.5983261379963,-0.657651595836769 Q14.4326365303214,-0.935548190367364 14.2468180712942,-1.21507534194023 Q13.9287667177733,-1.69352075241799 13.5495204141351,-2.17993676735823 Q13.228806301099,-2.59128021171493 12.8611063340419,-3.0124517446707 Q12.1591087582907,-3.81653502342836 11.2483797084418,-4.69658759121086 Q10.4733210891135,-5.44553957449827 9.42454171069957,-6.36494199823616 Q8.84072932123853,-6.87673555265406 7.788610883906,-7.77268471082305 Q6.43199730758967,-8.92793182800395 5.86781215340663,-9.42143310902599 Q4.99911290579133,-10.1812974697638 4.33114177564245,-10.8099404645036 Q3.70609091742599,-11.3981902041088 3.18523060681885,-11.9373159451196 Q2.65398052055043,-12.4871958084704 2.2119638126538,-13.0054355175612 Q1.84652002656313,-13.4338977860892 1.53818480616621,-13.8451114872961 Q1.35658899707246,-14.0872981719213 1.19468144267213,-14.3236430665681 Q1.01229440141544,-14.5898829354267 0.855250034700979,-14.8481696259238 Q0.710327112506176,-15.0865204992088 0.587635439099838,-15.317016364333 Q0.482522452421447,-15.5144878644567 0.394395445017321,-15.7049318068687 Q0.31840843950407,-15.869141001397 0.255658210448299,-16.0268054813404 Q0.189432844334108,-16.1932014939857 0.138853346014398,-16.3499815211115 Q0.0926197731189966,-16.4932905900716 0.0605744460923479,-16.625013082467 Q0.0353801389730772,-16.7285744199802 0.0199590858880895,-16.820733667613 Q0.00867700999654953,-16.8881575731122 0.00346592649802561,-16.9441272743669 Q0.000399281055259889,-16.9770646144295 2.49345880547808e-05,-16.9979165809901 Q0.000120167169769384,-16.9926119052863 -0.00120639179482519,-16.9723446290242 Q-0.00426775812446953,-16.9255728240776 -0.0129503651544767,-16.86557788734 Q-0.0227183511665687,-16.7980832165775 -0.0385454062196693,-16.7222898015959 Q-0.06004549711036,-16.6193290609179 -0.0915669504606278,-16.5067117118991 Q-0.132286979305915,-16.3612304217578 -0.188273154562518,-16.204902779091 Q-0.258831712369531,-16.0078853375281 -0.351810097949509,-15.7987840090959 Q-0.440000005976105,-15.6004516030464 -0.547194072845051,-15.3939437422104 Q-0.651340977758142,-15.193306195987 -0.772699085783482,-14.9863772240217 Q-0.910246809839973,-14.7518431694101 -1.0692413762151,-14.5103646821128 Q-1.22417112561029,-14.2750597759499 -1.39908931791318,-14.0337431312646 Q-1.76797104341055,-13.5248349433239 -2.22583196061482,-12.9891937151164 Q-2.65281454964278,-12.4896763511826 -3.16250584273345,-11.960865339223 Q-3.75455354091074,-11.3466085397729 -4.48484292020919,-10.6660006846297 Q-5.15417223354364,-10.0422057873649 -6.03462845747207,-9.27588577364818 Q-6.5518613566613,-8.82570334364281 -7.72688839874177,-7.82524124839609 Q-9.00011940672614,-6.74116461325269 -9.66659027493077,-6.1518575057301 Q-10.6800142168527,-5.25576742827941 -11.4416925502921,-4.5083632999628 Q-11.9256928826451,-4.03343335824615 -12.3453337586718,-3.58350021932445 Q-12.8421226311087,-3.05085006647637 -13.2630306985554,-2.53794032909005 Q-13.5888635034756,-2.14088731127246 -13.8734126595931,-1.7506997108797 Q-14.1158142868982,-1.41830684568896 -14.3296155195759,-1.08906603538983 Q-14.6222670714185,-0.638400560466284 -14.8629035091692,-0.191196762642277 Q-14.9849831812171,0.035678657752151 -15.093879517273,0.262018849814471 Q-15.1989501677438,0.48040738398381 -15.2918143665365,0.698434979814885 Q-15.4099383650006,0.975767813457227 -15.5083731080758,1.25265889367945 Q-15.596037025423,1.49925228146578 -15.6680979222918,1.74552862415746 Q-15.7452025309944,2.00904242791343 -15.8044279558644,2.27213565719569 Q-15.8673099421169,2.55147218982739 -15.9099982659839,2.83015436556823 Q-15.9467996846554,3.07040505935725 -15.9685614040832,3.30996314026493 Q-15.9881495049069,3.52559352082962 -15.9955342067788,3.74046434121497 Q-16.0051232678424,4.01947484877545 -15.9941254637899,4.2967472393645 Q-15.9844330208493,4.54110936947305 -15.958768035937,4.78366431573383 Q-15.9275621653641,5.07858513044192 -15.8728386332033,5.37000215623899 Q-15.8278093231867,5.60979493058336 -15.7669750538715,5.84656658453498 Q-15.721016172269,6.02544208568407 -15.6661182996239,6.20226632422338 Q-15.6208315317082,6.34813351117917 -15.5695193619767,6.49241673134215 Q-15.4613890101118,6.79646537021361 -15.3269801205853,7.09222815454625 Q-15.2212449367798,7.32489529787583 -15.0996951958763,7.55142914467109 Q-14.9588348202878,7.81395247467492 -14.7974725228564,8.0668861942751 Q-14.6745800019696,8.25951894005113 -14.5402766384116,8.44582208248948 Q-14.3933701098356,8.64960810238759 -14.2334198263091,8.84498132868387 Q-14.0945594532161,9.01459402644063 -13.9463689488664,9.17725000648766 Q-13.7735280755873,9.36696257787514 -13.588753931665,9.54638613301087 Q-13.4189681105967,9.71125538896335 -13.23982095404,9.86674014639278 Q-13.0625216805617,10.0206210957701 -12.8767644199624,10.1646925661538 Q-12.6944389535778,10.3061023713246 -12.5046728111778,10.4375123135825 Q-12.3142699757146,10.5693631553476 -12.1171076375409,10.6906405650386 Q-11.9213331232265,10.811064304174 -11.7196291899761,10.9206103014377 Q-11.509884893371,11.0345230436026 -11.2945462865961,11.1362305693748 Q-11.0736106685721,11.2405816441808 -10.8476757705343,11.3316650627413 Q-10.6451233054253,11.4133220848312 -10.4392342246826,11.4840381672923 Q-10.2480502354789,11.5497035376801 -10.0545178054937,11.605752174849 Q-9.87842747053587,11.6567494330024 -9.70078839955957,11.699669661687 Q-9.51646003889087,11.7442061217657 -9.33086927650686,11.7799481442673 Q-9.13248730736292,11.8181535630821 -8.933139388093,11.846219406851 Q-8.71465712197788,11.8769791417381 -8.49561748097842,11.8954757888015 Q-8.29291726492743,11.9125926647188 -8.09024399409492,11.9191639457214 Q-7.78610008904026,11.9290252118723 -7.4833331334596,11.915111810162 Q-7.17318452623145,11.9008591908364 -6.86609005385436,11.8617329844013 Q-6.59503326929163,11.8271982575912 -6.32749985800465,11.7734249707618 Q-6.065591016902,11.7207822030116 -5.80803820752765,11.6498970887622 Q-5.55929013948285,11.5814352643096 -5.31546652781383,11.4961928265364 Q-5.10668790644988,11.4232023621669 -4.90208243255889,11.3381020157274 Q-4.65361227556304,11.2347572906909 -4.41212777878246,11.1139056578479 Q-4.19936350048537,11.0074271435513 -3.99268182769649,10.8876853593409 Q-3.75270580423463,10.7486543711102 -3.52182577913573,10.5922682144105 Q-3.32874675879168,10.4614864981576 -3.14265200973488,10.3189846901617 Q-2.96546888319985,10.183306945327 -2.79512566366148,10.0373935236474 Q-2.59954871236449,9.869865269557 -2.41370491741605,9.68946420864727 Q-2.19513433610818,9.47729481788262 -1.99121915187079,9.24849308724242 Q-1.80560573104341,9.04022673339448 -1.63321108031305,8.8193835024801 Q-1.48460042648279,8.62900835568098 -1.34656919353414,8.43025073001946 Q-1.22862003028138,8.26041021540489 -1.11890397474925,8.08517660112203 Q-0.95801857573265,7.82821758251459 -0.816175270753006,7.56186513162384 Q-0.660837400706088,7.27017267275816 -0.530605965747761,6.97155652900988 Q-0.428580116785493,6.73761481140916 -0.343519030901754,6.5029591230879 Q-0.261963346200934,6.27797368901832 -0.197516475528564,6.05656345647983 Q-0.136184858928778,5.84585582472599 -0.0920712402436369,5.64444995400555 Q-0.0534506179297929,5.46812299882186 -0.0298383755424187,5.30751615628668 Q-0.0115789781484796,5.18331854244193 -0.00400653952455051,5.08123174112462 Z\" fill=\"none\" id=\"66948955e7ee4b1f99a7d9dee2c79e0a\" stroke=\"red\" stroke-width=\".5\" transform=\"scale(1.25 -1.25)\"></path></svg>"
      ]
     },
     "execution_count": 421,
     "metadata": {},
     "output_type": "execute_result"
    }
   ],
   "source": [
    "heart.show_clip(Flag(**trans).flag(), edge=True, clip=False)"
   ]
  },
  {
   "cell_type": "code",
   "execution_count": 393,
   "metadata": {},
   "outputs": [
    {
     "name": "stdout",
     "output_type": "stream",
     "text": [
      "> \u001b[0;32m/Users/mpacer/jupyter/vdom/vdom/core.py\u001b[0m(134)\u001b[0;36m__init__\u001b[0;34m()\u001b[0m\n",
      "\u001b[0;32m    132 \u001b[0;31m        \u001b[0;31m# Validate that all children are VDOMs or strings\u001b[0m\u001b[0;34m\u001b[0m\u001b[0;34m\u001b[0m\u001b[0m\n",
      "\u001b[0m\u001b[0;32m    133 \u001b[0;31m        \u001b[0;32mif\u001b[0m \u001b[0;32mnot\u001b[0m \u001b[0mall\u001b[0m\u001b[0;34m(\u001b[0m\u001b[0misinstance\u001b[0m\u001b[0;34m(\u001b[0m\u001b[0mc\u001b[0m\u001b[0;34m,\u001b[0m \u001b[0;34m(\u001b[0m\u001b[0mVDOM\u001b[0m\u001b[0;34m,\u001b[0m \u001b[0mstring_types\u001b[0m\u001b[0;34m[\u001b[0m\u001b[0;34m:\u001b[0m\u001b[0;34m]\u001b[0m\u001b[0;34m)\u001b[0m\u001b[0;34m)\u001b[0m \u001b[0;32mfor\u001b[0m \u001b[0mc\u001b[0m \u001b[0;32min\u001b[0m \u001b[0mself\u001b[0m\u001b[0;34m.\u001b[0m\u001b[0mchildren\u001b[0m\u001b[0;34m)\u001b[0m\u001b[0;34m:\u001b[0m\u001b[0;34m\u001b[0m\u001b[0m\n",
      "\u001b[0m\u001b[0;32m--> 134 \u001b[0;31m            \u001b[0;32mraise\u001b[0m \u001b[0mValueError\u001b[0m\u001b[0;34m(\u001b[0m\u001b[0;34m'Children must be a list of VDOM objects or strings'\u001b[0m\u001b[0;34m)\u001b[0m\u001b[0;34m\u001b[0m\u001b[0m\n",
      "\u001b[0m\u001b[0;32m    135 \u001b[0;31m\u001b[0;34m\u001b[0m\u001b[0m\n",
      "\u001b[0m\u001b[0;32m    136 \u001b[0;31m        \u001b[0;31m# All style keys & values must be strings\u001b[0m\u001b[0;34m\u001b[0m\u001b[0;34m\u001b[0m\u001b[0m\n",
      "\u001b[0m\n",
      "ipdb> u\n",
      "> \u001b[0;32m/Users/mpacer/jupyter/vdom/vdom/core.py\u001b[0m(311)\u001b[0;36m_component\u001b[0;34m()\u001b[0m\n",
      "\u001b[0;32m    309 \u001b[0;31m            \u001b[0;32mraise\u001b[0m \u001b[0mValueError\u001b[0m\u001b[0;34m(\u001b[0m\u001b[0;34m'<{tag_name} /> cannot have children'\u001b[0m\u001b[0;34m.\u001b[0m\u001b[0mformat\u001b[0m\u001b[0;34m(\u001b[0m\u001b[0mtag_name\u001b[0m\u001b[0;34m=\u001b[0m\u001b[0mtag_name\u001b[0m\u001b[0;34m)\u001b[0m\u001b[0;34m)\u001b[0m\u001b[0;34m\u001b[0m\u001b[0m\n",
      "\u001b[0m\u001b[0;32m    310 \u001b[0;31m\u001b[0;34m\u001b[0m\u001b[0m\n",
      "\u001b[0m\u001b[0;32m--> 311 \u001b[0;31m        \u001b[0mv\u001b[0m \u001b[0;34m=\u001b[0m \u001b[0mVDOM\u001b[0m\u001b[0;34m(\u001b[0m\u001b[0mtag_name\u001b[0m\u001b[0;34m,\u001b[0m \u001b[0mattributes\u001b[0m\u001b[0;34m,\u001b[0m \u001b[0mstyle\u001b[0m\u001b[0;34m,\u001b[0m \u001b[0mchildren\u001b[0m\u001b[0;34m)\u001b[0m\u001b[0;34m\u001b[0m\u001b[0m\n",
      "\u001b[0m\u001b[0;32m    312 \u001b[0;31m        \u001b[0;32mreturn\u001b[0m \u001b[0mv\u001b[0m\u001b[0;34m\u001b[0m\u001b[0m\n",
      "\u001b[0m\u001b[0;32m    313 \u001b[0;31m    \u001b[0;32mreturn\u001b[0m \u001b[0m_component\u001b[0m\u001b[0;34m\u001b[0m\u001b[0m\n",
      "\u001b[0m\n",
      "ipdb> tag_name\n",
      "'svg'\n",
      "ipdb> attributes\n",
      "{'viewBox': '-25 -25 50 50'}\n",
      "ipdb> style\n",
      "ipdb> children\n",
      "((<vdom.core.VDOM object at 0x110c24150>,), <vdom.core.VDOM object at 0x110c66150>)\n",
      "ipdb> exit\n"
     ]
    }
   ],
   "source": [
    "%debug"
   ]
  },
  {
   "cell_type": "code",
   "execution_count": 79,
   "metadata": {},
   "outputs": [
    {
     "data": {
      "text/plain": [
       "'<clipPath id=\"newid\"><path d=\"M0.0,5.0 Q2.26480878769362e-09,5.01935203545116 0.00240468499265089,5.05784209373124 Q0.00617678614768245,5.11821945317385 0.0144892681784808,5.19071052417724 Q0.0249796452381706,5.28219447150715 0.0416669391001586,5.38322902221801 Q0.0625689845764014,5.50978212250472 0.0921242540272451,5.64469196933818 Q0.129325564905271,5.81450341906648 0.178888071354544,5.99135494886849 Q0.227032997926876,6.16314819595208 0.285852572783466,6.33796304924934 Q0.345659522697073,6.51571243286517 0.415701700411068,6.69417844133358 Q0.487743067528425,6.87773834271958 0.569888188951648,7.06019887319993 Q0.692043825721294,7.33153065651206 0.834806300015498,7.59665683949396 Q0.918421740467044,7.75194024064588 1.00862101667763,7.90415568501767 Q1.12167926629051,8.09494670272544 1.24449884261148,8.27994312284276 Q1.44189780344349,8.57727439675439 1.66250874377508,8.85670281234556 Q1.80054060640138,9.03153559541965 1.94694688614682,9.19842404729501 Q2.08999423977703,9.36148366081515 2.24054566891579,9.51639833059041 Q2.48490085256662,9.76783534981824 2.74741879975013,9.99621086079807 Q3.01662696842382,10.2304064795754 3.30291999709097,10.4385942042024 Q3.46972317871875,10.5598908176942 3.64179542494331,10.6719572214367 Q3.79857226878001,10.7740621074039 3.95941554482475,10.8683033405894 Q4.13334243392154,10.9702105195257 4.31166833497306,11.0627149706127 Q4.47604708828145,11.1479845038409 4.64386151028959,11.2251070150907 Q4.80544594869858,11.299366411392 4.96995032351617,11.3659501831024 Q5.16725965014621,11.4458118838945 5.36835311845226,11.5144650549576 Q5.56561833961004,11.5818112650908 5.7660857806164,11.6382214352365 Q5.93594304380552,11.6860181101922 6.10780540394526,11.7258795037075 Q6.3802811445957,11.7890769525997 6.65689783599178,11.8321328272072 Q6.88756600251257,11.8680367330906 7.12039035026157,11.8898178268749 Q7.33575429714658,11.9099654719568 7.5524023719199,11.9179755377665 Q7.78903411552322,11.9267244539104 8.02650188595541,11.9209696911957 Q8.31148267851657,11.9140635041521 8.59647282523938,11.8863060110558 Q8.84172783653293,11.8624186438571 9.08605624824551,11.8231757557194 Q9.29602775102361,11.7894511138005 9.5047004646898,11.7444820539865 Q9.73546771599974,11.6947516117789 9.96389320433066,11.631434414029 Q10.2137994798527,11.5621629628359 10.4598847954114,11.4769149350853 Q10.7426952738113,11.3789447028671 11.0189146985215,11.2604175545564 Q11.2783606307036,11.14908799649 11.5305552606758,11.0202359184706 Q11.8305962880828,10.8669380077389 12.1182124982183,10.6899608334626 Q12.3086605446971,10.5727735681955 12.4928101128895,10.4457122376404 Q12.7138340887796,10.2932079405257 12.9247407405014,10.1272078034175 Q13.1164494580624,9.97631795172166 13.2989309836935,9.81495653041487 Q13.4993501715355,9.63773352169933 13.6876496499027,9.44875874377583 Q13.8259025844505,9.31000999189398 13.9571663998683,9.16537567684822 Q14.0895559130142,9.01950100078341 14.2144709921875,8.86804150073268 Q14.3647042289743,8.68588374135466 14.50359102542,8.496302620215 Q14.6242491373507,8.33160373796121 14.7359701511584,8.16180777241553 Q14.8556947497797,7.9798477889744 14.9647911861361,7.79259020255814 Q15.0815966885041,7.5921004598673 15.1858302302757,7.38620717426887 Q15.2838990649354,7.19249108020058 15.3705462405702,6.99456656547992 Q15.4710479022511,6.76499482847765 15.555848418953,6.53053381443338 Q15.6293410875024,6.32733734508333 15.6908398354807,6.12101489646327 Q15.7582996840502,5.89469352248478 15.811151998362,5.66520400901477 Q15.858001700426,5.46177837907041 15.8932743283624,5.25628456535619 Q15.9234569772515,5.08044431780161 15.9451194504346,4.90333416558016 Q15.9730560934491,4.67492704627213 15.9867773968648,4.44479362169134 Q16.0034165941822,4.16572133934909 15.9991176647554,3.88472444785707 Q15.9950908430473,3.62151371089842 15.9726972179107,3.35708697651958 Q15.9526619394994,3.12050789606779 15.9179459679384,2.88322942110747 Q15.882312030686,2.63967678789829 15.83124032874,2.39559405324708 Q15.7875158480249,2.1866252815493 15.7324953373768,1.97736550244011 Q15.6648912559291,1.72024656653811 15.5802540161198,1.46276838245011 Q15.4968741501039,1.20911530326591 15.3969639315714,0.955118442554341 Q15.3045821236361,0.720260691795003 15.1980404233408,0.485042552463534 Q15.0759331774567,0.215459477516022 14.935136668034,-0.0547900505028633 Q14.7784251600096,-0.355587358989756 14.5983261379963,-0.657651595836769 Q14.4326365303214,-0.935548190367364 14.2468180712942,-1.21507534194023 Q13.9287667177733,-1.69352075241799 13.5495204141351,-2.17993676735823 Q13.228806301099,-2.59128021171493 12.8611063340419,-3.0124517446707 Q12.1591087582907,-3.81653502342836 11.2483797084418,-4.69658759121086 Q10.4733210891135,-5.44553957449827 9.42454171069957,-6.36494199823616 Q8.84072932123853,-6.87673555265406 7.788610883906,-7.77268471082305 Q6.43199730758967,-8.92793182800395 5.86781215340663,-9.42143310902599 Q4.99911290579133,-10.1812974697638 4.33114177564245,-10.8099404645036 Q3.70609091742599,-11.3981902041088 3.18523060681885,-11.9373159451196 Q2.65398052055043,-12.4871958084704 2.2119638126538,-13.0054355175612 Q1.84652002656313,-13.4338977860892 1.53818480616621,-13.8451114872961 Q1.35658899707246,-14.0872981719213 1.19468144267213,-14.3236430665681 Q1.01229440141544,-14.5898829354267 0.855250034700979,-14.8481696259238 Q0.710327112506176,-15.0865204992088 0.587635439099838,-15.317016364333 Q0.482522452421447,-15.5144878644567 0.394395445017321,-15.7049318068687 Q0.31840843950407,-15.869141001397 0.255658210448299,-16.0268054813404 Q0.189432844334108,-16.1932014939857 0.138853346014398,-16.3499815211115 Q0.0926197731189966,-16.4932905900716 0.0605744460923479,-16.625013082467 Q0.0353801389730772,-16.7285744199802 0.0199590858880895,-16.820733667613 Q0.00867700999654953,-16.8881575731122 0.00346592649802561,-16.9441272743669 Q0.000399281055259889,-16.9770646144295 2.49345880547808e-05,-16.9979165809901 Q0.000120167169769384,-16.9926119052863 -0.00120639179482519,-16.9723446290242 Q-0.00426775812446953,-16.9255728240776 -0.0129503651544767,-16.86557788734 Q-0.0227183511665687,-16.7980832165775 -0.0385454062196693,-16.7222898015959 Q-0.06004549711036,-16.6193290609179 -0.0915669504606278,-16.5067117118991 Q-0.132286979305915,-16.3612304217578 -0.188273154562518,-16.204902779091 Q-0.258831712369531,-16.0078853375281 -0.351810097949509,-15.7987840090959 Q-0.440000005976105,-15.6004516030464 -0.547194072845051,-15.3939437422104 Q-0.651340977758142,-15.193306195987 -0.772699085783482,-14.9863772240217 Q-0.910246809839973,-14.7518431694101 -1.0692413762151,-14.5103646821128 Q-1.22417112561029,-14.2750597759499 -1.39908931791318,-14.0337431312646 Q-1.76797104341055,-13.5248349433239 -2.22583196061482,-12.9891937151164 Q-2.65281454964278,-12.4896763511826 -3.16250584273345,-11.960865339223 Q-3.75455354091074,-11.3466085397729 -4.48484292020919,-10.6660006846297 Q-5.15417223354364,-10.0422057873649 -6.03462845747207,-9.27588577364818 Q-6.5518613566613,-8.82570334364281 -7.72688839874177,-7.82524124839609 Q-9.00011940672614,-6.74116461325269 -9.66659027493077,-6.1518575057301 Q-10.6800142168527,-5.25576742827941 -11.4416925502921,-4.5083632999628 Q-11.9256928826451,-4.03343335824615 -12.3453337586718,-3.58350021932445 Q-12.8421226311087,-3.05085006647637 -13.2630306985554,-2.53794032909005 Q-13.5888635034756,-2.14088731127246 -13.8734126595931,-1.7506997108797 Q-14.1158142868982,-1.41830684568896 -14.3296155195759,-1.08906603538983 Q-14.6222670714185,-0.638400560466284 -14.8629035091692,-0.191196762642277 Q-14.9849831812171,0.035678657752151 -15.093879517273,0.262018849814471 Q-15.1989501677438,0.48040738398381 -15.2918143665365,0.698434979814885 Q-15.4099383650006,0.975767813457227 -15.5083731080758,1.25265889367945 Q-15.596037025423,1.49925228146578 -15.6680979222918,1.74552862415746 Q-15.7452025309944,2.00904242791343 -15.8044279558644,2.27213565719569 Q-15.8673099421169,2.55147218982739 -15.9099982659839,2.83015436556823 Q-15.9467996846554,3.07040505935725 -15.9685614040832,3.30996314026493 Q-15.9881495049069,3.52559352082962 -15.9955342067788,3.74046434121497 Q-16.0051232678424,4.01947484877545 -15.9941254637899,4.2967472393645 Q-15.9844330208493,4.54110936947305 -15.958768035937,4.78366431573383 Q-15.9275621653641,5.07858513044192 -15.8728386332033,5.37000215623899 Q-15.8278093231867,5.60979493058336 -15.7669750538715,5.84656658453498 Q-15.721016172269,6.02544208568407 -15.6661182996239,6.20226632422338 Q-15.6208315317082,6.34813351117917 -15.5695193619767,6.49241673134215 Q-15.4613890101118,6.79646537021361 -15.3269801205853,7.09222815454625 Q-15.2212449367798,7.32489529787583 -15.0996951958763,7.55142914467109 Q-14.9588348202878,7.81395247467492 -14.7974725228564,8.0668861942751 Q-14.6745800019696,8.25951894005113 -14.5402766384116,8.44582208248948 Q-14.3933701098356,8.64960810238759 -14.2334198263091,8.84498132868387 Q-14.0945594532161,9.01459402644063 -13.9463689488664,9.17725000648766 Q-13.7735280755873,9.36696257787514 -13.588753931665,9.54638613301087 Q-13.4189681105967,9.71125538896335 -13.23982095404,9.86674014639278 Q-13.0625216805617,10.0206210957701 -12.8767644199624,10.1646925661538 Q-12.6944389535778,10.3061023713246 -12.5046728111778,10.4375123135825 Q-12.3142699757146,10.5693631553476 -12.1171076375409,10.6906405650386 Q-11.9213331232265,10.811064304174 -11.7196291899761,10.9206103014377 Q-11.509884893371,11.0345230436026 -11.2945462865961,11.1362305693748 Q-11.0736106685721,11.2405816441808 -10.8476757705343,11.3316650627413 Q-10.6451233054253,11.4133220848312 -10.4392342246826,11.4840381672923 Q-10.2480502354789,11.5497035376801 -10.0545178054937,11.605752174849 Q-9.87842747053587,11.6567494330024 -9.70078839955957,11.699669661687 Q-9.51646003889087,11.7442061217657 -9.33086927650686,11.7799481442673 Q-9.13248730736292,11.8181535630821 -8.933139388093,11.846219406851 Q-8.71465712197788,11.8769791417381 -8.49561748097842,11.8954757888015 Q-8.29291726492743,11.9125926647188 -8.09024399409492,11.9191639457214 Q-7.78610008904026,11.9290252118723 -7.4833331334596,11.915111810162 Q-7.17318452623145,11.9008591908364 -6.86609005385436,11.8617329844013 Q-6.59503326929163,11.8271982575912 -6.32749985800465,11.7734249707618 Q-6.065591016902,11.7207822030116 -5.80803820752765,11.6498970887622 Q-5.55929013948285,11.5814352643096 -5.31546652781383,11.4961928265364 Q-5.10668790644988,11.4232023621669 -4.90208243255889,11.3381020157274 Q-4.65361227556304,11.2347572906909 -4.41212777878246,11.1139056578479 Q-4.19936350048537,11.0074271435513 -3.99268182769649,10.8876853593409 Q-3.75270580423463,10.7486543711102 -3.52182577913573,10.5922682144105 Q-3.32874675879168,10.4614864981576 -3.14265200973488,10.3189846901617 Q-2.96546888319985,10.183306945327 -2.79512566366148,10.0373935236474 Q-2.59954871236449,9.869865269557 -2.41370491741605,9.68946420864727 Q-2.19513433610818,9.47729481788262 -1.99121915187079,9.24849308724242 Q-1.80560573104341,9.04022673339448 -1.63321108031305,8.8193835024801 Q-1.48460042648279,8.62900835568098 -1.34656919353414,8.43025073001946 Q-1.22862003028138,8.26041021540489 -1.11890397474925,8.08517660112203 Q-0.95801857573265,7.82821758251459 -0.816175270753006,7.56186513162384 Q-0.660837400706088,7.27017267275816 -0.530605965747761,6.97155652900988 Q-0.428580116785493,6.73761481140916 -0.343519030901754,6.5029591230879 Q-0.261963346200934,6.27797368901832 -0.197516475528564,6.05656345647983 Q-0.136184858928778,5.84585582472599 -0.0920712402436369,5.64444995400555 Q-0.0534506179297929,5.46812299882186 -0.0298383755424187,5.30751615628668 Q-0.0115789781484796,5.18331854244193 -0.00400653952455051,5.08123174112462 Z\" fill=\"none\" id=\"d3f4e55eb6124a3b9b8c12f6c4031361\" stroke=\"red\" stroke-width=\".5\" transform=\"scale(1.25 -1.25)\"></path></clipPath>'"
      ]
     },
     "execution_count": 79,
     "metadata": {},
     "output_type": "execute_result"
    }
   ],
   "source": [
    "flag_list[0].to_html()"
   ]
  },
  {
   "cell_type": "code",
   "execution_count": null,
   "metadata": {},
   "outputs": [],
   "source": [
    "%debug"
   ]
  },
  {
   "cell_type": "code",
   "execution_count": 1293,
   "metadata": {},
   "outputs": [
    {
     "data": {
      "application/vdom.v1+json": {
       "attributes": {
        "height": "100",
        "viewBox": "-25 -25 50 50",
        "x": "0",
        "y": "0"
       },
       "children": [
        {
         "attributes": {
          "id": "clipid1",
          "stroke": "black"
         },
         "children": [
          {
           "attributes": {
            "d": "M0.0,5.0 Q2.26480878769362e-09,5.01935203545116 0.00240468499265089,5.05784209373124 Q0.00617678614768245,5.11821945317385 0.0144892681784808,5.19071052417724 Q0.0249796452381706,5.28219447150715 0.0416669391001586,5.38322902221801 Q0.0625689845764014,5.50978212250472 0.0921242540272451,5.64469196933818 Q0.129325564905271,5.81450341906648 0.178888071354544,5.99135494886849 Q0.227032997926876,6.16314819595208 0.285852572783466,6.33796304924934 Q0.345659522697073,6.51571243286517 0.415701700411068,6.69417844133358 Q0.487743067528425,6.87773834271958 0.569888188951648,7.06019887319993 Q0.692043825721294,7.33153065651206 0.834806300015498,7.59665683949396 Q0.918421740467044,7.75194024064588 1.00862101667763,7.90415568501767 Q1.12167926629051,8.09494670272544 1.24449884261148,8.27994312284276 Q1.44189780344349,8.57727439675439 1.66250874377508,8.85670281234556 Q1.80054060640138,9.03153559541965 1.94694688614682,9.19842404729501 Q2.08999423977703,9.36148366081515 2.24054566891579,9.51639833059041 Q2.48490085256662,9.76783534981824 2.74741879975013,9.99621086079807 Q3.01662696842382,10.2304064795754 3.30291999709097,10.4385942042024 Q3.46972317871875,10.5598908176942 3.64179542494331,10.6719572214367 Q3.79857226878001,10.7740621074039 3.95941554482475,10.8683033405894 Q4.13334243392154,10.9702105195257 4.31166833497306,11.0627149706127 Q4.47604708828145,11.1479845038409 4.64386151028959,11.2251070150907 Q4.80544594869858,11.299366411392 4.96995032351617,11.3659501831024 Q5.16725965014621,11.4458118838945 5.36835311845226,11.5144650549576 Q5.56561833961004,11.5818112650908 5.7660857806164,11.6382214352365 Q5.93594304380552,11.6860181101922 6.10780540394526,11.7258795037075 Q6.3802811445957,11.7890769525997 6.65689783599178,11.8321328272072 Q6.88756600251257,11.8680367330906 7.12039035026157,11.8898178268749 Q7.33575429714658,11.9099654719568 7.5524023719199,11.9179755377665 Q7.78903411552322,11.9267244539104 8.02650188595541,11.9209696911957 Q8.31148267851657,11.9140635041521 8.59647282523938,11.8863060110558 Q8.84172783653293,11.8624186438571 9.08605624824551,11.8231757557194 Q9.29602775102361,11.7894511138005 9.5047004646898,11.7444820539865 Q9.73546771599974,11.6947516117789 9.96389320433066,11.631434414029 Q10.2137994798527,11.5621629628359 10.4598847954114,11.4769149350853 Q10.7426952738113,11.3789447028671 11.0189146985215,11.2604175545564 Q11.2783606307036,11.14908799649 11.5305552606758,11.0202359184706 Q11.8305962880828,10.8669380077389 12.1182124982183,10.6899608334626 Q12.3086605446971,10.5727735681955 12.4928101128895,10.4457122376404 Q12.7138340887796,10.2932079405257 12.9247407405014,10.1272078034175 Q13.1164494580624,9.97631795172166 13.2989309836935,9.81495653041487 Q13.4993501715355,9.63773352169933 13.6876496499027,9.44875874377583 Q13.8259025844505,9.31000999189398 13.9571663998683,9.16537567684822 Q14.0895559130142,9.01950100078341 14.2144709921875,8.86804150073268 Q14.3647042289743,8.68588374135466 14.50359102542,8.496302620215 Q14.6242491373507,8.33160373796121 14.7359701511584,8.16180777241553 Q14.8556947497797,7.9798477889744 14.9647911861361,7.79259020255814 Q15.0815966885041,7.5921004598673 15.1858302302757,7.38620717426887 Q15.2838990649354,7.19249108020058 15.3705462405702,6.99456656547992 Q15.4710479022511,6.76499482847765 15.555848418953,6.53053381443338 Q15.6293410875024,6.32733734508333 15.6908398354807,6.12101489646327 Q15.7582996840502,5.89469352248478 15.811151998362,5.66520400901477 Q15.858001700426,5.46177837907041 15.8932743283624,5.25628456535619 Q15.9234569772515,5.08044431780161 15.9451194504346,4.90333416558016 Q15.9730560934491,4.67492704627213 15.9867773968648,4.44479362169134 Q16.0034165941822,4.16572133934909 15.9991176647554,3.88472444785707 Q15.9950908430473,3.62151371089842 15.9726972179107,3.35708697651958 Q15.9526619394994,3.12050789606779 15.9179459679384,2.88322942110747 Q15.882312030686,2.63967678789829 15.83124032874,2.39559405324708 Q15.7875158480249,2.1866252815493 15.7324953373768,1.97736550244011 Q15.6648912559291,1.72024656653811 15.5802540161198,1.46276838245011 Q15.4968741501039,1.20911530326591 15.3969639315714,0.955118442554341 Q15.3045821236361,0.720260691795003 15.1980404233408,0.485042552463534 Q15.0759331774567,0.215459477516022 14.935136668034,-0.0547900505028633 Q14.7784251600096,-0.355587358989756 14.5983261379963,-0.657651595836769 Q14.4326365303214,-0.935548190367364 14.2468180712942,-1.21507534194023 Q13.9287667177733,-1.69352075241799 13.5495204141351,-2.17993676735823 Q13.228806301099,-2.59128021171493 12.8611063340419,-3.0124517446707 Q12.1591087582907,-3.81653502342836 11.2483797084418,-4.69658759121086 Q10.4733210891135,-5.44553957449827 9.42454171069957,-6.36494199823616 Q8.84072932123853,-6.87673555265406 7.788610883906,-7.77268471082305 Q6.43199730758967,-8.92793182800395 5.86781215340663,-9.42143310902599 Q4.99911290579133,-10.1812974697638 4.33114177564245,-10.8099404645036 Q3.70609091742599,-11.3981902041088 3.18523060681885,-11.9373159451196 Q2.65398052055043,-12.4871958084704 2.2119638126538,-13.0054355175612 Q1.84652002656313,-13.4338977860892 1.53818480616621,-13.8451114872961 Q1.35658899707246,-14.0872981719213 1.19468144267213,-14.3236430665681 Q1.01229440141544,-14.5898829354267 0.855250034700979,-14.8481696259238 Q0.710327112506176,-15.0865204992088 0.587635439099838,-15.317016364333 Q0.482522452421447,-15.5144878644567 0.394395445017321,-15.7049318068687 Q0.31840843950407,-15.869141001397 0.255658210448299,-16.0268054813404 Q0.189432844334108,-16.1932014939857 0.138853346014398,-16.3499815211115 Q0.0926197731189966,-16.4932905900716 0.0605744460923479,-16.625013082467 Q0.0353801389730772,-16.7285744199802 0.0199590858880895,-16.820733667613 Q0.00867700999654953,-16.8881575731122 0.00346592649802561,-16.9441272743669 Q0.000399281055259889,-16.9770646144295 2.49345880547808e-05,-16.9979165809901 Q0.000120167169769384,-16.9926119052863 -0.00120639179482519,-16.9723446290242 Q-0.00426775812446953,-16.9255728240776 -0.0129503651544767,-16.86557788734 Q-0.0227183511665687,-16.7980832165775 -0.0385454062196693,-16.7222898015959 Q-0.06004549711036,-16.6193290609179 -0.0915669504606278,-16.5067117118991 Q-0.132286979305915,-16.3612304217578 -0.188273154562518,-16.204902779091 Q-0.258831712369531,-16.0078853375281 -0.351810097949509,-15.7987840090959 Q-0.440000005976105,-15.6004516030464 -0.547194072845051,-15.3939437422104 Q-0.651340977758142,-15.193306195987 -0.772699085783482,-14.9863772240217 Q-0.910246809839973,-14.7518431694101 -1.0692413762151,-14.5103646821128 Q-1.22417112561029,-14.2750597759499 -1.39908931791318,-14.0337431312646 Q-1.76797104341055,-13.5248349433239 -2.22583196061482,-12.9891937151164 Q-2.65281454964278,-12.4896763511826 -3.16250584273345,-11.960865339223 Q-3.75455354091074,-11.3466085397729 -4.48484292020919,-10.6660006846297 Q-5.15417223354364,-10.0422057873649 -6.03462845747207,-9.27588577364818 Q-6.5518613566613,-8.82570334364281 -7.72688839874177,-7.82524124839609 Q-9.00011940672614,-6.74116461325269 -9.66659027493077,-6.1518575057301 Q-10.6800142168527,-5.25576742827941 -11.4416925502921,-4.5083632999628 Q-11.9256928826451,-4.03343335824615 -12.3453337586718,-3.58350021932445 Q-12.8421226311087,-3.05085006647637 -13.2630306985554,-2.53794032909005 Q-13.5888635034756,-2.14088731127246 -13.8734126595931,-1.7506997108797 Q-14.1158142868982,-1.41830684568896 -14.3296155195759,-1.08906603538983 Q-14.6222670714185,-0.638400560466284 -14.8629035091692,-0.191196762642277 Q-14.9849831812171,0.035678657752151 -15.093879517273,0.262018849814471 Q-15.1989501677438,0.48040738398381 -15.2918143665365,0.698434979814885 Q-15.4099383650006,0.975767813457227 -15.5083731080758,1.25265889367945 Q-15.596037025423,1.49925228146578 -15.6680979222918,1.74552862415746 Q-15.7452025309944,2.00904242791343 -15.8044279558644,2.27213565719569 Q-15.8673099421169,2.55147218982739 -15.9099982659839,2.83015436556823 Q-15.9467996846554,3.07040505935725 -15.9685614040832,3.30996314026493 Q-15.9881495049069,3.52559352082962 -15.9955342067788,3.74046434121497 Q-16.0051232678424,4.01947484877545 -15.9941254637899,4.2967472393645 Q-15.9844330208493,4.54110936947305 -15.958768035937,4.78366431573383 Q-15.9275621653641,5.07858513044192 -15.8728386332033,5.37000215623899 Q-15.8278093231867,5.60979493058336 -15.7669750538715,5.84656658453498 Q-15.721016172269,6.02544208568407 -15.6661182996239,6.20226632422338 Q-15.6208315317082,6.34813351117917 -15.5695193619767,6.49241673134215 Q-15.4613890101118,6.79646537021361 -15.3269801205853,7.09222815454625 Q-15.2212449367798,7.32489529787583 -15.0996951958763,7.55142914467109 Q-14.9588348202878,7.81395247467492 -14.7974725228564,8.0668861942751 Q-14.6745800019696,8.25951894005113 -14.5402766384116,8.44582208248948 Q-14.3933701098356,8.64960810238759 -14.2334198263091,8.84498132868387 Q-14.0945594532161,9.01459402644063 -13.9463689488664,9.17725000648766 Q-13.7735280755873,9.36696257787514 -13.588753931665,9.54638613301087 Q-13.4189681105967,9.71125538896335 -13.23982095404,9.86674014639278 Q-13.0625216805617,10.0206210957701 -12.8767644199624,10.1646925661538 Q-12.6944389535778,10.3061023713246 -12.5046728111778,10.4375123135825 Q-12.3142699757146,10.5693631553476 -12.1171076375409,10.6906405650386 Q-11.9213331232265,10.811064304174 -11.7196291899761,10.9206103014377 Q-11.509884893371,11.0345230436026 -11.2945462865961,11.1362305693748 Q-11.0736106685721,11.2405816441808 -10.8476757705343,11.3316650627413 Q-10.6451233054253,11.4133220848312 -10.4392342246826,11.4840381672923 Q-10.2480502354789,11.5497035376801 -10.0545178054937,11.605752174849 Q-9.87842747053587,11.6567494330024 -9.70078839955957,11.699669661687 Q-9.51646003889087,11.7442061217657 -9.33086927650686,11.7799481442673 Q-9.13248730736292,11.8181535630821 -8.933139388093,11.846219406851 Q-8.71465712197788,11.8769791417381 -8.49561748097842,11.8954757888015 Q-8.29291726492743,11.9125926647188 -8.09024399409492,11.9191639457214 Q-7.78610008904026,11.9290252118723 -7.4833331334596,11.915111810162 Q-7.17318452623145,11.9008591908364 -6.86609005385436,11.8617329844013 Q-6.59503326929163,11.8271982575912 -6.32749985800465,11.7734249707618 Q-6.065591016902,11.7207822030116 -5.80803820752765,11.6498970887622 Q-5.55929013948285,11.5814352643096 -5.31546652781383,11.4961928265364 Q-5.10668790644988,11.4232023621669 -4.90208243255889,11.3381020157274 Q-4.65361227556304,11.2347572906909 -4.41212777878246,11.1139056578479 Q-4.19936350048537,11.0074271435513 -3.99268182769649,10.8876853593409 Q-3.75270580423463,10.7486543711102 -3.52182577913573,10.5922682144105 Q-3.32874675879168,10.4614864981576 -3.14265200973488,10.3189846901617 Q-2.96546888319985,10.183306945327 -2.79512566366148,10.0373935236474 Q-2.59954871236449,9.869865269557 -2.41370491741605,9.68946420864727 Q-2.19513433610818,9.47729481788262 -1.99121915187079,9.24849308724242 Q-1.80560573104341,9.04022673339448 -1.63321108031305,8.8193835024801 Q-1.48460042648279,8.62900835568098 -1.34656919353414,8.43025073001946 Q-1.22862003028138,8.26041021540489 -1.11890397474925,8.08517660112203 Q-0.95801857573265,7.82821758251459 -0.816175270753006,7.56186513162384 Q-0.660837400706088,7.27017267275816 -0.530605965747761,6.97155652900988 Q-0.428580116785493,6.73761481140916 -0.343519030901754,6.5029591230879 Q-0.261963346200934,6.27797368901832 -0.197516475528564,6.05656345647983 Q-0.136184858928778,5.84585582472599 -0.0920712402436369,5.64444995400555 Q-0.0534506179297929,5.46812299882186 -0.0298383755424187,5.30751615628668 Q-0.0115789781484796,5.18331854244193 -0.00400653952455051,5.08123174112462 Z",
            "fill": "none",
            "id": "b2196e067c824a4c9367ce2de18718f2",
            "stroke": "red",
            "stroke-width": ".5",
            "transform": "scale(1.25 -1.25)"
           },
           "children": [],
           "tagName": "path"
          }
         ],
         "tagName": "clipPath"
        },
        {
         "attributes": {
          "base_y": -12,
          "style": {
           "clip-path": "url(#clipid1)"
          }
         },
         "children": [
          {
           "attributes": {
            "fill": "blue",
            "height": "24.333333333333332%",
            "width": "50",
            "x": "-25",
            "y": "-31.5%"
           },
           "children": [],
           "tagName": "rect"
          },
          {
           "attributes": {
            "fill": "red",
            "height": "24.333333333333332%",
            "width": "50",
            "x": "-25",
            "y": "-7.166666666666668%"
           },
           "children": [],
           "tagName": "rect"
          },
          {
           "attributes": {
            "fill": "black",
            "height": "24.333333333333332%",
            "width": "50",
            "x": "-25",
            "y": "17.166666666666664%"
           },
           "children": [],
           "tagName": "rect"
          }
         ],
         "tagName": "g"
        },
        {
         "attributes": {
          "fill": "yellow",
          "font-family": "Minion Pro",
          "text-anchor": "middle",
          "y": "5"
         },
         "children": [
          "π"
         ],
         "tagName": "text"
        }
       ],
       "tagName": "svg"
      },
      "text/html": [
       "<svg height=\"100\" viewBox=\"-25 -25 50 50\" x=\"0\" y=\"0\"><clipPath id=\"clipid1\" stroke=\"black\"><path d=\"M0.0,5.0 Q2.26480878769362e-09,5.01935203545116 0.00240468499265089,5.05784209373124 Q0.00617678614768245,5.11821945317385 0.0144892681784808,5.19071052417724 Q0.0249796452381706,5.28219447150715 0.0416669391001586,5.38322902221801 Q0.0625689845764014,5.50978212250472 0.0921242540272451,5.64469196933818 Q0.129325564905271,5.81450341906648 0.178888071354544,5.99135494886849 Q0.227032997926876,6.16314819595208 0.285852572783466,6.33796304924934 Q0.345659522697073,6.51571243286517 0.415701700411068,6.69417844133358 Q0.487743067528425,6.87773834271958 0.569888188951648,7.06019887319993 Q0.692043825721294,7.33153065651206 0.834806300015498,7.59665683949396 Q0.918421740467044,7.75194024064588 1.00862101667763,7.90415568501767 Q1.12167926629051,8.09494670272544 1.24449884261148,8.27994312284276 Q1.44189780344349,8.57727439675439 1.66250874377508,8.85670281234556 Q1.80054060640138,9.03153559541965 1.94694688614682,9.19842404729501 Q2.08999423977703,9.36148366081515 2.24054566891579,9.51639833059041 Q2.48490085256662,9.76783534981824 2.74741879975013,9.99621086079807 Q3.01662696842382,10.2304064795754 3.30291999709097,10.4385942042024 Q3.46972317871875,10.5598908176942 3.64179542494331,10.6719572214367 Q3.79857226878001,10.7740621074039 3.95941554482475,10.8683033405894 Q4.13334243392154,10.9702105195257 4.31166833497306,11.0627149706127 Q4.47604708828145,11.1479845038409 4.64386151028959,11.2251070150907 Q4.80544594869858,11.299366411392 4.96995032351617,11.3659501831024 Q5.16725965014621,11.4458118838945 5.36835311845226,11.5144650549576 Q5.56561833961004,11.5818112650908 5.7660857806164,11.6382214352365 Q5.93594304380552,11.6860181101922 6.10780540394526,11.7258795037075 Q6.3802811445957,11.7890769525997 6.65689783599178,11.8321328272072 Q6.88756600251257,11.8680367330906 7.12039035026157,11.8898178268749 Q7.33575429714658,11.9099654719568 7.5524023719199,11.9179755377665 Q7.78903411552322,11.9267244539104 8.02650188595541,11.9209696911957 Q8.31148267851657,11.9140635041521 8.59647282523938,11.8863060110558 Q8.84172783653293,11.8624186438571 9.08605624824551,11.8231757557194 Q9.29602775102361,11.7894511138005 9.5047004646898,11.7444820539865 Q9.73546771599974,11.6947516117789 9.96389320433066,11.631434414029 Q10.2137994798527,11.5621629628359 10.4598847954114,11.4769149350853 Q10.7426952738113,11.3789447028671 11.0189146985215,11.2604175545564 Q11.2783606307036,11.14908799649 11.5305552606758,11.0202359184706 Q11.8305962880828,10.8669380077389 12.1182124982183,10.6899608334626 Q12.3086605446971,10.5727735681955 12.4928101128895,10.4457122376404 Q12.7138340887796,10.2932079405257 12.9247407405014,10.1272078034175 Q13.1164494580624,9.97631795172166 13.2989309836935,9.81495653041487 Q13.4993501715355,9.63773352169933 13.6876496499027,9.44875874377583 Q13.8259025844505,9.31000999189398 13.9571663998683,9.16537567684822 Q14.0895559130142,9.01950100078341 14.2144709921875,8.86804150073268 Q14.3647042289743,8.68588374135466 14.50359102542,8.496302620215 Q14.6242491373507,8.33160373796121 14.7359701511584,8.16180777241553 Q14.8556947497797,7.9798477889744 14.9647911861361,7.79259020255814 Q15.0815966885041,7.5921004598673 15.1858302302757,7.38620717426887 Q15.2838990649354,7.19249108020058 15.3705462405702,6.99456656547992 Q15.4710479022511,6.76499482847765 15.555848418953,6.53053381443338 Q15.6293410875024,6.32733734508333 15.6908398354807,6.12101489646327 Q15.7582996840502,5.89469352248478 15.811151998362,5.66520400901477 Q15.858001700426,5.46177837907041 15.8932743283624,5.25628456535619 Q15.9234569772515,5.08044431780161 15.9451194504346,4.90333416558016 Q15.9730560934491,4.67492704627213 15.9867773968648,4.44479362169134 Q16.0034165941822,4.16572133934909 15.9991176647554,3.88472444785707 Q15.9950908430473,3.62151371089842 15.9726972179107,3.35708697651958 Q15.9526619394994,3.12050789606779 15.9179459679384,2.88322942110747 Q15.882312030686,2.63967678789829 15.83124032874,2.39559405324708 Q15.7875158480249,2.1866252815493 15.7324953373768,1.97736550244011 Q15.6648912559291,1.72024656653811 15.5802540161198,1.46276838245011 Q15.4968741501039,1.20911530326591 15.3969639315714,0.955118442554341 Q15.3045821236361,0.720260691795003 15.1980404233408,0.485042552463534 Q15.0759331774567,0.215459477516022 14.935136668034,-0.0547900505028633 Q14.7784251600096,-0.355587358989756 14.5983261379963,-0.657651595836769 Q14.4326365303214,-0.935548190367364 14.2468180712942,-1.21507534194023 Q13.9287667177733,-1.69352075241799 13.5495204141351,-2.17993676735823 Q13.228806301099,-2.59128021171493 12.8611063340419,-3.0124517446707 Q12.1591087582907,-3.81653502342836 11.2483797084418,-4.69658759121086 Q10.4733210891135,-5.44553957449827 9.42454171069957,-6.36494199823616 Q8.84072932123853,-6.87673555265406 7.788610883906,-7.77268471082305 Q6.43199730758967,-8.92793182800395 5.86781215340663,-9.42143310902599 Q4.99911290579133,-10.1812974697638 4.33114177564245,-10.8099404645036 Q3.70609091742599,-11.3981902041088 3.18523060681885,-11.9373159451196 Q2.65398052055043,-12.4871958084704 2.2119638126538,-13.0054355175612 Q1.84652002656313,-13.4338977860892 1.53818480616621,-13.8451114872961 Q1.35658899707246,-14.0872981719213 1.19468144267213,-14.3236430665681 Q1.01229440141544,-14.5898829354267 0.855250034700979,-14.8481696259238 Q0.710327112506176,-15.0865204992088 0.587635439099838,-15.317016364333 Q0.482522452421447,-15.5144878644567 0.394395445017321,-15.7049318068687 Q0.31840843950407,-15.869141001397 0.255658210448299,-16.0268054813404 Q0.189432844334108,-16.1932014939857 0.138853346014398,-16.3499815211115 Q0.0926197731189966,-16.4932905900716 0.0605744460923479,-16.625013082467 Q0.0353801389730772,-16.7285744199802 0.0199590858880895,-16.820733667613 Q0.00867700999654953,-16.8881575731122 0.00346592649802561,-16.9441272743669 Q0.000399281055259889,-16.9770646144295 2.49345880547808e-05,-16.9979165809901 Q0.000120167169769384,-16.9926119052863 -0.00120639179482519,-16.9723446290242 Q-0.00426775812446953,-16.9255728240776 -0.0129503651544767,-16.86557788734 Q-0.0227183511665687,-16.7980832165775 -0.0385454062196693,-16.7222898015959 Q-0.06004549711036,-16.6193290609179 -0.0915669504606278,-16.5067117118991 Q-0.132286979305915,-16.3612304217578 -0.188273154562518,-16.204902779091 Q-0.258831712369531,-16.0078853375281 -0.351810097949509,-15.7987840090959 Q-0.440000005976105,-15.6004516030464 -0.547194072845051,-15.3939437422104 Q-0.651340977758142,-15.193306195987 -0.772699085783482,-14.9863772240217 Q-0.910246809839973,-14.7518431694101 -1.0692413762151,-14.5103646821128 Q-1.22417112561029,-14.2750597759499 -1.39908931791318,-14.0337431312646 Q-1.76797104341055,-13.5248349433239 -2.22583196061482,-12.9891937151164 Q-2.65281454964278,-12.4896763511826 -3.16250584273345,-11.960865339223 Q-3.75455354091074,-11.3466085397729 -4.48484292020919,-10.6660006846297 Q-5.15417223354364,-10.0422057873649 -6.03462845747207,-9.27588577364818 Q-6.5518613566613,-8.82570334364281 -7.72688839874177,-7.82524124839609 Q-9.00011940672614,-6.74116461325269 -9.66659027493077,-6.1518575057301 Q-10.6800142168527,-5.25576742827941 -11.4416925502921,-4.5083632999628 Q-11.9256928826451,-4.03343335824615 -12.3453337586718,-3.58350021932445 Q-12.8421226311087,-3.05085006647637 -13.2630306985554,-2.53794032909005 Q-13.5888635034756,-2.14088731127246 -13.8734126595931,-1.7506997108797 Q-14.1158142868982,-1.41830684568896 -14.3296155195759,-1.08906603538983 Q-14.6222670714185,-0.638400560466284 -14.8629035091692,-0.191196762642277 Q-14.9849831812171,0.035678657752151 -15.093879517273,0.262018849814471 Q-15.1989501677438,0.48040738398381 -15.2918143665365,0.698434979814885 Q-15.4099383650006,0.975767813457227 -15.5083731080758,1.25265889367945 Q-15.596037025423,1.49925228146578 -15.6680979222918,1.74552862415746 Q-15.7452025309944,2.00904242791343 -15.8044279558644,2.27213565719569 Q-15.8673099421169,2.55147218982739 -15.9099982659839,2.83015436556823 Q-15.9467996846554,3.07040505935725 -15.9685614040832,3.30996314026493 Q-15.9881495049069,3.52559352082962 -15.9955342067788,3.74046434121497 Q-16.0051232678424,4.01947484877545 -15.9941254637899,4.2967472393645 Q-15.9844330208493,4.54110936947305 -15.958768035937,4.78366431573383 Q-15.9275621653641,5.07858513044192 -15.8728386332033,5.37000215623899 Q-15.8278093231867,5.60979493058336 -15.7669750538715,5.84656658453498 Q-15.721016172269,6.02544208568407 -15.6661182996239,6.20226632422338 Q-15.6208315317082,6.34813351117917 -15.5695193619767,6.49241673134215 Q-15.4613890101118,6.79646537021361 -15.3269801205853,7.09222815454625 Q-15.2212449367798,7.32489529787583 -15.0996951958763,7.55142914467109 Q-14.9588348202878,7.81395247467492 -14.7974725228564,8.0668861942751 Q-14.6745800019696,8.25951894005113 -14.5402766384116,8.44582208248948 Q-14.3933701098356,8.64960810238759 -14.2334198263091,8.84498132868387 Q-14.0945594532161,9.01459402644063 -13.9463689488664,9.17725000648766 Q-13.7735280755873,9.36696257787514 -13.588753931665,9.54638613301087 Q-13.4189681105967,9.71125538896335 -13.23982095404,9.86674014639278 Q-13.0625216805617,10.0206210957701 -12.8767644199624,10.1646925661538 Q-12.6944389535778,10.3061023713246 -12.5046728111778,10.4375123135825 Q-12.3142699757146,10.5693631553476 -12.1171076375409,10.6906405650386 Q-11.9213331232265,10.811064304174 -11.7196291899761,10.9206103014377 Q-11.509884893371,11.0345230436026 -11.2945462865961,11.1362305693748 Q-11.0736106685721,11.2405816441808 -10.8476757705343,11.3316650627413 Q-10.6451233054253,11.4133220848312 -10.4392342246826,11.4840381672923 Q-10.2480502354789,11.5497035376801 -10.0545178054937,11.605752174849 Q-9.87842747053587,11.6567494330024 -9.70078839955957,11.699669661687 Q-9.51646003889087,11.7442061217657 -9.33086927650686,11.7799481442673 Q-9.13248730736292,11.8181535630821 -8.933139388093,11.846219406851 Q-8.71465712197788,11.8769791417381 -8.49561748097842,11.8954757888015 Q-8.29291726492743,11.9125926647188 -8.09024399409492,11.9191639457214 Q-7.78610008904026,11.9290252118723 -7.4833331334596,11.915111810162 Q-7.17318452623145,11.9008591908364 -6.86609005385436,11.8617329844013 Q-6.59503326929163,11.8271982575912 -6.32749985800465,11.7734249707618 Q-6.065591016902,11.7207822030116 -5.80803820752765,11.6498970887622 Q-5.55929013948285,11.5814352643096 -5.31546652781383,11.4961928265364 Q-5.10668790644988,11.4232023621669 -4.90208243255889,11.3381020157274 Q-4.65361227556304,11.2347572906909 -4.41212777878246,11.1139056578479 Q-4.19936350048537,11.0074271435513 -3.99268182769649,10.8876853593409 Q-3.75270580423463,10.7486543711102 -3.52182577913573,10.5922682144105 Q-3.32874675879168,10.4614864981576 -3.14265200973488,10.3189846901617 Q-2.96546888319985,10.183306945327 -2.79512566366148,10.0373935236474 Q-2.59954871236449,9.869865269557 -2.41370491741605,9.68946420864727 Q-2.19513433610818,9.47729481788262 -1.99121915187079,9.24849308724242 Q-1.80560573104341,9.04022673339448 -1.63321108031305,8.8193835024801 Q-1.48460042648279,8.62900835568098 -1.34656919353414,8.43025073001946 Q-1.22862003028138,8.26041021540489 -1.11890397474925,8.08517660112203 Q-0.95801857573265,7.82821758251459 -0.816175270753006,7.56186513162384 Q-0.660837400706088,7.27017267275816 -0.530605965747761,6.97155652900988 Q-0.428580116785493,6.73761481140916 -0.343519030901754,6.5029591230879 Q-0.261963346200934,6.27797368901832 -0.197516475528564,6.05656345647983 Q-0.136184858928778,5.84585582472599 -0.0920712402436369,5.64444995400555 Q-0.0534506179297929,5.46812299882186 -0.0298383755424187,5.30751615628668 Q-0.0115789781484796,5.18331854244193 -0.00400653952455051,5.08123174112462 Z\" fill=\"none\" id=\"b2196e067c824a4c9367ce2de18718f2\" stroke=\"red\" stroke-width=\".5\" transform=\"scale(1.25 -1.25)\"></path></clipPath><g style=\"clip-path: url(#clipid1)\"><rect fill=\"blue\" height=\"24.333333333333332%\" width=\"50\" x=\"-25\" y=\"-31.5%\"></rect><rect fill=\"red\" height=\"24.333333333333332%\" width=\"50\" x=\"-25\" y=\"-7.166666666666668%\"></rect><rect fill=\"black\" height=\"24.333333333333332%\" width=\"50\" x=\"-25\" y=\"17.166666666666664%\"></rect></g><text fill=\"yellow\" font-family=\"Minion Pro\" text-anchor=\"middle\" y=\"5\">π</text></svg>"
      ],
      "text/plain": [
       "<svg height=\"100\" viewBox=\"-25 -25 50 50\" x=\"0\" y=\"0\"><clipPath id=\"clipid1\" stroke=\"black\"><path d=\"M0.0,5.0 Q2.26480878769362e-09,5.01935203545116 0.00240468499265089,5.05784209373124 Q0.00617678614768245,5.11821945317385 0.0144892681784808,5.19071052417724 Q0.0249796452381706,5.28219447150715 0.0416669391001586,5.38322902221801 Q0.0625689845764014,5.50978212250472 0.0921242540272451,5.64469196933818 Q0.129325564905271,5.81450341906648 0.178888071354544,5.99135494886849 Q0.227032997926876,6.16314819595208 0.285852572783466,6.33796304924934 Q0.345659522697073,6.51571243286517 0.415701700411068,6.69417844133358 Q0.487743067528425,6.87773834271958 0.569888188951648,7.06019887319993 Q0.692043825721294,7.33153065651206 0.834806300015498,7.59665683949396 Q0.918421740467044,7.75194024064588 1.00862101667763,7.90415568501767 Q1.12167926629051,8.09494670272544 1.24449884261148,8.27994312284276 Q1.44189780344349,8.57727439675439 1.66250874377508,8.85670281234556 Q1.80054060640138,9.03153559541965 1.94694688614682,9.19842404729501 Q2.08999423977703,9.36148366081515 2.24054566891579,9.51639833059041 Q2.48490085256662,9.76783534981824 2.74741879975013,9.99621086079807 Q3.01662696842382,10.2304064795754 3.30291999709097,10.4385942042024 Q3.46972317871875,10.5598908176942 3.64179542494331,10.6719572214367 Q3.79857226878001,10.7740621074039 3.95941554482475,10.8683033405894 Q4.13334243392154,10.9702105195257 4.31166833497306,11.0627149706127 Q4.47604708828145,11.1479845038409 4.64386151028959,11.2251070150907 Q4.80544594869858,11.299366411392 4.96995032351617,11.3659501831024 Q5.16725965014621,11.4458118838945 5.36835311845226,11.5144650549576 Q5.56561833961004,11.5818112650908 5.7660857806164,11.6382214352365 Q5.93594304380552,11.6860181101922 6.10780540394526,11.7258795037075 Q6.3802811445957,11.7890769525997 6.65689783599178,11.8321328272072 Q6.88756600251257,11.8680367330906 7.12039035026157,11.8898178268749 Q7.33575429714658,11.9099654719568 7.5524023719199,11.9179755377665 Q7.78903411552322,11.9267244539104 8.02650188595541,11.9209696911957 Q8.31148267851657,11.9140635041521 8.59647282523938,11.8863060110558 Q8.84172783653293,11.8624186438571 9.08605624824551,11.8231757557194 Q9.29602775102361,11.7894511138005 9.5047004646898,11.7444820539865 Q9.73546771599974,11.6947516117789 9.96389320433066,11.631434414029 Q10.2137994798527,11.5621629628359 10.4598847954114,11.4769149350853 Q10.7426952738113,11.3789447028671 11.0189146985215,11.2604175545564 Q11.2783606307036,11.14908799649 11.5305552606758,11.0202359184706 Q11.8305962880828,10.8669380077389 12.1182124982183,10.6899608334626 Q12.3086605446971,10.5727735681955 12.4928101128895,10.4457122376404 Q12.7138340887796,10.2932079405257 12.9247407405014,10.1272078034175 Q13.1164494580624,9.97631795172166 13.2989309836935,9.81495653041487 Q13.4993501715355,9.63773352169933 13.6876496499027,9.44875874377583 Q13.8259025844505,9.31000999189398 13.9571663998683,9.16537567684822 Q14.0895559130142,9.01950100078341 14.2144709921875,8.86804150073268 Q14.3647042289743,8.68588374135466 14.50359102542,8.496302620215 Q14.6242491373507,8.33160373796121 14.7359701511584,8.16180777241553 Q14.8556947497797,7.9798477889744 14.9647911861361,7.79259020255814 Q15.0815966885041,7.5921004598673 15.1858302302757,7.38620717426887 Q15.2838990649354,7.19249108020058 15.3705462405702,6.99456656547992 Q15.4710479022511,6.76499482847765 15.555848418953,6.53053381443338 Q15.6293410875024,6.32733734508333 15.6908398354807,6.12101489646327 Q15.7582996840502,5.89469352248478 15.811151998362,5.66520400901477 Q15.858001700426,5.46177837907041 15.8932743283624,5.25628456535619 Q15.9234569772515,5.08044431780161 15.9451194504346,4.90333416558016 Q15.9730560934491,4.67492704627213 15.9867773968648,4.44479362169134 Q16.0034165941822,4.16572133934909 15.9991176647554,3.88472444785707 Q15.9950908430473,3.62151371089842 15.9726972179107,3.35708697651958 Q15.9526619394994,3.12050789606779 15.9179459679384,2.88322942110747 Q15.882312030686,2.63967678789829 15.83124032874,2.39559405324708 Q15.7875158480249,2.1866252815493 15.7324953373768,1.97736550244011 Q15.6648912559291,1.72024656653811 15.5802540161198,1.46276838245011 Q15.4968741501039,1.20911530326591 15.3969639315714,0.955118442554341 Q15.3045821236361,0.720260691795003 15.1980404233408,0.485042552463534 Q15.0759331774567,0.215459477516022 14.935136668034,-0.0547900505028633 Q14.7784251600096,-0.355587358989756 14.5983261379963,-0.657651595836769 Q14.4326365303214,-0.935548190367364 14.2468180712942,-1.21507534194023 Q13.9287667177733,-1.69352075241799 13.5495204141351,-2.17993676735823 Q13.228806301099,-2.59128021171493 12.8611063340419,-3.0124517446707 Q12.1591087582907,-3.81653502342836 11.2483797084418,-4.69658759121086 Q10.4733210891135,-5.44553957449827 9.42454171069957,-6.36494199823616 Q8.84072932123853,-6.87673555265406 7.788610883906,-7.77268471082305 Q6.43199730758967,-8.92793182800395 5.86781215340663,-9.42143310902599 Q4.99911290579133,-10.1812974697638 4.33114177564245,-10.8099404645036 Q3.70609091742599,-11.3981902041088 3.18523060681885,-11.9373159451196 Q2.65398052055043,-12.4871958084704 2.2119638126538,-13.0054355175612 Q1.84652002656313,-13.4338977860892 1.53818480616621,-13.8451114872961 Q1.35658899707246,-14.0872981719213 1.19468144267213,-14.3236430665681 Q1.01229440141544,-14.5898829354267 0.855250034700979,-14.8481696259238 Q0.710327112506176,-15.0865204992088 0.587635439099838,-15.317016364333 Q0.482522452421447,-15.5144878644567 0.394395445017321,-15.7049318068687 Q0.31840843950407,-15.869141001397 0.255658210448299,-16.0268054813404 Q0.189432844334108,-16.1932014939857 0.138853346014398,-16.3499815211115 Q0.0926197731189966,-16.4932905900716 0.0605744460923479,-16.625013082467 Q0.0353801389730772,-16.7285744199802 0.0199590858880895,-16.820733667613 Q0.00867700999654953,-16.8881575731122 0.00346592649802561,-16.9441272743669 Q0.000399281055259889,-16.9770646144295 2.49345880547808e-05,-16.9979165809901 Q0.000120167169769384,-16.9926119052863 -0.00120639179482519,-16.9723446290242 Q-0.00426775812446953,-16.9255728240776 -0.0129503651544767,-16.86557788734 Q-0.0227183511665687,-16.7980832165775 -0.0385454062196693,-16.7222898015959 Q-0.06004549711036,-16.6193290609179 -0.0915669504606278,-16.5067117118991 Q-0.132286979305915,-16.3612304217578 -0.188273154562518,-16.204902779091 Q-0.258831712369531,-16.0078853375281 -0.351810097949509,-15.7987840090959 Q-0.440000005976105,-15.6004516030464 -0.547194072845051,-15.3939437422104 Q-0.651340977758142,-15.193306195987 -0.772699085783482,-14.9863772240217 Q-0.910246809839973,-14.7518431694101 -1.0692413762151,-14.5103646821128 Q-1.22417112561029,-14.2750597759499 -1.39908931791318,-14.0337431312646 Q-1.76797104341055,-13.5248349433239 -2.22583196061482,-12.9891937151164 Q-2.65281454964278,-12.4896763511826 -3.16250584273345,-11.960865339223 Q-3.75455354091074,-11.3466085397729 -4.48484292020919,-10.6660006846297 Q-5.15417223354364,-10.0422057873649 -6.03462845747207,-9.27588577364818 Q-6.5518613566613,-8.82570334364281 -7.72688839874177,-7.82524124839609 Q-9.00011940672614,-6.74116461325269 -9.66659027493077,-6.1518575057301 Q-10.6800142168527,-5.25576742827941 -11.4416925502921,-4.5083632999628 Q-11.9256928826451,-4.03343335824615 -12.3453337586718,-3.58350021932445 Q-12.8421226311087,-3.05085006647637 -13.2630306985554,-2.53794032909005 Q-13.5888635034756,-2.14088731127246 -13.8734126595931,-1.7506997108797 Q-14.1158142868982,-1.41830684568896 -14.3296155195759,-1.08906603538983 Q-14.6222670714185,-0.638400560466284 -14.8629035091692,-0.191196762642277 Q-14.9849831812171,0.035678657752151 -15.093879517273,0.262018849814471 Q-15.1989501677438,0.48040738398381 -15.2918143665365,0.698434979814885 Q-15.4099383650006,0.975767813457227 -15.5083731080758,1.25265889367945 Q-15.596037025423,1.49925228146578 -15.6680979222918,1.74552862415746 Q-15.7452025309944,2.00904242791343 -15.8044279558644,2.27213565719569 Q-15.8673099421169,2.55147218982739 -15.9099982659839,2.83015436556823 Q-15.9467996846554,3.07040505935725 -15.9685614040832,3.30996314026493 Q-15.9881495049069,3.52559352082962 -15.9955342067788,3.74046434121497 Q-16.0051232678424,4.01947484877545 -15.9941254637899,4.2967472393645 Q-15.9844330208493,4.54110936947305 -15.958768035937,4.78366431573383 Q-15.9275621653641,5.07858513044192 -15.8728386332033,5.37000215623899 Q-15.8278093231867,5.60979493058336 -15.7669750538715,5.84656658453498 Q-15.721016172269,6.02544208568407 -15.6661182996239,6.20226632422338 Q-15.6208315317082,6.34813351117917 -15.5695193619767,6.49241673134215 Q-15.4613890101118,6.79646537021361 -15.3269801205853,7.09222815454625 Q-15.2212449367798,7.32489529787583 -15.0996951958763,7.55142914467109 Q-14.9588348202878,7.81395247467492 -14.7974725228564,8.0668861942751 Q-14.6745800019696,8.25951894005113 -14.5402766384116,8.44582208248948 Q-14.3933701098356,8.64960810238759 -14.2334198263091,8.84498132868387 Q-14.0945594532161,9.01459402644063 -13.9463689488664,9.17725000648766 Q-13.7735280755873,9.36696257787514 -13.588753931665,9.54638613301087 Q-13.4189681105967,9.71125538896335 -13.23982095404,9.86674014639278 Q-13.0625216805617,10.0206210957701 -12.8767644199624,10.1646925661538 Q-12.6944389535778,10.3061023713246 -12.5046728111778,10.4375123135825 Q-12.3142699757146,10.5693631553476 -12.1171076375409,10.6906405650386 Q-11.9213331232265,10.811064304174 -11.7196291899761,10.9206103014377 Q-11.509884893371,11.0345230436026 -11.2945462865961,11.1362305693748 Q-11.0736106685721,11.2405816441808 -10.8476757705343,11.3316650627413 Q-10.6451233054253,11.4133220848312 -10.4392342246826,11.4840381672923 Q-10.2480502354789,11.5497035376801 -10.0545178054937,11.605752174849 Q-9.87842747053587,11.6567494330024 -9.70078839955957,11.699669661687 Q-9.51646003889087,11.7442061217657 -9.33086927650686,11.7799481442673 Q-9.13248730736292,11.8181535630821 -8.933139388093,11.846219406851 Q-8.71465712197788,11.8769791417381 -8.49561748097842,11.8954757888015 Q-8.29291726492743,11.9125926647188 -8.09024399409492,11.9191639457214 Q-7.78610008904026,11.9290252118723 -7.4833331334596,11.915111810162 Q-7.17318452623145,11.9008591908364 -6.86609005385436,11.8617329844013 Q-6.59503326929163,11.8271982575912 -6.32749985800465,11.7734249707618 Q-6.065591016902,11.7207822030116 -5.80803820752765,11.6498970887622 Q-5.55929013948285,11.5814352643096 -5.31546652781383,11.4961928265364 Q-5.10668790644988,11.4232023621669 -4.90208243255889,11.3381020157274 Q-4.65361227556304,11.2347572906909 -4.41212777878246,11.1139056578479 Q-4.19936350048537,11.0074271435513 -3.99268182769649,10.8876853593409 Q-3.75270580423463,10.7486543711102 -3.52182577913573,10.5922682144105 Q-3.32874675879168,10.4614864981576 -3.14265200973488,10.3189846901617 Q-2.96546888319985,10.183306945327 -2.79512566366148,10.0373935236474 Q-2.59954871236449,9.869865269557 -2.41370491741605,9.68946420864727 Q-2.19513433610818,9.47729481788262 -1.99121915187079,9.24849308724242 Q-1.80560573104341,9.04022673339448 -1.63321108031305,8.8193835024801 Q-1.48460042648279,8.62900835568098 -1.34656919353414,8.43025073001946 Q-1.22862003028138,8.26041021540489 -1.11890397474925,8.08517660112203 Q-0.95801857573265,7.82821758251459 -0.816175270753006,7.56186513162384 Q-0.660837400706088,7.27017267275816 -0.530605965747761,6.97155652900988 Q-0.428580116785493,6.73761481140916 -0.343519030901754,6.5029591230879 Q-0.261963346200934,6.27797368901832 -0.197516475528564,6.05656345647983 Q-0.136184858928778,5.84585582472599 -0.0920712402436369,5.64444995400555 Q-0.0534506179297929,5.46812299882186 -0.0298383755424187,5.30751615628668 Q-0.0115789781484796,5.18331854244193 -0.00400653952455051,5.08123174112462 Z\" fill=\"none\" id=\"b2196e067c824a4c9367ce2de18718f2\" stroke=\"red\" stroke-width=\".5\" transform=\"scale(1.25 -1.25)\"></path></clipPath><g style=\"clip-path: url(#clipid1)\"><rect fill=\"blue\" height=\"24.333333333333332%\" width=\"50\" x=\"-25\" y=\"-31.5%\"></rect><rect fill=\"red\" height=\"24.333333333333332%\" width=\"50\" x=\"-25\" y=\"-7.166666666666668%\"></rect><rect fill=\"black\" height=\"24.333333333333332%\" width=\"50\" x=\"-25\" y=\"17.166666666666664%\"></rect></g><text fill=\"yellow\" font-family=\"Minion Pro\" text-anchor=\"middle\" y=\"5\">π</text></svg>"
      ]
     },
     "execution_count": 1293,
     "metadata": {},
     "output_type": "execute_result"
    }
   ],
   "source": [
    "svg(\n",
    "    clipPath(\n",
    "        gen_heart(),\n",
    "        **{\"id\":\"clipid1\", \"stroke\": \"black\"}),\n",
    "    flag([\"blue\", \"red\", \"black\"], clipid=\"clipid1\", base_y=-12), \n",
    "    text(\"π\", y=\"5\", fill=\"yellow\", **{'text-anchor': \"middle\", \"font-family\": \"Minion Pro\"}),\n",
    "#     grid(),\n",
    "    x = f\"{0}\",\n",
    "    y = f\"{0}\",\n",
    "    height=\"100\",\n",
    "    viewBox=\"-25 -25 50 50\"\n",
    ")"
   ]
  },
  {
   "cell_type": "code",
   "execution_count": 1271,
   "metadata": {},
   "outputs": [
    {
     "name": "stdout",
     "output_type": "stream",
     "text": [
      "> \u001b[0;32m/Users/mpacer/jupyter/vdom/vdom/core.py\u001b[0m(134)\u001b[0;36m__init__\u001b[0;34m()\u001b[0m\n",
      "\u001b[0;32m    132 \u001b[0;31m        \u001b[0;31m# Validate that all children are VDOMs or strings\u001b[0m\u001b[0;34m\u001b[0m\u001b[0;34m\u001b[0m\u001b[0m\n",
      "\u001b[0m\u001b[0;32m    133 \u001b[0;31m        \u001b[0;32mif\u001b[0m \u001b[0;32mnot\u001b[0m \u001b[0mall\u001b[0m\u001b[0;34m(\u001b[0m\u001b[0misinstance\u001b[0m\u001b[0;34m(\u001b[0m\u001b[0mc\u001b[0m\u001b[0;34m,\u001b[0m \u001b[0;34m(\u001b[0m\u001b[0mVDOM\u001b[0m\u001b[0;34m,\u001b[0m \u001b[0mstring_types\u001b[0m\u001b[0;34m[\u001b[0m\u001b[0;34m:\u001b[0m\u001b[0;34m]\u001b[0m\u001b[0;34m)\u001b[0m\u001b[0;34m)\u001b[0m \u001b[0;32mfor\u001b[0m \u001b[0mc\u001b[0m \u001b[0;32min\u001b[0m \u001b[0mself\u001b[0m\u001b[0;34m.\u001b[0m\u001b[0mchildren\u001b[0m\u001b[0;34m)\u001b[0m\u001b[0;34m:\u001b[0m\u001b[0;34m\u001b[0m\u001b[0m\n",
      "\u001b[0m\u001b[0;32m--> 134 \u001b[0;31m            \u001b[0;32mraise\u001b[0m \u001b[0mValueError\u001b[0m\u001b[0;34m(\u001b[0m\u001b[0;34m'Children must be a list of VDOM objects or strings'\u001b[0m\u001b[0;34m)\u001b[0m\u001b[0;34m\u001b[0m\u001b[0m\n",
      "\u001b[0m\u001b[0;32m    135 \u001b[0;31m\u001b[0;34m\u001b[0m\u001b[0m\n",
      "\u001b[0m\u001b[0;32m    136 \u001b[0;31m        \u001b[0;31m# All style keys & values must be strings\u001b[0m\u001b[0;34m\u001b[0m\u001b[0;34m\u001b[0m\u001b[0m\n",
      "\u001b[0m\n",
      "ipdb> ll\n",
      "\u001b[1;32m    113 \u001b[0m    \u001b[0;32mdef\u001b[0m \u001b[0m__init__\u001b[0m\u001b[0;34m(\u001b[0m\u001b[0mself\u001b[0m\u001b[0;34m,\u001b[0m \u001b[0mtag_name\u001b[0m\u001b[0;34m,\u001b[0m \u001b[0mattributes\u001b[0m\u001b[0;34m=\u001b[0m\u001b[0;32mNone\u001b[0m\u001b[0;34m,\u001b[0m \u001b[0mstyle\u001b[0m\u001b[0;34m=\u001b[0m\u001b[0;32mNone\u001b[0m\u001b[0;34m,\u001b[0m \u001b[0mchildren\u001b[0m\u001b[0;34m=\u001b[0m\u001b[0;32mNone\u001b[0m\u001b[0;34m,\u001b[0m \u001b[0mkey\u001b[0m\u001b[0;34m=\u001b[0m\u001b[0;32mNone\u001b[0m\u001b[0;34m,\u001b[0m \u001b[0mschema\u001b[0m\u001b[0;34m=\u001b[0m\u001b[0;32mNone\u001b[0m\u001b[0;34m)\u001b[0m\u001b[0;34m:\u001b[0m\u001b[0;34m\u001b[0m\u001b[0m\n",
      "\u001b[1;32m    114 \u001b[0m        \u001b[0;32mif\u001b[0m \u001b[0misinstance\u001b[0m\u001b[0;34m(\u001b[0m\u001b[0mtag_name\u001b[0m\u001b[0;34m,\u001b[0m \u001b[0mdict\u001b[0m\u001b[0;34m)\u001b[0m \u001b[0;32mor\u001b[0m \u001b[0misinstance\u001b[0m\u001b[0;34m(\u001b[0m\u001b[0mtag_name\u001b[0m\u001b[0;34m,\u001b[0m \u001b[0mlist\u001b[0m\u001b[0;34m)\u001b[0m\u001b[0;34m:\u001b[0m\u001b[0;34m\u001b[0m\u001b[0m\n",
      "\u001b[1;32m    115 \u001b[0m            \u001b[0;31m# Backwards compatible interface\u001b[0m\u001b[0;34m\u001b[0m\u001b[0;34m\u001b[0m\u001b[0m\n",
      "\u001b[1;32m    116 \u001b[0m            \u001b[0mwarnings\u001b[0m\u001b[0;34m.\u001b[0m\u001b[0mwarn\u001b[0m\u001b[0;34m(\u001b[0m\u001b[0;34m'Passing dict to VDOM constructor is deprecated'\u001b[0m\u001b[0;34m)\u001b[0m\u001b[0;34m\u001b[0m\u001b[0m\n",
      "\u001b[1;32m    117 \u001b[0m            \u001b[0mvalue\u001b[0m \u001b[0;34m=\u001b[0m \u001b[0mtag_name\u001b[0m\u001b[0;34m\u001b[0m\u001b[0m\n",
      "\u001b[1;32m    118 \u001b[0m            \u001b[0mvdom_obj\u001b[0m \u001b[0;34m=\u001b[0m \u001b[0mVDOM\u001b[0m\u001b[0;34m.\u001b[0m\u001b[0mfrom_dict\u001b[0m\u001b[0;34m(\u001b[0m\u001b[0mvalue\u001b[0m\u001b[0;34m)\u001b[0m\u001b[0;34m\u001b[0m\u001b[0m\n",
      "\u001b[1;32m    119 \u001b[0m            \u001b[0mtag_name\u001b[0m \u001b[0;34m=\u001b[0m \u001b[0mvdom_obj\u001b[0m\u001b[0;34m.\u001b[0m\u001b[0mtag_name\u001b[0m\u001b[0;34m\u001b[0m\u001b[0m\n",
      "\u001b[1;32m    120 \u001b[0m            \u001b[0mstyle\u001b[0m \u001b[0;34m=\u001b[0m \u001b[0mvdom_obj\u001b[0m\u001b[0;34m.\u001b[0m\u001b[0mstyle\u001b[0m\u001b[0;34m\u001b[0m\u001b[0m\n",
      "\u001b[1;32m    121 \u001b[0m            \u001b[0mattributes\u001b[0m \u001b[0;34m=\u001b[0m \u001b[0mvdom_obj\u001b[0m\u001b[0;34m.\u001b[0m\u001b[0mattributes\u001b[0m\u001b[0;34m\u001b[0m\u001b[0m\n",
      "\u001b[1;32m    122 \u001b[0m            \u001b[0mchildren\u001b[0m \u001b[0;34m=\u001b[0m \u001b[0mvdom_obj\u001b[0m\u001b[0;34m.\u001b[0m\u001b[0mchildren\u001b[0m\u001b[0;34m\u001b[0m\u001b[0m\n",
      "\u001b[1;32m    123 \u001b[0m            \u001b[0mkey\u001b[0m \u001b[0;34m=\u001b[0m \u001b[0mvdom_obj\u001b[0m\u001b[0;34m.\u001b[0m\u001b[0mkey\u001b[0m\u001b[0;34m\u001b[0m\u001b[0m\n",
      "\u001b[1;32m    124 \u001b[0m        \u001b[0mself\u001b[0m\u001b[0;34m.\u001b[0m\u001b[0mtag_name\u001b[0m \u001b[0;34m=\u001b[0m \u001b[0mtag_name\u001b[0m\u001b[0;34m\u001b[0m\u001b[0m\n",
      "\u001b[1;32m    125 \u001b[0m        \u001b[0;31m# Sort attributes so our outputs are predictable\u001b[0m\u001b[0;34m\u001b[0m\u001b[0;34m\u001b[0m\u001b[0m\n",
      "\u001b[1;32m    126 \u001b[0m        \u001b[0mself\u001b[0m\u001b[0;34m.\u001b[0m\u001b[0mattributes\u001b[0m \u001b[0;34m=\u001b[0m \u001b[0mFrozenDict\u001b[0m\u001b[0;34m(\u001b[0m\u001b[0msorted\u001b[0m\u001b[0;34m(\u001b[0m\u001b[0mattributes\u001b[0m\u001b[0;34m.\u001b[0m\u001b[0mitems\u001b[0m\u001b[0;34m(\u001b[0m\u001b[0;34m)\u001b[0m\u001b[0;34m)\u001b[0m\u001b[0;34m)\u001b[0m \u001b[0;32mif\u001b[0m \u001b[0mattributes\u001b[0m \u001b[0;32melse\u001b[0m \u001b[0mFrozenDict\u001b[0m\u001b[0;34m(\u001b[0m\u001b[0;34m)\u001b[0m\u001b[0;34m\u001b[0m\u001b[0m\n",
      "\u001b[1;32m    127 \u001b[0m        \u001b[0mself\u001b[0m\u001b[0;34m.\u001b[0m\u001b[0mchildren\u001b[0m \u001b[0;34m=\u001b[0m \u001b[0mtuple\u001b[0m\u001b[0;34m(\u001b[0m\u001b[0mchildren\u001b[0m\u001b[0;34m)\u001b[0m \u001b[0;32mif\u001b[0m \u001b[0mchildren\u001b[0m \u001b[0;32melse\u001b[0m \u001b[0mtuple\u001b[0m\u001b[0;34m(\u001b[0m\u001b[0;34m)\u001b[0m\u001b[0;34m\u001b[0m\u001b[0m\n",
      "\u001b[1;32m    128 \u001b[0m        \u001b[0mself\u001b[0m\u001b[0;34m.\u001b[0m\u001b[0mkey\u001b[0m \u001b[0;34m=\u001b[0m \u001b[0mkey\u001b[0m\u001b[0;34m\u001b[0m\u001b[0m\n",
      "\u001b[1;32m    129 \u001b[0m        \u001b[0;31m# Sort attributes so our outputs are predictable\u001b[0m\u001b[0;34m\u001b[0m\u001b[0;34m\u001b[0m\u001b[0m\n",
      "\u001b[1;32m    130 \u001b[0m        \u001b[0mself\u001b[0m\u001b[0;34m.\u001b[0m\u001b[0mstyle\u001b[0m \u001b[0;34m=\u001b[0m \u001b[0mFrozenDict\u001b[0m\u001b[0;34m(\u001b[0m\u001b[0msorted\u001b[0m\u001b[0;34m(\u001b[0m\u001b[0mstyle\u001b[0m\u001b[0;34m.\u001b[0m\u001b[0mitems\u001b[0m\u001b[0;34m(\u001b[0m\u001b[0;34m)\u001b[0m\u001b[0;34m)\u001b[0m\u001b[0;34m)\u001b[0m \u001b[0;32mif\u001b[0m \u001b[0mstyle\u001b[0m \u001b[0;32melse\u001b[0m \u001b[0mFrozenDict\u001b[0m\u001b[0;34m(\u001b[0m\u001b[0;34m)\u001b[0m\u001b[0;34m\u001b[0m\u001b[0m\n",
      "\u001b[1;32m    131 \u001b[0m\u001b[0;34m\u001b[0m\u001b[0m\n",
      "\u001b[1;32m    132 \u001b[0m        \u001b[0;31m# Validate that all children are VDOMs or strings\u001b[0m\u001b[0;34m\u001b[0m\u001b[0;34m\u001b[0m\u001b[0m\n",
      "\u001b[1;32m    133 \u001b[0m        \u001b[0;32mif\u001b[0m \u001b[0;32mnot\u001b[0m \u001b[0mall\u001b[0m\u001b[0;34m(\u001b[0m\u001b[0misinstance\u001b[0m\u001b[0;34m(\u001b[0m\u001b[0mc\u001b[0m\u001b[0;34m,\u001b[0m \u001b[0;34m(\u001b[0m\u001b[0mVDOM\u001b[0m\u001b[0;34m,\u001b[0m \u001b[0mstring_types\u001b[0m\u001b[0;34m[\u001b[0m\u001b[0;34m:\u001b[0m\u001b[0;34m]\u001b[0m\u001b[0;34m)\u001b[0m\u001b[0;34m)\u001b[0m \u001b[0;32mfor\u001b[0m \u001b[0mc\u001b[0m \u001b[0;32min\u001b[0m \u001b[0mself\u001b[0m\u001b[0;34m.\u001b[0m\u001b[0mchildren\u001b[0m\u001b[0;34m)\u001b[0m\u001b[0;34m:\u001b[0m\u001b[0;34m\u001b[0m\u001b[0m\n",
      "\u001b[0;32m--> 134 \u001b[0;31m            \u001b[0;32mraise\u001b[0m \u001b[0mValueError\u001b[0m\u001b[0;34m(\u001b[0m\u001b[0;34m'Children must be a list of VDOM objects or strings'\u001b[0m\u001b[0;34m)\u001b[0m\u001b[0;34m\u001b[0m\u001b[0m\n",
      "\u001b[0m\u001b[1;32m    135 \u001b[0m\u001b[0;34m\u001b[0m\u001b[0m\n",
      "\u001b[1;32m    136 \u001b[0m        \u001b[0;31m# All style keys & values must be strings\u001b[0m\u001b[0;34m\u001b[0m\u001b[0;34m\u001b[0m\u001b[0m\n",
      "\u001b[1;32m    137 \u001b[0m        if not all(\n",
      "\u001b[1;32m    138 \u001b[0m            \u001b[0misinstance\u001b[0m\u001b[0;34m(\u001b[0m\u001b[0mk\u001b[0m\u001b[0;34m,\u001b[0m \u001b[0mstring_types\u001b[0m\u001b[0;34m)\u001b[0m \u001b[0;32mand\u001b[0m \u001b[0misinstance\u001b[0m\u001b[0;34m(\u001b[0m\u001b[0mv\u001b[0m\u001b[0;34m,\u001b[0m \u001b[0mstring_types\u001b[0m\u001b[0;34m)\u001b[0m\u001b[0;34m\u001b[0m\u001b[0m\n",
      "\u001b[1;32m    139 \u001b[0m            \u001b[0;32mfor\u001b[0m \u001b[0mk\u001b[0m\u001b[0;34m,\u001b[0m \u001b[0mv\u001b[0m \u001b[0;32min\u001b[0m \u001b[0mself\u001b[0m\u001b[0;34m.\u001b[0m\u001b[0mstyle\u001b[0m\u001b[0;34m.\u001b[0m\u001b[0mitems\u001b[0m\u001b[0;34m(\u001b[0m\u001b[0;34m)\u001b[0m\u001b[0;34m\u001b[0m\u001b[0m\n",
      "\u001b[1;32m    140 \u001b[0m        ):\n",
      "\u001b[1;32m    141 \u001b[0m            \u001b[0;32mraise\u001b[0m \u001b[0mValueError\u001b[0m\u001b[0;34m(\u001b[0m\u001b[0;34m'Style must be a dict with string keys & values'\u001b[0m\u001b[0;34m)\u001b[0m\u001b[0;34m\u001b[0m\u001b[0m\n",
      "\u001b[1;32m    142 \u001b[0m\u001b[0;34m\u001b[0m\u001b[0m\n",
      "\u001b[1;32m    143 \u001b[0m        \u001b[0;31m# mark completion of object creation. Object is immutable from now.\u001b[0m\u001b[0;34m\u001b[0m\u001b[0;34m\u001b[0m\u001b[0m\n",
      "\u001b[1;32m    144 \u001b[0m        \u001b[0mself\u001b[0m\u001b[0;34m.\u001b[0m\u001b[0m_frozen\u001b[0m \u001b[0;34m=\u001b[0m \u001b[0;32mTrue\u001b[0m\u001b[0;34m\u001b[0m\u001b[0m\n",
      "\u001b[1;32m    145 \u001b[0m\u001b[0;34m\u001b[0m\u001b[0m\n",
      "\u001b[1;32m    146 \u001b[0m        \u001b[0;32mif\u001b[0m \u001b[0mschema\u001b[0m \u001b[0;32mis\u001b[0m \u001b[0;32mnot\u001b[0m \u001b[0;32mNone\u001b[0m\u001b[0;34m:\u001b[0m\u001b[0;34m\u001b[0m\u001b[0m\n",
      "\u001b[1;32m    147 \u001b[0m            \u001b[0mself\u001b[0m\u001b[0;34m.\u001b[0m\u001b[0mvalidate\u001b[0m\u001b[0;34m(\u001b[0m\u001b[0mschema\u001b[0m\u001b[0;34m)\u001b[0m\u001b[0;34m\u001b[0m\u001b[0m\n",
      "\u001b[1;32m    148 \u001b[0m\u001b[0;34m\u001b[0m\u001b[0m\n",
      "\n",
      "ipdb> (c)\n",
      "*** NameError: name 'c' is not defined\n",
      "ipdb> u\n",
      "> \u001b[0;32m/Users/mpacer/jupyter/vdom/vdom/core.py\u001b[0m(311)\u001b[0;36m_component\u001b[0;34m()\u001b[0m\n",
      "\u001b[0;32m    309 \u001b[0;31m            \u001b[0;32mraise\u001b[0m \u001b[0mValueError\u001b[0m\u001b[0;34m(\u001b[0m\u001b[0;34m'<{tag_name} /> cannot have children'\u001b[0m\u001b[0;34m.\u001b[0m\u001b[0mformat\u001b[0m\u001b[0;34m(\u001b[0m\u001b[0mtag_name\u001b[0m\u001b[0;34m=\u001b[0m\u001b[0mtag_name\u001b[0m\u001b[0;34m)\u001b[0m\u001b[0;34m)\u001b[0m\u001b[0;34m\u001b[0m\u001b[0m\n",
      "\u001b[0m\u001b[0;32m    310 \u001b[0;31m\u001b[0;34m\u001b[0m\u001b[0m\n",
      "\u001b[0m\u001b[0;32m--> 311 \u001b[0;31m        \u001b[0mv\u001b[0m \u001b[0;34m=\u001b[0m \u001b[0mVDOM\u001b[0m\u001b[0;34m(\u001b[0m\u001b[0mtag_name\u001b[0m\u001b[0;34m,\u001b[0m \u001b[0mattributes\u001b[0m\u001b[0;34m,\u001b[0m \u001b[0mstyle\u001b[0m\u001b[0;34m,\u001b[0m \u001b[0mchildren\u001b[0m\u001b[0;34m)\u001b[0m\u001b[0;34m\u001b[0m\u001b[0m\n",
      "\u001b[0m\u001b[0;32m    312 \u001b[0;31m        \u001b[0;32mreturn\u001b[0m \u001b[0mv\u001b[0m\u001b[0;34m\u001b[0m\u001b[0m\n",
      "\u001b[0m\u001b[0;32m    313 \u001b[0;31m    \u001b[0;32mreturn\u001b[0m \u001b[0m_component\u001b[0m\u001b[0;34m\u001b[0m\u001b[0m\n",
      "\u001b[0m\n",
      "ipdb> tag_name\n",
      "'g'\n",
      "ipdb> attributes\n",
      "{}\n",
      "ipdb> exit\n"
     ]
    }
   ],
   "source": [
    "%debug"
   ]
  },
  {
   "cell_type": "code",
   "execution_count": 1063,
   "metadata": {},
   "outputs": [
    {
     "data": {
      "application/vdom.v1+json": {
       "attributes": {
        "style": {
         "transform": "scaleY(-1)"
        },
        "viewBox": "-25 -25 50 50"
       },
       "children": [
        {
         "attributes": {
          "id": "clipid",
          "stroke": "black"
         },
         "children": [
          {
           "attributes": {
            "d": "M0.0,5.0 Q2.26480878769362e-09,5.01935203545116 0.00240468499265089,5.05784209373124 Q0.00617678614768245,5.11821945317385 0.0144892681784808,5.19071052417724 Q0.0249796452381706,5.28219447150715 0.0416669391001586,5.38322902221801 Q0.0625689845764014,5.50978212250472 0.0921242540272451,5.64469196933818 Q0.129325564905271,5.81450341906648 0.178888071354544,5.99135494886849 Q0.227032997926876,6.16314819595208 0.285852572783466,6.33796304924934 Q0.345659522697073,6.51571243286517 0.415701700411068,6.69417844133358 Q0.487743067528425,6.87773834271958 0.569888188951648,7.06019887319993 Q0.692043825721294,7.33153065651206 0.834806300015498,7.59665683949396 Q0.918421740467044,7.75194024064588 1.00862101667763,7.90415568501767 Q1.12167926629051,8.09494670272544 1.24449884261148,8.27994312284276 Q1.44189780344349,8.57727439675439 1.66250874377508,8.85670281234556 Q1.80054060640138,9.03153559541965 1.94694688614682,9.19842404729501 Q2.08999423977703,9.36148366081515 2.24054566891579,9.51639833059041 Q2.48490085256662,9.76783534981824 2.74741879975013,9.99621086079807 Q3.01662696842382,10.2304064795754 3.30291999709097,10.4385942042024 Q3.46972317871875,10.5598908176942 3.64179542494331,10.6719572214367 Q3.79857226878001,10.7740621074039 3.95941554482475,10.8683033405894 Q4.13334243392154,10.9702105195257 4.31166833497306,11.0627149706127 Q4.47604708828145,11.1479845038409 4.64386151028959,11.2251070150907 Q4.80544594869858,11.299366411392 4.96995032351617,11.3659501831024 Q5.16725965014621,11.4458118838945 5.36835311845226,11.5144650549576 Q5.56561833961004,11.5818112650908 5.7660857806164,11.6382214352365 Q5.93594304380552,11.6860181101922 6.10780540394526,11.7258795037075 Q6.3802811445957,11.7890769525997 6.65689783599178,11.8321328272072 Q6.88756600251257,11.8680367330906 7.12039035026157,11.8898178268749 Q7.33575429714658,11.9099654719568 7.5524023719199,11.9179755377665 Q7.78903411552322,11.9267244539104 8.02650188595541,11.9209696911957 Q8.31148267851657,11.9140635041521 8.59647282523938,11.8863060110558 Q8.84172783653293,11.8624186438571 9.08605624824551,11.8231757557194 Q9.29602775102361,11.7894511138005 9.5047004646898,11.7444820539865 Q9.73546771599974,11.6947516117789 9.96389320433066,11.631434414029 Q10.2137994798527,11.5621629628359 10.4598847954114,11.4769149350853 Q10.7426952738113,11.3789447028671 11.0189146985215,11.2604175545564 Q11.2783606307036,11.14908799649 11.5305552606758,11.0202359184706 Q11.8305962880828,10.8669380077389 12.1182124982183,10.6899608334626 Q12.3086605446971,10.5727735681955 12.4928101128895,10.4457122376404 Q12.7138340887796,10.2932079405257 12.9247407405014,10.1272078034175 Q13.1164494580624,9.97631795172166 13.2989309836935,9.81495653041487 Q13.4993501715355,9.63773352169933 13.6876496499027,9.44875874377583 Q13.8259025844505,9.31000999189398 13.9571663998683,9.16537567684822 Q14.0895559130142,9.01950100078341 14.2144709921875,8.86804150073268 Q14.3647042289743,8.68588374135466 14.50359102542,8.496302620215 Q14.6242491373507,8.33160373796121 14.7359701511584,8.16180777241553 Q14.8556947497797,7.9798477889744 14.9647911861361,7.79259020255814 Q15.0815966885041,7.5921004598673 15.1858302302757,7.38620717426887 Q15.2838990649354,7.19249108020058 15.3705462405702,6.99456656547992 Q15.4710479022511,6.76499482847765 15.555848418953,6.53053381443338 Q15.6293410875024,6.32733734508333 15.6908398354807,6.12101489646327 Q15.7582996840502,5.89469352248478 15.811151998362,5.66520400901477 Q15.858001700426,5.46177837907041 15.8932743283624,5.25628456535619 Q15.9234569772515,5.08044431780161 15.9451194504346,4.90333416558016 Q15.9730560934491,4.67492704627213 15.9867773968648,4.44479362169134 Q16.0034165941822,4.16572133934909 15.9991176647554,3.88472444785707 Q15.9950908430473,3.62151371089842 15.9726972179107,3.35708697651958 Q15.9526619394994,3.12050789606779 15.9179459679384,2.88322942110747 Q15.882312030686,2.63967678789829 15.83124032874,2.39559405324708 Q15.7875158480249,2.1866252815493 15.7324953373768,1.97736550244011 Q15.6648912559291,1.72024656653811 15.5802540161198,1.46276838245011 Q15.4968741501039,1.20911530326591 15.3969639315714,0.955118442554341 Q15.3045821236361,0.720260691795003 15.1980404233408,0.485042552463534 Q15.0759331774567,0.215459477516022 14.935136668034,-0.0547900505028633 Q14.7784251600096,-0.355587358989756 14.5983261379963,-0.657651595836769 Q14.4326365303214,-0.935548190367364 14.2468180712942,-1.21507534194023 Q13.9287667177733,-1.69352075241799 13.5495204141351,-2.17993676735823 Q13.228806301099,-2.59128021171493 12.8611063340419,-3.0124517446707 Q12.1591087582907,-3.81653502342836 11.2483797084418,-4.69658759121086 Q10.4733210891135,-5.44553957449827 9.42454171069957,-6.36494199823616 Q8.84072932123853,-6.87673555265406 7.788610883906,-7.77268471082305 Q6.43199730758967,-8.92793182800395 5.86781215340663,-9.42143310902599 Q4.99911290579133,-10.1812974697638 4.33114177564245,-10.8099404645036 Q3.70609091742599,-11.3981902041088 3.18523060681885,-11.9373159451196 Q2.65398052055043,-12.4871958084704 2.2119638126538,-13.0054355175612 Q1.84652002656313,-13.4338977860892 1.53818480616621,-13.8451114872961 Q1.35658899707246,-14.0872981719213 1.19468144267213,-14.3236430665681 Q1.01229440141544,-14.5898829354267 0.855250034700979,-14.8481696259238 Q0.710327112506176,-15.0865204992088 0.587635439099838,-15.317016364333 Q0.482522452421447,-15.5144878644567 0.394395445017321,-15.7049318068687 Q0.31840843950407,-15.869141001397 0.255658210448299,-16.0268054813404 Q0.189432844334108,-16.1932014939857 0.138853346014398,-16.3499815211115 Q0.0926197731189966,-16.4932905900716 0.0605744460923479,-16.625013082467 Q0.0353801389730772,-16.7285744199802 0.0199590858880895,-16.820733667613 Q0.00867700999654953,-16.8881575731122 0.00346592649802561,-16.9441272743669 Q0.000399281055259889,-16.9770646144295 2.49345880547808e-05,-16.9979165809901 Q0.000120167169769384,-16.9926119052863 -0.00120639179482519,-16.9723446290242 Q-0.00426775812446953,-16.9255728240776 -0.0129503651544767,-16.86557788734 Q-0.0227183511665687,-16.7980832165775 -0.0385454062196693,-16.7222898015959 Q-0.06004549711036,-16.6193290609179 -0.0915669504606278,-16.5067117118991 Q-0.132286979305915,-16.3612304217578 -0.188273154562518,-16.204902779091 Q-0.258831712369531,-16.0078853375281 -0.351810097949509,-15.7987840090959 Q-0.440000005976105,-15.6004516030464 -0.547194072845051,-15.3939437422104 Q-0.651340977758142,-15.193306195987 -0.772699085783482,-14.9863772240217 Q-0.910246809839973,-14.7518431694101 -1.0692413762151,-14.5103646821128 Q-1.22417112561029,-14.2750597759499 -1.39908931791318,-14.0337431312646 Q-1.76797104341055,-13.5248349433239 -2.22583196061482,-12.9891937151164 Q-2.65281454964278,-12.4896763511826 -3.16250584273345,-11.960865339223 Q-3.75455354091074,-11.3466085397729 -4.48484292020919,-10.6660006846297 Q-5.15417223354364,-10.0422057873649 -6.03462845747207,-9.27588577364818 Q-6.5518613566613,-8.82570334364281 -7.72688839874177,-7.82524124839609 Q-9.00011940672614,-6.74116461325269 -9.66659027493077,-6.1518575057301 Q-10.6800142168527,-5.25576742827941 -11.4416925502921,-4.5083632999628 Q-11.9256928826451,-4.03343335824615 -12.3453337586718,-3.58350021932445 Q-12.8421226311087,-3.05085006647637 -13.2630306985554,-2.53794032909005 Q-13.5888635034756,-2.14088731127246 -13.8734126595931,-1.7506997108797 Q-14.1158142868982,-1.41830684568896 -14.3296155195759,-1.08906603538983 Q-14.6222670714185,-0.638400560466284 -14.8629035091692,-0.191196762642277 Q-14.9849831812171,0.035678657752151 -15.093879517273,0.262018849814471 Q-15.1989501677438,0.48040738398381 -15.2918143665365,0.698434979814885 Q-15.4099383650006,0.975767813457227 -15.5083731080758,1.25265889367945 Q-15.596037025423,1.49925228146578 -15.6680979222918,1.74552862415746 Q-15.7452025309944,2.00904242791343 -15.8044279558644,2.27213565719569 Q-15.8673099421169,2.55147218982739 -15.9099982659839,2.83015436556823 Q-15.9467996846554,3.07040505935725 -15.9685614040832,3.30996314026493 Q-15.9881495049069,3.52559352082962 -15.9955342067788,3.74046434121497 Q-16.0051232678424,4.01947484877545 -15.9941254637899,4.2967472393645 Q-15.9844330208493,4.54110936947305 -15.958768035937,4.78366431573383 Q-15.9275621653641,5.07858513044192 -15.8728386332033,5.37000215623899 Q-15.8278093231867,5.60979493058336 -15.7669750538715,5.84656658453498 Q-15.721016172269,6.02544208568407 -15.6661182996239,6.20226632422338 Q-15.6208315317082,6.34813351117917 -15.5695193619767,6.49241673134215 Q-15.4613890101118,6.79646537021361 -15.3269801205853,7.09222815454625 Q-15.2212449367798,7.32489529787583 -15.0996951958763,7.55142914467109 Q-14.9588348202878,7.81395247467492 -14.7974725228564,8.0668861942751 Q-14.6745800019696,8.25951894005113 -14.5402766384116,8.44582208248948 Q-14.3933701098356,8.64960810238759 -14.2334198263091,8.84498132868387 Q-14.0945594532161,9.01459402644063 -13.9463689488664,9.17725000648766 Q-13.7735280755873,9.36696257787514 -13.588753931665,9.54638613301087 Q-13.4189681105967,9.71125538896335 -13.23982095404,9.86674014639278 Q-13.0625216805617,10.0206210957701 -12.8767644199624,10.1646925661538 Q-12.6944389535778,10.3061023713246 -12.5046728111778,10.4375123135825 Q-12.3142699757146,10.5693631553476 -12.1171076375409,10.6906405650386 Q-11.9213331232265,10.811064304174 -11.7196291899761,10.9206103014377 Q-11.509884893371,11.0345230436026 -11.2945462865961,11.1362305693748 Q-11.0736106685721,11.2405816441808 -10.8476757705343,11.3316650627413 Q-10.6451233054253,11.4133220848312 -10.4392342246826,11.4840381672923 Q-10.2480502354789,11.5497035376801 -10.0545178054937,11.605752174849 Q-9.87842747053587,11.6567494330024 -9.70078839955957,11.699669661687 Q-9.51646003889087,11.7442061217657 -9.33086927650686,11.7799481442673 Q-9.13248730736292,11.8181535630821 -8.933139388093,11.846219406851 Q-8.71465712197788,11.8769791417381 -8.49561748097842,11.8954757888015 Q-8.29291726492743,11.9125926647188 -8.09024399409492,11.9191639457214 Q-7.78610008904026,11.9290252118723 -7.4833331334596,11.915111810162 Q-7.17318452623145,11.9008591908364 -6.86609005385436,11.8617329844013 Q-6.59503326929163,11.8271982575912 -6.32749985800465,11.7734249707618 Q-6.065591016902,11.7207822030116 -5.80803820752765,11.6498970887622 Q-5.55929013948285,11.5814352643096 -5.31546652781383,11.4961928265364 Q-5.10668790644988,11.4232023621669 -4.90208243255889,11.3381020157274 Q-4.65361227556304,11.2347572906909 -4.41212777878246,11.1139056578479 Q-4.19936350048537,11.0074271435513 -3.99268182769649,10.8876853593409 Q-3.75270580423463,10.7486543711102 -3.52182577913573,10.5922682144105 Q-3.32874675879168,10.4614864981576 -3.14265200973488,10.3189846901617 Q-2.96546888319985,10.183306945327 -2.79512566366148,10.0373935236474 Q-2.59954871236449,9.869865269557 -2.41370491741605,9.68946420864727 Q-2.19513433610818,9.47729481788262 -1.99121915187079,9.24849308724242 Q-1.80560573104341,9.04022673339448 -1.63321108031305,8.8193835024801 Q-1.48460042648279,8.62900835568098 -1.34656919353414,8.43025073001946 Q-1.22862003028138,8.26041021540489 -1.11890397474925,8.08517660112203 Q-0.95801857573265,7.82821758251459 -0.816175270753006,7.56186513162384 Q-0.660837400706088,7.27017267275816 -0.530605965747761,6.97155652900988 Q-0.428580116785493,6.73761481140916 -0.343519030901754,6.5029591230879 Q-0.261963346200934,6.27797368901832 -0.197516475528564,6.05656345647983 Q-0.136184858928778,5.84585582472599 -0.0920712402436369,5.64444995400555 Q-0.0534506179297929,5.46812299882186 -0.0298383755424187,5.30751615628668 Q-0.0115789781484796,5.18331854244193 -0.00400653952455051,5.08123174112462 Z",
            "fill": "none",
            "id": "8c8b9fd7e8ce4ca784160f68c7adf71c",
            "stroke": "red",
            "stroke-width": ".5",
            "transform": "scale(1.25 -1.25)"
           },
           "children": [],
           "tagName": "path"
          }
         ],
         "tagName": "clipPath"
        },
        {
         "attributes": {},
         "children": [
          {
           "attributes": {
            "fill": "lightblue",
            "height": "15.0%",
            "style": {
             "clip-path": "url(#clipid)"
            },
            "width": "50",
            "x": "-25",
            "y": "-32.5%"
           },
           "children": [],
           "tagName": "rect"
          },
          {
           "attributes": {
            "fill": "pink",
            "height": "15.0%",
            "style": {
             "clip-path": "url(#clipid)"
            },
            "width": "50",
            "x": "-25",
            "y": "-17.5%"
           },
           "children": [],
           "tagName": "rect"
          },
          {
           "attributes": {
            "fill": "white",
            "height": "15.0%",
            "style": {
             "clip-path": "url(#clipid)"
            },
            "width": "50",
            "x": "-25",
            "y": "-2.5%"
           },
           "children": [],
           "tagName": "rect"
          },
          {
           "attributes": {
            "fill": "pink",
            "height": "15.0%",
            "style": {
             "clip-path": "url(#clipid)"
            },
            "width": "50",
            "x": "-25",
            "y": "12.5%"
           },
           "children": [],
           "tagName": "rect"
          },
          {
           "attributes": {
            "fill": "lightblue",
            "height": "15.0%",
            "style": {
             "clip-path": "url(#clipid)"
            },
            "width": "50",
            "x": "-25",
            "y": "27.5%"
           },
           "children": [],
           "tagName": "rect"
          }
         ],
         "tagName": "g"
        }
       ],
       "tagName": "svg"
      },
      "text/html": [
       "<svg style=\"transform: scaleY(-1)\" viewBox=\"-25 -25 50 50\"><clipPath id=\"clipid\" stroke=\"black\"><path d=\"M0.0,5.0 Q2.26480878769362e-09,5.01935203545116 0.00240468499265089,5.05784209373124 Q0.00617678614768245,5.11821945317385 0.0144892681784808,5.19071052417724 Q0.0249796452381706,5.28219447150715 0.0416669391001586,5.38322902221801 Q0.0625689845764014,5.50978212250472 0.0921242540272451,5.64469196933818 Q0.129325564905271,5.81450341906648 0.178888071354544,5.99135494886849 Q0.227032997926876,6.16314819595208 0.285852572783466,6.33796304924934 Q0.345659522697073,6.51571243286517 0.415701700411068,6.69417844133358 Q0.487743067528425,6.87773834271958 0.569888188951648,7.06019887319993 Q0.692043825721294,7.33153065651206 0.834806300015498,7.59665683949396 Q0.918421740467044,7.75194024064588 1.00862101667763,7.90415568501767 Q1.12167926629051,8.09494670272544 1.24449884261148,8.27994312284276 Q1.44189780344349,8.57727439675439 1.66250874377508,8.85670281234556 Q1.80054060640138,9.03153559541965 1.94694688614682,9.19842404729501 Q2.08999423977703,9.36148366081515 2.24054566891579,9.51639833059041 Q2.48490085256662,9.76783534981824 2.74741879975013,9.99621086079807 Q3.01662696842382,10.2304064795754 3.30291999709097,10.4385942042024 Q3.46972317871875,10.5598908176942 3.64179542494331,10.6719572214367 Q3.79857226878001,10.7740621074039 3.95941554482475,10.8683033405894 Q4.13334243392154,10.9702105195257 4.31166833497306,11.0627149706127 Q4.47604708828145,11.1479845038409 4.64386151028959,11.2251070150907 Q4.80544594869858,11.299366411392 4.96995032351617,11.3659501831024 Q5.16725965014621,11.4458118838945 5.36835311845226,11.5144650549576 Q5.56561833961004,11.5818112650908 5.7660857806164,11.6382214352365 Q5.93594304380552,11.6860181101922 6.10780540394526,11.7258795037075 Q6.3802811445957,11.7890769525997 6.65689783599178,11.8321328272072 Q6.88756600251257,11.8680367330906 7.12039035026157,11.8898178268749 Q7.33575429714658,11.9099654719568 7.5524023719199,11.9179755377665 Q7.78903411552322,11.9267244539104 8.02650188595541,11.9209696911957 Q8.31148267851657,11.9140635041521 8.59647282523938,11.8863060110558 Q8.84172783653293,11.8624186438571 9.08605624824551,11.8231757557194 Q9.29602775102361,11.7894511138005 9.5047004646898,11.7444820539865 Q9.73546771599974,11.6947516117789 9.96389320433066,11.631434414029 Q10.2137994798527,11.5621629628359 10.4598847954114,11.4769149350853 Q10.7426952738113,11.3789447028671 11.0189146985215,11.2604175545564 Q11.2783606307036,11.14908799649 11.5305552606758,11.0202359184706 Q11.8305962880828,10.8669380077389 12.1182124982183,10.6899608334626 Q12.3086605446971,10.5727735681955 12.4928101128895,10.4457122376404 Q12.7138340887796,10.2932079405257 12.9247407405014,10.1272078034175 Q13.1164494580624,9.97631795172166 13.2989309836935,9.81495653041487 Q13.4993501715355,9.63773352169933 13.6876496499027,9.44875874377583 Q13.8259025844505,9.31000999189398 13.9571663998683,9.16537567684822 Q14.0895559130142,9.01950100078341 14.2144709921875,8.86804150073268 Q14.3647042289743,8.68588374135466 14.50359102542,8.496302620215 Q14.6242491373507,8.33160373796121 14.7359701511584,8.16180777241553 Q14.8556947497797,7.9798477889744 14.9647911861361,7.79259020255814 Q15.0815966885041,7.5921004598673 15.1858302302757,7.38620717426887 Q15.2838990649354,7.19249108020058 15.3705462405702,6.99456656547992 Q15.4710479022511,6.76499482847765 15.555848418953,6.53053381443338 Q15.6293410875024,6.32733734508333 15.6908398354807,6.12101489646327 Q15.7582996840502,5.89469352248478 15.811151998362,5.66520400901477 Q15.858001700426,5.46177837907041 15.8932743283624,5.25628456535619 Q15.9234569772515,5.08044431780161 15.9451194504346,4.90333416558016 Q15.9730560934491,4.67492704627213 15.9867773968648,4.44479362169134 Q16.0034165941822,4.16572133934909 15.9991176647554,3.88472444785707 Q15.9950908430473,3.62151371089842 15.9726972179107,3.35708697651958 Q15.9526619394994,3.12050789606779 15.9179459679384,2.88322942110747 Q15.882312030686,2.63967678789829 15.83124032874,2.39559405324708 Q15.7875158480249,2.1866252815493 15.7324953373768,1.97736550244011 Q15.6648912559291,1.72024656653811 15.5802540161198,1.46276838245011 Q15.4968741501039,1.20911530326591 15.3969639315714,0.955118442554341 Q15.3045821236361,0.720260691795003 15.1980404233408,0.485042552463534 Q15.0759331774567,0.215459477516022 14.935136668034,-0.0547900505028633 Q14.7784251600096,-0.355587358989756 14.5983261379963,-0.657651595836769 Q14.4326365303214,-0.935548190367364 14.2468180712942,-1.21507534194023 Q13.9287667177733,-1.69352075241799 13.5495204141351,-2.17993676735823 Q13.228806301099,-2.59128021171493 12.8611063340419,-3.0124517446707 Q12.1591087582907,-3.81653502342836 11.2483797084418,-4.69658759121086 Q10.4733210891135,-5.44553957449827 9.42454171069957,-6.36494199823616 Q8.84072932123853,-6.87673555265406 7.788610883906,-7.77268471082305 Q6.43199730758967,-8.92793182800395 5.86781215340663,-9.42143310902599 Q4.99911290579133,-10.1812974697638 4.33114177564245,-10.8099404645036 Q3.70609091742599,-11.3981902041088 3.18523060681885,-11.9373159451196 Q2.65398052055043,-12.4871958084704 2.2119638126538,-13.0054355175612 Q1.84652002656313,-13.4338977860892 1.53818480616621,-13.8451114872961 Q1.35658899707246,-14.0872981719213 1.19468144267213,-14.3236430665681 Q1.01229440141544,-14.5898829354267 0.855250034700979,-14.8481696259238 Q0.710327112506176,-15.0865204992088 0.587635439099838,-15.317016364333 Q0.482522452421447,-15.5144878644567 0.394395445017321,-15.7049318068687 Q0.31840843950407,-15.869141001397 0.255658210448299,-16.0268054813404 Q0.189432844334108,-16.1932014939857 0.138853346014398,-16.3499815211115 Q0.0926197731189966,-16.4932905900716 0.0605744460923479,-16.625013082467 Q0.0353801389730772,-16.7285744199802 0.0199590858880895,-16.820733667613 Q0.00867700999654953,-16.8881575731122 0.00346592649802561,-16.9441272743669 Q0.000399281055259889,-16.9770646144295 2.49345880547808e-05,-16.9979165809901 Q0.000120167169769384,-16.9926119052863 -0.00120639179482519,-16.9723446290242 Q-0.00426775812446953,-16.9255728240776 -0.0129503651544767,-16.86557788734 Q-0.0227183511665687,-16.7980832165775 -0.0385454062196693,-16.7222898015959 Q-0.06004549711036,-16.6193290609179 -0.0915669504606278,-16.5067117118991 Q-0.132286979305915,-16.3612304217578 -0.188273154562518,-16.204902779091 Q-0.258831712369531,-16.0078853375281 -0.351810097949509,-15.7987840090959 Q-0.440000005976105,-15.6004516030464 -0.547194072845051,-15.3939437422104 Q-0.651340977758142,-15.193306195987 -0.772699085783482,-14.9863772240217 Q-0.910246809839973,-14.7518431694101 -1.0692413762151,-14.5103646821128 Q-1.22417112561029,-14.2750597759499 -1.39908931791318,-14.0337431312646 Q-1.76797104341055,-13.5248349433239 -2.22583196061482,-12.9891937151164 Q-2.65281454964278,-12.4896763511826 -3.16250584273345,-11.960865339223 Q-3.75455354091074,-11.3466085397729 -4.48484292020919,-10.6660006846297 Q-5.15417223354364,-10.0422057873649 -6.03462845747207,-9.27588577364818 Q-6.5518613566613,-8.82570334364281 -7.72688839874177,-7.82524124839609 Q-9.00011940672614,-6.74116461325269 -9.66659027493077,-6.1518575057301 Q-10.6800142168527,-5.25576742827941 -11.4416925502921,-4.5083632999628 Q-11.9256928826451,-4.03343335824615 -12.3453337586718,-3.58350021932445 Q-12.8421226311087,-3.05085006647637 -13.2630306985554,-2.53794032909005 Q-13.5888635034756,-2.14088731127246 -13.8734126595931,-1.7506997108797 Q-14.1158142868982,-1.41830684568896 -14.3296155195759,-1.08906603538983 Q-14.6222670714185,-0.638400560466284 -14.8629035091692,-0.191196762642277 Q-14.9849831812171,0.035678657752151 -15.093879517273,0.262018849814471 Q-15.1989501677438,0.48040738398381 -15.2918143665365,0.698434979814885 Q-15.4099383650006,0.975767813457227 -15.5083731080758,1.25265889367945 Q-15.596037025423,1.49925228146578 -15.6680979222918,1.74552862415746 Q-15.7452025309944,2.00904242791343 -15.8044279558644,2.27213565719569 Q-15.8673099421169,2.55147218982739 -15.9099982659839,2.83015436556823 Q-15.9467996846554,3.07040505935725 -15.9685614040832,3.30996314026493 Q-15.9881495049069,3.52559352082962 -15.9955342067788,3.74046434121497 Q-16.0051232678424,4.01947484877545 -15.9941254637899,4.2967472393645 Q-15.9844330208493,4.54110936947305 -15.958768035937,4.78366431573383 Q-15.9275621653641,5.07858513044192 -15.8728386332033,5.37000215623899 Q-15.8278093231867,5.60979493058336 -15.7669750538715,5.84656658453498 Q-15.721016172269,6.02544208568407 -15.6661182996239,6.20226632422338 Q-15.6208315317082,6.34813351117917 -15.5695193619767,6.49241673134215 Q-15.4613890101118,6.79646537021361 -15.3269801205853,7.09222815454625 Q-15.2212449367798,7.32489529787583 -15.0996951958763,7.55142914467109 Q-14.9588348202878,7.81395247467492 -14.7974725228564,8.0668861942751 Q-14.6745800019696,8.25951894005113 -14.5402766384116,8.44582208248948 Q-14.3933701098356,8.64960810238759 -14.2334198263091,8.84498132868387 Q-14.0945594532161,9.01459402644063 -13.9463689488664,9.17725000648766 Q-13.7735280755873,9.36696257787514 -13.588753931665,9.54638613301087 Q-13.4189681105967,9.71125538896335 -13.23982095404,9.86674014639278 Q-13.0625216805617,10.0206210957701 -12.8767644199624,10.1646925661538 Q-12.6944389535778,10.3061023713246 -12.5046728111778,10.4375123135825 Q-12.3142699757146,10.5693631553476 -12.1171076375409,10.6906405650386 Q-11.9213331232265,10.811064304174 -11.7196291899761,10.9206103014377 Q-11.509884893371,11.0345230436026 -11.2945462865961,11.1362305693748 Q-11.0736106685721,11.2405816441808 -10.8476757705343,11.3316650627413 Q-10.6451233054253,11.4133220848312 -10.4392342246826,11.4840381672923 Q-10.2480502354789,11.5497035376801 -10.0545178054937,11.605752174849 Q-9.87842747053587,11.6567494330024 -9.70078839955957,11.699669661687 Q-9.51646003889087,11.7442061217657 -9.33086927650686,11.7799481442673 Q-9.13248730736292,11.8181535630821 -8.933139388093,11.846219406851 Q-8.71465712197788,11.8769791417381 -8.49561748097842,11.8954757888015 Q-8.29291726492743,11.9125926647188 -8.09024399409492,11.9191639457214 Q-7.78610008904026,11.9290252118723 -7.4833331334596,11.915111810162 Q-7.17318452623145,11.9008591908364 -6.86609005385436,11.8617329844013 Q-6.59503326929163,11.8271982575912 -6.32749985800465,11.7734249707618 Q-6.065591016902,11.7207822030116 -5.80803820752765,11.6498970887622 Q-5.55929013948285,11.5814352643096 -5.31546652781383,11.4961928265364 Q-5.10668790644988,11.4232023621669 -4.90208243255889,11.3381020157274 Q-4.65361227556304,11.2347572906909 -4.41212777878246,11.1139056578479 Q-4.19936350048537,11.0074271435513 -3.99268182769649,10.8876853593409 Q-3.75270580423463,10.7486543711102 -3.52182577913573,10.5922682144105 Q-3.32874675879168,10.4614864981576 -3.14265200973488,10.3189846901617 Q-2.96546888319985,10.183306945327 -2.79512566366148,10.0373935236474 Q-2.59954871236449,9.869865269557 -2.41370491741605,9.68946420864727 Q-2.19513433610818,9.47729481788262 -1.99121915187079,9.24849308724242 Q-1.80560573104341,9.04022673339448 -1.63321108031305,8.8193835024801 Q-1.48460042648279,8.62900835568098 -1.34656919353414,8.43025073001946 Q-1.22862003028138,8.26041021540489 -1.11890397474925,8.08517660112203 Q-0.95801857573265,7.82821758251459 -0.816175270753006,7.56186513162384 Q-0.660837400706088,7.27017267275816 -0.530605965747761,6.97155652900988 Q-0.428580116785493,6.73761481140916 -0.343519030901754,6.5029591230879 Q-0.261963346200934,6.27797368901832 -0.197516475528564,6.05656345647983 Q-0.136184858928778,5.84585582472599 -0.0920712402436369,5.64444995400555 Q-0.0534506179297929,5.46812299882186 -0.0298383755424187,5.30751615628668 Q-0.0115789781484796,5.18331854244193 -0.00400653952455051,5.08123174112462 Z\" fill=\"none\" id=\"8c8b9fd7e8ce4ca784160f68c7adf71c\" stroke=\"red\" stroke-width=\".5\" transform=\"scale(1.25 -1.25)\"></path></clipPath><g><rect style=\"clip-path: url(#clipid)\" fill=\"lightblue\" height=\"15.0%\" width=\"50\" x=\"-25\" y=\"-32.5%\"></rect><rect style=\"clip-path: url(#clipid)\" fill=\"pink\" height=\"15.0%\" width=\"50\" x=\"-25\" y=\"-17.5%\"></rect><rect style=\"clip-path: url(#clipid)\" fill=\"white\" height=\"15.0%\" width=\"50\" x=\"-25\" y=\"-2.5%\"></rect><rect style=\"clip-path: url(#clipid)\" fill=\"pink\" height=\"15.0%\" width=\"50\" x=\"-25\" y=\"12.5%\"></rect><rect style=\"clip-path: url(#clipid)\" fill=\"lightblue\" height=\"15.0%\" width=\"50\" x=\"-25\" y=\"27.5%\"></rect></g></svg>"
      ],
      "text/plain": [
       "<svg style=\"transform: scaleY(-1)\" viewBox=\"-25 -25 50 50\"><clipPath id=\"clipid\" stroke=\"black\"><path d=\"M0.0,5.0 Q2.26480878769362e-09,5.01935203545116 0.00240468499265089,5.05784209373124 Q0.00617678614768245,5.11821945317385 0.0144892681784808,5.19071052417724 Q0.0249796452381706,5.28219447150715 0.0416669391001586,5.38322902221801 Q0.0625689845764014,5.50978212250472 0.0921242540272451,5.64469196933818 Q0.129325564905271,5.81450341906648 0.178888071354544,5.99135494886849 Q0.227032997926876,6.16314819595208 0.285852572783466,6.33796304924934 Q0.345659522697073,6.51571243286517 0.415701700411068,6.69417844133358 Q0.487743067528425,6.87773834271958 0.569888188951648,7.06019887319993 Q0.692043825721294,7.33153065651206 0.834806300015498,7.59665683949396 Q0.918421740467044,7.75194024064588 1.00862101667763,7.90415568501767 Q1.12167926629051,8.09494670272544 1.24449884261148,8.27994312284276 Q1.44189780344349,8.57727439675439 1.66250874377508,8.85670281234556 Q1.80054060640138,9.03153559541965 1.94694688614682,9.19842404729501 Q2.08999423977703,9.36148366081515 2.24054566891579,9.51639833059041 Q2.48490085256662,9.76783534981824 2.74741879975013,9.99621086079807 Q3.01662696842382,10.2304064795754 3.30291999709097,10.4385942042024 Q3.46972317871875,10.5598908176942 3.64179542494331,10.6719572214367 Q3.79857226878001,10.7740621074039 3.95941554482475,10.8683033405894 Q4.13334243392154,10.9702105195257 4.31166833497306,11.0627149706127 Q4.47604708828145,11.1479845038409 4.64386151028959,11.2251070150907 Q4.80544594869858,11.299366411392 4.96995032351617,11.3659501831024 Q5.16725965014621,11.4458118838945 5.36835311845226,11.5144650549576 Q5.56561833961004,11.5818112650908 5.7660857806164,11.6382214352365 Q5.93594304380552,11.6860181101922 6.10780540394526,11.7258795037075 Q6.3802811445957,11.7890769525997 6.65689783599178,11.8321328272072 Q6.88756600251257,11.8680367330906 7.12039035026157,11.8898178268749 Q7.33575429714658,11.9099654719568 7.5524023719199,11.9179755377665 Q7.78903411552322,11.9267244539104 8.02650188595541,11.9209696911957 Q8.31148267851657,11.9140635041521 8.59647282523938,11.8863060110558 Q8.84172783653293,11.8624186438571 9.08605624824551,11.8231757557194 Q9.29602775102361,11.7894511138005 9.5047004646898,11.7444820539865 Q9.73546771599974,11.6947516117789 9.96389320433066,11.631434414029 Q10.2137994798527,11.5621629628359 10.4598847954114,11.4769149350853 Q10.7426952738113,11.3789447028671 11.0189146985215,11.2604175545564 Q11.2783606307036,11.14908799649 11.5305552606758,11.0202359184706 Q11.8305962880828,10.8669380077389 12.1182124982183,10.6899608334626 Q12.3086605446971,10.5727735681955 12.4928101128895,10.4457122376404 Q12.7138340887796,10.2932079405257 12.9247407405014,10.1272078034175 Q13.1164494580624,9.97631795172166 13.2989309836935,9.81495653041487 Q13.4993501715355,9.63773352169933 13.6876496499027,9.44875874377583 Q13.8259025844505,9.31000999189398 13.9571663998683,9.16537567684822 Q14.0895559130142,9.01950100078341 14.2144709921875,8.86804150073268 Q14.3647042289743,8.68588374135466 14.50359102542,8.496302620215 Q14.6242491373507,8.33160373796121 14.7359701511584,8.16180777241553 Q14.8556947497797,7.9798477889744 14.9647911861361,7.79259020255814 Q15.0815966885041,7.5921004598673 15.1858302302757,7.38620717426887 Q15.2838990649354,7.19249108020058 15.3705462405702,6.99456656547992 Q15.4710479022511,6.76499482847765 15.555848418953,6.53053381443338 Q15.6293410875024,6.32733734508333 15.6908398354807,6.12101489646327 Q15.7582996840502,5.89469352248478 15.811151998362,5.66520400901477 Q15.858001700426,5.46177837907041 15.8932743283624,5.25628456535619 Q15.9234569772515,5.08044431780161 15.9451194504346,4.90333416558016 Q15.9730560934491,4.67492704627213 15.9867773968648,4.44479362169134 Q16.0034165941822,4.16572133934909 15.9991176647554,3.88472444785707 Q15.9950908430473,3.62151371089842 15.9726972179107,3.35708697651958 Q15.9526619394994,3.12050789606779 15.9179459679384,2.88322942110747 Q15.882312030686,2.63967678789829 15.83124032874,2.39559405324708 Q15.7875158480249,2.1866252815493 15.7324953373768,1.97736550244011 Q15.6648912559291,1.72024656653811 15.5802540161198,1.46276838245011 Q15.4968741501039,1.20911530326591 15.3969639315714,0.955118442554341 Q15.3045821236361,0.720260691795003 15.1980404233408,0.485042552463534 Q15.0759331774567,0.215459477516022 14.935136668034,-0.0547900505028633 Q14.7784251600096,-0.355587358989756 14.5983261379963,-0.657651595836769 Q14.4326365303214,-0.935548190367364 14.2468180712942,-1.21507534194023 Q13.9287667177733,-1.69352075241799 13.5495204141351,-2.17993676735823 Q13.228806301099,-2.59128021171493 12.8611063340419,-3.0124517446707 Q12.1591087582907,-3.81653502342836 11.2483797084418,-4.69658759121086 Q10.4733210891135,-5.44553957449827 9.42454171069957,-6.36494199823616 Q8.84072932123853,-6.87673555265406 7.788610883906,-7.77268471082305 Q6.43199730758967,-8.92793182800395 5.86781215340663,-9.42143310902599 Q4.99911290579133,-10.1812974697638 4.33114177564245,-10.8099404645036 Q3.70609091742599,-11.3981902041088 3.18523060681885,-11.9373159451196 Q2.65398052055043,-12.4871958084704 2.2119638126538,-13.0054355175612 Q1.84652002656313,-13.4338977860892 1.53818480616621,-13.8451114872961 Q1.35658899707246,-14.0872981719213 1.19468144267213,-14.3236430665681 Q1.01229440141544,-14.5898829354267 0.855250034700979,-14.8481696259238 Q0.710327112506176,-15.0865204992088 0.587635439099838,-15.317016364333 Q0.482522452421447,-15.5144878644567 0.394395445017321,-15.7049318068687 Q0.31840843950407,-15.869141001397 0.255658210448299,-16.0268054813404 Q0.189432844334108,-16.1932014939857 0.138853346014398,-16.3499815211115 Q0.0926197731189966,-16.4932905900716 0.0605744460923479,-16.625013082467 Q0.0353801389730772,-16.7285744199802 0.0199590858880895,-16.820733667613 Q0.00867700999654953,-16.8881575731122 0.00346592649802561,-16.9441272743669 Q0.000399281055259889,-16.9770646144295 2.49345880547808e-05,-16.9979165809901 Q0.000120167169769384,-16.9926119052863 -0.00120639179482519,-16.9723446290242 Q-0.00426775812446953,-16.9255728240776 -0.0129503651544767,-16.86557788734 Q-0.0227183511665687,-16.7980832165775 -0.0385454062196693,-16.7222898015959 Q-0.06004549711036,-16.6193290609179 -0.0915669504606278,-16.5067117118991 Q-0.132286979305915,-16.3612304217578 -0.188273154562518,-16.204902779091 Q-0.258831712369531,-16.0078853375281 -0.351810097949509,-15.7987840090959 Q-0.440000005976105,-15.6004516030464 -0.547194072845051,-15.3939437422104 Q-0.651340977758142,-15.193306195987 -0.772699085783482,-14.9863772240217 Q-0.910246809839973,-14.7518431694101 -1.0692413762151,-14.5103646821128 Q-1.22417112561029,-14.2750597759499 -1.39908931791318,-14.0337431312646 Q-1.76797104341055,-13.5248349433239 -2.22583196061482,-12.9891937151164 Q-2.65281454964278,-12.4896763511826 -3.16250584273345,-11.960865339223 Q-3.75455354091074,-11.3466085397729 -4.48484292020919,-10.6660006846297 Q-5.15417223354364,-10.0422057873649 -6.03462845747207,-9.27588577364818 Q-6.5518613566613,-8.82570334364281 -7.72688839874177,-7.82524124839609 Q-9.00011940672614,-6.74116461325269 -9.66659027493077,-6.1518575057301 Q-10.6800142168527,-5.25576742827941 -11.4416925502921,-4.5083632999628 Q-11.9256928826451,-4.03343335824615 -12.3453337586718,-3.58350021932445 Q-12.8421226311087,-3.05085006647637 -13.2630306985554,-2.53794032909005 Q-13.5888635034756,-2.14088731127246 -13.8734126595931,-1.7506997108797 Q-14.1158142868982,-1.41830684568896 -14.3296155195759,-1.08906603538983 Q-14.6222670714185,-0.638400560466284 -14.8629035091692,-0.191196762642277 Q-14.9849831812171,0.035678657752151 -15.093879517273,0.262018849814471 Q-15.1989501677438,0.48040738398381 -15.2918143665365,0.698434979814885 Q-15.4099383650006,0.975767813457227 -15.5083731080758,1.25265889367945 Q-15.596037025423,1.49925228146578 -15.6680979222918,1.74552862415746 Q-15.7452025309944,2.00904242791343 -15.8044279558644,2.27213565719569 Q-15.8673099421169,2.55147218982739 -15.9099982659839,2.83015436556823 Q-15.9467996846554,3.07040505935725 -15.9685614040832,3.30996314026493 Q-15.9881495049069,3.52559352082962 -15.9955342067788,3.74046434121497 Q-16.0051232678424,4.01947484877545 -15.9941254637899,4.2967472393645 Q-15.9844330208493,4.54110936947305 -15.958768035937,4.78366431573383 Q-15.9275621653641,5.07858513044192 -15.8728386332033,5.37000215623899 Q-15.8278093231867,5.60979493058336 -15.7669750538715,5.84656658453498 Q-15.721016172269,6.02544208568407 -15.6661182996239,6.20226632422338 Q-15.6208315317082,6.34813351117917 -15.5695193619767,6.49241673134215 Q-15.4613890101118,6.79646537021361 -15.3269801205853,7.09222815454625 Q-15.2212449367798,7.32489529787583 -15.0996951958763,7.55142914467109 Q-14.9588348202878,7.81395247467492 -14.7974725228564,8.0668861942751 Q-14.6745800019696,8.25951894005113 -14.5402766384116,8.44582208248948 Q-14.3933701098356,8.64960810238759 -14.2334198263091,8.84498132868387 Q-14.0945594532161,9.01459402644063 -13.9463689488664,9.17725000648766 Q-13.7735280755873,9.36696257787514 -13.588753931665,9.54638613301087 Q-13.4189681105967,9.71125538896335 -13.23982095404,9.86674014639278 Q-13.0625216805617,10.0206210957701 -12.8767644199624,10.1646925661538 Q-12.6944389535778,10.3061023713246 -12.5046728111778,10.4375123135825 Q-12.3142699757146,10.5693631553476 -12.1171076375409,10.6906405650386 Q-11.9213331232265,10.811064304174 -11.7196291899761,10.9206103014377 Q-11.509884893371,11.0345230436026 -11.2945462865961,11.1362305693748 Q-11.0736106685721,11.2405816441808 -10.8476757705343,11.3316650627413 Q-10.6451233054253,11.4133220848312 -10.4392342246826,11.4840381672923 Q-10.2480502354789,11.5497035376801 -10.0545178054937,11.605752174849 Q-9.87842747053587,11.6567494330024 -9.70078839955957,11.699669661687 Q-9.51646003889087,11.7442061217657 -9.33086927650686,11.7799481442673 Q-9.13248730736292,11.8181535630821 -8.933139388093,11.846219406851 Q-8.71465712197788,11.8769791417381 -8.49561748097842,11.8954757888015 Q-8.29291726492743,11.9125926647188 -8.09024399409492,11.9191639457214 Q-7.78610008904026,11.9290252118723 -7.4833331334596,11.915111810162 Q-7.17318452623145,11.9008591908364 -6.86609005385436,11.8617329844013 Q-6.59503326929163,11.8271982575912 -6.32749985800465,11.7734249707618 Q-6.065591016902,11.7207822030116 -5.80803820752765,11.6498970887622 Q-5.55929013948285,11.5814352643096 -5.31546652781383,11.4961928265364 Q-5.10668790644988,11.4232023621669 -4.90208243255889,11.3381020157274 Q-4.65361227556304,11.2347572906909 -4.41212777878246,11.1139056578479 Q-4.19936350048537,11.0074271435513 -3.99268182769649,10.8876853593409 Q-3.75270580423463,10.7486543711102 -3.52182577913573,10.5922682144105 Q-3.32874675879168,10.4614864981576 -3.14265200973488,10.3189846901617 Q-2.96546888319985,10.183306945327 -2.79512566366148,10.0373935236474 Q-2.59954871236449,9.869865269557 -2.41370491741605,9.68946420864727 Q-2.19513433610818,9.47729481788262 -1.99121915187079,9.24849308724242 Q-1.80560573104341,9.04022673339448 -1.63321108031305,8.8193835024801 Q-1.48460042648279,8.62900835568098 -1.34656919353414,8.43025073001946 Q-1.22862003028138,8.26041021540489 -1.11890397474925,8.08517660112203 Q-0.95801857573265,7.82821758251459 -0.816175270753006,7.56186513162384 Q-0.660837400706088,7.27017267275816 -0.530605965747761,6.97155652900988 Q-0.428580116785493,6.73761481140916 -0.343519030901754,6.5029591230879 Q-0.261963346200934,6.27797368901832 -0.197516475528564,6.05656345647983 Q-0.136184858928778,5.84585582472599 -0.0920712402436369,5.64444995400555 Q-0.0534506179297929,5.46812299882186 -0.0298383755424187,5.30751615628668 Q-0.0115789781484796,5.18331854244193 -0.00400653952455051,5.08123174112462 Z\" fill=\"none\" id=\"8c8b9fd7e8ce4ca784160f68c7adf71c\" stroke=\"red\" stroke-width=\".5\" transform=\"scale(1.25 -1.25)\"></path></clipPath><g><rect style=\"clip-path: url(#clipid)\" fill=\"lightblue\" height=\"15.0%\" width=\"50\" x=\"-25\" y=\"-32.5%\"></rect><rect style=\"clip-path: url(#clipid)\" fill=\"pink\" height=\"15.0%\" width=\"50\" x=\"-25\" y=\"-17.5%\"></rect><rect style=\"clip-path: url(#clipid)\" fill=\"white\" height=\"15.0%\" width=\"50\" x=\"-25\" y=\"-2.5%\"></rect><rect style=\"clip-path: url(#clipid)\" fill=\"pink\" height=\"15.0%\" width=\"50\" x=\"-25\" y=\"12.5%\"></rect><rect style=\"clip-path: url(#clipid)\" fill=\"lightblue\" height=\"15.0%\" width=\"50\" x=\"-25\" y=\"27.5%\"></rect></g></svg>"
      ]
     },
     "metadata": {},
     "output_type": "display_data"
    }
   ],
   "source": [
    "blue_heart = svg(\n",
    "    clipPath(\n",
    "        gen_heart(),\n",
    "        **{\"id\":\"clipid\", \"stroke\": \"black\"}),\n",
    "        flag(color_list, total_height/2),\n",
    "        style = {\"transform\": \"scaleY(-1)\"},\n",
    "        viewBox=\"-25 -25 50 50\",\n",
    ")\n",
    "display(blue_heart)"
   ]
  },
  {
   "cell_type": "code",
   "execution_count": null,
   "metadata": {},
   "outputs": [],
   "source": [
    "flag(color_list, )"
   ]
  },
  {
   "cell_type": "code",
   "execution_count": 881,
   "metadata": {},
   "outputs": [
    {
     "ename": "TypeError",
     "evalue": "flag() missing 1 required positional argument: 'total_height'",
     "output_type": "error",
     "traceback": [
      "\u001b[0;31m---------------------------------------------------------------------------\u001b[0m",
      "\u001b[0;31mTypeError\u001b[0m                                 Traceback (most recent call last)",
      "\u001b[0;32m<ipython-input-881-904223ece467>\u001b[0m in \u001b[0;36m<module>\u001b[0;34m()\u001b[0m\n\u001b[0;32m----> 1\u001b[0;31m \u001b[0msvg\u001b[0m\u001b[0;34m(\u001b[0m\u001b[0mdefs\u001b[0m\u001b[0;34m(\u001b[0m\u001b[0mclipPath\u001b[0m\u001b[0;34m(\u001b[0m\u001b[0mmy_heart\u001b[0m\u001b[0;34m,\u001b[0m \u001b[0mid\u001b[0m\u001b[0;34m=\u001b[0m\u001b[0;34m\"myheart\"\u001b[0m\u001b[0;34m)\u001b[0m\u001b[0;34m)\u001b[0m\u001b[0;34m,\u001b[0m \u001b[0mflag\u001b[0m\u001b[0;34m(\u001b[0m\u001b[0mcolor_list\u001b[0m\u001b[0;34m,\u001b[0m \u001b[0mheight\u001b[0m\u001b[0;34m=\u001b[0m\u001b[0mtotal_height\u001b[0m\u001b[0;34m,\u001b[0m \u001b[0mstyle\u001b[0m \u001b[0;34m=\u001b[0m \u001b[0;34m{\u001b[0m\u001b[0;34m'clip-path'\u001b[0m\u001b[0;34m:\u001b[0m\u001b[0;34m\"url(#myheart)\"\u001b[0m\u001b[0;34m}\u001b[0m\u001b[0;34m)\u001b[0m\u001b[0;34m)\u001b[0m\u001b[0;34m\u001b[0m\u001b[0m\n\u001b[0m",
      "\u001b[0;31mTypeError\u001b[0m: flag() missing 1 required positional argument: 'total_height'"
     ]
    }
   ],
   "source": [
    "svg(defs(clipPath(my_heart, id=\"myheart\")), flag(color_list, height=total_height, style = {'clip-path':\"url(#myheart)\"}))"
   ]
  },
  {
   "cell_type": "code",
   "execution_count": 714,
   "metadata": {},
   "outputs": [
    {
     "data": {
      "application/vdom.v1+json": {
       "attributes": {
        "viewBox": "-25, -25, 50, 50"
       },
       "children": [
        {
         "attributes": {},
         "children": [
          {
           "attributes": {
            "id": "cut-off-bottom"
           },
           "children": [
            {
             "attributes": {
              "height": "100",
              "viewBox": "-25 -25 50 50",
              "width": "100"
             },
             "children": [
              {
               "attributes": {
                "d": "M0.0,5.0 Q2.26480878769362e-09,5.01935203545116 0.00240468499265089,5.05784209373124 Q0.00617678614768245,5.11821945317385 0.0144892681784808,5.19071052417724 Q0.0249796452381706,5.28219447150715 0.0416669391001586,5.38322902221801 Q0.0625689845764014,5.50978212250472 0.0921242540272451,5.64469196933818 Q0.129325564905271,5.81450341906648 0.178888071354544,5.99135494886849 Q0.227032997926876,6.16314819595208 0.285852572783466,6.33796304924934 Q0.345659522697073,6.51571243286517 0.415701700411068,6.69417844133358 Q0.487743067528425,6.87773834271958 0.569888188951648,7.06019887319993 Q0.692043825721294,7.33153065651206 0.834806300015498,7.59665683949396 Q0.918421740467044,7.75194024064588 1.00862101667763,7.90415568501767 Q1.12167926629051,8.09494670272544 1.24449884261148,8.27994312284276 Q1.44189780344349,8.57727439675439 1.66250874377508,8.85670281234556 Q1.80054060640138,9.03153559541965 1.94694688614682,9.19842404729501 Q2.08999423977703,9.36148366081515 2.24054566891579,9.51639833059041 Q2.48490085256662,9.76783534981824 2.74741879975013,9.99621086079807 Q3.01662696842382,10.2304064795754 3.30291999709097,10.4385942042024 Q3.46972317871875,10.5598908176942 3.64179542494331,10.6719572214367 Q3.79857226878001,10.7740621074039 3.95941554482475,10.8683033405894 Q4.13334243392154,10.9702105195257 4.31166833497306,11.0627149706127 Q4.47604708828145,11.1479845038409 4.64386151028959,11.2251070150907 Q4.80544594869858,11.299366411392 4.96995032351617,11.3659501831024 Q5.16725965014621,11.4458118838945 5.36835311845226,11.5144650549576 Q5.56561833961004,11.5818112650908 5.7660857806164,11.6382214352365 Q5.93594304380552,11.6860181101922 6.10780540394526,11.7258795037075 Q6.3802811445957,11.7890769525997 6.65689783599178,11.8321328272072 Q6.88756600251257,11.8680367330906 7.12039035026157,11.8898178268749 Q7.33575429714658,11.9099654719568 7.5524023719199,11.9179755377665 Q7.78903411552322,11.9267244539104 8.02650188595541,11.9209696911957 Q8.31148267851657,11.9140635041521 8.59647282523938,11.8863060110558 Q8.84172783653293,11.8624186438571 9.08605624824551,11.8231757557194 Q9.29602775102361,11.7894511138005 9.5047004646898,11.7444820539865 Q9.73546771599974,11.6947516117789 9.96389320433066,11.631434414029 Q10.2137994798527,11.5621629628359 10.4598847954114,11.4769149350853 Q10.7426952738113,11.3789447028671 11.0189146985215,11.2604175545564 Q11.2783606307036,11.14908799649 11.5305552606758,11.0202359184706 Q11.8305962880828,10.8669380077389 12.1182124982183,10.6899608334626 Q12.3086605446971,10.5727735681955 12.4928101128895,10.4457122376404 Q12.7138340887796,10.2932079405257 12.9247407405014,10.1272078034175 Q13.1164494580624,9.97631795172166 13.2989309836935,9.81495653041487 Q13.4993501715355,9.63773352169933 13.6876496499027,9.44875874377583 Q13.8259025844505,9.31000999189398 13.9571663998683,9.16537567684822 Q14.0895559130142,9.01950100078341 14.2144709921875,8.86804150073268 Q14.3647042289743,8.68588374135466 14.50359102542,8.496302620215 Q14.6242491373507,8.33160373796121 14.7359701511584,8.16180777241553 Q14.8556947497797,7.9798477889744 14.9647911861361,7.79259020255814 Q15.0815966885041,7.5921004598673 15.1858302302757,7.38620717426887 Q15.2838990649354,7.19249108020058 15.3705462405702,6.99456656547992 Q15.4710479022511,6.76499482847765 15.555848418953,6.53053381443338 Q15.6293410875024,6.32733734508333 15.6908398354807,6.12101489646327 Q15.7582996840502,5.89469352248478 15.811151998362,5.66520400901477 Q15.858001700426,5.46177837907041 15.8932743283624,5.25628456535619 Q15.9234569772515,5.08044431780161 15.9451194504346,4.90333416558016 Q15.9730560934491,4.67492704627213 15.9867773968648,4.44479362169134 Q16.0034165941822,4.16572133934909 15.9991176647554,3.88472444785707 Q15.9950908430473,3.62151371089842 15.9726972179107,3.35708697651958 Q15.9526619394994,3.12050789606779 15.9179459679384,2.88322942110747 Q15.882312030686,2.63967678789829 15.83124032874,2.39559405324708 Q15.7875158480249,2.1866252815493 15.7324953373768,1.97736550244011 Q15.6648912559291,1.72024656653811 15.5802540161198,1.46276838245011 Q15.4968741501039,1.20911530326591 15.3969639315714,0.955118442554341 Q15.3045821236361,0.720260691795003 15.1980404233408,0.485042552463534 Q15.0759331774567,0.215459477516022 14.935136668034,-0.0547900505028633 Q14.7784251600096,-0.355587358989756 14.5983261379963,-0.657651595836769 Q14.4326365303214,-0.935548190367364 14.2468180712942,-1.21507534194023 Q13.9287667177733,-1.69352075241799 13.5495204141351,-2.17993676735823 Q13.228806301099,-2.59128021171493 12.8611063340419,-3.0124517446707 Q12.1591087582907,-3.81653502342836 11.2483797084418,-4.69658759121086 Q10.4733210891135,-5.44553957449827 9.42454171069957,-6.36494199823616 Q8.84072932123853,-6.87673555265406 7.788610883906,-7.77268471082305 Q6.43199730758967,-8.92793182800395 5.86781215340663,-9.42143310902599 Q4.99911290579133,-10.1812974697638 4.33114177564245,-10.8099404645036 Q3.70609091742599,-11.3981902041088 3.18523060681885,-11.9373159451196 Q2.65398052055043,-12.4871958084704 2.2119638126538,-13.0054355175612 Q1.84652002656313,-13.4338977860892 1.53818480616621,-13.8451114872961 Q1.35658899707246,-14.0872981719213 1.19468144267213,-14.3236430665681 Q1.01229440141544,-14.5898829354267 0.855250034700979,-14.8481696259238 Q0.710327112506176,-15.0865204992088 0.587635439099838,-15.317016364333 Q0.482522452421447,-15.5144878644567 0.394395445017321,-15.7049318068687 Q0.31840843950407,-15.869141001397 0.255658210448299,-16.0268054813404 Q0.189432844334108,-16.1932014939857 0.138853346014398,-16.3499815211115 Q0.0926197731189966,-16.4932905900716 0.0605744460923479,-16.625013082467 Q0.0353801389730772,-16.7285744199802 0.0199590858880895,-16.820733667613 Q0.00867700999654953,-16.8881575731122 0.00346592649802561,-16.9441272743669 Q0.000399281055259889,-16.9770646144295 2.49345880547808e-05,-16.9979165809901 Q0.000120167169769384,-16.9926119052863 -0.00120639179482519,-16.9723446290242 Q-0.00426775812446953,-16.9255728240776 -0.0129503651544767,-16.86557788734 Q-0.0227183511665687,-16.7980832165775 -0.0385454062196693,-16.7222898015959 Q-0.06004549711036,-16.6193290609179 -0.0915669504606278,-16.5067117118991 Q-0.132286979305915,-16.3612304217578 -0.188273154562518,-16.204902779091 Q-0.258831712369531,-16.0078853375281 -0.351810097949509,-15.7987840090959 Q-0.440000005976105,-15.6004516030464 -0.547194072845051,-15.3939437422104 Q-0.651340977758142,-15.193306195987 -0.772699085783482,-14.9863772240217 Q-0.910246809839973,-14.7518431694101 -1.0692413762151,-14.5103646821128 Q-1.22417112561029,-14.2750597759499 -1.39908931791318,-14.0337431312646 Q-1.76797104341055,-13.5248349433239 -2.22583196061482,-12.9891937151164 Q-2.65281454964278,-12.4896763511826 -3.16250584273345,-11.960865339223 Q-3.75455354091074,-11.3466085397729 -4.48484292020919,-10.6660006846297 Q-5.15417223354364,-10.0422057873649 -6.03462845747207,-9.27588577364818 Q-6.5518613566613,-8.82570334364281 -7.72688839874177,-7.82524124839609 Q-9.00011940672614,-6.74116461325269 -9.66659027493077,-6.1518575057301 Q-10.6800142168527,-5.25576742827941 -11.4416925502921,-4.5083632999628 Q-11.9256928826451,-4.03343335824615 -12.3453337586718,-3.58350021932445 Q-12.8421226311087,-3.05085006647637 -13.2630306985554,-2.53794032909005 Q-13.5888635034756,-2.14088731127246 -13.8734126595931,-1.7506997108797 Q-14.1158142868982,-1.41830684568896 -14.3296155195759,-1.08906603538983 Q-14.6222670714185,-0.638400560466284 -14.8629035091692,-0.191196762642277 Q-14.9849831812171,0.035678657752151 -15.093879517273,0.262018849814471 Q-15.1989501677438,0.48040738398381 -15.2918143665365,0.698434979814885 Q-15.4099383650006,0.975767813457227 -15.5083731080758,1.25265889367945 Q-15.596037025423,1.49925228146578 -15.6680979222918,1.74552862415746 Q-15.7452025309944,2.00904242791343 -15.8044279558644,2.27213565719569 Q-15.8673099421169,2.55147218982739 -15.9099982659839,2.83015436556823 Q-15.9467996846554,3.07040505935725 -15.9685614040832,3.30996314026493 Q-15.9881495049069,3.52559352082962 -15.9955342067788,3.74046434121497 Q-16.0051232678424,4.01947484877545 -15.9941254637899,4.2967472393645 Q-15.9844330208493,4.54110936947305 -15.958768035937,4.78366431573383 Q-15.9275621653641,5.07858513044192 -15.8728386332033,5.37000215623899 Q-15.8278093231867,5.60979493058336 -15.7669750538715,5.84656658453498 Q-15.721016172269,6.02544208568407 -15.6661182996239,6.20226632422338 Q-15.6208315317082,6.34813351117917 -15.5695193619767,6.49241673134215 Q-15.4613890101118,6.79646537021361 -15.3269801205853,7.09222815454625 Q-15.2212449367798,7.32489529787583 -15.0996951958763,7.55142914467109 Q-14.9588348202878,7.81395247467492 -14.7974725228564,8.0668861942751 Q-14.6745800019696,8.25951894005113 -14.5402766384116,8.44582208248948 Q-14.3933701098356,8.64960810238759 -14.2334198263091,8.84498132868387 Q-14.0945594532161,9.01459402644063 -13.9463689488664,9.17725000648766 Q-13.7735280755873,9.36696257787514 -13.588753931665,9.54638613301087 Q-13.4189681105967,9.71125538896335 -13.23982095404,9.86674014639278 Q-13.0625216805617,10.0206210957701 -12.8767644199624,10.1646925661538 Q-12.6944389535778,10.3061023713246 -12.5046728111778,10.4375123135825 Q-12.3142699757146,10.5693631553476 -12.1171076375409,10.6906405650386 Q-11.9213331232265,10.811064304174 -11.7196291899761,10.9206103014377 Q-11.509884893371,11.0345230436026 -11.2945462865961,11.1362305693748 Q-11.0736106685721,11.2405816441808 -10.8476757705343,11.3316650627413 Q-10.6451233054253,11.4133220848312 -10.4392342246826,11.4840381672923 Q-10.2480502354789,11.5497035376801 -10.0545178054937,11.605752174849 Q-9.87842747053587,11.6567494330024 -9.70078839955957,11.699669661687 Q-9.51646003889087,11.7442061217657 -9.33086927650686,11.7799481442673 Q-9.13248730736292,11.8181535630821 -8.933139388093,11.846219406851 Q-8.71465712197788,11.8769791417381 -8.49561748097842,11.8954757888015 Q-8.29291726492743,11.9125926647188 -8.09024399409492,11.9191639457214 Q-7.78610008904026,11.9290252118723 -7.4833331334596,11.915111810162 Q-7.17318452623145,11.9008591908364 -6.86609005385436,11.8617329844013 Q-6.59503326929163,11.8271982575912 -6.32749985800465,11.7734249707618 Q-6.065591016902,11.7207822030116 -5.80803820752765,11.6498970887622 Q-5.55929013948285,11.5814352643096 -5.31546652781383,11.4961928265364 Q-5.10668790644988,11.4232023621669 -4.90208243255889,11.3381020157274 Q-4.65361227556304,11.2347572906909 -4.41212777878246,11.1139056578479 Q-4.19936350048537,11.0074271435513 -3.99268182769649,10.8876853593409 Q-3.75270580423463,10.7486543711102 -3.52182577913573,10.5922682144105 Q-3.32874675879168,10.4614864981576 -3.14265200973488,10.3189846901617 Q-2.96546888319985,10.183306945327 -2.79512566366148,10.0373935236474 Q-2.59954871236449,9.869865269557 -2.41370491741605,9.68946420864727 Q-2.19513433610818,9.47729481788262 -1.99121915187079,9.24849308724242 Q-1.80560573104341,9.04022673339448 -1.63321108031305,8.8193835024801 Q-1.48460042648279,8.62900835568098 -1.34656919353414,8.43025073001946 Q-1.22862003028138,8.26041021540489 -1.11890397474925,8.08517660112203 Q-0.95801857573265,7.82821758251459 -0.816175270753006,7.56186513162384 Q-0.660837400706088,7.27017267275816 -0.530605965747761,6.97155652900988 Q-0.428580116785493,6.73761481140916 -0.343519030901754,6.5029591230879 Q-0.261963346200934,6.27797368901832 -0.197516475528564,6.05656345647983 Q-0.136184858928778,5.84585582472599 -0.0920712402436369,5.64444995400555 Q-0.0534506179297929,5.46812299882186 -0.0298383755424187,5.30751615628668 Q-0.0115789781484796,5.18331854244193 -0.00400653952455051,5.08123174112462 Z",
                "fill": "none",
                "id": "702d57b2f86d4deaaf66845dfe657912",
                "stroke": "red"
               },
               "children": [],
               "tagName": "path"
              }
             ],
             "tagName": "svg"
            }
           ],
           "tagName": "clipPath"
          }
         ],
         "tagName": "defs"
        },
        {
         "attributes": {
          "clip-path": "url(#cut-off-bottom)",
          "cx": "0",
          "cy": "55",
          "r": "100"
         },
         "children": [],
         "tagName": "circle"
        }
       ],
       "tagName": "svg"
      },
      "text/html": [
       "<svg viewBox=\"-25, -25, 50, 50\"><defs><clipPath id=\"cut-off-bottom\"><svg height=\"100\" viewBox=\"-25 -25 50 50\" width=\"100\"><path d=\"M0.0,5.0 Q2.26480878769362e-09,5.01935203545116 0.00240468499265089,5.05784209373124 Q0.00617678614768245,5.11821945317385 0.0144892681784808,5.19071052417724 Q0.0249796452381706,5.28219447150715 0.0416669391001586,5.38322902221801 Q0.0625689845764014,5.50978212250472 0.0921242540272451,5.64469196933818 Q0.129325564905271,5.81450341906648 0.178888071354544,5.99135494886849 Q0.227032997926876,6.16314819595208 0.285852572783466,6.33796304924934 Q0.345659522697073,6.51571243286517 0.415701700411068,6.69417844133358 Q0.487743067528425,6.87773834271958 0.569888188951648,7.06019887319993 Q0.692043825721294,7.33153065651206 0.834806300015498,7.59665683949396 Q0.918421740467044,7.75194024064588 1.00862101667763,7.90415568501767 Q1.12167926629051,8.09494670272544 1.24449884261148,8.27994312284276 Q1.44189780344349,8.57727439675439 1.66250874377508,8.85670281234556 Q1.80054060640138,9.03153559541965 1.94694688614682,9.19842404729501 Q2.08999423977703,9.36148366081515 2.24054566891579,9.51639833059041 Q2.48490085256662,9.76783534981824 2.74741879975013,9.99621086079807 Q3.01662696842382,10.2304064795754 3.30291999709097,10.4385942042024 Q3.46972317871875,10.5598908176942 3.64179542494331,10.6719572214367 Q3.79857226878001,10.7740621074039 3.95941554482475,10.8683033405894 Q4.13334243392154,10.9702105195257 4.31166833497306,11.0627149706127 Q4.47604708828145,11.1479845038409 4.64386151028959,11.2251070150907 Q4.80544594869858,11.299366411392 4.96995032351617,11.3659501831024 Q5.16725965014621,11.4458118838945 5.36835311845226,11.5144650549576 Q5.56561833961004,11.5818112650908 5.7660857806164,11.6382214352365 Q5.93594304380552,11.6860181101922 6.10780540394526,11.7258795037075 Q6.3802811445957,11.7890769525997 6.65689783599178,11.8321328272072 Q6.88756600251257,11.8680367330906 7.12039035026157,11.8898178268749 Q7.33575429714658,11.9099654719568 7.5524023719199,11.9179755377665 Q7.78903411552322,11.9267244539104 8.02650188595541,11.9209696911957 Q8.31148267851657,11.9140635041521 8.59647282523938,11.8863060110558 Q8.84172783653293,11.8624186438571 9.08605624824551,11.8231757557194 Q9.29602775102361,11.7894511138005 9.5047004646898,11.7444820539865 Q9.73546771599974,11.6947516117789 9.96389320433066,11.631434414029 Q10.2137994798527,11.5621629628359 10.4598847954114,11.4769149350853 Q10.7426952738113,11.3789447028671 11.0189146985215,11.2604175545564 Q11.2783606307036,11.14908799649 11.5305552606758,11.0202359184706 Q11.8305962880828,10.8669380077389 12.1182124982183,10.6899608334626 Q12.3086605446971,10.5727735681955 12.4928101128895,10.4457122376404 Q12.7138340887796,10.2932079405257 12.9247407405014,10.1272078034175 Q13.1164494580624,9.97631795172166 13.2989309836935,9.81495653041487 Q13.4993501715355,9.63773352169933 13.6876496499027,9.44875874377583 Q13.8259025844505,9.31000999189398 13.9571663998683,9.16537567684822 Q14.0895559130142,9.01950100078341 14.2144709921875,8.86804150073268 Q14.3647042289743,8.68588374135466 14.50359102542,8.496302620215 Q14.6242491373507,8.33160373796121 14.7359701511584,8.16180777241553 Q14.8556947497797,7.9798477889744 14.9647911861361,7.79259020255814 Q15.0815966885041,7.5921004598673 15.1858302302757,7.38620717426887 Q15.2838990649354,7.19249108020058 15.3705462405702,6.99456656547992 Q15.4710479022511,6.76499482847765 15.555848418953,6.53053381443338 Q15.6293410875024,6.32733734508333 15.6908398354807,6.12101489646327 Q15.7582996840502,5.89469352248478 15.811151998362,5.66520400901477 Q15.858001700426,5.46177837907041 15.8932743283624,5.25628456535619 Q15.9234569772515,5.08044431780161 15.9451194504346,4.90333416558016 Q15.9730560934491,4.67492704627213 15.9867773968648,4.44479362169134 Q16.0034165941822,4.16572133934909 15.9991176647554,3.88472444785707 Q15.9950908430473,3.62151371089842 15.9726972179107,3.35708697651958 Q15.9526619394994,3.12050789606779 15.9179459679384,2.88322942110747 Q15.882312030686,2.63967678789829 15.83124032874,2.39559405324708 Q15.7875158480249,2.1866252815493 15.7324953373768,1.97736550244011 Q15.6648912559291,1.72024656653811 15.5802540161198,1.46276838245011 Q15.4968741501039,1.20911530326591 15.3969639315714,0.955118442554341 Q15.3045821236361,0.720260691795003 15.1980404233408,0.485042552463534 Q15.0759331774567,0.215459477516022 14.935136668034,-0.0547900505028633 Q14.7784251600096,-0.355587358989756 14.5983261379963,-0.657651595836769 Q14.4326365303214,-0.935548190367364 14.2468180712942,-1.21507534194023 Q13.9287667177733,-1.69352075241799 13.5495204141351,-2.17993676735823 Q13.228806301099,-2.59128021171493 12.8611063340419,-3.0124517446707 Q12.1591087582907,-3.81653502342836 11.2483797084418,-4.69658759121086 Q10.4733210891135,-5.44553957449827 9.42454171069957,-6.36494199823616 Q8.84072932123853,-6.87673555265406 7.788610883906,-7.77268471082305 Q6.43199730758967,-8.92793182800395 5.86781215340663,-9.42143310902599 Q4.99911290579133,-10.1812974697638 4.33114177564245,-10.8099404645036 Q3.70609091742599,-11.3981902041088 3.18523060681885,-11.9373159451196 Q2.65398052055043,-12.4871958084704 2.2119638126538,-13.0054355175612 Q1.84652002656313,-13.4338977860892 1.53818480616621,-13.8451114872961 Q1.35658899707246,-14.0872981719213 1.19468144267213,-14.3236430665681 Q1.01229440141544,-14.5898829354267 0.855250034700979,-14.8481696259238 Q0.710327112506176,-15.0865204992088 0.587635439099838,-15.317016364333 Q0.482522452421447,-15.5144878644567 0.394395445017321,-15.7049318068687 Q0.31840843950407,-15.869141001397 0.255658210448299,-16.0268054813404 Q0.189432844334108,-16.1932014939857 0.138853346014398,-16.3499815211115 Q0.0926197731189966,-16.4932905900716 0.0605744460923479,-16.625013082467 Q0.0353801389730772,-16.7285744199802 0.0199590858880895,-16.820733667613 Q0.00867700999654953,-16.8881575731122 0.00346592649802561,-16.9441272743669 Q0.000399281055259889,-16.9770646144295 2.49345880547808e-05,-16.9979165809901 Q0.000120167169769384,-16.9926119052863 -0.00120639179482519,-16.9723446290242 Q-0.00426775812446953,-16.9255728240776 -0.0129503651544767,-16.86557788734 Q-0.0227183511665687,-16.7980832165775 -0.0385454062196693,-16.7222898015959 Q-0.06004549711036,-16.6193290609179 -0.0915669504606278,-16.5067117118991 Q-0.132286979305915,-16.3612304217578 -0.188273154562518,-16.204902779091 Q-0.258831712369531,-16.0078853375281 -0.351810097949509,-15.7987840090959 Q-0.440000005976105,-15.6004516030464 -0.547194072845051,-15.3939437422104 Q-0.651340977758142,-15.193306195987 -0.772699085783482,-14.9863772240217 Q-0.910246809839973,-14.7518431694101 -1.0692413762151,-14.5103646821128 Q-1.22417112561029,-14.2750597759499 -1.39908931791318,-14.0337431312646 Q-1.76797104341055,-13.5248349433239 -2.22583196061482,-12.9891937151164 Q-2.65281454964278,-12.4896763511826 -3.16250584273345,-11.960865339223 Q-3.75455354091074,-11.3466085397729 -4.48484292020919,-10.6660006846297 Q-5.15417223354364,-10.0422057873649 -6.03462845747207,-9.27588577364818 Q-6.5518613566613,-8.82570334364281 -7.72688839874177,-7.82524124839609 Q-9.00011940672614,-6.74116461325269 -9.66659027493077,-6.1518575057301 Q-10.6800142168527,-5.25576742827941 -11.4416925502921,-4.5083632999628 Q-11.9256928826451,-4.03343335824615 -12.3453337586718,-3.58350021932445 Q-12.8421226311087,-3.05085006647637 -13.2630306985554,-2.53794032909005 Q-13.5888635034756,-2.14088731127246 -13.8734126595931,-1.7506997108797 Q-14.1158142868982,-1.41830684568896 -14.3296155195759,-1.08906603538983 Q-14.6222670714185,-0.638400560466284 -14.8629035091692,-0.191196762642277 Q-14.9849831812171,0.035678657752151 -15.093879517273,0.262018849814471 Q-15.1989501677438,0.48040738398381 -15.2918143665365,0.698434979814885 Q-15.4099383650006,0.975767813457227 -15.5083731080758,1.25265889367945 Q-15.596037025423,1.49925228146578 -15.6680979222918,1.74552862415746 Q-15.7452025309944,2.00904242791343 -15.8044279558644,2.27213565719569 Q-15.8673099421169,2.55147218982739 -15.9099982659839,2.83015436556823 Q-15.9467996846554,3.07040505935725 -15.9685614040832,3.30996314026493 Q-15.9881495049069,3.52559352082962 -15.9955342067788,3.74046434121497 Q-16.0051232678424,4.01947484877545 -15.9941254637899,4.2967472393645 Q-15.9844330208493,4.54110936947305 -15.958768035937,4.78366431573383 Q-15.9275621653641,5.07858513044192 -15.8728386332033,5.37000215623899 Q-15.8278093231867,5.60979493058336 -15.7669750538715,5.84656658453498 Q-15.721016172269,6.02544208568407 -15.6661182996239,6.20226632422338 Q-15.6208315317082,6.34813351117917 -15.5695193619767,6.49241673134215 Q-15.4613890101118,6.79646537021361 -15.3269801205853,7.09222815454625 Q-15.2212449367798,7.32489529787583 -15.0996951958763,7.55142914467109 Q-14.9588348202878,7.81395247467492 -14.7974725228564,8.0668861942751 Q-14.6745800019696,8.25951894005113 -14.5402766384116,8.44582208248948 Q-14.3933701098356,8.64960810238759 -14.2334198263091,8.84498132868387 Q-14.0945594532161,9.01459402644063 -13.9463689488664,9.17725000648766 Q-13.7735280755873,9.36696257787514 -13.588753931665,9.54638613301087 Q-13.4189681105967,9.71125538896335 -13.23982095404,9.86674014639278 Q-13.0625216805617,10.0206210957701 -12.8767644199624,10.1646925661538 Q-12.6944389535778,10.3061023713246 -12.5046728111778,10.4375123135825 Q-12.3142699757146,10.5693631553476 -12.1171076375409,10.6906405650386 Q-11.9213331232265,10.811064304174 -11.7196291899761,10.9206103014377 Q-11.509884893371,11.0345230436026 -11.2945462865961,11.1362305693748 Q-11.0736106685721,11.2405816441808 -10.8476757705343,11.3316650627413 Q-10.6451233054253,11.4133220848312 -10.4392342246826,11.4840381672923 Q-10.2480502354789,11.5497035376801 -10.0545178054937,11.605752174849 Q-9.87842747053587,11.6567494330024 -9.70078839955957,11.699669661687 Q-9.51646003889087,11.7442061217657 -9.33086927650686,11.7799481442673 Q-9.13248730736292,11.8181535630821 -8.933139388093,11.846219406851 Q-8.71465712197788,11.8769791417381 -8.49561748097842,11.8954757888015 Q-8.29291726492743,11.9125926647188 -8.09024399409492,11.9191639457214 Q-7.78610008904026,11.9290252118723 -7.4833331334596,11.915111810162 Q-7.17318452623145,11.9008591908364 -6.86609005385436,11.8617329844013 Q-6.59503326929163,11.8271982575912 -6.32749985800465,11.7734249707618 Q-6.065591016902,11.7207822030116 -5.80803820752765,11.6498970887622 Q-5.55929013948285,11.5814352643096 -5.31546652781383,11.4961928265364 Q-5.10668790644988,11.4232023621669 -4.90208243255889,11.3381020157274 Q-4.65361227556304,11.2347572906909 -4.41212777878246,11.1139056578479 Q-4.19936350048537,11.0074271435513 -3.99268182769649,10.8876853593409 Q-3.75270580423463,10.7486543711102 -3.52182577913573,10.5922682144105 Q-3.32874675879168,10.4614864981576 -3.14265200973488,10.3189846901617 Q-2.96546888319985,10.183306945327 -2.79512566366148,10.0373935236474 Q-2.59954871236449,9.869865269557 -2.41370491741605,9.68946420864727 Q-2.19513433610818,9.47729481788262 -1.99121915187079,9.24849308724242 Q-1.80560573104341,9.04022673339448 -1.63321108031305,8.8193835024801 Q-1.48460042648279,8.62900835568098 -1.34656919353414,8.43025073001946 Q-1.22862003028138,8.26041021540489 -1.11890397474925,8.08517660112203 Q-0.95801857573265,7.82821758251459 -0.816175270753006,7.56186513162384 Q-0.660837400706088,7.27017267275816 -0.530605965747761,6.97155652900988 Q-0.428580116785493,6.73761481140916 -0.343519030901754,6.5029591230879 Q-0.261963346200934,6.27797368901832 -0.197516475528564,6.05656345647983 Q-0.136184858928778,5.84585582472599 -0.0920712402436369,5.64444995400555 Q-0.0534506179297929,5.46812299882186 -0.0298383755424187,5.30751615628668 Q-0.0115789781484796,5.18331854244193 -0.00400653952455051,5.08123174112462 Z\" fill=\"none\" id=\"702d57b2f86d4deaaf66845dfe657912\" stroke=\"red\"></path></svg></clipPath></defs><circle clip-path=\"url(#cut-off-bottom)\" cx=\"0\" cy=\"55\" r=\"100\"></circle></svg>"
      ],
      "text/plain": [
       "<svg viewBox=\"-25, -25, 50, 50\"><defs><clipPath id=\"cut-off-bottom\"><svg height=\"100\" viewBox=\"-25 -25 50 50\" width=\"100\"><path d=\"M0.0,5.0 Q2.26480878769362e-09,5.01935203545116 0.00240468499265089,5.05784209373124 Q0.00617678614768245,5.11821945317385 0.0144892681784808,5.19071052417724 Q0.0249796452381706,5.28219447150715 0.0416669391001586,5.38322902221801 Q0.0625689845764014,5.50978212250472 0.0921242540272451,5.64469196933818 Q0.129325564905271,5.81450341906648 0.178888071354544,5.99135494886849 Q0.227032997926876,6.16314819595208 0.285852572783466,6.33796304924934 Q0.345659522697073,6.51571243286517 0.415701700411068,6.69417844133358 Q0.487743067528425,6.87773834271958 0.569888188951648,7.06019887319993 Q0.692043825721294,7.33153065651206 0.834806300015498,7.59665683949396 Q0.918421740467044,7.75194024064588 1.00862101667763,7.90415568501767 Q1.12167926629051,8.09494670272544 1.24449884261148,8.27994312284276 Q1.44189780344349,8.57727439675439 1.66250874377508,8.85670281234556 Q1.80054060640138,9.03153559541965 1.94694688614682,9.19842404729501 Q2.08999423977703,9.36148366081515 2.24054566891579,9.51639833059041 Q2.48490085256662,9.76783534981824 2.74741879975013,9.99621086079807 Q3.01662696842382,10.2304064795754 3.30291999709097,10.4385942042024 Q3.46972317871875,10.5598908176942 3.64179542494331,10.6719572214367 Q3.79857226878001,10.7740621074039 3.95941554482475,10.8683033405894 Q4.13334243392154,10.9702105195257 4.31166833497306,11.0627149706127 Q4.47604708828145,11.1479845038409 4.64386151028959,11.2251070150907 Q4.80544594869858,11.299366411392 4.96995032351617,11.3659501831024 Q5.16725965014621,11.4458118838945 5.36835311845226,11.5144650549576 Q5.56561833961004,11.5818112650908 5.7660857806164,11.6382214352365 Q5.93594304380552,11.6860181101922 6.10780540394526,11.7258795037075 Q6.3802811445957,11.7890769525997 6.65689783599178,11.8321328272072 Q6.88756600251257,11.8680367330906 7.12039035026157,11.8898178268749 Q7.33575429714658,11.9099654719568 7.5524023719199,11.9179755377665 Q7.78903411552322,11.9267244539104 8.02650188595541,11.9209696911957 Q8.31148267851657,11.9140635041521 8.59647282523938,11.8863060110558 Q8.84172783653293,11.8624186438571 9.08605624824551,11.8231757557194 Q9.29602775102361,11.7894511138005 9.5047004646898,11.7444820539865 Q9.73546771599974,11.6947516117789 9.96389320433066,11.631434414029 Q10.2137994798527,11.5621629628359 10.4598847954114,11.4769149350853 Q10.7426952738113,11.3789447028671 11.0189146985215,11.2604175545564 Q11.2783606307036,11.14908799649 11.5305552606758,11.0202359184706 Q11.8305962880828,10.8669380077389 12.1182124982183,10.6899608334626 Q12.3086605446971,10.5727735681955 12.4928101128895,10.4457122376404 Q12.7138340887796,10.2932079405257 12.9247407405014,10.1272078034175 Q13.1164494580624,9.97631795172166 13.2989309836935,9.81495653041487 Q13.4993501715355,9.63773352169933 13.6876496499027,9.44875874377583 Q13.8259025844505,9.31000999189398 13.9571663998683,9.16537567684822 Q14.0895559130142,9.01950100078341 14.2144709921875,8.86804150073268 Q14.3647042289743,8.68588374135466 14.50359102542,8.496302620215 Q14.6242491373507,8.33160373796121 14.7359701511584,8.16180777241553 Q14.8556947497797,7.9798477889744 14.9647911861361,7.79259020255814 Q15.0815966885041,7.5921004598673 15.1858302302757,7.38620717426887 Q15.2838990649354,7.19249108020058 15.3705462405702,6.99456656547992 Q15.4710479022511,6.76499482847765 15.555848418953,6.53053381443338 Q15.6293410875024,6.32733734508333 15.6908398354807,6.12101489646327 Q15.7582996840502,5.89469352248478 15.811151998362,5.66520400901477 Q15.858001700426,5.46177837907041 15.8932743283624,5.25628456535619 Q15.9234569772515,5.08044431780161 15.9451194504346,4.90333416558016 Q15.9730560934491,4.67492704627213 15.9867773968648,4.44479362169134 Q16.0034165941822,4.16572133934909 15.9991176647554,3.88472444785707 Q15.9950908430473,3.62151371089842 15.9726972179107,3.35708697651958 Q15.9526619394994,3.12050789606779 15.9179459679384,2.88322942110747 Q15.882312030686,2.63967678789829 15.83124032874,2.39559405324708 Q15.7875158480249,2.1866252815493 15.7324953373768,1.97736550244011 Q15.6648912559291,1.72024656653811 15.5802540161198,1.46276838245011 Q15.4968741501039,1.20911530326591 15.3969639315714,0.955118442554341 Q15.3045821236361,0.720260691795003 15.1980404233408,0.485042552463534 Q15.0759331774567,0.215459477516022 14.935136668034,-0.0547900505028633 Q14.7784251600096,-0.355587358989756 14.5983261379963,-0.657651595836769 Q14.4326365303214,-0.935548190367364 14.2468180712942,-1.21507534194023 Q13.9287667177733,-1.69352075241799 13.5495204141351,-2.17993676735823 Q13.228806301099,-2.59128021171493 12.8611063340419,-3.0124517446707 Q12.1591087582907,-3.81653502342836 11.2483797084418,-4.69658759121086 Q10.4733210891135,-5.44553957449827 9.42454171069957,-6.36494199823616 Q8.84072932123853,-6.87673555265406 7.788610883906,-7.77268471082305 Q6.43199730758967,-8.92793182800395 5.86781215340663,-9.42143310902599 Q4.99911290579133,-10.1812974697638 4.33114177564245,-10.8099404645036 Q3.70609091742599,-11.3981902041088 3.18523060681885,-11.9373159451196 Q2.65398052055043,-12.4871958084704 2.2119638126538,-13.0054355175612 Q1.84652002656313,-13.4338977860892 1.53818480616621,-13.8451114872961 Q1.35658899707246,-14.0872981719213 1.19468144267213,-14.3236430665681 Q1.01229440141544,-14.5898829354267 0.855250034700979,-14.8481696259238 Q0.710327112506176,-15.0865204992088 0.587635439099838,-15.317016364333 Q0.482522452421447,-15.5144878644567 0.394395445017321,-15.7049318068687 Q0.31840843950407,-15.869141001397 0.255658210448299,-16.0268054813404 Q0.189432844334108,-16.1932014939857 0.138853346014398,-16.3499815211115 Q0.0926197731189966,-16.4932905900716 0.0605744460923479,-16.625013082467 Q0.0353801389730772,-16.7285744199802 0.0199590858880895,-16.820733667613 Q0.00867700999654953,-16.8881575731122 0.00346592649802561,-16.9441272743669 Q0.000399281055259889,-16.9770646144295 2.49345880547808e-05,-16.9979165809901 Q0.000120167169769384,-16.9926119052863 -0.00120639179482519,-16.9723446290242 Q-0.00426775812446953,-16.9255728240776 -0.0129503651544767,-16.86557788734 Q-0.0227183511665687,-16.7980832165775 -0.0385454062196693,-16.7222898015959 Q-0.06004549711036,-16.6193290609179 -0.0915669504606278,-16.5067117118991 Q-0.132286979305915,-16.3612304217578 -0.188273154562518,-16.204902779091 Q-0.258831712369531,-16.0078853375281 -0.351810097949509,-15.7987840090959 Q-0.440000005976105,-15.6004516030464 -0.547194072845051,-15.3939437422104 Q-0.651340977758142,-15.193306195987 -0.772699085783482,-14.9863772240217 Q-0.910246809839973,-14.7518431694101 -1.0692413762151,-14.5103646821128 Q-1.22417112561029,-14.2750597759499 -1.39908931791318,-14.0337431312646 Q-1.76797104341055,-13.5248349433239 -2.22583196061482,-12.9891937151164 Q-2.65281454964278,-12.4896763511826 -3.16250584273345,-11.960865339223 Q-3.75455354091074,-11.3466085397729 -4.48484292020919,-10.6660006846297 Q-5.15417223354364,-10.0422057873649 -6.03462845747207,-9.27588577364818 Q-6.5518613566613,-8.82570334364281 -7.72688839874177,-7.82524124839609 Q-9.00011940672614,-6.74116461325269 -9.66659027493077,-6.1518575057301 Q-10.6800142168527,-5.25576742827941 -11.4416925502921,-4.5083632999628 Q-11.9256928826451,-4.03343335824615 -12.3453337586718,-3.58350021932445 Q-12.8421226311087,-3.05085006647637 -13.2630306985554,-2.53794032909005 Q-13.5888635034756,-2.14088731127246 -13.8734126595931,-1.7506997108797 Q-14.1158142868982,-1.41830684568896 -14.3296155195759,-1.08906603538983 Q-14.6222670714185,-0.638400560466284 -14.8629035091692,-0.191196762642277 Q-14.9849831812171,0.035678657752151 -15.093879517273,0.262018849814471 Q-15.1989501677438,0.48040738398381 -15.2918143665365,0.698434979814885 Q-15.4099383650006,0.975767813457227 -15.5083731080758,1.25265889367945 Q-15.596037025423,1.49925228146578 -15.6680979222918,1.74552862415746 Q-15.7452025309944,2.00904242791343 -15.8044279558644,2.27213565719569 Q-15.8673099421169,2.55147218982739 -15.9099982659839,2.83015436556823 Q-15.9467996846554,3.07040505935725 -15.9685614040832,3.30996314026493 Q-15.9881495049069,3.52559352082962 -15.9955342067788,3.74046434121497 Q-16.0051232678424,4.01947484877545 -15.9941254637899,4.2967472393645 Q-15.9844330208493,4.54110936947305 -15.958768035937,4.78366431573383 Q-15.9275621653641,5.07858513044192 -15.8728386332033,5.37000215623899 Q-15.8278093231867,5.60979493058336 -15.7669750538715,5.84656658453498 Q-15.721016172269,6.02544208568407 -15.6661182996239,6.20226632422338 Q-15.6208315317082,6.34813351117917 -15.5695193619767,6.49241673134215 Q-15.4613890101118,6.79646537021361 -15.3269801205853,7.09222815454625 Q-15.2212449367798,7.32489529787583 -15.0996951958763,7.55142914467109 Q-14.9588348202878,7.81395247467492 -14.7974725228564,8.0668861942751 Q-14.6745800019696,8.25951894005113 -14.5402766384116,8.44582208248948 Q-14.3933701098356,8.64960810238759 -14.2334198263091,8.84498132868387 Q-14.0945594532161,9.01459402644063 -13.9463689488664,9.17725000648766 Q-13.7735280755873,9.36696257787514 -13.588753931665,9.54638613301087 Q-13.4189681105967,9.71125538896335 -13.23982095404,9.86674014639278 Q-13.0625216805617,10.0206210957701 -12.8767644199624,10.1646925661538 Q-12.6944389535778,10.3061023713246 -12.5046728111778,10.4375123135825 Q-12.3142699757146,10.5693631553476 -12.1171076375409,10.6906405650386 Q-11.9213331232265,10.811064304174 -11.7196291899761,10.9206103014377 Q-11.509884893371,11.0345230436026 -11.2945462865961,11.1362305693748 Q-11.0736106685721,11.2405816441808 -10.8476757705343,11.3316650627413 Q-10.6451233054253,11.4133220848312 -10.4392342246826,11.4840381672923 Q-10.2480502354789,11.5497035376801 -10.0545178054937,11.605752174849 Q-9.87842747053587,11.6567494330024 -9.70078839955957,11.699669661687 Q-9.51646003889087,11.7442061217657 -9.33086927650686,11.7799481442673 Q-9.13248730736292,11.8181535630821 -8.933139388093,11.846219406851 Q-8.71465712197788,11.8769791417381 -8.49561748097842,11.8954757888015 Q-8.29291726492743,11.9125926647188 -8.09024399409492,11.9191639457214 Q-7.78610008904026,11.9290252118723 -7.4833331334596,11.915111810162 Q-7.17318452623145,11.9008591908364 -6.86609005385436,11.8617329844013 Q-6.59503326929163,11.8271982575912 -6.32749985800465,11.7734249707618 Q-6.065591016902,11.7207822030116 -5.80803820752765,11.6498970887622 Q-5.55929013948285,11.5814352643096 -5.31546652781383,11.4961928265364 Q-5.10668790644988,11.4232023621669 -4.90208243255889,11.3381020157274 Q-4.65361227556304,11.2347572906909 -4.41212777878246,11.1139056578479 Q-4.19936350048537,11.0074271435513 -3.99268182769649,10.8876853593409 Q-3.75270580423463,10.7486543711102 -3.52182577913573,10.5922682144105 Q-3.32874675879168,10.4614864981576 -3.14265200973488,10.3189846901617 Q-2.96546888319985,10.183306945327 -2.79512566366148,10.0373935236474 Q-2.59954871236449,9.869865269557 -2.41370491741605,9.68946420864727 Q-2.19513433610818,9.47729481788262 -1.99121915187079,9.24849308724242 Q-1.80560573104341,9.04022673339448 -1.63321108031305,8.8193835024801 Q-1.48460042648279,8.62900835568098 -1.34656919353414,8.43025073001946 Q-1.22862003028138,8.26041021540489 -1.11890397474925,8.08517660112203 Q-0.95801857573265,7.82821758251459 -0.816175270753006,7.56186513162384 Q-0.660837400706088,7.27017267275816 -0.530605965747761,6.97155652900988 Q-0.428580116785493,6.73761481140916 -0.343519030901754,6.5029591230879 Q-0.261963346200934,6.27797368901832 -0.197516475528564,6.05656345647983 Q-0.136184858928778,5.84585582472599 -0.0920712402436369,5.64444995400555 Q-0.0534506179297929,5.46812299882186 -0.0298383755424187,5.30751615628668 Q-0.0115789781484796,5.18331854244193 -0.00400653952455051,5.08123174112462 Z\" fill=\"none\" id=\"702d57b2f86d4deaaf66845dfe657912\" stroke=\"red\"></path></svg></clipPath></defs><circle clip-path=\"url(#cut-off-bottom)\" cx=\"0\" cy=\"55\" r=\"100\"></circle></svg>"
      ]
     },
     "execution_count": 714,
     "metadata": {},
     "output_type": "execute_result"
    }
   ],
   "source": [
    "svg(defs(\n",
    "        clipPath(my_heart,\n",
    "        id=\"cut-off-bottom\"\n",
    "   )),\n",
    "\n",
    "  circle(cx=\"0\", cy=\"55\", r=\"100\", **{\"clip-path\":\"url(#cut-off-bottom)\"}),\n",
    "    viewBox=\"-25, -25, 50, 50\"\n",
    "   )"
   ]
  },
  {
   "cell_type": "code",
   "execution_count": 548,
   "metadata": {},
   "outputs": [
    {
     "data": {
      "text/plain": [
       "array([ 0,  2,  4,  6,  8, 10, 12, 14, 16, 18, 20, 22, 24, 26, 28])"
      ]
     },
     "execution_count": 548,
     "metadata": {},
     "output_type": "execute_result"
    }
   ],
   "source": [
    "div_heights"
   ]
  },
  {
   "cell_type": "code",
   "execution_count": null,
   "metadata": {},
   "outputs": [],
   "source": []
  },
  {
   "cell_type": "code",
   "execution_count": 286,
   "metadata": {},
   "outputs": [
    {
     "data": {
      "text/plain": [
       "[((1.51927786135055, -17.0), (-0.066042682118049, -16.6028663361257)),\n",
       " ((3.49606368861045, -17.4951984010482),\n",
       "  (-0.508080462043044, -15.4702755327845)),\n",
       " ((2.92864290065881, -17.2082498581833),\n",
       "  (-1.60584256813301, -13.7555738195943)),\n",
       " ((-0.496086993490767, -14.6005707895105),\n",
       "  (-3.46884220011409, -11.6478629323691)),\n",
       " ((-7.11765815003252, -8.02365347826308),\n",
       "  (-6.00193873516259, -9.30435108328571)),\n",
       " ((-100.775564271555, 99.483175266169),\n",
       "  (-8.91854373357365, -6.80519015897335)),\n",
       " ((-7.78827222898743, -8.11303478538851),\n",
       "  (-11.7986678724748, -4.15263436133887)),\n",
       " ((-15.7432118697817, -0.257264650127436),\n",
       "  (-14.1787079725397, -1.31659066094017)),\n",
       " ((-20.9774713073887, 3.28685382690184),\n",
       "  (-15.6525714599183, 1.69306644407278)),\n",
       " ((-23.3629342907313, 4.00084299363955), (-15.961103474451, 4.76126685996618)),\n",
       " ((-21.2305374946439, 4.21991385008994),\n",
       "  (-15.0494232880818, 7.64363637733541)),\n",
       " ((-15.0070635008996, 7.66709948653854),\n",
       "  (-13.0790876004001, 10.0027926434596)),\n",
       " ((-9.39230196763574, 14.4692385006154), (-10.3923048454133, 11.5)),\n",
       " ((-7.81358892951422, 19.1568005450692),\n",
       "  (-7.43636685375678, 11.9128098465854)),\n",
       " ((-7.75388091516248, 18.0101966520688),\n",
       "  (-4.66553643531492, 11.2350276358361)),\n",
       " ((-5.354314977586, 12.7460608347206), (-2.4427544171414, 9.71752704116009)),\n",
       " ((-0.201358578984797, 7.3860821339771),\n",
       "  (-0.963534347579241, 7.82716716604106)),\n",
       " ((4.37582155553491, 4.73718442614264),\n",
       "  (-0.219297338487513, 6.12987725519927)),\n",
       " ((4.4793572669088, 4.70580472822685),\n",
       "  (-0.00833616745047952, 5.13217361575592)),\n",
       " ((3.14497325817683e-14, 5.13138160923985),\n",
       "  (0.00833616745047938, 5.13217361575591)),\n",
       " ((-4.47935726690881, 4.70580472822684),\n",
       "  (0.219297338487512, 6.12987725519927)),\n",
       " ((-4.37582155553494, 4.73718442614268),\n",
       "  (0.963534347579241, 7.82716716604106)),\n",
       " ((0.20135857898477, 7.38608213397714), (2.44275441714139, 9.71752704116008)),\n",
       " ((5.354314977586, 12.7460608347206), (4.66553643531491, 11.2350276358361)),\n",
       " ((7.75388091516244, 18.0101966520692), (7.43636685375677, 11.9128098465854)),\n",
       " ((7.81358892951421, 19.1568005450695), (10.3923048454133, 11.5)),\n",
       " ((9.39230196763572, 14.4692385006155), (13.0790876004, 10.0027926434596)),\n",
       " ((15.0070635008996, 7.66709948653846), (15.0494232880818, 7.64363637733541)),\n",
       " ((21.2305374946438, 4.21991385008992), (15.961103474451, 4.76126685996618)),\n",
       " ((23.3629342907313, 4.00084299363956), (15.6525714599183, 1.69306644407279)),\n",
       " ((20.9774713073887, 3.28685382690184), (14.1787079725397, -1.31659066094016)),\n",
       " ((15.7432118697816, -0.257264650127396),\n",
       "  (11.7986678724748, -4.15263436133887)),\n",
       " ((7.78827222898708, -8.11303478538837),\n",
       "  (8.91854373357365, -6.80519015897335)),\n",
       " ((100.775564271571, 99.4831752661858), (6.00193873516259, -9.30435108328571)),\n",
       " ((7.1176581500329, -8.02365347826293), (3.4688422001141, -11.647862932369)),\n",
       " ((0.49608699349052, -14.6005707895108),\n",
       "  (1.60584256813301, -13.7555738195943)),\n",
       " ((-2.92864290065901, -17.2082498581833),\n",
       "  (0.508080462043046, -15.4702755327845)),\n",
       " ((-3.49606368861049, -17.4951984010482),\n",
       "  (0.066042682118049, -16.6028663361257)),\n",
       " ((-1.51927786135046, -17.0), (2.9386816277228384e-47, -17.0))]"
      ]
     },
     "execution_count": 286,
     "metadata": {},
     "output_type": "execute_result"
    }
   ],
   "source": [
    "quad_points"
   ]
  },
  {
   "cell_type": "code",
   "execution_count": 40,
   "metadata": {
    "scrolled": true
   },
   "outputs": [
    {
     "name": "stdout",
     "output_type": "stream",
     "text": [
      "> \u001b[0;32m/Users/mpacer/jupyter/sympy/sympy/geometry/point.py\u001b[0m(158)\u001b[0;36m__new__\u001b[0;34m()\u001b[0m\n",
      "\u001b[0;32m    156 \u001b[0;31m            \u001b[0;32mraise\u001b[0m \u001b[0mValueError\u001b[0m\u001b[0;34m(\u001b[0m\u001b[0;34m'Nonzero coordinates cannot be removed.'\u001b[0m\u001b[0;34m)\u001b[0m\u001b[0;34m\u001b[0m\u001b[0m\n",
      "\u001b[0m\u001b[0;32m    157 \u001b[0;31m        \u001b[0;32mif\u001b[0m \u001b[0many\u001b[0m\u001b[0;34m(\u001b[0m\u001b[0ma\u001b[0m\u001b[0;34m.\u001b[0m\u001b[0mis_number\u001b[0m \u001b[0;32mand\u001b[0m \u001b[0mim\u001b[0m\u001b[0;34m(\u001b[0m\u001b[0ma\u001b[0m\u001b[0;34m)\u001b[0m \u001b[0;32mfor\u001b[0m \u001b[0ma\u001b[0m \u001b[0;32min\u001b[0m \u001b[0mcoords\u001b[0m\u001b[0;34m)\u001b[0m\u001b[0;34m:\u001b[0m\u001b[0;34m\u001b[0m\u001b[0m\n",
      "\u001b[0m\u001b[0;32m--> 158 \u001b[0;31m            \u001b[0;32mraise\u001b[0m \u001b[0mValueError\u001b[0m\u001b[0;34m(\u001b[0m\u001b[0;34m'Imaginary coordinates are not permitted.'\u001b[0m\u001b[0;34m)\u001b[0m\u001b[0;34m\u001b[0m\u001b[0m\n",
      "\u001b[0m\u001b[0;32m    159 \u001b[0;31m        \u001b[0;32mif\u001b[0m \u001b[0;32mnot\u001b[0m \u001b[0mall\u001b[0m\u001b[0;34m(\u001b[0m\u001b[0misinstance\u001b[0m\u001b[0;34m(\u001b[0m\u001b[0ma\u001b[0m\u001b[0;34m,\u001b[0m \u001b[0mExpr\u001b[0m\u001b[0;34m)\u001b[0m \u001b[0;32mfor\u001b[0m \u001b[0ma\u001b[0m \u001b[0;32min\u001b[0m \u001b[0mcoords\u001b[0m\u001b[0;34m)\u001b[0m\u001b[0;34m:\u001b[0m\u001b[0;34m\u001b[0m\u001b[0m\n",
      "\u001b[0m\u001b[0;32m    160 \u001b[0;31m            \u001b[0;32mraise\u001b[0m \u001b[0mTypeError\u001b[0m\u001b[0;34m(\u001b[0m\u001b[0;34m'Coordinates must be valid SymPy expressions.'\u001b[0m\u001b[0;34m)\u001b[0m\u001b[0;34m\u001b[0m\u001b[0m\n",
      "\u001b[0m\n",
      "ipdb> u\n",
      "> \u001b[0;32m/Users/mpacer/jupyter/sympy/sympy/geometry/point.py\u001b[0m(902)\u001b[0;36m__new__\u001b[0;34m()\u001b[0m\n",
      "\u001b[0;32m    900 \u001b[0;31m        \u001b[0;32mif\u001b[0m \u001b[0;32mnot\u001b[0m \u001b[0mkwargs\u001b[0m\u001b[0;34m.\u001b[0m\u001b[0mpop\u001b[0m\u001b[0;34m(\u001b[0m\u001b[0;34m'_nocheck'\u001b[0m\u001b[0;34m,\u001b[0m \u001b[0;32mFalse\u001b[0m\u001b[0;34m)\u001b[0m\u001b[0;34m:\u001b[0m\u001b[0;34m\u001b[0m\u001b[0m\n",
      "\u001b[0m\u001b[0;32m    901 \u001b[0;31m            \u001b[0mkwargs\u001b[0m\u001b[0;34m[\u001b[0m\u001b[0;34m'dim'\u001b[0m\u001b[0;34m]\u001b[0m \u001b[0;34m=\u001b[0m \u001b[0;36m2\u001b[0m\u001b[0;34m\u001b[0m\u001b[0m\n",
      "\u001b[0m\u001b[0;32m--> 902 \u001b[0;31m            \u001b[0margs\u001b[0m \u001b[0;34m=\u001b[0m \u001b[0mPoint\u001b[0m\u001b[0;34m(\u001b[0m\u001b[0;34m*\u001b[0m\u001b[0margs\u001b[0m\u001b[0;34m,\u001b[0m \u001b[0;34m**\u001b[0m\u001b[0mkwargs\u001b[0m\u001b[0;34m)\u001b[0m\u001b[0;34m\u001b[0m\u001b[0m\n",
      "\u001b[0m\u001b[0;32m    903 \u001b[0;31m        \u001b[0;32mreturn\u001b[0m \u001b[0mGeometryEntity\u001b[0m\u001b[0;34m.\u001b[0m\u001b[0m__new__\u001b[0m\u001b[0;34m(\u001b[0m\u001b[0mcls\u001b[0m\u001b[0;34m,\u001b[0m \u001b[0;34m*\u001b[0m\u001b[0margs\u001b[0m\u001b[0;34m)\u001b[0m\u001b[0;34m\u001b[0m\u001b[0m\n",
      "\u001b[0m\u001b[0;32m    904 \u001b[0;31m\u001b[0;34m\u001b[0m\u001b[0m\n",
      "\u001b[0m\n",
      "ipdb> u\n",
      "> \u001b[0;32m/Users/mpacer/jupyter/sympy/sympy/core/basic.py\u001b[0m(1021)\u001b[0;36mfallback\u001b[0;34m()\u001b[0m\n",
      "\u001b[0;32m   1019 \u001b[0;31m                    \u001b[0margs\u001b[0m\u001b[0;34m[\u001b[0m\u001b[0mi\u001b[0m\u001b[0;34m]\u001b[0m \u001b[0;34m=\u001b[0m \u001b[0marg\u001b[0m\u001b[0;34m\u001b[0m\u001b[0m\n",
      "\u001b[0m\u001b[0;32m   1020 \u001b[0;31m            \u001b[0;32mif\u001b[0m \u001b[0mhit\u001b[0m\u001b[0;34m:\u001b[0m\u001b[0;34m\u001b[0m\u001b[0m\n",
      "\u001b[0m\u001b[0;32m-> 1021 \u001b[0;31m                \u001b[0mrv\u001b[0m \u001b[0;34m=\u001b[0m \u001b[0mself\u001b[0m\u001b[0;34m.\u001b[0m\u001b[0mfunc\u001b[0m\u001b[0;34m(\u001b[0m\u001b[0;34m*\u001b[0m\u001b[0margs\u001b[0m\u001b[0;34m)\u001b[0m\u001b[0;34m\u001b[0m\u001b[0m\n",
      "\u001b[0m\u001b[0;32m   1022 \u001b[0;31m                \u001b[0mhack2\u001b[0m \u001b[0;34m=\u001b[0m \u001b[0mhints\u001b[0m\u001b[0;34m.\u001b[0m\u001b[0mget\u001b[0m\u001b[0;34m(\u001b[0m\u001b[0;34m'hack2'\u001b[0m\u001b[0;34m,\u001b[0m \u001b[0;32mFalse\u001b[0m\u001b[0;34m)\u001b[0m\u001b[0;34m\u001b[0m\u001b[0m\n",
      "\u001b[0m\u001b[0;32m   1023 \u001b[0;31m                \u001b[0;32mif\u001b[0m \u001b[0mhack2\u001b[0m \u001b[0;32mand\u001b[0m \u001b[0mself\u001b[0m\u001b[0;34m.\u001b[0m\u001b[0mis_Mul\u001b[0m \u001b[0;32mand\u001b[0m \u001b[0;32mnot\u001b[0m \u001b[0mrv\u001b[0m\u001b[0;34m.\u001b[0m\u001b[0mis_Mul\u001b[0m\u001b[0;34m:\u001b[0m  \u001b[0;31m# 2-arg hack\u001b[0m\u001b[0;34m\u001b[0m\u001b[0m\n",
      "\u001b[0m\n",
      "ipdb> self.func\n",
      "<class 'sympy.geometry.point.Point2D'>\n",
      "ipdb> args\n",
      "self = Point2D((-(-208*sin(u) + 160*sin(2*u) + 96*sin(3*u) + 64*sin(4*u))*sin(sin(sin(u))) + 16*(-13*sin(u) + 10*sin(2*u) + 6*sin(3*u) + 4*sin(4*u))*sin(sin(sin(u))))/(13*sin(u) - 10*sin(2*u) - 6*sin(3*u) - 4*sin(4*u)), zoo*(256*(-13*sin(u) + 10*sin(2*u) + 6*sin(3*u) + 4*sin(4*u))*sin(sin(sin(u))) + (3328*sin(u) - 2560*sin(2*u) - 1536*sin(3*u) - 1024*sin(4*u))*sin(sin(sin(u))))/(13*sin(u) - 10*sin(2*u) - 6*sin(3*u) - 4*sin(4*u)))\n",
      "old = u\n",
      "new = 0.0101010101010101\n",
      "ipdb> -208*sin(0.0101010101010101)\n",
      "*** NameError: name 'sin' is not defined\n",
      "ipdb> u\n",
      "> \u001b[0;32m/Users/mpacer/jupyter/sympy/sympy/core/basic.py\u001b[0m(1044)\u001b[0;36m_subs\u001b[0;34m()\u001b[0m\n",
      "\u001b[0;32m   1042 \u001b[0;31m        \u001b[0mrv\u001b[0m \u001b[0;34m=\u001b[0m \u001b[0mself\u001b[0m\u001b[0;34m.\u001b[0m\u001b[0m_eval_subs\u001b[0m\u001b[0;34m(\u001b[0m\u001b[0mold\u001b[0m\u001b[0;34m,\u001b[0m \u001b[0mnew\u001b[0m\u001b[0;34m)\u001b[0m\u001b[0;34m\u001b[0m\u001b[0m\n",
      "\u001b[0m\u001b[0;32m   1043 \u001b[0;31m        \u001b[0;32mif\u001b[0m \u001b[0mrv\u001b[0m \u001b[0;32mis\u001b[0m \u001b[0;32mNone\u001b[0m\u001b[0;34m:\u001b[0m\u001b[0;34m\u001b[0m\u001b[0m\n",
      "\u001b[0m\u001b[0;32m-> 1044 \u001b[0;31m            \u001b[0mrv\u001b[0m \u001b[0;34m=\u001b[0m \u001b[0mfallback\u001b[0m\u001b[0;34m(\u001b[0m\u001b[0mself\u001b[0m\u001b[0;34m,\u001b[0m \u001b[0mold\u001b[0m\u001b[0;34m,\u001b[0m \u001b[0mnew\u001b[0m\u001b[0;34m)\u001b[0m\u001b[0;34m\u001b[0m\u001b[0m\n",
      "\u001b[0m\u001b[0;32m   1045 \u001b[0;31m        \u001b[0;32mreturn\u001b[0m \u001b[0mrv\u001b[0m\u001b[0;34m\u001b[0m\u001b[0m\n",
      "\u001b[0m\u001b[0;32m   1046 \u001b[0;31m\u001b[0;34m\u001b[0m\u001b[0m\n",
      "\u001b[0m\n",
      "ipdb> u\n",
      "> \u001b[0;32m/Users/mpacer/jupyter/sympy/sympy/core/cache.py\u001b[0m(95)\u001b[0;36mwrapper\u001b[0;34m()\u001b[0m\n",
      "\u001b[0;32m     93 \u001b[0;31m                    \u001b[0mretval\u001b[0m \u001b[0;34m=\u001b[0m \u001b[0mcfunc\u001b[0m\u001b[0;34m(\u001b[0m\u001b[0;34m*\u001b[0m\u001b[0margs\u001b[0m\u001b[0;34m,\u001b[0m \u001b[0;34m**\u001b[0m\u001b[0mkwargs\u001b[0m\u001b[0;34m)\u001b[0m\u001b[0;34m\u001b[0m\u001b[0m\n",
      "\u001b[0m\u001b[0;32m     94 \u001b[0;31m                \u001b[0;32mexcept\u001b[0m \u001b[0mTypeError\u001b[0m\u001b[0;34m:\u001b[0m\u001b[0;34m\u001b[0m\u001b[0m\n",
      "\u001b[0m\u001b[0;32m---> 95 \u001b[0;31m                    \u001b[0mretval\u001b[0m \u001b[0;34m=\u001b[0m \u001b[0mfunc\u001b[0m\u001b[0;34m(\u001b[0m\u001b[0;34m*\u001b[0m\u001b[0margs\u001b[0m\u001b[0;34m,\u001b[0m \u001b[0;34m**\u001b[0m\u001b[0mkwargs\u001b[0m\u001b[0;34m)\u001b[0m\u001b[0;34m\u001b[0m\u001b[0m\n",
      "\u001b[0m\u001b[0;32m     96 \u001b[0;31m                \u001b[0;32mreturn\u001b[0m \u001b[0mretval\u001b[0m\u001b[0;34m\u001b[0m\u001b[0m\n",
      "\u001b[0m\u001b[0;32m     97 \u001b[0;31m\u001b[0;34m\u001b[0m\u001b[0m\n",
      "\u001b[0m\n",
      "ipdb> d\n",
      "> \u001b[0;32m/Users/mpacer/jupyter/sympy/sympy/core/basic.py\u001b[0m(1044)\u001b[0;36m_subs\u001b[0;34m()\u001b[0m\n",
      "\u001b[0;32m   1042 \u001b[0;31m        \u001b[0mrv\u001b[0m \u001b[0;34m=\u001b[0m \u001b[0mself\u001b[0m\u001b[0;34m.\u001b[0m\u001b[0m_eval_subs\u001b[0m\u001b[0;34m(\u001b[0m\u001b[0mold\u001b[0m\u001b[0;34m,\u001b[0m \u001b[0mnew\u001b[0m\u001b[0;34m)\u001b[0m\u001b[0;34m\u001b[0m\u001b[0m\n",
      "\u001b[0m\u001b[0;32m   1043 \u001b[0;31m        \u001b[0;32mif\u001b[0m \u001b[0mrv\u001b[0m \u001b[0;32mis\u001b[0m \u001b[0;32mNone\u001b[0m\u001b[0;34m:\u001b[0m\u001b[0;34m\u001b[0m\u001b[0m\n",
      "\u001b[0m\u001b[0;32m-> 1044 \u001b[0;31m            \u001b[0mrv\u001b[0m \u001b[0;34m=\u001b[0m \u001b[0mfallback\u001b[0m\u001b[0;34m(\u001b[0m\u001b[0mself\u001b[0m\u001b[0;34m,\u001b[0m \u001b[0mold\u001b[0m\u001b[0;34m,\u001b[0m \u001b[0mnew\u001b[0m\u001b[0;34m)\u001b[0m\u001b[0;34m\u001b[0m\u001b[0m\n",
      "\u001b[0m\u001b[0;32m   1045 \u001b[0;31m        \u001b[0;32mreturn\u001b[0m \u001b[0mrv\u001b[0m\u001b[0;34m\u001b[0m\u001b[0m\n",
      "\u001b[0m\u001b[0;32m   1046 \u001b[0;31m\u001b[0;34m\u001b[0m\u001b[0m\n",
      "\u001b[0m\n",
      "ipdb> from sympy import sin, cos\n",
      "ipdb> -208*sin(0.0101010101010101)\n",
      "-2.10097437337376\n",
      "ipdb> 160*sin(2*u)\n",
      "*** NameError: name 'u' is not defined\n",
      "ipdb> u = 0.01010101010101\n",
      "*** Invalid frame count (= 0.01010101010101)\n",
      "ipdb> (u=0.01010101010101)\n",
      "*** SyntaxError: invalid syntax\n",
      "ipdb> self\n",
      "Point2D((-(-208*sin(u) + 160*sin(2*u) + 96*sin(3*u) + 64*sin(4*u))*sin(sin(sin(u))) + 16*(-13*sin(u) + 10*sin(2*u) + 6*sin(3*u) + 4*sin(4*u))*sin(sin(sin(u))))/(13*sin(u) - 10*sin(2*u) - 6*sin(3*u) - 4*sin(4*u)), zoo*(256*(-13*sin(u) + 10*sin(2*u) + 6*sin(3*u) + 4*sin(4*u))*sin(sin(sin(u))) + (3328*sin(u) - 2560*sin(2*u) - 1536*sin(3*u) - 1024*sin(4*u))*sin(sin(sin(u))))/(13*sin(u) - 10*sin(2*u) - 6*sin(3*u) - 4*sin(4*u)))\n",
      "ipdb> type(self)\n",
      "<class 'sympy.geometry.point.Point2D'>\n",
      "ipdb> exit\n"
     ]
    }
   ],
   "source": [
    "%debug\n"
   ]
  },
  {
   "cell_type": "code",
   "execution_count": 111,
   "metadata": {},
   "outputs": [
    {
     "data": {
      "image/png": "[encoded data removed]",
      "text/plain": [
       "<Figure size 432x288 with 1 Axes>"
      ]
     },
     "metadata": {
      "needs_background": "light"
     },
     "output_type": "display_data"
    }
   ],
   "source": [
    "import numpy as np\n",
    "import matplotlib.pyplot as plt\n",
    "\n",
    "\n",
    "plt.rcParams['legend.fontsize'] = 10\n",
    "\n",
    "fig = plt.figure()\n",
    "ax = fig.gca()\n",
    "\n",
    "\n",
    "# Prepare arrays x, y, z\n",
    "t = np.linspace(t_0, t_max, 100)\n",
    "x = 16*np.sin(t)**3\n",
    "y = 13*np.cos(t) - 5*(np.cos(2*t)) -2*np.cos(3*t) - np.cos(4*t)\n",
    "\n",
    "ax.plot(x, y, label='parametric curve')\n",
    "ax.legend()\n",
    "\n",
    "plt.show()\n"
   ]
  },
  {
   "cell_type": "code",
   "execution_count": 42,
   "metadata": {},
   "outputs": [
    {
     "ename": "NameError",
     "evalue": "name 'zoo' is not defined",
     "output_type": "error",
     "traceback": [
      "\u001b[0;31m---------------------------------------------------------------------------\u001b[0m",
      "\u001b[0;31mNameError\u001b[0m                                 Traceback (most recent call last)",
      "\u001b[0;32m<ipython-input-42-3f738526e6f2>\u001b[0m in \u001b[0;36m<module>\u001b[0;34m()\u001b[0m\n\u001b[0;32m----> 1\u001b[0;31m \u001b[0mhiya\u001b[0m \u001b[0;34m=\u001b[0m \u001b[0mPoint2D\u001b[0m\u001b[0;34m(\u001b[0m\u001b[0;34m(\u001b[0m\u001b[0;34m-\u001b[0m\u001b[0;34m(\u001b[0m\u001b[0;34m-\u001b[0m\u001b[0;36m208\u001b[0m\u001b[0;34m*\u001b[0m\u001b[0msin\u001b[0m\u001b[0;34m(\u001b[0m\u001b[0mu\u001b[0m\u001b[0;34m)\u001b[0m \u001b[0;34m+\u001b[0m \u001b[0;36m160\u001b[0m\u001b[0;34m*\u001b[0m\u001b[0msin\u001b[0m\u001b[0;34m(\u001b[0m\u001b[0;36m2\u001b[0m\u001b[0;34m*\u001b[0m\u001b[0mu\u001b[0m\u001b[0;34m)\u001b[0m \u001b[0;34m+\u001b[0m \u001b[0;36m96\u001b[0m\u001b[0;34m*\u001b[0m\u001b[0msin\u001b[0m\u001b[0;34m(\u001b[0m\u001b[0;36m3\u001b[0m\u001b[0;34m*\u001b[0m\u001b[0mu\u001b[0m\u001b[0;34m)\u001b[0m \u001b[0;34m+\u001b[0m \u001b[0;36m64\u001b[0m\u001b[0;34m*\u001b[0m\u001b[0msin\u001b[0m\u001b[0;34m(\u001b[0m\u001b[0;36m4\u001b[0m\u001b[0;34m*\u001b[0m\u001b[0mu\u001b[0m\u001b[0;34m)\u001b[0m\u001b[0;34m)\u001b[0m\u001b[0;34m*\u001b[0m\u001b[0msin\u001b[0m\u001b[0;34m(\u001b[0m\u001b[0msin\u001b[0m\u001b[0;34m(\u001b[0m\u001b[0msin\u001b[0m\u001b[0;34m(\u001b[0m\u001b[0mu\u001b[0m\u001b[0;34m)\u001b[0m\u001b[0;34m)\u001b[0m\u001b[0;34m)\u001b[0m \u001b[0;34m+\u001b[0m \u001b[0;36m16\u001b[0m\u001b[0;34m*\u001b[0m\u001b[0;34m(\u001b[0m\u001b[0;34m-\u001b[0m\u001b[0;36m13\u001b[0m\u001b[0;34m*\u001b[0m\u001b[0msin\u001b[0m\u001b[0;34m(\u001b[0m\u001b[0mu\u001b[0m\u001b[0;34m)\u001b[0m \u001b[0;34m+\u001b[0m \u001b[0;36m10\u001b[0m\u001b[0;34m*\u001b[0m\u001b[0msin\u001b[0m\u001b[0;34m(\u001b[0m\u001b[0;36m2\u001b[0m\u001b[0;34m*\u001b[0m\u001b[0mu\u001b[0m\u001b[0;34m)\u001b[0m \u001b[0;34m+\u001b[0m \u001b[0;36m6\u001b[0m\u001b[0;34m*\u001b[0m\u001b[0msin\u001b[0m\u001b[0;34m(\u001b[0m\u001b[0;36m3\u001b[0m\u001b[0;34m*\u001b[0m\u001b[0mu\u001b[0m\u001b[0;34m)\u001b[0m \u001b[0;34m+\u001b[0m \u001b[0;36m4\u001b[0m\u001b[0;34m*\u001b[0m\u001b[0msin\u001b[0m\u001b[0;34m(\u001b[0m\u001b[0;36m4\u001b[0m\u001b[0;34m*\u001b[0m\u001b[0mu\u001b[0m\u001b[0;34m)\u001b[0m\u001b[0;34m)\u001b[0m\u001b[0;34m*\u001b[0m\u001b[0msin\u001b[0m\u001b[0;34m(\u001b[0m\u001b[0msin\u001b[0m\u001b[0;34m(\u001b[0m\u001b[0msin\u001b[0m\u001b[0;34m(\u001b[0m\u001b[0mu\u001b[0m\u001b[0;34m)\u001b[0m\u001b[0;34m)\u001b[0m\u001b[0;34m)\u001b[0m\u001b[0;34m)\u001b[0m\u001b[0;34m/\u001b[0m\u001b[0;34m(\u001b[0m\u001b[0;36m13\u001b[0m\u001b[0;34m*\u001b[0m\u001b[0msin\u001b[0m\u001b[0;34m(\u001b[0m\u001b[0mu\u001b[0m\u001b[0;34m)\u001b[0m \u001b[0;34m-\u001b[0m \u001b[0;36m10\u001b[0m\u001b[0;34m*\u001b[0m\u001b[0msin\u001b[0m\u001b[0;34m(\u001b[0m\u001b[0;36m2\u001b[0m\u001b[0;34m*\u001b[0m\u001b[0mu\u001b[0m\u001b[0;34m)\u001b[0m \u001b[0;34m-\u001b[0m \u001b[0;36m6\u001b[0m\u001b[0;34m*\u001b[0m\u001b[0msin\u001b[0m\u001b[0;34m(\u001b[0m\u001b[0;36m3\u001b[0m\u001b[0;34m*\u001b[0m\u001b[0mu\u001b[0m\u001b[0;34m)\u001b[0m \u001b[0;34m-\u001b[0m \u001b[0;36m4\u001b[0m\u001b[0;34m*\u001b[0m\u001b[0msin\u001b[0m\u001b[0;34m(\u001b[0m\u001b[0;36m4\u001b[0m\u001b[0;34m*\u001b[0m\u001b[0mu\u001b[0m\u001b[0;34m)\u001b[0m\u001b[0;34m)\u001b[0m\u001b[0;34m,\u001b[0m \u001b[0mzoo\u001b[0m\u001b[0;34m*\u001b[0m\u001b[0;34m(\u001b[0m\u001b[0;36m256\u001b[0m\u001b[0;34m*\u001b[0m\u001b[0;34m(\u001b[0m\u001b[0;34m-\u001b[0m\u001b[0;36m13\u001b[0m\u001b[0;34m*\u001b[0m\u001b[0msin\u001b[0m\u001b[0;34m(\u001b[0m\u001b[0mu\u001b[0m\u001b[0;34m)\u001b[0m \u001b[0;34m+\u001b[0m \u001b[0;36m10\u001b[0m\u001b[0;34m*\u001b[0m\u001b[0msin\u001b[0m\u001b[0;34m(\u001b[0m\u001b[0;36m2\u001b[0m\u001b[0;34m*\u001b[0m\u001b[0mu\u001b[0m\u001b[0;34m)\u001b[0m \u001b[0;34m+\u001b[0m \u001b[0;36m6\u001b[0m\u001b[0;34m*\u001b[0m\u001b[0msin\u001b[0m\u001b[0;34m(\u001b[0m\u001b[0;36m3\u001b[0m\u001b[0;34m*\u001b[0m\u001b[0mu\u001b[0m\u001b[0;34m)\u001b[0m \u001b[0;34m+\u001b[0m \u001b[0;36m4\u001b[0m\u001b[0;34m*\u001b[0m\u001b[0msin\u001b[0m\u001b[0;34m(\u001b[0m\u001b[0;36m4\u001b[0m\u001b[0;34m*\u001b[0m\u001b[0mu\u001b[0m\u001b[0;34m)\u001b[0m\u001b[0;34m)\u001b[0m\u001b[0;34m*\u001b[0m\u001b[0msin\u001b[0m\u001b[0;34m(\u001b[0m\u001b[0msin\u001b[0m\u001b[0;34m(\u001b[0m\u001b[0msin\u001b[0m\u001b[0;34m(\u001b[0m\u001b[0mu\u001b[0m\u001b[0;34m)\u001b[0m\u001b[0;34m)\u001b[0m\u001b[0;34m)\u001b[0m \u001b[0;34m+\u001b[0m \u001b[0;34m(\u001b[0m\u001b[0;36m3328\u001b[0m\u001b[0;34m*\u001b[0m\u001b[0msin\u001b[0m\u001b[0;34m(\u001b[0m\u001b[0mu\u001b[0m\u001b[0;34m)\u001b[0m \u001b[0;34m-\u001b[0m \u001b[0;36m2560\u001b[0m\u001b[0;34m*\u001b[0m\u001b[0msin\u001b[0m\u001b[0;34m(\u001b[0m\u001b[0;36m2\u001b[0m\u001b[0;34m*\u001b[0m\u001b[0mu\u001b[0m\u001b[0;34m)\u001b[0m \u001b[0;34m-\u001b[0m \u001b[0;36m1536\u001b[0m\u001b[0;34m*\u001b[0m\u001b[0msin\u001b[0m\u001b[0;34m(\u001b[0m\u001b[0;36m3\u001b[0m\u001b[0;34m*\u001b[0m\u001b[0mu\u001b[0m\u001b[0;34m)\u001b[0m \u001b[0;34m-\u001b[0m \u001b[0;36m1024\u001b[0m\u001b[0;34m*\u001b[0m\u001b[0msin\u001b[0m\u001b[0;34m(\u001b[0m\u001b[0;36m4\u001b[0m\u001b[0;34m*\u001b[0m\u001b[0mu\u001b[0m\u001b[0;34m)\u001b[0m\u001b[0;34m)\u001b[0m\u001b[0;34m*\u001b[0m\u001b[0msin\u001b[0m\u001b[0;34m(\u001b[0m\u001b[0msin\u001b[0m\u001b[0;34m(\u001b[0m\u001b[0msin\u001b[0m\u001b[0;34m(\u001b[0m\u001b[0mu\u001b[0m\u001b[0;34m)\u001b[0m\u001b[0;34m)\u001b[0m\u001b[0;34m)\u001b[0m\u001b[0;34m)\u001b[0m\u001b[0;34m/\u001b[0m\u001b[0;34m(\u001b[0m\u001b[0;36m13\u001b[0m\u001b[0;34m*\u001b[0m\u001b[0msin\u001b[0m\u001b[0;34m(\u001b[0m\u001b[0mu\u001b[0m\u001b[0;34m)\u001b[0m \u001b[0;34m-\u001b[0m \u001b[0;36m10\u001b[0m\u001b[0;34m*\u001b[0m\u001b[0msin\u001b[0m\u001b[0;34m(\u001b[0m\u001b[0;36m2\u001b[0m\u001b[0;34m*\u001b[0m\u001b[0mu\u001b[0m\u001b[0;34m)\u001b[0m \u001b[0;34m-\u001b[0m \u001b[0;36m6\u001b[0m\u001b[0;34m*\u001b[0m\u001b[0msin\u001b[0m\u001b[0;34m(\u001b[0m\u001b[0;36m3\u001b[0m\u001b[0;34m*\u001b[0m\u001b[0mu\u001b[0m\u001b[0;34m)\u001b[0m \u001b[0;34m-\u001b[0m \u001b[0;36m4\u001b[0m\u001b[0;34m*\u001b[0m\u001b[0msin\u001b[0m\u001b[0;34m(\u001b[0m\u001b[0;36m4\u001b[0m\u001b[0;34m*\u001b[0m\u001b[0mu\u001b[0m\u001b[0;34m)\u001b[0m\u001b[0;34m)\u001b[0m\u001b[0;34m)\u001b[0m\u001b[0;34m\u001b[0m\u001b[0m\n\u001b[0m\u001b[1;32m      2\u001b[0m \u001b[0mhiya\u001b[0m\u001b[0;34m.\u001b[0m\u001b[0mfunc\u001b[0m\u001b[0;34m(\u001b[0m\u001b[0mdict\u001b[0m\u001b[0;34m(\u001b[0m\u001b[0mold\u001b[0m\u001b[0;34m=\u001b[0m\u001b[0;34m\"u\"\u001b[0m\u001b[0;34m,\u001b[0m \u001b[0mnew\u001b[0m\u001b[0;34m=\u001b[0m\u001b[0;34m\"0.0101010101010101\"\u001b[0m\u001b[0;34m)\u001b[0m\u001b[0;34m)\u001b[0m\u001b[0;34m\u001b[0m\u001b[0m\n",
      "\u001b[0;31mNameError\u001b[0m: name 'zoo' is not defined"
     ]
    }
   ],
   "source": [
    "hiya = Point2D((-(-208*sin(u) + 160*sin(2*u) + 96*sin(3*u) + 64*sin(4*u))*sin(sin(sin(u))) + 16*(-13*sin(u) + 10*sin(2*u) + 6*sin(3*u) + 4*sin(4*u))*sin(sin(sin(u))))/(13*sin(u) - 10*sin(2*u) - 6*sin(3*u) - 4*sin(4*u)), zoo*(256*(-13*sin(u) + 10*sin(2*u) + 6*sin(3*u) + 4*sin(4*u))*sin(sin(sin(u))) + (3328*sin(u) - 2560*sin(2*u) - 1536*sin(3*u) - 1024*sin(4*u))*sin(sin(sin(u))))/(13*sin(u) - 10*sin(2*u) - 6*sin(3*u) - 4*sin(4*u)))\n",
    "hiya.func(dict(old=\"u\", new=\"0.0101010101010101\"))"
   ]
  },
  {
   "cell_type": "code",
   "execution_count": null,
   "metadata": {},
   "outputs": [],
   "source": []
  }
 ],
 "metadata": {
  "kernelspec": {
   "display_name": "Python 3",
   "language": "python",
   "name": "python3"
  },
  "language_info": {
   "codemirror_mode": {
    "name": "ipython",
    "version": 3
   },
   "file_extension": ".py",
   "mimetype": "text/x-python",
   "name": "python",
   "nbconvert_exporter": "python",
   "pygments_lexer": "ipython3",
   "version": "3.6.5"
  }
 },
 "nbformat": 4,
 "nbformat_minor": 2
}
