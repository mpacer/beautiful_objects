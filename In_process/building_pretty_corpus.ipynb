{
 "cells": [
  {
   "cell_type": "code",
   "execution_count": 1,
   "metadata": {},
   "outputs": [],
   "source": [
    "import math\n",
    "\n",
    "from uuid import uuid4\n",
    "\n",
    "from vdom.svg import *\n",
    "\n",
    "from sympy import symbols, sin, cos, pi, Point, Line, Point2D\n",
    "from sympy.simplify import simplify\n",
    "\n",
    "import regex\n",
    "\n",
    "import lxml.etree as et \n",
    "\n",
    "from allofplos import starterdir, Corpus\n",
    "\n",
    "\n",
    "from IPython.display import HTML\n"
   ]
  },
  {
   "cell_type": "code",
   "execution_count": null,
   "metadata": {},
   "outputs": [],
   "source": [
    "\n"
   ]
  },
  {
   "cell_type": "code",
   "execution_count": 2,
   "metadata": {},
   "outputs": [],
   "source": [
    "class ArchemedianSpiral:\n",
    "    a, b, θ, ϕ = symbols('a,b,θ, ϕ')\n",
    "    y1 = (a+b*θ)*sin(θ)\n",
    "    x1 = (a+b*θ)*cos(θ)\n",
    "    y2 = (a+b*ϕ)*sin(ϕ)\n",
    "    x2 = (a+b*ϕ)*cos(ϕ)\n",
    "\n",
    "    g = (b*sin(θ) + (a + b*θ)*cos(θ))/(b*cos(θ) - (a+b*θ)*sin(θ))\n",
    "    h = (b*sin(ϕ) + (a + b*ϕ)*cos(ϕ))/(b*cos(ϕ) - (a+b*ϕ)*sin(ϕ))\n",
    "\n",
    "    p1 = Point(x1,y1)\n",
    "    p2 = Point(x2,y2)\n",
    "    l1 = Line(p1, slope=g)\n",
    "    l2 = Line(p2, slope=h)\n",
    "    #self.int_point = self.l1.intersection(self.l2)[0]\n",
    "    # hard code this so that it takes less time to create the class\n",
    "    int_point = Point2D(\n",
    "        (a**3*sin(θ) - a**3*sin(ϕ) + a**2*b*θ*sin(θ) - 2*a**2*b*θ*sin(ϕ) + 2*a**2*b*ϕ*sin(θ) \n",
    "         - a**2*b*ϕ*sin(ϕ) - a**2*b*cos(θ) + a**2*b*cos(ϕ) - a*b**2*θ**2*sin(ϕ) + 2*a*b**2*θ*ϕ*sin(θ) \n",
    "         - 2*a*b**2*θ*ϕ*sin(ϕ) + 2*a*b**2*θ*cos(ϕ) + a*b**2*ϕ**2*sin(θ) - 2*a*b**2*ϕ*cos(θ) - b**3*θ**2*ϕ*sin(ϕ) \n",
    "         + b**3*θ**2*cos(ϕ) + b**3*θ*ϕ**2*sin(θ) - b**3*ϕ**2*cos(θ))\n",
    "        /(a**2*sin(θ - ϕ) + a*b*θ*sin(θ - ϕ) + a*b*ϕ*sin(θ - ϕ) + b**2*θ*ϕ*sin(θ - ϕ) + b**2*θ*cos(θ - ϕ) - \n",
    "          b**2*ϕ*cos(θ - ϕ) + b**2*sin(θ - ϕ)), \n",
    "        (((a + b*θ)\n",
    "          *(b*cos(θ) - (a + b*θ)*sin(θ))\n",
    "          *(a**2*sin(θ - ϕ) + a*b*θ*sin(θ - ϕ) + a*b*ϕ*sin(θ - ϕ) + b**2*θ*ϕ*sin(θ - ϕ) + b**2*θ*cos(θ - ϕ) - b**2*ϕ*cos(θ - ϕ) + b**2*sin(θ - ϕ))\n",
    "          *sin(θ)) \n",
    "         - ((b*sin(θ) + (a + b*θ)*cos(θ))\n",
    "            *(-(b*sin(θ) + (a + b*θ)*cos(θ))\n",
    "              *(b*cos(ϕ) - (a + b*ϕ)*sin(ϕ))\n",
    "              *((a + b*θ)*cos(θ) - (a + b*ϕ)*cos(ϕ)) \n",
    "              + ((b*cos(θ) - (a + b*θ)*sin(θ))\n",
    "                *(b*cos(ϕ) - (a + b*ϕ)*sin(ϕ))\n",
    "                *((a + b*θ)*sin(θ) - (a + b*ϕ)*sin(ϕ)))\n",
    "              + ((a + b*θ)*cos(θ) - (a + b*ϕ)*cos(ϕ))\n",
    "              *(a**2*sin(θ - ϕ) \n",
    "                + a*b*θ*sin(θ - ϕ) \n",
    "                + a*b*ϕ*sin(θ - ϕ) \n",
    "                + b**2*θ*ϕ*sin(θ - ϕ) \n",
    "                + b**2*θ*cos(θ - ϕ) \n",
    "                - b**2*ϕ*cos(θ - ϕ) \n",
    "                + b**2*sin(θ - ϕ))\n",
    "             ))\n",
    "        )/((b*cos(θ) - (a + b*θ)*sin(θ))\n",
    "           *(a**2*sin(θ - ϕ) \n",
    "             + a*b*θ*sin(θ - ϕ) \n",
    "             + a*b*ϕ*sin(θ - ϕ) \n",
    "             + b**2*θ*ϕ*sin(θ - ϕ) \n",
    "             + b**2*θ*cos(θ - ϕ) \n",
    "             - b**2*ϕ*cos(θ - ϕ) \n",
    "             + b**2*sin(θ - ϕ))\n",
    "          )\n",
    "    )\n",
    "    \n",
    "    def __init__(self, a=0, b=1, num_cycles=3, angle=45, font_size=1, gen_quads=True):\n",
    "        self.a = a\n",
    "        self.b = b\n",
    "        self.num_cycles = num_cycles\n",
    "        self.angle = angle\n",
    "        self.font_size = font_size\n",
    "        self._quads = None\n",
    "        if gen_quads:\n",
    "            self.quads\n",
    "        \n",
    "    @property\n",
    "    def center(self):\n",
    "        return float(self.b*(self.num_cycles*pi*2)+14*self.font_size) + max(self.initial_point)\n",
    "    \n",
    "    @property\n",
    "    def initial_point(self):\n",
    "        \"\"\" Because quadratic curves are assuming that they are absolute we need to provide the starting point.\n",
    "        \"\"\"\n",
    "        return list(map(float, self.p1.subs({\"a\":self.a, \n",
    "                                             \"b\":self.b, \n",
    "                                             \"θ\":0\n",
    "                                            }).args))\n",
    "    \n",
    "    @property\n",
    "    def quads(self):\n",
    "        if self._quads is None: \n",
    "            self._quads = list(self.get_quad_control_points())\n",
    "        return self._quads\n",
    "    \n",
    "    @property\n",
    "    def curve_string(self):\n",
    "        starting_point = map(lambda x: str(self.center + x), self.initial_point)\n",
    "        starting_string = f'M{\",\".join(starting_point)}'        \n",
    "        return f\"{starting_string} {self.quad_string}\"\n",
    "\n",
    "\n",
    "    def quad_to_string(self, quad):\n",
    "        ctrl_pt = \",\".join(map(str, (q+self.center for q in quad[0])))\n",
    "        final_pt = \",\".join(map(str, (q+self.center for q in quad[1])))\n",
    "        return f\"Q{ctrl_pt} {final_pt}\"\n",
    "        \n",
    "    @property\n",
    "    def quad_string(self):       \n",
    "        for quad in self.quads:\n",
    "            return \" \".join(self.quad_to_string(quad) for quad in self.quads)\n",
    "            \n",
    "        \n",
    "    def get_intersection_points(self, num_cycles, angle_change, θ0=0):\n",
    "        \"\"\"\n",
    "        num_cycles: \n",
    "            how many times does the spiral go around (this will be rounded up to give a complete segment)\n",
    "        angle_change:\n",
    "            how large is the change in angle for each quadratic segment\n",
    "        \"\"\"\n",
    "        num_degs = num_cycles*360\n",
    "        num_angles = math.floor(num_degs/angle_change)\n",
    "        \n",
    "\n",
    "        δθ = (pi/180)*angle_change\n",
    "        for x in range(num_angles):\n",
    "            loc_θ = θ0 + x*δθ\n",
    "            yield {\"int_point\": self.int_point.subs({\"a\":self.a, \n",
    "                                                     \"b\":self.b, \n",
    "                                                     \"θ\":loc_θ, \n",
    "                                                     \"ϕ\":(loc_θ+δθ)}),\n",
    "                   \"loc_θ\": loc_θ,\n",
    "                   \"δθ\": δθ\n",
    "                  }\n",
    "\n",
    "    def get_quad_control_points(self, θ0=0):\n",
    "        \n",
    "        for x in self.get_intersection_points(self.num_cycles, self.angle, θ0=θ0):\n",
    "            yield (tuple(map(float, x['int_point'].args)), \n",
    "                   tuple(map(float, self.p2.subs({\"a\":self.a, \n",
    "                                                  \"b\":self.b, \n",
    "                                                  \"θ\":x['loc_θ'], \n",
    "                                                  \"ϕ\":(x['loc_θ']+x['δθ'])\n",
    "                                                 }).args))\n",
    "                  )"
   ]
  },
  {
   "cell_type": "code",
   "execution_count": 81,
   "metadata": {},
   "outputs": [],
   "source": [
    "def svgStyledSpiral(content = None, spiral=None, stroke=\"\", **kwargs):\n",
    "    \"\"\"\n",
    "    font_size: float \n",
    "        default is 1; interpreted as em (so 1 is notebook default)\n",
    "    \"\"\"\n",
    "\n",
    "    if content is None:\n",
    "        content = \"The quick brown fox jumps over the lazy dog. \"*10\n",
    "    if spiral is None:\n",
    "        #   a # how far out to start\n",
    "        #   b # number of units between cycles\n",
    "        #   num_cycles # minimum number of cycles to be covered\n",
    "        #   angle # number of degrees each quadratic curve will approximate\n",
    "\n",
    "        spiral = ArchemedianSpiral(a=kwargs[\"a\"], b=kwargs[\"b\"], \n",
    "                                   num_cycles=kwargs['num_cycles'], \n",
    "                                   angle=kwargs['angle'],\n",
    "                                   font_size=kwargs['font_size'])\n",
    "                     \n",
    "\n",
    "    starting_point = map(lambda x: str(center + x), spiral.initial_point)\n",
    "    font_size = spiral.font_size\n",
    "    myid = f\"{uuid4()}\"\n",
    "    side = spiral.center*2 + 1.5*font_size*14\n",
    "    return svg(\n",
    "        path(id=f\"{myid}\",\n",
    "             fill=\"none\", \n",
    "             stroke=stroke,\n",
    "             d=spiral.curve_string\n",
    "            ),\n",
    "        text(\n",
    "            textPath(content,\n",
    "                     **{\"xlink:href\":f\"#{myid}\"}),\n",
    "            style={\"fontSize\": f\"{font_size}em\",\n",
    "                   \"fontFamily\": \"Monospace\",\n",
    "                  }\n",
    "        ),\n",
    "        width=f\"{side}\",\n",
    "        height=f\"{side}\"\n",
    "    )\n"
   ]
  },
  {
   "cell_type": "code",
   "execution_count": 56,
   "metadata": {},
   "outputs": [],
   "source": [
    "def svgAnimateSpiral(content = None, spiral=None, stroke=\"\", **kwargs):\n",
    "    \"\"\"\n",
    "    font_size: float \n",
    "        default is 1; interpreted as em (so 1 is notebook default)\n",
    "    \"\"\"\n",
    "\n",
    "    if content is None:\n",
    "        content = \"The quick brown fox jumps over the lazy dog. \"*10\n",
    "    if spiral is None:\n",
    "        #   a # how far out to start\n",
    "        #   b # number of units between cycles\n",
    "        #   num_cycles # minimum number of cycles to be covered\n",
    "        #   angle # number of degrees each quadratic curve will approximate\n",
    "\n",
    "        spiral = ArchemedianSpiral(a=kwargs[\"a\"], \n",
    "                                   b=kwargs[\"b\"], \n",
    "                                   num_cycles=kwargs['num_cycles'], \n",
    "                                   angle=kwargs['angle'],\n",
    "                                   font_size=kwargs['font_size'])\n",
    "    delay = kwargs.get(\"delay\") or 0\n",
    "    center = spiral.center\n",
    "    font_size = spiral.font_size\n",
    "    start_anim = animate(\n",
    "                         attributeName=\"startOffset\", \n",
    "                         dur=f\"{spiral.num_cycles*1}s\", \n",
    "                         repeatCount=\"indefinite\",\n",
    "                         begin=f\"{delay}s\",\n",
    "                         **{\"from\": \"0%\",\n",
    "                            \"to\": \"100%\"}\n",
    "                     ) if kwargs.get(\"start_anim\") else \"\"\n",
    "    \n",
    "    rotate_anim =   animateTransform(\n",
    "                                    **{\"attributeName\":\"transform\",\n",
    "                                       \"attributeType\":\"XML\",\n",
    "                                       \"type\":\"rotate\",\n",
    "                                       \"from\":f\"360 {center} {center}\",\n",
    "                                       \"to\":f\"0 {center} {center}\",\n",
    "                                       \"dur\":\"1s\",\n",
    "                                       \"repeatCount\":\"indefinite\"}\n",
    "                    ) if kwargs.get(\"rotate_anim\") else \"\"\n",
    "    starting_point = map(lambda x: str(center + x), spiral.initial_point)\n",
    "\n",
    "    myid = f\"{uuid4()}\"\n",
    "    side = spiral.center*2 + 1.5*font_size*14\n",
    "    return svg(\n",
    "        path(id=f\"{myid}\",\n",
    "             fill=\"none\", \n",
    "             stroke=stroke,\n",
    "             d=spiral.curve_string\n",
    "            ),\n",
    "        text(\n",
    "            textPath(start_anim,\n",
    "                     *content,\n",
    "                     **{\"xlink:href\":f\"#{myid}\"}\n",
    "                    ),\n",
    "            rotate_anim,\n",
    "            style={\"fontSize\": f\"{font_size}em\",\n",
    "                   \"fontFamily\": \"Monospace\",\n",
    "                  }\n",
    "        ),\n",
    "        \n",
    "        width=f\"{side}\",\n",
    "        height=f\"{side}\"\n",
    "    )\n"
   ]
  },
  {
   "cell_type": "code",
   "execution_count": null,
   "metadata": {},
   "outputs": [],
   "source": []
  },
  {
   "cell_type": "code",
   "execution_count": 5,
   "metadata": {},
   "outputs": [],
   "source": [
    "posix = regex.compile('[^\\p{posix_punct}]')\n",
    "uni = regex.compile('[^\\p{p}]')\n",
    "                     \n",
    "def get_punct(article):\n",
    "    return regex.sub(uni,'', str(article))\n",
    "\n",
    "def body_punct(article):\n",
    "    tags = [\"/\",\n",
    "            \"article\",\n",
    "            \"body\"]\n",
    "    return get_punct(et.tostring(article.get_element_xpath(tags)[0], encoding='unicode'))\n",
    "       \n",
    "color_map = {\"?!.\": \"red\",\n",
    "             \"\\\"'()[]{}“”\": \"green\",\n",
    "             \"—-,;:/\\\\&%*$@–\": \"blue\"}\n",
    "\n",
    "def color_wrap(char):\n",
    "    color = \"black\"\n",
    "    for key, val in color_map.items():\n",
    "        if char in key:\n",
    "            color = val\n",
    "            \n",
    "    return tspan(char, fill= f'{color}')\n",
    "\n",
    "def style_punct(text, width=100):\n",
    "    return [color_wrap(c) for c in text]\n"
   ]
  },
  {
   "cell_type": "code",
   "execution_count": 6,
   "metadata": {},
   "outputs": [],
   "source": [
    "corpus = Corpus(starterdir)\n",
    "article = corpus[0]"
   ]
  },
  {
   "cell_type": "code",
   "execution_count": 62,
   "metadata": {},
   "outputs": [],
   "source": [
    "# for article in corpus.random_sample(1):\n",
    "content = body_punct(article)\n",
    "spiral = ArchemedianSpiral(a=60, b=2, num_cycles=9.25, angle=45, font_size=1)"
   ]
  },
  {
   "cell_type": "code",
   "execution_count": 82,
   "metadata": {},
   "outputs": [
    {
     "data": {
      "application/vdom.v1+json": {
       "attributes": {},
       "children": [
        {
         "attributes": {
          "height": "310.32741228718345",
          "width": "310.32741228718345"
         },
         "children": [
          {
           "attributes": {
            "d": "M149.66370614359172,144.66370614359172 Q150.23242825555673,146.08551142350422 149.90073284463102,147.68730491919 Q149.53625325316807,149.44741681608446 148.21090369478833,150.80763252674814 Q146.7681543149309,152.28833651206614 144.66370614359172,152.8052987971815 Q142.39151585170578,153.36346730021614 140.06931104119852,152.62143189098236 Q137.5795207057889,151.8258463413863 135.799080714084,149.78170002158322 Q133.90154552123326,147.6031151778175 133.38052083641213,144.66370614359172 Q132.82807070781394,141.5470075566174 133.98528134984977,138.49851471440363 Q135.20687511669064,135.280414466245 137.97491593880534,133.07838166773266 Q140.88576667282388,130.76274067838278 144.66370614359172,130.23892818282235 Q148.6232508194327,129.68993606847442 152.39969389957471,131.26458230349843 Q156.34599865095345,132.91005498431062 158.9697296658021,136.40411961201045 Q161.70431064068825,140.04580490743757 162.23007675795088,144.66370614359172 Q162.77677976626,149.46549997356323 160.78352903003633,153.9704902263696 Q158.71523020544012,158.64509833029015 154.49408900196792,161.69042871215345 Q150.12225466364978,164.8444762299199 144.66370614359172,165.3716694115407 Q139.0199140852476,165.91675363690044 133.78612573401895,163.50422807638768 Q128.38309743605197,161.01369101254954 124.91628452867869,156.0648853287628 Q121.34242568337802,150.96327372201597 120.81415022205297,144.66370614359172 Q120.27026812798564,138.1780329350007 123.10248516444446,132.21532940722403 Q126.01490185661768,126.08378049651986 131.69173063162575,122.19558548232735 Q137.52289884040164,118.20167971999473 144.66370614359172,117.67255756846318 Q151.99120197785996,117.12960210186844 158.6828792067543,120.38178611809313 Q165.54302944892208,123.71584874594112 169.85252585120742,130.12093430483085 Q174.26664577423765,136.68151891495262 174.79644737231007,144.66370614359172 Q175.33866740309537,152.8329940819321 171.66632521544165,160.2536755335492 Q167.91077691509605,167.84249111471163 160.7772743091475,172.57322489755876 Q153.48736722013376,177.4076816356913 144.66370614359172,177.93804002589985 Q135.65264231942746,178.47966251824104 127.50294042683936,174.38702426179296 Q119.18540859586946,170.2101047352504 114.03348834327338,162.3480706359424 Q108.77860232638541,154.3289067073215 108.24777960769379,144.66370614359172 Q107.70665202427523,134.81087498143253 112.21968897903915,125.93214410004447 Q116.81789527696723,116.88585516741978 125.40854532444615,111.31278929692205 Q134.15691860833334,105.63740264965503 144.66370614359172,105.106186954104 Q155.35830035637994,104.56547588668042 164.96606451393387,109.49898993268783 Q174.74114367842884,114.5184189661278 180.73532203661273,123.83774899765126 Q186.8312654851408,133.31529628697626 187.36281798666926,144.66370614359172 Q187.90317374117464,156.20006154193 182.54912140084696,166.5368608407288 Q177.10851930322337,177.04075739851186 167.06045961632708,183.45602108296407 Q156.85376528150528,189.97256632103398 144.66370614359172,190.50441064025904 Q132.28559003132875,191.04445976246058 121.21975511965977,185.26982044719827 Q109.98701866660484,179.40808456756838 103.15069215786806,168.63125594312197 Q96.21350855449334,157.69543555269078 95.68140899333463,144.66370614359172 Q95.14162715687235,131.44382898863847 101.33689279363385,119.64895879286487 Q107.61973086739007,107.68736361907722 119.12536001726657,100.42999311151674 Q130.79028982785536,93.0721410134384 144.66370614359172,92.53981633974482 Q158.72534512078278,92.00026953960739 171.24924982111347,98.61619374728252 Q183.93971960883644,105.32010824394501 191.61811822201804,117.55456369047168 Q199.39666392346868,129.94858953067703 199.92918860102841,144.66370614359172 Q200.46852712329186,159.5671079639768 193.43191758625227,172.82004614790836 Q186.30694796109725,186.2394040798103 173.34364492350667,194.33881726836935 Q160.22053398025287,202.53807771460737 144.66370614359172,203.07078125461823 Q128.91854034417668,203.60993394355137 114.93656981248019,196.15261663260358 Q100.78831212903827,188.60660967290505 92.26789597246275,174.91444125030156 Q83.64790281553485,161.06225422827902 83.11503837897544,144.66370614359172 Q82.57605251445531,128.07677519100488 90.45409660822854,113.36577348568528 Q98.4211258842285,98.48860602248165 112.842174710087,89.54719692611144 Q127.42343027707662,80.50645566397799 144.66370614359172,79.97344572538566 Q162.0924034158391,79.43461044602287 177.53243512829306,87.73339756187721 Q193.13852109154251,96.12143636469038 202.50091440742335,111.27137838329209 Q211.96241706520436,126.58169614478665 212.49555921538757,144.66370614359172 Q213.03425789149293,162.93417086736545 204.31471377165758,179.10323145508795 Q195.50567642168286,195.43824354674544 179.62683023068627,205.22161345377467 Q163.58745567442708,215.1038890595583 144.66370614359172,215.63715186897738 Q125.55147288614998,216.1757260656253 108.6533845053006,207.0354128180089 Q91.58943957518355,197.8053864158446 81.38509978705744,181.19762655748116 Q71.0820411291271,164.4291998341133 70.54866776461627,144.66370614359172 Q70.01020746688738,124.7097033277262 79.57130042282323,107.0825881785057 Q89.22230761143993,89.28970447747595 106.5589894029074,78.66440074070613 Q124.05646429889299,67.9405501427299 144.66370614359172,67.40707511102649 Q165.45947948223795,66.86871942399476 183.81562043547265,76.8506013764719 Q202.33744817722243,86.92258211214406 213.38371059282866,104.98819307611251 Q224.52836098988763,123.21471267411306 225.06192982974676,144.66370614359172 Q225.6001891039743,166.30125090883743 215.19750995706286,185.38641676226754 Q204.70456205017103,204.63719324650532 185.91001553786583,216.10440963917998 Q166.95445427142948,227.66986681818202 144.66370614359172,228.20352248333654 Q122.18438910686882,228.74169261637354 102.37019919812101,217.91820900341418 Q82.39046975926331,207.0042995693795 70.50230360165214,187.48081186466072 Q58.516033408610895,167.79621159606043 57.9822971502571,144.66370614359172 Q57.44420967873175,121.34261604685246 68.68850423741793,100.79940287132612 Q80.02337017865013,80.09071668995367 100.2758040957278,67.78160455530082 Q120.68944101107638,55.37451576311224 144.66370614359172,54.840704496667314 Q168.82657003568607,54.30269388804673 190.09880574265225,65.9678051910666 Q211.5364520850823,77.72362315510554 224.26650677823397,98.70500776893292 Q237.0944191941542,119.84767924038434 237.62830044410595,144.66370614359172 Q238.16623939949216,169.66834451655293 226.08030614246817,191.66960206944714 Q213.90354017788655,213.8362116684517 192.19320084504542,226.9872058245853 Q170.32149668127656,240.23594640080017 144.66370614359172,240.76989309769573 Q118.81729265065961,241.30776509765917 96.08701389094142,228.8010051888195 Q73.1914382235584,216.20329484511313 59.61950741624683,193.76399717184032 Q45.94993457003714,171.16326198408504 45.415926535897924,144.66370614359172 Q44.8781172405275,117.97551693464479 57.80570805201262,94.51621756414653 Q70.82435950280768,70.89167326676345 93.99261878854823,56.898808369895505 Q117.32238350122472,42.80839951897589 144.66370614359172,42.27433388230813 Q172.1936716247436,41.73658343276149 196.3819910498318,55.08500900566129 Q220.73550631739047,68.52459859741731 235.1493029636393,92.42182246175332 Q249.66055122323482,116.48061534757923 250.1946710584651,144.66370614359172 Q250.73236617563958,173.03544841631123 236.9631023278735,197.9527873766267 Q223.10257729230094,223.03527575782886 198.47638615222502,237.8700020099906 Q173.68856631626937,252.80209278938398 144.66370614359172,253.33626371205492 Q115.45018659394117,253.87390670497416 89.80382858376183,239.6838013742248 Q63.992365120768156,225.40234335452107 48.736711230841536,200.0471824790199 Q33.38377508074227,174.53033680293228 32.84955592153875,144.66370614359172 Q32.31196211573004,114.60840886302154 46.92291186660731,88.23303225696694 Q61.62530062117294,61.692591900787676 87.70943348136865,46.01601218449021 Q113.9553039871993,30.242228044778983 144.66370614359172,29.707963267948955 Q175.5607815801188,29.17041595341503 202.6651763570114,44.20221282025598 Q229.93459527719403,59.32553024752558 246.03209914904457,86.13863715457374 Q262.2267336897639,113.11353156787534 262.76104167282426,144.66370614359172 Q263.29854497632505,176.40256013439205 247.8458985132788,204.2359726838063 Q232.30165430852048,232.2343717123821 204.75957145940458,248.75279819539588 Q177.05565398267743,265.36828536235464 144.66370614359172,265.90263432641405 Q112.0830732248748,266.4400959059092 83.52064327658225,250.5665975596301 Q54.79326270923562,234.60142832318127 37.853915045436224,206.3303677861995 Q20.817573194500483,177.89742802041326 20.28318530717958,144.66370614359172 Q19.7457633383258,111.24129394611033 36.04011568120201,81.94984694978736 Q52.42620833767343,52.49348351637289 81.42624817418906,35.1332159990849 Q110.58820951692937,17.67601755753924 144.66370614359172,17.141592653589782 Q178.92789794960953,16.60420833853601 208.948361664191,33.31941663485068 Q239.13370919754425,50.12643122042408 256.91489533444985,79.85545184739416 Q274.79295213656695,109.74643411078404 275.32741228718345,144.66370614359172",
            "fill": "none",
            "id": "0318e4ab-5c5d-485b-b688-16d5239eebc5",
            "stroke": ""
           },
           "children": [],
           "tagName": "path"
          },
          {
           "attributes": {
            "style": {
             "fontFamily": "Monospace",
             "fontSize": "1em"
            }
           },
           "children": [
            {
             "attributes": {
              "xlink:href": "#0318e4ab-5c5d-485b-b688-16d5239eebc5"
             },
             "children": [
              {
               "attributes": {
                "fill": "blue"
               },
               "children": [
                ":"
               ],
               "tagName": "tspan"
              },
              {
               "attributes": {
                "fill": "green"
               },
               "children": [
                "\""
               ],
               "tagName": "tspan"
              },
              {
               "attributes": {
                "fill": "blue"
               },
               "children": [
                ":"
               ],
               "tagName": "tspan"
              },
              {
               "attributes": {
                "fill": "blue"
               },
               "children": [
                "/"
               ],
               "tagName": "tspan"
              },
              {
               "attributes": {
                "fill": "blue"
               },
               "children": [
                "/"
               ],
               "tagName": "tspan"
              },
              {
               "attributes": {
                "fill": "red"
               },
               "children": [
                "."
               ],
               "tagName": "tspan"
              },
              {
               "attributes": {
                "fill": "red"
               },
               "children": [
                "."
               ],
               "tagName": "tspan"
              },
              {
               "attributes": {
                "fill": "blue"
               },
               "children": [
                "/"
               ],
               "tagName": "tspan"
              },
              {
               "attributes": {
                "fill": "blue"
               },
               "children": [
                "/"
               ],
               "tagName": "tspan"
              },
              {
               "attributes": {
                "fill": "blue"
               },
               "children": [
                "/"
               ],
               "tagName": "tspan"
              },
              {
               "attributes": {
                "fill": "green"
               },
               "children": [
                "\""
               ],
               "tagName": "tspan"
              },
              {
               "attributes": {
                "fill": "blue"
               },
               "children": [
                ":"
               ],
               "tagName": "tspan"
              },
              {
               "attributes": {
                "fill": "green"
               },
               "children": [
                "\""
               ],
               "tagName": "tspan"
              },
              {
               "attributes": {
                "fill": "blue"
               },
               "children": [
                ":"
               ],
               "tagName": "tspan"
              },
              {
               "attributes": {
                "fill": "blue"
               },
               "children": [
                "/"
               ],
               "tagName": "tspan"
              },
              {
               "attributes": {
                "fill": "blue"
               },
               "children": [
                "/"
               ],
               "tagName": "tspan"
              },
              {
               "attributes": {
                "fill": "red"
               },
               "children": [
                "."
               ],
               "tagName": "tspan"
              },
              {
               "attributes": {
                "fill": "red"
               },
               "children": [
                "."
               ],
               "tagName": "tspan"
              },
              {
               "attributes": {
                "fill": "blue"
               },
               "children": [
                "/"
               ],
               "tagName": "tspan"
              },
              {
               "attributes": {
                "fill": "blue"
               },
               "children": [
                "/"
               ],
               "tagName": "tspan"
              },
              {
               "attributes": {
                "fill": "green"
               },
               "children": [
                "\""
               ],
               "tagName": "tspan"
              },
              {
               "attributes": {
                "fill": "green"
               },
               "children": [
                "\""
               ],
               "tagName": "tspan"
              },
              {
               "attributes": {
                "fill": "green"
               },
               "children": [
                "\""
               ],
               "tagName": "tspan"
              },
              {
               "attributes": {
                "fill": "blue"
               },
               "children": [
                "/"
               ],
               "tagName": "tspan"
              },
              {
               "attributes": {
                "fill": "blue"
               },
               "children": [
                "/"
               ],
               "tagName": "tspan"
              },
              {
               "attributes": {
                "fill": "blue"
               },
               "children": [
                ","
               ],
               "tagName": "tspan"
              },
              {
               "attributes": {
                "fill": "blue"
               },
               "children": [
                "-"
               ],
               "tagName": "tspan"
              },
              {
               "attributes": {
                "fill": "green"
               },
               "children": [
                "\""
               ],
               "tagName": "tspan"
              },
              {
               "attributes": {
                "fill": "green"
               },
               "children": [
                "\""
               ],
               "tagName": "tspan"
              },
              {
               "attributes": {
                "fill": "green"
               },
               "children": [
                "\""
               ],
               "tagName": "tspan"
              },
              {
               "attributes": {
                "fill": "blue"
               },
               "children": [
                "-"
               ],
               "tagName": "tspan"
              },
              {
               "attributes": {
                "fill": "blue"
               },
               "children": [
                "-"
               ],
               "tagName": "tspan"
              },
              {
               "attributes": {
                "fill": "green"
               },
               "children": [
                "\""
               ],
               "tagName": "tspan"
              },
              {
               "attributes": {
                "fill": "green"
               },
               "children": [
                "("
               ],
               "tagName": "tspan"
              },
              {
               "attributes": {
                "fill": "green"
               },
               "children": [
                ")"
               ],
               "tagName": "tspan"
              },
              {
               "attributes": {
                "fill": "blue"
               },
               "children": [
                "/"
               ],
               "tagName": "tspan"
              },
              {
               "attributes": {
                "fill": "blue"
               },
               "children": [
                ","
               ],
               "tagName": "tspan"
              },
              {
               "attributes": {
                "fill": "green"
               },
               "children": [
                "'"
               ],
               "tagName": "tspan"
              },
              {
               "attributes": {
                "fill": "blue"
               },
               "children": [
                ","
               ],
               "tagName": "tspan"
              },
              {
               "attributes": {
                "fill": "green"
               },
               "children": [
                "("
               ],
               "tagName": "tspan"
              },
              {
               "attributes": {
                "fill": "blue"
               },
               "children": [
                "-"
               ],
               "tagName": "tspan"
              },
              {
               "attributes": {
                "fill": "green"
               },
               "children": [
                "\""
               ],
               "tagName": "tspan"
              },
              {
               "attributes": {
                "fill": "green"
               },
               "children": [
                "\""
               ],
               "tagName": "tspan"
              },
              {
               "attributes": {
                "fill": "green"
               },
               "children": [
                "\""
               ],
               "tagName": "tspan"
              },
              {
               "attributes": {
                "fill": "blue"
               },
               "children": [
                "-"
               ],
               "tagName": "tspan"
              },
              {
               "attributes": {
                "fill": "blue"
               },
               "children": [
                "-"
               ],
               "tagName": "tspan"
              },
              {
               "attributes": {
                "fill": "green"
               },
               "children": [
                "\""
               ],
               "tagName": "tspan"
              },
              {
               "attributes": {
                "fill": "green"
               },
               "children": [
                "'"
               ],
               "tagName": "tspan"
              },
              {
               "attributes": {
                "fill": "blue"
               },
               "children": [
                "/"
               ],
               "tagName": "tspan"
              },
              {
               "attributes": {
                "fill": "blue"
               },
               "children": [
                ","
               ],
               "tagName": "tspan"
              },
              {
               "attributes": {
                "fill": "blue"
               },
               "children": [
                "-"
               ],
               "tagName": "tspan"
              },
              {
               "attributes": {
                "fill": "green"
               },
               "children": [
                "\""
               ],
               "tagName": "tspan"
              },
              {
               "attributes": {
                "fill": "green"
               },
               "children": [
                "\""
               ],
               "tagName": "tspan"
              },
              {
               "attributes": {
                "fill": "green"
               },
               "children": [
                "\""
               ],
               "tagName": "tspan"
              },
              {
               "attributes": {
                "fill": "blue"
               },
               "children": [
                "-"
               ],
               "tagName": "tspan"
              },
              {
               "attributes": {
                "fill": "blue"
               },
               "children": [
                "-"
               ],
               "tagName": "tspan"
              },
              {
               "attributes": {
                "fill": "green"
               },
               "children": [
                "\""
               ],
               "tagName": "tspan"
              },
              {
               "attributes": {
                "fill": "blue"
               },
               "children": [
                "/"
               ],
               "tagName": "tspan"
              },
              {
               "attributes": {
                "fill": "green"
               },
               "children": [
                ")"
               ],
               "tagName": "tspan"
              },
              {
               "attributes": {
                "fill": "red"
               },
               "children": [
                "."
               ],
               "tagName": "tspan"
              },
              {
               "attributes": {
                "fill": "green"
               },
               "children": [
                "“"
               ],
               "tagName": "tspan"
              },
              {
               "attributes": {
                "fill": "red"
               },
               "children": [
                "."
               ],
               "tagName": "tspan"
              },
              {
               "attributes": {
                "fill": "green"
               },
               "children": [
                "”"
               ],
               "tagName": "tspan"
              },
              {
               "attributes": {
                "fill": "red"
               },
               "children": [
                "."
               ],
               "tagName": "tspan"
              },
              {
               "attributes": {
                "fill": "red"
               },
               "children": [
                "."
               ],
               "tagName": "tspan"
              },
              {
               "attributes": {
                "fill": "red"
               },
               "children": [
                "."
               ],
               "tagName": "tspan"
              },
              {
               "attributes": {
                "fill": "blue"
               },
               "children": [
                ","
               ],
               "tagName": "tspan"
              },
              {
               "attributes": {
                "fill": "blue"
               },
               "children": [
                ","
               ],
               "tagName": "tspan"
              },
              {
               "attributes": {
                "fill": "red"
               },
               "children": [
                "."
               ],
               "tagName": "tspan"
              },
              {
               "attributes": {
                "fill": "blue"
               },
               "children": [
                "/"
               ],
               "tagName": "tspan"
              },
              {
               "attributes": {
                "fill": "red"
               },
               "children": [
                "."
               ],
               "tagName": "tspan"
              },
              {
               "attributes": {
                "fill": "blue"
               },
               "children": [
                ","
               ],
               "tagName": "tspan"
              },
              {
               "attributes": {
                "fill": "red"
               },
               "children": [
                "."
               ],
               "tagName": "tspan"
              },
              {
               "attributes": {
                "fill": "blue"
               },
               "children": [
                ","
               ],
               "tagName": "tspan"
              },
              {
               "attributes": {
                "fill": "blue"
               },
               "children": [
                ","
               ],
               "tagName": "tspan"
              },
              {
               "attributes": {
                "fill": "blue"
               },
               "children": [
                "-"
               ],
               "tagName": "tspan"
              },
              {
               "attributes": {
                "fill": "red"
               },
               "children": [
                "."
               ],
               "tagName": "tspan"
              },
              {
               "attributes": {
                "fill": "blue"
               },
               "children": [
                ","
               ],
               "tagName": "tspan"
              },
              {
               "attributes": {
                "fill": "blue"
               },
               "children": [
                ","
               ],
               "tagName": "tspan"
              },
              {
               "attributes": {
                "fill": "red"
               },
               "children": [
                "."
               ],
               "tagName": "tspan"
              },
              {
               "attributes": {
                "fill": "green"
               },
               "children": [
                "'"
               ],
               "tagName": "tspan"
              },
              {
               "attributes": {
                "fill": "red"
               },
               "children": [
                "."
               ],
               "tagName": "tspan"
              },
              {
               "attributes": {
                "fill": "blue"
               },
               "children": [
                "/"
               ],
               "tagName": "tspan"
              },
              {
               "attributes": {
                "fill": "blue"
               },
               "children": [
                ","
               ],
               "tagName": "tspan"
              },
              {
               "attributes": {
                "fill": "green"
               },
               "children": [
                "("
               ],
               "tagName": "tspan"
              },
              {
               "attributes": {
                "fill": "green"
               },
               "children": [
                ")"
               ],
               "tagName": "tspan"
              },
              {
               "attributes": {
                "fill": "blue"
               },
               "children": [
                ","
               ],
               "tagName": "tspan"
              },
              {
               "attributes": {
                "fill": "red"
               },
               "children": [
                "."
               ],
               "tagName": "tspan"
              },
              {
               "attributes": {
                "fill": "blue"
               },
               "children": [
                ","
               ],
               "tagName": "tspan"
              },
              {
               "attributes": {
                "fill": "red"
               },
               "children": [
                "."
               ],
               "tagName": "tspan"
              },
              {
               "attributes": {
                "fill": "blue"
               },
               "children": [
                ","
               ],
               "tagName": "tspan"
              },
              {
               "attributes": {
                "fill": "blue"
               },
               "children": [
                ","
               ],
               "tagName": "tspan"
              },
              {
               "attributes": {
                "fill": "red"
               },
               "children": [
                "."
               ],
               "tagName": "tspan"
              },
              {
               "attributes": {
                "fill": "blue"
               },
               "children": [
                ","
               ],
               "tagName": "tspan"
              },
              {
               "attributes": {
                "fill": "blue"
               },
               "children": [
                ","
               ],
               "tagName": "tspan"
              },
              {
               "attributes": {
                "fill": "green"
               },
               "children": [
                "'"
               ],
               "tagName": "tspan"
              },
              {
               "attributes": {
                "fill": "red"
               },
               "children": [
                "."
               ],
               "tagName": "tspan"
              },
              {
               "attributes": {
                "fill": "blue"
               },
               "children": [
                "/"
               ],
               "tagName": "tspan"
              },
              {
               "attributes": {
                "fill": "green"
               },
               "children": [
                "("
               ],
               "tagName": "tspan"
              },
              {
               "attributes": {
                "fill": "green"
               },
               "children": [
                ")"
               ],
               "tagName": "tspan"
              },
              {
               "attributes": {
                "fill": "blue"
               },
               "children": [
                ","
               ],
               "tagName": "tspan"
              },
              {
               "attributes": {
                "fill": "blue"
               },
               "children": [
                ","
               ],
               "tagName": "tspan"
              },
              {
               "attributes": {
                "fill": "red"
               },
               "children": [
                "."
               ],
               "tagName": "tspan"
              },
              {
               "attributes": {
                "fill": "green"
               },
               "children": [
                "'"
               ],
               "tagName": "tspan"
              },
              {
               "attributes": {
                "fill": "red"
               },
               "children": [
                "."
               ],
               "tagName": "tspan"
              },
              {
               "attributes": {
                "fill": "blue"
               },
               "children": [
                "/"
               ],
               "tagName": "tspan"
              },
              {
               "attributes": {
                "fill": "green"
               },
               "children": [
                "'"
               ],
               "tagName": "tspan"
              },
              {
               "attributes": {
                "fill": "blue"
               },
               "children": [
                "-"
               ],
               "tagName": "tspan"
              },
              {
               "attributes": {
                "fill": "red"
               },
               "children": [
                "."
               ],
               "tagName": "tspan"
              },
              {
               "attributes": {
                "fill": "blue"
               },
               "children": [
                ","
               ],
               "tagName": "tspan"
              },
              {
               "attributes": {
                "fill": "blue"
               },
               "children": [
                ","
               ],
               "tagName": "tspan"
              },
              {
               "attributes": {
                "fill": "red"
               },
               "children": [
                "."
               ],
               "tagName": "tspan"
              },
              {
               "attributes": {
                "fill": "blue"
               },
               "children": [
                ","
               ],
               "tagName": "tspan"
              },
              {
               "attributes": {
                "fill": "blue"
               },
               "children": [
                ","
               ],
               "tagName": "tspan"
              },
              {
               "attributes": {
                "fill": "green"
               },
               "children": [
                "'"
               ],
               "tagName": "tspan"
              },
              {
               "attributes": {
                "fill": "blue"
               },
               "children": [
                ","
               ],
               "tagName": "tspan"
              },
              {
               "attributes": {
                "fill": "red"
               },
               "children": [
                "."
               ],
               "tagName": "tspan"
              },
              {
               "attributes": {
                "fill": "red"
               },
               "children": [
                "."
               ],
               "tagName": "tspan"
              },
              {
               "attributes": {
                "fill": "red"
               },
               "children": [
                "."
               ],
               "tagName": "tspan"
              },
              {
               "attributes": {
                "fill": "blue"
               },
               "children": [
                ","
               ],
               "tagName": "tspan"
              },
              {
               "attributes": {
                "fill": "blue"
               },
               "children": [
                ","
               ],
               "tagName": "tspan"
              },
              {
               "attributes": {
                "fill": "blue"
               },
               "children": [
                ","
               ],
               "tagName": "tspan"
              },
              {
               "attributes": {
                "fill": "blue"
               },
               "children": [
                ","
               ],
               "tagName": "tspan"
              },
              {
               "attributes": {
                "fill": "red"
               },
               "children": [
                "."
               ],
               "tagName": "tspan"
              },
              {
               "attributes": {
                "fill": "blue"
               },
               "children": [
                ","
               ],
               "tagName": "tspan"
              },
              {
               "attributes": {
                "fill": "blue"
               },
               "children": [
                "—"
               ],
               "tagName": "tspan"
              },
              {
               "attributes": {
                "fill": "red"
               },
               "children": [
                "."
               ],
               "tagName": "tspan"
              },
              {
               "attributes": {
                "fill": "blue"
               },
               "children": [
                "/"
               ],
               "tagName": "tspan"
              },
              {
               "attributes": {
                "fill": "blue"
               },
               "children": [
                "/"
               ],
               "tagName": "tspan"
              },
              {
               "attributes": {
                "fill": "blue"
               },
               "children": [
                "/"
               ],
               "tagName": "tspan"
              }
             ],
             "tagName": "textPath"
            }
           ],
           "tagName": "text"
          }
         ],
         "tagName": "svg"
        }
       ],
       "tagName": "div"
      },
      "text/html": [
       "<div><svg height=\"310.32741228718345\" width=\"310.32741228718345\"><path d=\"M149.66370614359172,144.66370614359172 Q150.23242825555673,146.08551142350422 149.90073284463102,147.68730491919 Q149.53625325316807,149.44741681608446 148.21090369478833,150.80763252674814 Q146.7681543149309,152.28833651206614 144.66370614359172,152.8052987971815 Q142.39151585170578,153.36346730021614 140.06931104119852,152.62143189098236 Q137.5795207057889,151.8258463413863 135.799080714084,149.78170002158322 Q133.90154552123326,147.6031151778175 133.38052083641213,144.66370614359172 Q132.82807070781394,141.5470075566174 133.98528134984977,138.49851471440363 Q135.20687511669064,135.280414466245 137.97491593880534,133.07838166773266 Q140.88576667282388,130.76274067838278 144.66370614359172,130.23892818282235 Q148.6232508194327,129.68993606847442 152.39969389957471,131.26458230349843 Q156.34599865095345,132.91005498431062 158.9697296658021,136.40411961201045 Q161.70431064068825,140.04580490743757 162.23007675795088,144.66370614359172 Q162.77677976626,149.46549997356323 160.78352903003633,153.9704902263696 Q158.71523020544012,158.64509833029015 154.49408900196792,161.69042871215345 Q150.12225466364978,164.8444762299199 144.66370614359172,165.3716694115407 Q139.0199140852476,165.91675363690044 133.78612573401895,163.50422807638768 Q128.38309743605197,161.01369101254954 124.91628452867869,156.0648853287628 Q121.34242568337802,150.96327372201597 120.81415022205297,144.66370614359172 Q120.27026812798564,138.1780329350007 123.10248516444446,132.21532940722403 Q126.01490185661768,126.08378049651986 131.69173063162575,122.19558548232735 Q137.52289884040164,118.20167971999473 144.66370614359172,117.67255756846318 Q151.99120197785996,117.12960210186844 158.6828792067543,120.38178611809313 Q165.54302944892208,123.71584874594112 169.85252585120742,130.12093430483085 Q174.26664577423765,136.68151891495262 174.79644737231007,144.66370614359172 Q175.33866740309537,152.8329940819321 171.66632521544165,160.2536755335492 Q167.91077691509605,167.84249111471163 160.7772743091475,172.57322489755876 Q153.48736722013376,177.4076816356913 144.66370614359172,177.93804002589985 Q135.65264231942746,178.47966251824104 127.50294042683936,174.38702426179296 Q119.18540859586946,170.2101047352504 114.03348834327338,162.3480706359424 Q108.77860232638541,154.3289067073215 108.24777960769379,144.66370614359172 Q107.70665202427523,134.81087498143253 112.21968897903915,125.93214410004447 Q116.81789527696723,116.88585516741978 125.40854532444615,111.31278929692205 Q134.15691860833334,105.63740264965503 144.66370614359172,105.106186954104 Q155.35830035637994,104.56547588668042 164.96606451393387,109.49898993268783 Q174.74114367842884,114.5184189661278 180.73532203661273,123.83774899765126 Q186.8312654851408,133.31529628697626 187.36281798666926,144.66370614359172 Q187.90317374117464,156.20006154193 182.54912140084696,166.5368608407288 Q177.10851930322337,177.04075739851186 167.06045961632708,183.45602108296407 Q156.85376528150528,189.97256632103398 144.66370614359172,190.50441064025904 Q132.28559003132875,191.04445976246058 121.21975511965977,185.26982044719827 Q109.98701866660484,179.40808456756838 103.15069215786806,168.63125594312197 Q96.21350855449334,157.69543555269078 95.68140899333463,144.66370614359172 Q95.14162715687235,131.44382898863847 101.33689279363385,119.64895879286487 Q107.61973086739007,107.68736361907722 119.12536001726657,100.42999311151674 Q130.79028982785536,93.0721410134384 144.66370614359172,92.53981633974482 Q158.72534512078278,92.00026953960739 171.24924982111347,98.61619374728252 Q183.93971960883644,105.32010824394501 191.61811822201804,117.55456369047168 Q199.39666392346868,129.94858953067703 199.92918860102841,144.66370614359172 Q200.46852712329186,159.5671079639768 193.43191758625227,172.82004614790836 Q186.30694796109725,186.2394040798103 173.34364492350667,194.33881726836935 Q160.22053398025287,202.53807771460737 144.66370614359172,203.07078125461823 Q128.91854034417668,203.60993394355137 114.93656981248019,196.15261663260358 Q100.78831212903827,188.60660967290505 92.26789597246275,174.91444125030156 Q83.64790281553485,161.06225422827902 83.11503837897544,144.66370614359172 Q82.57605251445531,128.07677519100488 90.45409660822854,113.36577348568528 Q98.4211258842285,98.48860602248165 112.842174710087,89.54719692611144 Q127.42343027707662,80.50645566397799 144.66370614359172,79.97344572538566 Q162.0924034158391,79.43461044602287 177.53243512829306,87.73339756187721 Q193.13852109154251,96.12143636469038 202.50091440742335,111.27137838329209 Q211.96241706520436,126.58169614478665 212.49555921538757,144.66370614359172 Q213.03425789149293,162.93417086736545 204.31471377165758,179.10323145508795 Q195.50567642168286,195.43824354674544 179.62683023068627,205.22161345377467 Q163.58745567442708,215.1038890595583 144.66370614359172,215.63715186897738 Q125.55147288614998,216.1757260656253 108.6533845053006,207.0354128180089 Q91.58943957518355,197.8053864158446 81.38509978705744,181.19762655748116 Q71.0820411291271,164.4291998341133 70.54866776461627,144.66370614359172 Q70.01020746688738,124.7097033277262 79.57130042282323,107.0825881785057 Q89.22230761143993,89.28970447747595 106.5589894029074,78.66440074070613 Q124.05646429889299,67.9405501427299 144.66370614359172,67.40707511102649 Q165.45947948223795,66.86871942399476 183.81562043547265,76.8506013764719 Q202.33744817722243,86.92258211214406 213.38371059282866,104.98819307611251 Q224.52836098988763,123.21471267411306 225.06192982974676,144.66370614359172 Q225.6001891039743,166.30125090883743 215.19750995706286,185.38641676226754 Q204.70456205017103,204.63719324650532 185.91001553786583,216.10440963917998 Q166.95445427142948,227.66986681818202 144.66370614359172,228.20352248333654 Q122.18438910686882,228.74169261637354 102.37019919812101,217.91820900341418 Q82.39046975926331,207.0042995693795 70.50230360165214,187.48081186466072 Q58.516033408610895,167.79621159606043 57.9822971502571,144.66370614359172 Q57.44420967873175,121.34261604685246 68.68850423741793,100.79940287132612 Q80.02337017865013,80.09071668995367 100.2758040957278,67.78160455530082 Q120.68944101107638,55.37451576311224 144.66370614359172,54.840704496667314 Q168.82657003568607,54.30269388804673 190.09880574265225,65.9678051910666 Q211.5364520850823,77.72362315510554 224.26650677823397,98.70500776893292 Q237.0944191941542,119.84767924038434 237.62830044410595,144.66370614359172 Q238.16623939949216,169.66834451655293 226.08030614246817,191.66960206944714 Q213.90354017788655,213.8362116684517 192.19320084504542,226.9872058245853 Q170.32149668127656,240.23594640080017 144.66370614359172,240.76989309769573 Q118.81729265065961,241.30776509765917 96.08701389094142,228.8010051888195 Q73.1914382235584,216.20329484511313 59.61950741624683,193.76399717184032 Q45.94993457003714,171.16326198408504 45.415926535897924,144.66370614359172 Q44.8781172405275,117.97551693464479 57.80570805201262,94.51621756414653 Q70.82435950280768,70.89167326676345 93.99261878854823,56.898808369895505 Q117.32238350122472,42.80839951897589 144.66370614359172,42.27433388230813 Q172.1936716247436,41.73658343276149 196.3819910498318,55.08500900566129 Q220.73550631739047,68.52459859741731 235.1493029636393,92.42182246175332 Q249.66055122323482,116.48061534757923 250.1946710584651,144.66370614359172 Q250.73236617563958,173.03544841631123 236.9631023278735,197.9527873766267 Q223.10257729230094,223.03527575782886 198.47638615222502,237.8700020099906 Q173.68856631626937,252.80209278938398 144.66370614359172,253.33626371205492 Q115.45018659394117,253.87390670497416 89.80382858376183,239.6838013742248 Q63.992365120768156,225.40234335452107 48.736711230841536,200.0471824790199 Q33.38377508074227,174.53033680293228 32.84955592153875,144.66370614359172 Q32.31196211573004,114.60840886302154 46.92291186660731,88.23303225696694 Q61.62530062117294,61.692591900787676 87.70943348136865,46.01601218449021 Q113.9553039871993,30.242228044778983 144.66370614359172,29.707963267948955 Q175.5607815801188,29.17041595341503 202.6651763570114,44.20221282025598 Q229.93459527719403,59.32553024752558 246.03209914904457,86.13863715457374 Q262.2267336897639,113.11353156787534 262.76104167282426,144.66370614359172 Q263.29854497632505,176.40256013439205 247.8458985132788,204.2359726838063 Q232.30165430852048,232.2343717123821 204.75957145940458,248.75279819539588 Q177.05565398267743,265.36828536235464 144.66370614359172,265.90263432641405 Q112.0830732248748,266.4400959059092 83.52064327658225,250.5665975596301 Q54.79326270923562,234.60142832318127 37.853915045436224,206.3303677861995 Q20.817573194500483,177.89742802041326 20.28318530717958,144.66370614359172 Q19.7457633383258,111.24129394611033 36.04011568120201,81.94984694978736 Q52.42620833767343,52.49348351637289 81.42624817418906,35.1332159990849 Q110.58820951692937,17.67601755753924 144.66370614359172,17.141592653589782 Q178.92789794960953,16.60420833853601 208.948361664191,33.31941663485068 Q239.13370919754425,50.12643122042408 256.91489533444985,79.85545184739416 Q274.79295213656695,109.74643411078404 275.32741228718345,144.66370614359172\" fill=\"none\" id=\"0318e4ab-5c5d-485b-b688-16d5239eebc5\" stroke=\"\"></path><text style=\"font-family: Monospace; font-size: 1em\"><textPath xlink:href=\"#0318e4ab-5c5d-485b-b688-16d5239eebc5\"><tspan fill=\"blue\">:</tspan><tspan fill=\"green\">&quot;</tspan><tspan fill=\"blue\">:</tspan><tspan fill=\"blue\">/</tspan><tspan fill=\"blue\">/</tspan><tspan fill=\"red\">.</tspan><tspan fill=\"red\">.</tspan><tspan fill=\"blue\">/</tspan><tspan fill=\"blue\">/</tspan><tspan fill=\"blue\">/</tspan><tspan fill=\"green\">&quot;</tspan><tspan fill=\"blue\">:</tspan><tspan fill=\"green\">&quot;</tspan><tspan fill=\"blue\">:</tspan><tspan fill=\"blue\">/</tspan><tspan fill=\"blue\">/</tspan><tspan fill=\"red\">.</tspan><tspan fill=\"red\">.</tspan><tspan fill=\"blue\">/</tspan><tspan fill=\"blue\">/</tspan><tspan fill=\"green\">&quot;</tspan><tspan fill=\"green\">&quot;</tspan><tspan fill=\"green\">&quot;</tspan><tspan fill=\"blue\">/</tspan><tspan fill=\"blue\">/</tspan><tspan fill=\"blue\">,</tspan><tspan fill=\"blue\">-</tspan><tspan fill=\"green\">&quot;</tspan><tspan fill=\"green\">&quot;</tspan><tspan fill=\"green\">&quot;</tspan><tspan fill=\"blue\">-</tspan><tspan fill=\"blue\">-</tspan><tspan fill=\"green\">&quot;</tspan><tspan fill=\"green\">(</tspan><tspan fill=\"green\">)</tspan><tspan fill=\"blue\">/</tspan><tspan fill=\"blue\">,</tspan><tspan fill=\"green\">&#x27;</tspan><tspan fill=\"blue\">,</tspan><tspan fill=\"green\">(</tspan><tspan fill=\"blue\">-</tspan><tspan fill=\"green\">&quot;</tspan><tspan fill=\"green\">&quot;</tspan><tspan fill=\"green\">&quot;</tspan><tspan fill=\"blue\">-</tspan><tspan fill=\"blue\">-</tspan><tspan fill=\"green\">&quot;</tspan><tspan fill=\"green\">&#x27;</tspan><tspan fill=\"blue\">/</tspan><tspan fill=\"blue\">,</tspan><tspan fill=\"blue\">-</tspan><tspan fill=\"green\">&quot;</tspan><tspan fill=\"green\">&quot;</tspan><tspan fill=\"green\">&quot;</tspan><tspan fill=\"blue\">-</tspan><tspan fill=\"blue\">-</tspan><tspan fill=\"green\">&quot;</tspan><tspan fill=\"blue\">/</tspan><tspan fill=\"green\">)</tspan><tspan fill=\"red\">.</tspan><tspan fill=\"green\">“</tspan><tspan fill=\"red\">.</tspan><tspan fill=\"green\">”</tspan><tspan fill=\"red\">.</tspan><tspan fill=\"red\">.</tspan><tspan fill=\"red\">.</tspan><tspan fill=\"blue\">,</tspan><tspan fill=\"blue\">,</tspan><tspan fill=\"red\">.</tspan><tspan fill=\"blue\">/</tspan><tspan fill=\"red\">.</tspan><tspan fill=\"blue\">,</tspan><tspan fill=\"red\">.</tspan><tspan fill=\"blue\">,</tspan><tspan fill=\"blue\">,</tspan><tspan fill=\"blue\">-</tspan><tspan fill=\"red\">.</tspan><tspan fill=\"blue\">,</tspan><tspan fill=\"blue\">,</tspan><tspan fill=\"red\">.</tspan><tspan fill=\"green\">&#x27;</tspan><tspan fill=\"red\">.</tspan><tspan fill=\"blue\">/</tspan><tspan fill=\"blue\">,</tspan><tspan fill=\"green\">(</tspan><tspan fill=\"green\">)</tspan><tspan fill=\"blue\">,</tspan><tspan fill=\"red\">.</tspan><tspan fill=\"blue\">,</tspan><tspan fill=\"red\">.</tspan><tspan fill=\"blue\">,</tspan><tspan fill=\"blue\">,</tspan><tspan fill=\"red\">.</tspan><tspan fill=\"blue\">,</tspan><tspan fill=\"blue\">,</tspan><tspan fill=\"green\">&#x27;</tspan><tspan fill=\"red\">.</tspan><tspan fill=\"blue\">/</tspan><tspan fill=\"green\">(</tspan><tspan fill=\"green\">)</tspan><tspan fill=\"blue\">,</tspan><tspan fill=\"blue\">,</tspan><tspan fill=\"red\">.</tspan><tspan fill=\"green\">&#x27;</tspan><tspan fill=\"red\">.</tspan><tspan fill=\"blue\">/</tspan><tspan fill=\"green\">&#x27;</tspan><tspan fill=\"blue\">-</tspan><tspan fill=\"red\">.</tspan><tspan fill=\"blue\">,</tspan><tspan fill=\"blue\">,</tspan><tspan fill=\"red\">.</tspan><tspan fill=\"blue\">,</tspan><tspan fill=\"blue\">,</tspan><tspan fill=\"green\">&#x27;</tspan><tspan fill=\"blue\">,</tspan><tspan fill=\"red\">.</tspan><tspan fill=\"red\">.</tspan><tspan fill=\"red\">.</tspan><tspan fill=\"blue\">,</tspan><tspan fill=\"blue\">,</tspan><tspan fill=\"blue\">,</tspan><tspan fill=\"blue\">,</tspan><tspan fill=\"red\">.</tspan><tspan fill=\"blue\">,</tspan><tspan fill=\"blue\">—</tspan><tspan fill=\"red\">.</tspan><tspan fill=\"blue\">/</tspan><tspan fill=\"blue\">/</tspan><tspan fill=\"blue\">/</tspan></textPath></text></svg></div>"
      ],
      "text/plain": [
       "<div><svg height=\"310.32741228718345\" width=\"310.32741228718345\"><path d=\"M149.66370614359172,144.66370614359172 Q150.23242825555673,146.08551142350422 149.90073284463102,147.68730491919 Q149.53625325316807,149.44741681608446 148.21090369478833,150.80763252674814 Q146.7681543149309,152.28833651206614 144.66370614359172,152.8052987971815 Q142.39151585170578,153.36346730021614 140.06931104119852,152.62143189098236 Q137.5795207057889,151.8258463413863 135.799080714084,149.78170002158322 Q133.90154552123326,147.6031151778175 133.38052083641213,144.66370614359172 Q132.82807070781394,141.5470075566174 133.98528134984977,138.49851471440363 Q135.20687511669064,135.280414466245 137.97491593880534,133.07838166773266 Q140.88576667282388,130.76274067838278 144.66370614359172,130.23892818282235 Q148.6232508194327,129.68993606847442 152.39969389957471,131.26458230349843 Q156.34599865095345,132.91005498431062 158.9697296658021,136.40411961201045 Q161.70431064068825,140.04580490743757 162.23007675795088,144.66370614359172 Q162.77677976626,149.46549997356323 160.78352903003633,153.9704902263696 Q158.71523020544012,158.64509833029015 154.49408900196792,161.69042871215345 Q150.12225466364978,164.8444762299199 144.66370614359172,165.3716694115407 Q139.0199140852476,165.91675363690044 133.78612573401895,163.50422807638768 Q128.38309743605197,161.01369101254954 124.91628452867869,156.0648853287628 Q121.34242568337802,150.96327372201597 120.81415022205297,144.66370614359172 Q120.27026812798564,138.1780329350007 123.10248516444446,132.21532940722403 Q126.01490185661768,126.08378049651986 131.69173063162575,122.19558548232735 Q137.52289884040164,118.20167971999473 144.66370614359172,117.67255756846318 Q151.99120197785996,117.12960210186844 158.6828792067543,120.38178611809313 Q165.54302944892208,123.71584874594112 169.85252585120742,130.12093430483085 Q174.26664577423765,136.68151891495262 174.79644737231007,144.66370614359172 Q175.33866740309537,152.8329940819321 171.66632521544165,160.2536755335492 Q167.91077691509605,167.84249111471163 160.7772743091475,172.57322489755876 Q153.48736722013376,177.4076816356913 144.66370614359172,177.93804002589985 Q135.65264231942746,178.47966251824104 127.50294042683936,174.38702426179296 Q119.18540859586946,170.2101047352504 114.03348834327338,162.3480706359424 Q108.77860232638541,154.3289067073215 108.24777960769379,144.66370614359172 Q107.70665202427523,134.81087498143253 112.21968897903915,125.93214410004447 Q116.81789527696723,116.88585516741978 125.40854532444615,111.31278929692205 Q134.15691860833334,105.63740264965503 144.66370614359172,105.106186954104 Q155.35830035637994,104.56547588668042 164.96606451393387,109.49898993268783 Q174.74114367842884,114.5184189661278 180.73532203661273,123.83774899765126 Q186.8312654851408,133.31529628697626 187.36281798666926,144.66370614359172 Q187.90317374117464,156.20006154193 182.54912140084696,166.5368608407288 Q177.10851930322337,177.04075739851186 167.06045961632708,183.45602108296407 Q156.85376528150528,189.97256632103398 144.66370614359172,190.50441064025904 Q132.28559003132875,191.04445976246058 121.21975511965977,185.26982044719827 Q109.98701866660484,179.40808456756838 103.15069215786806,168.63125594312197 Q96.21350855449334,157.69543555269078 95.68140899333463,144.66370614359172 Q95.14162715687235,131.44382898863847 101.33689279363385,119.64895879286487 Q107.61973086739007,107.68736361907722 119.12536001726657,100.42999311151674 Q130.79028982785536,93.0721410134384 144.66370614359172,92.53981633974482 Q158.72534512078278,92.00026953960739 171.24924982111347,98.61619374728252 Q183.93971960883644,105.32010824394501 191.61811822201804,117.55456369047168 Q199.39666392346868,129.94858953067703 199.92918860102841,144.66370614359172 Q200.46852712329186,159.5671079639768 193.43191758625227,172.82004614790836 Q186.30694796109725,186.2394040798103 173.34364492350667,194.33881726836935 Q160.22053398025287,202.53807771460737 144.66370614359172,203.07078125461823 Q128.91854034417668,203.60993394355137 114.93656981248019,196.15261663260358 Q100.78831212903827,188.60660967290505 92.26789597246275,174.91444125030156 Q83.64790281553485,161.06225422827902 83.11503837897544,144.66370614359172 Q82.57605251445531,128.07677519100488 90.45409660822854,113.36577348568528 Q98.4211258842285,98.48860602248165 112.842174710087,89.54719692611144 Q127.42343027707662,80.50645566397799 144.66370614359172,79.97344572538566 Q162.0924034158391,79.43461044602287 177.53243512829306,87.73339756187721 Q193.13852109154251,96.12143636469038 202.50091440742335,111.27137838329209 Q211.96241706520436,126.58169614478665 212.49555921538757,144.66370614359172 Q213.03425789149293,162.93417086736545 204.31471377165758,179.10323145508795 Q195.50567642168286,195.43824354674544 179.62683023068627,205.22161345377467 Q163.58745567442708,215.1038890595583 144.66370614359172,215.63715186897738 Q125.55147288614998,216.1757260656253 108.6533845053006,207.0354128180089 Q91.58943957518355,197.8053864158446 81.38509978705744,181.19762655748116 Q71.0820411291271,164.4291998341133 70.54866776461627,144.66370614359172 Q70.01020746688738,124.7097033277262 79.57130042282323,107.0825881785057 Q89.22230761143993,89.28970447747595 106.5589894029074,78.66440074070613 Q124.05646429889299,67.9405501427299 144.66370614359172,67.40707511102649 Q165.45947948223795,66.86871942399476 183.81562043547265,76.8506013764719 Q202.33744817722243,86.92258211214406 213.38371059282866,104.98819307611251 Q224.52836098988763,123.21471267411306 225.06192982974676,144.66370614359172 Q225.6001891039743,166.30125090883743 215.19750995706286,185.38641676226754 Q204.70456205017103,204.63719324650532 185.91001553786583,216.10440963917998 Q166.95445427142948,227.66986681818202 144.66370614359172,228.20352248333654 Q122.18438910686882,228.74169261637354 102.37019919812101,217.91820900341418 Q82.39046975926331,207.0042995693795 70.50230360165214,187.48081186466072 Q58.516033408610895,167.79621159606043 57.9822971502571,144.66370614359172 Q57.44420967873175,121.34261604685246 68.68850423741793,100.79940287132612 Q80.02337017865013,80.09071668995367 100.2758040957278,67.78160455530082 Q120.68944101107638,55.37451576311224 144.66370614359172,54.840704496667314 Q168.82657003568607,54.30269388804673 190.09880574265225,65.9678051910666 Q211.5364520850823,77.72362315510554 224.26650677823397,98.70500776893292 Q237.0944191941542,119.84767924038434 237.62830044410595,144.66370614359172 Q238.16623939949216,169.66834451655293 226.08030614246817,191.66960206944714 Q213.90354017788655,213.8362116684517 192.19320084504542,226.9872058245853 Q170.32149668127656,240.23594640080017 144.66370614359172,240.76989309769573 Q118.81729265065961,241.30776509765917 96.08701389094142,228.8010051888195 Q73.1914382235584,216.20329484511313 59.61950741624683,193.76399717184032 Q45.94993457003714,171.16326198408504 45.415926535897924,144.66370614359172 Q44.8781172405275,117.97551693464479 57.80570805201262,94.51621756414653 Q70.82435950280768,70.89167326676345 93.99261878854823,56.898808369895505 Q117.32238350122472,42.80839951897589 144.66370614359172,42.27433388230813 Q172.1936716247436,41.73658343276149 196.3819910498318,55.08500900566129 Q220.73550631739047,68.52459859741731 235.1493029636393,92.42182246175332 Q249.66055122323482,116.48061534757923 250.1946710584651,144.66370614359172 Q250.73236617563958,173.03544841631123 236.9631023278735,197.9527873766267 Q223.10257729230094,223.03527575782886 198.47638615222502,237.8700020099906 Q173.68856631626937,252.80209278938398 144.66370614359172,253.33626371205492 Q115.45018659394117,253.87390670497416 89.80382858376183,239.6838013742248 Q63.992365120768156,225.40234335452107 48.736711230841536,200.0471824790199 Q33.38377508074227,174.53033680293228 32.84955592153875,144.66370614359172 Q32.31196211573004,114.60840886302154 46.92291186660731,88.23303225696694 Q61.62530062117294,61.692591900787676 87.70943348136865,46.01601218449021 Q113.9553039871993,30.242228044778983 144.66370614359172,29.707963267948955 Q175.5607815801188,29.17041595341503 202.6651763570114,44.20221282025598 Q229.93459527719403,59.32553024752558 246.03209914904457,86.13863715457374 Q262.2267336897639,113.11353156787534 262.76104167282426,144.66370614359172 Q263.29854497632505,176.40256013439205 247.8458985132788,204.2359726838063 Q232.30165430852048,232.2343717123821 204.75957145940458,248.75279819539588 Q177.05565398267743,265.36828536235464 144.66370614359172,265.90263432641405 Q112.0830732248748,266.4400959059092 83.52064327658225,250.5665975596301 Q54.79326270923562,234.60142832318127 37.853915045436224,206.3303677861995 Q20.817573194500483,177.89742802041326 20.28318530717958,144.66370614359172 Q19.7457633383258,111.24129394611033 36.04011568120201,81.94984694978736 Q52.42620833767343,52.49348351637289 81.42624817418906,35.1332159990849 Q110.58820951692937,17.67601755753924 144.66370614359172,17.141592653589782 Q178.92789794960953,16.60420833853601 208.948361664191,33.31941663485068 Q239.13370919754425,50.12643122042408 256.91489533444985,79.85545184739416 Q274.79295213656695,109.74643411078404 275.32741228718345,144.66370614359172\" fill=\"none\" id=\"0318e4ab-5c5d-485b-b688-16d5239eebc5\" stroke=\"\"></path><text style=\"font-family: Monospace; font-size: 1em\"><textPath xlink:href=\"#0318e4ab-5c5d-485b-b688-16d5239eebc5\"><tspan fill=\"blue\">:</tspan><tspan fill=\"green\">&quot;</tspan><tspan fill=\"blue\">:</tspan><tspan fill=\"blue\">/</tspan><tspan fill=\"blue\">/</tspan><tspan fill=\"red\">.</tspan><tspan fill=\"red\">.</tspan><tspan fill=\"blue\">/</tspan><tspan fill=\"blue\">/</tspan><tspan fill=\"blue\">/</tspan><tspan fill=\"green\">&quot;</tspan><tspan fill=\"blue\">:</tspan><tspan fill=\"green\">&quot;</tspan><tspan fill=\"blue\">:</tspan><tspan fill=\"blue\">/</tspan><tspan fill=\"blue\">/</tspan><tspan fill=\"red\">.</tspan><tspan fill=\"red\">.</tspan><tspan fill=\"blue\">/</tspan><tspan fill=\"blue\">/</tspan><tspan fill=\"green\">&quot;</tspan><tspan fill=\"green\">&quot;</tspan><tspan fill=\"green\">&quot;</tspan><tspan fill=\"blue\">/</tspan><tspan fill=\"blue\">/</tspan><tspan fill=\"blue\">,</tspan><tspan fill=\"blue\">-</tspan><tspan fill=\"green\">&quot;</tspan><tspan fill=\"green\">&quot;</tspan><tspan fill=\"green\">&quot;</tspan><tspan fill=\"blue\">-</tspan><tspan fill=\"blue\">-</tspan><tspan fill=\"green\">&quot;</tspan><tspan fill=\"green\">(</tspan><tspan fill=\"green\">)</tspan><tspan fill=\"blue\">/</tspan><tspan fill=\"blue\">,</tspan><tspan fill=\"green\">&#x27;</tspan><tspan fill=\"blue\">,</tspan><tspan fill=\"green\">(</tspan><tspan fill=\"blue\">-</tspan><tspan fill=\"green\">&quot;</tspan><tspan fill=\"green\">&quot;</tspan><tspan fill=\"green\">&quot;</tspan><tspan fill=\"blue\">-</tspan><tspan fill=\"blue\">-</tspan><tspan fill=\"green\">&quot;</tspan><tspan fill=\"green\">&#x27;</tspan><tspan fill=\"blue\">/</tspan><tspan fill=\"blue\">,</tspan><tspan fill=\"blue\">-</tspan><tspan fill=\"green\">&quot;</tspan><tspan fill=\"green\">&quot;</tspan><tspan fill=\"green\">&quot;</tspan><tspan fill=\"blue\">-</tspan><tspan fill=\"blue\">-</tspan><tspan fill=\"green\">&quot;</tspan><tspan fill=\"blue\">/</tspan><tspan fill=\"green\">)</tspan><tspan fill=\"red\">.</tspan><tspan fill=\"green\">“</tspan><tspan fill=\"red\">.</tspan><tspan fill=\"green\">”</tspan><tspan fill=\"red\">.</tspan><tspan fill=\"red\">.</tspan><tspan fill=\"red\">.</tspan><tspan fill=\"blue\">,</tspan><tspan fill=\"blue\">,</tspan><tspan fill=\"red\">.</tspan><tspan fill=\"blue\">/</tspan><tspan fill=\"red\">.</tspan><tspan fill=\"blue\">,</tspan><tspan fill=\"red\">.</tspan><tspan fill=\"blue\">,</tspan><tspan fill=\"blue\">,</tspan><tspan fill=\"blue\">-</tspan><tspan fill=\"red\">.</tspan><tspan fill=\"blue\">,</tspan><tspan fill=\"blue\">,</tspan><tspan fill=\"red\">.</tspan><tspan fill=\"green\">&#x27;</tspan><tspan fill=\"red\">.</tspan><tspan fill=\"blue\">/</tspan><tspan fill=\"blue\">,</tspan><tspan fill=\"green\">(</tspan><tspan fill=\"green\">)</tspan><tspan fill=\"blue\">,</tspan><tspan fill=\"red\">.</tspan><tspan fill=\"blue\">,</tspan><tspan fill=\"red\">.</tspan><tspan fill=\"blue\">,</tspan><tspan fill=\"blue\">,</tspan><tspan fill=\"red\">.</tspan><tspan fill=\"blue\">,</tspan><tspan fill=\"blue\">,</tspan><tspan fill=\"green\">&#x27;</tspan><tspan fill=\"red\">.</tspan><tspan fill=\"blue\">/</tspan><tspan fill=\"green\">(</tspan><tspan fill=\"green\">)</tspan><tspan fill=\"blue\">,</tspan><tspan fill=\"blue\">,</tspan><tspan fill=\"red\">.</tspan><tspan fill=\"green\">&#x27;</tspan><tspan fill=\"red\">.</tspan><tspan fill=\"blue\">/</tspan><tspan fill=\"green\">&#x27;</tspan><tspan fill=\"blue\">-</tspan><tspan fill=\"red\">.</tspan><tspan fill=\"blue\">,</tspan><tspan fill=\"blue\">,</tspan><tspan fill=\"red\">.</tspan><tspan fill=\"blue\">,</tspan><tspan fill=\"blue\">,</tspan><tspan fill=\"green\">&#x27;</tspan><tspan fill=\"blue\">,</tspan><tspan fill=\"red\">.</tspan><tspan fill=\"red\">.</tspan><tspan fill=\"red\">.</tspan><tspan fill=\"blue\">,</tspan><tspan fill=\"blue\">,</tspan><tspan fill=\"blue\">,</tspan><tspan fill=\"blue\">,</tspan><tspan fill=\"red\">.</tspan><tspan fill=\"blue\">,</tspan><tspan fill=\"blue\">—</tspan><tspan fill=\"red\">.</tspan><tspan fill=\"blue\">/</tspan><tspan fill=\"blue\">/</tspan><tspan fill=\"blue\">/</tspan></textPath></text></svg></div>"
      ]
     },
     "metadata": {},
     "output_type": "display_data"
    }
   ],
   "source": [
    "display(svgStyledSpiral(content=style_punct(content), spiral=spiral))"
   ]
  },
  {
   "cell_type": "code",
   "execution_count": 67,
   "metadata": {},
   "outputs": [],
   "source": [
    "spiral = ArchemedianSpiral(a=5, b=2, num_cycles=10, angle=30, font_size=1)"
   ]
  },
  {
   "cell_type": "code",
   "execution_count": null,
   "metadata": {},
   "outputs": [],
   "source": []
  },
  {
   "cell_type": "code",
   "execution_count": 75,
   "metadata": {},
   "outputs": [],
   "source": [
    "def pretty_corpus(corpus):\n",
    "\n",
    "    rep = []\n",
    "    for idx, article in enumerate(corpus.random_sample(3)):\n",
    "        svg = svgAnimateSpiral(content=style_punct(body_punct(article)), \n",
    "                               spiral=spiral,\n",
    "                               delay=idx/2,\n",
    "                               start_anim=True,\n",
    "                               rotate_anim=True\n",
    "                              )\n",
    "        rep += svg.to_html()\n",
    "        \n",
    "    return \"\".join(rep)"
   ]
  },
  {
   "cell_type": "code",
   "execution_count": 76,
   "metadata": {},
   "outputs": [
    {
     "data": {
      "text/plain": [
       "<function __main__.pretty_corpus(corpus)>"
      ]
     },
     "execution_count": 76,
     "metadata": {},
     "output_type": "execute_result"
    }
   ],
   "source": [
    "html = get_ipython().display_formatter.formatters['text/html']\n",
    "html.for_type(Corpus, pretty_corpus)\n",
    "\n",
    "html = get_ipython().display_formatter.formatters['text/html']\n",
    "\n"
   ]
  },
  {
   "cell_type": "code",
   "execution_count": 77,
   "metadata": {
    "scrolled": true
   },
   "outputs": [
    {
     "data": {
      "text/html": [
       "<svg height=\"310.32741228718345\" width=\"310.32741228718345\"><path d=\"M149.66370614359172,144.66370614359172 Q150.23242825555673,146.08551142350422 149.90073284463102,147.68730491919 Q149.53625325316807,149.44741681608446 148.21090369478833,150.80763252674814 Q146.7681543149309,152.28833651206614 144.66370614359172,152.8052987971815 Q142.39151585170578,153.36346730021614 140.06931104119852,152.62143189098236 Q137.5795207057889,151.8258463413863 135.799080714084,149.78170002158322 Q133.90154552123326,147.6031151778175 133.38052083641213,144.66370614359172 Q132.82807070781394,141.5470075566174 133.98528134984977,138.49851471440363 Q135.20687511669064,135.280414466245 137.97491593880534,133.07838166773266 Q140.88576667282388,130.76274067838278 144.66370614359172,130.23892818282235 Q148.6232508194327,129.68993606847442 152.39969389957471,131.26458230349843 Q156.34599865095345,132.91005498431062 158.9697296658021,136.40411961201045 Q161.70431064068825,140.04580490743757 162.23007675795088,144.66370614359172 Q162.77677976626,149.46549997356323 160.78352903003633,153.9704902263696 Q158.71523020544012,158.64509833029015 154.49408900196792,161.69042871215345 Q150.12225466364978,164.8444762299199 144.66370614359172,165.3716694115407 Q139.0199140852476,165.91675363690044 133.78612573401895,163.50422807638768 Q128.38309743605197,161.01369101254954 124.91628452867869,156.0648853287628 Q121.34242568337802,150.96327372201597 120.81415022205297,144.66370614359172 Q120.27026812798564,138.1780329350007 123.10248516444446,132.21532940722403 Q126.01490185661768,126.08378049651986 131.69173063162575,122.19558548232735 Q137.52289884040164,118.20167971999473 144.66370614359172,117.67255756846318 Q151.99120197785996,117.12960210186844 158.6828792067543,120.38178611809313 Q165.54302944892208,123.71584874594112 169.85252585120742,130.12093430483085 Q174.26664577423765,136.68151891495262 174.79644737231007,144.66370614359172 Q175.33866740309537,152.8329940819321 171.66632521544165,160.2536755335492 Q167.91077691509605,167.84249111471163 160.7772743091475,172.57322489755876 Q153.48736722013376,177.4076816356913 144.66370614359172,177.93804002589985 Q135.65264231942746,178.47966251824104 127.50294042683936,174.38702426179296 Q119.18540859586946,170.2101047352504 114.03348834327338,162.3480706359424 Q108.77860232638541,154.3289067073215 108.24777960769379,144.66370614359172 Q107.70665202427523,134.81087498143253 112.21968897903915,125.93214410004447 Q116.81789527696723,116.88585516741978 125.40854532444615,111.31278929692205 Q134.15691860833334,105.63740264965503 144.66370614359172,105.106186954104 Q155.35830035637994,104.56547588668042 164.96606451393387,109.49898993268783 Q174.74114367842884,114.5184189661278 180.73532203661273,123.83774899765126 Q186.8312654851408,133.31529628697626 187.36281798666926,144.66370614359172 Q187.90317374117464,156.20006154193 182.54912140084696,166.5368608407288 Q177.10851930322337,177.04075739851186 167.06045961632708,183.45602108296407 Q156.85376528150528,189.97256632103398 144.66370614359172,190.50441064025904 Q132.28559003132875,191.04445976246058 121.21975511965977,185.26982044719827 Q109.98701866660484,179.40808456756838 103.15069215786806,168.63125594312197 Q96.21350855449334,157.69543555269078 95.68140899333463,144.66370614359172 Q95.14162715687235,131.44382898863847 101.33689279363385,119.64895879286487 Q107.61973086739007,107.68736361907722 119.12536001726657,100.42999311151674 Q130.79028982785536,93.0721410134384 144.66370614359172,92.53981633974482 Q158.72534512078278,92.00026953960739 171.24924982111347,98.61619374728252 Q183.93971960883644,105.32010824394501 191.61811822201804,117.55456369047168 Q199.39666392346868,129.94858953067703 199.92918860102841,144.66370614359172 Q200.46852712329186,159.5671079639768 193.43191758625227,172.82004614790836 Q186.30694796109725,186.2394040798103 173.34364492350667,194.33881726836935 Q160.22053398025287,202.53807771460737 144.66370614359172,203.07078125461823 Q128.91854034417668,203.60993394355137 114.93656981248019,196.15261663260358 Q100.78831212903827,188.60660967290505 92.26789597246275,174.91444125030156 Q83.64790281553485,161.06225422827902 83.11503837897544,144.66370614359172 Q82.57605251445531,128.07677519100488 90.45409660822854,113.36577348568528 Q98.4211258842285,98.48860602248165 112.842174710087,89.54719692611144 Q127.42343027707662,80.50645566397799 144.66370614359172,79.97344572538566 Q162.0924034158391,79.43461044602287 177.53243512829306,87.73339756187721 Q193.13852109154251,96.12143636469038 202.50091440742335,111.27137838329209 Q211.96241706520436,126.58169614478665 212.49555921538757,144.66370614359172 Q213.03425789149293,162.93417086736545 204.31471377165758,179.10323145508795 Q195.50567642168286,195.43824354674544 179.62683023068627,205.22161345377467 Q163.58745567442708,215.1038890595583 144.66370614359172,215.63715186897738 Q125.55147288614998,216.1757260656253 108.6533845053006,207.0354128180089 Q91.58943957518355,197.8053864158446 81.38509978705744,181.19762655748116 Q71.0820411291271,164.4291998341133 70.54866776461627,144.66370614359172 Q70.01020746688738,124.7097033277262 79.57130042282323,107.0825881785057 Q89.22230761143993,89.28970447747595 106.5589894029074,78.66440074070613 Q124.05646429889299,67.9405501427299 144.66370614359172,67.40707511102649 Q165.45947948223795,66.86871942399476 183.81562043547265,76.8506013764719 Q202.33744817722243,86.92258211214406 213.38371059282866,104.98819307611251 Q224.52836098988763,123.21471267411306 225.06192982974676,144.66370614359172 Q225.6001891039743,166.30125090883743 215.19750995706286,185.38641676226754 Q204.70456205017103,204.63719324650532 185.91001553786583,216.10440963917998 Q166.95445427142948,227.66986681818202 144.66370614359172,228.20352248333654 Q122.18438910686882,228.74169261637354 102.37019919812101,217.91820900341418 Q82.39046975926331,207.0042995693795 70.50230360165214,187.48081186466072 Q58.516033408610895,167.79621159606043 57.9822971502571,144.66370614359172 Q57.44420967873175,121.34261604685246 68.68850423741793,100.79940287132612 Q80.02337017865013,80.09071668995367 100.2758040957278,67.78160455530082 Q120.68944101107638,55.37451576311224 144.66370614359172,54.840704496667314 Q168.82657003568607,54.30269388804673 190.09880574265225,65.9678051910666 Q211.5364520850823,77.72362315510554 224.26650677823397,98.70500776893292 Q237.0944191941542,119.84767924038434 237.62830044410595,144.66370614359172 Q238.16623939949216,169.66834451655293 226.08030614246817,191.66960206944714 Q213.90354017788655,213.8362116684517 192.19320084504542,226.9872058245853 Q170.32149668127656,240.23594640080017 144.66370614359172,240.76989309769573 Q118.81729265065961,241.30776509765917 96.08701389094142,228.8010051888195 Q73.1914382235584,216.20329484511313 59.61950741624683,193.76399717184032 Q45.94993457003714,171.16326198408504 45.415926535897924,144.66370614359172 Q44.8781172405275,117.97551693464479 57.80570805201262,94.51621756414653 Q70.82435950280768,70.89167326676345 93.99261878854823,56.898808369895505 Q117.32238350122472,42.80839951897589 144.66370614359172,42.27433388230813 Q172.1936716247436,41.73658343276149 196.3819910498318,55.08500900566129 Q220.73550631739047,68.52459859741731 235.1493029636393,92.42182246175332 Q249.66055122323482,116.48061534757923 250.1946710584651,144.66370614359172 Q250.73236617563958,173.03544841631123 236.9631023278735,197.9527873766267 Q223.10257729230094,223.03527575782886 198.47638615222502,237.8700020099906 Q173.68856631626937,252.80209278938398 144.66370614359172,253.33626371205492 Q115.45018659394117,253.87390670497416 89.80382858376183,239.6838013742248 Q63.992365120768156,225.40234335452107 48.736711230841536,200.0471824790199 Q33.38377508074227,174.53033680293228 32.84955592153875,144.66370614359172 Q32.31196211573004,114.60840886302154 46.92291186660731,88.23303225696694 Q61.62530062117294,61.692591900787676 87.70943348136865,46.01601218449021 Q113.9553039871993,30.242228044778983 144.66370614359172,29.707963267948955 Q175.5607815801188,29.17041595341503 202.6651763570114,44.20221282025598 Q229.93459527719403,59.32553024752558 246.03209914904457,86.13863715457374 Q262.2267336897639,113.11353156787534 262.76104167282426,144.66370614359172 Q263.29854497632505,176.40256013439205 247.8458985132788,204.2359726838063 Q232.30165430852048,232.2343717123821 204.75957145940458,248.75279819539588 Q177.05565398267743,265.36828536235464 144.66370614359172,265.90263432641405 Q112.0830732248748,266.4400959059092 83.52064327658225,250.5665975596301 Q54.79326270923562,234.60142832318127 37.853915045436224,206.3303677861995 Q20.817573194500483,177.89742802041326 20.28318530717958,144.66370614359172 Q19.7457633383258,111.24129394611033 36.04011568120201,81.94984694978736 Q52.42620833767343,52.49348351637289 81.42624817418906,35.1332159990849 Q110.58820951692937,17.67601755753924 144.66370614359172,17.141592653589782 Q178.92789794960953,16.60420833853601 208.948361664191,33.31941663485068 Q239.13370919754425,50.12643122042408 256.91489533444985,79.85545184739416 Q274.79295213656695,109.74643411078404 275.32741228718345,144.66370614359172\" fill=\"none\" id=\"43c88d07-0a17-4903-9043-7ee002d860d8\" stroke=\"\"></path><text style=\"font-family: Monospace; font-size: 1em\"><textPath xlink:href=\"#43c88d07-0a17-4903-9043-7ee002d860d8\"><tspan fill=\"blue\">:</tspan><tspan fill=\"green\">&quot;</tspan><tspan fill=\"blue\">:</tspan><tspan fill=\"blue\">/</tspan><tspan fill=\"blue\">/</tspan><tspan fill=\"red\">.</tspan><tspan fill=\"red\">.</tspan><tspan fill=\"blue\">/</tspan><tspan fill=\"blue\">/</tspan><tspan fill=\"blue\">/</tspan><tspan fill=\"green\">&quot;</tspan><tspan fill=\"blue\">:</tspan><tspan fill=\"green\">&quot;</tspan><tspan fill=\"blue\">:</tspan><tspan fill=\"blue\">/</tspan><tspan fill=\"blue\">/</tspan><tspan fill=\"red\">.</tspan><tspan fill=\"red\">.</tspan><tspan fill=\"blue\">/</tspan><tspan fill=\"blue\">/</tspan><tspan fill=\"green\">&quot;</tspan><tspan fill=\"blue\">:</tspan><tspan fill=\"green\">&quot;</tspan><tspan fill=\"blue\">:</tspan><tspan fill=\"blue\">/</tspan><tspan fill=\"blue\">/</tspan><tspan fill=\"red\">.</tspan><tspan fill=\"red\">.</tspan><tspan fill=\"blue\">/</tspan><tspan fill=\"blue\">/</tspan><tspan fill=\"blue\">-</tspan><tspan fill=\"green\">&quot;</tspan><tspan fill=\"green\">&quot;</tspan><tspan fill=\"green\">&quot;</tspan><tspan fill=\"blue\">/</tspan><tspan fill=\"blue\">/</tspan><tspan fill=\"blue\">-</tspan><tspan fill=\"green\">&quot;</tspan><tspan fill=\"green\">&quot;</tspan><tspan fill=\"green\">&quot;</tspan><tspan fill=\"red\">.</tspan><tspan fill=\"blue\">-</tspan><tspan fill=\"green\">&quot;</tspan><tspan fill=\"green\">[</tspan><tspan fill=\"green\">]</tspan><tspan fill=\"blue\">/</tspan><tspan fill=\"red\">.</tspan><tspan fill=\"blue\">/</tspan><tspan fill=\"blue\">-</tspan><tspan fill=\"green\">(</tspan><tspan fill=\"blue\">-</tspan><tspan fill=\"green\">)</tspan><tspan fill=\"green\">(</tspan><tspan fill=\"green\">)</tspan><tspan fill=\"red\">.</tspan><tspan fill=\"green\">(</tspan><tspan fill=\"green\">)</tspan><tspan fill=\"blue\">,</tspan><tspan fill=\"blue\">:</tspan><tspan fill=\"blue\">-</tspan><tspan fill=\"green\">(</tspan><tspan fill=\"green\">)</tspan><tspan fill=\"blue\">-</tspan><tspan fill=\"blue\">,</tspan><tspan fill=\"blue\">,</tspan><tspan fill=\"blue\">,</tspan><tspan fill=\"blue\">-</tspan><tspan fill=\"blue\">-</tspan><tspan fill=\"green\">&quot;</tspan><tspan fill=\"green\">&quot;</tspan><tspan fill=\"green\">&quot;</tspan><tspan fill=\"red\">.</tspan><tspan fill=\"blue\">-</tspan><tspan fill=\"green\">&quot;</tspan><tspan fill=\"green\">[</tspan><tspan fill=\"green\">]</tspan><tspan fill=\"blue\">/</tspan><tspan fill=\"red\">.</tspan><tspan fill=\"blue\">-</tspan><tspan fill=\"green\">&quot;</tspan><tspan fill=\"green\">&quot;</tspan><tspan fill=\"green\">&quot;</tspan><tspan fill=\"red\">.</tspan><tspan fill=\"blue\">-</tspan><tspan fill=\"green\">&quot;</tspan><tspan fill=\"green\">[</tspan><tspan fill=\"green\">]</tspan><tspan fill=\"blue\">/</tspan><tspan fill=\"blue\">,</tspan><tspan fill=\"blue\">-</tspan><tspan fill=\"green\">&quot;</tspan><tspan fill=\"green\">&quot;</tspan><tspan fill=\"green\">&quot;</tspan><tspan fill=\"red\">.</tspan><tspan fill=\"blue\">-</tspan><tspan fill=\"green\">&quot;</tspan><tspan fill=\"green\">[</tspan><tspan fill=\"green\">]</tspan><tspan fill=\"blue\">/</tspan><tspan fill=\"red\">.</tspan><tspan fill=\"blue\">,</tspan><tspan fill=\"blue\">-</tspan><tspan fill=\"green\">&quot;</tspan><tspan fill=\"green\">&quot;</tspan><tspan fill=\"green\">&quot;</tspan><tspan fill=\"red\">.</tspan><tspan fill=\"blue\">-</tspan><tspan fill=\"green\">&quot;</tspan><tspan fill=\"green\">[</tspan><tspan fill=\"green\">]</tspan><tspan fill=\"blue\">/</tspan><tspan fill=\"blue\">,</tspan><tspan fill=\"blue\">-</tspan><tspan fill=\"green\">&quot;</tspan><tspan fill=\"green\">&quot;</tspan><tspan fill=\"green\">&quot;</tspan><tspan fill=\"red\">.</tspan><tspan fill=\"blue\">-</tspan><tspan fill=\"green\">&quot;</tspan><tspan fill=\"green\">[</tspan><tspan fill=\"green\">]</tspan><tspan fill=\"blue\">/</tspan><tspan fill=\"blue\">,</tspan><tspan fill=\"blue\">-</tspan><tspan fill=\"green\">&quot;</tspan><tspan fill=\"green\">&quot;</tspan><tspan fill=\"green\">&quot;</tspan><tspan fill=\"red\">.</tspan><tspan fill=\"blue\">-</tspan><tspan fill=\"green\">&quot;</tspan><tspan fill=\"green\">[</tspan><tspan fill=\"green\">]</tspan><tspan fill=\"blue\">/</tspan><tspan fill=\"blue\">,</tspan><tspan fill=\"blue\">-</tspan><tspan fill=\"green\">&quot;</tspan><tspan fill=\"green\">&quot;</tspan><tspan fill=\"green\">&quot;</tspan><tspan fill=\"red\">.</tspan><tspan fill=\"blue\">-</tspan><tspan fill=\"green\">&quot;</tspan><tspan fill=\"green\">[</tspan><tspan fill=\"green\">]</tspan><tspan fill=\"blue\">/</tspan><tspan fill=\"red\">.</tspan><tspan fill=\"blue\">,</tspan><tspan fill=\"green\">(</tspan><tspan fill=\"green\">)</tspan><tspan fill=\"blue\">-</tspan><tspan fill=\"green\">&quot;</tspan><tspan fill=\"green\">&quot;</tspan><tspan fill=\"green\">&quot;</tspan><tspan fill=\"red\">.</tspan><tspan fill=\"blue\">-</tspan><tspan fill=\"green\">&quot;</tspan><tspan fill=\"green\">[</tspan><tspan fill=\"green\">]</tspan><tspan fill=\"blue\">/</tspan><tspan fill=\"red\">.</tspan><tspan fill=\"red\">.</tspan><tspan fill=\"green\">“</tspan><tspan fill=\"green\">“</tspan><tspan fill=\"blue\">,</tspan><tspan fill=\"blue\">/</tspan><tspan fill=\"blue\">,</tspan><tspan fill=\"blue\">,</tspan><tspan fill=\"blue\">,</tspan><tspan fill=\"blue\">,</tspan><tspan fill=\"blue\">-</tspan><tspan fill=\"green\">&quot;</tspan><tspan fill=\"green\">&quot;</tspan><tspan fill=\"green\">&quot;</tspan><tspan fill=\"red\">.</tspan><tspan fill=\"blue\">-</tspan><tspan fill=\"green\">&quot;</tspan><tspan fill=\"green\">[</tspan><tspan fill=\"green\">]</tspan><tspan fill=\"blue\">/</tspan><tspan fill=\"blue\">,</tspan><tspan fill=\"blue\">-</tspan><tspan fill=\"green\">&quot;</tspan><tspan fill=\"green\">&quot;</tspan><tspan fill=\"green\">&quot;</tspan><tspan fill=\"red\">.</tspan><tspan fill=\"blue\">-</tspan><tspan fill=\"green\">&quot;</tspan><tspan fill=\"green\">[</tspan><tspan fill=\"green\">]</tspan><tspan fill=\"blue\">/</tspan><tspan fill=\"blue\">–</tspan><tspan fill=\"blue\">-</tspan><tspan fill=\"green\">&quot;</tspan><tspan fill=\"green\">&quot;</tspan><tspan fill=\"green\">&quot;</tspan><tspan fill=\"red\">.</tspan><tspan fill=\"blue\">-</tspan><tspan fill=\"green\">&quot;</tspan><tspan fill=\"green\">[</tspan><tspan fill=\"green\">]</tspan><tspan fill=\"blue\">/</tspan><tspan fill=\"red\">.</tspan><tspan fill=\"red\">.</tspan><tspan fill=\"blue\">-</tspan><tspan fill=\"blue\">/</tspan><tspan fill=\"blue\">-</tspan><tspan fill=\"green\">&quot;</tspan><tspan fill=\"green\">&quot;</tspan><tspan fill=\"green\">&quot;</tspan><tspan fill=\"red\">.</tspan><tspan fill=\"blue\">-</tspan><tspan fill=\"green\">&quot;</tspan><tspan fill=\"green\">[</tspan><tspan fill=\"green\">]</tspan><tspan fill=\"blue\">/</tspan><tspan fill=\"red\">.</tspan><tspan fill=\"blue\">/</tspan><tspan fill=\"blue\">-</tspan><tspan fill=\"blue\">-</tspan><tspan fill=\"blue\">-</tspan><tspan fill=\"blue\">-</tspan><tspan fill=\"blue\">,</tspan><tspan fill=\"blue\">-</tspan><tspan fill=\"blue\">-</tspan><tspan fill=\"green\">&quot;</tspan><tspan fill=\"green\">&quot;</tspan><tspan fill=\"green\">&quot;</tspan><tspan fill=\"red\">.</tspan><tspan fill=\"blue\">-</tspan><tspan fill=\"green\">&quot;</tspan><tspan fill=\"green\">[</tspan><tspan fill=\"green\">]</tspan><tspan fill=\"blue\">/</tspan><tspan fill=\"red\">.</tspan><tspan fill=\"blue\">-</tspan><tspan fill=\"blue\">-</tspan><tspan fill=\"blue\">/</tspan><tspan fill=\"blue\">-</tspan><tspan fill=\"blue\">-</tspan><tspan fill=\"blue\">-</tspan><tspan fill=\"blue\">,</tspan><tspan fill=\"blue\">-</tspan><tspan fill=\"green\">&quot;</tspan><tspan fill=\"green\">&quot;</tspan><tspan fill=\"green\">&quot;</tspan><tspan fill=\"red\">.</tspan><tspan fill=\"blue\">-</tspan><tspan fill=\"green\">&quot;</tspan><tspan fill=\"green\">[</tspan><tspan fill=\"green\">]</tspan><tspan fill=\"blue\">/</tspan><tspan fill=\"red\">.</tspan><tspan fill=\"blue\">-</tspan><tspan fill=\"blue\">-</tspan><tspan fill=\"blue\">-</tspan><tspan fill=\"blue\">/</tspan><tspan fill=\"red\">.</tspan><tspan fill=\"blue\">/</tspan><tspan fill=\"blue\">/</tspan><tspan fill=\"green\">&quot;</tspan><tspan fill=\"green\">&quot;</tspan><tspan fill=\"blue\">-</tspan><tspan fill=\"green\">&quot;</tspan><tspan fill=\"green\">&quot;</tspan><tspan fill=\"blue\">/</tspan><tspan fill=\"green\">&quot;</tspan><tspan fill=\"green\">&quot;</tspan><tspan fill=\"blue\">/</tspan><tspan fill=\"blue\">/</tspan><tspan fill=\"red\">.</tspan><tspan fill=\"blue\">/</tspan><tspan fill=\"blue\">/</tspan><tspan fill=\"blue\">-</tspan><tspan fill=\"red\">.</tspan><tspan fill=\"green\">(</tspan><tspan fill=\"blue\">,</tspan><tspan fill=\"blue\">/</tspan><tspan fill=\"green\">)</tspan><tspan fill=\"red\">.</tspan><tspan fill=\"blue\">,</tspan><tspan fill=\"blue\">,</tspan><tspan fill=\"red\">.</tspan><tspan fill=\"blue\">/</tspan><tspan fill=\"red\">.</tspan><tspan fill=\"blue\">/</tspan><tspan fill=\"blue\">/</tspan><tspan fill=\"green\">&quot;</tspan><tspan fill=\"green\">&quot;</tspan><tspan fill=\"green\">(</tspan><tspan fill=\"green\">)</tspan><tspan fill=\"blue\">/</tspan><tspan fill=\"green\">(</tspan><tspan fill=\"red\">.</tspan><tspan fill=\"green\">)</tspan><tspan fill=\"green\">(</tspan><tspan fill=\"blue\">,</tspan><tspan fill=\"blue\">,</tspan><tspan fill=\"green\">)</tspan><tspan fill=\"red\">.</tspan><tspan fill=\"green\">(</tspan><tspan fill=\"green\">)</tspan><tspan fill=\"blue\">–</tspan><tspan fill=\"red\">.</tspan><tspan fill=\"blue\">-</tspan><tspan fill=\"green\">&quot;</tspan><tspan fill=\"green\">&quot;</tspan><tspan fill=\"green\">&quot;</tspan><tspan fill=\"red\">.</tspan><tspan fill=\"blue\">-</tspan><tspan fill=\"green\">&quot;</tspan><tspan fill=\"green\">[</tspan><tspan fill=\"green\">]</tspan><tspan fill=\"blue\">/</tspan><tspan fill=\"blue\">,</tspan><tspan fill=\"green\">(</tspan><tspan fill=\"blue\">/</tspan><tspan fill=\"green\">)</tspan><tspan fill=\"red\">.</tspan><tspan fill=\"blue\">/</tspan><tspan fill=\"blue\">/</tspan><tspan fill=\"green\">&quot;</tspan><tspan fill=\"green\">&quot;</tspan><tspan fill=\"green\">(</tspan><tspan fill=\"blue\">-</tspan><tspan fill=\"blue\">-</tspan><tspan fill=\"green\">)</tspan><tspan fill=\"blue\">/</tspan><tspan fill=\"blue\">-</tspan><tspan fill=\"green\">(</tspan><tspan fill=\"red\">.</tspan><tspan fill=\"blue\">,</tspan><tspan fill=\"green\">)</tspan><tspan fill=\"green\">&#x27;</tspan><tspan fill=\"red\">.</tspan><tspan fill=\"blue\">,</tspan><tspan fill=\"blue\">,</tspan><tspan fill=\"blue\">-</tspan><tspan fill=\"red\">.</tspan><tspan fill=\"blue\">,</tspan><tspan fill=\"blue\">–</tspan><tspan fill=\"red\">.</tspan><tspan fill=\"blue\">/</tspan><tspan fill=\"blue\">-</tspan><tspan fill=\"blue\">&amp;</tspan><tspan fill=\"blue\">;</tspan><tspan fill=\"red\">.</tspan><tspan fill=\"blue\">/</tspan><tspan fill=\"blue\">,</tspan><tspan fill=\"blue\">-</tspan><tspan fill=\"blue\">-</tspan><tspan fill=\"blue\">-</tspan><tspan fill=\"blue\">-</tspan><tspan fill=\"blue\">&amp;</tspan><tspan fill=\"blue\">;</tspan><tspan fill=\"blue\">/</tspan><tspan fill=\"red\">.</tspan><tspan fill=\"blue\">/</tspan><tspan fill=\"blue\">/</tspan><tspan fill=\"green\">&quot;</tspan><tspan fill=\"green\">&quot;</tspan><tspan fill=\"blue\">/</tspan><tspan fill=\"blue\">-</tspan><tspan fill=\"blue\">-</tspan><tspan fill=\"blue\">-</tspan><tspan fill=\"red\">.</tspan><tspan fill=\"blue\">/</tspan><tspan fill=\"green\">(</tspan><tspan fill=\"blue\">-</tspan><tspan fill=\"blue\">,</tspan><tspan fill=\"blue\">-</tspan><tspan fill=\"blue\">,</tspan><tspan fill=\"red\">.</tspan><tspan fill=\"blue\">,</tspan><tspan fill=\"blue\">,</tspan><tspan fill=\"blue\">,</tspan><tspan fill=\"blue\">,</tspan><tspan fill=\"green\">(</tspan><tspan fill=\"green\">)</tspan><tspan fill=\"green\">)</tspan><tspan fill=\"blue\">,</tspan><tspan fill=\"blue\">&amp;</tspan><tspan fill=\"blue\">;</tspan><tspan fill=\"green\">(</tspan><tspan fill=\"blue\">,</tspan><tspan fill=\"green\">)</tspan><tspan fill=\"blue\">,</tspan><tspan fill=\"blue\">-</tspan><tspan fill=\"green\">&quot;</tspan><tspan fill=\"green\">&quot;</tspan><tspan fill=\"green\">&quot;</tspan><tspan fill=\"red\">.</tspan><tspan fill=\"blue\">-</tspan><tspan fill=\"green\">&quot;</tspan><tspan fill=\"green\">[</tspan><tspan fill=\"green\">]</tspan><tspan fill=\"blue\">/</tspan><tspan fill=\"blue\">,</tspan><tspan fill=\"blue\">-</tspan><tspan fill=\"green\">&quot;</tspan><tspan fill=\"green\">&quot;</tspan><tspan fill=\"green\">&quot;</tspan><tspan fill=\"red\">.</tspan><tspan fill=\"blue\">-</tspan><tspan fill=\"green\">&quot;</tspan><tspan fill=\"green\">[</tspan><tspan fill=\"green\">]</tspan><tspan fill=\"blue\">/</tspan><tspan fill=\"red\">.</tspan><tspan fill=\"blue\">-</tspan><tspan fill=\"green\">&quot;</tspan><tspan fill=\"green\">&quot;</tspan><tspan fill=\"green\">&quot;</tspan><tspan fill=\"blue\">-</tspan><tspan fill=\"blue\">-</tspan><tspan fill=\"green\">&quot;</tspan><tspan fill=\"blue\">/</tspan><tspan fill=\"red\">.</tspan><tspan fill=\"blue\">,</tspan><tspan fill=\"green\">(</tspan><tspan fill=\"blue\">;</tspan><tspan fill=\"blue\">/</tspan><tspan fill=\"blue\">/</tspan><tspan fill=\"green\">)</tspan><tspan fill=\"red\">.</tspan><tspan fill=\"blue\">/</tspan><tspan fill=\"green\">(</tspan><tspan fill=\"blue\">/</tspan><tspan fill=\"green\">)</tspan><tspan fill=\"blue\">,</tspan><tspan fill=\"blue\">-</tspan><tspan fill=\"blue\">–</tspan><tspan fill=\"blue\">-</tspan><tspan fill=\"blue\">–</tspan><tspan fill=\"blue\">-</tspan><tspan fill=\"red\">.</tspan><tspan fill=\"red\">.</tspan><tspan fill=\"green\">(</tspan><tspan fill=\"green\">)</tspan><tspan fill=\"red\">.</tspan><tspan fill=\"blue\">-</tspan><tspan fill=\"blue\">-</tspan><tspan fill=\"blue\">%</tspan><tspan fill=\"blue\">/</tspan><tspan fill=\"red\">.</tspan><tspan fill=\"blue\">,</tspan><tspan fill=\"blue\">–</tspan><tspan fill=\"blue\">-</tspan><tspan fill=\"blue\">–</tspan><tspan fill=\"blue\">-</tspan><tspan fill=\"red\">.</tspan><tspan fill=\"blue\">-</tspan><tspan fill=\"blue\">,</tspan><tspan fill=\"red\">.</tspan><tspan fill=\"green\">(</tspan><tspan fill=\"green\">)</tspan><tspan fill=\"green\">(</tspan><tspan fill=\"green\">)</tspan><tspan fill=\"blue\">,</tspan><tspan fill=\"blue\">-</tspan><tspan fill=\"green\">&quot;</tspan><tspan fill=\"green\">&quot;</tspan><tspan fill=\"green\">&quot;</tspan><tspan fill=\"red\">.</tspan><tspan fill=\"blue\">-</tspan><tspan fill=\"green\">&quot;</tspan><tspan fill=\"green\">[</tspan><tspan fill=\"green\">]</tspan><tspan fill=\"blue\">/</tspan><tspan fill=\"red\">.</tspan><tspan fill=\"red\">.</tspan><tspan fill=\"blue\">/</tspan><tspan fill=\"blue\">-</tspan><tspan fill=\"green\">&quot;</tspan><tspan fill=\"blue\">-</tspan><tspan fill=\"blue\">-</tspan><tspan fill=\"green\">&quot;</tspan><tspan fill=\"green\">&quot;</tspan><tspan fill=\"green\">&quot;</tspan><tspan fill=\"green\">&quot;</tspan><tspan fill=\"green\">&quot;</tspan><tspan fill=\"blue\">-</tspan><tspan fill=\"blue\">-</tspan><tspan fill=\"blue\">-</tspan><tspan fill=\"green\">&quot;</tspan><tspan fill=\"green\">&quot;</tspan><tspan fill=\"red\">.</tspan><tspan fill=\"blue\">/</tspan><tspan fill=\"red\">.</tspan><tspan fill=\"red\">.</tspan><tspan fill=\"red\">.</tspan><tspan fill=\"blue\">/</tspan><tspan fill=\"blue\">-</tspan><tspan fill=\"blue\">/</tspan><tspan fill=\"blue\">:</tspan><tspan fill=\"green\">(</tspan><tspan fill=\"red\">.</tspan><tspan fill=\"blue\">-</tspan><tspan fill=\"green\">&quot;</tspan><tspan fill=\"green\">&quot;</tspan><tspan fill=\"green\">&quot;</tspan><tspan fill=\"red\">.</tspan><tspan fill=\"blue\">-</tspan><tspan fill=\"green\">&quot;</tspan><tspan fill=\"green\">[</tspan><tspan fill=\"green\">]</tspan><tspan fill=\"blue\">/</tspan><tspan fill=\"blue\">,</tspan><tspan fill=\"green\">)</tspan><tspan fill=\"red\">.</tspan><tspan fill=\"blue\">/</tspan><tspan fill=\"blue\">/</tspan><tspan fill=\"green\">&quot;</tspan><tspan fill=\"blue\">-</tspan><tspan fill=\"blue\">-</tspan><tspan fill=\"blue\">-</tspan><tspan fill=\"green\">&quot;</tspan><tspan fill=\"green\">&quot;</tspan><tspan fill=\"green\">&quot;</tspan><tspan fill=\"green\">&quot;</tspan><tspan fill=\"green\">&quot;</tspan><tspan fill=\"green\">&quot;</tspan><tspan fill=\"green\">&quot;</tspan><tspan fill=\"blue\">:</tspan><tspan fill=\"green\">&quot;</tspan><tspan fill=\"blue\">:</tspan><tspan fill=\"blue\">/</tspan><tspan fill=\"red\">.</tspan><tspan fill=\"blue\">/</tspan><tspan fill=\"red\">.</tspan><tspan fill=\"red\">.</tspan><tspan fill=\"red\">.</tspan><tspan fill=\"green\">&quot;</tspan><tspan fill=\"blue\">:</tspan><tspan fill=\"green\">&quot;</tspan><tspan fill=\"green\">&quot;</tspan><tspan fill=\"blue\">/</tspan><tspan fill=\"green\">&quot;</tspan><tspan fill=\"green\">&quot;</tspan><tspan fill=\"green\">&quot;</tspan><tspan fill=\"green\">&quot;</tspan><tspan fill=\"green\">&quot;</tspan><tspan fill=\"green\">&quot;</tspan><tspan fill=\"blue\">/</tspan><tspan fill=\"green\">&quot;</tspan><tspan fill=\"green\">&quot;</tspan><tspan fill=\"green\">&quot;</tspan><tspan fill=\"green\">&quot;</tspan><tspan fill=\"blue\">/</tspan><tspan fill=\"green\">&quot;</tspan><tspan fill=\"green\">&quot;</tspan><tspan fill=\"green\">&quot;</tspan><tspan fill=\"green\">&quot;</tspan><tspan fill=\"blue\">/</tspan><tspan fill=\"green\">&quot;</tspan><tspan fill=\"green\">&quot;</tspan><tspan fill=\"green\">&quot;</tspan><tspan fill=\"green\">&quot;</tspan><tspan fill=\"blue\">/</tspan><tspan fill=\"blue\">/</tspan><tspan fill=\"green\">&quot;</tspan><tspan fill=\"green\">&quot;</tspan><tspan fill=\"green\">&quot;</tspan><tspan fill=\"green\">&quot;</tspan><tspan fill=\"green\">&quot;</tspan><tspan fill=\"green\">&quot;</tspan><tspan fill=\"blue\">/</tspan><tspan fill=\"green\">&quot;</tspan><tspan fill=\"green\">&quot;</tspan><tspan fill=\"green\">&quot;</tspan><tspan fill=\"green\">&quot;</tspan><tspan fill=\"green\">&quot;</tspan><tspan fill=\"green\">&quot;</tspan><tspan fill=\"blue\">/</tspan><tspan fill=\"green\">&quot;</tspan><tspan fill=\"green\">&quot;</tspan><tspan fill=\"green\">&quot;</tspan><tspan fill=\"green\">&quot;</tspan><tspan fill=\"green\">&quot;</tspan><tspan fill=\"green\">&quot;</tspan><tspan fill=\"blue\">/</tspan><tspan fill=\"green\">&quot;</tspan><tspan fill=\"green\">&quot;</tspan><tspan fill=\"green\">&quot;</tspan><tspan fill=\"green\">&quot;</tspan><tspan fill=\"green\">&quot;</tspan><tspan fill=\"green\">&quot;</tspan><tspan fill=\"blue\">/</tspan><tspan fill=\"blue\">/</tspan><tspan fill=\"blue\">/</tspan><tspan fill=\"green\">&quot;</tspan><tspan fill=\"green\">&quot;</tspan><tspan fill=\"green\">&quot;</tspan><tspan fill=\"green\">&quot;</tspan><tspan fill=\"green\">&quot;</tspan><tspan fill=\"green\">&quot;</tspan><tspan fill=\"blue\">-</tspan><tspan fill=\"blue\">/</tspan><tspan fill=\"green\">&quot;</tspan><tspan fill=\"green\">&quot;</tspan><tspan fill=\"green\">&quot;</tspan><tspan fill=\"green\">&quot;</tspan><tspan fill=\"green\">&quot;</tspan><tspan fill=\"green\">&quot;</tspan><tspan fill=\"blue\">/</tspan><tspan fill=\"green\">&quot;</tspan><tspan fill=\"green\">&quot;</tspan><tspan fill=\"green\">&quot;</tspan><tspan fill=\"green\">&quot;</tspan><tspan fill=\"green\">&quot;</tspan><tspan fill=\"green\">&quot;</tspan><tspan fill=\"blue\">/</tspan><tspan fill=\"green\">&quot;</tspan><tspan fill=\"green\">&quot;</tspan><tspan fill=\"green\">&quot;</tspan><tspan fill=\"green\">&quot;</tspan><tspan fill=\"green\">&quot;</tspan><tspan fill=\"green\">&quot;</tspan><tspan fill=\"blue\">/</tspan><tspan fill=\"blue\">/</tspan><tspan fill=\"green\">&quot;</tspan><tspan fill=\"green\">&quot;</tspan><tspan fill=\"green\">&quot;</tspan><tspan fill=\"green\">&quot;</tspan><tspan fill=\"green\">&quot;</tspan><tspan fill=\"green\">&quot;</tspan><tspan fill=\"blue\">-</tspan><tspan fill=\"blue\">/</tspan><tspan fill=\"green\">&quot;</tspan><tspan fill=\"green\">&quot;</tspan><tspan fill=\"green\">&quot;</tspan><tspan fill=\"green\">&quot;</tspan><tspan fill=\"green\">&quot;</tspan><tspan fill=\"green\">&quot;</tspan><tspan fill=\"blue\">/</tspan><tspan fill=\"green\">&quot;</tspan><tspan fill=\"green\">&quot;</tspan><tspan fill=\"green\">&quot;</tspan><tspan fill=\"green\">&quot;</tspan><tspan fill=\"green\">&quot;</tspan><tspan fill=\"green\">&quot;</tspan><tspan fill=\"red\">.</tspan><tspan fill=\"blue\">/</tspan><tspan fill=\"blue\">/</tspan><tspan fill=\"green\">&quot;</tspan><tspan fill=\"green\">&quot;</tspan><tspan fill=\"green\">&quot;</tspan><tspan fill=\"green\">&quot;</tspan><tspan fill=\"green\">&quot;</tspan><tspan fill=\"green\">&quot;</tspan><tspan fill=\"blue\">/</tspan><tspan fill=\"blue\">/</tspan><tspan fill=\"green\">&quot;</tspan><tspan fill=\"green\">&quot;</tspan><tspan fill=\"green\">&quot;</tspan><tspan fill=\"green\">&quot;</tspan><tspan fill=\"green\">&quot;</tspan><tspan fill=\"green\">&quot;</tspan><tspan fill=\"blue\">/</tspan><tspan fill=\"green\">&quot;</tspan><tspan fill=\"green\">&quot;</tspan><tspan fill=\"green\">&quot;</tspan><tspan fill=\"green\">&quot;</tspan><tspan fill=\"green\">&quot;</tspan><tspan fill=\"green\">&quot;</tspan><tspan fill=\"blue\">/</tspan><tspan fill=\"green\">&quot;</tspan><tspan fill=\"green\">&quot;</tspan><tspan fill=\"green\">&quot;</tspan><tspan fill=\"green\">&quot;</tspan><tspan fill=\"green\">&quot;</tspan><tspan fill=\"green\">&quot;</tspan><tspan fill=\"blue\">,</tspan><tspan fill=\"blue\">/</tspan><tspan fill=\"green\">&quot;</tspan><tspan fill=\"green\">&quot;</tspan><tspan fill=\"green\">&quot;</tspan><tspan fill=\"green\">&quot;</tspan><tspan fill=\"green\">&quot;</tspan><tspan fill=\"green\">&quot;</tspan><tspan fill=\"blue\">,</tspan><tspan fill=\"blue\">/</tspan><tspan fill=\"blue\">/</tspan><tspan fill=\"green\">&quot;</tspan><tspan fill=\"green\">&quot;</tspan><tspan fill=\"green\">&quot;</tspan><tspan fill=\"green\">&quot;</tspan><tspan fill=\"green\">&quot;</tspan><tspan fill=\"green\">&quot;</tspan><tspan fill=\"green\">(</tspan><tspan fill=\"green\">)</tspan><tspan fill=\"blue\">/</tspan><tspan fill=\"green\">&quot;</tspan><tspan fill=\"green\">&quot;</tspan><tspan fill=\"green\">&quot;</tspan><tspan fill=\"green\">&quot;</tspan><tspan fill=\"green\">&quot;</tspan><tspan fill=\"green\">&quot;</tspan><tspan fill=\"blue\">/</tspan><tspan fill=\"green\">&quot;</tspan><tspan fill=\"green\">&quot;</tspan><tspan fill=\"green\">&quot;</tspan><tspan fill=\"green\">&quot;</tspan><tspan fill=\"green\">&quot;</tspan><tspan fill=\"green\">&quot;</tspan><tspan fill=\"blue\">/</tspan><tspan fill=\"green\">&quot;</tspan><tspan fill=\"green\">&quot;</tspan><tspan fill=\"green\">&quot;</tspan><tspan fill=\"green\">&quot;</tspan><tspan fill=\"green\">&quot;</tspan><tspan fill=\"green\">&quot;</tspan><tspan fill=\"blue\">/</tspan><tspan fill=\"blue\">/</tspan><tspan fill=\"green\">&quot;</tspan><tspan fill=\"green\">&quot;</tspan><tspan fill=\"green\">&quot;</tspan><tspan fill=\"green\">&quot;</tspan><tspan fill=\"green\">&quot;</tspan><tspan fill=\"green\">&quot;</tspan><tspan fill=\"red\">.</tspan><tspan fill=\"blue\">/</tspan><tspan fill=\"green\">&quot;</tspan><tspan fill=\"green\">&quot;</tspan><tspan fill=\"green\">&quot;</tspan><tspan fill=\"green\">&quot;</tspan><tspan fill=\"green\">&quot;</tspan><tspan fill=\"green\">&quot;</tspan><tspan fill=\"blue\">/</tspan><tspan fill=\"green\">&quot;</tspan><tspan fill=\"green\">&quot;</tspan><tspan fill=\"green\">&quot;</tspan><tspan fill=\"green\">&quot;</tspan><tspan fill=\"green\">&quot;</tspan><tspan fill=\"green\">&quot;</tspan><tspan fill=\"blue\">-</tspan><tspan fill=\"blue\">/</tspan><tspan fill=\"green\">&quot;</tspan><tspan fill=\"green\">&quot;</tspan><tspan fill=\"green\">&quot;</tspan><tspan fill=\"green\">&quot;</tspan><tspan fill=\"green\">&quot;</tspan><tspan fill=\"green\">&quot;</tspan><tspan fill=\"blue\">/</tspan><tspan fill=\"blue\">/</tspan><tspan fill=\"green\">&quot;</tspan><tspan fill=\"green\">&quot;</tspan><tspan fill=\"green\">&quot;</tspan><tspan fill=\"green\">&quot;</tspan><tspan fill=\"green\">&quot;</tspan><tspan fill=\"green\">&quot;</tspan><tspan fill=\"green\">(</tspan><tspan fill=\"blue\">;</tspan><tspan fill=\"green\">)</tspan><tspan fill=\"blue\">/</tspan><tspan fill=\"green\">&quot;</tspan><tspan fill=\"green\">&quot;</tspan><tspan fill=\"green\">&quot;</tspan><tspan fill=\"green\">&quot;</tspan><tspan fill=\"green\">&quot;</tspan><tspan fill=\"green\">&quot;</tspan><tspan fill=\"blue\">/</tspan><tspan fill=\"green\">&quot;</tspan><tspan fill=\"green\">&quot;</tspan><tspan fill=\"green\">&quot;</tspan><tspan fill=\"green\">&quot;</tspan><tspan fill=\"green\">&quot;</tspan><tspan fill=\"green\">&quot;</tspan><tspan fill=\"red\">.</tspan><tspan fill=\"blue\">/</tspan><tspan fill=\"green\">&quot;</tspan><tspan fill=\"green\">&quot;</tspan><tspan fill=\"green\">&quot;</tspan><tspan fill=\"green\">&quot;</tspan><tspan fill=\"green\">&quot;</tspan><tspan fill=\"green\">&quot;</tspan><tspan fill=\"red\">.</tspan><tspan fill=\"blue\">-</tspan><tspan fill=\"blue\">/</tspan><tspan fill=\"blue\">/</tspan><tspan fill=\"green\">&quot;</tspan><tspan fill=\"green\">&quot;</tspan><tspan fill=\"green\">&quot;</tspan><tspan fill=\"green\">&quot;</tspan><tspan fill=\"green\">&quot;</tspan><tspan fill=\"green\">&quot;</tspan><tspan fill=\"blue\">/</tspan><tspan fill=\"green\">&quot;</tspan><tspan fill=\"green\">&quot;</tspan><tspan fill=\"green\">&quot;</tspan><tspan fill=\"green\">&quot;</tspan><tspan fill=\"green\">&quot;</tspan><tspan fill=\"green\">&quot;</tspan><tspan fill=\"blue\">/</tspan><tspan fill=\"green\">&quot;</tspan><tspan fill=\"green\">&quot;</tspan><tspan fill=\"green\">&quot;</tspan><tspan fill=\"green\">&quot;</tspan><tspan fill=\"green\">&quot;</tspan><tspan fill=\"green\">&quot;</tspan><tspan fill=\"blue\">-</tspan><tspan fill=\"red\">.</tspan><tspan fill=\"blue\">/</tspan><tspan fill=\"blue\">/</tspan><tspan fill=\"green\">&quot;</tspan><tspan fill=\"green\">&quot;</tspan><tspan fill=\"green\">&quot;</tspan><tspan fill=\"green\">&quot;</tspan><tspan fill=\"green\">&quot;</tspan><tspan fill=\"green\">&quot;</tspan><tspan fill=\"green\">(</tspan><tspan fill=\"blue\">-</tspan><tspan fill=\"green\">)</tspan><tspan fill=\"blue\">;</tspan><tspan fill=\"blue\">/</tspan><tspan fill=\"green\">“</tspan><tspan fill=\"green\">”</tspan><tspan fill=\"green\">“</tspan><tspan fill=\"green\">”</tspan><tspan fill=\"blue\">/</tspan><tspan fill=\"blue\">/</tspan><tspan fill=\"blue\">/</tspan><tspan fill=\"blue\">/</tspan><tspan fill=\"blue\">/</tspan><tspan fill=\"blue\">/</tspan><tspan fill=\"blue\">-</tspan><tspan fill=\"blue\">/</tspan><tspan fill=\"green\">&quot;</tspan><tspan fill=\"green\">&quot;</tspan><tspan fill=\"blue\">/</tspan><tspan fill=\"blue\">,</tspan><tspan fill=\"blue\">,</tspan><tspan fill=\"green\">&#x27;</tspan><tspan fill=\"red\">.</tspan><tspan fill=\"blue\">/</tspan><tspan fill=\"red\">.</tspan><tspan fill=\"blue\">,</tspan><tspan fill=\"green\">(</tspan><tspan fill=\"blue\">-</tspan><tspan fill=\"blue\">-</tspan><tspan fill=\"blue\">-</tspan><tspan fill=\"green\">)</tspan><tspan fill=\"red\">.</tspan><tspan fill=\"green\">&#x27;</tspan><tspan fill=\"green\">&#x27;</tspan><tspan fill=\"blue\">-</tspan><tspan fill=\"red\">.</tspan><tspan fill=\"blue\">,</tspan><tspan fill=\"blue\">,</tspan><tspan fill=\"blue\">-</tspan><tspan fill=\"green\">&quot;</tspan><tspan fill=\"green\">&quot;</tspan><tspan fill=\"green\">&quot;</tspan><tspan fill=\"red\">.</tspan><tspan fill=\"blue\">-</tspan><tspan fill=\"green\">&quot;</tspan><tspan fill=\"green\">[</tspan><tspan fill=\"green\">]</tspan><tspan fill=\"blue\">/</tspan><tspan fill=\"red\">.</tspan><tspan fill=\"blue\">/</tspan><tspan fill=\"green\">(</tspan><tspan fill=\"blue\">,</tspan><tspan fill=\"green\">)</tspan><tspan fill=\"blue\">-</tspan><tspan fill=\"green\">&quot;</tspan><tspan fill=\"green\">&quot;</tspan><tspan fill=\"green\">&quot;</tspan><tspan fill=\"red\">.</tspan><tspan fill=\"blue\">-</tspan><tspan fill=\"green\">&quot;</tspan><tspan fill=\"green\">[</tspan><tspan fill=\"green\">]</tspan><tspan fill=\"blue\">/</tspan><tspan fill=\"red\">.</tspan><tspan fill=\"green\">(</tspan><tspan fill=\"green\">)</tspan><tspan fill=\"green\">&#x27;</tspan><tspan fill=\"red\">.</tspan><tspan fill=\"blue\">-</tspan><tspan fill=\"red\">.</tspan><tspan fill=\"blue\">/</tspan><tspan fill=\"red\">.</tspan><tspan fill=\"blue\">/</tspan><tspan fill=\"blue\">/</tspan><tspan fill=\"green\">&quot;</tspan><tspan fill=\"green\">&quot;</tspan><tspan fill=\"blue\">/</tspan><tspan fill=\"blue\">-</tspan><tspan fill=\"blue\">,</tspan><tspan fill=\"blue\">,</tspan><tspan fill=\"blue\">,</tspan><tspan fill=\"blue\">-</tspan><tspan fill=\"green\">&quot;</tspan><tspan fill=\"green\">&quot;</tspan><tspan fill=\"green\">&quot;</tspan><tspan fill=\"red\">.</tspan><tspan fill=\"blue\">-</tspan><tspan fill=\"green\">&quot;</tspan><tspan fill=\"green\">[</tspan><tspan fill=\"green\">]</tspan><tspan fill=\"blue\">/</tspan><tspan fill=\"red\">.</tspan><tspan fill=\"blue\">/</tspan><tspan fill=\"blue\">-</tspan><tspan fill=\"blue\">-</tspan><tspan fill=\"blue\">,</tspan><tspan fill=\"blue\">-</tspan><tspan fill=\"green\">&quot;</tspan><tspan fill=\"green\">&quot;</tspan><tspan fill=\"green\">&quot;</tspan><tspan fill=\"red\">.</tspan><tspan fill=\"blue\">-</tspan><tspan fill=\"green\">&quot;</tspan><tspan fill=\"green\">[</tspan><tspan fill=\"green\">]</tspan><tspan fill=\"blue\">/</tspan><tspan fill=\"red\">.</tspan><tspan fill=\"blue\">,</tspan><tspan fill=\"red\">.</tspan><tspan fill=\"blue\">-</tspan><tspan fill=\"green\">&quot;</tspan><tspan fill=\"green\">&quot;</tspan><tspan fill=\"green\">&quot;</tspan><tspan fill=\"red\">.</tspan><tspan fill=\"blue\">-</tspan><tspan fill=\"green\">&quot;</tspan><tspan fill=\"green\">[</tspan><tspan fill=\"green\">]</tspan><tspan fill=\"blue\">/</tspan><tspan fill=\"red\">.</tspan><tspan fill=\"blue\">:</tspan><tspan fill=\"green\">)</tspan><tspan fill=\"blue\">,</tspan><tspan fill=\"blue\">/</tspan><tspan fill=\"blue\">;</tspan><tspan fill=\"green\">)</tspan><tspan fill=\"blue\">:</tspan><tspan fill=\"blue\">:</tspan><tspan fill=\"green\">(</tspan><tspan fill=\"green\">)</tspan><tspan fill=\"blue\">,</tspan><tspan fill=\"green\">(</tspan><tspan fill=\"green\">)</tspan><tspan fill=\"blue\">/</tspan><tspan fill=\"blue\">,</tspan><tspan fill=\"green\">(</tspan><tspan fill=\"green\">)</tspan><tspan fill=\"blue\">,</tspan><tspan fill=\"green\">(</tspan><tspan fill=\"green\">)</tspan><tspan fill=\"blue\">-</tspan><tspan fill=\"blue\">-</tspan><tspan fill=\"green\">&quot;</tspan><tspan fill=\"green\">&quot;</tspan><tspan fill=\"green\">&quot;</tspan><tspan fill=\"red\">.</tspan><tspan fill=\"blue\">-</tspan><tspan fill=\"green\">&quot;</tspan><tspan fill=\"green\">[</tspan><tspan fill=\"green\">]</tspan><tspan fill=\"blue\">/</tspan><tspan fill=\"red\">.</tspan><tspan fill=\"blue\">-</tspan><tspan fill=\"red\">.</tspan><tspan fill=\"blue\">/</tspan><tspan fill=\"blue\">/</tspan><tspan fill=\"blue\">/</tspan><tspan fill=\"green\">&quot;</tspan><tspan fill=\"green\">&quot;</tspan><tspan fill=\"blue\">/</tspan><tspan fill=\"blue\">-</tspan><tspan fill=\"green\">(</tspan><tspan fill=\"green\">&#x27;</tspan><tspan fill=\"blue\">,</tspan><tspan fill=\"green\">)</tspan><tspan fill=\"red\">.</tspan><tspan fill=\"blue\">-</tspan><tspan fill=\"blue\">-</tspan><tspan fill=\"blue\">,</tspan><tspan fill=\"red\">.</tspan><tspan fill=\"green\">&#x27;</tspan><tspan fill=\"blue\">-</tspan><tspan fill=\"green\">&#x27;</tspan><tspan fill=\"red\">.</tspan><tspan fill=\"blue\">,</tspan><tspan fill=\"black\">‘</tspan><tspan fill=\"black\">’</tspan><tspan fill=\"red\">.</tspan><tspan fill=\"blue\">&amp;</tspan><tspan fill=\"blue\">;</tspan><tspan fill=\"red\">.</tspan><tspan fill=\"blue\">,</tspan><tspan fill=\"black\">‘</tspan><tspan fill=\"black\">’</tspan><tspan fill=\"red\">.</tspan><tspan fill=\"blue\">&amp;</tspan><tspan fill=\"blue\">;</tspan><tspan fill=\"red\">.</tspan><tspan fill=\"blue\">,</tspan><tspan fill=\"black\">‘</tspan><tspan fill=\"black\">’</tspan><tspan fill=\"red\">.</tspan><tspan fill=\"blue\">&amp;</tspan><tspan fill=\"blue\">;</tspan><tspan fill=\"red\">.</tspan><tspan fill=\"black\">‘</tspan><tspan fill=\"black\">’</tspan><tspan fill=\"red\">.</tspan><tspan fill=\"blue\">&amp;</tspan><tspan fill=\"blue\">;</tspan><tspan fill=\"red\">.</tspan><tspan fill=\"red\">.</tspan><tspan fill=\"green\">(</tspan><tspan fill=\"green\">)</tspan><tspan fill=\"blue\">-</tspan><tspan fill=\"blue\">-</tspan><tspan fill=\"blue\">,</tspan><tspan fill=\"red\">.</tspan><tspan fill=\"blue\">/</tspan><tspan fill=\"blue\">,</tspan><tspan fill=\"red\">.</tspan><tspan fill=\"green\">(</tspan><tspan fill=\"green\">)</tspan><tspan fill=\"blue\">%</tspan><tspan fill=\"green\">(</tspan><tspan fill=\"green\">)</tspan><tspan fill=\"red\">.</tspan><tspan fill=\"blue\">-</tspan><tspan fill=\"green\">&quot;</tspan><tspan fill=\"green\">&quot;</tspan><tspan fill=\"green\">&quot;</tspan><tspan fill=\"green\">&quot;</tspan><tspan fill=\"blue\">/</tspan><tspan fill=\"blue\">,</tspan><tspan fill=\"red\">.</tspan><tspan fill=\"red\">.</tspan><tspan fill=\"blue\">/</tspan><tspan fill=\"blue\">&amp;</tspan><tspan fill=\"blue\">;</tspan><tspan fill=\"red\">.</tspan><tspan fill=\"red\">.</tspan><tspan fill=\"blue\">/</tspan><tspan fill=\"blue\">/</tspan><tspan fill=\"green\">&quot;</tspan><tspan fill=\"green\">&quot;</tspan><tspan fill=\"blue\">/</tspan><tspan fill=\"red\">.</tspan><tspan fill=\"blue\">-</tspan><tspan fill=\"blue\">,</tspan><tspan fill=\"green\">(</tspan><tspan fill=\"green\">)</tspan><tspan fill=\"red\">.</tspan><tspan fill=\"blue\">-</tspan><tspan fill=\"green\">&quot;</tspan><tspan fill=\"green\">&quot;</tspan><tspan fill=\"green\">&quot;</tspan><tspan fill=\"blue\">-</tspan><tspan fill=\"blue\">-</tspan><tspan fill=\"green\">&quot;</tspan><tspan fill=\"blue\">/</tspan><tspan fill=\"red\">.</tspan><tspan fill=\"blue\">/</tspan><tspan fill=\"blue\">-</tspan><tspan fill=\"green\">&quot;</tspan><tspan fill=\"blue\">-</tspan><tspan fill=\"blue\">-</tspan><tspan fill=\"green\">&quot;</tspan><tspan fill=\"green\">&quot;</tspan><tspan fill=\"green\">&quot;</tspan><tspan fill=\"green\">&quot;</tspan><tspan fill=\"green\">&quot;</tspan><tspan fill=\"blue\">-</tspan><tspan fill=\"blue\">-</tspan><tspan fill=\"blue\">-</tspan><tspan fill=\"green\">&quot;</tspan><tspan fill=\"green\">&quot;</tspan><tspan fill=\"red\">.</tspan><tspan fill=\"blue\">/</tspan><tspan fill=\"red\">.</tspan><tspan fill=\"red\">.</tspan><tspan fill=\"red\">.</tspan><tspan fill=\"blue\">/</tspan><tspan fill=\"blue\">-</tspan><tspan fill=\"blue\">/</tspan><tspan fill=\"blue\">,</tspan><tspan fill=\"red\">.</tspan><tspan fill=\"blue\">/</tspan><tspan fill=\"blue\">/</tspan><tspan fill=\"green\">&quot;</tspan><tspan fill=\"blue\">-</tspan><tspan fill=\"blue\">-</tspan><tspan fill=\"blue\">-</tspan><tspan fill=\"green\">&quot;</tspan><tspan fill=\"green\">&quot;</tspan><tspan fill=\"green\">&quot;</tspan><tspan fill=\"green\">&quot;</tspan><tspan fill=\"green\">&quot;</tspan><tspan fill=\"green\">&quot;</tspan><tspan fill=\"green\">&quot;</tspan><tspan fill=\"blue\">:</tspan><tspan fill=\"green\">&quot;</tspan><tspan fill=\"blue\">:</tspan><tspan fill=\"blue\">/</tspan><tspan fill=\"red\">.</tspan><tspan fill=\"blue\">/</tspan><tspan fill=\"red\">.</tspan><tspan fill=\"red\">.</tspan><tspan fill=\"red\">.</tspan><tspan fill=\"green\">&quot;</tspan><tspan fill=\"blue\">:</tspan><tspan fill=\"green\">&quot;</tspan><tspan fill=\"green\">&quot;</tspan><tspan fill=\"blue\">/</tspan><tspan fill=\"green\">&quot;</tspan><tspan fill=\"green\">&quot;</tspan><tspan fill=\"green\">&quot;</tspan><tspan fill=\"green\">&quot;</tspan><tspan fill=\"green\">&quot;</tspan><tspan fill=\"green\">&quot;</tspan><tspan fill=\"blue\">/</tspan><tspan fill=\"green\">&quot;</tspan><tspan fill=\"green\">&quot;</tspan><tspan fill=\"green\">&quot;</tspan><tspan fill=\"green\">&quot;</tspan><tspan fill=\"blue\">/</tspan><tspan fill=\"green\">&quot;</tspan><tspan fill=\"green\">&quot;</tspan><tspan fill=\"green\">&quot;</tspan><tspan fill=\"green\">&quot;</tspan><tspan fill=\"blue\">/</tspan><tspan fill=\"green\">&quot;</tspan><tspan fill=\"green\">&quot;</tspan><tspan fill=\"green\">&quot;</tspan><tspan fill=\"green\">&quot;</tspan><tspan fill=\"blue\">/</tspan><tspan fill=\"green\">&quot;</tspan><tspan fill=\"green\">&quot;</tspan><tspan fill=\"green\">&quot;</tspan><tspan fill=\"green\">&quot;</tspan><tspan fill=\"blue\">/</tspan><tspan fill=\"blue\">/</tspan><tspan fill=\"green\">&quot;</tspan><tspan fill=\"green\">&quot;</tspan><tspan fill=\"green\">&quot;</tspan><tspan fill=\"green\">&quot;</tspan><tspan fill=\"green\">&quot;</tspan><tspan fill=\"green\">&quot;</tspan><tspan fill=\"blue\">/</tspan><tspan fill=\"green\">&quot;</tspan><tspan fill=\"green\">&quot;</tspan><tspan fill=\"green\">&quot;</tspan><tspan fill=\"green\">&quot;</tspan><tspan fill=\"green\">&quot;</tspan><tspan fill=\"green\">&quot;</tspan><tspan fill=\"blue\">/</tspan><tspan fill=\"green\">&quot;</tspan><tspan fill=\"green\">&quot;</tspan><tspan fill=\"green\">&quot;</tspan><tspan fill=\"green\">&quot;</tspan><tspan fill=\"green\">&quot;</tspan><tspan fill=\"green\">&quot;</tspan><tspan fill=\"blue\">/</tspan><tspan fill=\"green\">&quot;</tspan><tspan fill=\"green\">&quot;</tspan><tspan fill=\"green\">&quot;</tspan><tspan fill=\"green\">&quot;</tspan><tspan fill=\"green\">&quot;</tspan><tspan fill=\"green\">&quot;</tspan><tspan fill=\"blue\">/</tspan><tspan fill=\"green\">&quot;</tspan><tspan fill=\"green\">&quot;</tspan><tspan fill=\"green\">&quot;</tspan><tspan fill=\"green\">&quot;</tspan><tspan fill=\"green\">&quot;</tspan><tspan fill=\"green\">&quot;</tspan><tspan fill=\"blue\">/</tspan><tspan fill=\"blue\">/</tspan><tspan fill=\"green\">&quot;</tspan><tspan fill=\"green\">&quot;</tspan><tspan fill=\"green\">&quot;</tspan><tspan fill=\"green\">&quot;</tspan><tspan fill=\"green\">&quot;</tspan><tspan fill=\"green\">&quot;</tspan><tspan fill=\"blue\">/</tspan><tspan fill=\"green\">&quot;</tspan><tspan fill=\"green\">&quot;</tspan><tspan fill=\"green\">&quot;</tspan><tspan fill=\"green\">&quot;</tspan><tspan fill=\"green\">&quot;</tspan><tspan fill=\"green\">&quot;</tspan><tspan fill=\"blue\">/</tspan><tspan fill=\"green\">&quot;</tspan><tspan fill=\"green\">&quot;</tspan><tspan fill=\"green\">&quot;</tspan><tspan fill=\"green\">&quot;</tspan><tspan fill=\"green\">&quot;</tspan><tspan fill=\"green\">&quot;</tspan><tspan fill=\"blue\">/</tspan><tspan fill=\"green\">&quot;</tspan><tspan fill=\"green\">&quot;</tspan><tspan fill=\"green\">&quot;</tspan><tspan fill=\"green\">&quot;</tspan><tspan fill=\"green\">&quot;</tspan><tspan fill=\"green\">&quot;</tspan><tspan fill=\"blue\">/</tspan><tspan fill=\"green\">&quot;</tspan><tspan fill=\"green\">&quot;</tspan><tspan fill=\"green\">&quot;</tspan><tspan fill=\"green\">&quot;</tspan><tspan fill=\"green\">&quot;</tspan><tspan fill=\"green\">&quot;</tspan><tspan fill=\"blue\">/</tspan><tspan fill=\"blue\">/</tspan><tspan fill=\"green\">&quot;</tspan><tspan fill=\"green\">&quot;</tspan><tspan fill=\"green\">&quot;</tspan><tspan fill=\"green\">&quot;</tspan><tspan fill=\"green\">&quot;</tspan><tspan fill=\"green\">&quot;</tspan><tspan fill=\"blue\">/</tspan><tspan fill=\"green\">&quot;</tspan><tspan fill=\"green\">&quot;</tspan><tspan fill=\"green\">&quot;</tspan><tspan fill=\"green\">&quot;</tspan><tspan fill=\"green\">&quot;</tspan><tspan fill=\"green\">&quot;</tspan><tspan fill=\"green\">(</tspan><tspan fill=\"blue\">%</tspan><tspan fill=\"green\">)</tspan><tspan fill=\"blue\">/</tspan><tspan fill=\"green\">&quot;</tspan><tspan fill=\"green\">&quot;</tspan><tspan fill=\"green\">&quot;</tspan><tspan fill=\"green\">&quot;</tspan><tspan fill=\"green\">&quot;</tspan><tspan fill=\"green\">&quot;</tspan><tspan fill=\"green\">(</tspan><tspan fill=\"blue\">%</tspan><tspan fill=\"green\">)</tspan><tspan fill=\"blue\">/</tspan><tspan fill=\"green\">&quot;</tspan><tspan fill=\"green\">&quot;</tspan><tspan fill=\"green\">&quot;</tspan><tspan fill=\"green\">&quot;</tspan><tspan fill=\"green\">&quot;</tspan><tspan fill=\"green\">&quot;</tspan><tspan fill=\"green\">(</tspan><tspan fill=\"blue\">%</tspan><tspan fill=\"green\">)</tspan><tspan fill=\"blue\">/</tspan><tspan fill=\"green\">&quot;</tspan><tspan fill=\"green\">&quot;</tspan><tspan fill=\"green\">&quot;</tspan><tspan fill=\"green\">&quot;</tspan><tspan fill=\"green\">&quot;</tspan><tspan fill=\"green\">&quot;</tspan><tspan fill=\"green\">(</tspan><tspan fill=\"blue\">%</tspan><tspan fill=\"green\">)</tspan><tspan fill=\"blue\">/</tspan><tspan fill=\"blue\">/</tspan><tspan fill=\"blue\">/</tspan><tspan fill=\"green\">&quot;</tspan><tspan fill=\"green\">&quot;</tspan><tspan fill=\"green\">&quot;</tspan><tspan fill=\"green\">&quot;</tspan><tspan fill=\"green\">&quot;</tspan><tspan fill=\"green\">&quot;</tspan><tspan fill=\"blue\">/</tspan><tspan fill=\"blue\">,</tspan><tspan fill=\"green\">(</tspan><tspan fill=\"green\">)</tspan><tspan fill=\"blue\">/</tspan><tspan fill=\"green\">&quot;</tspan><tspan fill=\"green\">&quot;</tspan><tspan fill=\"green\">&quot;</tspan><tspan fill=\"green\">&quot;</tspan><tspan fill=\"green\">&quot;</tspan><tspan fill=\"green\">&quot;</tspan><tspan fill=\"green\">(</tspan><tspan fill=\"blue\">–</tspan><tspan fill=\"green\">)</tspan><tspan fill=\"blue\">/</tspan><tspan fill=\"green\">&quot;</tspan><tspan fill=\"green\">&quot;</tspan><tspan fill=\"green\">&quot;</tspan><tspan fill=\"green\">&quot;</tspan><tspan fill=\"green\">&quot;</tspan><tspan fill=\"green\">&quot;</tspan><tspan fill=\"green\">(</tspan><tspan fill=\"blue\">–</tspan><tspan fill=\"green\">)</tspan><tspan fill=\"blue\">/</tspan><tspan fill=\"green\">&quot;</tspan><tspan fill=\"green\">&quot;</tspan><tspan fill=\"green\">&quot;</tspan><tspan fill=\"green\">&quot;</tspan><tspan fill=\"green\">&quot;</tspan><tspan fill=\"green\">&quot;</tspan><tspan fill=\"green\">(</tspan><tspan fill=\"blue\">–</tspan><tspan fill=\"green\">)</tspan><tspan fill=\"blue\">/</tspan><tspan fill=\"green\">&quot;</tspan><tspan fill=\"green\">&quot;</tspan><tspan fill=\"green\">&quot;</tspan><tspan fill=\"green\">&quot;</tspan><tspan fill=\"green\">&quot;</tspan><tspan fill=\"green\">&quot;</tspan><tspan fill=\"green\">(</tspan><tspan fill=\"blue\">–</tspan><tspan fill=\"green\">)</tspan><tspan fill=\"blue\">/</tspan><tspan fill=\"blue\">/</tspan><tspan fill=\"green\">&quot;</tspan><tspan fill=\"green\">&quot;</tspan><tspan fill=\"green\">&quot;</tspan><tspan fill=\"green\">&quot;</tspan><tspan fill=\"green\">&quot;</tspan><tspan fill=\"green\">&quot;</tspan><tspan fill=\"blue\">/</tspan><tspan fill=\"blue\">/</tspan><tspan fill=\"green\">&quot;</tspan><tspan fill=\"green\">&quot;</tspan><tspan fill=\"green\">&quot;</tspan><tspan fill=\"green\">&quot;</tspan><tspan fill=\"green\">&quot;</tspan><tspan fill=\"green\">&quot;</tspan><tspan fill=\"green\">(</tspan><tspan fill=\"red\">.</tspan><tspan fill=\"green\">)</tspan><tspan fill=\"blue\">/</tspan><tspan fill=\"green\">&quot;</tspan><tspan fill=\"green\">&quot;</tspan><tspan fill=\"green\">&quot;</tspan><tspan fill=\"green\">&quot;</tspan><tspan fill=\"green\">&quot;</tspan><tspan fill=\"green\">&quot;</tspan><tspan fill=\"green\">(</tspan><tspan fill=\"red\">.</tspan><tspan fill=\"green\">)</tspan><tspan fill=\"blue\">/</tspan><tspan fill=\"green\">&quot;</tspan><tspan fill=\"green\">&quot;</tspan><tspan fill=\"green\">&quot;</tspan><tspan fill=\"green\">&quot;</tspan><tspan fill=\"green\">&quot;</tspan><tspan fill=\"green\">&quot;</tspan><tspan fill=\"green\">(</tspan><tspan fill=\"green\">)</tspan><tspan fill=\"blue\">/</tspan><tspan fill=\"green\">&quot;</tspan><tspan fill=\"green\">&quot;</tspan><tspan fill=\"green\">&quot;</tspan><tspan fill=\"green\">&quot;</tspan><tspan fill=\"green\">&quot;</tspan><tspan fill=\"green\">&quot;</tspan><tspan fill=\"green\">(</tspan><tspan fill=\"red\">.</tspan><tspan fill=\"green\">)</tspan><tspan fill=\"blue\">/</tspan><tspan fill=\"blue\">/</tspan><tspan fill=\"green\">&quot;</tspan><tspan fill=\"green\">&quot;</tspan><tspan fill=\"green\">&quot;</tspan><tspan fill=\"green\">&quot;</tspan><tspan fill=\"green\">&quot;</tspan><tspan fill=\"green\">&quot;</tspan><tspan fill=\"blue\">/</tspan><tspan fill=\"blue\">/</tspan><tspan fill=\"green\">&quot;</tspan><tspan fill=\"green\">&quot;</tspan><tspan fill=\"green\">&quot;</tspan><tspan fill=\"green\">&quot;</tspan><tspan fill=\"green\">&quot;</tspan><tspan fill=\"green\">&quot;</tspan><tspan fill=\"green\">(</tspan><tspan fill=\"red\">.</tspan><tspan fill=\"green\">)</tspan><tspan fill=\"blue\">/</tspan><tspan fill=\"green\">&quot;</tspan><tspan fill=\"green\">&quot;</tspan><tspan fill=\"green\">&quot;</tspan><tspan fill=\"green\">&quot;</tspan><tspan fill=\"green\">&quot;</tspan><tspan fill=\"green\">&quot;</tspan><tspan fill=\"green\">(</tspan><tspan fill=\"red\">.</tspan><tspan fill=\"green\">)</tspan><tspan fill=\"blue\">/</tspan><tspan fill=\"green\">&quot;</tspan><tspan fill=\"green\">&quot;</tspan><tspan fill=\"green\">&quot;</tspan><tspan fill=\"green\">&quot;</tspan><tspan fill=\"green\">&quot;</tspan><tspan fill=\"green\">&quot;</tspan><tspan fill=\"green\">(</tspan><tspan fill=\"red\">.</tspan><tspan fill=\"green\">)</tspan><tspan fill=\"blue\">/</tspan><tspan fill=\"green\">&quot;</tspan><tspan fill=\"green\">&quot;</tspan><tspan fill=\"green\">&quot;</tspan><tspan fill=\"green\">&quot;</tspan><tspan fill=\"green\">&quot;</tspan><tspan fill=\"green\">&quot;</tspan><tspan fill=\"green\">(</tspan><tspan fill=\"red\">.</tspan><tspan fill=\"green\">)</tspan><tspan fill=\"blue\">/</tspan><tspan fill=\"blue\">/</tspan><tspan fill=\"green\">&quot;</tspan><tspan fill=\"green\">&quot;</tspan><tspan fill=\"green\">&quot;</tspan><tspan fill=\"green\">&quot;</tspan><tspan fill=\"green\">&quot;</tspan><tspan fill=\"green\">&quot;</tspan><tspan fill=\"blue\">/</tspan><tspan fill=\"green\">(</tspan><tspan fill=\"green\">)</tspan><tspan fill=\"blue\">/</tspan><tspan fill=\"green\">&quot;</tspan><tspan fill=\"green\">&quot;</tspan><tspan fill=\"green\">&quot;</tspan><tspan fill=\"green\">&quot;</tspan><tspan fill=\"green\">&quot;</tspan><tspan fill=\"green\">&quot;</tspan><tspan fill=\"blue\">/</tspan><tspan fill=\"green\">&quot;</tspan><tspan fill=\"green\">&quot;</tspan><tspan fill=\"green\">&quot;</tspan><tspan fill=\"green\">&quot;</tspan><tspan fill=\"green\">&quot;</tspan><tspan fill=\"green\">&quot;</tspan><tspan fill=\"blue\">/</tspan><tspan fill=\"green\">&quot;</tspan><tspan fill=\"green\">&quot;</tspan><tspan fill=\"green\">&quot;</tspan><tspan fill=\"green\">&quot;</tspan><tspan fill=\"green\">&quot;</tspan><tspan fill=\"green\">&quot;</tspan><tspan fill=\"blue\">/</tspan><tspan fill=\"green\">&quot;</tspan><tspan fill=\"green\">&quot;</tspan><tspan fill=\"green\">&quot;</tspan><tspan fill=\"green\">&quot;</tspan><tspan fill=\"green\">&quot;</tspan><tspan fill=\"green\">&quot;</tspan><tspan fill=\"blue\">/</tspan><tspan fill=\"blue\">/</tspan><tspan fill=\"green\">&quot;</tspan><tspan fill=\"green\">&quot;</tspan><tspan fill=\"green\">&quot;</tspan><tspan fill=\"green\">&quot;</tspan><tspan fill=\"green\">&quot;</tspan><tspan fill=\"green\">&quot;</tspan><tspan fill=\"blue\">&amp;</tspan><tspan fill=\"blue\">;</tspan><tspan fill=\"blue\">/</tspan><tspan fill=\"green\">&quot;</tspan><tspan fill=\"green\">&quot;</tspan><tspan fill=\"green\">&quot;</tspan><tspan fill=\"green\">&quot;</tspan><tspan fill=\"green\">&quot;</tspan><tspan fill=\"green\">&quot;</tspan><tspan fill=\"green\">(</tspan><tspan fill=\"red\">.</tspan><tspan fill=\"green\">)</tspan><tspan fill=\"blue\">/</tspan><tspan fill=\"green\">&quot;</tspan><tspan fill=\"green\">&quot;</tspan><tspan fill=\"green\">&quot;</tspan><tspan fill=\"green\">&quot;</tspan><tspan fill=\"green\">&quot;</tspan><tspan fill=\"green\">&quot;</tspan><tspan fill=\"green\">(</tspan><tspan fill=\"red\">.</tspan><tspan fill=\"green\">)</tspan><tspan fill=\"blue\">/</tspan><tspan fill=\"green\">&quot;</tspan><tspan fill=\"green\">&quot;</tspan><tspan fill=\"green\">&quot;</tspan><tspan fill=\"green\">&quot;</tspan><tspan fill=\"green\">&quot;</tspan><tspan fill=\"green\">&quot;</tspan><tspan fill=\"green\">(</tspan><tspan fill=\"red\">.</tspan><tspan fill=\"green\">)</tspan><tspan fill=\"blue\">/</tspan><tspan fill=\"green\">&quot;</tspan><tspan fill=\"green\">&quot;</tspan><tspan fill=\"green\">&quot;</tspan><tspan fill=\"green\">&quot;</tspan><tspan fill=\"green\">&quot;</tspan><tspan fill=\"green\">&quot;</tspan><tspan fill=\"green\">(</tspan><tspan fill=\"red\">.</tspan><tspan fill=\"green\">)</tspan><tspan fill=\"blue\">/</tspan><tspan fill=\"blue\">/</tspan><tspan fill=\"green\">&quot;</tspan><tspan fill=\"green\">&quot;</tspan><tspan fill=\"green\">&quot;</tspan><tspan fill=\"green\">&quot;</tspan><tspan fill=\"green\">&quot;</tspan><tspan fill=\"green\">&quot;</tspan><tspan fill=\"blue\">&amp;</tspan><tspan fill=\"blue\">;</tspan><tspan fill=\"blue\">/</tspan><tspan fill=\"green\">&quot;</tspan><tspan fill=\"green\">&quot;</tspan><tspan fill=\"green\">&quot;</tspan><tspan fill=\"green\">&quot;</tspan><tspan fill=\"green\">&quot;</tspan><tspan fill=\"green\">&quot;</tspan><tspan fill=\"green\">(</tspan><tspan fill=\"red\">.</tspan><tspan fill=\"green\">)</tspan><tspan fill=\"blue\">/</tspan><tspan fill=\"green\">&quot;</tspan><tspan fill=\"green\">&quot;</tspan><tspan fill=\"green\">&quot;</tspan><tspan fill=\"green\">&quot;</tspan><tspan fill=\"green\">&quot;</tspan><tspan fill=\"green\">&quot;</tspan><tspan fill=\"green\">(</tspan><tspan fill=\"red\">.</tspan><tspan fill=\"green\">)</tspan><tspan fill=\"blue\">/</tspan><tspan fill=\"green\">&quot;</tspan><tspan fill=\"green\">&quot;</tspan><tspan fill=\"green\">&quot;</tspan><tspan fill=\"green\">&quot;</tspan><tspan fill=\"green\">&quot;</tspan><tspan fill=\"green\">&quot;</tspan><tspan fill=\"green\">(</tspan><tspan fill=\"red\">.</tspan><tspan fill=\"green\">)</tspan><tspan fill=\"blue\">/</tspan><tspan fill=\"green\">&quot;</tspan><tspan fill=\"green\">&quot;</tspan><tspan fill=\"green\">&quot;</tspan><tspan fill=\"green\">&quot;</tspan><tspan fill=\"green\">&quot;</tspan><tspan fill=\"green\">&quot;</tspan><tspan fill=\"green\">(</tspan><tspan fill=\"red\">.</tspan><tspan fill=\"green\">)</tspan><tspan fill=\"blue\">/</tspan><tspan fill=\"blue\">/</tspan><tspan fill=\"green\">&quot;</tspan><tspan fill=\"green\">&quot;</tspan><tspan fill=\"green\">&quot;</tspan><tspan fill=\"green\">&quot;</tspan><tspan fill=\"green\">&quot;</tspan><tspan fill=\"green\">&quot;</tspan><tspan fill=\"blue\">&amp;</tspan><tspan fill=\"blue\">;</tspan><tspan fill=\"blue\">/</tspan><tspan fill=\"green\">&quot;</tspan><tspan fill=\"green\">&quot;</tspan><tspan fill=\"green\">&quot;</tspan><tspan fill=\"green\">&quot;</tspan><tspan fill=\"green\">&quot;</tspan><tspan fill=\"green\">&quot;</tspan><tspan fill=\"green\">(</tspan><tspan fill=\"red\">.</tspan><tspan fill=\"green\">)</tspan><tspan fill=\"blue\">/</tspan><tspan fill=\"green\">&quot;</tspan><tspan fill=\"green\">&quot;</tspan><tspan fill=\"green\">&quot;</tspan><tspan fill=\"green\">&quot;</tspan><tspan fill=\"green\">&quot;</tspan><tspan fill=\"green\">&quot;</tspan><tspan fill=\"green\">(</tspan><tspan fill=\"red\">.</tspan><tspan fill=\"green\">)</tspan><tspan fill=\"blue\">/</tspan><tspan fill=\"green\">&quot;</tspan><tspan fill=\"green\">&quot;</tspan><tspan fill=\"green\">&quot;</tspan><tspan fill=\"green\">&quot;</tspan><tspan fill=\"green\">&quot;</tspan><tspan fill=\"green\">&quot;</tspan><tspan fill=\"green\">(</tspan><tspan fill=\"red\">.</tspan><tspan fill=\"green\">)</tspan><tspan fill=\"blue\">/</tspan><tspan fill=\"green\">&quot;</tspan><tspan fill=\"green\">&quot;</tspan><tspan fill=\"green\">&quot;</tspan><tspan fill=\"green\">&quot;</tspan><tspan fill=\"green\">&quot;</tspan><tspan fill=\"green\">&quot;</tspan><tspan fill=\"green\">(</tspan><tspan fill=\"red\">.</tspan><tspan fill=\"green\">)</tspan><tspan fill=\"blue\">/</tspan><tspan fill=\"blue\">/</tspan><tspan fill=\"green\">&quot;</tspan><tspan fill=\"green\">&quot;</tspan><tspan fill=\"green\">&quot;</tspan><tspan fill=\"green\">&quot;</tspan><tspan fill=\"green\">&quot;</tspan><tspan fill=\"green\">&quot;</tspan><tspan fill=\"blue\">/</tspan><tspan fill=\"green\">&quot;</tspan><tspan fill=\"green\">&quot;</tspan><tspan fill=\"green\">&quot;</tspan><tspan fill=\"green\">&quot;</tspan><tspan fill=\"green\">&quot;</tspan><tspan fill=\"green\">&quot;</tspan><tspan fill=\"green\">(</tspan><tspan fill=\"red\">.</tspan><tspan fill=\"green\">)</tspan><tspan fill=\"blue\">/</tspan><tspan fill=\"green\">&quot;</tspan><tspan fill=\"green\">&quot;</tspan><tspan fill=\"green\">&quot;</tspan><tspan fill=\"green\">&quot;</tspan><tspan fill=\"green\">&quot;</tspan><tspan fill=\"green\">&quot;</tspan><tspan fill=\"green\">(</tspan><tspan fill=\"red\">.</tspan><tspan fill=\"green\">)</tspan><tspan fill=\"blue\">/</tspan><tspan fill=\"green\">&quot;</tspan><tspan fill=\"green\">&quot;</tspan><tspan fill=\"green\">&quot;</tspan><tspan fill=\"green\">&quot;</tspan><tspan fill=\"green\">&quot;</tspan><tspan fill=\"green\">&quot;</tspan><tspan fill=\"green\">(</tspan><tspan fill=\"red\">.</tspan><tspan fill=\"green\">)</tspan><tspan fill=\"blue\">/</tspan><tspan fill=\"green\">&quot;</tspan><tspan fill=\"green\">&quot;</tspan><tspan fill=\"green\">&quot;</tspan><tspan fill=\"green\">&quot;</tspan><tspan fill=\"green\">&quot;</tspan><tspan fill=\"green\">&quot;</tspan><tspan fill=\"green\">(</tspan><tspan fill=\"red\">.</tspan><tspan fill=\"green\">)</tspan><tspan fill=\"blue\">/</tspan><tspan fill=\"blue\">/</tspan><tspan fill=\"green\">&quot;</tspan><tspan fill=\"green\">&quot;</tspan><tspan fill=\"green\">&quot;</tspan><tspan fill=\"green\">&quot;</tspan><tspan fill=\"green\">&quot;</tspan><tspan fill=\"green\">&quot;</tspan><tspan fill=\"blue\">-</tspan><tspan fill=\"blue\">-</tspan><tspan fill=\"blue\">/</tspan><tspan fill=\"blue\">/</tspan><tspan fill=\"green\">&quot;</tspan><tspan fill=\"green\">&quot;</tspan><tspan fill=\"green\">&quot;</tspan><tspan fill=\"green\">&quot;</tspan><tspan fill=\"green\">&quot;</tspan><tspan fill=\"green\">&quot;</tspan><tspan fill=\"blue\">/</tspan><tspan fill=\"green\">&quot;</tspan><tspan fill=\"green\">&quot;</tspan><tspan fill=\"green\">&quot;</tspan><tspan fill=\"green\">&quot;</tspan><tspan fill=\"green\">&quot;</tspan><tspan fill=\"green\">&quot;</tspan><tspan fill=\"blue\">/</tspan><tspan fill=\"green\">&quot;</tspan><tspan fill=\"green\">&quot;</tspan><tspan fill=\"green\">&quot;</tspan><tspan fill=\"green\">&quot;</tspan><tspan fill=\"green\">&quot;</tspan><tspan fill=\"green\">&quot;</tspan><tspan fill=\"blue\">/</tspan><tspan fill=\"green\">&quot;</tspan><tspan fill=\"green\">&quot;</tspan><tspan fill=\"green\">&quot;</tspan><tspan fill=\"green\">&quot;</tspan><tspan fill=\"green\">&quot;</tspan><tspan fill=\"green\">&quot;</tspan><tspan fill=\"blue\">/</tspan><tspan fill=\"blue\">/</tspan><tspan fill=\"green\">&quot;</tspan><tspan fill=\"green\">&quot;</tspan><tspan fill=\"green\">&quot;</tspan><tspan fill=\"green\">&quot;</tspan><tspan fill=\"green\">&quot;</tspan><tspan fill=\"green\">&quot;</tspan><tspan fill=\"blue\">/</tspan><tspan fill=\"green\">&quot;</tspan><tspan fill=\"green\">&quot;</tspan><tspan fill=\"green\">&quot;</tspan><tspan fill=\"green\">&quot;</tspan><tspan fill=\"green\">&quot;</tspan><tspan fill=\"green\">&quot;</tspan><tspan fill=\"green\">(</tspan><tspan fill=\"red\">.</tspan><tspan fill=\"green\">)</tspan><tspan fill=\"blue\">/</tspan><tspan fill=\"green\">&quot;</tspan><tspan fill=\"green\">&quot;</tspan><tspan fill=\"green\">&quot;</tspan><tspan fill=\"green\">&quot;</tspan><tspan fill=\"green\">&quot;</tspan><tspan fill=\"green\">&quot;</tspan><tspan fill=\"green\">(</tspan><tspan fill=\"red\">.</tspan><tspan fill=\"green\">)</tspan><tspan fill=\"blue\">/</tspan><tspan fill=\"green\">&quot;</tspan><tspan fill=\"green\">&quot;</tspan><tspan fill=\"green\">&quot;</tspan><tspan fill=\"green\">&quot;</tspan><tspan fill=\"green\">&quot;</tspan><tspan fill=\"green\">&quot;</tspan><tspan fill=\"green\">(</tspan><tspan fill=\"red\">.</tspan><tspan fill=\"green\">)</tspan><tspan fill=\"blue\">/</tspan><tspan fill=\"green\">&quot;</tspan><tspan fill=\"green\">&quot;</tspan><tspan fill=\"green\">&quot;</tspan><tspan fill=\"green\">&quot;</tspan><tspan fill=\"green\">&quot;</tspan><tspan fill=\"green\">&quot;</tspan><tspan fill=\"green\">(</tspan><tspan fill=\"red\">.</tspan><tspan fill=\"green\">)</tspan><tspan fill=\"blue\">/</tspan><tspan fill=\"blue\">/</tspan><tspan fill=\"green\">&quot;</tspan><tspan fill=\"green\">&quot;</tspan><tspan fill=\"green\">&quot;</tspan><tspan fill=\"green\">&quot;</tspan><tspan fill=\"green\">&quot;</tspan><tspan fill=\"green\">&quot;</tspan><tspan fill=\"blue\">/</tspan><tspan fill=\"green\">&quot;</tspan><tspan fill=\"green\">&quot;</tspan><tspan fill=\"green\">&quot;</tspan><tspan fill=\"green\">&quot;</tspan><tspan fill=\"green\">&quot;</tspan><tspan fill=\"green\">&quot;</tspan><tspan fill=\"green\">(</tspan><tspan fill=\"red\">.</tspan><tspan fill=\"green\">)</tspan><tspan fill=\"blue\">/</tspan><tspan fill=\"green\">&quot;</tspan><tspan fill=\"green\">&quot;</tspan><tspan fill=\"green\">&quot;</tspan><tspan fill=\"green\">&quot;</tspan><tspan fill=\"green\">&quot;</tspan><tspan fill=\"green\">&quot;</tspan><tspan fill=\"green\">(</tspan><tspan fill=\"red\">.</tspan><tspan fill=\"green\">)</tspan><tspan fill=\"blue\">/</tspan><tspan fill=\"green\">&quot;</tspan><tspan fill=\"green\">&quot;</tspan><tspan fill=\"green\">&quot;</tspan><tspan fill=\"green\">&quot;</tspan><tspan fill=\"green\">&quot;</tspan><tspan fill=\"green\">&quot;</tspan><tspan fill=\"green\">(</tspan><tspan fill=\"red\">.</tspan><tspan fill=\"green\">)</tspan><tspan fill=\"blue\">/</tspan><tspan fill=\"green\">&quot;</tspan><tspan fill=\"green\">&quot;</tspan><tspan fill=\"green\">&quot;</tspan><tspan fill=\"green\">&quot;</tspan><tspan fill=\"green\">&quot;</tspan><tspan fill=\"green\">&quot;</tspan><tspan fill=\"green\">(</tspan><tspan fill=\"red\">.</tspan><tspan fill=\"green\">)</tspan><tspan fill=\"blue\">/</tspan><tspan fill=\"blue\">/</tspan><tspan fill=\"green\">&quot;</tspan><tspan fill=\"green\">&quot;</tspan><tspan fill=\"green\">&quot;</tspan><tspan fill=\"green\">&quot;</tspan><tspan fill=\"green\">&quot;</tspan><tspan fill=\"green\">&quot;</tspan><tspan fill=\"blue\">/</tspan><tspan fill=\"green\">&quot;</tspan><tspan fill=\"green\">&quot;</tspan><tspan fill=\"green\">&quot;</tspan><tspan fill=\"green\">&quot;</tspan><tspan fill=\"green\">&quot;</tspan><tspan fill=\"green\">&quot;</tspan><tspan fill=\"green\">(</tspan><tspan fill=\"red\">.</tspan><tspan fill=\"green\">)</tspan><tspan fill=\"blue\">/</tspan><tspan fill=\"green\">&quot;</tspan><tspan fill=\"green\">&quot;</tspan><tspan fill=\"green\">&quot;</tspan><tspan fill=\"green\">&quot;</tspan><tspan fill=\"green\">&quot;</tspan><tspan fill=\"green\">&quot;</tspan><tspan fill=\"green\">(</tspan><tspan fill=\"red\">.</tspan><tspan fill=\"green\">)</tspan><tspan fill=\"blue\">/</tspan><tspan fill=\"green\">&quot;</tspan><tspan fill=\"green\">&quot;</tspan><tspan fill=\"green\">&quot;</tspan><tspan fill=\"green\">&quot;</tspan><tspan fill=\"green\">&quot;</tspan><tspan fill=\"green\">&quot;</tspan><tspan fill=\"green\">(</tspan><tspan fill=\"red\">.</tspan><tspan fill=\"green\">)</tspan><tspan fill=\"blue\">/</tspan><tspan fill=\"green\">&quot;</tspan><tspan fill=\"green\">&quot;</tspan><tspan fill=\"green\">&quot;</tspan><tspan fill=\"green\">&quot;</tspan><tspan fill=\"green\">&quot;</tspan><tspan fill=\"green\">&quot;</tspan><tspan fill=\"green\">(</tspan><tspan fill=\"red\">.</tspan><tspan fill=\"green\">)</tspan><tspan fill=\"blue\">/</tspan><tspan fill=\"blue\">/</tspan><tspan fill=\"blue\">/</tspan><tspan fill=\"blue\">/</tspan><tspan fill=\"blue\">/</tspan><tspan fill=\"blue\">-</tspan><tspan fill=\"blue\">-</tspan><tspan fill=\"green\">&quot;</tspan><tspan fill=\"green\">&quot;</tspan><tspan fill=\"red\">.</tspan><tspan fill=\"blue\">:</tspan><tspan fill=\"blue\">;</tspan><tspan fill=\"blue\">:</tspan><tspan fill=\"blue\">-</tspan><tspan fill=\"blue\">;</tspan><tspan fill=\"blue\">;</tspan><tspan fill=\"blue\">-</tspan><tspan fill=\"blue\">-</tspan><tspan fill=\"blue\">:</tspan><tspan fill=\"blue\">-</tspan><tspan fill=\"red\">.</tspan><tspan fill=\"blue\">/</tspan><tspan fill=\"blue\">/</tspan><tspan fill=\"blue\">/</tspan><tspan fill=\"blue\">-</tspan><tspan fill=\"blue\">-</tspan><tspan fill=\"blue\">/</tspan><tspan fill=\"blue\">-</tspan><tspan fill=\"blue\">/</tspan><tspan fill=\"blue\">-</tspan><tspan fill=\"blue\">-</tspan><tspan fill=\"green\">(</tspan><tspan fill=\"blue\">,</tspan><tspan fill=\"blue\">-</tspan><tspan fill=\"blue\">-</tspan><tspan fill=\"blue\">,</tspan><tspan fill=\"blue\">-</tspan><tspan fill=\"blue\">-</tspan><tspan fill=\"green\">)</tspan><tspan fill=\"red\">.</tspan><tspan fill=\"blue\">-</tspan><tspan fill=\"blue\">-</tspan><tspan fill=\"blue\">/</tspan><tspan fill=\"red\">.</tspan><tspan fill=\"red\">.</tspan><tspan fill=\"blue\">/</tspan><tspan fill=\"green\">&quot;</tspan><tspan fill=\"green\">&quot;</tspan><tspan fill=\"blue\">-</tspan><tspan fill=\"blue\">-</tspan><tspan fill=\"blue\">/</tspan><tspan fill=\"blue\">-</tspan><tspan fill=\"green\">&quot;</tspan><tspan fill=\"green\">&quot;</tspan><tspan fill=\"green\">&quot;</tspan><tspan fill=\"blue\">-</tspan><tspan fill=\"blue\">-</tspan><tspan fill=\"green\">&quot;</tspan><tspan fill=\"blue\">/</tspan><tspan fill=\"red\">.</tspan><tspan fill=\"red\">.</tspan><tspan fill=\"blue\">/</tspan><tspan fill=\"blue\">-</tspan><tspan fill=\"blue\">-</tspan><tspan fill=\"green\">(</tspan><tspan fill=\"blue\">&amp;</tspan><tspan fill=\"blue\">;</tspan><tspan fill=\"red\">.</tspan><tspan fill=\"green\">)</tspan><tspan fill=\"blue\">,</tspan><tspan fill=\"blue\">-</tspan><tspan fill=\"green\">(</tspan><tspan fill=\"blue\">&amp;</tspan><tspan fill=\"blue\">;</tspan><tspan fill=\"red\">.</tspan><tspan fill=\"green\">)</tspan><tspan fill=\"blue\">,</tspan><tspan fill=\"red\">.</tspan><tspan fill=\"green\">(</tspan><tspan fill=\"red\">.</tspan><tspan fill=\"green\">)</tspan><tspan fill=\"blue\">,</tspan><tspan fill=\"green\">(</tspan><tspan fill=\"red\">.</tspan><tspan fill=\"green\">)</tspan><tspan fill=\"blue\">,</tspan><tspan fill=\"green\">(</tspan><tspan fill=\"red\">.</tspan><tspan fill=\"green\">)</tspan><tspan fill=\"blue\">,</tspan><tspan fill=\"green\">(</tspan><tspan fill=\"red\">.</tspan><tspan fill=\"green\">)</tspan><tspan fill=\"blue\">,</tspan><tspan fill=\"green\">(</tspan><tspan fill=\"green\">)</tspan><tspan fill=\"green\">(</tspan><tspan fill=\"red\">.</tspan><tspan fill=\"green\">)</tspan><tspan fill=\"red\">.</tspan><tspan fill=\"blue\">-</tspan><tspan fill=\"blue\">-</tspan><tspan fill=\"green\">(</tspan><tspan fill=\"blue\">&amp;</tspan><tspan fill=\"blue\">;</tspan><tspan fill=\"red\">.</tspan><tspan fill=\"green\">)</tspan><tspan fill=\"blue\">,</tspan><tspan fill=\"blue\">-</tspan><tspan fill=\"green\">(</tspan><tspan fill=\"blue\">&amp;</tspan><tspan fill=\"blue\">;</tspan><tspan fill=\"red\">.</tspan><tspan fill=\"green\">)</tspan><tspan fill=\"blue\">,</tspan><tspan fill=\"red\">.</tspan><tspan fill=\"green\">(</tspan><tspan fill=\"blue\">&amp;</tspan><tspan fill=\"blue\">;</tspan><tspan fill=\"red\">.</tspan><tspan fill=\"green\">)</tspan><tspan fill=\"blue\">,</tspan><tspan fill=\"green\">(</tspan><tspan fill=\"green\">)</tspan><tspan fill=\"green\">(</tspan><tspan fill=\"blue\">&amp;</tspan><tspan fill=\"blue\">;</tspan><tspan fill=\"red\">.</tspan><tspan fill=\"green\">)</tspan><tspan fill=\"blue\">,</tspan><tspan fill=\"green\">(</tspan><tspan fill=\"blue\">&amp;</tspan><tspan fill=\"blue\">;</tspan><tspan fill=\"red\">.</tspan><tspan fill=\"green\">)</tspan><tspan fill=\"green\">(</tspan><tspan fill=\"red\">.</tspan><tspan fill=\"green\">)</tspan><tspan fill=\"blue\">;</tspan><tspan fill=\"green\">(</tspan><tspan fill=\"red\">.</tspan><tspan fill=\"green\">)</tspan><tspan fill=\"red\">.</tspan><tspan fill=\"green\">(</tspan><tspan fill=\"green\">)</tspan><tspan fill=\"blue\">-</tspan><tspan fill=\"green\">(</tspan><tspan fill=\"red\">.</tspan><tspan fill=\"green\">)</tspan><tspan fill=\"green\">(</tspan><tspan fill=\"blue\">-</tspan><tspan fill=\"green\">&quot;</tspan><tspan fill=\"green\">&quot;</tspan><tspan fill=\"green\">&quot;</tspan><tspan fill=\"blue\">-</tspan><tspan fill=\"blue\">-</tspan><tspan fill=\"green\">&quot;</tspan><tspan fill=\"blue\">/</tspan><tspan fill=\"green\">)</tspan><tspan fill=\"red\">.</tspan><tspan fill=\"blue\">-</tspan><tspan fill=\"blue\">,</tspan><tspan fill=\"green\">(</tspan><tspan fill=\"blue\">&amp;</tspan><tspan fill=\"blue\">;</tspan><tspan fill=\"red\">.</tspan><tspan fill=\"green\">)</tspan><tspan fill=\"red\">.</tspan><tspan fill=\"green\">(</tspan><tspan fill=\"red\">.</tspan><tspan fill=\"green\">)</tspan><tspan fill=\"blue\">,</tspan><tspan fill=\"red\">.</tspan><tspan fill=\"blue\">%</tspan><tspan fill=\"blue\">%</tspan><tspan fill=\"blue\">,</tspan><tspan fill=\"blue\">,</tspan><tspan fill=\"blue\">-</tspan><tspan fill=\"red\">.</tspan><tspan fill=\"red\">.</tspan><tspan fill=\"blue\">-</tspan><tspan fill=\"blue\">:</tspan><tspan fill=\"red\">.</tspan><tspan fill=\"blue\">%</tspan><tspan fill=\"blue\">%</tspan><tspan fill=\"green\">(</tspan><tspan fill=\"blue\">-</tspan><tspan fill=\"green\">&quot;</tspan><tspan fill=\"green\">&quot;</tspan><tspan fill=\"green\">&quot;</tspan><tspan fill=\"blue\">-</tspan><tspan fill=\"blue\">-</tspan><tspan fill=\"green\">&quot;</tspan><tspan fill=\"blue\">/</tspan><tspan fill=\"green\">)</tspan><tspan fill=\"red\">.</tspan><tspan fill=\"blue\">/</tspan><tspan fill=\"green\">&quot;</tspan><tspan fill=\"blue\">-</tspan><tspan fill=\"blue\">-</tspan><tspan fill=\"green\">&quot;</tspan><tspan fill=\"green\">&quot;</tspan><tspan fill=\"green\">&quot;</tspan><tspan fill=\"green\">&quot;</tspan><tspan fill=\"green\">&quot;</tspan><tspan fill=\"blue\">-</tspan><tspan fill=\"blue\">-</tspan><tspan fill=\"blue\">-</tspan><tspan fill=\"green\">&quot;</tspan><tspan fill=\"green\">&quot;</tspan><tspan fill=\"red\">.</tspan><tspan fill=\"blue\">/</tspan><tspan fill=\"red\">.</tspan><tspan fill=\"red\">.</tspan><tspan fill=\"red\">.</tspan><tspan fill=\"blue\">/</tspan><tspan fill=\"blue\">-</tspan><tspan fill=\"blue\">/</tspan><tspan fill=\"green\">(</tspan><tspan fill=\"green\">)</tspan><tspan fill=\"blue\">,</tspan><tspan fill=\"blue\">-</tspan><tspan fill=\"blue\">-</tspan><tspan fill=\"green\">(</tspan><tspan fill=\"green\">)</tspan><tspan fill=\"green\">(</tspan><tspan fill=\"green\">)</tspan><tspan fill=\"red\">.</tspan><tspan fill=\"blue\">/</tspan><tspan fill=\"red\">.</tspan><tspan fill=\"green\">(</tspan><tspan fill=\"blue\">%</tspan><tspan fill=\"blue\">:</tspan><tspan fill=\"red\">.</tspan><tspan fill=\"blue\">-</tspan><tspan fill=\"red\">.</tspan><tspan fill=\"blue\">;</tspan><tspan fill=\"red\">.</tspan><tspan fill=\"red\">.</tspan><tspan fill=\"blue\">/</tspan><tspan fill=\"blue\">-</tspan><tspan fill=\"blue\">-</tspan><tspan fill=\"green\">)</tspan><tspan fill=\"blue\">-</tspan><tspan fill=\"blue\">,</tspan><tspan fill=\"green\">(</tspan><tspan fill=\"blue\">%</tspan><tspan fill=\"blue\">:</tspan><tspan fill=\"red\">.</tspan><tspan fill=\"blue\">–</tspan><tspan fill=\"red\">.</tspan><tspan fill=\"blue\">;</tspan><tspan fill=\"blue\">&amp;</tspan><tspan fill=\"blue\">;</tspan><tspan fill=\"red\">.</tspan><tspan fill=\"red\">.</tspan><tspan fill=\"blue\">/</tspan><tspan fill=\"blue\">-</tspan><tspan fill=\"blue\">-</tspan><tspan fill=\"green\">)</tspan><tspan fill=\"blue\">-</tspan><tspan fill=\"red\">.</tspan><tspan fill=\"blue\">/</tspan><tspan fill=\"blue\">/</tspan><tspan fill=\"green\">&quot;</tspan><tspan fill=\"green\">&quot;</tspan><tspan fill=\"green\">&quot;</tspan><tspan fill=\"green\">&quot;</tspan><tspan fill=\"green\">&quot;</tspan><tspan fill=\"green\">&quot;</tspan><tspan fill=\"blue\">:</tspan><tspan fill=\"green\">&quot;</tspan><tspan fill=\"blue\">:</tspan><tspan fill=\"blue\">/</tspan><tspan fill=\"red\">.</tspan><tspan fill=\"blue\">/</tspan><tspan fill=\"red\">.</tspan><tspan fill=\"red\">.</tspan><tspan fill=\"red\">.</tspan><tspan fill=\"green\">&quot;</tspan><tspan fill=\"blue\">:</tspan><tspan fill=\"green\">&quot;</tspan><tspan fill=\"green\">&quot;</tspan><tspan fill=\"blue\">/</tspan><tspan fill=\"blue\">/</tspan><tspan fill=\"blue\">-</tspan><tspan fill=\"green\">&quot;</tspan><tspan fill=\"blue\">-</tspan><tspan fill=\"blue\">-</tspan><tspan fill=\"green\">&quot;</tspan><tspan fill=\"green\">&quot;</tspan><tspan fill=\"green\">&quot;</tspan><tspan fill=\"green\">&quot;</tspan><tspan fill=\"green\">&quot;</tspan><tspan fill=\"blue\">-</tspan><tspan fill=\"blue\">-</tspan><tspan fill=\"blue\">-</tspan><tspan fill=\"green\">&quot;</tspan><tspan fill=\"green\">&quot;</tspan><tspan fill=\"red\">.</tspan><tspan fill=\"blue\">/</tspan><tspan fill=\"red\">.</tspan><tspan fill=\"red\">.</tspan><tspan fill=\"red\">.</tspan><tspan fill=\"blue\">/</tspan><tspan fill=\"blue\">-</tspan><tspan fill=\"blue\">/</tspan><tspan fill=\"red\">.</tspan><tspan fill=\"blue\">/</tspan><tspan fill=\"blue\">/</tspan><tspan fill=\"green\">&quot;</tspan><tspan fill=\"blue\">-</tspan><tspan fill=\"blue\">-</tspan><tspan fill=\"blue\">-</tspan><tspan fill=\"green\">&quot;</tspan><tspan fill=\"green\">&quot;</tspan><tspan fill=\"green\">&quot;</tspan><tspan fill=\"green\">&quot;</tspan><tspan fill=\"green\">&quot;</tspan><tspan fill=\"green\">&quot;</tspan><tspan fill=\"green\">&quot;</tspan><tspan fill=\"blue\">:</tspan><tspan fill=\"green\">&quot;</tspan><tspan fill=\"blue\">:</tspan><tspan fill=\"blue\">/</tspan><tspan fill=\"red\">.</tspan><tspan fill=\"blue\">/</tspan><tspan fill=\"red\">.</tspan><tspan fill=\"red\">.</tspan><tspan fill=\"red\">.</tspan><tspan fill=\"green\">&quot;</tspan><tspan fill=\"blue\">:</tspan><tspan fill=\"green\">&quot;</tspan><tspan fill=\"green\">&quot;</tspan><tspan fill=\"blue\">/</tspan><tspan fill=\"green\">&quot;</tspan><tspan fill=\"green\">&quot;</tspan><tspan fill=\"green\">&quot;</tspan><tspan fill=\"green\">&quot;</tspan><tspan fill=\"green\">&quot;</tspan><tspan fill=\"green\">&quot;</tspan><tspan fill=\"blue\">/</tspan><tspan fill=\"green\">&quot;</tspan><tspan fill=\"green\">&quot;</tspan><tspan fill=\"green\">&quot;</tspan><tspan fill=\"green\">&quot;</tspan><tspan fill=\"blue\">/</tspan><tspan fill=\"green\">&quot;</tspan><tspan fill=\"green\">&quot;</tspan><tspan fill=\"green\">&quot;</tspan><tspan fill=\"green\">&quot;</tspan><tspan fill=\"blue\">/</tspan><tspan fill=\"green\">&quot;</tspan><tspan fill=\"green\">&quot;</tspan><tspan fill=\"green\">&quot;</tspan><tspan fill=\"green\">&quot;</tspan><tspan fill=\"blue\">/</tspan><tspan fill=\"green\">&quot;</tspan><tspan fill=\"green\">&quot;</tspan><tspan fill=\"green\">&quot;</tspan><tspan fill=\"green\">&quot;</tspan><tspan fill=\"blue\">/</tspan><tspan fill=\"green\">&quot;</tspan><tspan fill=\"green\">&quot;</tspan><tspan fill=\"green\">&quot;</tspan><tspan fill=\"green\">&quot;</tspan><tspan fill=\"blue\">/</tspan><tspan fill=\"green\">&quot;</tspan><tspan fill=\"green\">&quot;</tspan><tspan fill=\"green\">&quot;</tspan><tspan fill=\"green\">&quot;</tspan><tspan fill=\"blue\">/</tspan><tspan fill=\"blue\">/</tspan><tspan fill=\"green\">&quot;</tspan><tspan fill=\"green\">&quot;</tspan><tspan fill=\"green\">&quot;</tspan><tspan fill=\"green\">&quot;</tspan><tspan fill=\"green\">&quot;</tspan><tspan fill=\"green\">&quot;</tspan><tspan fill=\"blue\">/</tspan><tspan fill=\"green\">&quot;</tspan><tspan fill=\"green\">&quot;</tspan><tspan fill=\"green\">&quot;</tspan><tspan fill=\"green\">&quot;</tspan><tspan fill=\"green\">&quot;</tspan><tspan fill=\"green\">&quot;</tspan><tspan fill=\"blue\">/</tspan><tspan fill=\"green\">&quot;</tspan><tspan fill=\"green\">&quot;</tspan><tspan fill=\"green\">&quot;</tspan><tspan fill=\"green\">&quot;</tspan><tspan fill=\"green\">&quot;</tspan><tspan fill=\"green\">&quot;</tspan><tspan fill=\"blue\">/</tspan><tspan fill=\"green\">&quot;</tspan><tspan fill=\"green\">&quot;</tspan><tspan fill=\"green\">&quot;</tspan><tspan fill=\"green\">&quot;</tspan><tspan fill=\"green\">&quot;</tspan><tspan fill=\"green\">&quot;</tspan><tspan fill=\"blue\">/</tspan><tspan fill=\"green\">&quot;</tspan><tspan fill=\"green\">&quot;</tspan><tspan fill=\"green\">&quot;</tspan><tspan fill=\"green\">&quot;</tspan><tspan fill=\"green\">&quot;</tspan><tspan fill=\"green\">&quot;</tspan><tspan fill=\"blue\">/</tspan><tspan fill=\"green\">&quot;</tspan><tspan fill=\"green\">&quot;</tspan><tspan fill=\"green\">&quot;</tspan><tspan fill=\"green\">&quot;</tspan><tspan fill=\"green\">&quot;</tspan><tspan fill=\"green\">&quot;</tspan><tspan fill=\"blue\">/</tspan><tspan fill=\"green\">&quot;</tspan><tspan fill=\"green\">&quot;</tspan><tspan fill=\"green\">&quot;</tspan><tspan fill=\"green\">&quot;</tspan><tspan fill=\"green\">&quot;</tspan><tspan fill=\"green\">&quot;</tspan><tspan fill=\"blue\">/</tspan><tspan fill=\"blue\">/</tspan><tspan fill=\"green\">&quot;</tspan><tspan fill=\"green\">&quot;</tspan><tspan fill=\"green\">&quot;</tspan><tspan fill=\"green\">&quot;</tspan><tspan fill=\"green\">&quot;</tspan><tspan fill=\"green\">&quot;</tspan><tspan fill=\"blue\">/</tspan><tspan fill=\"green\">&quot;</tspan><tspan fill=\"green\">&quot;</tspan><tspan fill=\"green\">&quot;</tspan><tspan fill=\"green\">&quot;</tspan><tspan fill=\"green\">&quot;</tspan><tspan fill=\"green\">&quot;</tspan><tspan fill=\"green\">(</tspan><tspan fill=\"green\">)</tspan><tspan fill=\"blue\">/</tspan><tspan fill=\"green\">&quot;</tspan><tspan fill=\"green\">&quot;</tspan><tspan fill=\"green\">&quot;</tspan><tspan fill=\"green\">&quot;</tspan><tspan fill=\"green\">&quot;</tspan><tspan fill=\"green\">&quot;</tspan><tspan fill=\"green\">(</tspan><tspan fill=\"green\">)</tspan><tspan fill=\"blue\">/</tspan><tspan fill=\"green\">&quot;</tspan><tspan fill=\"green\">&quot;</tspan><tspan fill=\"green\">&quot;</tspan><tspan fill=\"green\">&quot;</tspan><tspan fill=\"green\">&quot;</tspan><tspan fill=\"green\">&quot;</tspan><tspan fill=\"blue\">/</tspan><tspan fill=\"green\">&quot;</tspan><tspan fill=\"green\">&quot;</tspan><tspan fill=\"green\">&quot;</tspan><tspan fill=\"green\">&quot;</tspan><tspan fill=\"green\">&quot;</tspan><tspan fill=\"green\">&quot;</tspan><tspan fill=\"blue\">/</tspan><tspan fill=\"green\">&quot;</tspan><tspan fill=\"green\">&quot;</tspan><tspan fill=\"green\">&quot;</tspan><tspan fill=\"green\">&quot;</tspan><tspan fill=\"green\">&quot;</tspan><tspan fill=\"green\">&quot;</tspan><tspan fill=\"red\">.</tspan><tspan fill=\"blue\">/</tspan><tspan fill=\"green\">&quot;</tspan><tspan fill=\"green\">&quot;</tspan><tspan fill=\"green\">&quot;</tspan><tspan fill=\"green\">&quot;</tspan><tspan fill=\"green\">&quot;</tspan><tspan fill=\"green\">&quot;</tspan><tspan fill=\"red\">.</tspan><tspan fill=\"blue\">/</tspan><tspan fill=\"blue\">/</tspan><tspan fill=\"blue\">/</tspan><tspan fill=\"green\">&quot;</tspan><tspan fill=\"green\">&quot;</tspan><tspan fill=\"green\">&quot;</tspan><tspan fill=\"green\">&quot;</tspan><tspan fill=\"green\">&quot;</tspan><tspan fill=\"green\">&quot;</tspan><tspan fill=\"blue\">-</tspan><tspan fill=\"blue\">/</tspan><tspan fill=\"blue\">-</tspan><tspan fill=\"green\">&quot;</tspan><tspan fill=\"blue\">-</tspan><tspan fill=\"green\">&quot;</tspan><tspan fill=\"green\">&quot;</tspan><tspan fill=\"green\">&quot;</tspan><tspan fill=\"blue\">*</tspan><tspan fill=\"blue\">/</tspan><tspan fill=\"blue\">/</tspan><tspan fill=\"green\">&quot;</tspan><tspan fill=\"green\">&quot;</tspan><tspan fill=\"green\">&quot;</tspan><tspan fill=\"green\">&quot;</tspan><tspan fill=\"green\">&quot;</tspan><tspan fill=\"green\">&quot;</tspan><tspan fill=\"blue\">/</tspan><tspan fill=\"green\">&quot;</tspan><tspan fill=\"green\">&quot;</tspan><tspan fill=\"green\">&quot;</tspan><tspan fill=\"green\">&quot;</tspan><tspan fill=\"green\">&quot;</tspan><tspan fill=\"green\">&quot;</tspan><tspan fill=\"blue\">/</tspan><tspan fill=\"green\">&quot;</tspan><tspan fill=\"green\">&quot;</tspan><tspan fill=\"green\">&quot;</tspan><tspan fill=\"green\">&quot;</tspan><tspan fill=\"green\">&quot;</tspan><tspan fill=\"green\">&quot;</tspan><tspan fill=\"blue\">/</tspan><tspan fill=\"green\">&quot;</tspan><tspan fill=\"green\">&quot;</tspan><tspan fill=\"green\">&quot;</tspan><tspan fill=\"green\">&quot;</tspan><tspan fill=\"green\">&quot;</tspan><tspan fill=\"green\">&quot;</tspan><tspan fill=\"blue\">/</tspan><tspan fill=\"green\">&quot;</tspan><tspan fill=\"green\">&quot;</tspan><tspan fill=\"green\">&quot;</tspan><tspan fill=\"green\">&quot;</tspan><tspan fill=\"green\">&quot;</tspan><tspan fill=\"green\">&quot;</tspan><tspan fill=\"blue\">/</tspan><tspan fill=\"green\">&quot;</tspan><tspan fill=\"green\">&quot;</tspan><tspan fill=\"green\">&quot;</tspan><tspan fill=\"green\">&quot;</tspan><tspan fill=\"green\">&quot;</tspan><tspan fill=\"green\">&quot;</tspan><tspan fill=\"blue\">/</tspan><tspan fill=\"blue\">/</tspan><tspan fill=\"green\">&quot;</tspan><tspan fill=\"green\">&quot;</tspan><tspan fill=\"green\">&quot;</tspan><tspan fill=\"green\">&quot;</tspan><tspan fill=\"green\">&quot;</tspan><tspan fill=\"green\">&quot;</tspan><tspan fill=\"blue\">-</tspan><tspan fill=\"blue\">-</tspan><tspan fill=\"blue\">/</tspan><tspan fill=\"green\">&quot;</tspan><tspan fill=\"green\">&quot;</tspan><tspan fill=\"green\">&quot;</tspan><tspan fill=\"green\">&quot;</tspan><tspan fill=\"green\">&quot;</tspan><tspan fill=\"green\">&quot;</tspan><tspan fill=\"green\">(</tspan><tspan fill=\"blue\">–</tspan><tspan fill=\"green\">)</tspan><tspan fill=\"blue\">/</tspan><tspan fill=\"green\">&quot;</tspan><tspan fill=\"green\">&quot;</tspan><tspan fill=\"green\">&quot;</tspan><tspan fill=\"green\">&quot;</tspan><tspan fill=\"green\">&quot;</tspan><tspan fill=\"green\">&quot;</tspan><tspan fill=\"green\">(</tspan><tspan fill=\"blue\">–</tspan><tspan fill=\"green\">)</tspan><tspan fill=\"blue\">/</tspan><tspan fill=\"green\">&quot;</tspan><tspan fill=\"green\">&quot;</tspan><tspan fill=\"green\">&quot;</tspan><tspan fill=\"green\">&quot;</tspan><tspan fill=\"green\">&quot;</tspan><tspan fill=\"green\">&quot;</tspan><tspan fill=\"green\">(</tspan><tspan fill=\"blue\">–</tspan><tspan fill=\"green\">)</tspan><tspan fill=\"blue\">/</tspan><tspan fill=\"green\">&quot;</tspan><tspan fill=\"green\">&quot;</tspan><tspan fill=\"green\">&quot;</tspan><tspan fill=\"green\">&quot;</tspan><tspan fill=\"green\">&quot;</tspan><tspan fill=\"green\">&quot;</tspan><tspan fill=\"green\">(</tspan><tspan fill=\"blue\">–</tspan><tspan fill=\"green\">)</tspan><tspan fill=\"blue\">/</tspan><tspan fill=\"green\">&quot;</tspan><tspan fill=\"green\">&quot;</tspan><tspan fill=\"green\">&quot;</tspan><tspan fill=\"green\">&quot;</tspan><tspan fill=\"green\">&quot;</tspan><tspan fill=\"green\">&quot;</tspan><tspan fill=\"blue\">&amp;</tspan><tspan fill=\"blue\">;</tspan><tspan fill=\"red\">.</tspan><tspan fill=\"blue\">/</tspan><tspan fill=\"green\">&quot;</tspan><tspan fill=\"green\">&quot;</tspan><tspan fill=\"green\">&quot;</tspan><tspan fill=\"green\">&quot;</tspan><tspan fill=\"green\">&quot;</tspan><tspan fill=\"green\">&quot;</tspan><tspan fill=\"red\">.</tspan><tspan fill=\"blue\">/</tspan><tspan fill=\"blue\">/</tspan><tspan fill=\"green\">&quot;</tspan><tspan fill=\"green\">&quot;</tspan><tspan fill=\"green\">&quot;</tspan><tspan fill=\"green\">&quot;</tspan><tspan fill=\"green\">&quot;</tspan><tspan fill=\"green\">&quot;</tspan><tspan fill=\"blue\">-</tspan><tspan fill=\"blue\">-</tspan><tspan fill=\"blue\">/</tspan><tspan fill=\"green\">&quot;</tspan><tspan fill=\"green\">&quot;</tspan><tspan fill=\"green\">&quot;</tspan><tspan fill=\"green\">&quot;</tspan><tspan fill=\"green\">&quot;</tspan><tspan fill=\"green\">&quot;</tspan><tspan fill=\"green\">(</tspan><tspan fill=\"blue\">–</tspan><tspan fill=\"green\">)</tspan><tspan fill=\"blue\">/</tspan><tspan fill=\"green\">&quot;</tspan><tspan fill=\"green\">&quot;</tspan><tspan fill=\"green\">&quot;</tspan><tspan fill=\"green\">&quot;</tspan><tspan fill=\"green\">&quot;</tspan><tspan fill=\"green\">&quot;</tspan><tspan fill=\"green\">(</tspan><tspan fill=\"blue\">–</tspan><tspan fill=\"green\">)</tspan><tspan fill=\"blue\">/</tspan><tspan fill=\"green\">&quot;</tspan><tspan fill=\"green\">&quot;</tspan><tspan fill=\"green\">&quot;</tspan><tspan fill=\"green\">&quot;</tspan><tspan fill=\"green\">&quot;</tspan><tspan fill=\"green\">&quot;</tspan><tspan fill=\"green\">(</tspan><tspan fill=\"blue\">–</tspan><tspan fill=\"green\">)</tspan><tspan fill=\"blue\">/</tspan><tspan fill=\"green\">&quot;</tspan><tspan fill=\"green\">&quot;</tspan><tspan fill=\"green\">&quot;</tspan><tspan fill=\"green\">&quot;</tspan><tspan fill=\"green\">&quot;</tspan><tspan fill=\"green\">&quot;</tspan><tspan fill=\"green\">(</tspan><tspan fill=\"blue\">–</tspan><tspan fill=\"green\">)</tspan><tspan fill=\"blue\">/</tspan><tspan fill=\"green\">&quot;</tspan><tspan fill=\"green\">&quot;</tspan><tspan fill=\"green\">&quot;</tspan><tspan fill=\"green\">&quot;</tspan><tspan fill=\"green\">&quot;</tspan><tspan fill=\"green\">&quot;</tspan><tspan fill=\"blue\">&amp;</tspan><tspan fill=\"blue\">;</tspan><tspan fill=\"red\">.</tspan><tspan fill=\"blue\">/</tspan><tspan fill=\"green\">&quot;</tspan><tspan fill=\"green\">&quot;</tspan><tspan fill=\"green\">&quot;</tspan><tspan fill=\"green\">&quot;</tspan><tspan fill=\"green\">&quot;</tspan><tspan fill=\"green\">&quot;</tspan><tspan fill=\"red\">.</tspan><tspan fill=\"blue\">/</tspan><tspan fill=\"blue\">/</tspan><tspan fill=\"green\">&quot;</tspan><tspan fill=\"green\">&quot;</tspan><tspan fill=\"green\">&quot;</tspan><tspan fill=\"green\">&quot;</tspan><tspan fill=\"green\">&quot;</tspan><tspan fill=\"green\">&quot;</tspan><tspan fill=\"blue\">-</tspan><tspan fill=\"blue\">/</tspan><tspan fill=\"green\">&quot;</tspan><tspan fill=\"green\">&quot;</tspan><tspan fill=\"green\">&quot;</tspan><tspan fill=\"green\">&quot;</tspan><tspan fill=\"green\">&quot;</tspan><tspan fill=\"green\">&quot;</tspan><tspan fill=\"green\">(</tspan><tspan fill=\"blue\">–</tspan><tspan fill=\"green\">)</tspan><tspan fill=\"blue\">/</tspan><tspan fill=\"green\">&quot;</tspan><tspan fill=\"green\">&quot;</tspan><tspan fill=\"green\">&quot;</tspan><tspan fill=\"green\">&quot;</tspan><tspan fill=\"green\">&quot;</tspan><tspan fill=\"green\">&quot;</tspan><tspan fill=\"green\">(</tspan><tspan fill=\"blue\">–</tspan><tspan fill=\"green\">)</tspan><tspan fill=\"blue\">/</tspan><tspan fill=\"green\">&quot;</tspan><tspan fill=\"green\">&quot;</tspan><tspan fill=\"green\">&quot;</tspan><tspan fill=\"green\">&quot;</tspan><tspan fill=\"green\">&quot;</tspan><tspan fill=\"green\">&quot;</tspan><tspan fill=\"green\">(</tspan><tspan fill=\"blue\">–</tspan><tspan fill=\"green\">)</tspan><tspan fill=\"blue\">/</tspan><tspan fill=\"green\">&quot;</tspan><tspan fill=\"green\">&quot;</tspan><tspan fill=\"green\">&quot;</tspan><tspan fill=\"green\">&quot;</tspan><tspan fill=\"green\">&quot;</tspan><tspan fill=\"green\">&quot;</tspan><tspan fill=\"green\">(</tspan><tspan fill=\"blue\">–</tspan><tspan fill=\"green\">)</tspan><tspan fill=\"blue\">/</tspan><tspan fill=\"green\">&quot;</tspan><tspan fill=\"green\">&quot;</tspan><tspan fill=\"green\">&quot;</tspan><tspan fill=\"green\">&quot;</tspan><tspan fill=\"green\">&quot;</tspan><tspan fill=\"green\">&quot;</tspan><tspan fill=\"red\">.</tspan><tspan fill=\"blue\">/</tspan><tspan fill=\"green\">&quot;</tspan><tspan fill=\"green\">&quot;</tspan><tspan fill=\"green\">&quot;</tspan><tspan fill=\"green\">&quot;</tspan><tspan fill=\"green\">&quot;</tspan><tspan fill=\"green\">&quot;</tspan><tspan fill=\"red\">.</tspan><tspan fill=\"blue\">/</tspan><tspan fill=\"blue\">/</tspan><tspan fill=\"green\">&quot;</tspan><tspan fill=\"green\">&quot;</tspan><tspan fill=\"green\">&quot;</tspan><tspan fill=\"green\">&quot;</tspan><tspan fill=\"green\">&quot;</tspan><tspan fill=\"green\">&quot;</tspan><tspan fill=\"blue\">-</tspan><tspan fill=\"red\">.</tspan><tspan fill=\"blue\">/</tspan><tspan fill=\"green\">&quot;</tspan><tspan fill=\"green\">&quot;</tspan><tspan fill=\"green\">&quot;</tspan><tspan fill=\"green\">&quot;</tspan><tspan fill=\"green\">&quot;</tspan><tspan fill=\"green\">&quot;</tspan><tspan fill=\"green\">(</tspan><tspan fill=\"blue\">–</tspan><tspan fill=\"green\">)</tspan><tspan fill=\"blue\">/</tspan><tspan fill=\"green\">&quot;</tspan><tspan fill=\"green\">&quot;</tspan><tspan fill=\"green\">&quot;</tspan><tspan fill=\"green\">&quot;</tspan><tspan fill=\"green\">&quot;</tspan><tspan fill=\"green\">&quot;</tspan><tspan fill=\"green\">(</tspan><tspan fill=\"blue\">–</tspan><tspan fill=\"green\">)</tspan><tspan fill=\"blue\">/</tspan><tspan fill=\"green\">&quot;</tspan><tspan fill=\"green\">&quot;</tspan><tspan fill=\"green\">&quot;</tspan><tspan fill=\"green\">&quot;</tspan><tspan fill=\"green\">&quot;</tspan><tspan fill=\"green\">&quot;</tspan><tspan fill=\"green\">(</tspan><tspan fill=\"blue\">–</tspan><tspan fill=\"green\">)</tspan><tspan fill=\"blue\">/</tspan><tspan fill=\"green\">&quot;</tspan><tspan fill=\"green\">&quot;</tspan><tspan fill=\"green\">&quot;</tspan><tspan fill=\"green\">&quot;</tspan><tspan fill=\"green\">&quot;</tspan><tspan fill=\"green\">&quot;</tspan><tspan fill=\"green\">(</tspan><tspan fill=\"blue\">–</tspan><tspan fill=\"green\">)</tspan><tspan fill=\"blue\">/</tspan><tspan fill=\"green\">&quot;</tspan><tspan fill=\"green\">&quot;</tspan><tspan fill=\"green\">&quot;</tspan><tspan fill=\"green\">&quot;</tspan><tspan fill=\"green\">&quot;</tspan><tspan fill=\"green\">&quot;</tspan><tspan fill=\"red\">.</tspan><tspan fill=\"blue\">/</tspan><tspan fill=\"green\">&quot;</tspan><tspan fill=\"green\">&quot;</tspan><tspan fill=\"green\">&quot;</tspan><tspan fill=\"green\">&quot;</tspan><tspan fill=\"green\">&quot;</tspan><tspan fill=\"green\">&quot;</tspan><tspan fill=\"red\">.</tspan><tspan fill=\"blue\">/</tspan><tspan fill=\"blue\">/</tspan><tspan fill=\"green\">&quot;</tspan><tspan fill=\"green\">&quot;</tspan><tspan fill=\"green\">&quot;</tspan><tspan fill=\"green\">&quot;</tspan><tspan fill=\"green\">&quot;</tspan><tspan fill=\"green\">&quot;</tspan><tspan fill=\"blue\">-</tspan><tspan fill=\"blue\">/</tspan><tspan fill=\"green\">&quot;</tspan><tspan fill=\"green\">&quot;</tspan><tspan fill=\"green\">&quot;</tspan><tspan fill=\"green\">&quot;</tspan><tspan fill=\"green\">&quot;</tspan><tspan fill=\"green\">&quot;</tspan><tspan fill=\"green\">(</tspan><tspan fill=\"red\">.</tspan><tspan fill=\"blue\">–</tspan><tspan fill=\"green\">)</tspan><tspan fill=\"blue\">/</tspan><tspan fill=\"green\">&quot;</tspan><tspan fill=\"green\">&quot;</tspan><tspan fill=\"green\">&quot;</tspan><tspan fill=\"green\">&quot;</tspan><tspan fill=\"green\">&quot;</tspan><tspan fill=\"green\">&quot;</tspan><tspan fill=\"green\">(</tspan><tspan fill=\"blue\">–</tspan><tspan fill=\"green\">)</tspan><tspan fill=\"blue\">/</tspan><tspan fill=\"green\">&quot;</tspan><tspan fill=\"green\">&quot;</tspan><tspan fill=\"green\">&quot;</tspan><tspan fill=\"green\">&quot;</tspan><tspan fill=\"green\">&quot;</tspan><tspan fill=\"green\">&quot;</tspan><tspan fill=\"green\">(</tspan><tspan fill=\"blue\">–</tspan><tspan fill=\"green\">)</tspan><tspan fill=\"blue\">/</tspan><tspan fill=\"green\">&quot;</tspan><tspan fill=\"green\">&quot;</tspan><tspan fill=\"green\">&quot;</tspan><tspan fill=\"green\">&quot;</tspan><tspan fill=\"green\">&quot;</tspan><tspan fill=\"green\">&quot;</tspan><tspan fill=\"green\">(</tspan><tspan fill=\"blue\">–</tspan><tspan fill=\"green\">)</tspan><tspan fill=\"blue\">/</tspan><tspan fill=\"green\">&quot;</tspan><tspan fill=\"green\">&quot;</tspan><tspan fill=\"green\">&quot;</tspan><tspan fill=\"green\">&quot;</tspan><tspan fill=\"green\">&quot;</tspan><tspan fill=\"green\">&quot;</tspan><tspan fill=\"blue\">&amp;</tspan><tspan fill=\"blue\">;</tspan><tspan fill=\"red\">.</tspan><tspan fill=\"blue\">/</tspan><tspan fill=\"green\">&quot;</tspan><tspan fill=\"green\">&quot;</tspan><tspan fill=\"green\">&quot;</tspan><tspan fill=\"green\">&quot;</tspan><tspan fill=\"green\">&quot;</tspan><tspan fill=\"green\">&quot;</tspan><tspan fill=\"red\">.</tspan><tspan fill=\"blue\">/</tspan><tspan fill=\"blue\">/</tspan><tspan fill=\"green\">&quot;</tspan><tspan fill=\"green\">&quot;</tspan><tspan fill=\"green\">&quot;</tspan><tspan fill=\"green\">&quot;</tspan><tspan fill=\"green\">&quot;</tspan><tspan fill=\"green\">&quot;</tspan><tspan fill=\"blue\">-</tspan><tspan fill=\"blue\">/</tspan><tspan fill=\"green\">&quot;</tspan><tspan fill=\"green\">&quot;</tspan><tspan fill=\"green\">&quot;</tspan><tspan fill=\"green\">&quot;</tspan><tspan fill=\"green\">&quot;</tspan><tspan fill=\"green\">&quot;</tspan><tspan fill=\"green\">(</tspan><tspan fill=\"blue\">–</tspan><tspan fill=\"green\">)</tspan><tspan fill=\"blue\">/</tspan><tspan fill=\"green\">&quot;</tspan><tspan fill=\"green\">&quot;</tspan><tspan fill=\"green\">&quot;</tspan><tspan fill=\"green\">&quot;</tspan><tspan fill=\"green\">&quot;</tspan><tspan fill=\"green\">&quot;</tspan><tspan fill=\"green\">(</tspan><tspan fill=\"blue\">–</tspan><tspan fill=\"green\">)</tspan><tspan fill=\"blue\">/</tspan><tspan fill=\"green\">&quot;</tspan><tspan fill=\"green\">&quot;</tspan><tspan fill=\"green\">&quot;</tspan><tspan fill=\"green\">&quot;</tspan><tspan fill=\"green\">&quot;</tspan><tspan fill=\"green\">&quot;</tspan><tspan fill=\"green\">(</tspan><tspan fill=\"blue\">–</tspan><tspan fill=\"green\">)</tspan><tspan fill=\"blue\">/</tspan><tspan fill=\"green\">&quot;</tspan><tspan fill=\"green\">&quot;</tspan><tspan fill=\"green\">&quot;</tspan><tspan fill=\"green\">&quot;</tspan><tspan fill=\"green\">&quot;</tspan><tspan fill=\"green\">&quot;</tspan><tspan fill=\"green\">(</tspan><tspan fill=\"blue\">–</tspan><tspan fill=\"green\">)</tspan><tspan fill=\"blue\">/</tspan><tspan fill=\"green\">&quot;</tspan><tspan fill=\"green\">&quot;</tspan><tspan fill=\"green\">&quot;</tspan><tspan fill=\"green\">&quot;</tspan><tspan fill=\"green\">&quot;</tspan><tspan fill=\"green\">&quot;</tspan><tspan fill=\"red\">.</tspan><tspan fill=\"blue\">/</tspan><tspan fill=\"green\">&quot;</tspan><tspan fill=\"green\">&quot;</tspan><tspan fill=\"green\">&quot;</tspan><tspan fill=\"green\">&quot;</tspan><tspan fill=\"green\">&quot;</tspan><tspan fill=\"green\">&quot;</tspan><tspan fill=\"red\">.</tspan><tspan fill=\"blue\">/</tspan><tspan fill=\"blue\">/</tspan><tspan fill=\"green\">&quot;</tspan><tspan fill=\"green\">&quot;</tspan><tspan fill=\"green\">&quot;</tspan><tspan fill=\"green\">&quot;</tspan><tspan fill=\"green\">&quot;</tspan><tspan fill=\"green\">&quot;</tspan><tspan fill=\"blue\">-</tspan><tspan fill=\"blue\">-</tspan><tspan fill=\"blue\">/</tspan><tspan fill=\"green\">&quot;</tspan><tspan fill=\"green\">&quot;</tspan><tspan fill=\"green\">&quot;</tspan><tspan fill=\"green\">&quot;</tspan><tspan fill=\"green\">&quot;</tspan><tspan fill=\"green\">&quot;</tspan><tspan fill=\"green\">(</tspan><tspan fill=\"blue\">–</tspan><tspan fill=\"green\">)</tspan><tspan fill=\"blue\">/</tspan><tspan fill=\"green\">&quot;</tspan><tspan fill=\"green\">&quot;</tspan><tspan fill=\"green\">&quot;</tspan><tspan fill=\"green\">&quot;</tspan><tspan fill=\"green\">&quot;</tspan><tspan fill=\"green\">&quot;</tspan><tspan fill=\"green\">(</tspan><tspan fill=\"blue\">–</tspan><tspan fill=\"green\">)</tspan><tspan fill=\"blue\">/</tspan><tspan fill=\"green\">&quot;</tspan><tspan fill=\"green\">&quot;</tspan><tspan fill=\"green\">&quot;</tspan><tspan fill=\"green\">&quot;</tspan><tspan fill=\"green\">&quot;</tspan><tspan fill=\"green\">&quot;</tspan><tspan fill=\"green\">(</tspan><tspan fill=\"blue\">–</tspan><tspan fill=\"green\">)</tspan><tspan fill=\"blue\">/</tspan><tspan fill=\"green\">&quot;</tspan><tspan fill=\"green\">&quot;</tspan><tspan fill=\"green\">&quot;</tspan><tspan fill=\"green\">&quot;</tspan><tspan fill=\"green\">&quot;</tspan><tspan fill=\"green\">&quot;</tspan><tspan fill=\"green\">(</tspan><tspan fill=\"blue\">–</tspan><tspan fill=\"green\">)</tspan><tspan fill=\"blue\">/</tspan><tspan fill=\"green\">&quot;</tspan><tspan fill=\"green\">&quot;</tspan><tspan fill=\"green\">&quot;</tspan><tspan fill=\"green\">&quot;</tspan><tspan fill=\"green\">&quot;</tspan><tspan fill=\"green\">&quot;</tspan><tspan fill=\"red\">.</tspan><tspan fill=\"blue\">/</tspan><tspan fill=\"green\">&quot;</tspan><tspan fill=\"green\">&quot;</tspan><tspan fill=\"green\">&quot;</tspan><tspan fill=\"green\">&quot;</tspan><tspan fill=\"green\">&quot;</tspan><tspan fill=\"green\">&quot;</tspan><tspan fill=\"red\">.</tspan><tspan fill=\"blue\">/</tspan><tspan fill=\"blue\">/</tspan><tspan fill=\"green\">&quot;</tspan><tspan fill=\"green\">&quot;</tspan><tspan fill=\"green\">&quot;</tspan><tspan fill=\"green\">&quot;</tspan><tspan fill=\"green\">&quot;</tspan><tspan fill=\"green\">&quot;</tspan><tspan fill=\"blue\">-</tspan><tspan fill=\"blue\">/</tspan><tspan fill=\"blue\">-</tspan><tspan fill=\"green\">&quot;</tspan><tspan fill=\"blue\">-</tspan><tspan fill=\"green\">&quot;</tspan><tspan fill=\"green\">&quot;</tspan><tspan fill=\"green\">&quot;</tspan><tspan fill=\"blue\">*</tspan><tspan fill=\"blue\">/</tspan><tspan fill=\"blue\">/</tspan><tspan fill=\"green\">&quot;</tspan><tspan fill=\"green\">&quot;</tspan><tspan fill=\"green\">&quot;</tspan><tspan fill=\"green\">&quot;</tspan><tspan fill=\"green\">&quot;</tspan><tspan fill=\"green\">&quot;</tspan><tspan fill=\"blue\">/</tspan><tspan fill=\"green\">&quot;</tspan><tspan fill=\"green\">&quot;</tspan><tspan fill=\"green\">&quot;</tspan><tspan fill=\"green\">&quot;</tspan><tspan fill=\"green\">&quot;</tspan><tspan fill=\"green\">&quot;</tspan><tspan fill=\"blue\">/</tspan><tspan fill=\"green\">&quot;</tspan><tspan fill=\"green\">&quot;</tspan><tspan fill=\"green\">&quot;</tspan><tspan fill=\"green\">&quot;</tspan><tspan fill=\"green\">&quot;</tspan><tspan fill=\"green\">&quot;</tspan><tspan fill=\"blue\">/</tspan><tspan fill=\"green\">&quot;</tspan><tspan fill=\"green\">&quot;</tspan><tspan fill=\"green\">&quot;</tspan><tspan fill=\"green\">&quot;</tspan><tspan fill=\"green\">&quot;</tspan><tspan fill=\"green\">&quot;</tspan><tspan fill=\"blue\">/</tspan><tspan fill=\"green\">&quot;</tspan><tspan fill=\"green\">&quot;</tspan><tspan fill=\"green\">&quot;</tspan><tspan fill=\"green\">&quot;</tspan><tspan fill=\"green\">&quot;</tspan><tspan fill=\"green\">&quot;</tspan><tspan fill=\"blue\">/</tspan><tspan fill=\"green\">&quot;</tspan><tspan fill=\"green\">&quot;</tspan><tspan fill=\"green\">&quot;</tspan><tspan fill=\"green\">&quot;</tspan><tspan fill=\"green\">&quot;</tspan><tspan fill=\"green\">&quot;</tspan><tspan fill=\"blue\">/</tspan><tspan fill=\"blue\">/</tspan><tspan fill=\"green\">&quot;</tspan><tspan fill=\"green\">&quot;</tspan><tspan fill=\"green\">&quot;</tspan><tspan fill=\"green\">&quot;</tspan><tspan fill=\"green\">&quot;</tspan><tspan fill=\"green\">&quot;</tspan><tspan fill=\"blue\">-</tspan><tspan fill=\"blue\">-</tspan><tspan fill=\"blue\">/</tspan><tspan fill=\"green\">&quot;</tspan><tspan fill=\"green\">&quot;</tspan><tspan fill=\"green\">&quot;</tspan><tspan fill=\"green\">&quot;</tspan><tspan fill=\"green\">&quot;</tspan><tspan fill=\"green\">&quot;</tspan><tspan fill=\"green\">(</tspan><tspan fill=\"blue\">–</tspan><tspan fill=\"green\">)</tspan><tspan fill=\"blue\">/</tspan><tspan fill=\"green\">&quot;</tspan><tspan fill=\"green\">&quot;</tspan><tspan fill=\"green\">&quot;</tspan><tspan fill=\"green\">&quot;</tspan><tspan fill=\"green\">&quot;</tspan><tspan fill=\"green\">&quot;</tspan><tspan fill=\"green\">(</tspan><tspan fill=\"blue\">–</tspan><tspan fill=\"green\">)</tspan><tspan fill=\"blue\">/</tspan><tspan fill=\"green\">&quot;</tspan><tspan fill=\"green\">&quot;</tspan><tspan fill=\"green\">&quot;</tspan><tspan fill=\"green\">&quot;</tspan><tspan fill=\"green\">&quot;</tspan><tspan fill=\"green\">&quot;</tspan><tspan fill=\"green\">(</tspan><tspan fill=\"blue\">–</tspan><tspan fill=\"green\">)</tspan><tspan fill=\"blue\">/</tspan><tspan fill=\"green\">&quot;</tspan><tspan fill=\"green\">&quot;</tspan><tspan fill=\"green\">&quot;</tspan><tspan fill=\"green\">&quot;</tspan><tspan fill=\"green\">&quot;</tspan><tspan fill=\"green\">&quot;</tspan><tspan fill=\"green\">(</tspan><tspan fill=\"blue\">–</tspan><tspan fill=\"green\">)</tspan><tspan fill=\"blue\">/</tspan><tspan fill=\"green\">&quot;</tspan><tspan fill=\"green\">&quot;</tspan><tspan fill=\"green\">&quot;</tspan><tspan fill=\"green\">&quot;</tspan><tspan fill=\"green\">&quot;</tspan><tspan fill=\"green\">&quot;</tspan><tspan fill=\"blue\">&amp;</tspan><tspan fill=\"blue\">;</tspan><tspan fill=\"red\">.</tspan><tspan fill=\"blue\">/</tspan><tspan fill=\"green\">&quot;</tspan><tspan fill=\"green\">&quot;</tspan><tspan fill=\"green\">&quot;</tspan><tspan fill=\"green\">&quot;</tspan><tspan fill=\"green\">&quot;</tspan><tspan fill=\"green\">&quot;</tspan><tspan fill=\"red\">.</tspan><tspan fill=\"blue\">/</tspan><tspan fill=\"blue\">/</tspan><tspan fill=\"green\">&quot;</tspan><tspan fill=\"green\">&quot;</tspan><tspan fill=\"green\">&quot;</tspan><tspan fill=\"green\">&quot;</tspan><tspan fill=\"green\">&quot;</tspan><tspan fill=\"green\">&quot;</tspan><tspan fill=\"blue\">-</tspan><tspan fill=\"blue\">-</tspan><tspan fill=\"blue\">/</tspan><tspan fill=\"green\">&quot;</tspan><tspan fill=\"green\">&quot;</tspan><tspan fill=\"green\">&quot;</tspan><tspan fill=\"green\">&quot;</tspan><tspan fill=\"green\">&quot;</tspan><tspan fill=\"green\">&quot;</tspan><tspan fill=\"green\">(</tspan><tspan fill=\"blue\">–</tspan><tspan fill=\"green\">)</tspan><tspan fill=\"blue\">/</tspan><tspan fill=\"green\">&quot;</tspan><tspan fill=\"green\">&quot;</tspan><tspan fill=\"green\">&quot;</tspan><tspan fill=\"green\">&quot;</tspan><tspan fill=\"green\">&quot;</tspan><tspan fill=\"green\">&quot;</tspan><tspan fill=\"green\">(</tspan><tspan fill=\"blue\">–</tspan><tspan fill=\"green\">)</tspan><tspan fill=\"blue\">/</tspan><tspan fill=\"green\">&quot;</tspan><tspan fill=\"green\">&quot;</tspan><tspan fill=\"green\">&quot;</tspan><tspan fill=\"green\">&quot;</tspan><tspan fill=\"green\">&quot;</tspan><tspan fill=\"green\">&quot;</tspan><tspan fill=\"green\">(</tspan><tspan fill=\"blue\">–</tspan><tspan fill=\"green\">)</tspan><tspan fill=\"blue\">/</tspan><tspan fill=\"green\">&quot;</tspan><tspan fill=\"green\">&quot;</tspan><tspan fill=\"green\">&quot;</tspan><tspan fill=\"green\">&quot;</tspan><tspan fill=\"green\">&quot;</tspan><tspan fill=\"green\">&quot;</tspan><tspan fill=\"green\">(</tspan><tspan fill=\"blue\">–</tspan><tspan fill=\"green\">)</tspan><tspan fill=\"blue\">/</tspan><tspan fill=\"green\">&quot;</tspan><tspan fill=\"green\">&quot;</tspan><tspan fill=\"green\">&quot;</tspan><tspan fill=\"green\">&quot;</tspan><tspan fill=\"green\">&quot;</tspan><tspan fill=\"green\">&quot;</tspan><tspan fill=\"blue\">&amp;</tspan><tspan fill=\"blue\">;</tspan><tspan fill=\"red\">.</tspan><tspan fill=\"blue\">/</tspan><tspan fill=\"green\">&quot;</tspan><tspan fill=\"green\">&quot;</tspan><tspan fill=\"green\">&quot;</tspan><tspan fill=\"green\">&quot;</tspan><tspan fill=\"green\">&quot;</tspan><tspan fill=\"green\">&quot;</tspan><tspan fill=\"red\">.</tspan><tspan fill=\"blue\">/</tspan><tspan fill=\"blue\">/</tspan><tspan fill=\"green\">&quot;</tspan><tspan fill=\"green\">&quot;</tspan><tspan fill=\"green\">&quot;</tspan><tspan fill=\"green\">&quot;</tspan><tspan fill=\"green\">&quot;</tspan><tspan fill=\"green\">&quot;</tspan><tspan fill=\"blue\">-</tspan><tspan fill=\"blue\">/</tspan><tspan fill=\"green\">&quot;</tspan><tspan fill=\"green\">&quot;</tspan><tspan fill=\"green\">&quot;</tspan><tspan fill=\"green\">&quot;</tspan><tspan fill=\"green\">&quot;</tspan><tspan fill=\"green\">&quot;</tspan><tspan fill=\"green\">(</tspan><tspan fill=\"blue\">–</tspan><tspan fill=\"green\">)</tspan><tspan fill=\"blue\">/</tspan><tspan fill=\"green\">&quot;</tspan><tspan fill=\"green\">&quot;</tspan><tspan fill=\"green\">&quot;</tspan><tspan fill=\"green\">&quot;</tspan><tspan fill=\"green\">&quot;</tspan><tspan fill=\"green\">&quot;</tspan><tspan fill=\"green\">(</tspan><tspan fill=\"blue\">–</tspan><tspan fill=\"green\">)</tspan><tspan fill=\"blue\">/</tspan><tspan fill=\"green\">&quot;</tspan><tspan fill=\"green\">&quot;</tspan><tspan fill=\"green\">&quot;</tspan><tspan fill=\"green\">&quot;</tspan><tspan fill=\"green\">&quot;</tspan><tspan fill=\"green\">&quot;</tspan><tspan fill=\"green\">(</tspan><tspan fill=\"blue\">–</tspan><tspan fill=\"green\">)</tspan><tspan fill=\"blue\">/</tspan><tspan fill=\"green\">&quot;</tspan><tspan fill=\"green\">&quot;</tspan><tspan fill=\"green\">&quot;</tspan><tspan fill=\"green\">&quot;</tspan><tspan fill=\"green\">&quot;</tspan><tspan fill=\"green\">&quot;</tspan><tspan fill=\"green\">(</tspan><tspan fill=\"blue\">–</tspan><tspan fill=\"green\">)</tspan><tspan fill=\"blue\">/</tspan><tspan fill=\"green\">&quot;</tspan><tspan fill=\"green\">&quot;</tspan><tspan fill=\"green\">&quot;</tspan><tspan fill=\"green\">&quot;</tspan><tspan fill=\"green\">&quot;</tspan><tspan fill=\"green\">&quot;</tspan><tspan fill=\"red\">.</tspan><tspan fill=\"blue\">/</tspan><tspan fill=\"green\">&quot;</tspan><tspan fill=\"green\">&quot;</tspan><tspan fill=\"green\">&quot;</tspan><tspan fill=\"green\">&quot;</tspan><tspan fill=\"green\">&quot;</tspan><tspan fill=\"green\">&quot;</tspan><tspan fill=\"red\">.</tspan><tspan fill=\"blue\">/</tspan><tspan fill=\"blue\">/</tspan><tspan fill=\"green\">&quot;</tspan><tspan fill=\"green\">&quot;</tspan><tspan fill=\"green\">&quot;</tspan><tspan fill=\"green\">&quot;</tspan><tspan fill=\"green\">&quot;</tspan><tspan fill=\"green\">&quot;</tspan><tspan fill=\"blue\">-</tspan><tspan fill=\"red\">.</tspan><tspan fill=\"blue\">/</tspan><tspan fill=\"green\">&quot;</tspan><tspan fill=\"green\">&quot;</tspan><tspan fill=\"green\">&quot;</tspan><tspan fill=\"green\">&quot;</tspan><tspan fill=\"green\">&quot;</tspan><tspan fill=\"green\">&quot;</tspan><tspan fill=\"green\">(</tspan><tspan fill=\"blue\">–</tspan><tspan fill=\"green\">)</tspan><tspan fill=\"blue\">/</tspan><tspan fill=\"green\">&quot;</tspan><tspan fill=\"green\">&quot;</tspan><tspan fill=\"green\">&quot;</tspan><tspan fill=\"green\">&quot;</tspan><tspan fill=\"green\">&quot;</tspan><tspan fill=\"green\">&quot;</tspan><tspan fill=\"green\">(</tspan><tspan fill=\"red\">.</tspan><tspan fill=\"blue\">–</tspan><tspan fill=\"green\">)</tspan><tspan fill=\"blue\">/</tspan><tspan fill=\"green\">&quot;</tspan><tspan fill=\"green\">&quot;</tspan><tspan fill=\"green\">&quot;</tspan><tspan fill=\"green\">&quot;</tspan><tspan fill=\"green\">&quot;</tspan><tspan fill=\"green\">&quot;</tspan><tspan fill=\"green\">(</tspan><tspan fill=\"blue\">–</tspan><tspan fill=\"green\">)</tspan><tspan fill=\"blue\">/</tspan><tspan fill=\"green\">&quot;</tspan><tspan fill=\"green\">&quot;</tspan><tspan fill=\"green\">&quot;</tspan><tspan fill=\"green\">&quot;</tspan><tspan fill=\"green\">&quot;</tspan><tspan fill=\"green\">&quot;</tspan><tspan fill=\"green\">(</tspan><tspan fill=\"blue\">–</tspan><tspan fill=\"green\">)</tspan><tspan fill=\"blue\">/</tspan><tspan fill=\"green\">&quot;</tspan><tspan fill=\"green\">&quot;</tspan><tspan fill=\"green\">&quot;</tspan><tspan fill=\"green\">&quot;</tspan><tspan fill=\"green\">&quot;</tspan><tspan fill=\"green\">&quot;</tspan><tspan fill=\"blue\">&amp;</tspan><tspan fill=\"blue\">;</tspan><tspan fill=\"red\">.</tspan><tspan fill=\"blue\">/</tspan><tspan fill=\"green\">&quot;</tspan><tspan fill=\"green\">&quot;</tspan><tspan fill=\"green\">&quot;</tspan><tspan fill=\"green\">&quot;</tspan><tspan fill=\"green\">&quot;</tspan><tspan fill=\"green\">&quot;</tspan><tspan fill=\"red\">.</tspan><tspan fill=\"blue\">/</tspan><tspan fill=\"blue\">/</tspan><tspan fill=\"green\">&quot;</tspan><tspan fill=\"green\">&quot;</tspan><tspan fill=\"green\">&quot;</tspan><tspan fill=\"green\">&quot;</tspan><tspan fill=\"green\">&quot;</tspan><tspan fill=\"green\">&quot;</tspan><tspan fill=\"blue\">-</tspan><tspan fill=\"blue\">/</tspan><tspan fill=\"green\">&quot;</tspan><tspan fill=\"green\">&quot;</tspan><tspan fill=\"green\">&quot;</tspan><tspan fill=\"green\">&quot;</tspan><tspan fill=\"green\">&quot;</tspan><tspan fill=\"green\">&quot;</tspan><tspan fill=\"green\">(</tspan><tspan fill=\"blue\">–</tspan><tspan fill=\"green\">)</tspan><tspan fill=\"blue\">/</tspan><tspan fill=\"green\">&quot;</tspan><tspan fill=\"green\">&quot;</tspan><tspan fill=\"green\">&quot;</tspan><tspan fill=\"green\">&quot;</tspan><tspan fill=\"green\">&quot;</tspan><tspan fill=\"green\">&quot;</tspan><tspan fill=\"green\">(</tspan><tspan fill=\"blue\">–</tspan><tspan fill=\"green\">)</tspan><tspan fill=\"blue\">/</tspan><tspan fill=\"green\">&quot;</tspan><tspan fill=\"green\">&quot;</tspan><tspan fill=\"green\">&quot;</tspan><tspan fill=\"green\">&quot;</tspan><tspan fill=\"green\">&quot;</tspan><tspan fill=\"green\">&quot;</tspan><tspan fill=\"green\">(</tspan><tspan fill=\"blue\">–</tspan><tspan fill=\"green\">)</tspan><tspan fill=\"blue\">/</tspan><tspan fill=\"green\">&quot;</tspan><tspan fill=\"green\">&quot;</tspan><tspan fill=\"green\">&quot;</tspan><tspan fill=\"green\">&quot;</tspan><tspan fill=\"green\">&quot;</tspan><tspan fill=\"green\">&quot;</tspan><tspan fill=\"green\">(</tspan><tspan fill=\"blue\">–</tspan><tspan fill=\"green\">)</tspan><tspan fill=\"blue\">/</tspan><tspan fill=\"green\">&quot;</tspan><tspan fill=\"green\">&quot;</tspan><tspan fill=\"green\">&quot;</tspan><tspan fill=\"green\">&quot;</tspan><tspan fill=\"green\">&quot;</tspan><tspan fill=\"green\">&quot;</tspan><tspan fill=\"red\">.</tspan><tspan fill=\"blue\">/</tspan><tspan fill=\"green\">&quot;</tspan><tspan fill=\"green\">&quot;</tspan><tspan fill=\"green\">&quot;</tspan><tspan fill=\"green\">&quot;</tspan><tspan fill=\"green\">&quot;</tspan><tspan fill=\"green\">&quot;</tspan><tspan fill=\"blue\">&amp;</tspan><tspan fill=\"blue\">;</tspan><tspan fill=\"red\">.</tspan><tspan fill=\"blue\">/</tspan><tspan fill=\"blue\">/</tspan><tspan fill=\"green\">&quot;</tspan><tspan fill=\"green\">&quot;</tspan><tspan fill=\"green\">&quot;</tspan><tspan fill=\"green\">&quot;</tspan><tspan fill=\"green\">&quot;</tspan><tspan fill=\"green\">&quot;</tspan><tspan fill=\"blue\">-</tspan><tspan fill=\"blue\">/</tspan><tspan fill=\"green\">&quot;</tspan><tspan fill=\"green\">&quot;</tspan><tspan fill=\"green\">&quot;</tspan><tspan fill=\"green\">&quot;</tspan><tspan fill=\"green\">&quot;</tspan><tspan fill=\"green\">&quot;</tspan><tspan fill=\"green\">(</tspan><tspan fill=\"blue\">–</tspan><tspan fill=\"green\">)</tspan><tspan fill=\"blue\">/</tspan><tspan fill=\"green\">&quot;</tspan><tspan fill=\"green\">&quot;</tspan><tspan fill=\"green\">&quot;</tspan><tspan fill=\"green\">&quot;</tspan><tspan fill=\"green\">&quot;</tspan><tspan fill=\"green\">&quot;</tspan><tspan fill=\"green\">(</tspan><tspan fill=\"blue\">–</tspan><tspan fill=\"green\">)</tspan><tspan fill=\"blue\">/</tspan><tspan fill=\"green\">&quot;</tspan><tspan fill=\"green\">&quot;</tspan><tspan fill=\"green\">&quot;</tspan><tspan fill=\"green\">&quot;</tspan><tspan fill=\"green\">&quot;</tspan><tspan fill=\"green\">&quot;</tspan><tspan fill=\"green\">(</tspan><tspan fill=\"blue\">–</tspan><tspan fill=\"green\">)</tspan><tspan fill=\"blue\">/</tspan><tspan fill=\"green\">&quot;</tspan><tspan fill=\"green\">&quot;</tspan><tspan fill=\"green\">&quot;</tspan><tspan fill=\"green\">&quot;</tspan><tspan fill=\"green\">&quot;</tspan><tspan fill=\"green\">&quot;</tspan><tspan fill=\"green\">(</tspan><tspan fill=\"blue\">–</tspan><tspan fill=\"green\">)</tspan><tspan fill=\"blue\">/</tspan><tspan fill=\"green\">&quot;</tspan><tspan fill=\"green\">&quot;</tspan><tspan fill=\"green\">&quot;</tspan><tspan fill=\"green\">&quot;</tspan><tspan fill=\"green\">&quot;</tspan><tspan fill=\"green\">&quot;</tspan><tspan fill=\"blue\">&amp;</tspan><tspan fill=\"blue\">;</tspan><tspan fill=\"red\">.</tspan><tspan fill=\"blue\">/</tspan><tspan fill=\"green\">&quot;</tspan><tspan fill=\"green\">&quot;</tspan><tspan fill=\"green\">&quot;</tspan><tspan fill=\"green\">&quot;</tspan><tspan fill=\"green\">&quot;</tspan><tspan fill=\"green\">&quot;</tspan><tspan fill=\"red\">.</tspan><tspan fill=\"blue\">/</tspan><tspan fill=\"blue\">/</tspan><tspan fill=\"green\">&quot;</tspan><tspan fill=\"green\">&quot;</tspan><tspan fill=\"green\">&quot;</tspan><tspan fill=\"green\">&quot;</tspan><tspan fill=\"green\">&quot;</tspan><tspan fill=\"green\">&quot;</tspan><tspan fill=\"blue\">-</tspan><tspan fill=\"blue\">-</tspan><tspan fill=\"blue\">/</tspan><tspan fill=\"green\">&quot;</tspan><tspan fill=\"green\">&quot;</tspan><tspan fill=\"green\">&quot;</tspan><tspan fill=\"green\">&quot;</tspan><tspan fill=\"green\">&quot;</tspan><tspan fill=\"green\">&quot;</tspan><tspan fill=\"green\">(</tspan><tspan fill=\"blue\">–</tspan><tspan fill=\"green\">)</tspan><tspan fill=\"blue\">/</tspan><tspan fill=\"green\">&quot;</tspan><tspan fill=\"green\">&quot;</tspan><tspan fill=\"green\">&quot;</tspan><tspan fill=\"green\">&quot;</tspan><tspan fill=\"green\">&quot;</tspan><tspan fill=\"green\">&quot;</tspan><tspan fill=\"green\">(</tspan><tspan fill=\"blue\">–</tspan><tspan fill=\"green\">)</tspan><tspan fill=\"blue\">/</tspan><tspan fill=\"green\">&quot;</tspan><tspan fill=\"green\">&quot;</tspan><tspan fill=\"green\">&quot;</tspan><tspan fill=\"green\">&quot;</tspan><tspan fill=\"green\">&quot;</tspan><tspan fill=\"green\">&quot;</tspan><tspan fill=\"green\">(</tspan><tspan fill=\"blue\">–</tspan><tspan fill=\"green\">)</tspan><tspan fill=\"blue\">/</tspan><tspan fill=\"green\">&quot;</tspan><tspan fill=\"green\">&quot;</tspan><tspan fill=\"green\">&quot;</tspan><tspan fill=\"green\">&quot;</tspan><tspan fill=\"green\">&quot;</tspan><tspan fill=\"green\">&quot;</tspan><tspan fill=\"green\">(</tspan><tspan fill=\"blue\">–</tspan><tspan fill=\"green\">)</tspan><tspan fill=\"blue\">/</tspan><tspan fill=\"green\">&quot;</tspan><tspan fill=\"green\">&quot;</tspan><tspan fill=\"green\">&quot;</tspan><tspan fill=\"green\">&quot;</tspan><tspan fill=\"green\">&quot;</tspan><tspan fill=\"green\">&quot;</tspan><tspan fill=\"blue\">&amp;</tspan><tspan fill=\"blue\">;</tspan><tspan fill=\"red\">.</tspan><tspan fill=\"blue\">/</tspan><tspan fill=\"green\">&quot;</tspan><tspan fill=\"green\">&quot;</tspan><tspan fill=\"green\">&quot;</tspan><tspan fill=\"green\">&quot;</tspan><tspan fill=\"green\">&quot;</tspan><tspan fill=\"green\">&quot;</tspan><tspan fill=\"red\">.</tspan><tspan fill=\"blue\">/</tspan><tspan fill=\"blue\">/</tspan><tspan fill=\"blue\">/</tspan><tspan fill=\"blue\">/</tspan><tspan fill=\"blue\">/</tspan><tspan fill=\"blue\">-</tspan><tspan fill=\"blue\">-</tspan><tspan fill=\"green\">&quot;</tspan><tspan fill=\"green\">&quot;</tspan><tspan fill=\"red\">.</tspan><tspan fill=\"blue\">/</tspan><tspan fill=\"blue\">/</tspan><tspan fill=\"green\">&quot;</tspan><tspan fill=\"green\">&quot;</tspan><tspan fill=\"blue\">*</tspan><tspan fill=\"blue\">/</tspan><tspan fill=\"blue\">-</tspan><tspan fill=\"green\">&quot;</tspan><tspan fill=\"green\">&quot;</tspan><tspan fill=\"green\">&quot;</tspan><tspan fill=\"green\">&quot;</tspan><tspan fill=\"blue\">/</tspan><tspan fill=\"blue\">;</tspan><tspan fill=\"blue\">:</tspan><tspan fill=\"red\">.</tspan><tspan fill=\"blue\">/</tspan><tspan fill=\"blue\">/</tspan><tspan fill=\"blue\">/</tspan><tspan fill=\"blue\">-</tspan><tspan fill=\"blue\">-</tspan><tspan fill=\"blue\">/</tspan><tspan fill=\"blue\">-</tspan><tspan fill=\"blue\">/</tspan><tspan fill=\"blue\">/</tspan><tspan fill=\"green\">&quot;</tspan><tspan fill=\"green\">&quot;</tspan><tspan fill=\"blue\">/</tspan><tspan fill=\"blue\">-</tspan><tspan fill=\"blue\">-</tspan><tspan fill=\"red\">.</tspan><tspan fill=\"blue\">/</tspan><tspan fill=\"red\">.</tspan><tspan fill=\"blue\">-</tspan><tspan fill=\"green\">(</tspan><tspan fill=\"blue\">-</tspan><tspan fill=\"blue\">-</tspan><tspan fill=\"green\">)</tspan><tspan fill=\"blue\">,</tspan><tspan fill=\"green\">(</tspan><tspan fill=\"red\">.</tspan><tspan fill=\"blue\">,</tspan><tspan fill=\"blue\">-</tspan><tspan fill=\"blue\">-</tspan><tspan fill=\"blue\">;</tspan><tspan fill=\"blue\">-</tspan><tspan fill=\"green\">)</tspan><tspan fill=\"blue\">,</tspan><tspan fill=\"red\">.</tspan><tspan fill=\"blue\">,</tspan><tspan fill=\"blue\">-</tspan><tspan fill=\"green\">&quot;</tspan><tspan fill=\"green\">&quot;</tspan><tspan fill=\"green\">&quot;</tspan><tspan fill=\"red\">.</tspan><tspan fill=\"blue\">-</tspan><tspan fill=\"green\">&quot;</tspan><tspan fill=\"green\">[</tspan><tspan fill=\"green\">]</tspan><tspan fill=\"blue\">/</tspan><tspan fill=\"red\">.</tspan><tspan fill=\"blue\">,</tspan><tspan fill=\"blue\">-</tspan><tspan fill=\"blue\">-</tspan><tspan fill=\"green\">&quot;</tspan><tspan fill=\"green\">&quot;</tspan><tspan fill=\"green\">&quot;</tspan><tspan fill=\"red\">.</tspan><tspan fill=\"blue\">-</tspan><tspan fill=\"green\">&quot;</tspan><tspan fill=\"green\">[</tspan><tspan fill=\"green\">]</tspan><tspan fill=\"blue\">/</tspan><tspan fill=\"red\">.</tspan><tspan fill=\"blue\">,</tspan><tspan fill=\"blue\">-</tspan><tspan fill=\"red\">.</tspan><tspan fill=\"blue\">/</tspan><tspan fill=\"red\">.</tspan><tspan fill=\"blue\">/</tspan><tspan fill=\"blue\">-</tspan><tspan fill=\"blue\">,</tspan><tspan fill=\"blue\">-</tspan><tspan fill=\"green\">(</tspan><tspan fill=\"blue\">,</tspan><tspan fill=\"blue\">,</tspan><tspan fill=\"green\">)</tspan><tspan fill=\"blue\">,</tspan><tspan fill=\"red\">.</tspan><tspan fill=\"red\">.</tspan><tspan fill=\"red\">.</tspan><tspan fill=\"blue\">-</tspan><tspan fill=\"blue\">-</tspan><tspan fill=\"blue\">-</tspan><tspan fill=\"green\">&quot;</tspan><tspan fill=\"green\">&quot;</tspan><tspan fill=\"green\">&quot;</tspan><tspan fill=\"red\">.</tspan><tspan fill=\"blue\">-</tspan><tspan fill=\"green\">&quot;</tspan><tspan fill=\"green\">[</tspan><tspan fill=\"green\">]</tspan><tspan fill=\"blue\">/</tspan><tspan fill=\"red\">.</tspan><tspan fill=\"red\">.</tspan><tspan fill=\"blue\">,</tspan><tspan fill=\"blue\">-</tspan><tspan fill=\"green\">&quot;</tspan><tspan fill=\"green\">&quot;</tspan><tspan fill=\"green\">&quot;</tspan><tspan fill=\"red\">.</tspan><tspan fill=\"blue\">-</tspan><tspan fill=\"green\">&quot;</tspan><tspan fill=\"green\">[</tspan><tspan fill=\"green\">]</tspan><tspan fill=\"blue\">/</tspan><tspan fill=\"red\">.</tspan><tspan fill=\"red\">.</tspan><tspan fill=\"blue\">,</tspan><tspan fill=\"red\">.</tspan><tspan fill=\"blue\">/</tspan><tspan fill=\"blue\">,</tspan><tspan fill=\"red\">.</tspan><tspan fill=\"blue\">,</tspan><tspan fill=\"blue\">-</tspan><tspan fill=\"green\">&quot;</tspan><tspan fill=\"green\">&quot;</tspan><tspan fill=\"green\">&quot;</tspan><tspan fill=\"red\">.</tspan><tspan fill=\"blue\">-</tspan><tspan fill=\"green\">&quot;</tspan><tspan fill=\"green\">[</tspan><tspan fill=\"green\">]</tspan><tspan fill=\"blue\">/</tspan><tspan fill=\"red\">.</tspan><tspan fill=\"blue\">:</tspan><tspan fill=\"red\">.</tspan><tspan fill=\"blue\">,</tspan><tspan fill=\"red\">.</tspan><tspan fill=\"blue\">/</tspan><tspan fill=\"blue\">-</tspan><tspan fill=\"green\">&quot;</tspan><tspan fill=\"green\">&quot;</tspan><tspan fill=\"green\">&quot;</tspan><tspan fill=\"red\">.</tspan><tspan fill=\"blue\">-</tspan><tspan fill=\"green\">&quot;</tspan><tspan fill=\"green\">[</tspan><tspan fill=\"green\">]</tspan><tspan fill=\"blue\">/</tspan><tspan fill=\"red\">.</tspan><tspan fill=\"red\">.</tspan><tspan fill=\"green\">“</tspan><tspan fill=\"green\">”</tspan><tspan fill=\"green\">“</tspan><tspan fill=\"green\">”</tspan><tspan fill=\"blue\">,</tspan><tspan fill=\"blue\">-</tspan><tspan fill=\"green\">&quot;</tspan><tspan fill=\"green\">&quot;</tspan><tspan fill=\"green\">&quot;</tspan><tspan fill=\"red\">.</tspan><tspan fill=\"blue\">-</tspan><tspan fill=\"green\">&quot;</tspan><tspan fill=\"green\">[</tspan><tspan fill=\"green\">]</tspan><tspan fill=\"blue\">/</tspan><tspan fill=\"red\">.</tspan><tspan fill=\"blue\">-</tspan><tspan fill=\"blue\">-</tspan><tspan fill=\"red\">.</tspan><tspan fill=\"blue\">,</tspan><tspan fill=\"blue\">,</tspan><tspan fill=\"blue\">,</tspan><tspan fill=\"blue\">%</tspan><tspan fill=\"blue\">%</tspan><tspan fill=\"blue\">-</tspan><tspan fill=\"red\">.</tspan><tspan fill=\"blue\">-</tspan><tspan fill=\"blue\">,</tspan><tspan fill=\"red\">.</tspan><tspan fill=\"blue\">-</tspan><tspan fill=\"red\">.</tspan><tspan fill=\"blue\">-</tspan><tspan fill=\"blue\">-</tspan><tspan fill=\"red\">.</tspan><tspan fill=\"blue\">,</tspan><tspan fill=\"blue\">,</tspan><tspan fill=\"blue\">-</tspan><tspan fill=\"blue\">-</tspan><tspan fill=\"blue\">-</tspan><tspan fill=\"blue\">,</tspan><tspan fill=\"blue\">-</tspan><tspan fill=\"blue\">,</tspan><tspan fill=\"blue\">-</tspan><tspan fill=\"blue\">-</tspan><tspan fill=\"green\">&quot;</tspan><tspan fill=\"green\">&quot;</tspan><tspan fill=\"green\">&quot;</tspan><tspan fill=\"red\">.</tspan><tspan fill=\"blue\">-</tspan><tspan fill=\"green\">&quot;</tspan><tspan fill=\"green\">[</tspan><tspan fill=\"green\">]</tspan><tspan fill=\"blue\">/</tspan><tspan fill=\"blue\">,</tspan><tspan fill=\"blue\">-</tspan><tspan fill=\"green\">&quot;</tspan><tspan fill=\"green\">&quot;</tspan><tspan fill=\"green\">&quot;</tspan><tspan fill=\"red\">.</tspan><tspan fill=\"blue\">-</tspan><tspan fill=\"green\">&quot;</tspan><tspan fill=\"green\">[</tspan><tspan fill=\"green\">]</tspan><tspan fill=\"blue\">/</tspan><tspan fill=\"red\">.</tspan><tspan fill=\"blue\">-</tspan><tspan fill=\"red\">.</tspan><tspan fill=\"blue\">-</tspan><tspan fill=\"blue\">-</tspan><tspan fill=\"green\">&quot;</tspan><tspan fill=\"green\">&quot;</tspan><tspan fill=\"green\">&quot;</tspan><tspan fill=\"red\">.</tspan><tspan fill=\"blue\">-</tspan><tspan fill=\"green\">&quot;</tspan><tspan fill=\"green\">[</tspan><tspan fill=\"green\">]</tspan><tspan fill=\"blue\">/</tspan><tspan fill=\"red\">.</tspan><tspan fill=\"blue\">,</tspan><tspan fill=\"blue\">/</tspan><tspan fill=\"red\">.</tspan><tspan fill=\"blue\">-</tspan><tspan fill=\"blue\">-</tspan><tspan fill=\"blue\">,</tspan><tspan fill=\"blue\">,</tspan><tspan fill=\"blue\">,</tspan><tspan fill=\"blue\">-</tspan><tspan fill=\"green\">&quot;</tspan><tspan fill=\"green\">&quot;</tspan><tspan fill=\"green\">&quot;</tspan><tspan fill=\"red\">.</tspan><tspan fill=\"blue\">-</tspan><tspan fill=\"green\">&quot;</tspan><tspan fill=\"green\">[</tspan><tspan fill=\"green\">]</tspan><tspan fill=\"blue\">/</tspan><tspan fill=\"red\">.</tspan><tspan fill=\"red\">.</tspan><tspan fill=\"red\">.</tspan><tspan fill=\"green\">(</tspan><tspan fill=\"green\">)</tspan><tspan fill=\"red\">.</tspan><tspan fill=\"blue\">-</tspan><tspan fill=\"green\">&quot;</tspan><tspan fill=\"green\">&quot;</tspan><tspan fill=\"green\">&quot;</tspan><tspan fill=\"red\">.</tspan><tspan fill=\"blue\">-</tspan><tspan fill=\"green\">&quot;</tspan><tspan fill=\"green\">[</tspan><tspan fill=\"green\">]</tspan><tspan fill=\"blue\">/</tspan><tspan fill=\"blue\">,</tspan><tspan fill=\"blue\">,</tspan><tspan fill=\"blue\">,</tspan><tspan fill=\"blue\">-</tspan><tspan fill=\"green\">&quot;</tspan><tspan fill=\"green\">&quot;</tspan><tspan fill=\"green\">&quot;</tspan><tspan fill=\"red\">.</tspan><tspan fill=\"blue\">-</tspan><tspan fill=\"green\">&quot;</tspan><tspan fill=\"green\">[</tspan><tspan fill=\"green\">]</tspan><tspan fill=\"blue\">/</tspan><tspan fill=\"red\">.</tspan><tspan fill=\"blue\">,</tspan><tspan fill=\"red\">.</tspan><tspan fill=\"blue\">/</tspan><tspan fill=\"red\">.</tspan><tspan fill=\"blue\">-</tspan><tspan fill=\"blue\">-</tspan><tspan fill=\"blue\">-</tspan><tspan fill=\"green\">&quot;</tspan><tspan fill=\"green\">&quot;</tspan><tspan fill=\"green\">&quot;</tspan><tspan fill=\"red\">.</tspan><tspan fill=\"blue\">-</tspan><tspan fill=\"green\">&quot;</tspan><tspan fill=\"green\">[</tspan><tspan fill=\"green\">]</tspan><tspan fill=\"blue\">/</tspan><tspan fill=\"red\">.</tspan><tspan fill=\"blue\">,</tspan><tspan fill=\"blue\">-</tspan><tspan fill=\"blue\">-</tspan><tspan fill=\"blue\">/</tspan><tspan fill=\"blue\">-</tspan><tspan fill=\"blue\">-</tspan><tspan fill=\"red\">.</tspan><tspan fill=\"red\">.</tspan><tspan fill=\"blue\">,</tspan><tspan fill=\"red\">.</tspan><tspan fill=\"blue\">,</tspan><tspan fill=\"red\">.</tspan><tspan fill=\"blue\">/</tspan><tspan fill=\"green\">&quot;</tspan><tspan fill=\"green\">&quot;</tspan><tspan fill=\"blue\">/</tspan><tspan fill=\"blue\">-</tspan><tspan fill=\"blue\">-</tspan><tspan fill=\"red\">.</tspan><tspan fill=\"blue\">/</tspan><tspan fill=\"blue\">/</tspan><tspan fill=\"blue\">/</tspan><tspan fill=\"blue\">/</tspan></textPath></text></svg><svg height=\"310.32741228718345\" width=\"310.32741228718345\"><path d=\"M149.66370614359172,144.66370614359172 Q150.23242825555673,146.08551142350422 149.90073284463102,147.68730491919 Q149.53625325316807,149.44741681608446 148.21090369478833,150.80763252674814 Q146.7681543149309,152.28833651206614 144.66370614359172,152.8052987971815 Q142.39151585170578,153.36346730021614 140.06931104119852,152.62143189098236 Q137.5795207057889,151.8258463413863 135.799080714084,149.78170002158322 Q133.90154552123326,147.6031151778175 133.38052083641213,144.66370614359172 Q132.82807070781394,141.5470075566174 133.98528134984977,138.49851471440363 Q135.20687511669064,135.280414466245 137.97491593880534,133.07838166773266 Q140.88576667282388,130.76274067838278 144.66370614359172,130.23892818282235 Q148.6232508194327,129.68993606847442 152.39969389957471,131.26458230349843 Q156.34599865095345,132.91005498431062 158.9697296658021,136.40411961201045 Q161.70431064068825,140.04580490743757 162.23007675795088,144.66370614359172 Q162.77677976626,149.46549997356323 160.78352903003633,153.9704902263696 Q158.71523020544012,158.64509833029015 154.49408900196792,161.69042871215345 Q150.12225466364978,164.8444762299199 144.66370614359172,165.3716694115407 Q139.0199140852476,165.91675363690044 133.78612573401895,163.50422807638768 Q128.38309743605197,161.01369101254954 124.91628452867869,156.0648853287628 Q121.34242568337802,150.96327372201597 120.81415022205297,144.66370614359172 Q120.27026812798564,138.1780329350007 123.10248516444446,132.21532940722403 Q126.01490185661768,126.08378049651986 131.69173063162575,122.19558548232735 Q137.52289884040164,118.20167971999473 144.66370614359172,117.67255756846318 Q151.99120197785996,117.12960210186844 158.6828792067543,120.38178611809313 Q165.54302944892208,123.71584874594112 169.85252585120742,130.12093430483085 Q174.26664577423765,136.68151891495262 174.79644737231007,144.66370614359172 Q175.33866740309537,152.8329940819321 171.66632521544165,160.2536755335492 Q167.91077691509605,167.84249111471163 160.7772743091475,172.57322489755876 Q153.48736722013376,177.4076816356913 144.66370614359172,177.93804002589985 Q135.65264231942746,178.47966251824104 127.50294042683936,174.38702426179296 Q119.18540859586946,170.2101047352504 114.03348834327338,162.3480706359424 Q108.77860232638541,154.3289067073215 108.24777960769379,144.66370614359172 Q107.70665202427523,134.81087498143253 112.21968897903915,125.93214410004447 Q116.81789527696723,116.88585516741978 125.40854532444615,111.31278929692205 Q134.15691860833334,105.63740264965503 144.66370614359172,105.106186954104 Q155.35830035637994,104.56547588668042 164.96606451393387,109.49898993268783 Q174.74114367842884,114.5184189661278 180.73532203661273,123.83774899765126 Q186.8312654851408,133.31529628697626 187.36281798666926,144.66370614359172 Q187.90317374117464,156.20006154193 182.54912140084696,166.5368608407288 Q177.10851930322337,177.04075739851186 167.06045961632708,183.45602108296407 Q156.85376528150528,189.97256632103398 144.66370614359172,190.50441064025904 Q132.28559003132875,191.04445976246058 121.21975511965977,185.26982044719827 Q109.98701866660484,179.40808456756838 103.15069215786806,168.63125594312197 Q96.21350855449334,157.69543555269078 95.68140899333463,144.66370614359172 Q95.14162715687235,131.44382898863847 101.33689279363385,119.64895879286487 Q107.61973086739007,107.68736361907722 119.12536001726657,100.42999311151674 Q130.79028982785536,93.0721410134384 144.66370614359172,92.53981633974482 Q158.72534512078278,92.00026953960739 171.24924982111347,98.61619374728252 Q183.93971960883644,105.32010824394501 191.61811822201804,117.55456369047168 Q199.39666392346868,129.94858953067703 199.92918860102841,144.66370614359172 Q200.46852712329186,159.5671079639768 193.43191758625227,172.82004614790836 Q186.30694796109725,186.2394040798103 173.34364492350667,194.33881726836935 Q160.22053398025287,202.53807771460737 144.66370614359172,203.07078125461823 Q128.91854034417668,203.60993394355137 114.93656981248019,196.15261663260358 Q100.78831212903827,188.60660967290505 92.26789597246275,174.91444125030156 Q83.64790281553485,161.06225422827902 83.11503837897544,144.66370614359172 Q82.57605251445531,128.07677519100488 90.45409660822854,113.36577348568528 Q98.4211258842285,98.48860602248165 112.842174710087,89.54719692611144 Q127.42343027707662,80.50645566397799 144.66370614359172,79.97344572538566 Q162.0924034158391,79.43461044602287 177.53243512829306,87.73339756187721 Q193.13852109154251,96.12143636469038 202.50091440742335,111.27137838329209 Q211.96241706520436,126.58169614478665 212.49555921538757,144.66370614359172 Q213.03425789149293,162.93417086736545 204.31471377165758,179.10323145508795 Q195.50567642168286,195.43824354674544 179.62683023068627,205.22161345377467 Q163.58745567442708,215.1038890595583 144.66370614359172,215.63715186897738 Q125.55147288614998,216.1757260656253 108.6533845053006,207.0354128180089 Q91.58943957518355,197.8053864158446 81.38509978705744,181.19762655748116 Q71.0820411291271,164.4291998341133 70.54866776461627,144.66370614359172 Q70.01020746688738,124.7097033277262 79.57130042282323,107.0825881785057 Q89.22230761143993,89.28970447747595 106.5589894029074,78.66440074070613 Q124.05646429889299,67.9405501427299 144.66370614359172,67.40707511102649 Q165.45947948223795,66.86871942399476 183.81562043547265,76.8506013764719 Q202.33744817722243,86.92258211214406 213.38371059282866,104.98819307611251 Q224.52836098988763,123.21471267411306 225.06192982974676,144.66370614359172 Q225.6001891039743,166.30125090883743 215.19750995706286,185.38641676226754 Q204.70456205017103,204.63719324650532 185.91001553786583,216.10440963917998 Q166.95445427142948,227.66986681818202 144.66370614359172,228.20352248333654 Q122.18438910686882,228.74169261637354 102.37019919812101,217.91820900341418 Q82.39046975926331,207.0042995693795 70.50230360165214,187.48081186466072 Q58.516033408610895,167.79621159606043 57.9822971502571,144.66370614359172 Q57.44420967873175,121.34261604685246 68.68850423741793,100.79940287132612 Q80.02337017865013,80.09071668995367 100.2758040957278,67.78160455530082 Q120.68944101107638,55.37451576311224 144.66370614359172,54.840704496667314 Q168.82657003568607,54.30269388804673 190.09880574265225,65.9678051910666 Q211.5364520850823,77.72362315510554 224.26650677823397,98.70500776893292 Q237.0944191941542,119.84767924038434 237.62830044410595,144.66370614359172 Q238.16623939949216,169.66834451655293 226.08030614246817,191.66960206944714 Q213.90354017788655,213.8362116684517 192.19320084504542,226.9872058245853 Q170.32149668127656,240.23594640080017 144.66370614359172,240.76989309769573 Q118.81729265065961,241.30776509765917 96.08701389094142,228.8010051888195 Q73.1914382235584,216.20329484511313 59.61950741624683,193.76399717184032 Q45.94993457003714,171.16326198408504 45.415926535897924,144.66370614359172 Q44.8781172405275,117.97551693464479 57.80570805201262,94.51621756414653 Q70.82435950280768,70.89167326676345 93.99261878854823,56.898808369895505 Q117.32238350122472,42.80839951897589 144.66370614359172,42.27433388230813 Q172.1936716247436,41.73658343276149 196.3819910498318,55.08500900566129 Q220.73550631739047,68.52459859741731 235.1493029636393,92.42182246175332 Q249.66055122323482,116.48061534757923 250.1946710584651,144.66370614359172 Q250.73236617563958,173.03544841631123 236.9631023278735,197.9527873766267 Q223.10257729230094,223.03527575782886 198.47638615222502,237.8700020099906 Q173.68856631626937,252.80209278938398 144.66370614359172,253.33626371205492 Q115.45018659394117,253.87390670497416 89.80382858376183,239.6838013742248 Q63.992365120768156,225.40234335452107 48.736711230841536,200.0471824790199 Q33.38377508074227,174.53033680293228 32.84955592153875,144.66370614359172 Q32.31196211573004,114.60840886302154 46.92291186660731,88.23303225696694 Q61.62530062117294,61.692591900787676 87.70943348136865,46.01601218449021 Q113.9553039871993,30.242228044778983 144.66370614359172,29.707963267948955 Q175.5607815801188,29.17041595341503 202.6651763570114,44.20221282025598 Q229.93459527719403,59.32553024752558 246.03209914904457,86.13863715457374 Q262.2267336897639,113.11353156787534 262.76104167282426,144.66370614359172 Q263.29854497632505,176.40256013439205 247.8458985132788,204.2359726838063 Q232.30165430852048,232.2343717123821 204.75957145940458,248.75279819539588 Q177.05565398267743,265.36828536235464 144.66370614359172,265.90263432641405 Q112.0830732248748,266.4400959059092 83.52064327658225,250.5665975596301 Q54.79326270923562,234.60142832318127 37.853915045436224,206.3303677861995 Q20.817573194500483,177.89742802041326 20.28318530717958,144.66370614359172 Q19.7457633383258,111.24129394611033 36.04011568120201,81.94984694978736 Q52.42620833767343,52.49348351637289 81.42624817418906,35.1332159990849 Q110.58820951692937,17.67601755753924 144.66370614359172,17.141592653589782 Q178.92789794960953,16.60420833853601 208.948361664191,33.31941663485068 Q239.13370919754425,50.12643122042408 256.91489533444985,79.85545184739416 Q274.79295213656695,109.74643411078404 275.32741228718345,144.66370614359172\" fill=\"none\" id=\"4b7dbedf-fdf7-4d21-94cd-5b3d20c4f223\" stroke=\"\"></path><text style=\"font-family: Monospace; font-size: 1em\"><textPath xlink:href=\"#4b7dbedf-fdf7-4d21-94cd-5b3d20c4f223\"><tspan fill=\"blue\">:</tspan><tspan fill=\"green\">&quot;</tspan><tspan fill=\"blue\">:</tspan><tspan fill=\"blue\">/</tspan><tspan fill=\"blue\">/</tspan><tspan fill=\"red\">.</tspan><tspan fill=\"red\">.</tspan><tspan fill=\"blue\">/</tspan><tspan fill=\"blue\">/</tspan><tspan fill=\"blue\">/</tspan><tspan fill=\"green\">&quot;</tspan><tspan fill=\"blue\">:</tspan><tspan fill=\"green\">&quot;</tspan><tspan fill=\"blue\">:</tspan><tspan fill=\"blue\">/</tspan><tspan fill=\"blue\">/</tspan><tspan fill=\"red\">.</tspan><tspan fill=\"red\">.</tspan><tspan fill=\"blue\">/</tspan><tspan fill=\"blue\">/</tspan><tspan fill=\"green\">&quot;</tspan><tspan fill=\"green\">&quot;</tspan><tspan fill=\"green\">&quot;</tspan><tspan fill=\"blue\">/</tspan><tspan fill=\"red\">.</tspan><tspan fill=\"blue\">,</tspan><tspan fill=\"blue\">,</tspan><tspan fill=\"green\">“</tspan><tspan fill=\"green\">&#x27;</tspan><tspan fill=\"red\">.</tspan><tspan fill=\"green\">”</tspan><tspan fill=\"blue\">,</tspan><tspan fill=\"blue\">,</tspan><tspan fill=\"red\">?</tspan><tspan fill=\"blue\">,</tspan><tspan fill=\"red\">.</tspan><tspan fill=\"blue\">,</tspan><tspan fill=\"blue\">—</tspan><tspan fill=\"red\">.</tspan><tspan fill=\"blue\">/</tspan><tspan fill=\"red\">?</tspan><tspan fill=\"red\">.</tspan><tspan fill=\"red\">.</tspan><tspan fill=\"blue\">,</tspan><tspan fill=\"red\">.</tspan><tspan fill=\"blue\">,</tspan><tspan fill=\"red\">.</tspan><tspan fill=\"blue\">,</tspan><tspan fill=\"red\">.</tspan><tspan fill=\"red\">.</tspan><tspan fill=\"blue\">/</tspan><tspan fill=\"blue\">/</tspan><tspan fill=\"green\">&quot;</tspan><tspan fill=\"green\">&quot;</tspan><tspan fill=\"red\">?</tspan><tspan fill=\"blue\">/</tspan><tspan fill=\"green\">&#x27;</tspan><tspan fill=\"red\">.</tspan><tspan fill=\"blue\">/</tspan><tspan fill=\"green\">&quot;</tspan><tspan fill=\"green\">&quot;</tspan><tspan fill=\"blue\">/</tspan><tspan fill=\"blue\">-</tspan><tspan fill=\"blue\">,</tspan><tspan fill=\"blue\">-</tspan><tspan fill=\"blue\">-</tspan><tspan fill=\"green\">&quot;</tspan><tspan fill=\"green\">&quot;</tspan><tspan fill=\"green\">&quot;</tspan><tspan fill=\"blue\">-</tspan><tspan fill=\"blue\">-</tspan><tspan fill=\"green\">&quot;</tspan><tspan fill=\"green\">[</tspan><tspan fill=\"green\">]</tspan><tspan fill=\"blue\">/</tspan><tspan fill=\"blue\">-</tspan><tspan fill=\"green\">&quot;</tspan><tspan fill=\"green\">&quot;</tspan><tspan fill=\"green\">&quot;</tspan><tspan fill=\"blue\">-</tspan><tspan fill=\"blue\">-</tspan><tspan fill=\"green\">&quot;</tspan><tspan fill=\"green\">[</tspan><tspan fill=\"green\">]</tspan><tspan fill=\"blue\">/</tspan><tspan fill=\"red\">.</tspan><tspan fill=\"blue\">,</tspan><tspan fill=\"blue\">,</tspan><tspan fill=\"red\">.</tspan><tspan fill=\"blue\">,</tspan><tspan fill=\"blue\">,</tspan><tspan fill=\"blue\">,</tspan><tspan fill=\"blue\">,</tspan><tspan fill=\"green\">[</tspan><tspan fill=\"blue\">-</tspan><tspan fill=\"green\">&quot;</tspan><tspan fill=\"green\">&quot;</tspan><tspan fill=\"green\">&quot;</tspan><tspan fill=\"blue\">-</tspan><tspan fill=\"blue\">-</tspan><tspan fill=\"green\">&quot;</tspan><tspan fill=\"blue\">/</tspan><tspan fill=\"blue\">,</tspan><tspan fill=\"blue\">-</tspan><tspan fill=\"green\">&quot;</tspan><tspan fill=\"green\">&quot;</tspan><tspan fill=\"green\">&quot;</tspan><tspan fill=\"blue\">-</tspan><tspan fill=\"blue\">-</tspan><tspan fill=\"green\">&quot;</tspan><tspan fill=\"blue\">/</tspan><tspan fill=\"green\">]</tspan><tspan fill=\"red\">.</tspan><tspan fill=\"blue\">,</tspan><tspan fill=\"blue\">-</tspan><tspan fill=\"green\">&quot;</tspan><tspan fill=\"green\">&quot;</tspan><tspan fill=\"green\">&quot;</tspan><tspan fill=\"blue\">-</tspan><tspan fill=\"blue\">-</tspan><tspan fill=\"green\">&quot;</tspan><tspan fill=\"green\">[</tspan><tspan fill=\"green\">]</tspan><tspan fill=\"blue\">/</tspan><tspan fill=\"red\">.</tspan><tspan fill=\"blue\">-</tspan><tspan fill=\"green\">&quot;</tspan><tspan fill=\"green\">&quot;</tspan><tspan fill=\"green\">&quot;</tspan><tspan fill=\"blue\">-</tspan><tspan fill=\"blue\">-</tspan><tspan fill=\"green\">&quot;</tspan><tspan fill=\"blue\">/</tspan><tspan fill=\"blue\">/</tspan><tspan fill=\"green\">&quot;</tspan><tspan fill=\"blue\">-</tspan><tspan fill=\"blue\">-</tspan><tspan fill=\"green\">&quot;</tspan><tspan fill=\"green\">&quot;</tspan><tspan fill=\"green\">&quot;</tspan><tspan fill=\"blue\">-</tspan><tspan fill=\"blue\">-</tspan><tspan fill=\"blue\">-</tspan><tspan fill=\"green\">&quot;</tspan><tspan fill=\"green\">&quot;</tspan><tspan fill=\"red\">.</tspan><tspan fill=\"blue\">/</tspan><tspan fill=\"red\">.</tspan><tspan fill=\"red\">.</tspan><tspan fill=\"red\">.</tspan><tspan fill=\"blue\">/</tspan><tspan fill=\"blue\">-</tspan><tspan fill=\"red\">?</tspan><tspan fill=\"blue\">/</tspan><tspan fill=\"green\">(</tspan><tspan fill=\"blue\">:</tspan><tspan fill=\"blue\">,</tspan><tspan fill=\"green\">)</tspan><tspan fill=\"blue\">/</tspan><tspan fill=\"blue\">/</tspan><tspan fill=\"green\">&quot;</tspan><tspan fill=\"green\">&quot;</tspan><tspan fill=\"green\">&quot;</tspan><tspan fill=\"green\">&quot;</tspan><tspan fill=\"blue\">:</tspan><tspan fill=\"green\">&quot;</tspan><tspan fill=\"blue\">:</tspan><tspan fill=\"blue\">/</tspan><tspan fill=\"red\">.</tspan><tspan fill=\"blue\">/</tspan><tspan fill=\"red\">.</tspan><tspan fill=\"red\">.</tspan><tspan fill=\"red\">.</tspan><tspan fill=\"green\">&quot;</tspan><tspan fill=\"blue\">:</tspan><tspan fill=\"green\">&quot;</tspan><tspan fill=\"green\">&quot;</tspan><tspan fill=\"blue\">/</tspan><tspan fill=\"blue\">/</tspan><tspan fill=\"blue\">,</tspan><tspan fill=\"blue\">,</tspan><tspan fill=\"red\">.</tspan><tspan fill=\"blue\">,</tspan><tspan fill=\"red\">.</tspan><tspan fill=\"blue\">,</tspan><tspan fill=\"red\">.</tspan><tspan fill=\"red\">.</tspan><tspan fill=\"blue\">,</tspan><tspan fill=\"red\">.</tspan><tspan fill=\"blue\">,</tspan><tspan fill=\"blue\">,</tspan><tspan fill=\"blue\">—</tspan><tspan fill=\"blue\">-</tspan><tspan fill=\"green\">&quot;</tspan><tspan fill=\"green\">&quot;</tspan><tspan fill=\"green\">&quot;</tspan><tspan fill=\"blue\">-</tspan><tspan fill=\"blue\">-</tspan><tspan fill=\"green\">&quot;</tspan><tspan fill=\"green\">[</tspan><tspan fill=\"green\">]</tspan><tspan fill=\"blue\">/</tspan><tspan fill=\"red\">.</tspan><tspan fill=\"blue\">,</tspan><tspan fill=\"blue\">,</tspan><tspan fill=\"green\">(</tspan><tspan fill=\"green\">)</tspan><tspan fill=\"blue\">,</tspan><tspan fill=\"blue\">,</tspan><tspan fill=\"red\">.</tspan><tspan fill=\"blue\">,</tspan><tspan fill=\"blue\">,</tspan><tspan fill=\"blue\">-</tspan><tspan fill=\"green\">&quot;</tspan><tspan fill=\"green\">&quot;</tspan><tspan fill=\"green\">&quot;</tspan><tspan fill=\"blue\">-</tspan><tspan fill=\"blue\">-</tspan><tspan fill=\"green\">&quot;</tspan><tspan fill=\"green\">[</tspan><tspan fill=\"green\">]</tspan><tspan fill=\"blue\">/</tspan><tspan fill=\"red\">.</tspan><tspan fill=\"blue\">/</tspan><tspan fill=\"blue\">—</tspan><tspan fill=\"blue\">,</tspan><tspan fill=\"blue\">,</tspan><tspan fill=\"blue\">-</tspan><tspan fill=\"green\">&quot;</tspan><tspan fill=\"green\">&quot;</tspan><tspan fill=\"green\">&quot;</tspan><tspan fill=\"blue\">-</tspan><tspan fill=\"blue\">-</tspan><tspan fill=\"green\">&quot;</tspan><tspan fill=\"green\">[</tspan><tspan fill=\"green\">]</tspan><tspan fill=\"blue\">/</tspan><tspan fill=\"red\">.</tspan><tspan fill=\"red\">.</tspan><tspan fill=\"blue\">,</tspan><tspan fill=\"blue\">,</tspan><tspan fill=\"blue\">,</tspan><tspan fill=\"blue\">,</tspan><tspan fill=\"red\">.</tspan><tspan fill=\"blue\">/</tspan><tspan fill=\"blue\">/</tspan><tspan fill=\"green\">&quot;</tspan><tspan fill=\"green\">&quot;</tspan><tspan fill=\"blue\">/</tspan><tspan fill=\"blue\">,</tspan><tspan fill=\"blue\">-</tspan><tspan fill=\"green\">&quot;</tspan><tspan fill=\"green\">&quot;</tspan><tspan fill=\"green\">&quot;</tspan><tspan fill=\"blue\">-</tspan><tspan fill=\"blue\">-</tspan><tspan fill=\"green\">&quot;</tspan><tspan fill=\"green\">[</tspan><tspan fill=\"green\">]</tspan><tspan fill=\"blue\">/</tspan><tspan fill=\"red\">.</tspan><tspan fill=\"blue\">,</tspan><tspan fill=\"blue\">,</tspan><tspan fill=\"red\">.</tspan><tspan fill=\"blue\">,</tspan><tspan fill=\"blue\">,</tspan><tspan fill=\"green\">(</tspan><tspan fill=\"blue\">,</tspan><tspan fill=\"blue\">-</tspan><tspan fill=\"green\">)</tspan><tspan fill=\"red\">.</tspan><tspan fill=\"blue\">:</tspan><tspan fill=\"green\">(</tspan><tspan fill=\"green\">)</tspan><tspan fill=\"blue\">,</tspan><tspan fill=\"blue\">,</tspan><tspan fill=\"red\">.</tspan><tspan fill=\"blue\">,</tspan><tspan fill=\"red\">.</tspan><tspan fill=\"blue\">,</tspan><tspan fill=\"blue\">,</tspan><tspan fill=\"blue\">,</tspan><tspan fill=\"red\">.</tspan><tspan fill=\"blue\">,</tspan><tspan fill=\"blue\">;</tspan><tspan fill=\"blue\">,</tspan><tspan fill=\"red\">.</tspan><tspan fill=\"blue\">/</tspan><tspan fill=\"blue\">,</tspan><tspan fill=\"blue\">,</tspan><tspan fill=\"green\">(</tspan><tspan fill=\"green\">)</tspan><tspan fill=\"blue\">-</tspan><tspan fill=\"green\">&quot;</tspan><tspan fill=\"green\">&quot;</tspan><tspan fill=\"green\">&quot;</tspan><tspan fill=\"blue\">-</tspan><tspan fill=\"blue\">-</tspan><tspan fill=\"green\">&quot;</tspan><tspan fill=\"green\">[</tspan><tspan fill=\"green\">]</tspan><tspan fill=\"blue\">/</tspan><tspan fill=\"red\">.</tspan><tspan fill=\"blue\">:</tspan><tspan fill=\"blue\">,</tspan><tspan fill=\"blue\">,</tspan><tspan fill=\"red\">.</tspan><tspan fill=\"blue\">,</tspan><tspan fill=\"red\">.</tspan><tspan fill=\"blue\">,</tspan><tspan fill=\"blue\">,</tspan><tspan fill=\"blue\">-</tspan><tspan fill=\"blue\">-</tspan><tspan fill=\"red\">.</tspan><tspan fill=\"blue\">-</tspan><tspan fill=\"blue\">-</tspan><tspan fill=\"red\">.</tspan><tspan fill=\"blue\">,</tspan><tspan fill=\"red\">.</tspan><tspan fill=\"blue\">,</tspan><tspan fill=\"blue\">,</tspan><tspan fill=\"red\">.</tspan><tspan fill=\"blue\">/</tspan><tspan fill=\"blue\">/</tspan><tspan fill=\"green\">&quot;</tspan><tspan fill=\"green\">&quot;</tspan><tspan fill=\"blue\">/</tspan><tspan fill=\"red\">.</tspan><tspan fill=\"blue\">,</tspan><tspan fill=\"blue\">,</tspan><tspan fill=\"blue\">,</tspan><tspan fill=\"blue\">,</tspan><tspan fill=\"blue\">,</tspan><tspan fill=\"blue\">,</tspan><tspan fill=\"blue\">-</tspan><tspan fill=\"green\">&quot;</tspan><tspan fill=\"green\">&quot;</tspan><tspan fill=\"green\">&quot;</tspan><tspan fill=\"blue\">-</tspan><tspan fill=\"blue\">-</tspan><tspan fill=\"green\">&quot;</tspan><tspan fill=\"green\">[</tspan><tspan fill=\"green\">]</tspan><tspan fill=\"blue\">/</tspan><tspan fill=\"red\">.</tspan><tspan fill=\"blue\">-</tspan><tspan fill=\"green\">&quot;</tspan><tspan fill=\"green\">&quot;</tspan><tspan fill=\"green\">&quot;</tspan><tspan fill=\"blue\">-</tspan><tspan fill=\"blue\">-</tspan><tspan fill=\"green\">&quot;</tspan><tspan fill=\"green\">[</tspan><tspan fill=\"green\">]</tspan><tspan fill=\"blue\">/</tspan><tspan fill=\"red\">.</tspan><tspan fill=\"blue\">,</tspan><tspan fill=\"blue\">,</tspan><tspan fill=\"blue\">,</tspan><tspan fill=\"blue\">-</tspan><tspan fill=\"green\">&quot;</tspan><tspan fill=\"green\">&quot;</tspan><tspan fill=\"green\">&quot;</tspan><tspan fill=\"blue\">-</tspan><tspan fill=\"blue\">-</tspan><tspan fill=\"green\">&quot;</tspan><tspan fill=\"green\">[</tspan><tspan fill=\"green\">]</tspan><tspan fill=\"blue\">/</tspan><tspan fill=\"red\">.</tspan><tspan fill=\"blue\">/</tspan><tspan fill=\"blue\">/</tspan><tspan fill=\"blue\">/</tspan><tspan fill=\"green\">&quot;</tspan><tspan fill=\"green\">&quot;</tspan><tspan fill=\"blue\">/</tspan><tspan fill=\"red\">.</tspan><tspan fill=\"red\">.</tspan><tspan fill=\"blue\">,</tspan><tspan fill=\"red\">.</tspan><tspan fill=\"blue\">,</tspan><tspan fill=\"red\">.</tspan><tspan fill=\"red\">.</tspan><tspan fill=\"blue\">,</tspan><tspan fill=\"blue\">,</tspan><tspan fill=\"blue\">-</tspan><tspan fill=\"green\">&quot;</tspan><tspan fill=\"green\">&quot;</tspan><tspan fill=\"green\">&quot;</tspan><tspan fill=\"blue\">-</tspan><tspan fill=\"blue\">-</tspan><tspan fill=\"green\">&quot;</tspan><tspan fill=\"green\">[</tspan><tspan fill=\"green\">]</tspan><tspan fill=\"blue\">/</tspan><tspan fill=\"red\">.</tspan><tspan fill=\"blue\">/</tspan><tspan fill=\"blue\">,</tspan><tspan fill=\"red\">.</tspan><tspan fill=\"red\">.</tspan><tspan fill=\"red\">.</tspan><tspan fill=\"blue\">,</tspan><tspan fill=\"blue\">,</tspan><tspan fill=\"blue\">-</tspan><tspan fill=\"blue\">-</tspan><tspan fill=\"red\">.</tspan><tspan fill=\"blue\">,</tspan><tspan fill=\"blue\">,</tspan><tspan fill=\"blue\">—</tspan><tspan fill=\"blue\">,</tspan><tspan fill=\"red\">.</tspan><tspan fill=\"blue\">,</tspan><tspan fill=\"green\">“</tspan><tspan fill=\"blue\">,</tspan><tspan fill=\"green\">”</tspan><tspan fill=\"blue\">,</tspan><tspan fill=\"blue\">,</tspan><tspan fill=\"green\">&#x27;</tspan><tspan fill=\"red\">.</tspan><tspan fill=\"blue\">/</tspan><tspan fill=\"blue\">/</tspan><tspan fill=\"green\">&quot;</tspan><tspan fill=\"green\">&quot;</tspan><tspan fill=\"blue\">/</tspan><tspan fill=\"blue\">,</tspan><tspan fill=\"red\">.</tspan><tspan fill=\"blue\">,</tspan><tspan fill=\"blue\">,</tspan><tspan fill=\"red\">.</tspan><tspan fill=\"blue\">,</tspan><tspan fill=\"blue\">-</tspan><tspan fill=\"green\">&quot;</tspan><tspan fill=\"green\">&quot;</tspan><tspan fill=\"green\">&quot;</tspan><tspan fill=\"blue\">-</tspan><tspan fill=\"blue\">-</tspan><tspan fill=\"green\">&quot;</tspan><tspan fill=\"green\">[</tspan><tspan fill=\"green\">]</tspan><tspan fill=\"blue\">/</tspan><tspan fill=\"red\">.</tspan><tspan fill=\"blue\">,</tspan><tspan fill=\"red\">.</tspan><tspan fill=\"blue\">/</tspan><tspan fill=\"blue\">,</tspan><tspan fill=\"blue\">,</tspan><tspan fill=\"blue\">,</tspan><tspan fill=\"blue\">,</tspan><tspan fill=\"blue\">,</tspan><tspan fill=\"blue\">,</tspan><tspan fill=\"blue\">,</tspan><tspan fill=\"red\">.</tspan><tspan fill=\"blue\">;</tspan><tspan fill=\"green\">“</tspan><tspan fill=\"red\">.</tspan><tspan fill=\"green\">”</tspan><tspan fill=\"blue\">/</tspan><tspan fill=\"blue\">/</tspan><tspan fill=\"blue\">/</tspan></textPath></text></svg><svg height=\"310.32741228718345\" width=\"310.32741228718345\"><path d=\"M149.66370614359172,144.66370614359172 Q150.23242825555673,146.08551142350422 149.90073284463102,147.68730491919 Q149.53625325316807,149.44741681608446 148.21090369478833,150.80763252674814 Q146.7681543149309,152.28833651206614 144.66370614359172,152.8052987971815 Q142.39151585170578,153.36346730021614 140.06931104119852,152.62143189098236 Q137.5795207057889,151.8258463413863 135.799080714084,149.78170002158322 Q133.90154552123326,147.6031151778175 133.38052083641213,144.66370614359172 Q132.82807070781394,141.5470075566174 133.98528134984977,138.49851471440363 Q135.20687511669064,135.280414466245 137.97491593880534,133.07838166773266 Q140.88576667282388,130.76274067838278 144.66370614359172,130.23892818282235 Q148.6232508194327,129.68993606847442 152.39969389957471,131.26458230349843 Q156.34599865095345,132.91005498431062 158.9697296658021,136.40411961201045 Q161.70431064068825,140.04580490743757 162.23007675795088,144.66370614359172 Q162.77677976626,149.46549997356323 160.78352903003633,153.9704902263696 Q158.71523020544012,158.64509833029015 154.49408900196792,161.69042871215345 Q150.12225466364978,164.8444762299199 144.66370614359172,165.3716694115407 Q139.0199140852476,165.91675363690044 133.78612573401895,163.50422807638768 Q128.38309743605197,161.01369101254954 124.91628452867869,156.0648853287628 Q121.34242568337802,150.96327372201597 120.81415022205297,144.66370614359172 Q120.27026812798564,138.1780329350007 123.10248516444446,132.21532940722403 Q126.01490185661768,126.08378049651986 131.69173063162575,122.19558548232735 Q137.52289884040164,118.20167971999473 144.66370614359172,117.67255756846318 Q151.99120197785996,117.12960210186844 158.6828792067543,120.38178611809313 Q165.54302944892208,123.71584874594112 169.85252585120742,130.12093430483085 Q174.26664577423765,136.68151891495262 174.79644737231007,144.66370614359172 Q175.33866740309537,152.8329940819321 171.66632521544165,160.2536755335492 Q167.91077691509605,167.84249111471163 160.7772743091475,172.57322489755876 Q153.48736722013376,177.4076816356913 144.66370614359172,177.93804002589985 Q135.65264231942746,178.47966251824104 127.50294042683936,174.38702426179296 Q119.18540859586946,170.2101047352504 114.03348834327338,162.3480706359424 Q108.77860232638541,154.3289067073215 108.24777960769379,144.66370614359172 Q107.70665202427523,134.81087498143253 112.21968897903915,125.93214410004447 Q116.81789527696723,116.88585516741978 125.40854532444615,111.31278929692205 Q134.15691860833334,105.63740264965503 144.66370614359172,105.106186954104 Q155.35830035637994,104.56547588668042 164.96606451393387,109.49898993268783 Q174.74114367842884,114.5184189661278 180.73532203661273,123.83774899765126 Q186.8312654851408,133.31529628697626 187.36281798666926,144.66370614359172 Q187.90317374117464,156.20006154193 182.54912140084696,166.5368608407288 Q177.10851930322337,177.04075739851186 167.06045961632708,183.45602108296407 Q156.85376528150528,189.97256632103398 144.66370614359172,190.50441064025904 Q132.28559003132875,191.04445976246058 121.21975511965977,185.26982044719827 Q109.98701866660484,179.40808456756838 103.15069215786806,168.63125594312197 Q96.21350855449334,157.69543555269078 95.68140899333463,144.66370614359172 Q95.14162715687235,131.44382898863847 101.33689279363385,119.64895879286487 Q107.61973086739007,107.68736361907722 119.12536001726657,100.42999311151674 Q130.79028982785536,93.0721410134384 144.66370614359172,92.53981633974482 Q158.72534512078278,92.00026953960739 171.24924982111347,98.61619374728252 Q183.93971960883644,105.32010824394501 191.61811822201804,117.55456369047168 Q199.39666392346868,129.94858953067703 199.92918860102841,144.66370614359172 Q200.46852712329186,159.5671079639768 193.43191758625227,172.82004614790836 Q186.30694796109725,186.2394040798103 173.34364492350667,194.33881726836935 Q160.22053398025287,202.53807771460737 144.66370614359172,203.07078125461823 Q128.91854034417668,203.60993394355137 114.93656981248019,196.15261663260358 Q100.78831212903827,188.60660967290505 92.26789597246275,174.91444125030156 Q83.64790281553485,161.06225422827902 83.11503837897544,144.66370614359172 Q82.57605251445531,128.07677519100488 90.45409660822854,113.36577348568528 Q98.4211258842285,98.48860602248165 112.842174710087,89.54719692611144 Q127.42343027707662,80.50645566397799 144.66370614359172,79.97344572538566 Q162.0924034158391,79.43461044602287 177.53243512829306,87.73339756187721 Q193.13852109154251,96.12143636469038 202.50091440742335,111.27137838329209 Q211.96241706520436,126.58169614478665 212.49555921538757,144.66370614359172 Q213.03425789149293,162.93417086736545 204.31471377165758,179.10323145508795 Q195.50567642168286,195.43824354674544 179.62683023068627,205.22161345377467 Q163.58745567442708,215.1038890595583 144.66370614359172,215.63715186897738 Q125.55147288614998,216.1757260656253 108.6533845053006,207.0354128180089 Q91.58943957518355,197.8053864158446 81.38509978705744,181.19762655748116 Q71.0820411291271,164.4291998341133 70.54866776461627,144.66370614359172 Q70.01020746688738,124.7097033277262 79.57130042282323,107.0825881785057 Q89.22230761143993,89.28970447747595 106.5589894029074,78.66440074070613 Q124.05646429889299,67.9405501427299 144.66370614359172,67.40707511102649 Q165.45947948223795,66.86871942399476 183.81562043547265,76.8506013764719 Q202.33744817722243,86.92258211214406 213.38371059282866,104.98819307611251 Q224.52836098988763,123.21471267411306 225.06192982974676,144.66370614359172 Q225.6001891039743,166.30125090883743 215.19750995706286,185.38641676226754 Q204.70456205017103,204.63719324650532 185.91001553786583,216.10440963917998 Q166.95445427142948,227.66986681818202 144.66370614359172,228.20352248333654 Q122.18438910686882,228.74169261637354 102.37019919812101,217.91820900341418 Q82.39046975926331,207.0042995693795 70.50230360165214,187.48081186466072 Q58.516033408610895,167.79621159606043 57.9822971502571,144.66370614359172 Q57.44420967873175,121.34261604685246 68.68850423741793,100.79940287132612 Q80.02337017865013,80.09071668995367 100.2758040957278,67.78160455530082 Q120.68944101107638,55.37451576311224 144.66370614359172,54.840704496667314 Q168.82657003568607,54.30269388804673 190.09880574265225,65.9678051910666 Q211.5364520850823,77.72362315510554 224.26650677823397,98.70500776893292 Q237.0944191941542,119.84767924038434 237.62830044410595,144.66370614359172 Q238.16623939949216,169.66834451655293 226.08030614246817,191.66960206944714 Q213.90354017788655,213.8362116684517 192.19320084504542,226.9872058245853 Q170.32149668127656,240.23594640080017 144.66370614359172,240.76989309769573 Q118.81729265065961,241.30776509765917 96.08701389094142,228.8010051888195 Q73.1914382235584,216.20329484511313 59.61950741624683,193.76399717184032 Q45.94993457003714,171.16326198408504 45.415926535897924,144.66370614359172 Q44.8781172405275,117.97551693464479 57.80570805201262,94.51621756414653 Q70.82435950280768,70.89167326676345 93.99261878854823,56.898808369895505 Q117.32238350122472,42.80839951897589 144.66370614359172,42.27433388230813 Q172.1936716247436,41.73658343276149 196.3819910498318,55.08500900566129 Q220.73550631739047,68.52459859741731 235.1493029636393,92.42182246175332 Q249.66055122323482,116.48061534757923 250.1946710584651,144.66370614359172 Q250.73236617563958,173.03544841631123 236.9631023278735,197.9527873766267 Q223.10257729230094,223.03527575782886 198.47638615222502,237.8700020099906 Q173.68856631626937,252.80209278938398 144.66370614359172,253.33626371205492 Q115.45018659394117,253.87390670497416 89.80382858376183,239.6838013742248 Q63.992365120768156,225.40234335452107 48.736711230841536,200.0471824790199 Q33.38377508074227,174.53033680293228 32.84955592153875,144.66370614359172 Q32.31196211573004,114.60840886302154 46.92291186660731,88.23303225696694 Q61.62530062117294,61.692591900787676 87.70943348136865,46.01601218449021 Q113.9553039871993,30.242228044778983 144.66370614359172,29.707963267948955 Q175.5607815801188,29.17041595341503 202.6651763570114,44.20221282025598 Q229.93459527719403,59.32553024752558 246.03209914904457,86.13863715457374 Q262.2267336897639,113.11353156787534 262.76104167282426,144.66370614359172 Q263.29854497632505,176.40256013439205 247.8458985132788,204.2359726838063 Q232.30165430852048,232.2343717123821 204.75957145940458,248.75279819539588 Q177.05565398267743,265.36828536235464 144.66370614359172,265.90263432641405 Q112.0830732248748,266.4400959059092 83.52064327658225,250.5665975596301 Q54.79326270923562,234.60142832318127 37.853915045436224,206.3303677861995 Q20.817573194500483,177.89742802041326 20.28318530717958,144.66370614359172 Q19.7457633383258,111.24129394611033 36.04011568120201,81.94984694978736 Q52.42620833767343,52.49348351637289 81.42624817418906,35.1332159990849 Q110.58820951692937,17.67601755753924 144.66370614359172,17.141592653589782 Q178.92789794960953,16.60420833853601 208.948361664191,33.31941663485068 Q239.13370919754425,50.12643122042408 256.91489533444985,79.85545184739416 Q274.79295213656695,109.74643411078404 275.32741228718345,144.66370614359172\" fill=\"none\" id=\"7aeeb3bd-8853-4f28-aff1-726b48a2c150\" stroke=\"\"></path><text style=\"font-family: Monospace; font-size: 1em\"><textPath xlink:href=\"#7aeeb3bd-8853-4f28-aff1-726b48a2c150\"><tspan fill=\"blue\">:</tspan><tspan fill=\"green\">&quot;</tspan><tspan fill=\"blue\">:</tspan><tspan fill=\"blue\">/</tspan><tspan fill=\"blue\">/</tspan><tspan fill=\"red\">.</tspan><tspan fill=\"red\">.</tspan><tspan fill=\"blue\">/</tspan><tspan fill=\"blue\">/</tspan><tspan fill=\"blue\">/</tspan><tspan fill=\"green\">&quot;</tspan><tspan fill=\"blue\">:</tspan><tspan fill=\"green\">&quot;</tspan><tspan fill=\"blue\">:</tspan><tspan fill=\"blue\">/</tspan><tspan fill=\"blue\">/</tspan><tspan fill=\"red\">.</tspan><tspan fill=\"red\">.</tspan><tspan fill=\"blue\">/</tspan><tspan fill=\"blue\">/</tspan><tspan fill=\"green\">&quot;</tspan><tspan fill=\"green\">&quot;</tspan><tspan fill=\"green\">&quot;</tspan><tspan fill=\"blue\">/</tspan><tspan fill=\"red\">.</tspan><tspan fill=\"blue\">/</tspan><tspan fill=\"blue\">-</tspan><tspan fill=\"green\">&quot;</tspan><tspan fill=\"green\">&quot;</tspan><tspan fill=\"green\">&quot;</tspan><tspan fill=\"red\">.</tspan><tspan fill=\"blue\">-</tspan><tspan fill=\"green\">&quot;</tspan><tspan fill=\"green\">[</tspan><tspan fill=\"green\">]</tspan><tspan fill=\"blue\">/</tspan><tspan fill=\"blue\">-</tspan><tspan fill=\"green\">(</tspan><tspan fill=\"green\">)</tspan><tspan fill=\"blue\">,</tspan><tspan fill=\"green\">(</tspan><tspan fill=\"green\">)</tspan><tspan fill=\"red\">.</tspan><tspan fill=\"blue\">%</tspan><tspan fill=\"green\">(</tspan><tspan fill=\"blue\">/</tspan><tspan fill=\"green\">)</tspan><tspan fill=\"red\">.</tspan><tspan fill=\"red\">.</tspan><tspan fill=\"blue\">%</tspan><tspan fill=\"green\">(</tspan><tspan fill=\"blue\">/</tspan><tspan fill=\"green\">)</tspan><tspan fill=\"blue\">-</tspan><tspan fill=\"green\">&quot;</tspan><tspan fill=\"green\">&quot;</tspan><tspan fill=\"green\">&quot;</tspan><tspan fill=\"red\">.</tspan><tspan fill=\"blue\">-</tspan><tspan fill=\"green\">&quot;</tspan><tspan fill=\"green\">[</tspan><tspan fill=\"green\">]</tspan><tspan fill=\"blue\">/</tspan><tspan fill=\"red\">.</tspan><tspan fill=\"blue\">,</tspan><tspan fill=\"green\">(</tspan><tspan fill=\"green\">)</tspan><tspan fill=\"blue\">-</tspan><tspan fill=\"green\">(</tspan><tspan fill=\"green\">)</tspan><tspan fill=\"red\">.</tspan><tspan fill=\"blue\">/</tspan><tspan fill=\"blue\">,</tspan><tspan fill=\"red\">.</tspan><tspan fill=\"blue\">/</tspan><tspan fill=\"blue\">-</tspan><tspan fill=\"green\">&quot;</tspan><tspan fill=\"green\">&quot;</tspan><tspan fill=\"green\">&quot;</tspan><tspan fill=\"red\">.</tspan><tspan fill=\"blue\">-</tspan><tspan fill=\"green\">&quot;</tspan><tspan fill=\"green\">[</tspan><tspan fill=\"green\">]</tspan><tspan fill=\"blue\">/</tspan><tspan fill=\"blue\">,</tspan><tspan fill=\"red\">.</tspan><tspan fill=\"blue\">&amp;</tspan><tspan fill=\"blue\">;</tspan><tspan fill=\"blue\">%</tspan><tspan fill=\"blue\">/</tspan><tspan fill=\"blue\">/</tspan><tspan fill=\"green\">(</tspan><tspan fill=\"green\">)</tspan><tspan fill=\"red\">.</tspan><tspan fill=\"blue\">/</tspan><tspan fill=\"blue\">-</tspan><tspan fill=\"green\">&quot;</tspan><tspan fill=\"green\">&quot;</tspan><tspan fill=\"green\">&quot;</tspan><tspan fill=\"red\">.</tspan><tspan fill=\"blue\">-</tspan><tspan fill=\"green\">&quot;</tspan><tspan fill=\"green\">[</tspan><tspan fill=\"green\">]</tspan><tspan fill=\"blue\">/</tspan><tspan fill=\"red\">.</tspan><tspan fill=\"blue\">,</tspan><tspan fill=\"blue\">-</tspan><tspan fill=\"green\">&quot;</tspan><tspan fill=\"green\">&quot;</tspan><tspan fill=\"green\">&quot;</tspan><tspan fill=\"red\">.</tspan><tspan fill=\"blue\">-</tspan><tspan fill=\"green\">&quot;</tspan><tspan fill=\"green\">[</tspan><tspan fill=\"green\">]</tspan><tspan fill=\"blue\">/</tspan><tspan fill=\"blue\">–</tspan><tspan fill=\"blue\">-</tspan><tspan fill=\"green\">&quot;</tspan><tspan fill=\"green\">&quot;</tspan><tspan fill=\"green\">&quot;</tspan><tspan fill=\"red\">.</tspan><tspan fill=\"blue\">-</tspan><tspan fill=\"green\">&quot;</tspan><tspan fill=\"green\">[</tspan><tspan fill=\"green\">]</tspan><tspan fill=\"blue\">/</tspan><tspan fill=\"red\">.</tspan><tspan fill=\"green\">(</tspan><tspan fill=\"green\">)</tspan><tspan fill=\"blue\">,</tspan><tspan fill=\"blue\">-</tspan><tspan fill=\"blue\">-</tspan><tspan fill=\"green\">&quot;</tspan><tspan fill=\"green\">&quot;</tspan><tspan fill=\"green\">&quot;</tspan><tspan fill=\"red\">.</tspan><tspan fill=\"blue\">-</tspan><tspan fill=\"green\">&quot;</tspan><tspan fill=\"green\">[</tspan><tspan fill=\"green\">]</tspan><tspan fill=\"blue\">/</tspan><tspan fill=\"red\">.</tspan><tspan fill=\"blue\">,</tspan><tspan fill=\"blue\">,</tspan><tspan fill=\"blue\">,</tspan><tspan fill=\"blue\">,</tspan><tspan fill=\"blue\">-</tspan><tspan fill=\"red\">.</tspan><tspan fill=\"blue\">,</tspan><tspan fill=\"blue\">,</tspan><tspan fill=\"blue\">-</tspan><tspan fill=\"blue\">,</tspan><tspan fill=\"blue\">-</tspan><tspan fill=\"red\">.</tspan><tspan fill=\"blue\">/</tspan><tspan fill=\"blue\">,</tspan><tspan fill=\"blue\">,</tspan><tspan fill=\"blue\">-</tspan><tspan fill=\"red\">.</tspan><tspan fill=\"blue\">,</tspan><tspan fill=\"blue\">-</tspan><tspan fill=\"green\">&quot;</tspan><tspan fill=\"green\">&quot;</tspan><tspan fill=\"green\">&quot;</tspan><tspan fill=\"red\">.</tspan><tspan fill=\"blue\">-</tspan><tspan fill=\"green\">&quot;</tspan><tspan fill=\"green\">[</tspan><tspan fill=\"green\">]</tspan><tspan fill=\"blue\">/</tspan><tspan fill=\"blue\">-</tspan><tspan fill=\"green\">&quot;</tspan><tspan fill=\"green\">&quot;</tspan><tspan fill=\"green\">&quot;</tspan><tspan fill=\"red\">.</tspan><tspan fill=\"blue\">-</tspan><tspan fill=\"green\">&quot;</tspan><tspan fill=\"green\">[</tspan><tspan fill=\"green\">]</tspan><tspan fill=\"blue\">/</tspan><tspan fill=\"blue\">,</tspan><tspan fill=\"blue\">-</tspan><tspan fill=\"green\">&quot;</tspan><tspan fill=\"green\">&quot;</tspan><tspan fill=\"green\">&quot;</tspan><tspan fill=\"red\">.</tspan><tspan fill=\"blue\">-</tspan><tspan fill=\"green\">&quot;</tspan><tspan fill=\"green\">[</tspan><tspan fill=\"green\">]</tspan><tspan fill=\"blue\">/</tspan><tspan fill=\"red\">.</tspan><tspan fill=\"blue\">/</tspan><tspan fill=\"red\">.</tspan><tspan fill=\"blue\">/</tspan><tspan fill=\"blue\">%</tspan><tspan fill=\"blue\">,</tspan><tspan fill=\"blue\">,</tspan><tspan fill=\"red\">.</tspan><tspan fill=\"blue\">,</tspan><tspan fill=\"red\">.</tspan><tspan fill=\"blue\">-</tspan><tspan fill=\"green\">(</tspan><tspan fill=\"green\">)</tspan><tspan fill=\"red\">.</tspan><tspan fill=\"blue\">/</tspan><tspan fill=\"blue\">/</tspan><tspan fill=\"green\">&quot;</tspan><tspan fill=\"green\">&quot;</tspan><tspan fill=\"blue\">-</tspan><tspan fill=\"green\">&quot;</tspan><tspan fill=\"green\">&quot;</tspan><tspan fill=\"blue\">/</tspan><tspan fill=\"green\">&quot;</tspan><tspan fill=\"green\">&quot;</tspan><tspan fill=\"blue\">/</tspan><tspan fill=\"blue\">,</tspan><tspan fill=\"red\">.</tspan><tspan fill=\"green\">(</tspan><tspan fill=\"blue\">%</tspan><tspan fill=\"blue\">,</tspan><tspan fill=\"blue\">–</tspan><tspan fill=\"blue\">,</tspan><tspan fill=\"red\">.</tspan><tspan fill=\"red\">.</tspan><tspan fill=\"green\">)</tspan><tspan fill=\"green\">&#x27;</tspan><tspan fill=\"blue\">,</tspan><tspan fill=\"red\">.</tspan><tspan fill=\"blue\">,</tspan><tspan fill=\"blue\">,</tspan><tspan fill=\"blue\">,</tspan><tspan fill=\"blue\">,</tspan><tspan fill=\"blue\">,</tspan><tspan fill=\"blue\">,</tspan><tspan fill=\"blue\">,</tspan><tspan fill=\"red\">.</tspan><tspan fill=\"red\">.</tspan><tspan fill=\"red\">.</tspan><tspan fill=\"blue\">-</tspan><tspan fill=\"blue\">-</tspan><tspan fill=\"green\">&quot;</tspan><tspan fill=\"green\">&quot;</tspan><tspan fill=\"green\">&quot;</tspan><tspan fill=\"red\">.</tspan><tspan fill=\"blue\">-</tspan><tspan fill=\"green\">&quot;</tspan><tspan fill=\"green\">[</tspan><tspan fill=\"green\">]</tspan><tspan fill=\"blue\">/</tspan><tspan fill=\"red\">.</tspan><tspan fill=\"blue\">-</tspan><tspan fill=\"green\">&quot;</tspan><tspan fill=\"green\">&quot;</tspan><tspan fill=\"green\">&quot;</tspan><tspan fill=\"red\">.</tspan><tspan fill=\"blue\">-</tspan><tspan fill=\"green\">&quot;</tspan><tspan fill=\"green\">[</tspan><tspan fill=\"green\">]</tspan><tspan fill=\"blue\">/</tspan><tspan fill=\"blue\">;</tspan><tspan fill=\"blue\">-</tspan><tspan fill=\"blue\">,</tspan><tspan fill=\"green\">(</tspan><tspan fill=\"blue\">-</tspan><tspan fill=\"green\">)</tspan><tspan fill=\"blue\">,</tspan><tspan fill=\"red\">.</tspan><tspan fill=\"blue\">-</tspan><tspan fill=\"blue\">:</tspan><tspan fill=\"blue\">,</tspan><tspan fill=\"blue\">,</tspan><tspan fill=\"blue\">-</tspan><tspan fill=\"green\">&quot;</tspan><tspan fill=\"green\">&quot;</tspan><tspan fill=\"green\">&quot;</tspan><tspan fill=\"red\">.</tspan><tspan fill=\"blue\">-</tspan><tspan fill=\"green\">&quot;</tspan><tspan fill=\"green\">[</tspan><tspan fill=\"green\">]</tspan><tspan fill=\"blue\">/</tspan><tspan fill=\"blue\">/</tspan><tspan fill=\"blue\">-</tspan><tspan fill=\"green\">&quot;</tspan><tspan fill=\"green\">&quot;</tspan><tspan fill=\"green\">&quot;</tspan><tspan fill=\"red\">.</tspan><tspan fill=\"blue\">-</tspan><tspan fill=\"green\">&quot;</tspan><tspan fill=\"green\">[</tspan><tspan fill=\"green\">]</tspan><tspan fill=\"blue\">/</tspan><tspan fill=\"red\">.</tspan><tspan fill=\"blue\">,</tspan><tspan fill=\"red\">.</tspan><tspan fill=\"blue\">,</tspan><tspan fill=\"blue\">%</tspan><tspan fill=\"blue\">/</tspan><tspan fill=\"blue\">-</tspan><tspan fill=\"green\">&quot;</tspan><tspan fill=\"green\">&quot;</tspan><tspan fill=\"green\">&quot;</tspan><tspan fill=\"red\">.</tspan><tspan fill=\"blue\">-</tspan><tspan fill=\"green\">&quot;</tspan><tspan fill=\"green\">[</tspan><tspan fill=\"green\">]</tspan><tspan fill=\"blue\">/</tspan><tspan fill=\"blue\">–</tspan><tspan fill=\"blue\">-</tspan><tspan fill=\"green\">&quot;</tspan><tspan fill=\"green\">&quot;</tspan><tspan fill=\"green\">&quot;</tspan><tspan fill=\"red\">.</tspan><tspan fill=\"blue\">-</tspan><tspan fill=\"green\">&quot;</tspan><tspan fill=\"green\">[</tspan><tspan fill=\"green\">]</tspan><tspan fill=\"blue\">/</tspan><tspan fill=\"red\">.</tspan><tspan fill=\"green\">(</tspan><tspan fill=\"blue\">,</tspan><tspan fill=\"red\">.</tspan><tspan fill=\"red\">.</tspan><tspan fill=\"green\">)</tspan><tspan fill=\"blue\">-</tspan><tspan fill=\"green\">&quot;</tspan><tspan fill=\"green\">&quot;</tspan><tspan fill=\"green\">&quot;</tspan><tspan fill=\"red\">.</tspan><tspan fill=\"blue\">-</tspan><tspan fill=\"green\">&quot;</tspan><tspan fill=\"green\">[</tspan><tspan fill=\"green\">]</tspan><tspan fill=\"blue\">/</tspan><tspan fill=\"blue\">,</tspan><tspan fill=\"green\">(</tspan><tspan fill=\"blue\">,</tspan><tspan fill=\"red\">.</tspan><tspan fill=\"red\">.</tspan><tspan fill=\"green\">)</tspan><tspan fill=\"blue\">-</tspan><tspan fill=\"green\">&quot;</tspan><tspan fill=\"green\">&quot;</tspan><tspan fill=\"green\">&quot;</tspan><tspan fill=\"red\">.</tspan><tspan fill=\"blue\">-</tspan><tspan fill=\"green\">&quot;</tspan><tspan fill=\"green\">[</tspan><tspan fill=\"green\">]</tspan><tspan fill=\"blue\">/</tspan><tspan fill=\"red\">.</tspan><tspan fill=\"blue\">-</tspan><tspan fill=\"blue\">-</tspan><tspan fill=\"green\">&quot;</tspan><tspan fill=\"green\">&quot;</tspan><tspan fill=\"green\">&quot;</tspan><tspan fill=\"red\">.</tspan><tspan fill=\"blue\">-</tspan><tspan fill=\"green\">&quot;</tspan><tspan fill=\"green\">[</tspan><tspan fill=\"green\">]</tspan><tspan fill=\"blue\">/</tspan><tspan fill=\"red\">.</tspan><tspan fill=\"red\">.</tspan><tspan fill=\"red\">.</tspan><tspan fill=\"red\">.</tspan><tspan fill=\"green\">(</tspan><tspan fill=\"blue\">–</tspan><tspan fill=\"green\">)</tspan><tspan fill=\"red\">.</tspan><tspan fill=\"blue\">%</tspan><tspan fill=\"blue\">%</tspan><tspan fill=\"red\">.</tspan><tspan fill=\"blue\">,</tspan><tspan fill=\"red\">.</tspan><tspan fill=\"blue\">-</tspan><tspan fill=\"green\">&quot;</tspan><tspan fill=\"green\">&quot;</tspan><tspan fill=\"green\">&quot;</tspan><tspan fill=\"red\">.</tspan><tspan fill=\"blue\">-</tspan><tspan fill=\"green\">&quot;</tspan><tspan fill=\"green\">[</tspan><tspan fill=\"green\">]</tspan><tspan fill=\"blue\">/</tspan><tspan fill=\"red\">.</tspan><tspan fill=\"blue\">/</tspan><tspan fill=\"green\">&quot;</tspan><tspan fill=\"green\">&quot;</tspan><tspan fill=\"blue\">/</tspan><tspan fill=\"blue\">-</tspan><tspan fill=\"blue\">-</tspan><tspan fill=\"green\">&quot;</tspan><tspan fill=\"green\">&quot;</tspan><tspan fill=\"green\">&quot;</tspan><tspan fill=\"red\">.</tspan><tspan fill=\"blue\">-</tspan><tspan fill=\"green\">&quot;</tspan><tspan fill=\"green\">[</tspan><tspan fill=\"green\">]</tspan><tspan fill=\"blue\">/</tspan><tspan fill=\"red\">.</tspan><tspan fill=\"green\">(</tspan><tspan fill=\"blue\">/</tspan><tspan fill=\"green\">)</tspan><tspan fill=\"red\">.</tspan><tspan fill=\"blue\">-</tspan><tspan fill=\"blue\">,</tspan><tspan fill=\"blue\">,</tspan><tspan fill=\"blue\">-</tspan><tspan fill=\"blue\">,</tspan><tspan fill=\"blue\">-</tspan><tspan fill=\"green\">(</tspan><tspan fill=\"green\">)</tspan><tspan fill=\"green\">(</tspan><tspan fill=\"blue\">-</tspan><tspan fill=\"green\">&quot;</tspan><tspan fill=\"green\">&quot;</tspan><tspan fill=\"green\">&quot;</tspan><tspan fill=\"blue\">-</tspan><tspan fill=\"blue\">-</tspan><tspan fill=\"green\">&quot;</tspan><tspan fill=\"blue\">/</tspan><tspan fill=\"green\">)</tspan><tspan fill=\"red\">.</tspan><tspan fill=\"blue\">-</tspan><tspan fill=\"red\">.</tspan><tspan fill=\"green\">(</tspan><tspan fill=\"blue\">,</tspan><tspan fill=\"blue\">,</tspan><tspan fill=\"green\">)</tspan><tspan fill=\"blue\">,</tspan><tspan fill=\"green\">(</tspan><tspan fill=\"green\">)</tspan><tspan fill=\"blue\">,</tspan><tspan fill=\"red\">.</tspan><tspan fill=\"blue\">/</tspan><tspan fill=\"blue\">,</tspan><tspan fill=\"blue\">,</tspan><tspan fill=\"red\">.</tspan><tspan fill=\"red\">.</tspan><tspan fill=\"blue\">,</tspan><tspan fill=\"blue\">,</tspan><tspan fill=\"blue\">,</tspan><tspan fill=\"blue\">,</tspan><tspan fill=\"blue\">,</tspan><tspan fill=\"red\">.</tspan><tspan fill=\"red\">.</tspan><tspan fill=\"red\">.</tspan><tspan fill=\"blue\">%</tspan><tspan fill=\"red\">.</tspan><tspan fill=\"blue\">,</tspan><tspan fill=\"green\">(</tspan><tspan fill=\"green\">)</tspan><tspan fill=\"red\">.</tspan><tspan fill=\"blue\">-</tspan><tspan fill=\"green\">(</tspan><tspan fill=\"green\">)</tspan><tspan fill=\"blue\">,</tspan><tspan fill=\"red\">.</tspan><tspan fill=\"red\">.</tspan><tspan fill=\"blue\">,</tspan><tspan fill=\"blue\">-</tspan><tspan fill=\"red\">.</tspan><tspan fill=\"blue\">,</tspan><tspan fill=\"green\">(</tspan><tspan fill=\"blue\">,</tspan><tspan fill=\"blue\">-</tspan><tspan fill=\"green\">)</tspan><tspan fill=\"red\">.</tspan><tspan fill=\"blue\">,</tspan><tspan fill=\"blue\">-</tspan><tspan fill=\"blue\">/</tspan><tspan fill=\"red\">.</tspan><tspan fill=\"blue\">-</tspan><tspan fill=\"blue\">,</tspan><tspan fill=\"green\">(</tspan><tspan fill=\"green\">)</tspan><tspan fill=\"blue\">-</tspan><tspan fill=\"blue\">-</tspan><tspan fill=\"blue\">-</tspan><tspan fill=\"green\">(</tspan><tspan fill=\"blue\">,</tspan><tspan fill=\"green\">)</tspan><tspan fill=\"green\">&#x27;</tspan><tspan fill=\"red\">.</tspan><tspan fill=\"blue\">/</tspan><tspan fill=\"blue\">-</tspan><tspan fill=\"green\">&quot;</tspan><tspan fill=\"blue\">-</tspan><tspan fill=\"blue\">-</tspan><tspan fill=\"green\">&quot;</tspan><tspan fill=\"green\">&quot;</tspan><tspan fill=\"green\">&quot;</tspan><tspan fill=\"blue\">-</tspan><tspan fill=\"blue\">-</tspan><tspan fill=\"blue\">-</tspan><tspan fill=\"green\">&quot;</tspan><tspan fill=\"green\">&quot;</tspan><tspan fill=\"red\">.</tspan><tspan fill=\"blue\">/</tspan><tspan fill=\"red\">.</tspan><tspan fill=\"red\">.</tspan><tspan fill=\"red\">.</tspan><tspan fill=\"blue\">/</tspan><tspan fill=\"blue\">-</tspan><tspan fill=\"blue\">/</tspan><tspan fill=\"red\">.</tspan><tspan fill=\"blue\">/</tspan><tspan fill=\"blue\">/</tspan><tspan fill=\"red\">!</tspan><tspan fill=\"blue\">-</tspan><tspan fill=\"blue\">-</tspan><tspan fill=\"blue\">-</tspan><tspan fill=\"blue\">-</tspan><tspan fill=\"green\">&quot;</tspan><tspan fill=\"blue\">-</tspan><tspan fill=\"blue\">-</tspan><tspan fill=\"blue\">-</tspan><tspan fill=\"green\">&quot;</tspan><tspan fill=\"green\">&quot;</tspan><tspan fill=\"green\">&quot;</tspan><tspan fill=\"green\">&quot;</tspan><tspan fill=\"green\">&quot;</tspan><tspan fill=\"blue\">:</tspan><tspan fill=\"green\">&quot;</tspan><tspan fill=\"blue\">:</tspan><tspan fill=\"blue\">/</tspan><tspan fill=\"red\">.</tspan><tspan fill=\"blue\">/</tspan><tspan fill=\"red\">.</tspan><tspan fill=\"red\">.</tspan><tspan fill=\"red\">.</tspan><tspan fill=\"green\">&quot;</tspan><tspan fill=\"blue\">:</tspan><tspan fill=\"green\">&quot;</tspan><tspan fill=\"green\">&quot;</tspan><tspan fill=\"blue\">/</tspan><tspan fill=\"green\">&quot;</tspan><tspan fill=\"green\">&quot;</tspan><tspan fill=\"green\">&quot;</tspan><tspan fill=\"green\">&quot;</tspan><tspan fill=\"green\">&quot;</tspan><tspan fill=\"green\">&quot;</tspan><tspan fill=\"blue\">/</tspan><tspan fill=\"green\">&quot;</tspan><tspan fill=\"green\">&quot;</tspan><tspan fill=\"green\">&quot;</tspan><tspan fill=\"green\">&quot;</tspan><tspan fill=\"blue\">/</tspan><tspan fill=\"green\">&quot;</tspan><tspan fill=\"green\">&quot;</tspan><tspan fill=\"green\">&quot;</tspan><tspan fill=\"green\">&quot;</tspan><tspan fill=\"blue\">/</tspan><tspan fill=\"green\">&quot;</tspan><tspan fill=\"green\">&quot;</tspan><tspan fill=\"green\">&quot;</tspan><tspan fill=\"green\">&quot;</tspan><tspan fill=\"blue\">/</tspan><tspan fill=\"blue\">/</tspan><tspan fill=\"green\">&quot;</tspan><tspan fill=\"green\">&quot;</tspan><tspan fill=\"green\">&quot;</tspan><tspan fill=\"green\">&quot;</tspan><tspan fill=\"green\">&quot;</tspan><tspan fill=\"green\">&quot;</tspan><tspan fill=\"blue\">/</tspan><tspan fill=\"green\">&quot;</tspan><tspan fill=\"green\">&quot;</tspan><tspan fill=\"green\">&quot;</tspan><tspan fill=\"green\">&quot;</tspan><tspan fill=\"green\">&quot;</tspan><tspan fill=\"green\">&quot;</tspan><tspan fill=\"blue\">/</tspan><tspan fill=\"green\">&quot;</tspan><tspan fill=\"green\">&quot;</tspan><tspan fill=\"green\">&quot;</tspan><tspan fill=\"green\">&quot;</tspan><tspan fill=\"green\">&quot;</tspan><tspan fill=\"green\">&quot;</tspan><tspan fill=\"blue\">/</tspan><tspan fill=\"green\">&quot;</tspan><tspan fill=\"green\">&quot;</tspan><tspan fill=\"green\">&quot;</tspan><tspan fill=\"green\">&quot;</tspan><tspan fill=\"green\">&quot;</tspan><tspan fill=\"green\">&quot;</tspan><tspan fill=\"blue\">/</tspan><tspan fill=\"blue\">/</tspan><tspan fill=\"blue\">/</tspan><tspan fill=\"green\">&quot;</tspan><tspan fill=\"green\">&quot;</tspan><tspan fill=\"green\">&quot;</tspan><tspan fill=\"green\">&quot;</tspan><tspan fill=\"green\">&quot;</tspan><tspan fill=\"green\">&quot;</tspan><tspan fill=\"blue\">/</tspan><tspan fill=\"blue\">/</tspan><tspan fill=\"green\">&quot;</tspan><tspan fill=\"green\">&quot;</tspan><tspan fill=\"green\">&quot;</tspan><tspan fill=\"green\">&quot;</tspan><tspan fill=\"green\">&quot;</tspan><tspan fill=\"green\">&quot;</tspan><tspan fill=\"blue\">/</tspan><tspan fill=\"green\">&quot;</tspan><tspan fill=\"green\">&quot;</tspan><tspan fill=\"green\">&quot;</tspan><tspan fill=\"green\">&quot;</tspan><tspan fill=\"green\">&quot;</tspan><tspan fill=\"green\">&quot;</tspan><tspan fill=\"blue\">-</tspan><tspan fill=\"blue\">-</tspan><tspan fill=\"green\">&quot;</tspan><tspan fill=\"green\">&quot;</tspan><tspan fill=\"blue\">:</tspan><tspan fill=\"green\">&quot;</tspan><tspan fill=\"green\">&quot;</tspan><tspan fill=\"black\">′</tspan><tspan fill=\"black\">′</tspan><tspan fill=\"blue\">/</tspan><tspan fill=\"blue\">-</tspan><tspan fill=\"blue\">/</tspan><tspan fill=\"green\">&quot;</tspan><tspan fill=\"green\">&quot;</tspan><tspan fill=\"green\">&quot;</tspan><tspan fill=\"green\">&quot;</tspan><tspan fill=\"green\">&quot;</tspan><tspan fill=\"green\">&quot;</tspan><tspan fill=\"blue\">–</tspan><tspan fill=\"blue\">/</tspan><tspan fill=\"blue\">/</tspan><tspan fill=\"blue\">/</tspan><tspan fill=\"green\">&quot;</tspan><tspan fill=\"green\">&quot;</tspan><tspan fill=\"green\">&quot;</tspan><tspan fill=\"green\">&quot;</tspan><tspan fill=\"green\">&quot;</tspan><tspan fill=\"green\">&quot;</tspan><tspan fill=\"blue\">/</tspan><tspan fill=\"green\">&quot;</tspan><tspan fill=\"green\">&quot;</tspan><tspan fill=\"green\">&quot;</tspan><tspan fill=\"green\">&quot;</tspan><tspan fill=\"green\">&quot;</tspan><tspan fill=\"green\">&quot;</tspan><tspan fill=\"blue\">/</tspan><tspan fill=\"green\">&quot;</tspan><tspan fill=\"green\">&quot;</tspan><tspan fill=\"green\">&quot;</tspan><tspan fill=\"green\">&quot;</tspan><tspan fill=\"green\">&quot;</tspan><tspan fill=\"green\">&quot;</tspan><tspan fill=\"blue\">-</tspan><tspan fill=\"blue\">-</tspan><tspan fill=\"green\">&quot;</tspan><tspan fill=\"green\">&quot;</tspan><tspan fill=\"blue\">:</tspan><tspan fill=\"green\">&quot;</tspan><tspan fill=\"green\">&quot;</tspan><tspan fill=\"black\">′</tspan><tspan fill=\"black\">′</tspan><tspan fill=\"blue\">/</tspan><tspan fill=\"blue\">-</tspan><tspan fill=\"blue\">/</tspan><tspan fill=\"green\">&quot;</tspan><tspan fill=\"green\">&quot;</tspan><tspan fill=\"green\">&quot;</tspan><tspan fill=\"green\">&quot;</tspan><tspan fill=\"green\">&quot;</tspan><tspan fill=\"green\">&quot;</tspan><tspan fill=\"blue\">–</tspan><tspan fill=\"blue\">/</tspan><tspan fill=\"blue\">/</tspan><tspan fill=\"blue\">/</tspan><tspan fill=\"green\">&quot;</tspan><tspan fill=\"green\">&quot;</tspan><tspan fill=\"green\">&quot;</tspan><tspan fill=\"green\">&quot;</tspan><tspan fill=\"green\">&quot;</tspan><tspan fill=\"green\">&quot;</tspan><tspan fill=\"blue\">/</tspan><tspan fill=\"green\">&quot;</tspan><tspan fill=\"green\">&quot;</tspan><tspan fill=\"green\">&quot;</tspan><tspan fill=\"green\">&quot;</tspan><tspan fill=\"green\">&quot;</tspan><tspan fill=\"green\">&quot;</tspan><tspan fill=\"blue\">/</tspan><tspan fill=\"green\">&quot;</tspan><tspan fill=\"green\">&quot;</tspan><tspan fill=\"green\">&quot;</tspan><tspan fill=\"green\">&quot;</tspan><tspan fill=\"green\">&quot;</tspan><tspan fill=\"green\">&quot;</tspan><tspan fill=\"blue\">-</tspan><tspan fill=\"blue\">-</tspan><tspan fill=\"green\">&quot;</tspan><tspan fill=\"green\">&quot;</tspan><tspan fill=\"blue\">:</tspan><tspan fill=\"green\">&quot;</tspan><tspan fill=\"green\">&quot;</tspan><tspan fill=\"black\">′</tspan><tspan fill=\"black\">′</tspan><tspan fill=\"blue\">/</tspan><tspan fill=\"blue\">-</tspan><tspan fill=\"blue\">/</tspan><tspan fill=\"green\">&quot;</tspan><tspan fill=\"green\">&quot;</tspan><tspan fill=\"green\">&quot;</tspan><tspan fill=\"green\">&quot;</tspan><tspan fill=\"green\">&quot;</tspan><tspan fill=\"green\">&quot;</tspan><tspan fill=\"blue\">–</tspan><tspan fill=\"blue\">/</tspan><tspan fill=\"blue\">/</tspan><tspan fill=\"blue\">/</tspan><tspan fill=\"green\">&quot;</tspan><tspan fill=\"green\">&quot;</tspan><tspan fill=\"green\">&quot;</tspan><tspan fill=\"green\">&quot;</tspan><tspan fill=\"green\">&quot;</tspan><tspan fill=\"green\">&quot;</tspan><tspan fill=\"blue\">/</tspan><tspan fill=\"green\">&quot;</tspan><tspan fill=\"green\">&quot;</tspan><tspan fill=\"green\">&quot;</tspan><tspan fill=\"green\">&quot;</tspan><tspan fill=\"green\">&quot;</tspan><tspan fill=\"green\">&quot;</tspan><tspan fill=\"blue\">/</tspan><tspan fill=\"green\">&quot;</tspan><tspan fill=\"green\">&quot;</tspan><tspan fill=\"green\">&quot;</tspan><tspan fill=\"green\">&quot;</tspan><tspan fill=\"green\">&quot;</tspan><tspan fill=\"green\">&quot;</tspan><tspan fill=\"blue\">-</tspan><tspan fill=\"blue\">-</tspan><tspan fill=\"green\">&quot;</tspan><tspan fill=\"green\">&quot;</tspan><tspan fill=\"blue\">:</tspan><tspan fill=\"green\">&quot;</tspan><tspan fill=\"green\">&quot;</tspan><tspan fill=\"black\">′</tspan><tspan fill=\"black\">′</tspan><tspan fill=\"blue\">/</tspan><tspan fill=\"blue\">-</tspan><tspan fill=\"blue\">/</tspan><tspan fill=\"green\">&quot;</tspan><tspan fill=\"green\">&quot;</tspan><tspan fill=\"green\">&quot;</tspan><tspan fill=\"green\">&quot;</tspan><tspan fill=\"green\">&quot;</tspan><tspan fill=\"green\">&quot;</tspan><tspan fill=\"blue\">–</tspan><tspan fill=\"blue\">/</tspan><tspan fill=\"blue\">/</tspan><tspan fill=\"blue\">/</tspan><tspan fill=\"green\">&quot;</tspan><tspan fill=\"green\">&quot;</tspan><tspan fill=\"green\">&quot;</tspan><tspan fill=\"green\">&quot;</tspan><tspan fill=\"green\">&quot;</tspan><tspan fill=\"green\">&quot;</tspan><tspan fill=\"blue\">/</tspan><tspan fill=\"blue\">/</tspan><tspan fill=\"green\">&quot;</tspan><tspan fill=\"green\">&quot;</tspan><tspan fill=\"green\">&quot;</tspan><tspan fill=\"green\">&quot;</tspan><tspan fill=\"green\">&quot;</tspan><tspan fill=\"green\">&quot;</tspan><tspan fill=\"blue\">/</tspan><tspan fill=\"green\">&quot;</tspan><tspan fill=\"green\">&quot;</tspan><tspan fill=\"green\">&quot;</tspan><tspan fill=\"green\">&quot;</tspan><tspan fill=\"green\">&quot;</tspan><tspan fill=\"green\">&quot;</tspan><tspan fill=\"blue\">-</tspan><tspan fill=\"blue\">-</tspan><tspan fill=\"green\">&quot;</tspan><tspan fill=\"green\">&quot;</tspan><tspan fill=\"blue\">:</tspan><tspan fill=\"green\">&quot;</tspan><tspan fill=\"green\">&quot;</tspan><tspan fill=\"black\">′</tspan><tspan fill=\"black\">′</tspan><tspan fill=\"blue\">/</tspan><tspan fill=\"blue\">-</tspan><tspan fill=\"blue\">/</tspan><tspan fill=\"green\">&quot;</tspan><tspan fill=\"green\">&quot;</tspan><tspan fill=\"green\">&quot;</tspan><tspan fill=\"green\">&quot;</tspan><tspan fill=\"green\">&quot;</tspan><tspan fill=\"green\">&quot;</tspan><tspan fill=\"blue\">–</tspan><tspan fill=\"blue\">/</tspan><tspan fill=\"blue\">/</tspan><tspan fill=\"blue\">/</tspan><tspan fill=\"green\">&quot;</tspan><tspan fill=\"green\">&quot;</tspan><tspan fill=\"green\">&quot;</tspan><tspan fill=\"green\">&quot;</tspan><tspan fill=\"green\">&quot;</tspan><tspan fill=\"green\">&quot;</tspan><tspan fill=\"blue\">/</tspan><tspan fill=\"green\">&quot;</tspan><tspan fill=\"green\">&quot;</tspan><tspan fill=\"green\">&quot;</tspan><tspan fill=\"green\">&quot;</tspan><tspan fill=\"green\">&quot;</tspan><tspan fill=\"green\">&quot;</tspan><tspan fill=\"blue\">/</tspan><tspan fill=\"green\">&quot;</tspan><tspan fill=\"green\">&quot;</tspan><tspan fill=\"green\">&quot;</tspan><tspan fill=\"green\">&quot;</tspan><tspan fill=\"green\">&quot;</tspan><tspan fill=\"green\">&quot;</tspan><tspan fill=\"blue\">-</tspan><tspan fill=\"blue\">-</tspan><tspan fill=\"green\">&quot;</tspan><tspan fill=\"green\">&quot;</tspan><tspan fill=\"blue\">:</tspan><tspan fill=\"green\">&quot;</tspan><tspan fill=\"green\">&quot;</tspan><tspan fill=\"black\">′</tspan><tspan fill=\"black\">′</tspan><tspan fill=\"blue\">/</tspan><tspan fill=\"blue\">-</tspan><tspan fill=\"blue\">/</tspan><tspan fill=\"green\">&quot;</tspan><tspan fill=\"green\">&quot;</tspan><tspan fill=\"green\">&quot;</tspan><tspan fill=\"green\">&quot;</tspan><tspan fill=\"green\">&quot;</tspan><tspan fill=\"green\">&quot;</tspan><tspan fill=\"blue\">–</tspan><tspan fill=\"blue\">/</tspan><tspan fill=\"blue\">/</tspan><tspan fill=\"blue\">/</tspan><tspan fill=\"green\">&quot;</tspan><tspan fill=\"green\">&quot;</tspan><tspan fill=\"green\">&quot;</tspan><tspan fill=\"green\">&quot;</tspan><tspan fill=\"green\">&quot;</tspan><tspan fill=\"green\">&quot;</tspan><tspan fill=\"blue\">/</tspan><tspan fill=\"green\">&quot;</tspan><tspan fill=\"green\">&quot;</tspan><tspan fill=\"green\">&quot;</tspan><tspan fill=\"green\">&quot;</tspan><tspan fill=\"green\">&quot;</tspan><tspan fill=\"green\">&quot;</tspan><tspan fill=\"blue\">/</tspan><tspan fill=\"green\">&quot;</tspan><tspan fill=\"green\">&quot;</tspan><tspan fill=\"green\">&quot;</tspan><tspan fill=\"green\">&quot;</tspan><tspan fill=\"green\">&quot;</tspan><tspan fill=\"green\">&quot;</tspan><tspan fill=\"blue\">-</tspan><tspan fill=\"blue\">-</tspan><tspan fill=\"green\">&quot;</tspan><tspan fill=\"green\">&quot;</tspan><tspan fill=\"blue\">:</tspan><tspan fill=\"green\">&quot;</tspan><tspan fill=\"green\">&quot;</tspan><tspan fill=\"black\">′</tspan><tspan fill=\"black\">′</tspan><tspan fill=\"blue\">/</tspan><tspan fill=\"blue\">-</tspan><tspan fill=\"blue\">/</tspan><tspan fill=\"green\">&quot;</tspan><tspan fill=\"green\">&quot;</tspan><tspan fill=\"green\">&quot;</tspan><tspan fill=\"green\">&quot;</tspan><tspan fill=\"green\">&quot;</tspan><tspan fill=\"green\">&quot;</tspan><tspan fill=\"blue\">–</tspan><tspan fill=\"blue\">/</tspan><tspan fill=\"blue\">/</tspan><tspan fill=\"blue\">/</tspan><tspan fill=\"green\">&quot;</tspan><tspan fill=\"green\">&quot;</tspan><tspan fill=\"green\">&quot;</tspan><tspan fill=\"green\">&quot;</tspan><tspan fill=\"green\">&quot;</tspan><tspan fill=\"green\">&quot;</tspan><tspan fill=\"blue\">/</tspan><tspan fill=\"green\">&quot;</tspan><tspan fill=\"green\">&quot;</tspan><tspan fill=\"green\">&quot;</tspan><tspan fill=\"green\">&quot;</tspan><tspan fill=\"green\">&quot;</tspan><tspan fill=\"green\">&quot;</tspan><tspan fill=\"blue\">/</tspan><tspan fill=\"green\">&quot;</tspan><tspan fill=\"green\">&quot;</tspan><tspan fill=\"green\">&quot;</tspan><tspan fill=\"green\">&quot;</tspan><tspan fill=\"green\">&quot;</tspan><tspan fill=\"green\">&quot;</tspan><tspan fill=\"blue\">-</tspan><tspan fill=\"blue\">-</tspan><tspan fill=\"green\">&quot;</tspan><tspan fill=\"green\">&quot;</tspan><tspan fill=\"blue\">:</tspan><tspan fill=\"green\">&quot;</tspan><tspan fill=\"green\">&quot;</tspan><tspan fill=\"black\">′</tspan><tspan fill=\"black\">′</tspan><tspan fill=\"blue\">/</tspan><tspan fill=\"blue\">-</tspan><tspan fill=\"blue\">/</tspan><tspan fill=\"green\">&quot;</tspan><tspan fill=\"green\">&quot;</tspan><tspan fill=\"green\">&quot;</tspan><tspan fill=\"green\">&quot;</tspan><tspan fill=\"green\">&quot;</tspan><tspan fill=\"green\">&quot;</tspan><tspan fill=\"blue\">–</tspan><tspan fill=\"blue\">/</tspan><tspan fill=\"blue\">/</tspan><tspan fill=\"blue\">/</tspan><tspan fill=\"green\">&quot;</tspan><tspan fill=\"green\">&quot;</tspan><tspan fill=\"green\">&quot;</tspan><tspan fill=\"green\">&quot;</tspan><tspan fill=\"green\">&quot;</tspan><tspan fill=\"green\">&quot;</tspan><tspan fill=\"blue\">/</tspan><tspan fill=\"blue\">/</tspan><tspan fill=\"green\">&quot;</tspan><tspan fill=\"green\">&quot;</tspan><tspan fill=\"green\">&quot;</tspan><tspan fill=\"green\">&quot;</tspan><tspan fill=\"green\">&quot;</tspan><tspan fill=\"green\">&quot;</tspan><tspan fill=\"blue\">/</tspan><tspan fill=\"green\">&quot;</tspan><tspan fill=\"green\">&quot;</tspan><tspan fill=\"green\">&quot;</tspan><tspan fill=\"green\">&quot;</tspan><tspan fill=\"green\">&quot;</tspan><tspan fill=\"green\">&quot;</tspan><tspan fill=\"blue\">-</tspan><tspan fill=\"blue\">-</tspan><tspan fill=\"green\">&quot;</tspan><tspan fill=\"green\">&quot;</tspan><tspan fill=\"blue\">:</tspan><tspan fill=\"green\">&quot;</tspan><tspan fill=\"green\">&quot;</tspan><tspan fill=\"black\">′</tspan><tspan fill=\"black\">′</tspan><tspan fill=\"blue\">/</tspan><tspan fill=\"blue\">-</tspan><tspan fill=\"blue\">/</tspan><tspan fill=\"green\">&quot;</tspan><tspan fill=\"green\">&quot;</tspan><tspan fill=\"green\">&quot;</tspan><tspan fill=\"green\">&quot;</tspan><tspan fill=\"green\">&quot;</tspan><tspan fill=\"green\">&quot;</tspan><tspan fill=\"blue\">–</tspan><tspan fill=\"blue\">/</tspan><tspan fill=\"blue\">/</tspan><tspan fill=\"blue\">/</tspan><tspan fill=\"green\">&quot;</tspan><tspan fill=\"green\">&quot;</tspan><tspan fill=\"green\">&quot;</tspan><tspan fill=\"green\">&quot;</tspan><tspan fill=\"green\">&quot;</tspan><tspan fill=\"green\">&quot;</tspan><tspan fill=\"blue\">/</tspan><tspan fill=\"green\">&quot;</tspan><tspan fill=\"green\">&quot;</tspan><tspan fill=\"green\">&quot;</tspan><tspan fill=\"green\">&quot;</tspan><tspan fill=\"green\">&quot;</tspan><tspan fill=\"green\">&quot;</tspan><tspan fill=\"blue\">/</tspan><tspan fill=\"green\">&quot;</tspan><tspan fill=\"green\">&quot;</tspan><tspan fill=\"green\">&quot;</tspan><tspan fill=\"green\">&quot;</tspan><tspan fill=\"green\">&quot;</tspan><tspan fill=\"green\">&quot;</tspan><tspan fill=\"blue\">-</tspan><tspan fill=\"blue\">-</tspan><tspan fill=\"green\">&quot;</tspan><tspan fill=\"green\">&quot;</tspan><tspan fill=\"blue\">:</tspan><tspan fill=\"green\">&quot;</tspan><tspan fill=\"green\">&quot;</tspan><tspan fill=\"black\">′</tspan><tspan fill=\"black\">′</tspan><tspan fill=\"blue\">/</tspan><tspan fill=\"blue\">-</tspan><tspan fill=\"blue\">/</tspan><tspan fill=\"green\">&quot;</tspan><tspan fill=\"green\">&quot;</tspan><tspan fill=\"green\">&quot;</tspan><tspan fill=\"green\">&quot;</tspan><tspan fill=\"green\">&quot;</tspan><tspan fill=\"green\">&quot;</tspan><tspan fill=\"blue\">–</tspan><tspan fill=\"blue\">/</tspan><tspan fill=\"blue\">/</tspan><tspan fill=\"blue\">/</tspan><tspan fill=\"green\">&quot;</tspan><tspan fill=\"green\">&quot;</tspan><tspan fill=\"green\">&quot;</tspan><tspan fill=\"green\">&quot;</tspan><tspan fill=\"green\">&quot;</tspan><tspan fill=\"green\">&quot;</tspan><tspan fill=\"blue\">/</tspan><tspan fill=\"green\">&quot;</tspan><tspan fill=\"green\">&quot;</tspan><tspan fill=\"green\">&quot;</tspan><tspan fill=\"green\">&quot;</tspan><tspan fill=\"green\">&quot;</tspan><tspan fill=\"green\">&quot;</tspan><tspan fill=\"blue\">/</tspan><tspan fill=\"green\">&quot;</tspan><tspan fill=\"green\">&quot;</tspan><tspan fill=\"green\">&quot;</tspan><tspan fill=\"green\">&quot;</tspan><tspan fill=\"green\">&quot;</tspan><tspan fill=\"green\">&quot;</tspan><tspan fill=\"blue\">-</tspan><tspan fill=\"blue\">-</tspan><tspan fill=\"green\">&quot;</tspan><tspan fill=\"green\">&quot;</tspan><tspan fill=\"blue\">:</tspan><tspan fill=\"green\">&quot;</tspan><tspan fill=\"green\">&quot;</tspan><tspan fill=\"black\">′</tspan><tspan fill=\"black\">′</tspan><tspan fill=\"blue\">/</tspan><tspan fill=\"blue\">-</tspan><tspan fill=\"blue\">/</tspan><tspan fill=\"green\">&quot;</tspan><tspan fill=\"green\">&quot;</tspan><tspan fill=\"green\">&quot;</tspan><tspan fill=\"green\">&quot;</tspan><tspan fill=\"green\">&quot;</tspan><tspan fill=\"green\">&quot;</tspan><tspan fill=\"blue\">–</tspan><tspan fill=\"blue\">/</tspan><tspan fill=\"blue\">/</tspan><tspan fill=\"blue\">/</tspan><tspan fill=\"green\">&quot;</tspan><tspan fill=\"green\">&quot;</tspan><tspan fill=\"green\">&quot;</tspan><tspan fill=\"green\">&quot;</tspan><tspan fill=\"green\">&quot;</tspan><tspan fill=\"green\">&quot;</tspan><tspan fill=\"blue\">/</tspan><tspan fill=\"green\">&quot;</tspan><tspan fill=\"green\">&quot;</tspan><tspan fill=\"green\">&quot;</tspan><tspan fill=\"green\">&quot;</tspan><tspan fill=\"green\">&quot;</tspan><tspan fill=\"green\">&quot;</tspan><tspan fill=\"blue\">/</tspan><tspan fill=\"green\">&quot;</tspan><tspan fill=\"green\">&quot;</tspan><tspan fill=\"green\">&quot;</tspan><tspan fill=\"green\">&quot;</tspan><tspan fill=\"green\">&quot;</tspan><tspan fill=\"green\">&quot;</tspan><tspan fill=\"blue\">-</tspan><tspan fill=\"blue\">-</tspan><tspan fill=\"green\">&quot;</tspan><tspan fill=\"green\">&quot;</tspan><tspan fill=\"blue\">:</tspan><tspan fill=\"green\">&quot;</tspan><tspan fill=\"green\">&quot;</tspan><tspan fill=\"black\">′</tspan><tspan fill=\"black\">′</tspan><tspan fill=\"blue\">/</tspan><tspan fill=\"blue\">-</tspan><tspan fill=\"blue\">/</tspan><tspan fill=\"green\">&quot;</tspan><tspan fill=\"green\">&quot;</tspan><tspan fill=\"green\">&quot;</tspan><tspan fill=\"green\">&quot;</tspan><tspan fill=\"green\">&quot;</tspan><tspan fill=\"green\">&quot;</tspan><tspan fill=\"blue\">–</tspan><tspan fill=\"blue\">/</tspan><tspan fill=\"blue\">/</tspan><tspan fill=\"blue\">/</tspan><tspan fill=\"blue\">/</tspan><tspan fill=\"blue\">/</tspan><tspan fill=\"blue\">/</tspan><tspan fill=\"blue\">-</tspan><tspan fill=\"blue\">-</tspan><tspan fill=\"green\">&quot;</tspan><tspan fill=\"green\">&quot;</tspan><tspan fill=\"blue\">/</tspan><tspan fill=\"blue\">/</tspan><tspan fill=\"blue\">,</tspan><tspan fill=\"blue\">/</tspan><tspan fill=\"red\">.</tspan><tspan fill=\"red\">.</tspan><tspan fill=\"blue\">/</tspan><tspan fill=\"blue\">/</tspan><tspan fill=\"blue\">/</tspan><tspan fill=\"blue\">-</tspan><tspan fill=\"blue\">-</tspan><tspan fill=\"blue\">/</tspan><tspan fill=\"blue\">-</tspan><tspan fill=\"blue\">/</tspan><tspan fill=\"blue\">/</tspan><tspan fill=\"blue\">/</tspan><tspan fill=\"green\">&quot;</tspan><tspan fill=\"green\">&quot;</tspan><tspan fill=\"blue\">/</tspan><tspan fill=\"green\">&quot;</tspan><tspan fill=\"green\">&quot;</tspan><tspan fill=\"blue\">/</tspan><tspan fill=\"blue\">/</tspan><tspan fill=\"blue\">,</tspan><tspan fill=\"green\">(</tspan><tspan fill=\"blue\">,</tspan><tspan fill=\"green\">)</tspan><tspan fill=\"red\">.</tspan><tspan fill=\"blue\">-</tspan><tspan fill=\"blue\">-</tspan><tspan fill=\"red\">.</tspan><tspan fill=\"blue\">-</tspan><tspan fill=\"blue\">-</tspan><tspan fill=\"blue\">/</tspan><tspan fill=\"blue\">,</tspan><tspan fill=\"red\">.</tspan><tspan fill=\"blue\">-</tspan><tspan fill=\"blue\">-</tspan><tspan fill=\"red\">.</tspan><tspan fill=\"blue\">/</tspan><tspan fill=\"blue\">/</tspan><tspan fill=\"green\">&quot;</tspan><tspan fill=\"green\">&quot;</tspan><tspan fill=\"blue\">/</tspan><tspan fill=\"green\">(</tspan><tspan fill=\"red\">.</tspan><tspan fill=\"blue\">/</tspan><tspan fill=\"red\">.</tspan><tspan fill=\"blue\">/</tspan><tspan fill=\"green\">)</tspan><tspan fill=\"blue\">/</tspan><tspan fill=\"blue\">&amp;</tspan><tspan fill=\"blue\">;</tspan><tspan fill=\"blue\">&amp;</tspan><tspan fill=\"blue\">;</tspan><tspan fill=\"red\">.</tspan><tspan fill=\"blue\">-</tspan><tspan fill=\"red\">.</tspan><tspan fill=\"red\">.</tspan><tspan fill=\"red\">.</tspan><tspan fill=\"blue\">-</tspan><tspan fill=\"green\">&quot;</tspan><tspan fill=\"green\">&quot;</tspan><tspan fill=\"green\">&quot;</tspan><tspan fill=\"blue\">-</tspan><tspan fill=\"blue\">-</tspan><tspan fill=\"green\">&quot;</tspan><tspan fill=\"blue\">/</tspan><tspan fill=\"blue\">-</tspan><tspan fill=\"green\">&quot;</tspan><tspan fill=\"green\">&quot;</tspan><tspan fill=\"green\">&quot;</tspan><tspan fill=\"blue\">-</tspan><tspan fill=\"blue\">-</tspan><tspan fill=\"green\">&quot;</tspan><tspan fill=\"blue\">/</tspan><tspan fill=\"red\">.</tspan><tspan fill=\"blue\">/</tspan><tspan fill=\"green\">&quot;</tspan><tspan fill=\"blue\">-</tspan><tspan fill=\"blue\">-</tspan><tspan fill=\"green\">&quot;</tspan><tspan fill=\"green\">&quot;</tspan><tspan fill=\"green\">&quot;</tspan><tspan fill=\"blue\">-</tspan><tspan fill=\"blue\">-</tspan><tspan fill=\"blue\">-</tspan><tspan fill=\"green\">&quot;</tspan><tspan fill=\"green\">&quot;</tspan><tspan fill=\"red\">.</tspan><tspan fill=\"blue\">/</tspan><tspan fill=\"red\">.</tspan><tspan fill=\"red\">.</tspan><tspan fill=\"red\">.</tspan><tspan fill=\"blue\">/</tspan><tspan fill=\"blue\">-</tspan><tspan fill=\"blue\">/</tspan><tspan fill=\"red\">.</tspan><tspan fill=\"blue\">/</tspan><tspan fill=\"green\">(</tspan><tspan fill=\"green\">)</tspan><tspan fill=\"green\">(</tspan><tspan fill=\"green\">)</tspan><tspan fill=\"red\">.</tspan><tspan fill=\"red\">.</tspan><tspan fill=\"blue\">–</tspan><tspan fill=\"red\">.</tspan><tspan fill=\"blue\">/</tspan><tspan fill=\"blue\">/</tspan><tspan fill=\"green\">&quot;</tspan><tspan fill=\"green\">&quot;</tspan><tspan fill=\"green\">&quot;</tspan><tspan fill=\"green\">&quot;</tspan><tspan fill=\"blue\">:</tspan><tspan fill=\"green\">&quot;</tspan><tspan fill=\"blue\">:</tspan><tspan fill=\"blue\">/</tspan><tspan fill=\"red\">.</tspan><tspan fill=\"blue\">/</tspan><tspan fill=\"red\">.</tspan><tspan fill=\"red\">.</tspan><tspan fill=\"red\">.</tspan><tspan fill=\"green\">&quot;</tspan><tspan fill=\"blue\">:</tspan><tspan fill=\"green\">&quot;</tspan><tspan fill=\"green\">&quot;</tspan><tspan fill=\"blue\">/</tspan><tspan fill=\"blue\">/</tspan><tspan fill=\"green\">&quot;</tspan><tspan fill=\"blue\">-</tspan><tspan fill=\"blue\">-</tspan><tspan fill=\"green\">&quot;</tspan><tspan fill=\"green\">&quot;</tspan><tspan fill=\"green\">&quot;</tspan><tspan fill=\"blue\">-</tspan><tspan fill=\"blue\">-</tspan><tspan fill=\"blue\">-</tspan><tspan fill=\"green\">&quot;</tspan><tspan fill=\"green\">&quot;</tspan><tspan fill=\"red\">.</tspan><tspan fill=\"blue\">/</tspan><tspan fill=\"red\">.</tspan><tspan fill=\"red\">.</tspan><tspan fill=\"red\">.</tspan><tspan fill=\"blue\">/</tspan><tspan fill=\"blue\">-</tspan><tspan fill=\"blue\">/</tspan><tspan fill=\"red\">.</tspan><tspan fill=\"blue\">/</tspan><tspan fill=\"green\">(</tspan><tspan fill=\"green\">)</tspan><tspan fill=\"red\">.</tspan><tspan fill=\"blue\">–</tspan><tspan fill=\"blue\">,</tspan><tspan fill=\"green\">(</tspan><tspan fill=\"blue\">/</tspan><tspan fill=\"green\">)</tspan><tspan fill=\"blue\">;</tspan><tspan fill=\"blue\">,</tspan><tspan fill=\"blue\">/</tspan><tspan fill=\"blue\">/</tspan><tspan fill=\"blue\">;</tspan><tspan fill=\"blue\">,</tspan><tspan fill=\"blue\">;</tspan><tspan fill=\"blue\">–</tspan><tspan fill=\"blue\">,</tspan><tspan fill=\"red\">.</tspan><tspan fill=\"blue\">/</tspan><tspan fill=\"blue\">/</tspan><tspan fill=\"green\">&quot;</tspan><tspan fill=\"green\">&quot;</tspan><tspan fill=\"green\">&quot;</tspan><tspan fill=\"green\">&quot;</tspan><tspan fill=\"blue\">:</tspan><tspan fill=\"green\">&quot;</tspan><tspan fill=\"blue\">:</tspan><tspan fill=\"blue\">/</tspan><tspan fill=\"red\">.</tspan><tspan fill=\"blue\">/</tspan><tspan fill=\"red\">.</tspan><tspan fill=\"red\">.</tspan><tspan fill=\"red\">.</tspan><tspan fill=\"green\">&quot;</tspan><tspan fill=\"blue\">:</tspan><tspan fill=\"green\">&quot;</tspan><tspan fill=\"green\">&quot;</tspan><tspan fill=\"blue\">/</tspan><tspan fill=\"blue\">/</tspan><tspan fill=\"blue\">/</tspan><tspan fill=\"blue\">/</tspan><tspan fill=\"green\">&quot;</tspan><tspan fill=\"green\">&quot;</tspan><tspan fill=\"blue\">/</tspan><tspan fill=\"blue\">/</tspan><tspan fill=\"red\">.</tspan><tspan fill=\"blue\">,</tspan><tspan fill=\"red\">.</tspan><tspan fill=\"blue\">,</tspan><tspan fill=\"blue\">,</tspan><tspan fill=\"blue\">,</tspan><tspan fill=\"red\">.</tspan><tspan fill=\"blue\">,</tspan><tspan fill=\"blue\">,</tspan><tspan fill=\"blue\">-</tspan><tspan fill=\"green\">&quot;</tspan><tspan fill=\"green\">&quot;</tspan><tspan fill=\"green\">&quot;</tspan><tspan fill=\"red\">.</tspan><tspan fill=\"blue\">-</tspan><tspan fill=\"green\">&quot;</tspan><tspan fill=\"green\">[</tspan><tspan fill=\"green\">]</tspan><tspan fill=\"blue\">/</tspan><tspan fill=\"blue\">,</tspan><tspan fill=\"red\">.</tspan><tspan fill=\"blue\">,</tspan><tspan fill=\"blue\">,</tspan><tspan fill=\"blue\">-</tspan><tspan fill=\"blue\">,</tspan><tspan fill=\"blue\">/</tspan><tspan fill=\"green\">(</tspan><tspan fill=\"blue\">%</tspan><tspan fill=\"green\">)</tspan><tspan fill=\"blue\">/</tspan><tspan fill=\"blue\">,</tspan><tspan fill=\"blue\">-</tspan><tspan fill=\"green\">&quot;</tspan><tspan fill=\"green\">&quot;</tspan><tspan fill=\"green\">&quot;</tspan><tspan fill=\"red\">.</tspan><tspan fill=\"blue\">-</tspan><tspan fill=\"green\">&quot;</tspan><tspan fill=\"green\">[</tspan><tspan fill=\"green\">]</tspan><tspan fill=\"blue\">/</tspan><tspan fill=\"red\">.</tspan><tspan fill=\"blue\">,</tspan><tspan fill=\"green\">(</tspan><tspan fill=\"blue\">–</tspan><tspan fill=\"green\">)</tspan><tspan fill=\"blue\">,</tspan><tspan fill=\"green\">(</tspan><tspan fill=\"green\">)</tspan><tspan fill=\"blue\">-</tspan><tspan fill=\"green\">&quot;</tspan><tspan fill=\"green\">&quot;</tspan><tspan fill=\"green\">&quot;</tspan><tspan fill=\"red\">.</tspan><tspan fill=\"blue\">-</tspan><tspan fill=\"green\">&quot;</tspan><tspan fill=\"green\">[</tspan><tspan fill=\"green\">]</tspan><tspan fill=\"blue\">/</tspan><tspan fill=\"blue\">–</tspan><tspan fill=\"blue\">-</tspan><tspan fill=\"green\">&quot;</tspan><tspan fill=\"green\">&quot;</tspan><tspan fill=\"green\">&quot;</tspan><tspan fill=\"red\">.</tspan><tspan fill=\"blue\">-</tspan><tspan fill=\"green\">&quot;</tspan><tspan fill=\"green\">[</tspan><tspan fill=\"green\">]</tspan><tspan fill=\"blue\">/</tspan><tspan fill=\"blue\">,</tspan><tspan fill=\"blue\">-</tspan><tspan fill=\"blue\">,</tspan><tspan fill=\"blue\">,</tspan><tspan fill=\"blue\">,</tspan><tspan fill=\"blue\">-</tspan><tspan fill=\"green\">&quot;</tspan><tspan fill=\"green\">&quot;</tspan><tspan fill=\"green\">&quot;</tspan><tspan fill=\"red\">.</tspan><tspan fill=\"blue\">-</tspan><tspan fill=\"green\">&quot;</tspan><tspan fill=\"green\">[</tspan><tspan fill=\"green\">]</tspan><tspan fill=\"blue\">/</tspan><tspan fill=\"blue\">-</tspan><tspan fill=\"blue\">-</tspan><tspan fill=\"green\">&quot;</tspan><tspan fill=\"green\">&quot;</tspan><tspan fill=\"green\">&quot;</tspan><tspan fill=\"red\">.</tspan><tspan fill=\"blue\">-</tspan><tspan fill=\"green\">&quot;</tspan><tspan fill=\"green\">[</tspan><tspan fill=\"green\">]</tspan><tspan fill=\"blue\">/</tspan><tspan fill=\"red\">.</tspan><tspan fill=\"blue\">/</tspan><tspan fill=\"red\">.</tspan><tspan fill=\"red\">.</tspan><tspan fill=\"blue\">/</tspan><tspan fill=\"red\">.</tspan><tspan fill=\"blue\">/</tspan><tspan fill=\"red\">.</tspan><tspan fill=\"blue\">/</tspan><tspan fill=\"red\">.</tspan><tspan fill=\"green\">“</tspan><tspan fill=\"green\">”</tspan><tspan fill=\"red\">.</tspan><tspan fill=\"red\">.</tspan><tspan fill=\"blue\">/</tspan><tspan fill=\"red\">.</tspan><tspan fill=\"blue\">,</tspan><tspan fill=\"red\">.</tspan><tspan fill=\"blue\">,</tspan><tspan fill=\"blue\">,</tspan><tspan fill=\"red\">.</tspan><tspan fill=\"blue\">-</tspan><tspan fill=\"red\">.</tspan><tspan fill=\"green\">(</tspan><tspan fill=\"green\">)</tspan><tspan fill=\"green\">(</tspan><tspan fill=\"green\">)</tspan><tspan fill=\"red\">.</tspan><tspan fill=\"blue\">/</tspan><tspan fill=\"blue\">,</tspan><tspan fill=\"blue\">,</tspan><tspan fill=\"red\">.</tspan><tspan fill=\"red\">.</tspan><tspan fill=\"blue\">/</tspan><tspan fill=\"blue\">/</tspan><tspan fill=\"blue\">/</tspan></textPath></text></svg>"
      ],
      "text/plain": [
       "Corpus location: /Users/mpacer/jupyter/allofplos/allofplos/starter_corpus\n",
       "Number of files: 122"
      ]
     },
     "execution_count": 77,
     "metadata": {},
     "output_type": "execute_result"
    }
   ],
   "source": [
    "corpus"
   ]
  },
  {
   "cell_type": "code",
   "execution_count": null,
   "metadata": {},
   "outputs": [],
   "source": []
  }
 ],
 "metadata": {
  "kernelspec": {
   "display_name": "Python 3",
   "language": "python",
   "name": "python3"
  },
  "language_info": {
   "codemirror_mode": {
    "name": "ipython",
    "version": 3
   },
   "file_extension": ".py",
   "mimetype": "text/x-python",
   "name": "python",
   "nbconvert_exporter": "python",
   "pygments_lexer": "ipython3",
   "version": "3.6.5"
  }
 },
 "nbformat": 4,
 "nbformat_minor": 2
}
