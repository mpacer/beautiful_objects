{
 "cells": [
  {
   "cell_type": "markdown",
   "metadata": {},
   "source": [
    "# Updating rendered XML"
   ]
  },
  {
   "cell_type": "code",
   "execution_count": 1,
   "metadata": {},
   "outputs": [],
   "source": [
    "from allofplos import starterdir, Corpus, Article\n",
    "from article_utils import get_body\n",
    "\n",
    "corpus = Corpus(starterdir)\n",
    "article = corpus[0]\n",
    "body = get_body(article)"
   ]
  },
  {
   "cell_type": "code",
   "execution_count": 2,
   "metadata": {
    "scrolled": true
   },
   "outputs": [
    {
     "data": {
      "text/html": [
       "<div> \n",
       "<span style=\"display:inline-flex;\">Title: <span style=\"display:inline-flex;margin-left:.5em;\"><a href=\"http://journals.plos.org/plosbiology/article?id=10.1371/journal.pbio.0020188\"><em>Taking the Stem Cell Debate to the Public</em></a></span></span></br>\n",
       "<span>DOI: <span><span><a href=\"https://doi.org/10.1371/journal.pbio.0020188\"><code>10.1371/journal.pbio.0020188</code></a></span> \n",
       "</div>\n"
      ],
      "text/plain": [
       "DOI: 10.1371/journal.pbio.0020188\n",
       "Title: Taking the Stem Cell Debate to the Public"
      ]
     },
     "metadata": {},
     "output_type": "display_data"
    }
   ],
   "source": [
    "empty_id = display(None, display_id=True)"
   ]
  },
  {
   "cell_type": "code",
   "execution_count": 4,
   "metadata": {},
   "outputs": [],
   "source": [
    "from display_xml import XML\n",
    "rich_xml = XML(body, disp_id=empty_id.display_id)"
   ]
  },
  {
   "cell_type": "code",
   "execution_count": 7,
   "metadata": {},
   "outputs": [],
   "source": [
    "rich_xml.style='autumn'"
   ]
  },
  {
   "cell_type": "code",
   "execution_count": 8,
   "metadata": {},
   "outputs": [],
   "source": [
    "rich_xml.style='colorful'"
   ]
  },
  {
   "cell_type": "code",
   "execution_count": 3,
   "metadata": {},
   "outputs": [
    {
     "data": {
      "text/html": [
       "<div> \n",
       "<span style=\"display:inline-flex;\">Title: <span style=\"display:inline-flex;margin-left:.5em;\"><a href=\"http://journals.plos.org/plosbiology/article?id=10.1371/journal.pbio.0020188\"><em>Taking the Stem Cell Debate to the Public</em></a></span></span></br>\n",
       "<span>DOI: <span><span><a href=\"https://doi.org/10.1371/journal.pbio.0020188\"><code>10.1371/journal.pbio.0020188</code></a></span> \n",
       "</div>\n"
      ],
      "text/plain": [
       "DOI: 10.1371/journal.pbio.0020188\n",
       "Title: Taking the Stem Cell Debate to the Public"
      ]
     },
     "metadata": {},
     "output_type": "display_data"
    }
   ],
   "source": [
    "display(article, display_id=empty_id.display_id);"
   ]
  },
  {
   "cell_type": "markdown",
   "metadata": {},
   "source": [
    "# Integrating `display_id`s in custom classes\n",
    "\n",
    "Add update display to `__init__` and use `@property` setters.\n",
    "\n",
    "```python\n",
    "if disp_id:\n",
    "    self.disp_id = disp_id\n",
    "    update_display(self, display_id=self.disp_id)\n",
    "```"
   ]
  },
  {
   "cell_type": "markdown",
   "metadata": {},
   "source": []
  },
  {
   "cell_type": "markdown",
   "metadata": {},
   "source": [
    "\n",
    "\n",
    "\n",
    "\n",
    "\n",
    "Steps to reproduce demo from talk:\n",
    "\n",
    "1. Get the first article from the allofplos starter corpus.\n",
    "2. Get the body tag of the article.\n",
    "3. Create an empty display object, getting a display_id.\n",
    "4. Jump down to bottom of notebook.\n",
    "5. Update display_id with the article.\n",
    "6. Pass display_id to XML object.\n",
    "7. Update style info for XML object.\n"
   ]
  }
 ],
 "metadata": {
  "kernelspec": {
   "display_name": "Python 3",
   "language": "python",
   "name": "python3"
  },
  "language_info": {
   "codemirror_mode": {
    "name": "ipython",
    "version": 3
   },
   "file_extension": ".py",
   "mimetype": "text/x-python",
   "name": "python",
   "nbconvert_exporter": "python",
   "pygments_lexer": "ipython3",
   "version": "3.6.5"
  }
 },
 "nbformat": 4,
 "nbformat_minor": 2
}
