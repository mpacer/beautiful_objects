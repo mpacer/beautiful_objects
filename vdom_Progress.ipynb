{
 "cells": [
  {
   "cell_type": "markdown",
   "metadata": {},
   "source": [
    "# `vdom` Progress bars"
   ]
  },
  {
   "cell_type": "markdown",
   "metadata": {},
   "source": [
    "### Buidling a progressbar from styled divs"
   ]
  },
  {
   "cell_type": "markdown",
   "metadata": {},
   "source": [
    "## `vdom` Basics"
   ]
  },
  {
   "cell_type": "code",
   "execution_count": 1,
   "metadata": {},
   "outputs": [],
   "source": [
    "from vdom import div, style"
   ]
  },
  {
   "cell_type": "code",
   "execution_count": 2,
   "metadata": {},
   "outputs": [
    {
     "data": {
      "application/vdom.v1+json": {
       "attributes": {
        "style": {
         "backgroundColor": "green",
         "display": "inline-block",
         "height": "10px",
         "width": "20%"
        }
       },
       "children": [],
       "tagName": "div"
      },
      "text/html": [
       "<div style=\"background-color: green; display: inline-block; height: 10px; width: 20%\"></div>"
      ],
      "text/plain": [
       "<div style=\"background-color: green; display: inline-block; height: 10px; width: 20%\"></div>"
      ]
     },
     "execution_count": 2,
     "metadata": {},
     "output_type": "execute_result"
    }
   ],
   "source": [
    "div(\n",
    "    style=dict(\n",
    "        width= \"20%\",\n",
    "        height= \"10px\",\n",
    "        backgroundColor= \"green\",\n",
    "        display= \"inline-block\"\n",
    "    )\n",
    ")"
   ]
  },
  {
   "cell_type": "code",
   "execution_count": 3,
   "metadata": {},
   "outputs": [
    {
     "data": {
      "application/vdom.v1+json": {
       "attributes": {},
       "children": [
        {
         "attributes": {},
         "children": [
          "\n    div.mydiv{\n      width: 20%;\n      height: 10px;\n      background-color: green;\n      display: inline-block;\n    }\n    "
         ],
         "tagName": "style"
        },
        {
         "attributes": {
          "class": "mydiv"
         },
         "children": [],
         "tagName": "div"
        }
       ],
       "tagName": "div"
      },
      "text/html": [
       "<div><style>\n",
       "    div.mydiv{\n",
       "      width: 20%;\n",
       "      height: 10px;\n",
       "      background-color: green;\n",
       "      display: inline-block;\n",
       "    }\n",
       "    </style><div class=\"mydiv\"></div></div>"
      ],
      "text/plain": [
       "<div><style>\n",
       "    div.mydiv{\n",
       "      width: 20%;\n",
       "      height: 10px;\n",
       "      background-color: green;\n",
       "      display: inline-block;\n",
       "    }\n",
       "    </style><div class=\"mydiv\"></div></div>"
      ]
     },
     "execution_count": 3,
     "metadata": {},
     "output_type": "execute_result"
    }
   ],
   "source": [
    "div(\n",
    "    style(\n",
    "    \"\"\"\n",
    "    div.mydiv{\n",
    "      width: 20%;\n",
    "      height: 10px;\n",
    "      background-color: green;\n",
    "      display: inline-block;\n",
    "    }\n",
    "    \"\"\"),\n",
    "    div(**{\"class\": \"mydiv\"})\n",
    ")"
   ]
  },
  {
   "cell_type": "markdown",
   "metadata": {},
   "source": [
    "### Buidling a progressbar from styled divs"
   ]
  },
  {
   "cell_type": "code",
   "execution_count": 4,
   "metadata": {},
   "outputs": [],
   "source": [
    "def box(width, backgroundColor):\n",
    "    return div(\n",
    "        style=dict(\n",
    "            width=f\"{width}%\",\n",
    "            backgroundColor=backgroundColor,\n",
    "            height=\"20px\",\n",
    "            display=\"inline-block\",\n",
    "        )\n",
    "    )\n",
    "\n",
    "\n",
    "def progress(value=0.0, maximum=100.0):\n",
    "    percent = int(100*value / float(maximum))\n",
    "\n",
    "    return div(\n",
    "        box(percent, \"green\"),\n",
    "        box(100 - percent, \"#e7eee7\"),\n",
    "        style={\"width\": \"70%\"}\n",
    "    )\n",
    "    "
   ]
  },
  {
   "cell_type": "code",
   "execution_count": 5,
   "metadata": {},
   "outputs": [
    {
     "data": {
      "application/vdom.v1+json": {
       "attributes": {
        "style": {
         "width": "70%"
        }
       },
       "children": [
        {
         "attributes": {
          "style": {
           "backgroundColor": "green",
           "display": "inline-block",
           "height": "20px",
           "width": "100%"
          }
         },
         "children": [],
         "tagName": "div"
        },
        {
         "attributes": {
          "style": {
           "backgroundColor": "#e7eee7",
           "display": "inline-block",
           "height": "20px",
           "width": "0%"
          }
         },
         "children": [],
         "tagName": "div"
        }
       ],
       "tagName": "div"
      },
      "text/html": [
       "<div style=\"width: 70%\"><div style=\"background-color: green; display: inline-block; height: 20px; width: 100%\"></div><div style=\"background-color: #e7eee7; display: inline-block; height: 20px; width: 0%\"></div></div>"
      ],
      "text/plain": [
       "<div style=\"width: 70%\"><div style=\"background-color: green; display: inline-block; height: 20px; width: 100%\"></div><div style=\"background-color: #e7eee7; display: inline-block; height: 20px; width: 0%\"></div></div>"
      ]
     },
     "metadata": {},
     "output_type": "display_data"
    }
   ],
   "source": [
    "import time\n",
    "\n",
    "output = display(progress(), display_id=True)\n",
    "for step in range(101):\n",
    "    time.sleep(0.05)\n",
    "    output.update(progress(value=step))\n"
   ]
  },
  {
   "cell_type": "markdown",
   "metadata": {},
   "source": [
    "### Details around hidden progressbars"
   ]
  },
  {
   "cell_type": "code",
   "execution_count": 6,
   "metadata": {},
   "outputs": [],
   "source": [
    "from vdom import details, summary"
   ]
  },
  {
   "cell_type": "code",
   "execution_count": 7,
   "metadata": {},
   "outputs": [],
   "source": [
    "def hidden_progress(text=\"hide our progress bar here\", value=0.0, maximum=100.0):\n",
    "    return details(\n",
    "        summary(text), \n",
    "        progress(value=value, maximum=maximum)\n",
    "    )"
   ]
  },
  {
   "cell_type": "code",
   "execution_count": 8,
   "metadata": {
    "scrolled": true
   },
   "outputs": [
    {
     "data": {
      "application/vdom.v1+json": {
       "attributes": {},
       "children": [
        {
         "attributes": {},
         "children": [
          "hide our progress bar here"
         ],
         "tagName": "summary"
        },
        {
         "attributes": {
          "style": {
           "width": "70%"
          }
         },
         "children": [
          {
           "attributes": {
            "style": {
             "backgroundColor": "green",
             "display": "inline-block",
             "height": "20px",
             "width": "10%"
            }
           },
           "children": [],
           "tagName": "div"
          },
          {
           "attributes": {
            "style": {
             "backgroundColor": "#e7eee7",
             "display": "inline-block",
             "height": "20px",
             "width": "90%"
            }
           },
           "children": [],
           "tagName": "div"
          }
         ],
         "tagName": "div"
        }
       ],
       "tagName": "details"
      },
      "text/html": [
       "<details><summary>hide our progress bar here</summary><div style=\"width: 70%\"><div style=\"background-color: green; display: inline-block; height: 20px; width: 10%\"></div><div style=\"background-color: #e7eee7; display: inline-block; height: 20px; width: 90%\"></div></div></details>"
      ],
      "text/plain": [
       "<details><summary>hide our progress bar here</summary><div style=\"width: 70%\"><div style=\"background-color: green; display: inline-block; height: 20px; width: 10%\"></div><div style=\"background-color: #e7eee7; display: inline-block; height: 20px; width: 90%\"></div></div></details>"
      ]
     },
     "execution_count": 8,
     "metadata": {},
     "output_type": "execute_result"
    }
   ],
   "source": [
    "hidden_progress(value=10, maximum=100)"
   ]
  },
  {
   "cell_type": "code",
   "execution_count": 9,
   "metadata": {},
   "outputs": [
    {
     "data": {
      "application/vdom.v1+json": {
       "attributes": {},
       "children": [
        {
         "attributes": {},
         "children": [
          "hide our progress bar here"
         ],
         "tagName": "summary"
        },
        {
         "attributes": {
          "style": {
           "width": "70%"
          }
         },
         "children": [
          {
           "attributes": {
            "style": {
             "backgroundColor": "green",
             "display": "inline-block",
             "height": "20px",
             "width": "100%"
            }
           },
           "children": [],
           "tagName": "div"
          },
          {
           "attributes": {
            "style": {
             "backgroundColor": "#e7eee7",
             "display": "inline-block",
             "height": "20px",
             "width": "0%"
            }
           },
           "children": [],
           "tagName": "div"
          }
         ],
         "tagName": "div"
        }
       ],
       "tagName": "details"
      },
      "text/html": [
       "<details><summary>hide our progress bar here</summary><div style=\"width: 70%\"><div style=\"background-color: green; display: inline-block; height: 20px; width: 100%\"></div><div style=\"background-color: #e7eee7; display: inline-block; height: 20px; width: 0%\"></div></div></details>"
      ],
      "text/plain": [
       "<details><summary>hide our progress bar here</summary><div style=\"width: 70%\"><div style=\"background-color: green; display: inline-block; height: 20px; width: 100%\"></div><div style=\"background-color: #e7eee7; display: inline-block; height: 20px; width: 0%\"></div></div></details>"
      ]
     },
     "metadata": {},
     "output_type": "display_data"
    }
   ],
   "source": [
    "output = display(hidden_progress(), display_id=True)\n",
    "\n",
    "for step in range(101):\n",
    "    time.sleep(0.05)\n",
    "    output.update(hidden_progress(value=step))\n",
    "    "
   ]
  },
  {
   "cell_type": "code",
   "execution_count": 12,
   "metadata": {},
   "outputs": [],
   "source": [
    "from threading import Thread\n",
    "\n",
    "def nested_progress(val_list):\n",
    "    return details(\n",
    "             style(\"\"\"\n",
    "                    details details{\n",
    "                        padding-left: 2em;\n",
    "                    }\n",
    "                    \"\"\"),\n",
    "            summary(\"Here there be progress\"), \n",
    "            *[details(\n",
    "                summary(f\"Progress Bar {i}\"), \n",
    "                progress(val)\n",
    "              ) \n",
    "              for i, val in enumerate(val_list)\n",
    "             ]\n",
    "        )\n",
    "\n",
    "def multi_progress(timestep_list):\n",
    "    val_list = [0 for x in range(len(timestep_list))]\n",
    "    \n",
    "    my_handle = display(nested_progress(val_list), display_id=True)\n",
    "\n",
    "    def step(step_size, i):\n",
    "        for step in range(101):\n",
    "            time.sleep(step_size)\n",
    "            val_list[i]+=1\n",
    "            my_handle.update(nested_progress(val_list))\n",
    "            \n",
    "            \n",
    "    ts = [Thread(target=step, args=(step_size, i))\n",
    "          for i, step_size in enumerate(timestep_list)]\n",
    "    [t.start() for t in ts] \n",
    "    "
   ]
  },
  {
   "cell_type": "code",
   "execution_count": 13,
   "metadata": {},
   "outputs": [
    {
     "data": {
      "application/vdom.v1+json": {
       "attributes": {},
       "children": [
        {
         "attributes": {},
         "children": [
          "\n                    details details{\n                        padding-left: 2em;\n                    }\n                    "
         ],
         "tagName": "style"
        },
        {
         "attributes": {},
         "children": [
          "Here there be progress"
         ],
         "tagName": "summary"
        },
        {
         "attributes": {},
         "children": [
          {
           "attributes": {},
           "children": [
            "Progress Bar 0"
           ],
           "tagName": "summary"
          },
          {
           "attributes": {
            "style": {
             "width": "70%"
            }
           },
           "children": [
            {
             "attributes": {
              "style": {
               "backgroundColor": "green",
               "display": "inline-block",
               "height": "20px",
               "width": "101%"
              }
             },
             "children": [],
             "tagName": "div"
            },
            {
             "attributes": {
              "style": {
               "backgroundColor": "#e7eee7",
               "display": "inline-block",
               "height": "20px",
               "width": "-1%"
              }
             },
             "children": [],
             "tagName": "div"
            }
           ],
           "tagName": "div"
          }
         ],
         "tagName": "details"
        },
        {
         "attributes": {},
         "children": [
          {
           "attributes": {},
           "children": [
            "Progress Bar 1"
           ],
           "tagName": "summary"
          },
          {
           "attributes": {
            "style": {
             "width": "70%"
            }
           },
           "children": [
            {
             "attributes": {
              "style": {
               "backgroundColor": "green",
               "display": "inline-block",
               "height": "20px",
               "width": "101%"
              }
             },
             "children": [],
             "tagName": "div"
            },
            {
             "attributes": {
              "style": {
               "backgroundColor": "#e7eee7",
               "display": "inline-block",
               "height": "20px",
               "width": "-1%"
              }
             },
             "children": [],
             "tagName": "div"
            }
           ],
           "tagName": "div"
          }
         ],
         "tagName": "details"
        },
        {
         "attributes": {},
         "children": [
          {
           "attributes": {},
           "children": [
            "Progress Bar 2"
           ],
           "tagName": "summary"
          },
          {
           "attributes": {
            "style": {
             "width": "70%"
            }
           },
           "children": [
            {
             "attributes": {
              "style": {
               "backgroundColor": "green",
               "display": "inline-block",
               "height": "20px",
               "width": "101%"
              }
             },
             "children": [],
             "tagName": "div"
            },
            {
             "attributes": {
              "style": {
               "backgroundColor": "#e7eee7",
               "display": "inline-block",
               "height": "20px",
               "width": "-1%"
              }
             },
             "children": [],
             "tagName": "div"
            }
           ],
           "tagName": "div"
          }
         ],
         "tagName": "details"
        }
       ],
       "tagName": "details"
      },
      "text/html": [
       "<details><style>\n",
       "                    details details{\n",
       "                        padding-left: 2em;\n",
       "                    }\n",
       "                    </style><summary>Here there be progress</summary><details><summary>Progress Bar 0</summary><div style=\"width: 70%\"><div style=\"background-color: green; display: inline-block; height: 20px; width: 101%\"></div><div style=\"background-color: #e7eee7; display: inline-block; height: 20px; width: -1%\"></div></div></details><details><summary>Progress Bar 1</summary><div style=\"width: 70%\"><div style=\"background-color: green; display: inline-block; height: 20px; width: 101%\"></div><div style=\"background-color: #e7eee7; display: inline-block; height: 20px; width: -1%\"></div></div></details><details><summary>Progress Bar 2</summary><div style=\"width: 70%\"><div style=\"background-color: green; display: inline-block; height: 20px; width: 101%\"></div><div style=\"background-color: #e7eee7; display: inline-block; height: 20px; width: -1%\"></div></div></details></details>"
      ],
      "text/plain": [
       "<details><style>\n",
       "                    details details{\n",
       "                        padding-left: 2em;\n",
       "                    }\n",
       "                    </style><summary>Here there be progress</summary><details><summary>Progress Bar 0</summary><div style=\"width: 70%\"><div style=\"background-color: green; display: inline-block; height: 20px; width: 101%\"></div><div style=\"background-color: #e7eee7; display: inline-block; height: 20px; width: -1%\"></div></div></details><details><summary>Progress Bar 1</summary><div style=\"width: 70%\"><div style=\"background-color: green; display: inline-block; height: 20px; width: 101%\"></div><div style=\"background-color: #e7eee7; display: inline-block; height: 20px; width: -1%\"></div></div></details><details><summary>Progress Bar 2</summary><div style=\"width: 70%\"><div style=\"background-color: green; display: inline-block; height: 20px; width: 101%\"></div><div style=\"background-color: #e7eee7; display: inline-block; height: 20px; width: -1%\"></div></div></details></details>"
      ]
     },
     "metadata": {},
     "output_type": "display_data"
    }
   ],
   "source": [
    "multi_progress([.1,.12,.14])\n"
   ]
  },
  {
   "cell_type": "code",
   "execution_count": 14,
   "metadata": {
    "inputHidden": false,
    "outputHidden": false
   },
   "outputs": [
    {
     "name": "stdout",
     "output_type": "stream",
     "text": [
      "hi\n"
     ]
    }
   ],
   "source": [
    "print(\"hi\")"
   ]
  },
  {
   "cell_type": "code",
   "execution_count": null,
   "metadata": {},
   "outputs": [],
   "source": []
  }
 ],
 "metadata": {
  "kernelspec": {
   "display_name": "Python 3",
   "language": "python",
   "name": "python3"
  },
  "language_info": {
   "codemirror_mode": {
    "name": "ipython",
    "version": 3
   },
   "file_extension": ".py",
   "mimetype": "text/x-python",
   "name": "python",
   "nbconvert_exporter": "python",
   "pygments_lexer": "ipython3",
   "version": "3.6.5"
  },
  "nteract": {
   "version": "nteract-on-jupyter@1.9.2"
  }
 },
 "nbformat": 4,
 "nbformat_minor": 2
}
